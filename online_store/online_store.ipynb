{
 "cells": [
  {
   "cell_type": "markdown",
   "metadata": {},
   "source": [
    "# Проект и его описание"
   ]
  },
  {
   "cell_type": "markdown",
   "metadata": {},
   "source": [
    "Вы — аналитик крупного интернет-магазина. Вместе с отделом маркетинга вы подготовили список гипотез для увеличения выручки.\n",
    "Приоритизируйте гипотезы, запустите A/B-тест и проанализируйте результаты."
   ]
  },
  {
   "cell_type": "markdown",
   "metadata": {},
   "source": [
    "## Ознакомление с файлами и предобработка данных"
   ]
  },
  {
   "cell_type": "markdown",
   "metadata": {},
   "source": [
    "Импорт необходимых библиотек и параметров"
   ]
  },
  {
   "cell_type": "code",
   "execution_count": 1,
   "metadata": {},
   "outputs": [],
   "source": [
    "import pandas as pd\n",
    "import numpy as np\n",
    "import matplotlib.pyplot as plt\n",
    "from scipy import stats\n",
    "import datetime as dt\n",
    "pd.options.mode.chained_assignment = None\n",
    "pd.set_option('display.max_columns', None)\n",
    "pd.options.display.max_colwidth = 100\n",
    "from pylab import rcParams\n",
    "rcParams['figure.figsize'] = 20, 10"
   ]
  },
  {
   "cell_type": "markdown",
   "metadata": {},
   "source": [
    "### Ознакомимся с данными файла hypothesis"
   ]
  },
  {
   "cell_type": "code",
   "execution_count": 2,
   "metadata": {},
   "outputs": [
    {
     "name": "stdout",
     "output_type": "stream",
     "text": [
      "<class 'pandas.core.frame.DataFrame'>\n",
      "RangeIndex: 9 entries, 0 to 8\n",
      "Data columns (total 5 columns):\n",
      " #   Column      Non-Null Count  Dtype \n",
      "---  ------      --------------  ----- \n",
      " 0   Hypothesis  9 non-null      object\n",
      " 1   Reach       9 non-null      int64 \n",
      " 2   Impact      9 non-null      int64 \n",
      " 3   Confidence  9 non-null      int64 \n",
      " 4   Efforts     9 non-null      int64 \n",
      "dtypes: int64(4), object(1)\n",
      "memory usage: 488.0+ bytes\n"
     ]
    },
    {
     "data": {
      "text/html": [
       "<div>\n",
       "<style scoped>\n",
       "    .dataframe tbody tr th:only-of-type {\n",
       "        vertical-align: middle;\n",
       "    }\n",
       "\n",
       "    .dataframe tbody tr th {\n",
       "        vertical-align: top;\n",
       "    }\n",
       "\n",
       "    .dataframe thead th {\n",
       "        text-align: right;\n",
       "    }\n",
       "</style>\n",
       "<table border=\"1\" class=\"dataframe\">\n",
       "  <thead>\n",
       "    <tr style=\"text-align: right;\">\n",
       "      <th></th>\n",
       "      <th>Hypothesis</th>\n",
       "      <th>Reach</th>\n",
       "      <th>Impact</th>\n",
       "      <th>Confidence</th>\n",
       "      <th>Efforts</th>\n",
       "    </tr>\n",
       "  </thead>\n",
       "  <tbody>\n",
       "    <tr>\n",
       "      <th>0</th>\n",
       "      <td>Добавить два новых канала привлечения трафика, что позволит привлекать на 30% больше пользователей</td>\n",
       "      <td>3</td>\n",
       "      <td>10</td>\n",
       "      <td>8</td>\n",
       "      <td>6</td>\n",
       "    </tr>\n",
       "    <tr>\n",
       "      <th>1</th>\n",
       "      <td>Запустить собственную службу доставки, что сократит срок доставки заказов</td>\n",
       "      <td>2</td>\n",
       "      <td>5</td>\n",
       "      <td>4</td>\n",
       "      <td>10</td>\n",
       "    </tr>\n",
       "    <tr>\n",
       "      <th>2</th>\n",
       "      <td>Добавить блоки рекомендаций товаров на сайт интернет магазина, чтобы повысить конверсию и средни...</td>\n",
       "      <td>8</td>\n",
       "      <td>3</td>\n",
       "      <td>7</td>\n",
       "      <td>3</td>\n",
       "    </tr>\n",
       "    <tr>\n",
       "      <th>3</th>\n",
       "      <td>Изменить структура категорий, что увеличит конверсию, т.к. пользователи быстрее найдут нужный товар</td>\n",
       "      <td>8</td>\n",
       "      <td>3</td>\n",
       "      <td>3</td>\n",
       "      <td>8</td>\n",
       "    </tr>\n",
       "    <tr>\n",
       "      <th>4</th>\n",
       "      <td>Изменить цвет фона главной страницы, чтобы увеличить вовлеченность пользователей</td>\n",
       "      <td>3</td>\n",
       "      <td>1</td>\n",
       "      <td>1</td>\n",
       "      <td>1</td>\n",
       "    </tr>\n",
       "    <tr>\n",
       "      <th>5</th>\n",
       "      <td>Добавить страницу отзывов клиентов о магазине, что позволит увеличить количество заказов</td>\n",
       "      <td>3</td>\n",
       "      <td>2</td>\n",
       "      <td>2</td>\n",
       "      <td>3</td>\n",
       "    </tr>\n",
       "    <tr>\n",
       "      <th>6</th>\n",
       "      <td>Показать на главной странице баннеры с актуальными акциями и распродажами, чтобы увеличить конве...</td>\n",
       "      <td>5</td>\n",
       "      <td>3</td>\n",
       "      <td>8</td>\n",
       "      <td>3</td>\n",
       "    </tr>\n",
       "    <tr>\n",
       "      <th>7</th>\n",
       "      <td>Добавить форму подписки на все основные страницы, чтобы собрать базу клиентов для email-рассылок</td>\n",
       "      <td>10</td>\n",
       "      <td>7</td>\n",
       "      <td>8</td>\n",
       "      <td>5</td>\n",
       "    </tr>\n",
       "    <tr>\n",
       "      <th>8</th>\n",
       "      <td>Запустить акцию, дающую скидку на товар в день рождения</td>\n",
       "      <td>1</td>\n",
       "      <td>9</td>\n",
       "      <td>9</td>\n",
       "      <td>5</td>\n",
       "    </tr>\n",
       "  </tbody>\n",
       "</table>\n",
       "</div>"
      ],
      "text/plain": [
       "                                                                                            Hypothesis  \\\n",
       "0   Добавить два новых канала привлечения трафика, что позволит привлекать на 30% больше пользователей   \n",
       "1                            Запустить собственную службу доставки, что сократит срок доставки заказов   \n",
       "2  Добавить блоки рекомендаций товаров на сайт интернет магазина, чтобы повысить конверсию и средни...   \n",
       "3  Изменить структура категорий, что увеличит конверсию, т.к. пользователи быстрее найдут нужный товар   \n",
       "4                     Изменить цвет фона главной страницы, чтобы увеличить вовлеченность пользователей   \n",
       "5             Добавить страницу отзывов клиентов о магазине, что позволит увеличить количество заказов   \n",
       "6  Показать на главной странице баннеры с актуальными акциями и распродажами, чтобы увеличить конве...   \n",
       "7     Добавить форму подписки на все основные страницы, чтобы собрать базу клиентов для email-рассылок   \n",
       "8                                              Запустить акцию, дающую скидку на товар в день рождения   \n",
       "\n",
       "   Reach  Impact  Confidence  Efforts  \n",
       "0      3      10           8        6  \n",
       "1      2       5           4       10  \n",
       "2      8       3           7        3  \n",
       "3      8       3           3        8  \n",
       "4      3       1           1        1  \n",
       "5      3       2           2        3  \n",
       "6      5       3           8        3  \n",
       "7     10       7           8        5  \n",
       "8      1       9           9        5  "
      ]
     },
     "execution_count": 2,
     "metadata": {},
     "output_type": "execute_result"
    }
   ],
   "source": [
    "hypothesis = pd.read_csv('/datasets/hypothesis.csv')\n",
    "hypothesis.info()\n",
    "hypothesis.head(10)"
   ]
  },
  {
   "cell_type": "markdown",
   "metadata": {},
   "source": [
    "Дата-сет состоит из пяти полей:\n",
    "- `Hypothesis` краткое описание гипотезы;\n",
    "- `Reach` охват пользователей по 10-балльной шкале;\n",
    "- `Impact` влияние на пользователей по 10-балльной шкале;\n",
    "- `Confidence` уверенность в гипотезе по 10-балльной шкале;\n",
    "- `Efforts` затраты ресурсов на проверку гипотезы по 10-балльной шкале.\n",
    "<br> Наименования столбцов не соответствуют принятым правилам оформления."
   ]
  },
  {
   "cell_type": "markdown",
   "metadata": {},
   "source": [
    "Просмотрим уникальные значения"
   ]
  },
  {
   "cell_type": "code",
   "execution_count": 3,
   "metadata": {},
   "outputs": [
    {
     "name": "stdout",
     "output_type": "stream",
     "text": [
      "Hypothesis\n",
      "Добавить блоки рекомендаций товаров на сайт интернет магазина, чтобы повысить конверсию и средний чек заказа    1\n",
      "Добавить два новых канала привлечения трафика, что позволит привлекать на 30% больше пользователей              1\n",
      "Добавить страницу отзывов клиентов о магазине, что позволит увеличить количество заказов                        1\n",
      "Добавить форму подписки на все основные страницы, чтобы собрать базу клиентов для email-рассылок                1\n",
      "Запустить акцию, дающую скидку на товар в день рождения                                                         1\n",
      "Запустить собственную службу доставки, что сократит срок доставки заказов                                       1\n",
      "Изменить структура категорий, что увеличит конверсию, т.к. пользователи быстрее найдут нужный товар             1\n",
      "Изменить цвет фона главной страницы, чтобы увеличить вовлеченность пользователей                                1\n",
      "Показать на главной странице баннеры с актуальными акциями и распродажами, чтобы увеличить конверсию            1\n",
      "Name: Hypothesis, dtype: int64\n",
      "************************************************************\n",
      "Reach\n",
      "1     1\n",
      "2     1\n",
      "3     3\n",
      "5     1\n",
      "8     2\n",
      "10    1\n",
      "Name: Reach, dtype: int64\n",
      "************************************************************\n",
      "Impact\n",
      "1     1\n",
      "2     1\n",
      "3     3\n",
      "5     1\n",
      "7     1\n",
      "9     1\n",
      "10    1\n",
      "Name: Impact, dtype: int64\n",
      "************************************************************\n",
      "Confidence\n",
      "1    1\n",
      "2    1\n",
      "3    1\n",
      "4    1\n",
      "7    1\n",
      "8    3\n",
      "9    1\n",
      "Name: Confidence, dtype: int64\n",
      "************************************************************\n",
      "Efforts\n",
      "1     1\n",
      "3     3\n",
      "5     2\n",
      "6     1\n",
      "8     1\n",
      "10    1\n",
      "Name: Efforts, dtype: int64\n",
      "************************************************************\n"
     ]
    }
   ],
   "source": [
    "for row in hypothesis:\n",
    "    print(row)\n",
    "    print(hypothesis[row].value_counts(dropna=False).sort_index(ascending=True))\n",
    "    print('*'*60)"
   ]
  },
  {
   "cell_type": "markdown",
   "metadata": {},
   "source": [
    "### Ознакомимся с данными файла orders"
   ]
  },
  {
   "cell_type": "code",
   "execution_count": 4,
   "metadata": {},
   "outputs": [
    {
     "name": "stdout",
     "output_type": "stream",
     "text": [
      "<class 'pandas.core.frame.DataFrame'>\n",
      "RangeIndex: 1197 entries, 0 to 1196\n",
      "Data columns (total 5 columns):\n",
      " #   Column         Non-Null Count  Dtype \n",
      "---  ------         --------------  ----- \n",
      " 0   transactionId  1197 non-null   int64 \n",
      " 1   visitorId      1197 non-null   int64 \n",
      " 2   date           1197 non-null   object\n",
      " 3   revenue        1197 non-null   int64 \n",
      " 4   group          1197 non-null   object\n",
      "dtypes: int64(3), object(2)\n",
      "memory usage: 46.9+ KB\n"
     ]
    },
    {
     "data": {
      "text/html": [
       "<div>\n",
       "<style scoped>\n",
       "    .dataframe tbody tr th:only-of-type {\n",
       "        vertical-align: middle;\n",
       "    }\n",
       "\n",
       "    .dataframe tbody tr th {\n",
       "        vertical-align: top;\n",
       "    }\n",
       "\n",
       "    .dataframe thead th {\n",
       "        text-align: right;\n",
       "    }\n",
       "</style>\n",
       "<table border=\"1\" class=\"dataframe\">\n",
       "  <thead>\n",
       "    <tr style=\"text-align: right;\">\n",
       "      <th></th>\n",
       "      <th>transactionId</th>\n",
       "      <th>visitorId</th>\n",
       "      <th>date</th>\n",
       "      <th>revenue</th>\n",
       "      <th>group</th>\n",
       "    </tr>\n",
       "  </thead>\n",
       "  <tbody>\n",
       "    <tr>\n",
       "      <th>0</th>\n",
       "      <td>3667963787</td>\n",
       "      <td>3312258926</td>\n",
       "      <td>2019-08-15</td>\n",
       "      <td>1650</td>\n",
       "      <td>B</td>\n",
       "    </tr>\n",
       "    <tr>\n",
       "      <th>1</th>\n",
       "      <td>2804400009</td>\n",
       "      <td>3642806036</td>\n",
       "      <td>2019-08-15</td>\n",
       "      <td>730</td>\n",
       "      <td>B</td>\n",
       "    </tr>\n",
       "    <tr>\n",
       "      <th>2</th>\n",
       "      <td>2961555356</td>\n",
       "      <td>4069496402</td>\n",
       "      <td>2019-08-15</td>\n",
       "      <td>400</td>\n",
       "      <td>A</td>\n",
       "    </tr>\n",
       "    <tr>\n",
       "      <th>3</th>\n",
       "      <td>3797467345</td>\n",
       "      <td>1196621759</td>\n",
       "      <td>2019-08-15</td>\n",
       "      <td>9759</td>\n",
       "      <td>B</td>\n",
       "    </tr>\n",
       "    <tr>\n",
       "      <th>4</th>\n",
       "      <td>2282983706</td>\n",
       "      <td>2322279887</td>\n",
       "      <td>2019-08-15</td>\n",
       "      <td>2308</td>\n",
       "      <td>B</td>\n",
       "    </tr>\n",
       "  </tbody>\n",
       "</table>\n",
       "</div>"
      ],
      "text/plain": [
       "   transactionId   visitorId        date  revenue group\n",
       "0     3667963787  3312258926  2019-08-15     1650     B\n",
       "1     2804400009  3642806036  2019-08-15      730     B\n",
       "2     2961555356  4069496402  2019-08-15      400     A\n",
       "3     3797467345  1196621759  2019-08-15     9759     B\n",
       "4     2282983706  2322279887  2019-08-15     2308     B"
      ]
     },
     "execution_count": 4,
     "metadata": {},
     "output_type": "execute_result"
    }
   ],
   "source": [
    "orders = pd.read_csv('/datasets/orders.csv')\n",
    "orders.info()\n",
    "orders.head()"
   ]
  },
  {
   "cell_type": "markdown",
   "metadata": {},
   "source": [
    "Дата-сет состоит из пяти полей:\n",
    "- `transactionId` идентификатор заказа;\n",
    "- `visitorId`  идентификатор пользователя, совершившего заказ;\n",
    "- `date` дата, когда был совершён заказ;\n",
    "- `revenue` выручка заказа;\n",
    "- `group` группа A/B-теста, в которую попал заказ.\n",
    "<br> Наименования столбцов соответствует правилам оформления."
   ]
  },
  {
   "cell_type": "markdown",
   "metadata": {},
   "source": [
    "Просмотрим уникальные значения"
   ]
  },
  {
   "cell_type": "code",
   "execution_count": 5,
   "metadata": {},
   "outputs": [
    {
     "name": "stdout",
     "output_type": "stream",
     "text": [
      "transactionId\n",
      "1062393       1\n",
      "4919758       1\n",
      "7210578       1\n",
      "8131427       1\n",
      "11068804      1\n",
      "             ..\n",
      "4276811111    1\n",
      "4279408906    1\n",
      "4281129020    1\n",
      "4288552432    1\n",
      "4293855558    1\n",
      "Name: transactionId, Length: 1197, dtype: int64\n",
      "************************************************************\n",
      "visitorId\n",
      "5114589       1\n",
      "6958315       1\n",
      "8300375       2\n",
      "11685486      1\n",
      "39475350      1\n",
      "             ..\n",
      "4266935830    2\n",
      "4278982564    1\n",
      "4279090005    1\n",
      "4281247801    1\n",
      "4283872382    1\n",
      "Name: visitorId, Length: 1031, dtype: int64\n",
      "************************************************************\n",
      "date\n",
      "2019-08-01    45\n",
      "2019-08-02    44\n",
      "2019-08-03    40\n",
      "2019-08-04    33\n",
      "2019-08-05    48\n",
      "2019-08-06    46\n",
      "2019-08-07    42\n",
      "2019-08-08    43\n",
      "2019-08-09    41\n",
      "2019-08-10    39\n",
      "2019-08-11    26\n",
      "2019-08-12    47\n",
      "2019-08-13    35\n",
      "2019-08-14    47\n",
      "2019-08-15    46\n",
      "2019-08-16    38\n",
      "2019-08-17    24\n",
      "2019-08-18    26\n",
      "2019-08-19    43\n",
      "2019-08-20    32\n",
      "2019-08-21    37\n",
      "2019-08-22    41\n",
      "2019-08-23    40\n",
      "2019-08-24    31\n",
      "2019-08-25    24\n",
      "2019-08-26    41\n",
      "2019-08-27    44\n",
      "2019-08-28    45\n",
      "2019-08-29    42\n",
      "2019-08-30    35\n",
      "2019-08-31    32\n",
      "Name: date, dtype: int64\n",
      "************************************************************\n",
      "revenue\n",
      "50         4\n",
      "60         2\n",
      "70         1\n",
      "75         1\n",
      "76         1\n",
      "          ..\n",
      "86620      1\n",
      "92550      1\n",
      "93940      1\n",
      "202740     1\n",
      "1294500    1\n",
      "Name: revenue, Length: 713, dtype: int64\n",
      "************************************************************\n",
      "group\n",
      "A    557\n",
      "B    640\n",
      "Name: group, dtype: int64\n",
      "************************************************************\n"
     ]
    }
   ],
   "source": [
    "for row in orders:\n",
    "    print(row)\n",
    "    print(orders[row].value_counts(dropna=False).sort_index(ascending=True))\n",
    "    print('*'*60)"
   ]
  },
  {
   "cell_type": "markdown",
   "metadata": {},
   "source": [
    "### Ознакомимся с данными файла visitors"
   ]
  },
  {
   "cell_type": "code",
   "execution_count": 6,
   "metadata": {},
   "outputs": [
    {
     "name": "stdout",
     "output_type": "stream",
     "text": [
      "<class 'pandas.core.frame.DataFrame'>\n",
      "RangeIndex: 62 entries, 0 to 61\n",
      "Data columns (total 3 columns):\n",
      " #   Column    Non-Null Count  Dtype \n",
      "---  ------    --------------  ----- \n",
      " 0   date      62 non-null     object\n",
      " 1   group     62 non-null     object\n",
      " 2   visitors  62 non-null     int64 \n",
      "dtypes: int64(1), object(2)\n",
      "memory usage: 1.6+ KB\n"
     ]
    },
    {
     "data": {
      "text/html": [
       "<div>\n",
       "<style scoped>\n",
       "    .dataframe tbody tr th:only-of-type {\n",
       "        vertical-align: middle;\n",
       "    }\n",
       "\n",
       "    .dataframe tbody tr th {\n",
       "        vertical-align: top;\n",
       "    }\n",
       "\n",
       "    .dataframe thead th {\n",
       "        text-align: right;\n",
       "    }\n",
       "</style>\n",
       "<table border=\"1\" class=\"dataframe\">\n",
       "  <thead>\n",
       "    <tr style=\"text-align: right;\">\n",
       "      <th></th>\n",
       "      <th>date</th>\n",
       "      <th>group</th>\n",
       "      <th>visitors</th>\n",
       "    </tr>\n",
       "  </thead>\n",
       "  <tbody>\n",
       "    <tr>\n",
       "      <th>0</th>\n",
       "      <td>2019-08-01</td>\n",
       "      <td>A</td>\n",
       "      <td>719</td>\n",
       "    </tr>\n",
       "    <tr>\n",
       "      <th>1</th>\n",
       "      <td>2019-08-02</td>\n",
       "      <td>A</td>\n",
       "      <td>619</td>\n",
       "    </tr>\n",
       "    <tr>\n",
       "      <th>2</th>\n",
       "      <td>2019-08-03</td>\n",
       "      <td>A</td>\n",
       "      <td>507</td>\n",
       "    </tr>\n",
       "    <tr>\n",
       "      <th>3</th>\n",
       "      <td>2019-08-04</td>\n",
       "      <td>A</td>\n",
       "      <td>717</td>\n",
       "    </tr>\n",
       "    <tr>\n",
       "      <th>4</th>\n",
       "      <td>2019-08-05</td>\n",
       "      <td>A</td>\n",
       "      <td>756</td>\n",
       "    </tr>\n",
       "  </tbody>\n",
       "</table>\n",
       "</div>"
      ],
      "text/plain": [
       "         date group  visitors\n",
       "0  2019-08-01     A       719\n",
       "1  2019-08-02     A       619\n",
       "2  2019-08-03     A       507\n",
       "3  2019-08-04     A       717\n",
       "4  2019-08-05     A       756"
      ]
     },
     "execution_count": 6,
     "metadata": {},
     "output_type": "execute_result"
    }
   ],
   "source": [
    "visitors = pd.read_csv('/datasets/visitors.csv')\n",
    "visitors.info()\n",
    "visitors.head()"
   ]
  },
  {
   "cell_type": "markdown",
   "metadata": {},
   "source": [
    "Дата-сет состоит из трех полей:\n",
    "- `date` дата;\n",
    "- `group` группа A/B-теста;\n",
    "- `visitors` количество пользователей в указанную дату в указанной группе A/B-теста\n",
    "<br> Наименования столбцов соответствует правилам оформления."
   ]
  },
  {
   "cell_type": "markdown",
   "metadata": {},
   "source": [
    "Просмотрим уникальные значения"
   ]
  },
  {
   "cell_type": "code",
   "execution_count": 7,
   "metadata": {},
   "outputs": [
    {
     "name": "stdout",
     "output_type": "stream",
     "text": [
      "date\n",
      "2019-08-01    2\n",
      "2019-08-02    2\n",
      "2019-08-03    2\n",
      "2019-08-04    2\n",
      "2019-08-05    2\n",
      "2019-08-06    2\n",
      "2019-08-07    2\n",
      "2019-08-08    2\n",
      "2019-08-09    2\n",
      "2019-08-10    2\n",
      "2019-08-11    2\n",
      "2019-08-12    2\n",
      "2019-08-13    2\n",
      "2019-08-14    2\n",
      "2019-08-15    2\n",
      "2019-08-16    2\n",
      "2019-08-17    2\n",
      "2019-08-18    2\n",
      "2019-08-19    2\n",
      "2019-08-20    2\n",
      "2019-08-21    2\n",
      "2019-08-22    2\n",
      "2019-08-23    2\n",
      "2019-08-24    2\n",
      "2019-08-25    2\n",
      "2019-08-26    2\n",
      "2019-08-27    2\n",
      "2019-08-28    2\n",
      "2019-08-29    2\n",
      "2019-08-30    2\n",
      "2019-08-31    2\n",
      "Name: date, dtype: int64\n",
      "************************************************************\n",
      "group\n",
      "A    31\n",
      "B    31\n",
      "Name: group, dtype: int64\n",
      "************************************************************\n",
      "visitors\n",
      "361    1\n",
      "369    1\n",
      "378    1\n",
      "395    1\n",
      "406    1\n",
      "412    1\n",
      "413    1\n",
      "421    1\n",
      "468    1\n",
      "487    1\n",
      "490    2\n",
      "502    1\n",
      "507    1\n",
      "509    1\n",
      "531    1\n",
      "543    1\n",
      "544    1\n",
      "546    1\n",
      "560    1\n",
      "575    1\n",
      "577    1\n",
      "581    1\n",
      "594    1\n",
      "595    1\n",
      "609    1\n",
      "610    2\n",
      "617    1\n",
      "619    1\n",
      "621    1\n",
      "628    1\n",
      "644    1\n",
      "646    1\n",
      "650    1\n",
      "654    2\n",
      "655    1\n",
      "656    1\n",
      "667    1\n",
      "668    1\n",
      "676    1\n",
      "679    1\n",
      "699    1\n",
      "707    1\n",
      "709    1\n",
      "711    1\n",
      "713    1\n",
      "717    1\n",
      "718    2\n",
      "719    1\n",
      "720    1\n",
      "721    1\n",
      "722    1\n",
      "735    1\n",
      "737    1\n",
      "746    1\n",
      "748    1\n",
      "756    1\n",
      "769    1\n",
      "770    1\n",
      "Name: visitors, dtype: int64\n",
      "************************************************************\n"
     ]
    }
   ],
   "source": [
    "for row in visitors:\n",
    "    print(row)\n",
    "    print(visitors[row].value_counts(dropna=False).sort_index(ascending=True))\n",
    "    print('*'*60)"
   ]
  },
  {
   "cell_type": "markdown",
   "metadata": {},
   "source": [
    "### Проверим таблицы на явные дубликаты"
   ]
  },
  {
   "cell_type": "code",
   "execution_count": 8,
   "metadata": {},
   "outputs": [
    {
     "name": "stdout",
     "output_type": "stream",
     "text": [
      "В таблице 1 явных дубликатов 0\n",
      "************************************************************\n",
      "В таблице 2 явных дубликатов 0\n",
      "************************************************************\n",
      "В таблице 3 явных дубликатов 0\n",
      "************************************************************\n"
     ]
    }
   ],
   "source": [
    "i = 1\n",
    "for row in (hypothesis, orders, visitors):\n",
    "    print('В таблице', i, 'явных дубликатов', row.duplicated().sum())\n",
    "    print('*'*60)\n",
    "    i += 1"
   ]
  },
  {
   "cell_type": "markdown",
   "metadata": {},
   "source": [
    "### Предобработка данных"
   ]
  },
  {
   "cell_type": "markdown",
   "metadata": {},
   "source": [
    "Из очевидных несоответствий - дата в формате object. Переведем дату (в первой и второй таблице) в формат даты"
   ]
  },
  {
   "cell_type": "code",
   "execution_count": 9,
   "metadata": {},
   "outputs": [],
   "source": [
    "orders['date'] = orders['date'].astype('datetime64')\n",
    "orders['date'] = orders['date'].map(lambda x: dt.datetime.strftime(x, '%Y-%m-%d'))\n",
    "visitors['date'] = visitors['date'].astype('datetime64')\n",
    "visitors['date'] = visitors['date'].map(lambda x: dt.datetime.strftime(x, '%Y-%m-%d'))"
   ]
  },
  {
   "cell_type": "markdown",
   "metadata": {},
   "source": [
    "Наименования столбцов файла hypothesis не соответствует установленным правилам (змеиному регистру)"
   ]
  },
  {
   "cell_type": "code",
   "execution_count": 10,
   "metadata": {},
   "outputs": [
    {
     "data": {
      "text/html": [
       "<div>\n",
       "<style scoped>\n",
       "    .dataframe tbody tr th:only-of-type {\n",
       "        vertical-align: middle;\n",
       "    }\n",
       "\n",
       "    .dataframe tbody tr th {\n",
       "        vertical-align: top;\n",
       "    }\n",
       "\n",
       "    .dataframe thead th {\n",
       "        text-align: right;\n",
       "    }\n",
       "</style>\n",
       "<table border=\"1\" class=\"dataframe\">\n",
       "  <thead>\n",
       "    <tr style=\"text-align: right;\">\n",
       "      <th></th>\n",
       "      <th>0</th>\n",
       "      <th>1</th>\n",
       "      <th>2</th>\n",
       "      <th>3</th>\n",
       "      <th>4</th>\n",
       "    </tr>\n",
       "  </thead>\n",
       "  <tbody>\n",
       "    <tr>\n",
       "      <th>hypothesis</th>\n",
       "      <td>Добавить два новых канала привлечения трафика, что позволит привлекать на 30% больше пользователей</td>\n",
       "      <td>Запустить собственную службу доставки, что сократит срок доставки заказов</td>\n",
       "      <td>Добавить блоки рекомендаций товаров на сайт интернет магазина, чтобы повысить конверсию и средни...</td>\n",
       "      <td>Изменить структура категорий, что увеличит конверсию, т.к. пользователи быстрее найдут нужный товар</td>\n",
       "      <td>Изменить цвет фона главной страницы, чтобы увеличить вовлеченность пользователей</td>\n",
       "    </tr>\n",
       "    <tr>\n",
       "      <th>reach</th>\n",
       "      <td>3</td>\n",
       "      <td>2</td>\n",
       "      <td>8</td>\n",
       "      <td>8</td>\n",
       "      <td>3</td>\n",
       "    </tr>\n",
       "    <tr>\n",
       "      <th>impact</th>\n",
       "      <td>10</td>\n",
       "      <td>5</td>\n",
       "      <td>3</td>\n",
       "      <td>3</td>\n",
       "      <td>1</td>\n",
       "    </tr>\n",
       "    <tr>\n",
       "      <th>confidence</th>\n",
       "      <td>8</td>\n",
       "      <td>4</td>\n",
       "      <td>7</td>\n",
       "      <td>3</td>\n",
       "      <td>1</td>\n",
       "    </tr>\n",
       "    <tr>\n",
       "      <th>efforts</th>\n",
       "      <td>6</td>\n",
       "      <td>10</td>\n",
       "      <td>3</td>\n",
       "      <td>8</td>\n",
       "      <td>1</td>\n",
       "    </tr>\n",
       "  </tbody>\n",
       "</table>\n",
       "</div>"
      ],
      "text/plain": [
       "                                                                                                             0  \\\n",
       "hypothesis  Добавить два новых канала привлечения трафика, что позволит привлекать на 30% больше пользователей   \n",
       "reach                                                                                                        3   \n",
       "impact                                                                                                      10   \n",
       "confidence                                                                                                   8   \n",
       "efforts                                                                                                      6   \n",
       "\n",
       "                                                                                    1  \\\n",
       "hypothesis  Запустить собственную службу доставки, что сократит срок доставки заказов   \n",
       "reach                                                                               2   \n",
       "impact                                                                              5   \n",
       "confidence                                                                          4   \n",
       "efforts                                                                            10   \n",
       "\n",
       "                                                                                                              2  \\\n",
       "hypothesis  Добавить блоки рекомендаций товаров на сайт интернет магазина, чтобы повысить конверсию и средни...   \n",
       "reach                                                                                                         8   \n",
       "impact                                                                                                        3   \n",
       "confidence                                                                                                    7   \n",
       "efforts                                                                                                       3   \n",
       "\n",
       "                                                                                                              3  \\\n",
       "hypothesis  Изменить структура категорий, что увеличит конверсию, т.к. пользователи быстрее найдут нужный товар   \n",
       "reach                                                                                                         8   \n",
       "impact                                                                                                        3   \n",
       "confidence                                                                                                    3   \n",
       "efforts                                                                                                       8   \n",
       "\n",
       "                                                                                           4  \n",
       "hypothesis  Изменить цвет фона главной страницы, чтобы увеличить вовлеченность пользователей  \n",
       "reach                                                                                      3  \n",
       "impact                                                                                     1  \n",
       "confidence                                                                                 1  \n",
       "efforts                                                                                    1  "
      ]
     },
     "execution_count": 10,
     "metadata": {},
     "output_type": "execute_result"
    }
   ],
   "source": [
    "hypothesis.columns = hypothesis.columns.str.lower()\n",
    "hypothesis.head().T"
   ]
  },
  {
   "cell_type": "markdown",
   "metadata": {},
   "source": [
    "### Вывод по главе 1"
   ]
  },
  {
   "cell_type": "markdown",
   "metadata": {},
   "source": [
    "Предобработка данных завершена успешно"
   ]
  },
  {
   "cell_type": "markdown",
   "metadata": {},
   "source": [
    "## Приоритизация гипотез"
   ]
  },
  {
   "cell_type": "markdown",
   "metadata": {},
   "source": [
    "###  Приоритизации гипотез при помощи фреймворка ICE"
   ]
  },
  {
   "cell_type": "markdown",
   "metadata": {},
   "source": [
    "Расчетная формула имеет вид\n",
    "$$ICE = \\frac{impact * confidence}{efforts}$$"
   ]
  },
  {
   "cell_type": "code",
   "execution_count": 11,
   "metadata": {},
   "outputs": [
    {
     "name": "stdout",
     "output_type": "stream",
     "text": [
      "                                                                                            hypothesis  \\\n",
      "8                                              Запустить акцию, дающую скидку на товар в день рождения   \n",
      "0   Добавить два новых канала привлечения трафика, что позволит привлекать на 30% больше пользователей   \n",
      "7     Добавить форму подписки на все основные страницы, чтобы собрать базу клиентов для email-рассылок   \n",
      "6  Показать на главной странице баннеры с актуальными акциями и распродажами, чтобы увеличить конве...   \n",
      "2  Добавить блоки рекомендаций товаров на сайт интернет магазина, чтобы повысить конверсию и средни...   \n",
      "1                            Запустить собственную службу доставки, что сократит срок доставки заказов   \n",
      "5             Добавить страницу отзывов клиентов о магазине, что позволит увеличить количество заказов   \n",
      "3  Изменить структура категорий, что увеличит конверсию, т.к. пользователи быстрее найдут нужный товар   \n",
      "4                     Изменить цвет фона главной страницы, чтобы увеличить вовлеченность пользователей   \n",
      "\n",
      "     ice  \n",
      "8  16.20  \n",
      "0  13.33  \n",
      "7  11.20  \n",
      "6   8.00  \n",
      "2   7.00  \n",
      "1   2.00  \n",
      "5   1.33  \n",
      "3   1.12  \n",
      "4   1.00  \n"
     ]
    }
   ],
   "source": [
    "hypothesis['ice'] = (\n",
    "    hypothesis['impact'] * \n",
    "    hypothesis['confidence'] / \n",
    "    hypothesis['efforts']\n",
    ").round(2)\n",
    "print(hypothesis[['hypothesis', 'ice']].sort_values(by='ice', ascending=False))"
   ]
  },
  {
   "cell_type": "markdown",
   "metadata": {},
   "source": [
    "### Приоритизации гипотез при помощи фреймворка RICE"
   ]
  },
  {
   "cell_type": "markdown",
   "metadata": {},
   "source": [
    "Расчетная формула имеет вид\n",
    "$$RICE = \\frac{rearch * impact * confidence}{efforts}$$"
   ]
  },
  {
   "cell_type": "code",
   "execution_count": 12,
   "metadata": {},
   "outputs": [
    {
     "name": "stdout",
     "output_type": "stream",
     "text": [
      "                                                                                            hypothesis  \\\n",
      "7     Добавить форму подписки на все основные страницы, чтобы собрать базу клиентов для email-рассылок   \n",
      "2  Добавить блоки рекомендаций товаров на сайт интернет магазина, чтобы повысить конверсию и средни...   \n",
      "0   Добавить два новых канала привлечения трафика, что позволит привлекать на 30% больше пользователей   \n",
      "6  Показать на главной странице баннеры с актуальными акциями и распродажами, чтобы увеличить конве...   \n",
      "8                                              Запустить акцию, дающую скидку на товар в день рождения   \n",
      "3  Изменить структура категорий, что увеличит конверсию, т.к. пользователи быстрее найдут нужный товар   \n",
      "1                            Запустить собственную службу доставки, что сократит срок доставки заказов   \n",
      "5             Добавить страницу отзывов клиентов о магазине, что позволит увеличить количество заказов   \n",
      "4                     Изменить цвет фона главной страницы, чтобы увеличить вовлеченность пользователей   \n",
      "\n",
      "    rice  \n",
      "7  112.0  \n",
      "2   56.0  \n",
      "0   40.0  \n",
      "6   40.0  \n",
      "8   16.2  \n",
      "3    9.0  \n",
      "1    4.0  \n",
      "5    4.0  \n",
      "4    3.0  \n"
     ]
    }
   ],
   "source": [
    "hypothesis['rice'] = (\n",
    "    hypothesis['reach'] * \n",
    "    hypothesis['impact'] * \n",
    "    hypothesis['confidence'] / \n",
    "    hypothesis['efforts']\n",
    ").round(2)\n",
    "print(hypothesis[['hypothesis', 'rice']].sort_values(by='rice', ascending=False))"
   ]
  },
  {
   "cell_type": "markdown",
   "metadata": {},
   "source": [
    "### Выводы по главе 2"
   ]
  },
  {
   "cell_type": "markdown",
   "metadata": {},
   "source": [
    "- При применении критерия ice наиболее приорететными являются гипотезы 8, 0 и 7\n",
    "- При применении критерия rice наиболее приорететной является гипотеза 7, также важными являются гипотезы 2, 0 и 6 \n",
    "<br>\n",
    "<br> Различие возникает по причине того, что в ходе расчета не принималось во внимание сколько пользователей затронет данная гипотеза (максимальный охват как раз у гипотезы 7 - 10 баллов из 10)\n",
    "<br> \n",
    "<br> При комплексном рассмотрении критериев `ice` и `rice` примем, что приоритетными гипотезами будут:\n",
    "- **гипотеза 7** добавить форму подписки на все основные страницы, чтобы собрать базу клиентов для email-рассылок,\n",
    "- **гипотеза 2** добавить блоки рекомендаций товаров на сайт интернет магазина, чтобы повысить конверсию и средний чек заказа,\n",
    "- **гипотеза 0** добавить два новых канала привлечения трафика, что позволит привлекать на 30% больше пользователей     "
   ]
  },
  {
   "cell_type": "markdown",
   "metadata": {},
   "source": [
    "## Проверка датасетов на корректность заполнения"
   ]
  },
  {
   "cell_type": "markdown",
   "metadata": {},
   "source": [
    "Проверим есть ли пользователи, у которых нет ни одной группы"
   ]
  },
  {
   "cell_type": "code",
   "execution_count": 13,
   "metadata": {},
   "outputs": [
    {
     "data": {
      "text/plain": [
       "0"
      ]
     },
     "execution_count": 13,
     "metadata": {},
     "output_type": "execute_result"
    }
   ],
   "source": [
    "dubl_users_0 = orders.groupby('visitorId').agg({'group': 'nunique'}).query('group == 0')\n",
    "dubl_users_0.shape[0]"
   ]
  },
  {
   "cell_type": "markdown",
   "metadata": {},
   "source": [
    "Проверим есть ли пользователи, у которых две группы"
   ]
  },
  {
   "cell_type": "code",
   "execution_count": 14,
   "metadata": {},
   "outputs": [
    {
     "name": "stdout",
     "output_type": "stream",
     "text": [
      "58\n"
     ]
    },
    {
     "data": {
      "text/html": [
       "<div>\n",
       "<style scoped>\n",
       "    .dataframe tbody tr th:only-of-type {\n",
       "        vertical-align: middle;\n",
       "    }\n",
       "\n",
       "    .dataframe tbody tr th {\n",
       "        vertical-align: top;\n",
       "    }\n",
       "\n",
       "    .dataframe thead th {\n",
       "        text-align: right;\n",
       "    }\n",
       "</style>\n",
       "<table border=\"1\" class=\"dataframe\">\n",
       "  <thead>\n",
       "    <tr style=\"text-align: right;\">\n",
       "      <th></th>\n",
       "      <th>group</th>\n",
       "    </tr>\n",
       "    <tr>\n",
       "      <th>visitorId</th>\n",
       "      <th></th>\n",
       "    </tr>\n",
       "  </thead>\n",
       "  <tbody>\n",
       "    <tr>\n",
       "      <th>8300375</th>\n",
       "      <td>2</td>\n",
       "    </tr>\n",
       "    <tr>\n",
       "      <th>199603092</th>\n",
       "      <td>2</td>\n",
       "    </tr>\n",
       "    <tr>\n",
       "      <th>232979603</th>\n",
       "      <td>2</td>\n",
       "    </tr>\n",
       "    <tr>\n",
       "      <th>237748145</th>\n",
       "      <td>2</td>\n",
       "    </tr>\n",
       "    <tr>\n",
       "      <th>276558944</th>\n",
       "      <td>2</td>\n",
       "    </tr>\n",
       "  </tbody>\n",
       "</table>\n",
       "</div>"
      ],
      "text/plain": [
       "           group\n",
       "visitorId       \n",
       "8300375        2\n",
       "199603092      2\n",
       "232979603      2\n",
       "237748145      2\n",
       "276558944      2"
      ]
     },
     "execution_count": 14,
     "metadata": {},
     "output_type": "execute_result"
    }
   ],
   "source": [
    "dubl_users_2 = orders.groupby('visitorId').agg({'group': 'nunique'}).query('group == 2')\n",
    "print(dubl_users_2.shape[0])\n",
    "dubl_users_2.head()"
   ]
  },
  {
   "cell_type": "markdown",
   "metadata": {},
   "source": [
    "Существует 58 пользователей, которые попали и в группу А, и в группу В (как как на этапе предобработки мы посмотрели уникальные значения групп и увидели, что на самом деле группы бывают только А и В)\n",
    "<br> Оставим данные пользователей и не будем их удалять, так как иначе таблица visitors будет содержать некооректные данные с данными пользователями  "
   ]
  },
  {
   "cell_type": "markdown",
   "metadata": {},
   "source": [
    "## Непараметрический тест Уилкоксона-Манна-Уитни "
   ]
  },
  {
   "cell_type": "markdown",
   "metadata": {},
   "source": [
    "Для количества поcетителей в группах А и В\n",
    "<br> Нулевая гипотеза Н0 - между количеством посетителей в группах А и В есть различия\n",
    "<br> Альтернативная гипотеза Н1 - между количеством посетителей в группах А и В нет различий"
   ]
  },
  {
   "cell_type": "markdown",
   "metadata": {},
   "source": [
    "Примем уровень значимости 0,05"
   ]
  },
  {
   "cell_type": "code",
   "execution_count": 15,
   "metadata": {},
   "outputs": [
    {
     "name": "stdout",
     "output_type": "stream",
     "text": [
      "Количество посетителей в группе А:\n",
      "18736\n",
      "Количество посетителей в группе B:\n",
      "18916\n",
      "p-значение: 1.000\n"
     ]
    }
   ],
   "source": [
    "visitors_A = visitors[visitors['group']=='A']['visitors'].sum()\n",
    "visitors_B = visitors[visitors['group']=='B']['visitors'].sum()\n",
    "print('Количество посетителей в группе А:', visitors_A, \n",
    "      'Количество посетителей в группе B:', visitors_B, sep='\\n')\n",
    "print('p-значение:', '{0:.3f}'.format(\n",
    "    stats.mannwhitneyu(visitors_A, visitors_B)[1]\n",
    ")\n",
    "     )"
   ]
  },
  {
   "cell_type": "markdown",
   "metadata": {},
   "source": [
    "Отвергаем нулевую гипотезу, следовательно, **разница в количестве посетителей в группах A и B статистически не значима**"
   ]
  },
  {
   "cell_type": "markdown",
   "metadata": {},
   "source": [
    "Для количества заказов в группах А и В\n",
    "Нулевая гипотеза Н0 - между количеством заказов в группах А и В есть различия\n",
    "Альтернативная гипотеза Н1 - между количеством заказов в группах А и В нет различий"
   ]
  },
  {
   "cell_type": "markdown",
   "metadata": {},
   "source": [
    "Следовательно, так как разница в количестве посетителей в группах A и B статистически не значима, то можно приступать к анализу проведенного A/B-теста"
   ]
  },
  {
   "cell_type": "code",
   "execution_count": 17,
   "metadata": {},
   "outputs": [
    {
     "data": {
      "text/plain": [
       "transactionId    557\n",
       "visitorId        557\n",
       "date             557\n",
       "revenue          557\n",
       "group            557\n",
       "dtype: int64"
      ]
     },
     "execution_count": 17,
     "metadata": {},
     "output_type": "execute_result"
    }
   ],
   "source": [
    "# CODE REVIEWER\n",
    "orders[orders['group']=='A'].count()"
   ]
  },
  {
   "cell_type": "markdown",
   "metadata": {},
   "source": [
    "## Анализ A/B-теста"
   ]
  },
  {
   "cell_type": "markdown",
   "metadata": {},
   "source": [
    "### График кумулятивной выручки по группам"
   ]
  },
  {
   "cell_type": "code",
   "execution_count": 18,
   "metadata": {},
   "outputs": [
    {
     "name": "stdout",
     "output_type": "stream",
     "text": [
      "         date group  orders  buyers  revenue  visitors\n",
      "0  2019-08-01     A      24      20   148579       719\n",
      "1  2019-08-01     B      21      20   101217       713\n",
      "2  2019-08-02     A      44      38   242401      1338\n",
      "3  2019-08-02     B      45      43   266748      1294\n",
      "4  2019-08-03     A      68      62   354874      1845\n"
     ]
    }
   ],
   "source": [
    "datesGroups = orders[['date','group']].drop_duplicates()\n",
    "ordersAggregated = datesGroups.apply(\n",
    "    lambda x: orders[np.logical_and(orders['date'] <= x['date'], \n",
    "                                    orders['group'] == x['group']\n",
    "                                   )]\n",
    "    .agg(\n",
    "        {'date' : 'max', \n",
    "         'group' : 'max', \n",
    "         'transactionId' : 'nunique', \n",
    "         'visitorId' : 'nunique', \n",
    "         'revenue' : 'sum'}\n",
    "    ), axis=1).sort_values(by=['date','group'])\n",
    "\n",
    "visitorsAggregated = datesGroups.apply(\n",
    "    lambda x: visitors[np.logical_and(visitors['date'] <= x['date'], \n",
    "                                      visitors['group'] == x['group']\n",
    "                                     )]\n",
    "    .agg(\n",
    "        {'date' : 'max', \n",
    "         'group' : 'max', \n",
    "         'visitors' : 'sum'}\n",
    "    ), axis=1).sort_values(by=['date','group'])\n",
    "\n",
    "cumulativeData = ordersAggregated.merge(\n",
    "    visitorsAggregated, left_on=['date', 'group'], right_on=['date', 'group']\n",
    ")\n",
    "cumulativeData.columns = ['date', 'group', 'orders', 'buyers', 'revenue', 'visitors']\n",
    "\n",
    "print(cumulativeData.head()) "
   ]
  },
  {
   "cell_type": "code",
   "execution_count": 19,
   "metadata": {},
   "outputs": [
    {
     "data": {
      "image/png": "[encoded data removed]",
      "text/plain": [
       "<Figure size 1440x720 with 1 Axes>"
      ]
     },
     "metadata": {
      "needs_background": "light"
     },
     "output_type": "display_data"
    }
   ],
   "source": [
    "# датафрейм с кумулятивным количеством заказов и кумулятивной выручкой по дням в группе А\n",
    "cumulativeRevenueA = cumulativeData[cumulativeData['group']=='A'][['date','revenue', 'orders']]\n",
    "\n",
    "# датафрейм с кумулятивным количеством заказов и кумулятивной выручкой по дням в группе B\n",
    "cumulativeRevenueB = cumulativeData[cumulativeData['group']=='B'][['date','revenue', 'orders']]\n",
    "\n",
    "# Строим график выручки группы А\n",
    "plt.plot(cumulativeRevenueA['date'], cumulativeRevenueA['revenue'], label='A')\n",
    "\n",
    "# Строим график выручки группы B\n",
    "plt.plot(cumulativeRevenueB['date'], cumulativeRevenueB['revenue'], label='B')\n",
    "plt.legend()\n",
    "plt.ylabel('Выручка, ден. ед.')\n",
    "plt.xlabel('Дата')\n",
    "plt.title('Изменение кумулятивной выручки по группам')\n",
    "plt.xticks(rotation=45)\n",
    "plt.show();"
   ]
  },
  {
   "cell_type": "markdown",
   "metadata": {},
   "source": [
    "Выручка почти равномерно увеличивается в течение всего теста, но при этом графики выручки обеих групп в нескольких точках резко растут. Это может сигнализировать о всплесках числа заказов, либо о появлении очень дорогих заказов в выборке.\n",
    "<br> Вынеем предположение, что 18-19 августа 2019 года в группе В произошло какое-то аномальное событие, либо было очень много заказов, либо был один очень крупный заказ\n",
    "<br> Проверим это"
   ]
  },
  {
   "cell_type": "code",
   "execution_count": 20,
   "metadata": {},
   "outputs": [
    {
     "name": "stdout",
     "output_type": "stream",
     "text": [
      "date       2019-08-19\n",
      "revenue       1294500\n",
      "dtype: object date       2019-08-18\n",
      "revenue            50\n",
      "dtype: object revenue    49858.366667\n",
      "dtype: float64\n"
     ]
    }
   ],
   "source": [
    "orders_inf_B = orders[orders['group']=='B'][['date','revenue']]\n",
    "B_18_19 = orders_inf_B.query('\"2019-08-18\" <= date <= \"2019-08-19\"')\n",
    "\n",
    "print(B_18_19.max(), B_18_19.min(), B_18_19.mean())"
   ]
  },
  {
   "cell_type": "markdown",
   "metadata": {},
   "source": [
    "Следовательно, действительно 19 августа 2019 года был совершен аномально большой заказ с выручкой около 1,3 млн. руб. Это спровоцировало скачок кумулятивной выручки в группе В"
   ]
  },
  {
   "cell_type": "markdown",
   "metadata": {},
   "source": [
    "###  График кумулятивного среднего чека по группам"
   ]
  },
  {
   "cell_type": "code",
   "execution_count": 21,
   "metadata": {},
   "outputs": [
    {
     "data": {
      "image/png": "[encoded data removed]",
      "text/plain": [
       "<Figure size 1440x720 with 1 Axes>"
      ]
     },
     "metadata": {
      "needs_background": "light"
     },
     "output_type": "display_data"
    }
   ],
   "source": [
    "plt.plot(\n",
    "    cumulativeRevenueA['date'], cumulativeRevenueA['revenue']/cumulativeRevenueA['orders'], label='A'\n",
    ")\n",
    "plt.plot(\n",
    "    cumulativeRevenueB['date'], cumulativeRevenueB['revenue']/cumulativeRevenueB['orders'], label='B'\n",
    ")\n",
    "plt.legend()\n",
    "plt.title('Изменение кумулятивного среднего чека по группам')\n",
    "plt.ylabel('Среднй чек, ден. ед.')\n",
    "plt.xlabel('Дата')\n",
    "plt.xticks(rotation=45)\n",
    "plt.show();"
   ]
  },
  {
   "cell_type": "markdown",
   "metadata": {},
   "source": [
    "Средний чек становится равномерным ближе к концу теста: установился для группы A и продолжает падать для группы B. \n",
    "<br> Выше мы обратили внимание на то, что в группе B 19 августа был совершен очень крупный заказ (что дало резкий всплеск на графике)"
   ]
  },
  {
   "cell_type": "markdown",
   "metadata": {},
   "source": [
    "### График относительного изменения кумулятивного среднего чека группы B к группе A"
   ]
  },
  {
   "cell_type": "code",
   "execution_count": 22,
   "metadata": {},
   "outputs": [
    {
     "data": {
      "image/png": "[encoded data removed]",
      "text/plain": [
       "<Figure size 1440x720 with 1 Axes>"
      ]
     },
     "metadata": {
      "needs_background": "light"
     },
     "output_type": "display_data"
    }
   ],
   "source": [
    "# собираем данные в одном датафрейме\n",
    "mergedCumulativeRevenue = cumulativeRevenueA.merge(\n",
    "    cumulativeRevenueB, left_on='date', right_on='date', how='left', suffixes=['A', 'B']\n",
    ")\n",
    "\n",
    "# cтроим отношение средних чеков\n",
    "plt.plot(\n",
    "    mergedCumulativeRevenue['date'], \n",
    "    (\n",
    "        mergedCumulativeRevenue['revenueB']/mergedCumulativeRevenue['ordersB'])/\n",
    "    (mergedCumulativeRevenue['revenueA']/mergedCumulativeRevenue['ordersA']\n",
    "    )-1\n",
    ")\n",
    "\n",
    "# добавляем ось X\n",
    "plt.axhline(y=0, color='black', linestyle='--')\n",
    "plt.title('Относительное изменение кумулятивного среднего чека группы B к группе А')\n",
    "plt.xticks(rotation=45)\n",
    "plt.xlabel('Дата')\n",
    "plt.show();"
   ]
  },
  {
   "cell_type": "markdown",
   "metadata": {},
   "source": [
    "В нескольких точках график различия между сегментами резко «скачет», это обусловлено особо крупными заказами"
   ]
  },
  {
   "cell_type": "markdown",
   "metadata": {},
   "source": [
    "### График кумулятивной конверсии по группам"
   ]
  },
  {
   "cell_type": "code",
   "execution_count": 23,
   "metadata": {},
   "outputs": [
    {
     "data": {
      "image/png": "[encoded data removed]",
      "text/plain": [
       "<Figure size 1440x720 with 1 Axes>"
      ]
     },
     "metadata": {
      "needs_background": "light"
     },
     "output_type": "display_data"
    }
   ],
   "source": [
    "# считаем кумулятивную конверсию\n",
    "cumulativeData['conversion'] = cumulativeData['orders']/cumulativeData['visitors']\n",
    "\n",
    "# отделяем данные по группе A\n",
    "cumulativeDataA = cumulativeData[cumulativeData['group']=='A']\n",
    "\n",
    "# отделяем данные по группе B\n",
    "cumulativeDataB = cumulativeData[cumulativeData['group']=='B']\n",
    "\n",
    "# строим графики\n",
    "plt.plot(cumulativeDataA['date'], cumulativeDataA['conversion'], label='A')\n",
    "plt.plot(cumulativeDataB['date'], cumulativeDataB['conversion'], label='B')\n",
    "plt.legend()\n",
    "plt.xticks(rotation=45)\n",
    "plt.title('Изменение кумулятивной конверсии по группам')\n",
    "plt.ylabel('Кумулятивная конверсия')\n",
    "plt.xlabel('Дата')\n",
    "plt.show();"
   ]
  },
  {
   "cell_type": "markdown",
   "metadata": {},
   "source": [
    "Группы колебались около одного значения, но затем конверсия группы В намного вырвалась вперёд и зафиксировалась, а конверсия группы А просела и также зафиксировалась."
   ]
  },
  {
   "cell_type": "markdown",
   "metadata": {},
   "source": [
    "### График относительного изменения кумулятивной конверсии группы B к группе A"
   ]
  },
  {
   "cell_type": "code",
   "execution_count": 24,
   "metadata": {},
   "outputs": [
    {
     "data": {
      "image/png": "[encoded data removed]",
      "text/plain": [
       "<Figure size 1440x720 with 1 Axes>"
      ]
     },
     "metadata": {
      "needs_background": "light"
     },
     "output_type": "display_data"
    }
   ],
   "source": [
    "mergedCumulativeConversions = (\n",
    "    cumulativeDataA[['date','conversion']]\n",
    ").merge(\n",
    "    cumulativeDataB[['date','conversion']], \n",
    "    left_on='date', \n",
    "    right_on='date', \n",
    "    how='left', \n",
    "    suffixes=['A', 'B']\n",
    ")\n",
    "\n",
    "plt.plot(\n",
    "    mergedCumulativeConversions['date'],\n",
    "    mergedCumulativeConversions['conversionB']/mergedCumulativeConversions['conversionA']-1, \n",
    "    label=\"Относительный прирост кумулятивной конверсии группы B к группе A\"\n",
    ")\n",
    "plt.legend()\n",
    "\n",
    "plt.axhline(y=0, color='black', linestyle='--')\n",
    "plt.axhline(y=0.14, color='grey', linestyle='--')\n",
    "plt.title('Относительное изменение кумулятивной конверсии группы B к группе А')\n",
    "plt.xlabel('Дата')\n",
    "plt.xticks(rotation=45)\n",
    "plt.show();"
   ]
  },
  {
   "cell_type": "markdown",
   "metadata": {},
   "source": [
    "В начале теста группа B значительно проигрывала группе A, затем вырвалась вперёд. Потом её конверсия снова падала, но теперь постепенно растёт."
   ]
  },
  {
   "cell_type": "markdown",
   "metadata": {},
   "source": [
    "### Точечный график количества заказов по пользователям\n"
   ]
  },
  {
   "cell_type": "code",
   "execution_count": 25,
   "metadata": {},
   "outputs": [
    {
     "name": "stdout",
     "output_type": "stream",
     "text": [
      "          userId  orders\n",
      "1023  4256040402      11\n",
      "591   2458001652      11\n",
      "569   2378935119       9\n",
      "487   2038680547       8\n",
      "44     199603092       5\n",
      "744   3062433592       5\n",
      "55     237748145       5\n",
      "917   3803269165       5\n",
      "299   1230306981       5\n",
      "897   3717692402       5\n"
     ]
    }
   ],
   "source": [
    "ordersByUsers = (\n",
    "    orders.groupby('visitorId', as_index=False)\n",
    "    .agg({'transactionId': 'nunique'})\n",
    ")\n",
    "\n",
    "ordersByUsers.columns = ['userId', 'orders']\n",
    "\n",
    "print(ordersByUsers.sort_values(by='orders', ascending=False).head(10))"
   ]
  },
  {
   "cell_type": "code",
   "execution_count": 26,
   "metadata": {},
   "outputs": [
    {
     "data": {
      "image/png": "[encoded data removed]",
      "text/plain": [
       "<Figure size 1440x720 with 1 Axes>"
      ]
     },
     "metadata": {
      "needs_background": "light"
     },
     "output_type": "display_data"
    }
   ],
   "source": [
    "x_values = pd.Series(range(0,len(ordersByUsers)))\n",
    "\n",
    "plt.scatter(x_values, ordersByUsers['orders'])\n",
    "plt.title('Количество заказов на одного пользователя')\n",
    "plt.ylabel('Количество заказов')\n",
    "plt.show();"
   ]
  },
  {
   "cell_type": "markdown",
   "metadata": {},
   "source": [
    "Есть много пользователей с 2-6 заказами, пользователей, которые совершили более 6 заказов единичное количество"
   ]
  },
  {
   "cell_type": "markdown",
   "metadata": {},
   "source": [
    "### Расчет 95-й и 99-й перцентили количества заказов на пользователя\n"
   ]
  },
  {
   "cell_type": "code",
   "execution_count": 27,
   "metadata": {},
   "outputs": [
    {
     "name": "stdout",
     "output_type": "stream",
     "text": [
      "[1. 2. 4.]\n"
     ]
    }
   ],
   "source": [
    "percentile_users = np.percentile(ordersByUsers['orders'], [90, 95, 99])\n",
    "print(percentile_users)"
   ]
  },
  {
   "cell_type": "markdown",
   "metadata": {},
   "source": [
    "Не более 5% пользователей совершили 2 задака и не более 1% 4 заказа\n",
    "<br> За нижнюю границу числа заказов выберем 2 заказа"
   ]
  },
  {
   "cell_type": "markdown",
   "metadata": {},
   "source": [
    "### Точечный график стоимостей заказов"
   ]
  },
  {
   "cell_type": "code",
   "execution_count": 28,
   "metadata": {},
   "outputs": [
    {
     "data": {
      "image/png": "[encoded data removed]",
      "text/plain": [
       "<Figure size 1440x720 with 1 Axes>"
      ]
     },
     "metadata": {
      "needs_background": "light"
     },
     "output_type": "display_data"
    }
   ],
   "source": [
    "x_values = pd.Series(range(0,len(orders['revenue'])))\n",
    "plt.scatter(x_values, orders['revenue'])\n",
    "plt.title('Стоимость заказов на одного пользователя')\n",
    "plt.ylabel('Стоимость заказов')\n",
    "plt.xlabel('Дата');"
   ]
  },
  {
   "cell_type": "markdown",
   "metadata": {},
   "source": [
    "Есть один очень дорогой заказ. По графику можно выбрать границу аномальных заказов около 0,2 ден. ед.\n",
    "<br> Для уточнения рассчитаем 95 и 99 перцентили"
   ]
  },
  {
   "cell_type": "markdown",
   "metadata": {},
   "source": [
    "### Расчет 95-й и 99-й перцентили стоимости заказов\n"
   ]
  },
  {
   "cell_type": "code",
   "execution_count": 29,
   "metadata": {},
   "outputs": [
    {
     "name": "stdout",
     "output_type": "stream",
     "text": [
      "[18168.  28000.  58233.2]\n"
     ]
    }
   ],
   "source": [
    "percentile_orders = np.percentile(orders['revenue'], [90, 95, 99])\n",
    "print(percentile_orders) "
   ]
  },
  {
   "cell_type": "markdown",
   "metadata": {},
   "source": [
    "Не более 5% заказов дороже 28 000 рублей и не более 1% дороже 58 233,2 рублей\n",
    "<br> За нижнюю границу стоимости заказов выберем 28 000 руб."
   ]
  },
  {
   "cell_type": "markdown",
   "metadata": {},
   "source": [
    "### Расчет статистической значимости различий в конверсии между группами по «сырым» данным"
   ]
  },
  {
   "cell_type": "code",
   "execution_count": 30,
   "metadata": {},
   "outputs": [],
   "source": [
    "ordersByUsersA = (\n",
    "    orders[orders['group'] == 'A']\n",
    "    .groupby('visitorId', as_index=False)\n",
    "    .agg({'transactionId': pd.Series.nunique})\n",
    ")\n",
    "ordersByUsersA.columns = ['visitorId', 'orders']\n",
    "\n",
    "ordersByUsersB = (\n",
    "    orders[orders['group'] == 'B']\n",
    "    .groupby('visitorId', as_index=False)\n",
    "    .agg({'transactionId': pd.Series.nunique})\n",
    ")\n",
    "ordersByUsersB.columns = ['visitorId', 'orders'] "
   ]
  },
  {
   "cell_type": "code",
   "execution_count": 31,
   "metadata": {},
   "outputs": [],
   "source": [
    "visitorsADaily = visitors[visitors['group'] == 'A'][['date', 'visitors']]\n",
    "visitorsADaily.columns = ['date', 'visitorsPerDateA']\n",
    "\n",
    "visitorsACummulative = visitorsADaily.apply(\n",
    "    lambda x: visitorsADaily[visitorsADaily['date'] <= x['date']].agg(\n",
    "        {'date': 'max', 'visitorsPerDateA': 'sum'}\n",
    "    ),\n",
    "    axis=1,\n",
    ")\n",
    "visitorsACummulative.columns = ['date', 'visitorsCummulativeA']\n",
    "\n",
    "visitorsBDaily = visitors[visitors['group'] == 'B'][['date', 'visitors']]\n",
    "visitorsBDaily.columns = ['date', 'visitorsPerDateB']\n",
    "\n",
    "visitorsBCummulative = visitorsBDaily.apply(\n",
    "    lambda x: visitorsBDaily[visitorsBDaily['date'] <= x['date']].agg(\n",
    "        {'date': 'max', 'visitorsPerDateB': 'sum'}\n",
    "    ),\n",
    "    axis=1,\n",
    ")\n",
    "visitorsBCummulative.columns = ['date', 'visitorsCummulativeB']\n",
    "\n",
    "ordersADaily = (\n",
    "    orders[orders['group'] == 'A'][['date', 'transactionId', 'visitorId', 'revenue']]\n",
    "    .groupby('date', as_index=False)\n",
    "    .agg({'transactionId': pd.Series.nunique, 'revenue': 'sum'})\n",
    ")\n",
    "ordersADaily.columns = ['date', 'ordersPerDateA', 'revenuePerDateA']\n",
    "\n",
    "ordersACummulative = ordersADaily.apply(\n",
    "    lambda x: ordersADaily[ordersADaily['date'] <= x['date']].agg(\n",
    "        {'date': 'max', 'ordersPerDateA': 'sum', 'revenuePerDateA': 'sum'}\n",
    "    ),\n",
    "    axis=1,\n",
    ").sort_values(by=['date'])\n",
    "ordersACummulative.columns = [\n",
    "    'date',\n",
    "    'ordersCummulativeA',\n",
    "    'revenueCummulativeA',\n",
    "]\n",
    "\n",
    "ordersBDaily = (\n",
    "    orders[orders['group'] == 'B'][['date', 'transactionId', 'visitorId', 'revenue']]\n",
    "    .groupby('date', as_index=False)\n",
    "    .agg({'transactionId': pd.Series.nunique, 'revenue': 'sum'})\n",
    ")\n",
    "ordersBDaily.columns = ['date', 'ordersPerDateB', 'revenuePerDateB']\n",
    "\n",
    "ordersBCummulative = ordersBDaily.apply(\n",
    "    lambda x: ordersBDaily[ordersBDaily['date'] <= x['date']].agg(\n",
    "        {'date': 'max', 'ordersPerDateB': 'sum', 'revenuePerDateB': 'sum'}\n",
    "    ),\n",
    "    axis=1,\n",
    ").sort_values(by=['date'])\n",
    "ordersBCummulative.columns = [\n",
    "    'date',\n",
    "    'ordersCummulativeB',\n",
    "    'revenueCummulativeB',\n",
    "]"
   ]
  },
  {
   "cell_type": "code",
   "execution_count": 32,
   "metadata": {},
   "outputs": [],
   "source": [
    "data = (\n",
    "    ordersADaily.merge(\n",
    "        ordersBDaily, left_on='date', right_on='date', how='left'\n",
    "    )\n",
    "    .merge(ordersACummulative, left_on='date', right_on='date', how='left')\n",
    "    .merge(ordersBCummulative, left_on='date', right_on='date', how='left')\n",
    "    .merge(visitorsADaily, left_on='date', right_on='date', how='left')\n",
    "    .merge(visitorsBDaily, left_on='date', right_on='date', how='left')\n",
    "    .merge(visitorsACummulative, left_on='date', right_on='date', how='left')\n",
    "    .merge(visitorsBCummulative, left_on='date', right_on='date', how='left')\n",
    ")\n",
    "\n",
    "pd.Series(0, index=np.arange(\n",
    "    data['visitorsPerDateA'].sum() - len(ordersByUsersA['orders'])\n",
    "), name='orders')\n",
    "[ordersByUsersA['orders'],pd.Series(\n",
    "    0, index=np.arange(data['visitorsPerDateA'].sum() - len(ordersByUsersA['orders'])\n",
    "                      ), name='orders')]\n",
    "\n",
    "sampleA = pd.concat(\n",
    "    [ordersByUsersA['orders'],pd.Series(\n",
    "        0, index=np.arange(data['visitorsPerDateA'].sum() - len(ordersByUsersA['orders'])\n",
    "                          ), name='orders')],axis=0\n",
    ")\n",
    "\n",
    "sampleB = pd.concat(\n",
    "    [ordersByUsersB['orders'],pd.Series(\n",
    "        0, index=np.arange(data['visitorsPerDateB'].sum() - len(ordersByUsersB['orders'])\n",
    "                          ), name='orders')],axis=0\n",
    ")"
   ]
  },
  {
   "cell_type": "markdown",
   "metadata": {},
   "source": [
    "Нулевая гипотеза Н0: в исходных данных в конверсии между группами нет статистически значимых различий\n",
    "<br> Альтернативная гипотеза Н1: в исходных данных в конверсии между группами есть статистически значимые различия"
   ]
  },
  {
   "cell_type": "code",
   "execution_count": 33,
   "metadata": {},
   "outputs": [
    {
     "name": "stdout",
     "output_type": "stream",
     "text": [
      "0.017\n",
      "0.138\n"
     ]
    }
   ],
   "source": [
    "print(\"{0:.3f}\".format(stats.mannwhitneyu(sampleA, sampleB)[1]))\n",
    "\n",
    "print(\n",
    "    \"{0:.3f}\".format((data['ordersPerDateB'].sum()/data['visitorsPerDateB'].sum())/\n",
    "                     (data['ordersPerDateA'].sum()/data['visitorsPerDateA'].sum())-1)\n",
    ")"
   ]
  },
  {
   "cell_type": "markdown",
   "metadata": {},
   "source": [
    "По «сырым» данным есть различия в конверсии групп A и B.\n",
    "<br> Первое число — p-value = 0.017 меньше 0.05. \n",
    "<br> Значит, нулевую гипотезу о том, что статистически значимых различий в конверсии между группами нет, отвергаем. \n",
    "<br> Относительный проигрыш группы B равен 13.8% — второе число в выводе."
   ]
  },
  {
   "cell_type": "markdown",
   "metadata": {},
   "source": [
    "### Расчет статистической значимости различий в среднем чеке заказа между группами по «сырым» данным"
   ]
  },
  {
   "cell_type": "markdown",
   "metadata": {},
   "source": [
    "Нулевая гипотеза Н0: в исходных данных в среднем чеке заказа между группами нет статистически значимых различий\n",
    "Альтернативная гипотеза Н1: в исходных данных в среднем чеке заказа между группами есть статистически значимые различия"
   ]
  },
  {
   "cell_type": "code",
   "execution_count": 34,
   "metadata": {},
   "outputs": [
    {
     "name": "stdout",
     "output_type": "stream",
     "text": [
      "0.729\n",
      "0.259\n"
     ]
    }
   ],
   "source": [
    "print('{0:.3f}'.format(\n",
    "    stats.mannwhitneyu(orders[orders['group']=='A']['revenue'], \n",
    "                       orders[orders['group']=='B']['revenue']\n",
    "                      )[1])\n",
    "     )\n",
    "print('{0:.3f}'.format(\n",
    "    orders[orders['group']=='B']['revenue'].mean()/orders[orders['group']=='A']['revenue'].mean()-1)\n",
    "     )"
   ]
  },
  {
   "cell_type": "markdown",
   "metadata": {},
   "source": [
    "Первое число — p-value = 0.729 больше 0.05. Значит, нулевую гипотезу о том, что статистически значимых различий в конверсии между группами нет, не отвергаем.\n",
    "<br> Второе число в выводе, относительный выигрыш группы B равен 25.9%"
   ]
  },
  {
   "cell_type": "markdown",
   "metadata": {},
   "source": [
    "### Расчет статистической значимости различий в конверсии между группами по «очищенным» данным"
   ]
  },
  {
   "cell_type": "markdown",
   "metadata": {},
   "source": [
    "Узнаем, сколько всего аномальных пользователей методом shape()"
   ]
  },
  {
   "cell_type": "markdown",
   "metadata": {},
   "source": [
    "Примем за аномальных пользователей тех, кто совершил более 2 заказов или совершил заказ дороже 28 000 рублей. "
   ]
  },
  {
   "cell_type": "code",
   "execution_count": 35,
   "metadata": {},
   "outputs": [
    {
     "name": "stdout",
     "output_type": "stream",
     "text": [
      "1099    148427295\n",
      "18      199603092\n",
      "928     204675465\n",
      "23      237748145\n",
      "37      249864742\n",
      "Name: visitorId, dtype: int64\n",
      "(74,)\n"
     ]
    }
   ],
   "source": [
    "usersWithManyOrders = pd.concat(\n",
    "    [\n",
    "        ordersByUsersA[ordersByUsersA['orders'] > percentile_users[1]]['visitorId'],\n",
    "        ordersByUsersB[ordersByUsersB['orders'] > percentile_users[1]]['visitorId'],\n",
    "    ],\n",
    "    axis=0,\n",
    ")\n",
    "usersWithExpensiveOrders = orders[orders['revenue'] > percentile_orders[1]]['visitorId']\n",
    "abnormalUsers = (\n",
    "    pd.concat([usersWithManyOrders, usersWithExpensiveOrders], axis=0)\n",
    "    .drop_duplicates()\n",
    "    .sort_values()\n",
    ")\n",
    "print(abnormalUsers.head())\n",
    "print(abnormalUsers.shape) "
   ]
  },
  {
   "cell_type": "markdown",
   "metadata": {},
   "source": [
    "Всего 74 аномальных пользователя"
   ]
  },
  {
   "cell_type": "markdown",
   "metadata": {},
   "source": [
    "Нулевая гипотеза Н0: в очищенных данных в конверсии между группами нет статистически значимых различий\n",
    "Альтернативная гипотеза Н1: в очищенных данных в конверсии между группами есть статистически значимые различия"
   ]
  },
  {
   "cell_type": "code",
   "execution_count": 36,
   "metadata": {},
   "outputs": [
    {
     "name": "stdout",
     "output_type": "stream",
     "text": [
      "0.013\n",
      "0.173\n"
     ]
    }
   ],
   "source": [
    "sampleAFiltered = pd.concat(\n",
    "    [\n",
    "        ordersByUsersA[\n",
    "            np.logical_not(ordersByUsersA['visitorId'].isin(abnormalUsers))\n",
    "        ]['orders'],\n",
    "        pd.Series(\n",
    "            0,\n",
    "            index=np.arange(\n",
    "                data['visitorsPerDateA'].sum() - len(ordersByUsersA['orders'])\n",
    "            ),\n",
    "            name='orders',\n",
    "        ),\n",
    "    ],\n",
    "    axis=0,\n",
    ")\n",
    "\n",
    "sampleBFiltered = pd.concat(\n",
    "    [\n",
    "        ordersByUsersB[\n",
    "            np.logical_not(ordersByUsersB['visitorId'].isin(abnormalUsers))\n",
    "        ]['orders'],\n",
    "        pd.Series(\n",
    "            0,\n",
    "            index=np.arange(\n",
    "                data['visitorsPerDateB'].sum() - len(ordersByUsersB['orders'])\n",
    "            ),\n",
    "            name='orders',\n",
    "        ),\n",
    "    ],\n",
    "    axis=0,\n",
    ") \n",
    "print('{0:.3f}'.format(stats.mannwhitneyu(sampleAFiltered, sampleBFiltered)[1]))\n",
    "print('{0:.3f}'.format(sampleBFiltered.mean()/sampleAFiltered.mean()-1)) "
   ]
  },
  {
   "cell_type": "markdown",
   "metadata": {},
   "source": [
    "Результаты по конверсии немного изменились. \n",
    "<br> По «очищенным» данным по прежнему есть различия в конверсии групп A и B.\n",
    "<br> Первое число — p-value = 0.013 меньше 0.05.\n",
    "<br> Значит, нулевую гипотезу о том, что статистически значимых различий в конверсии между группами нет, отвергаем.\n",
    "<br> Относительный выигрыш группы B равен 17.3% — второе число в выводе."
   ]
  },
  {
   "cell_type": "markdown",
   "metadata": {},
   "source": [
    "### Расчет статистической значимости различий в среднем чеке заказа между группами по «очищенным» данным"
   ]
  },
  {
   "cell_type": "markdown",
   "metadata": {},
   "source": [
    "Нулевая гипотеза Н0: в очищенных данных в среднем чеке заказа между группами нет статистически значимых различий Альтернативная гипотеза Н1: в очищенных данных в среднем чеке заказа между группами есть статистически значимые различия"
   ]
  },
  {
   "cell_type": "code",
   "execution_count": 37,
   "metadata": {},
   "outputs": [
    {
     "name": "stdout",
     "output_type": "stream",
     "text": [
      "0.738\n",
      "-0.020\n"
     ]
    }
   ],
   "source": [
    "print(\n",
    "    '{0:.3f}'.format(\n",
    "        stats.mannwhitneyu(\n",
    "            orders[\n",
    "                np.logical_and(\n",
    "                    orders['group'] == 'A',\n",
    "                    np.logical_not(orders['visitorId'].isin(abnormalUsers)),\n",
    "                )\n",
    "            ]['revenue'],\n",
    "            orders[\n",
    "                np.logical_and(\n",
    "                    orders['group'] == 'B',\n",
    "                    np.logical_not(orders['visitorId'].isin(abnormalUsers)),\n",
    "                )\n",
    "            ]['revenue'],\n",
    "        )[1]\n",
    "    )\n",
    ")\n",
    "\n",
    "print(\n",
    "    \"{0:.3f}\".format(\n",
    "        orders[\n",
    "            np.logical_and(\n",
    "                orders['group'] == 'B',\n",
    "                np.logical_not(orders['visitorId'].isin(abnormalUsers)),\n",
    "            )\n",
    "        ]['revenue'].mean()\n",
    "        / orders[\n",
    "            np.logical_and(\n",
    "                orders['group'] == 'A',\n",
    "                np.logical_not(orders['visitorId'].isin(abnormalUsers)),\n",
    "            )\n",
    "        ]['revenue'].mean()\n",
    "        - 1\n",
    "    )\n",
    ") "
   ]
  },
  {
   "cell_type": "markdown",
   "metadata": {},
   "source": [
    "P-value немного увеличился, он по прежнему больше 0.05. Значит, нулевую гипотезу о том, что статистически значимых различий в среднем чеке между группами нет, не отвергаем.\n",
    "<br> Но при этом средний чек группы В стал на 2% ниже, чем у группы А\n",
    "<br> Удаленные аномальные пользователи критично изменили картину по среднему чеку. Так как по сырым данным относительный выигрыш группы B равен 25.9%."
   ]
  },
  {
   "cell_type": "markdown",
   "metadata": {},
   "source": [
    "## Общий вывод по проекту"
   ]
  },
  {
   "cell_type": "markdown",
   "metadata": {},
   "source": [
    "Варианты решений: \n",
    "1. Остановить тест, зафиксировать победу одной из групп. \n",
    "2. Остановить тест, зафиксировать отсутствие различий между группами. \n",
    "3. Продолжить тест."
   ]
  },
  {
   "cell_type": "markdown",
   "metadata": {},
   "source": [
    "**Примем вариант 1 - Остановить тест, зафиксировать победу группы В**"
   ]
  },
  {
   "cell_type": "markdown",
   "metadata": {},
   "source": [
    "Это обусловлено тем, что во-первых, даже по сырым данным группа В лидировала и по выручке, и по конверсии\n",
    "<br> Во-вторых, после удаления аномальных данных выигрыш группы B по конверсии хоть вырос до 17,3%, группа В уверенно лидирует\n",
    "<br> В-третьих, после удаления аномальных данных выигрыш группы B по среднему чеку хоть и очень заметно снизился с 25,9 до -2%, но при этом разница с группой А осталась не существенной (всего 2%)\n",
    "<br> В-четвертых, разница показателей конверсии между группами и до, и после очистки данных является статистически значимой.\n",
    "Это дает нам возможность признатьт победу группы В "
   ]
  }
 ],
 "metadata": {
  "ExecuteTimeLog": [
   {
    "duration": 1612,
    "start_time": "2022-04-05T06:18:08.857Z"
   },
   {
    "duration": 3,
    "start_time": "2022-04-05T06:18:31.985Z"
   },
   {
    "duration": 22,
    "start_time": "2022-04-05T06:20:08.279Z"
   },
   {
    "duration": 37,
    "start_time": "2022-04-05T06:20:20.229Z"
   },
   {
    "duration": 36,
    "start_time": "2022-04-05T06:20:25.108Z"
   },
   {
    "duration": 23,
    "start_time": "2022-04-05T06:21:40.752Z"
   },
   {
    "duration": 26,
    "start_time": "2022-04-05T06:26:24.064Z"
   },
   {
    "duration": 23,
    "start_time": "2022-04-05T06:26:38.001Z"
   },
   {
    "duration": 5,
    "start_time": "2022-04-05T06:27:04.106Z"
   },
   {
    "duration": 7,
    "start_time": "2022-04-05T06:27:08.716Z"
   },
   {
    "duration": 14,
    "start_time": "2022-04-05T06:28:21.971Z"
   },
   {
    "duration": 11,
    "start_time": "2022-04-05T06:28:30.732Z"
   },
   {
    "duration": 15,
    "start_time": "2022-04-05T06:28:40.158Z"
   },
   {
    "duration": 19,
    "start_time": "2022-04-05T06:28:50.887Z"
   },
   {
    "duration": 3,
    "start_time": "2022-04-05T06:30:13.603Z"
   },
   {
    "duration": 15,
    "start_time": "2022-04-05T06:31:02.446Z"
   },
   {
    "duration": 557,
    "start_time": "2022-04-05T06:32:22.247Z"
   },
   {
    "duration": 15,
    "start_time": "2022-04-05T06:34:43.360Z"
   },
   {
    "duration": 10,
    "start_time": "2022-04-05T06:35:41.555Z"
   },
   {
    "duration": 3,
    "start_time": "2022-04-05T06:39:04.735Z"
   },
   {
    "duration": 85,
    "start_time": "2022-04-05T06:42:16.683Z"
   },
   {
    "duration": 23,
    "start_time": "2022-04-05T06:43:34.719Z"
   },
   {
    "duration": 29,
    "start_time": "2022-04-05T06:45:22.793Z"
   },
   {
    "duration": 13,
    "start_time": "2022-04-05T06:45:32.000Z"
   },
   {
    "duration": 22,
    "start_time": "2022-04-05T06:46:02.556Z"
   },
   {
    "duration": 9,
    "start_time": "2022-04-05T06:48:01.670Z"
   },
   {
    "duration": 14,
    "start_time": "2022-04-05T06:49:12.740Z"
   },
   {
    "duration": 9,
    "start_time": "2022-04-05T06:49:24.554Z"
   },
   {
    "duration": 16,
    "start_time": "2022-04-05T06:50:02.311Z"
   },
   {
    "duration": 10,
    "start_time": "2022-04-05T06:52:30.553Z"
   },
   {
    "duration": 10,
    "start_time": "2022-04-05T06:52:37.144Z"
   },
   {
    "duration": 238,
    "start_time": "2022-04-05T06:53:02.108Z"
   },
   {
    "duration": 275,
    "start_time": "2022-04-05T06:53:06.472Z"
   },
   {
    "duration": 9,
    "start_time": "2022-04-05T06:53:18.470Z"
   },
   {
    "duration": 12,
    "start_time": "2022-04-05T06:55:28.989Z"
   },
   {
    "duration": 209,
    "start_time": "2022-04-05T06:59:08.430Z"
   },
   {
    "duration": 2858,
    "start_time": "2022-04-05T06:59:17.671Z"
   },
   {
    "duration": 3682,
    "start_time": "2022-04-05T06:59:34.703Z"
   },
   {
    "duration": 2859,
    "start_time": "2022-04-05T06:59:54.842Z"
   },
   {
    "duration": 11,
    "start_time": "2022-04-05T07:00:14.221Z"
   },
   {
    "duration": 4199,
    "start_time": "2022-04-05T07:00:17.205Z"
   },
   {
    "duration": 3302,
    "start_time": "2022-04-05T07:00:23.326Z"
   },
   {
    "duration": 11,
    "start_time": "2022-04-05T07:00:42.032Z"
   },
   {
    "duration": 10,
    "start_time": "2022-04-05T07:00:55.266Z"
   },
   {
    "duration": 10,
    "start_time": "2022-04-05T07:01:29.077Z"
   },
   {
    "duration": 15,
    "start_time": "2022-04-05T07:01:49.983Z"
   },
   {
    "duration": 8,
    "start_time": "2022-04-05T07:01:54.847Z"
   },
   {
    "duration": 8,
    "start_time": "2022-04-05T07:03:53.335Z"
   },
   {
    "duration": 15,
    "start_time": "2022-04-05T07:04:41.147Z"
   },
   {
    "duration": 9,
    "start_time": "2022-04-05T07:04:54.124Z"
   },
   {
    "duration": 28,
    "start_time": "2022-04-05T07:18:17.216Z"
   },
   {
    "duration": 3206,
    "start_time": "2022-04-05T07:49:01.359Z"
   },
   {
    "duration": 3298,
    "start_time": "2022-04-05T07:49:08.138Z"
   },
   {
    "duration": 264,
    "start_time": "2022-04-05T07:49:12.259Z"
   },
   {
    "duration": 3446,
    "start_time": "2022-04-05T07:49:15.354Z"
   },
   {
    "duration": 5,
    "start_time": "2022-04-05T07:49:31.453Z"
   },
   {
    "duration": 3508,
    "start_time": "2022-04-05T07:49:35.853Z"
   },
   {
    "duration": 3653,
    "start_time": "2022-04-05T07:49:54.425Z"
   },
   {
    "duration": 1419,
    "start_time": "2022-04-05T07:50:08.782Z"
   },
   {
    "duration": 45,
    "start_time": "2022-04-05T07:50:10.204Z"
   },
   {
    "duration": 18,
    "start_time": "2022-04-05T07:50:10.251Z"
   },
   {
    "duration": 49,
    "start_time": "2022-04-05T07:50:10.272Z"
   },
   {
    "duration": 22,
    "start_time": "2022-04-05T07:50:10.323Z"
   },
   {
    "duration": 33,
    "start_time": "2022-04-05T07:50:10.347Z"
   },
   {
    "duration": 10,
    "start_time": "2022-04-05T07:50:10.402Z"
   },
   {
    "duration": 17,
    "start_time": "2022-04-05T07:50:10.414Z"
   },
   {
    "duration": 23,
    "start_time": "2022-04-05T07:50:10.434Z"
   },
   {
    "duration": 15,
    "start_time": "2022-04-05T07:50:10.460Z"
   },
   {
    "duration": 11,
    "start_time": "2022-04-05T07:50:10.503Z"
   },
   {
    "duration": 14,
    "start_time": "2022-04-05T07:50:10.517Z"
   },
   {
    "duration": 7,
    "start_time": "2022-04-05T07:50:27.053Z"
   },
   {
    "duration": 8,
    "start_time": "2022-04-05T07:51:43.684Z"
   },
   {
    "duration": 4,
    "start_time": "2022-04-05T07:54:22.551Z"
   },
   {
    "duration": 1220,
    "start_time": "2022-04-05T07:54:28.491Z"
   },
   {
    "duration": 31,
    "start_time": "2022-04-05T07:54:29.713Z"
   },
   {
    "duration": 13,
    "start_time": "2022-04-05T07:54:29.745Z"
   },
   {
    "duration": 44,
    "start_time": "2022-04-05T07:54:29.759Z"
   },
   {
    "duration": 15,
    "start_time": "2022-04-05T07:54:29.806Z"
   },
   {
    "duration": 24,
    "start_time": "2022-04-05T07:54:29.823Z"
   },
   {
    "duration": 11,
    "start_time": "2022-04-05T07:54:29.849Z"
   },
   {
    "duration": 46,
    "start_time": "2022-04-05T07:54:29.862Z"
   },
   {
    "duration": 28,
    "start_time": "2022-04-05T07:54:29.910Z"
   },
   {
    "duration": 20,
    "start_time": "2022-04-05T07:54:29.939Z"
   },
   {
    "duration": 19,
    "start_time": "2022-04-05T07:54:29.961Z"
   },
   {
    "duration": 12,
    "start_time": "2022-04-05T07:54:30.002Z"
   },
   {
    "duration": 3,
    "start_time": "2022-04-05T07:54:43.412Z"
   },
   {
    "duration": 1222,
    "start_time": "2022-04-05T07:54:48.230Z"
   },
   {
    "duration": 32,
    "start_time": "2022-04-05T07:54:49.455Z"
   },
   {
    "duration": 15,
    "start_time": "2022-04-05T07:54:49.489Z"
   },
   {
    "duration": 37,
    "start_time": "2022-04-05T07:54:49.507Z"
   },
   {
    "duration": 15,
    "start_time": "2022-04-05T07:54:49.546Z"
   },
   {
    "duration": 22,
    "start_time": "2022-04-05T07:54:49.563Z"
   },
   {
    "duration": 21,
    "start_time": "2022-04-05T07:54:49.588Z"
   },
   {
    "duration": 28,
    "start_time": "2022-04-05T07:54:49.611Z"
   },
   {
    "duration": 65,
    "start_time": "2022-04-05T07:54:49.641Z"
   },
   {
    "duration": 14,
    "start_time": "2022-04-05T07:54:49.710Z"
   },
   {
    "duration": 12,
    "start_time": "2022-04-05T07:54:49.726Z"
   },
   {
    "duration": 68,
    "start_time": "2022-04-05T07:54:49.740Z"
   },
   {
    "duration": 4,
    "start_time": "2022-04-05T07:54:57.225Z"
   },
   {
    "duration": 1260,
    "start_time": "2022-04-05T07:55:09.374Z"
   },
   {
    "duration": 29,
    "start_time": "2022-04-05T07:55:10.637Z"
   },
   {
    "duration": 14,
    "start_time": "2022-04-05T07:55:10.668Z"
   },
   {
    "duration": 39,
    "start_time": "2022-04-05T07:55:10.702Z"
   },
   {
    "duration": 19,
    "start_time": "2022-04-05T07:55:10.743Z"
   },
   {
    "duration": 38,
    "start_time": "2022-04-05T07:55:10.765Z"
   },
   {
    "duration": 13,
    "start_time": "2022-04-05T07:55:10.806Z"
   },
   {
    "duration": 14,
    "start_time": "2022-04-05T07:55:10.821Z"
   },
   {
    "duration": 17,
    "start_time": "2022-04-05T07:55:10.837Z"
   },
   {
    "duration": 52,
    "start_time": "2022-04-05T07:55:10.858Z"
   },
   {
    "duration": 14,
    "start_time": "2022-04-05T07:55:10.913Z"
   },
   {
    "duration": 10,
    "start_time": "2022-04-05T07:55:10.929Z"
   },
   {
    "duration": 4,
    "start_time": "2022-04-05T07:56:32.370Z"
   },
   {
    "duration": 1231,
    "start_time": "2022-04-05T07:56:37.412Z"
   },
   {
    "duration": 32,
    "start_time": "2022-04-05T07:56:38.646Z"
   },
   {
    "duration": 27,
    "start_time": "2022-04-05T07:56:38.680Z"
   },
   {
    "duration": 36,
    "start_time": "2022-04-05T07:56:38.710Z"
   },
   {
    "duration": 15,
    "start_time": "2022-04-05T07:56:38.748Z"
   },
   {
    "duration": 39,
    "start_time": "2022-04-05T07:56:38.765Z"
   },
   {
    "duration": 10,
    "start_time": "2022-04-05T07:56:38.807Z"
   },
   {
    "duration": 15,
    "start_time": "2022-04-05T07:56:38.820Z"
   },
   {
    "duration": 17,
    "start_time": "2022-04-05T07:56:38.837Z"
   },
   {
    "duration": 48,
    "start_time": "2022-04-05T07:56:38.857Z"
   },
   {
    "duration": 19,
    "start_time": "2022-04-05T07:56:38.907Z"
   },
   {
    "duration": 12,
    "start_time": "2022-04-05T07:56:38.929Z"
   },
   {
    "duration": 5,
    "start_time": "2022-04-05T07:56:50.479Z"
   },
   {
    "duration": 1440,
    "start_time": "2022-04-05T07:56:54.940Z"
   },
   {
    "duration": 41,
    "start_time": "2022-04-05T07:56:56.382Z"
   },
   {
    "duration": 17,
    "start_time": "2022-04-05T07:56:56.425Z"
   },
   {
    "duration": 35,
    "start_time": "2022-04-05T07:56:56.445Z"
   },
   {
    "duration": 32,
    "start_time": "2022-04-05T07:56:56.483Z"
   },
   {
    "duration": 27,
    "start_time": "2022-04-05T07:56:56.518Z"
   },
   {
    "duration": 11,
    "start_time": "2022-04-05T07:56:56.547Z"
   },
   {
    "duration": 45,
    "start_time": "2022-04-05T07:56:56.560Z"
   },
   {
    "duration": 24,
    "start_time": "2022-04-05T07:56:56.607Z"
   },
   {
    "duration": 23,
    "start_time": "2022-04-05T07:56:56.635Z"
   },
   {
    "duration": 30,
    "start_time": "2022-04-05T07:56:56.660Z"
   },
   {
    "duration": 19,
    "start_time": "2022-04-05T07:56:56.692Z"
   },
   {
    "duration": 5,
    "start_time": "2022-04-05T07:57:18.119Z"
   },
   {
    "duration": 1860,
    "start_time": "2022-04-05T07:57:25.373Z"
   },
   {
    "duration": 79,
    "start_time": "2022-04-05T07:57:27.236Z"
   },
   {
    "duration": 18,
    "start_time": "2022-04-05T07:57:27.318Z"
   },
   {
    "duration": 105,
    "start_time": "2022-04-05T07:57:27.338Z"
   },
   {
    "duration": 65,
    "start_time": "2022-04-05T07:57:27.446Z"
   },
   {
    "duration": 27,
    "start_time": "2022-04-05T07:57:27.513Z"
   },
   {
    "duration": 63,
    "start_time": "2022-04-05T07:57:27.543Z"
   },
   {
    "duration": 15,
    "start_time": "2022-04-05T07:57:27.609Z"
   },
   {
    "duration": 81,
    "start_time": "2022-04-05T07:57:27.626Z"
   },
   {
    "duration": 25,
    "start_time": "2022-04-05T07:57:27.710Z"
   },
   {
    "duration": 66,
    "start_time": "2022-04-05T07:57:27.738Z"
   },
   {
    "duration": 10,
    "start_time": "2022-04-05T07:57:27.806Z"
   },
   {
    "duration": 49,
    "start_time": "2022-04-06T15:06:46.617Z"
   },
   {
    "duration": 1304,
    "start_time": "2022-04-07T07:01:48.428Z"
   },
   {
    "duration": 26,
    "start_time": "2022-04-07T07:01:49.734Z"
   },
   {
    "duration": 11,
    "start_time": "2022-04-07T07:01:49.762Z"
   },
   {
    "duration": 41,
    "start_time": "2022-04-07T07:01:49.774Z"
   },
   {
    "duration": 28,
    "start_time": "2022-04-07T07:01:49.816Z"
   },
   {
    "duration": 20,
    "start_time": "2022-04-07T07:01:49.845Z"
   },
   {
    "duration": 8,
    "start_time": "2022-04-07T07:01:49.866Z"
   },
   {
    "duration": 11,
    "start_time": "2022-04-07T07:01:49.876Z"
   },
   {
    "duration": 56,
    "start_time": "2022-04-07T07:01:49.888Z"
   },
   {
    "duration": 12,
    "start_time": "2022-04-07T07:01:49.947Z"
   },
   {
    "duration": 12,
    "start_time": "2022-04-07T07:01:49.961Z"
   },
   {
    "duration": 9,
    "start_time": "2022-04-07T07:01:49.974Z"
   },
   {
    "duration": 159,
    "start_time": "2022-04-07T07:01:49.984Z"
   },
   {
    "duration": 251,
    "start_time": "2022-04-07T07:04:56.513Z"
   },
   {
    "duration": 248,
    "start_time": "2022-04-07T07:07:05.287Z"
   },
   {
    "duration": 234,
    "start_time": "2022-04-07T07:07:09.677Z"
   },
   {
    "duration": 12,
    "start_time": "2022-04-07T07:09:04.018Z"
   },
   {
    "duration": 7,
    "start_time": "2022-04-07T07:09:11.036Z"
   },
   {
    "duration": 2313,
    "start_time": "2022-04-07T07:09:17.039Z"
   },
   {
    "duration": 90,
    "start_time": "2022-04-07T07:09:19.355Z"
   },
   {
    "duration": 15,
    "start_time": "2022-04-07T07:09:19.447Z"
   },
   {
    "duration": 87,
    "start_time": "2022-04-07T07:09:19.464Z"
   },
   {
    "duration": 17,
    "start_time": "2022-04-07T07:09:19.553Z"
   },
   {
    "duration": 78,
    "start_time": "2022-04-07T07:09:19.572Z"
   },
   {
    "duration": 12,
    "start_time": "2022-04-07T07:09:19.651Z"
   },
   {
    "duration": 10,
    "start_time": "2022-04-07T07:09:19.665Z"
   },
   {
    "duration": 24,
    "start_time": "2022-04-07T07:09:19.732Z"
   },
   {
    "duration": 15,
    "start_time": "2022-04-07T07:09:19.759Z"
   },
   {
    "duration": 67,
    "start_time": "2022-04-07T07:09:19.776Z"
   },
   {
    "duration": 12,
    "start_time": "2022-04-07T07:09:19.845Z"
   },
   {
    "duration": 877,
    "start_time": "2022-04-07T07:09:19.859Z"
   },
   {
    "duration": 510,
    "start_time": "2022-04-07T07:09:20.738Z"
   },
   {
    "duration": 4,
    "start_time": "2022-04-07T07:09:28.076Z"
   },
   {
    "duration": 274,
    "start_time": "2022-04-07T07:09:31.053Z"
   },
   {
    "duration": 3,
    "start_time": "2022-04-07T07:09:37.591Z"
   },
   {
    "duration": 259,
    "start_time": "2022-04-07T07:09:40.027Z"
   },
   {
    "duration": 300,
    "start_time": "2022-04-07T07:09:42.266Z"
   },
   {
    "duration": 4,
    "start_time": "2022-04-07T07:09:49.220Z"
   },
   {
    "duration": 261,
    "start_time": "2022-04-07T07:09:52.665Z"
   },
   {
    "duration": 301,
    "start_time": "2022-04-07T07:09:56.854Z"
   },
   {
    "duration": 323,
    "start_time": "2022-04-07T07:10:45.896Z"
   },
   {
    "duration": 308,
    "start_time": "2022-04-07T07:11:19.807Z"
   },
   {
    "duration": 296,
    "start_time": "2022-04-07T07:13:00.098Z"
   },
   {
    "duration": 305,
    "start_time": "2022-04-07T07:13:07.740Z"
   },
   {
    "duration": 476,
    "start_time": "2022-04-07T07:15:00.310Z"
   },
   {
    "duration": 578,
    "start_time": "2022-04-07T07:15:09.594Z"
   },
   {
    "duration": 319,
    "start_time": "2022-04-07T07:17:18.022Z"
   },
   {
    "duration": 419,
    "start_time": "2022-04-07T07:22:06.075Z"
   },
   {
    "duration": 438,
    "start_time": "2022-04-07T07:22:22.802Z"
   },
   {
    "duration": 395,
    "start_time": "2022-04-07T07:36:32.175Z"
   },
   {
    "duration": 417,
    "start_time": "2022-04-07T07:36:37.295Z"
   },
   {
    "duration": 411,
    "start_time": "2022-04-07T07:36:40.835Z"
   },
   {
    "duration": 372,
    "start_time": "2022-04-07T07:36:44.575Z"
   },
   {
    "duration": 385,
    "start_time": "2022-04-07T07:36:52.866Z"
   },
   {
    "duration": 116,
    "start_time": "2022-04-07T07:36:58.247Z"
   },
   {
    "duration": 131,
    "start_time": "2022-04-07T07:37:05.057Z"
   },
   {
    "duration": 385,
    "start_time": "2022-04-07T07:37:19.348Z"
   },
   {
    "duration": 476,
    "start_time": "2022-04-07T07:37:26.783Z"
   },
   {
    "duration": 403,
    "start_time": "2022-04-07T07:37:31.250Z"
   },
   {
    "duration": 376,
    "start_time": "2022-04-07T07:37:36.164Z"
   },
   {
    "duration": 87,
    "start_time": "2022-04-07T07:45:53.850Z"
   },
   {
    "duration": 274,
    "start_time": "2022-04-07T07:47:24.698Z"
   },
   {
    "duration": 160,
    "start_time": "2022-04-07T07:47:28.915Z"
   },
   {
    "duration": 4,
    "start_time": "2022-04-07T07:51:56.792Z"
   },
   {
    "duration": 4,
    "start_time": "2022-04-07T07:52:17.289Z"
   },
   {
    "duration": 175,
    "start_time": "2022-04-07T07:52:49.545Z"
   },
   {
    "duration": 5,
    "start_time": "2022-04-07T07:56:25.682Z"
   },
   {
    "duration": 4,
    "start_time": "2022-04-07T07:56:37.930Z"
   },
   {
    "duration": 12,
    "start_time": "2022-04-07T07:59:05.163Z"
   },
   {
    "duration": 10,
    "start_time": "2022-04-07T07:59:15.585Z"
   },
   {
    "duration": 10,
    "start_time": "2022-04-07T07:59:20.351Z"
   },
   {
    "duration": 408,
    "start_time": "2022-04-07T07:59:49.493Z"
   },
   {
    "duration": 147,
    "start_time": "2022-04-07T07:59:54.054Z"
   },
   {
    "duration": 10,
    "start_time": "2022-04-07T08:00:50.804Z"
   },
   {
    "duration": 4,
    "start_time": "2022-04-07T08:01:04.621Z"
   },
   {
    "duration": 118,
    "start_time": "2022-04-07T08:01:36.582Z"
   },
   {
    "duration": 101,
    "start_time": "2022-04-07T08:17:08.377Z"
   },
   {
    "duration": 98,
    "start_time": "2022-04-07T08:18:04.664Z"
   },
   {
    "duration": 102,
    "start_time": "2022-04-07T08:18:36.278Z"
   },
   {
    "duration": 170,
    "start_time": "2022-04-07T08:20:11.041Z"
   },
   {
    "duration": 213,
    "start_time": "2022-04-07T08:20:20.589Z"
   },
   {
    "duration": 11,
    "start_time": "2022-04-07T08:22:44.510Z"
   },
   {
    "duration": 10,
    "start_time": "2022-04-07T08:24:24.244Z"
   },
   {
    "duration": 10,
    "start_time": "2022-04-07T08:24:49.813Z"
   },
   {
    "duration": 275,
    "start_time": "2022-04-07T08:30:07.386Z"
   },
   {
    "duration": 2132,
    "start_time": "2022-04-07T08:30:52.404Z"
   },
   {
    "duration": 150,
    "start_time": "2022-04-07T08:45:33.753Z"
   },
   {
    "duration": 147,
    "start_time": "2022-04-07T08:46:21.447Z"
   },
   {
    "duration": 159,
    "start_time": "2022-04-07T08:46:43.287Z"
   },
   {
    "duration": 151,
    "start_time": "2022-04-07T08:46:56.172Z"
   },
   {
    "duration": 2483,
    "start_time": "2022-04-07T08:48:25.858Z"
   },
   {
    "duration": 2183,
    "start_time": "2022-04-07T08:50:07.814Z"
   },
   {
    "duration": 223,
    "start_time": "2022-04-07T09:01:29.181Z"
   },
   {
    "duration": 10,
    "start_time": "2022-04-07T09:03:00.704Z"
   },
   {
    "duration": 9,
    "start_time": "2022-04-07T09:05:29.870Z"
   },
   {
    "duration": 207,
    "start_time": "2022-04-07T09:05:35.809Z"
   },
   {
    "duration": 23,
    "start_time": "2022-04-07T09:05:37.923Z"
   },
   {
    "duration": 7,
    "start_time": "2022-04-07T09:05:59.595Z"
   },
   {
    "duration": 10,
    "start_time": "2022-04-07T09:06:46.815Z"
   },
   {
    "duration": 191,
    "start_time": "2022-04-07T09:06:50.400Z"
   },
   {
    "duration": 23,
    "start_time": "2022-04-07T09:06:52.791Z"
   },
   {
    "duration": 24,
    "start_time": "2022-04-07T09:09:07.268Z"
   },
   {
    "duration": 10,
    "start_time": "2022-04-07T09:10:31.528Z"
   },
   {
    "duration": 1915,
    "start_time": "2022-04-07T09:11:36.983Z"
   },
   {
    "duration": 10,
    "start_time": "2022-04-07T09:11:59.774Z"
   },
   {
    "duration": 28,
    "start_time": "2022-04-07T09:16:16.941Z"
   },
   {
    "duration": 14,
    "start_time": "2022-04-07T09:19:48.051Z"
   },
   {
    "duration": 4,
    "start_time": "2022-04-07T10:26:40.128Z"
   },
   {
    "duration": 4,
    "start_time": "2022-04-07T10:27:20.251Z"
   },
   {
    "duration": 13,
    "start_time": "2022-04-07T10:27:57.854Z"
   },
   {
    "duration": 10,
    "start_time": "2022-04-07T10:28:07.023Z"
   },
   {
    "duration": 111,
    "start_time": "2022-04-07T10:40:51.265Z"
   },
   {
    "duration": 8,
    "start_time": "2022-04-07T10:40:57.367Z"
   },
   {
    "duration": 3,
    "start_time": "2022-04-07T10:43:04.912Z"
   },
   {
    "duration": 13,
    "start_time": "2022-04-07T10:43:18.970Z"
   },
   {
    "duration": 21,
    "start_time": "2022-04-07T10:43:26.194Z"
   },
   {
    "duration": 9,
    "start_time": "2022-04-07T10:43:37.105Z"
   },
   {
    "duration": 11,
    "start_time": "2022-04-07T10:43:52.105Z"
   },
   {
    "duration": 15,
    "start_time": "2022-04-07T10:44:06.608Z"
   },
   {
    "duration": 11,
    "start_time": "2022-04-07T10:44:22.263Z"
   },
   {
    "duration": 11,
    "start_time": "2022-04-07T10:44:30.948Z"
   },
   {
    "duration": 11,
    "start_time": "2022-04-07T10:44:37.764Z"
   },
   {
    "duration": 14,
    "start_time": "2022-04-07T10:44:47.588Z"
   },
   {
    "duration": 8,
    "start_time": "2022-04-07T10:46:16.758Z"
   },
   {
    "duration": 8,
    "start_time": "2022-04-07T10:46:22.001Z"
   },
   {
    "duration": 111,
    "start_time": "2022-04-07T10:46:36.622Z"
   },
   {
    "duration": 12,
    "start_time": "2022-04-07T10:46:48.966Z"
   },
   {
    "duration": 29,
    "start_time": "2022-04-07T10:55:34.467Z"
   },
   {
    "duration": 8,
    "start_time": "2022-04-07T12:25:55.314Z"
   },
   {
    "duration": 11,
    "start_time": "2022-04-07T12:26:20.182Z"
   },
   {
    "duration": 10,
    "start_time": "2022-04-07T12:27:05.585Z"
   },
   {
    "duration": 15,
    "start_time": "2022-04-07T12:28:02.625Z"
   },
   {
    "duration": 15,
    "start_time": "2022-04-07T12:28:20.071Z"
   },
   {
    "duration": 19,
    "start_time": "2022-04-07T12:29:07.783Z"
   },
   {
    "duration": 16,
    "start_time": "2022-04-07T12:30:16.973Z"
   },
   {
    "duration": 14,
    "start_time": "2022-04-07T12:30:40.276Z"
   },
   {
    "duration": 10,
    "start_time": "2022-04-07T12:30:49.867Z"
   },
   {
    "duration": 4,
    "start_time": "2022-04-07T12:30:54.417Z"
   },
   {
    "duration": 11,
    "start_time": "2022-04-07T12:30:57.784Z"
   },
   {
    "duration": 17,
    "start_time": "2022-04-07T12:31:06.445Z"
   },
   {
    "duration": 11,
    "start_time": "2022-04-07T12:31:11.416Z"
   },
   {
    "duration": 13,
    "start_time": "2022-04-07T12:31:24.828Z"
   },
   {
    "duration": 14,
    "start_time": "2022-04-07T12:31:59.763Z"
   },
   {
    "duration": 13,
    "start_time": "2022-04-07T12:32:15.462Z"
   },
   {
    "duration": 13,
    "start_time": "2022-04-07T12:32:23.637Z"
   },
   {
    "duration": 18,
    "start_time": "2022-04-07T12:34:01.176Z"
   },
   {
    "duration": 19,
    "start_time": "2022-04-07T12:34:16.215Z"
   },
   {
    "duration": 19,
    "start_time": "2022-04-07T12:34:22.291Z"
   },
   {
    "duration": 117,
    "start_time": "2022-04-07T12:35:34.897Z"
   },
   {
    "duration": 13,
    "start_time": "2022-04-07T12:36:03.300Z"
   },
   {
    "duration": 126,
    "start_time": "2022-04-07T12:43:53.509Z"
   },
   {
    "duration": 469,
    "start_time": "2022-04-07T12:47:24.536Z"
   },
   {
    "duration": 12,
    "start_time": "2022-04-07T12:47:43.633Z"
   },
   {
    "duration": 13,
    "start_time": "2022-04-07T12:47:52.817Z"
   },
   {
    "duration": 14,
    "start_time": "2022-04-07T12:47:57.634Z"
   },
   {
    "duration": 12,
    "start_time": "2022-04-07T12:48:15.903Z"
   },
   {
    "duration": 7,
    "start_time": "2022-04-07T12:48:39.316Z"
   },
   {
    "duration": 10,
    "start_time": "2022-04-07T12:48:55.460Z"
   },
   {
    "duration": 442,
    "start_time": "2022-04-07T12:49:03.757Z"
   },
   {
    "duration": 7,
    "start_time": "2022-04-07T12:52:47.914Z"
   },
   {
    "duration": 12,
    "start_time": "2022-04-07T12:52:58.477Z"
   },
   {
    "duration": 11,
    "start_time": "2022-04-07T12:53:04.298Z"
   },
   {
    "duration": 11,
    "start_time": "2022-04-07T12:54:30.491Z"
   },
   {
    "duration": 9,
    "start_time": "2022-04-07T12:54:49.022Z"
   },
   {
    "duration": 11,
    "start_time": "2022-04-07T12:55:03.872Z"
   },
   {
    "duration": 11,
    "start_time": "2022-04-07T12:55:34.022Z"
   },
   {
    "duration": 68,
    "start_time": "2022-04-07T12:57:39.697Z"
   },
   {
    "duration": 64,
    "start_time": "2022-04-07T12:57:51.313Z"
   },
   {
    "duration": 12,
    "start_time": "2022-04-07T12:58:14.487Z"
   },
   {
    "duration": 16,
    "start_time": "2022-04-07T12:58:45.187Z"
   },
   {
    "duration": 15,
    "start_time": "2022-04-07T12:59:07.191Z"
   },
   {
    "duration": 17,
    "start_time": "2022-04-07T12:59:21.034Z"
   },
   {
    "duration": 17,
    "start_time": "2022-04-07T12:59:25.046Z"
   },
   {
    "duration": 16,
    "start_time": "2022-04-07T12:59:33.660Z"
   },
   {
    "duration": 16,
    "start_time": "2022-04-07T12:59:43.081Z"
   },
   {
    "duration": 15,
    "start_time": "2022-04-07T13:00:09.841Z"
   },
   {
    "duration": 17,
    "start_time": "2022-04-07T13:00:16.440Z"
   },
   {
    "duration": 13,
    "start_time": "2022-04-07T13:00:42.588Z"
   },
   {
    "duration": 670,
    "start_time": "2022-04-07T13:03:08.595Z"
   },
   {
    "duration": 500,
    "start_time": "2022-04-07T13:04:31.684Z"
   },
   {
    "duration": 490,
    "start_time": "2022-04-07T13:05:01.883Z"
   },
   {
    "duration": 501,
    "start_time": "2022-04-07T13:05:29.351Z"
   },
   {
    "duration": 462,
    "start_time": "2022-04-07T13:05:50.835Z"
   },
   {
    "duration": 152,
    "start_time": "2022-04-07T13:08:53.065Z"
   },
   {
    "duration": 1096,
    "start_time": "2022-04-08T05:00:07.297Z"
   },
   {
    "duration": 27,
    "start_time": "2022-04-08T05:00:08.395Z"
   },
   {
    "duration": 18,
    "start_time": "2022-04-08T05:00:08.424Z"
   },
   {
    "duration": 47,
    "start_time": "2022-04-08T05:00:08.444Z"
   },
   {
    "duration": 13,
    "start_time": "2022-04-08T05:00:08.493Z"
   },
   {
    "duration": 25,
    "start_time": "2022-04-08T05:00:08.507Z"
   },
   {
    "duration": 9,
    "start_time": "2022-04-08T05:00:08.533Z"
   },
   {
    "duration": 23,
    "start_time": "2022-04-08T05:00:08.543Z"
   },
   {
    "duration": 19,
    "start_time": "2022-04-08T05:00:08.568Z"
   },
   {
    "duration": 14,
    "start_time": "2022-04-08T05:00:08.589Z"
   },
   {
    "duration": 12,
    "start_time": "2022-04-08T05:00:08.605Z"
   },
   {
    "duration": 8,
    "start_time": "2022-04-08T05:00:08.619Z"
   },
   {
    "duration": 10,
    "start_time": "2022-04-08T05:00:08.638Z"
   },
   {
    "duration": 9,
    "start_time": "2022-04-08T05:00:08.650Z"
   },
   {
    "duration": 14,
    "start_time": "2022-04-08T05:00:08.661Z"
   },
   {
    "duration": 290,
    "start_time": "2022-04-08T05:00:08.676Z"
   },
   {
    "duration": 332,
    "start_time": "2022-04-08T05:00:08.968Z"
   },
   {
    "duration": 13,
    "start_time": "2022-04-08T05:00:09.302Z"
   },
   {
    "duration": 337,
    "start_time": "2022-04-08T05:00:09.317Z"
   },
   {
    "duration": 430,
    "start_time": "2022-04-08T05:00:09.656Z"
   },
   {
    "duration": 338,
    "start_time": "2022-04-08T05:00:10.087Z"
   },
   {
    "duration": 436,
    "start_time": "2022-04-08T05:00:10.427Z"
   },
   {
    "duration": 9,
    "start_time": "2022-04-08T05:00:10.865Z"
   },
   {
    "duration": 164,
    "start_time": "2022-04-08T05:00:10.876Z"
   },
   {
    "duration": 5,
    "start_time": "2022-04-08T05:00:11.042Z"
   },
   {
    "duration": 178,
    "start_time": "2022-04-08T05:00:11.048Z"
   },
   {
    "duration": 10,
    "start_time": "2022-04-08T05:00:11.228Z"
   },
   {
    "duration": 103,
    "start_time": "2022-04-08T05:00:11.242Z"
   },
   {
    "duration": 0,
    "start_time": "2022-04-08T05:00:11.347Z"
   },
   {
    "duration": 0,
    "start_time": "2022-04-08T05:00:11.348Z"
   },
   {
    "duration": 0,
    "start_time": "2022-04-08T05:00:11.349Z"
   },
   {
    "duration": 0,
    "start_time": "2022-04-08T05:00:11.350Z"
   },
   {
    "duration": 0,
    "start_time": "2022-04-08T05:00:11.351Z"
   },
   {
    "duration": 0,
    "start_time": "2022-04-08T05:00:11.352Z"
   },
   {
    "duration": 8,
    "start_time": "2022-04-08T05:11:50.149Z"
   },
   {
    "duration": 53,
    "start_time": "2022-04-08T13:22:35.975Z"
   },
   {
    "duration": 1235,
    "start_time": "2022-04-08T13:22:41.438Z"
   },
   {
    "duration": 27,
    "start_time": "2022-04-08T13:22:42.675Z"
   },
   {
    "duration": 14,
    "start_time": "2022-04-08T13:22:42.703Z"
   },
   {
    "duration": 34,
    "start_time": "2022-04-08T13:22:42.719Z"
   },
   {
    "duration": 13,
    "start_time": "2022-04-08T13:22:42.755Z"
   },
   {
    "duration": 21,
    "start_time": "2022-04-08T13:22:42.770Z"
   },
   {
    "duration": 9,
    "start_time": "2022-04-08T13:22:42.808Z"
   },
   {
    "duration": 8,
    "start_time": "2022-04-08T13:22:42.819Z"
   },
   {
    "duration": 15,
    "start_time": "2022-04-08T13:22:42.829Z"
   },
   {
    "duration": 11,
    "start_time": "2022-04-08T13:22:42.846Z"
   },
   {
    "duration": 9,
    "start_time": "2022-04-08T13:22:42.859Z"
   },
   {
    "duration": 47,
    "start_time": "2022-04-08T13:22:42.870Z"
   },
   {
    "duration": 9,
    "start_time": "2022-04-08T13:22:42.919Z"
   },
   {
    "duration": 10,
    "start_time": "2022-04-08T13:22:42.930Z"
   },
   {
    "duration": 15,
    "start_time": "2022-04-08T13:22:42.941Z"
   },
   {
    "duration": 9,
    "start_time": "2022-04-08T13:22:42.957Z"
   },
   {
    "duration": 308,
    "start_time": "2022-04-08T13:22:42.968Z"
   },
   {
    "duration": 352,
    "start_time": "2022-04-08T13:22:43.278Z"
   },
   {
    "duration": 14,
    "start_time": "2022-04-08T13:22:43.632Z"
   },
   {
    "duration": 372,
    "start_time": "2022-04-08T13:22:43.648Z"
   },
   {
    "duration": 801,
    "start_time": "2022-04-08T13:22:44.022Z"
   },
   {
    "duration": 784,
    "start_time": "2022-04-08T13:22:44.825Z"
   },
   {
    "duration": 511,
    "start_time": "2022-04-08T13:22:45.611Z"
   },
   {
    "duration": 10,
    "start_time": "2022-04-08T13:22:46.124Z"
   },
   {
    "duration": 172,
    "start_time": "2022-04-08T13:22:46.136Z"
   },
   {
    "duration": 4,
    "start_time": "2022-04-08T13:22:46.310Z"
   },
   {
    "duration": 184,
    "start_time": "2022-04-08T13:22:46.315Z"
   },
   {
    "duration": 4,
    "start_time": "2022-04-08T13:22:46.508Z"
   },
   {
    "duration": 201,
    "start_time": "2022-04-08T13:22:46.513Z"
   },
   {
    "duration": 119,
    "start_time": "2022-04-08T13:22:46.715Z"
   },
   {
    "duration": 1,
    "start_time": "2022-04-08T13:22:46.835Z"
   },
   {
    "duration": 0,
    "start_time": "2022-04-08T13:22:46.837Z"
   },
   {
    "duration": 0,
    "start_time": "2022-04-08T13:22:46.838Z"
   },
   {
    "duration": 0,
    "start_time": "2022-04-08T13:22:46.839Z"
   },
   {
    "duration": 0,
    "start_time": "2022-04-08T13:22:46.840Z"
   },
   {
    "duration": 15,
    "start_time": "2022-04-08T13:54:51.187Z"
   },
   {
    "duration": 125,
    "start_time": "2022-04-08T13:55:14.556Z"
   },
   {
    "duration": 194,
    "start_time": "2022-04-08T13:55:18.219Z"
   },
   {
    "duration": 1131,
    "start_time": "2022-04-08T13:55:24.629Z"
   },
   {
    "duration": 26,
    "start_time": "2022-04-08T13:55:25.762Z"
   },
   {
    "duration": 18,
    "start_time": "2022-04-08T13:55:25.790Z"
   },
   {
    "duration": 33,
    "start_time": "2022-04-08T13:55:25.810Z"
   },
   {
    "duration": 13,
    "start_time": "2022-04-08T13:55:25.845Z"
   },
   {
    "duration": 20,
    "start_time": "2022-04-08T13:55:25.860Z"
   },
   {
    "duration": 8,
    "start_time": "2022-04-08T13:55:25.882Z"
   },
   {
    "duration": 24,
    "start_time": "2022-04-08T13:55:25.892Z"
   },
   {
    "duration": 14,
    "start_time": "2022-04-08T13:55:25.918Z"
   },
   {
    "duration": 11,
    "start_time": "2022-04-08T13:55:25.934Z"
   },
   {
    "duration": 8,
    "start_time": "2022-04-08T13:55:25.948Z"
   },
   {
    "duration": 9,
    "start_time": "2022-04-08T13:55:25.958Z"
   },
   {
    "duration": 46,
    "start_time": "2022-04-08T13:55:25.969Z"
   },
   {
    "duration": 10,
    "start_time": "2022-04-08T13:55:26.017Z"
   },
   {
    "duration": 13,
    "start_time": "2022-04-08T13:55:26.028Z"
   },
   {
    "duration": 6,
    "start_time": "2022-04-08T13:55:26.042Z"
   },
   {
    "duration": 288,
    "start_time": "2022-04-08T13:55:26.050Z"
   },
   {
    "duration": 334,
    "start_time": "2022-04-08T13:55:26.339Z"
   },
   {
    "duration": 13,
    "start_time": "2022-04-08T13:55:26.674Z"
   },
   {
    "duration": 356,
    "start_time": "2022-04-08T13:55:26.688Z"
   },
   {
    "duration": 402,
    "start_time": "2022-04-08T13:55:27.045Z"
   },
   {
    "duration": 364,
    "start_time": "2022-04-08T13:55:27.449Z"
   },
   {
    "duration": 443,
    "start_time": "2022-04-08T13:55:27.815Z"
   },
   {
    "duration": 9,
    "start_time": "2022-04-08T13:55:28.259Z"
   },
   {
    "duration": 171,
    "start_time": "2022-04-08T13:55:28.270Z"
   },
   {
    "duration": 5,
    "start_time": "2022-04-08T13:55:28.442Z"
   },
   {
    "duration": 188,
    "start_time": "2022-04-08T13:55:28.448Z"
   },
   {
    "duration": 4,
    "start_time": "2022-04-08T13:55:28.639Z"
   },
   {
    "duration": 152,
    "start_time": "2022-04-08T13:55:28.645Z"
   },
   {
    "duration": 194,
    "start_time": "2022-04-08T13:55:28.798Z"
   },
   {
    "duration": 35,
    "start_time": "2022-04-08T13:55:28.994Z"
   },
   {
    "duration": 24,
    "start_time": "2022-04-08T13:55:29.031Z"
   },
   {
    "duration": 10,
    "start_time": "2022-04-08T13:55:29.057Z"
   },
   {
    "duration": 2277,
    "start_time": "2022-04-08T13:55:29.069Z"
   },
   {
    "duration": 0,
    "start_time": "2022-04-08T13:55:31.348Z"
   },
   {
    "duration": 0,
    "start_time": "2022-04-08T13:55:31.349Z"
   },
   {
    "duration": 24,
    "start_time": "2022-04-08T13:55:38.055Z"
   },
   {
    "duration": 127,
    "start_time": "2022-04-08T13:56:24.243Z"
   },
   {
    "duration": 178,
    "start_time": "2022-04-08T13:56:25.916Z"
   },
   {
    "duration": 24,
    "start_time": "2022-04-08T13:56:29.243Z"
   },
   {
    "duration": 11,
    "start_time": "2022-04-08T13:56:33.380Z"
   },
   {
    "duration": 1370,
    "start_time": "2022-04-08T13:56:36.125Z"
   },
   {
    "duration": 10,
    "start_time": "2022-04-08T14:05:36.114Z"
   },
   {
    "duration": 8,
    "start_time": "2022-04-08T14:10:11.434Z"
   },
   {
    "duration": 3,
    "start_time": "2022-04-08T14:10:17.898Z"
   },
   {
    "duration": 135,
    "start_time": "2022-04-08T14:10:56.719Z"
   },
   {
    "duration": 201,
    "start_time": "2022-04-08T14:10:58.111Z"
   },
   {
    "duration": 26,
    "start_time": "2022-04-08T14:10:59.391Z"
   },
   {
    "duration": 24,
    "start_time": "2022-04-08T14:11:01.304Z"
   },
   {
    "duration": 10,
    "start_time": "2022-04-08T14:11:02.863Z"
   },
   {
    "duration": 10,
    "start_time": "2022-04-08T14:11:13.161Z"
   },
   {
    "duration": 28,
    "start_time": "2022-04-08T14:11:15.832Z"
   },
   {
    "duration": 13,
    "start_time": "2022-04-08T14:11:18.305Z"
   },
   {
    "duration": 68,
    "start_time": "2022-04-08T16:55:30.432Z"
   },
   {
    "duration": 1669,
    "start_time": "2022-04-08T16:55:35.611Z"
   },
   {
    "duration": 42,
    "start_time": "2022-04-08T16:55:37.283Z"
   },
   {
    "duration": 22,
    "start_time": "2022-04-08T16:55:37.328Z"
   },
   {
    "duration": 63,
    "start_time": "2022-04-08T16:55:37.354Z"
   },
   {
    "duration": 19,
    "start_time": "2022-04-08T16:55:37.420Z"
   },
   {
    "duration": 35,
    "start_time": "2022-04-08T16:55:37.441Z"
   },
   {
    "duration": 11,
    "start_time": "2022-04-08T16:55:37.478Z"
   },
   {
    "duration": 18,
    "start_time": "2022-04-08T16:55:37.491Z"
   },
   {
    "duration": 33,
    "start_time": "2022-04-08T16:55:37.511Z"
   },
   {
    "duration": 20,
    "start_time": "2022-04-08T16:55:37.547Z"
   },
   {
    "duration": 21,
    "start_time": "2022-04-08T16:55:37.569Z"
   },
   {
    "duration": 12,
    "start_time": "2022-04-08T16:55:37.592Z"
   },
   {
    "duration": 43,
    "start_time": "2022-04-08T16:55:37.607Z"
   },
   {
    "duration": 20,
    "start_time": "2022-04-08T16:55:37.653Z"
   },
   {
    "duration": 23,
    "start_time": "2022-04-08T16:55:37.675Z"
   },
   {
    "duration": 49,
    "start_time": "2022-04-08T16:55:37.700Z"
   },
   {
    "duration": 423,
    "start_time": "2022-04-08T16:55:37.752Z"
   },
   {
    "duration": 1077,
    "start_time": "2022-04-08T16:55:38.178Z"
   },
   {
    "duration": 17,
    "start_time": "2022-04-08T16:55:39.257Z"
   },
   {
    "duration": 1091,
    "start_time": "2022-04-08T16:55:39.276Z"
   },
   {
    "duration": 1015,
    "start_time": "2022-04-08T16:55:40.369Z"
   },
   {
    "duration": 634,
    "start_time": "2022-04-08T16:55:41.386Z"
   },
   {
    "duration": 745,
    "start_time": "2022-04-08T16:55:42.022Z"
   },
   {
    "duration": 12,
    "start_time": "2022-04-08T16:55:42.769Z"
   },
   {
    "duration": 296,
    "start_time": "2022-04-08T16:55:42.783Z"
   },
   {
    "duration": 6,
    "start_time": "2022-04-08T16:55:43.081Z"
   },
   {
    "duration": 321,
    "start_time": "2022-04-08T16:55:43.089Z"
   },
   {
    "duration": 5,
    "start_time": "2022-04-08T16:55:43.414Z"
   },
   {
    "duration": 256,
    "start_time": "2022-04-08T16:55:43.421Z"
   },
   {
    "duration": 324,
    "start_time": "2022-04-08T16:55:43.679Z"
   },
   {
    "duration": 48,
    "start_time": "2022-04-08T16:55:44.006Z"
   },
   {
    "duration": 28,
    "start_time": "2022-04-08T16:55:44.056Z"
   },
   {
    "duration": 13,
    "start_time": "2022-04-08T16:55:44.086Z"
   },
   {
    "duration": 44,
    "start_time": "2022-04-08T16:55:44.101Z"
   },
   {
    "duration": 44,
    "start_time": "2022-04-08T16:55:44.147Z"
   },
   {
    "duration": 19,
    "start_time": "2022-04-08T16:55:44.193Z"
   },
   {
    "duration": 17,
    "start_time": "2022-04-08T16:59:34.393Z"
   },
   {
    "duration": 205,
    "start_time": "2022-04-08T17:02:46.223Z"
   },
   {
    "duration": 23,
    "start_time": "2022-04-08T17:09:53.125Z"
   },
   {
    "duration": 4,
    "start_time": "2022-04-08T17:14:00.747Z"
   },
   {
    "duration": 262,
    "start_time": "2022-04-08T17:14:55.212Z"
   },
   {
    "duration": 208,
    "start_time": "2022-04-08T17:15:13.302Z"
   },
   {
    "duration": 8,
    "start_time": "2022-04-08T17:17:15.180Z"
   },
   {
    "duration": 9,
    "start_time": "2022-04-08T17:18:49.633Z"
   },
   {
    "duration": 11,
    "start_time": "2022-04-08T17:20:02.188Z"
   },
   {
    "duration": 11,
    "start_time": "2022-04-08T17:37:10.842Z"
   },
   {
    "duration": 12,
    "start_time": "2022-04-08T17:57:32.135Z"
   },
   {
    "duration": 13,
    "start_time": "2022-04-08T17:57:42.628Z"
   },
   {
    "duration": 600,
    "start_time": "2022-04-08T18:00:36.261Z"
   },
   {
    "duration": 529,
    "start_time": "2022-04-08T18:01:13.926Z"
   },
   {
    "duration": 627,
    "start_time": "2022-04-08T18:01:37.175Z"
   },
   {
    "duration": 554,
    "start_time": "2022-04-08T18:02:12.175Z"
   },
   {
    "duration": 707,
    "start_time": "2022-04-08T18:02:32.606Z"
   },
   {
    "duration": 297,
    "start_time": "2022-04-08T18:03:54.905Z"
   },
   {
    "duration": 359,
    "start_time": "2022-04-08T18:04:37.487Z"
   },
   {
    "duration": 326,
    "start_time": "2022-04-08T18:04:47.004Z"
   },
   {
    "duration": 5,
    "start_time": "2022-04-08T18:05:24.243Z"
   },
   {
    "duration": 7,
    "start_time": "2022-04-08T18:08:36.963Z"
   },
   {
    "duration": 9,
    "start_time": "2022-04-08T18:08:46.975Z"
   },
   {
    "duration": 1173,
    "start_time": "2022-04-09T05:16:35.837Z"
   },
   {
    "duration": 35,
    "start_time": "2022-04-09T05:16:37.012Z"
   },
   {
    "duration": 14,
    "start_time": "2022-04-09T05:16:37.049Z"
   },
   {
    "duration": 38,
    "start_time": "2022-04-09T05:16:37.065Z"
   },
   {
    "duration": 14,
    "start_time": "2022-04-09T05:16:37.105Z"
   },
   {
    "duration": 31,
    "start_time": "2022-04-09T05:16:37.121Z"
   },
   {
    "duration": 10,
    "start_time": "2022-04-09T05:16:37.154Z"
   },
   {
    "duration": 17,
    "start_time": "2022-04-09T05:16:37.165Z"
   },
   {
    "duration": 17,
    "start_time": "2022-04-09T05:16:37.184Z"
   },
   {
    "duration": 44,
    "start_time": "2022-04-09T05:16:37.204Z"
   },
   {
    "duration": 17,
    "start_time": "2022-04-09T05:16:37.250Z"
   },
   {
    "duration": 9,
    "start_time": "2022-04-09T05:16:37.269Z"
   },
   {
    "duration": 13,
    "start_time": "2022-04-09T05:16:37.280Z"
   },
   {
    "duration": 16,
    "start_time": "2022-04-09T05:16:37.295Z"
   },
   {
    "duration": 30,
    "start_time": "2022-04-09T05:16:37.313Z"
   },
   {
    "duration": 20,
    "start_time": "2022-04-09T05:16:37.345Z"
   },
   {
    "duration": 18,
    "start_time": "2022-04-09T05:16:37.367Z"
   },
   {
    "duration": 287,
    "start_time": "2022-04-09T05:16:37.387Z"
   },
   {
    "duration": 364,
    "start_time": "2022-04-09T05:16:37.675Z"
   },
   {
    "duration": 13,
    "start_time": "2022-04-09T05:16:38.040Z"
   },
   {
    "duration": 358,
    "start_time": "2022-04-09T05:16:38.055Z"
   },
   {
    "duration": 473,
    "start_time": "2022-04-09T05:16:38.415Z"
   },
   {
    "duration": 350,
    "start_time": "2022-04-09T05:16:38.890Z"
   },
   {
    "duration": 458,
    "start_time": "2022-04-09T05:16:39.241Z"
   },
   {
    "duration": 10,
    "start_time": "2022-04-09T05:16:39.701Z"
   },
   {
    "duration": 192,
    "start_time": "2022-04-09T05:16:39.713Z"
   },
   {
    "duration": 5,
    "start_time": "2022-04-09T05:16:39.907Z"
   },
   {
    "duration": 204,
    "start_time": "2022-04-09T05:16:39.915Z"
   },
   {
    "duration": 4,
    "start_time": "2022-04-09T05:16:40.122Z"
   },
   {
    "duration": 140,
    "start_time": "2022-04-09T05:16:40.138Z"
   },
   {
    "duration": 205,
    "start_time": "2022-04-09T05:16:40.281Z"
   },
   {
    "duration": 30,
    "start_time": "2022-04-09T05:16:40.488Z"
   },
   {
    "duration": 37,
    "start_time": "2022-04-09T05:16:40.520Z"
   },
   {
    "duration": 12,
    "start_time": "2022-04-09T05:16:40.558Z"
   },
   {
    "duration": 10,
    "start_time": "2022-04-09T05:16:40.572Z"
   },
   {
    "duration": 59,
    "start_time": "2022-04-09T05:16:40.584Z"
   },
   {
    "duration": 14,
    "start_time": "2022-04-09T05:16:40.645Z"
   },
   {
    "duration": 5,
    "start_time": "2022-04-09T05:21:12.685Z"
   },
   {
    "duration": 5,
    "start_time": "2022-04-09T10:19:17.096Z"
   },
   {
    "duration": 1073,
    "start_time": "2022-04-10T03:49:53.072Z"
   },
   {
    "duration": 31,
    "start_time": "2022-04-10T03:49:54.147Z"
   },
   {
    "duration": 12,
    "start_time": "2022-04-10T03:49:54.180Z"
   },
   {
    "duration": 31,
    "start_time": "2022-04-10T03:49:54.194Z"
   },
   {
    "duration": 12,
    "start_time": "2022-04-10T03:49:54.227Z"
   },
   {
    "duration": 21,
    "start_time": "2022-04-10T03:49:54.241Z"
   },
   {
    "duration": 9,
    "start_time": "2022-04-10T03:49:54.279Z"
   },
   {
    "duration": 10,
    "start_time": "2022-04-10T03:49:54.290Z"
   },
   {
    "duration": 15,
    "start_time": "2022-04-10T03:49:54.301Z"
   },
   {
    "duration": 10,
    "start_time": "2022-04-10T03:49:54.319Z"
   },
   {
    "duration": 13,
    "start_time": "2022-04-10T03:49:54.331Z"
   },
   {
    "duration": 9,
    "start_time": "2022-04-10T03:49:54.380Z"
   },
   {
    "duration": 10,
    "start_time": "2022-04-10T03:49:54.391Z"
   },
   {
    "duration": 11,
    "start_time": "2022-04-10T03:49:54.403Z"
   },
   {
    "duration": 7,
    "start_time": "2022-04-10T03:49:54.416Z"
   },
   {
    "duration": 8,
    "start_time": "2022-04-10T03:49:54.424Z"
   },
   {
    "duration": 14,
    "start_time": "2022-04-10T03:49:54.433Z"
   },
   {
    "duration": 274,
    "start_time": "2022-04-10T03:49:54.448Z"
   },
   {
    "duration": 330,
    "start_time": "2022-04-10T03:49:54.723Z"
   },
   {
    "duration": 11,
    "start_time": "2022-04-10T03:49:55.055Z"
   },
   {
    "duration": 319,
    "start_time": "2022-04-10T03:49:55.068Z"
   },
   {
    "duration": 400,
    "start_time": "2022-04-10T03:49:55.388Z"
   },
   {
    "duration": 357,
    "start_time": "2022-04-10T03:49:55.790Z"
   },
   {
    "duration": 431,
    "start_time": "2022-04-10T03:49:56.150Z"
   },
   {
    "duration": 9,
    "start_time": "2022-04-10T03:49:56.583Z"
   },
   {
    "duration": 168,
    "start_time": "2022-04-10T03:49:56.594Z"
   },
   {
    "duration": 14,
    "start_time": "2022-04-10T03:49:56.764Z"
   },
   {
    "duration": 184,
    "start_time": "2022-04-10T03:49:56.781Z"
   },
   {
    "duration": 13,
    "start_time": "2022-04-10T03:49:56.966Z"
   },
   {
    "duration": 141,
    "start_time": "2022-04-10T03:49:56.980Z"
   },
   {
    "duration": 187,
    "start_time": "2022-04-10T03:49:57.123Z"
   },
   {
    "duration": 24,
    "start_time": "2022-04-10T03:49:57.312Z"
   },
   {
    "duration": 22,
    "start_time": "2022-04-10T03:49:57.338Z"
   },
   {
    "duration": 10,
    "start_time": "2022-04-10T03:49:57.378Z"
   },
   {
    "duration": 9,
    "start_time": "2022-04-10T03:49:57.390Z"
   },
   {
    "duration": 28,
    "start_time": "2022-04-10T03:49:57.400Z"
   },
   {
    "duration": 12,
    "start_time": "2022-04-10T03:49:57.430Z"
   }
  ],
  "kernelspec": {
   "display_name": "Python 3 (ipykernel)",
   "language": "python",
   "name": "python3"
  },
  "language_info": {
   "codemirror_mode": {
    "name": "ipython",
    "version": 3
   },
   "file_extension": ".py",
   "mimetype": "text/x-python",
   "name": "python",
   "nbconvert_exporter": "python",
   "pygments_lexer": "ipython3",
   "version": "3.9.5"
  },
  "toc": {
   "base_numbering": 1,
   "nav_menu": {},
   "number_sections": true,
   "sideBar": true,
   "skip_h1_title": true,
   "title_cell": "Table of Contents",
   "title_sidebar": "Contents",
   "toc_cell": false,
   "toc_position": {
    "height": "calc(100% - 180px)",
    "left": "10px",
    "top": "150px",
    "width": "255.594px"
   },
   "toc_section_display": true,
   "toc_window_display": true
  }
 },
 "nbformat": 4,
 "nbformat_minor": 2
}
