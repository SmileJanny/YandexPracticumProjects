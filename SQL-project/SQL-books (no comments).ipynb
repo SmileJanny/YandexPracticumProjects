{
 "cells": [
  {
   "cell_type": "markdown",
   "metadata": {},
   "source": [
    "# Проект SQL"
   ]
  },
  {
   "cell_type": "markdown",
   "metadata": {},
   "source": [
    "## Описание задания, цели и задачи исследования"
   ]
  },
  {
   "cell_type": "markdown",
   "metadata": {},
   "source": [
    "Коронавирус застал мир врасплох, изменив привычный порядок вещей. В свободное время жители городов больше не выходят на улицу, не посещают кафе и торговые центры. Зато стало больше времени для книг. Это заметили стартаперы — и бросились создавать приложения для тех, кто любит читать.\n",
    "<br>Ваша компания решила быть на волне и купила крупный сервис для чтения книг по подписке. \n",
    "<br>**Цели исследования** — проанализировать базу данных для определения ценностного предложения для нового продукта.\n",
    "<br>Исходя из цели были сформулированы задачи исследования:\n",
    "- расчет количества книг, которые вышли после 1 января 2000 года,\n",
    "- расчет количества обзоров и средней оценки для каждой книги,\n",
    "- определение издательства, которое выпустило наибольшее число книг толще 50 страниц,\n",
    "- определение автора с самой высокой средней оценкой книг, при учете книг с 50 и более оценками,\n",
    "- расчет среднего количества обзоров от пользователей, которые поставили больше 50 оценок."
   ]
  },
  {
   "cell_type": "markdown",
   "metadata": {},
   "source": [
    "## Описание данных"
   ]
  },
  {
   "cell_type": "markdown",
   "metadata": {},
   "source": [
    "Таблица **books** содержит данные о книгах:\n",
    "- `book_id` — идентификатор книги;\n",
    "- `author_id` — идентификатор автора;\n",
    "- `title` — название книги;\n",
    "- `num_pages` — количество страниц;\n",
    "- `publication_date` — дата публикации книги;\n",
    "- `publisher_id` — идентификатор издателя."
   ]
  },
  {
   "cell_type": "markdown",
   "metadata": {},
   "source": [
    "Таблица **authors** содержит данные об авторах:\n",
    "- `author_id` — идентификатор автора;\n",
    "- `author` — имя автора."
   ]
  },
  {
   "cell_type": "markdown",
   "metadata": {},
   "source": [
    "Таблица **publishers** содержит данные об издательствах:\n",
    "- `publisher_id` — идентификатор издательства;\n",
    "- `publisher` — название издательства;"
   ]
  },
  {
   "cell_type": "markdown",
   "metadata": {},
   "source": [
    "Таблица **ratings** содержит данные о пользовательских оценках книг:\n",
    "- `rating_id` — идентификатор оценки;\n",
    "- `book_id` — идентификатор книги;\n",
    "- `username` — имя пользователя, оставившего оценку;\n",
    "- `rating` — оценка книги."
   ]
  },
  {
   "cell_type": "markdown",
   "metadata": {},
   "source": [
    "Таблица **reviews** содержит данные о пользовательских обзорах на книги:\n",
    "- `review_id` — идентификатор обзора;\n",
    "- `book_id` — идентификатор книги;\n",
    "- `username` — имя пользователя, написавшего обзор;\n",
    "- `text` — текст обзора."
   ]
  },
  {
   "cell_type": "markdown",
   "metadata": {},
   "source": [
    "## Загрузка данных и подготовка их к анализу"
   ]
  },
  {
   "cell_type": "markdown",
   "metadata": {},
   "source": [
    "### Импорт библиотек и настроек"
   ]
  },
  {
   "cell_type": "code",
   "execution_count": 1,
   "metadata": {},
   "outputs": [],
   "source": [
    "# импортируем библиотеки\n",
    "import pandas as pd\n",
    "from sqlalchemy import create_engine"
   ]
  },
  {
   "cell_type": "code",
   "execution_count": 2,
   "metadata": {},
   "outputs": [],
   "source": [
    "# устанавливаем параметры\n",
    "db_config = {'user': 'praktikum_student', # имя пользователя\n",
    "'pwd': 'Sdf4$2;d-d30pp', # пароль\n",
    "'host': 'rc1b-wcoijxj3yxfsf3fs.mdb.yandexcloud.net',\n",
    "'port': 6432, # порт подключения\n",
    "'db': 'data-analyst-final-project-db'} # название базы данных\n",
    "connection_string = 'postgresql://{}:{}@{}:{}/{}'.format(db_config['user'],\n",
    "db_config['pwd'],\n",
    "db_config['host'],\n",
    "db_config['port'],\n",
    "db_config['db'])\n",
    "# сохраняем коннектор\n",
    "engine = create_engine(connection_string, connect_args={'sslmode':'require'})"
   ]
  },
  {
   "cell_type": "markdown",
   "metadata": {},
   "source": [
    "### Знакомство с данными"
   ]
  },
  {
   "cell_type": "code",
   "execution_count": 3,
   "metadata": {},
   "outputs": [
    {
     "name": "stdout",
     "output_type": "stream",
     "text": [
      "<class 'pandas.core.frame.DataFrame'>\n",
      "RangeIndex: 1000 entries, 0 to 999\n",
      "Data columns (total 6 columns):\n",
      " #   Column            Non-Null Count  Dtype \n",
      "---  ------            --------------  ----- \n",
      " 0   book_id           1000 non-null   int64 \n",
      " 1   author_id         1000 non-null   int64 \n",
      " 2   title             1000 non-null   object\n",
      " 3   num_pages         1000 non-null   int64 \n",
      " 4   publication_date  1000 non-null   object\n",
      " 5   publisher_id      1000 non-null   int64 \n",
      "dtypes: int64(4), object(2)\n",
      "memory usage: 47.0+ KB\n"
     ]
    },
    {
     "data": {
      "text/html": [
       "<div>\n",
       "<style scoped>\n",
       "    .dataframe tbody tr th:only-of-type {\n",
       "        vertical-align: middle;\n",
       "    }\n",
       "\n",
       "    .dataframe tbody tr th {\n",
       "        vertical-align: top;\n",
       "    }\n",
       "\n",
       "    .dataframe thead th {\n",
       "        text-align: right;\n",
       "    }\n",
       "</style>\n",
       "<table border=\"1\" class=\"dataframe\">\n",
       "  <thead>\n",
       "    <tr style=\"text-align: right;\">\n",
       "      <th></th>\n",
       "      <th>book_id</th>\n",
       "      <th>author_id</th>\n",
       "      <th>title</th>\n",
       "      <th>num_pages</th>\n",
       "      <th>publication_date</th>\n",
       "      <th>publisher_id</th>\n",
       "    </tr>\n",
       "  </thead>\n",
       "  <tbody>\n",
       "    <tr>\n",
       "      <th>0</th>\n",
       "      <td>1</td>\n",
       "      <td>546</td>\n",
       "      <td>'Salem's Lot</td>\n",
       "      <td>594</td>\n",
       "      <td>2005-11-01</td>\n",
       "      <td>93</td>\n",
       "    </tr>\n",
       "    <tr>\n",
       "      <th>1</th>\n",
       "      <td>2</td>\n",
       "      <td>465</td>\n",
       "      <td>1 000 Places to See Before You Die</td>\n",
       "      <td>992</td>\n",
       "      <td>2003-05-22</td>\n",
       "      <td>336</td>\n",
       "    </tr>\n",
       "    <tr>\n",
       "      <th>2</th>\n",
       "      <td>3</td>\n",
       "      <td>407</td>\n",
       "      <td>13 Little Blue Envelopes (Little Blue Envelope...</td>\n",
       "      <td>322</td>\n",
       "      <td>2010-12-21</td>\n",
       "      <td>135</td>\n",
       "    </tr>\n",
       "    <tr>\n",
       "      <th>3</th>\n",
       "      <td>4</td>\n",
       "      <td>82</td>\n",
       "      <td>1491: New Revelations of the Americas Before C...</td>\n",
       "      <td>541</td>\n",
       "      <td>2006-10-10</td>\n",
       "      <td>309</td>\n",
       "    </tr>\n",
       "    <tr>\n",
       "      <th>4</th>\n",
       "      <td>5</td>\n",
       "      <td>125</td>\n",
       "      <td>1776</td>\n",
       "      <td>386</td>\n",
       "      <td>2006-07-04</td>\n",
       "      <td>268</td>\n",
       "    </tr>\n",
       "  </tbody>\n",
       "</table>\n",
       "</div>"
      ],
      "text/plain": [
       "   book_id  author_id                                              title  \\\n",
       "0        1        546                                       'Salem's Lot   \n",
       "1        2        465                 1 000 Places to See Before You Die   \n",
       "2        3        407  13 Little Blue Envelopes (Little Blue Envelope...   \n",
       "3        4         82  1491: New Revelations of the Americas Before C...   \n",
       "4        5        125                                               1776   \n",
       "\n",
       "   num_pages publication_date  publisher_id  \n",
       "0        594       2005-11-01            93  \n",
       "1        992       2003-05-22           336  \n",
       "2        322       2010-12-21           135  \n",
       "3        541       2006-10-10           309  \n",
       "4        386       2006-07-04           268  "
      ]
     },
     "metadata": {},
     "output_type": "display_data"
    },
    {
     "name": "stdout",
     "output_type": "stream",
     "text": [
      "\n",
      "<class 'pandas.core.frame.DataFrame'>\n",
      "RangeIndex: 636 entries, 0 to 635\n",
      "Data columns (total 2 columns):\n",
      " #   Column     Non-Null Count  Dtype \n",
      "---  ------     --------------  ----- \n",
      " 0   author_id  636 non-null    int64 \n",
      " 1   author     636 non-null    object\n",
      "dtypes: int64(1), object(1)\n",
      "memory usage: 10.1+ KB\n"
     ]
    },
    {
     "data": {
      "text/html": [
       "<div>\n",
       "<style scoped>\n",
       "    .dataframe tbody tr th:only-of-type {\n",
       "        vertical-align: middle;\n",
       "    }\n",
       "\n",
       "    .dataframe tbody tr th {\n",
       "        vertical-align: top;\n",
       "    }\n",
       "\n",
       "    .dataframe thead th {\n",
       "        text-align: right;\n",
       "    }\n",
       "</style>\n",
       "<table border=\"1\" class=\"dataframe\">\n",
       "  <thead>\n",
       "    <tr style=\"text-align: right;\">\n",
       "      <th></th>\n",
       "      <th>author_id</th>\n",
       "      <th>author</th>\n",
       "    </tr>\n",
       "  </thead>\n",
       "  <tbody>\n",
       "    <tr>\n",
       "      <th>0</th>\n",
       "      <td>1</td>\n",
       "      <td>A.S. Byatt</td>\n",
       "    </tr>\n",
       "    <tr>\n",
       "      <th>1</th>\n",
       "      <td>2</td>\n",
       "      <td>Aesop/Laura Harris/Laura Gibbs</td>\n",
       "    </tr>\n",
       "    <tr>\n",
       "      <th>2</th>\n",
       "      <td>3</td>\n",
       "      <td>Agatha Christie</td>\n",
       "    </tr>\n",
       "    <tr>\n",
       "      <th>3</th>\n",
       "      <td>4</td>\n",
       "      <td>Alan Brennert</td>\n",
       "    </tr>\n",
       "    <tr>\n",
       "      <th>4</th>\n",
       "      <td>5</td>\n",
       "      <td>Alan Moore/David   Lloyd</td>\n",
       "    </tr>\n",
       "  </tbody>\n",
       "</table>\n",
       "</div>"
      ],
      "text/plain": [
       "   author_id                          author\n",
       "0          1                      A.S. Byatt\n",
       "1          2  Aesop/Laura Harris/Laura Gibbs\n",
       "2          3                 Agatha Christie\n",
       "3          4                   Alan Brennert\n",
       "4          5        Alan Moore/David   Lloyd"
      ]
     },
     "metadata": {},
     "output_type": "display_data"
    },
    {
     "name": "stdout",
     "output_type": "stream",
     "text": [
      "\n",
      "<class 'pandas.core.frame.DataFrame'>\n",
      "RangeIndex: 340 entries, 0 to 339\n",
      "Data columns (total 2 columns):\n",
      " #   Column        Non-Null Count  Dtype \n",
      "---  ------        --------------  ----- \n",
      " 0   publisher_id  340 non-null    int64 \n",
      " 1   publisher     340 non-null    object\n",
      "dtypes: int64(1), object(1)\n",
      "memory usage: 5.4+ KB\n"
     ]
    },
    {
     "data": {
      "text/html": [
       "<div>\n",
       "<style scoped>\n",
       "    .dataframe tbody tr th:only-of-type {\n",
       "        vertical-align: middle;\n",
       "    }\n",
       "\n",
       "    .dataframe tbody tr th {\n",
       "        vertical-align: top;\n",
       "    }\n",
       "\n",
       "    .dataframe thead th {\n",
       "        text-align: right;\n",
       "    }\n",
       "</style>\n",
       "<table border=\"1\" class=\"dataframe\">\n",
       "  <thead>\n",
       "    <tr style=\"text-align: right;\">\n",
       "      <th></th>\n",
       "      <th>publisher_id</th>\n",
       "      <th>publisher</th>\n",
       "    </tr>\n",
       "  </thead>\n",
       "  <tbody>\n",
       "    <tr>\n",
       "      <th>0</th>\n",
       "      <td>1</td>\n",
       "      <td>Ace</td>\n",
       "    </tr>\n",
       "    <tr>\n",
       "      <th>1</th>\n",
       "      <td>2</td>\n",
       "      <td>Ace Book</td>\n",
       "    </tr>\n",
       "    <tr>\n",
       "      <th>2</th>\n",
       "      <td>3</td>\n",
       "      <td>Ace Books</td>\n",
       "    </tr>\n",
       "    <tr>\n",
       "      <th>3</th>\n",
       "      <td>4</td>\n",
       "      <td>Ace Hardcover</td>\n",
       "    </tr>\n",
       "    <tr>\n",
       "      <th>4</th>\n",
       "      <td>5</td>\n",
       "      <td>Addison Wesley Publishing Company</td>\n",
       "    </tr>\n",
       "  </tbody>\n",
       "</table>\n",
       "</div>"
      ],
      "text/plain": [
       "   publisher_id                          publisher\n",
       "0             1                                Ace\n",
       "1             2                           Ace Book\n",
       "2             3                          Ace Books\n",
       "3             4                      Ace Hardcover\n",
       "4             5  Addison Wesley Publishing Company"
      ]
     },
     "metadata": {},
     "output_type": "display_data"
    },
    {
     "name": "stdout",
     "output_type": "stream",
     "text": [
      "\n",
      "<class 'pandas.core.frame.DataFrame'>\n",
      "RangeIndex: 6456 entries, 0 to 6455\n",
      "Data columns (total 4 columns):\n",
      " #   Column     Non-Null Count  Dtype \n",
      "---  ------     --------------  ----- \n",
      " 0   rating_id  6456 non-null   int64 \n",
      " 1   book_id    6456 non-null   int64 \n",
      " 2   username   6456 non-null   object\n",
      " 3   rating     6456 non-null   int64 \n",
      "dtypes: int64(3), object(1)\n",
      "memory usage: 201.9+ KB\n"
     ]
    },
    {
     "data": {
      "text/html": [
       "<div>\n",
       "<style scoped>\n",
       "    .dataframe tbody tr th:only-of-type {\n",
       "        vertical-align: middle;\n",
       "    }\n",
       "\n",
       "    .dataframe tbody tr th {\n",
       "        vertical-align: top;\n",
       "    }\n",
       "\n",
       "    .dataframe thead th {\n",
       "        text-align: right;\n",
       "    }\n",
       "</style>\n",
       "<table border=\"1\" class=\"dataframe\">\n",
       "  <thead>\n",
       "    <tr style=\"text-align: right;\">\n",
       "      <th></th>\n",
       "      <th>rating_id</th>\n",
       "      <th>book_id</th>\n",
       "      <th>username</th>\n",
       "      <th>rating</th>\n",
       "    </tr>\n",
       "  </thead>\n",
       "  <tbody>\n",
       "    <tr>\n",
       "      <th>0</th>\n",
       "      <td>1</td>\n",
       "      <td>1</td>\n",
       "      <td>ryanfranco</td>\n",
       "      <td>4</td>\n",
       "    </tr>\n",
       "    <tr>\n",
       "      <th>1</th>\n",
       "      <td>2</td>\n",
       "      <td>1</td>\n",
       "      <td>grantpatricia</td>\n",
       "      <td>2</td>\n",
       "    </tr>\n",
       "    <tr>\n",
       "      <th>2</th>\n",
       "      <td>3</td>\n",
       "      <td>1</td>\n",
       "      <td>brandtandrea</td>\n",
       "      <td>5</td>\n",
       "    </tr>\n",
       "    <tr>\n",
       "      <th>3</th>\n",
       "      <td>4</td>\n",
       "      <td>2</td>\n",
       "      <td>lorichen</td>\n",
       "      <td>3</td>\n",
       "    </tr>\n",
       "    <tr>\n",
       "      <th>4</th>\n",
       "      <td>5</td>\n",
       "      <td>2</td>\n",
       "      <td>mariokeller</td>\n",
       "      <td>2</td>\n",
       "    </tr>\n",
       "  </tbody>\n",
       "</table>\n",
       "</div>"
      ],
      "text/plain": [
       "   rating_id  book_id       username  rating\n",
       "0          1        1     ryanfranco       4\n",
       "1          2        1  grantpatricia       2\n",
       "2          3        1   brandtandrea       5\n",
       "3          4        2       lorichen       3\n",
       "4          5        2    mariokeller       2"
      ]
     },
     "metadata": {},
     "output_type": "display_data"
    },
    {
     "name": "stdout",
     "output_type": "stream",
     "text": [
      "\n",
      "<class 'pandas.core.frame.DataFrame'>\n",
      "RangeIndex: 2793 entries, 0 to 2792\n",
      "Data columns (total 4 columns):\n",
      " #   Column     Non-Null Count  Dtype \n",
      "---  ------     --------------  ----- \n",
      " 0   review_id  2793 non-null   int64 \n",
      " 1   book_id    2793 non-null   int64 \n",
      " 2   username   2793 non-null   object\n",
      " 3   text       2793 non-null   object\n",
      "dtypes: int64(2), object(2)\n",
      "memory usage: 87.4+ KB\n"
     ]
    },
    {
     "data": {
      "text/html": [
       "<div>\n",
       "<style scoped>\n",
       "    .dataframe tbody tr th:only-of-type {\n",
       "        vertical-align: middle;\n",
       "    }\n",
       "\n",
       "    .dataframe tbody tr th {\n",
       "        vertical-align: top;\n",
       "    }\n",
       "\n",
       "    .dataframe thead th {\n",
       "        text-align: right;\n",
       "    }\n",
       "</style>\n",
       "<table border=\"1\" class=\"dataframe\">\n",
       "  <thead>\n",
       "    <tr style=\"text-align: right;\">\n",
       "      <th></th>\n",
       "      <th>review_id</th>\n",
       "      <th>book_id</th>\n",
       "      <th>username</th>\n",
       "      <th>text</th>\n",
       "    </tr>\n",
       "  </thead>\n",
       "  <tbody>\n",
       "    <tr>\n",
       "      <th>0</th>\n",
       "      <td>1</td>\n",
       "      <td>1</td>\n",
       "      <td>brandtandrea</td>\n",
       "      <td>Mention society tell send professor analysis. ...</td>\n",
       "    </tr>\n",
       "    <tr>\n",
       "      <th>1</th>\n",
       "      <td>2</td>\n",
       "      <td>1</td>\n",
       "      <td>ryanfranco</td>\n",
       "      <td>Foot glass pretty audience hit themselves. Amo...</td>\n",
       "    </tr>\n",
       "    <tr>\n",
       "      <th>2</th>\n",
       "      <td>3</td>\n",
       "      <td>2</td>\n",
       "      <td>lorichen</td>\n",
       "      <td>Listen treat keep worry. Miss husband tax but ...</td>\n",
       "    </tr>\n",
       "    <tr>\n",
       "      <th>3</th>\n",
       "      <td>4</td>\n",
       "      <td>3</td>\n",
       "      <td>johnsonamanda</td>\n",
       "      <td>Finally month interesting blue could nature cu...</td>\n",
       "    </tr>\n",
       "    <tr>\n",
       "      <th>4</th>\n",
       "      <td>5</td>\n",
       "      <td>3</td>\n",
       "      <td>scotttamara</td>\n",
       "      <td>Nation purpose heavy give wait song will. List...</td>\n",
       "    </tr>\n",
       "  </tbody>\n",
       "</table>\n",
       "</div>"
      ],
      "text/plain": [
       "   review_id  book_id       username  \\\n",
       "0          1        1   brandtandrea   \n",
       "1          2        1     ryanfranco   \n",
       "2          3        2       lorichen   \n",
       "3          4        3  johnsonamanda   \n",
       "4          5        3    scotttamara   \n",
       "\n",
       "                                                text  \n",
       "0  Mention society tell send professor analysis. ...  \n",
       "1  Foot glass pretty audience hit themselves. Amo...  \n",
       "2  Listen treat keep worry. Miss husband tax but ...  \n",
       "3  Finally month interesting blue could nature cu...  \n",
       "4  Nation purpose heavy give wait song will. List...  "
      ]
     },
     "metadata": {},
     "output_type": "display_data"
    },
    {
     "name": "stdout",
     "output_type": "stream",
     "text": [
      "\n"
     ]
    }
   ],
   "source": [
    "table = ['books', 'authors', 'publishers', 'ratings', 'reviews']\n",
    "for i in table:\n",
    "    query = '''\n",
    "        SELECT *\n",
    "        FROM {}\n",
    "    '''.format(i)\n",
    "    temp_df = pd.io.sql.read_sql(query, con = engine)\n",
    "    temp_df.info()\n",
    "    display(temp_df.head())\n",
    "    print()"
   ]
  },
  {
   "cell_type": "markdown",
   "metadata": {},
   "source": [
    "### Схема данных"
   ]
  },
  {
   "attachments": {
    "%D0%91%D0%B5%D0%B7%20%D0%BD%D0%B0%D0%B7%D0%B2%D0%B0%D0%BD%D0%B8%D1%8F.png": {
     "image/png": "[encoded data removed]"
    }
   },
   "cell_type": "markdown",
   "metadata": {},
   "source": [
    "![%D0%91%D0%B5%D0%B7%20%D0%BD%D0%B0%D0%B7%D0%B2%D0%B0%D0%BD%D0%B8%D1%8F.png](attachment:%D0%91%D0%B5%D0%B7%20%D0%BD%D0%B0%D0%B7%D0%B2%D0%B0%D0%BD%D0%B8%D1%8F.png)"
   ]
  },
  {
   "cell_type": "markdown",
   "metadata": {},
   "source": [
    "### Выводы по пункту 3"
   ]
  },
  {
   "cell_type": "markdown",
   "metadata": {},
   "source": [
    "Исходные данные в таблицах корректные, пропусков нет, форматы столбцов соответствуют здравому смыслу, наименования столбцов в змеином регистре "
   ]
  },
  {
   "cell_type": "markdown",
   "metadata": {},
   "source": [
    "## Основные задания проекта"
   ]
  },
  {
   "cell_type": "markdown",
   "metadata": {},
   "source": [
    "Запишем функцию для вывода результатов запроса"
   ]
  },
  {
   "cell_type": "code",
   "execution_count": 4,
   "metadata": {},
   "outputs": [],
   "source": [
    "def select_query(q):\n",
    "    display(pd.io.sql.read_sql(q, con = engine))"
   ]
  },
  {
   "cell_type": "markdown",
   "metadata": {},
   "source": [
    "### Первый SQL-запрос"
   ]
  },
  {
   "cell_type": "markdown",
   "metadata": {},
   "source": [
    "Посчитайте, сколько книг вышло после 1 января 2000 года"
   ]
  },
  {
   "cell_type": "code",
   "execution_count": 5,
   "metadata": {},
   "outputs": [
    {
     "data": {
      "text/html": [
       "<div>\n",
       "<style scoped>\n",
       "    .dataframe tbody tr th:only-of-type {\n",
       "        vertical-align: middle;\n",
       "    }\n",
       "\n",
       "    .dataframe tbody tr th {\n",
       "        vertical-align: top;\n",
       "    }\n",
       "\n",
       "    .dataframe thead th {\n",
       "        text-align: right;\n",
       "    }\n",
       "</style>\n",
       "<table border=\"1\" class=\"dataframe\">\n",
       "  <thead>\n",
       "    <tr style=\"text-align: right;\">\n",
       "      <th></th>\n",
       "      <th>count_book_after_2000</th>\n",
       "    </tr>\n",
       "  </thead>\n",
       "  <tbody>\n",
       "    <tr>\n",
       "      <th>0</th>\n",
       "      <td>819</td>\n",
       "    </tr>\n",
       "  </tbody>\n",
       "</table>\n",
       "</div>"
      ],
      "text/plain": [
       "   count_book_after_2000\n",
       "0                    819"
      ]
     },
     "metadata": {},
     "output_type": "display_data"
    }
   ],
   "source": [
    "query_1 = '''\n",
    "    SELECT COUNT(book_id) as count_book_after_2000\n",
    "    FROM books\n",
    "    WHERE publication_date >= '2000-01-02'\n",
    "'''\n",
    "select_query(query_1)"
   ]
  },
  {
   "cell_type": "markdown",
   "metadata": {},
   "source": [
    "После 1 января 2000 года вышло 819 книг"
   ]
  },
  {
   "cell_type": "markdown",
   "metadata": {},
   "source": [
    "### Второй SQL-запрос"
   ]
  },
  {
   "cell_type": "markdown",
   "metadata": {},
   "source": [
    "Для каждой книги посчитайте количество обзоров и среднюю оценку"
   ]
  },
  {
   "cell_type": "code",
   "execution_count": 6,
   "metadata": {},
   "outputs": [
    {
     "data": {
      "text/html": [
       "<div>\n",
       "<style scoped>\n",
       "    .dataframe tbody tr th:only-of-type {\n",
       "        vertical-align: middle;\n",
       "    }\n",
       "\n",
       "    .dataframe tbody tr th {\n",
       "        vertical-align: top;\n",
       "    }\n",
       "\n",
       "    .dataframe thead th {\n",
       "        text-align: right;\n",
       "    }\n",
       "</style>\n",
       "<table border=\"1\" class=\"dataframe\">\n",
       "  <thead>\n",
       "    <tr style=\"text-align: right;\">\n",
       "      <th></th>\n",
       "      <th>title</th>\n",
       "      <th>count_review</th>\n",
       "      <th>avg_rating</th>\n",
       "    </tr>\n",
       "  </thead>\n",
       "  <tbody>\n",
       "    <tr>\n",
       "      <th>0</th>\n",
       "      <td>Twilight (Twilight  #1)</td>\n",
       "      <td>7</td>\n",
       "      <td>3.66</td>\n",
       "    </tr>\n",
       "    <tr>\n",
       "      <th>1</th>\n",
       "      <td>Harry Potter and the Prisoner of Azkaban (Harr...</td>\n",
       "      <td>6</td>\n",
       "      <td>4.41</td>\n",
       "    </tr>\n",
       "    <tr>\n",
       "      <th>2</th>\n",
       "      <td>Harry Potter and the Chamber of Secrets (Harry...</td>\n",
       "      <td>6</td>\n",
       "      <td>4.29</td>\n",
       "    </tr>\n",
       "    <tr>\n",
       "      <th>3</th>\n",
       "      <td>The Book Thief</td>\n",
       "      <td>6</td>\n",
       "      <td>4.26</td>\n",
       "    </tr>\n",
       "    <tr>\n",
       "      <th>4</th>\n",
       "      <td>The Glass Castle</td>\n",
       "      <td>6</td>\n",
       "      <td>4.21</td>\n",
       "    </tr>\n",
       "    <tr>\n",
       "      <th>...</th>\n",
       "      <td>...</td>\n",
       "      <td>...</td>\n",
       "      <td>...</td>\n",
       "    </tr>\n",
       "    <tr>\n",
       "      <th>989</th>\n",
       "      <td>Death: The High Cost of Living</td>\n",
       "      <td>1</td>\n",
       "      <td>3.00</td>\n",
       "    </tr>\n",
       "    <tr>\n",
       "      <th>990</th>\n",
       "      <td>Moo  Baa  La La La!</td>\n",
       "      <td>1</td>\n",
       "      <td>3.00</td>\n",
       "    </tr>\n",
       "    <tr>\n",
       "      <th>991</th>\n",
       "      <td>1 000 Places to See Before You Die</td>\n",
       "      <td>1</td>\n",
       "      <td>2.50</td>\n",
       "    </tr>\n",
       "    <tr>\n",
       "      <th>992</th>\n",
       "      <td>History of Beauty</td>\n",
       "      <td>1</td>\n",
       "      <td>2.50</td>\n",
       "    </tr>\n",
       "    <tr>\n",
       "      <th>993</th>\n",
       "      <td>Tsubasa: RESERVoir CHRoNiCLE  Vol. 1</td>\n",
       "      <td>1</td>\n",
       "      <td>2.50</td>\n",
       "    </tr>\n",
       "  </tbody>\n",
       "</table>\n",
       "<p>994 rows × 3 columns</p>\n",
       "</div>"
      ],
      "text/plain": [
       "                                                 title  count_review  \\\n",
       "0                              Twilight (Twilight  #1)             7   \n",
       "1    Harry Potter and the Prisoner of Azkaban (Harr...             6   \n",
       "2    Harry Potter and the Chamber of Secrets (Harry...             6   \n",
       "3                                       The Book Thief             6   \n",
       "4                                     The Glass Castle             6   \n",
       "..                                                 ...           ...   \n",
       "989                     Death: The High Cost of Living             1   \n",
       "990                                Moo  Baa  La La La!             1   \n",
       "991                 1 000 Places to See Before You Die             1   \n",
       "992                                  History of Beauty             1   \n",
       "993               Tsubasa: RESERVoir CHRoNiCLE  Vol. 1             1   \n",
       "\n",
       "     avg_rating  \n",
       "0          3.66  \n",
       "1          4.41  \n",
       "2          4.29  \n",
       "3          4.26  \n",
       "4          4.21  \n",
       "..          ...  \n",
       "989        3.00  \n",
       "990        3.00  \n",
       "991        2.50  \n",
       "992        2.50  \n",
       "993        2.50  \n",
       "\n",
       "[994 rows x 3 columns]"
      ]
     },
     "metadata": {},
     "output_type": "display_data"
    }
   ],
   "source": [
    "query_2 = '''\n",
    "WITH book_r_r AS\n",
    "(\n",
    "    SELECT rat.book_id,\n",
    "           COUNT(DISTINCT review_id) as count_review,\n",
    "           round(avg(rat.rating),2) as avg_rating\n",
    "    FROM reviews as rev\n",
    "    INNER JOIN books as b ON rev.book_id = b.book_id\n",
    "    INNER JOIN ratings as rat ON b.book_id = rat.book_id\n",
    "    GROUP BY rat.book_id\n",
    "    ORDER BY 2 DESC,\n",
    "             3 DESC\n",
    ")\n",
    "\n",
    "SELECT title, \n",
    "       count_review,\n",
    "       avg_rating\n",
    "FROM book_r_r\n",
    "JOIN books as b ON book_r_r.book_id = b.book_id\n",
    "'''\n",
    "select_query(query_2)"
   ]
  },
  {
   "cell_type": "markdown",
   "metadata": {},
   "source": [
    "Расчет произведен и выведен на экран. В таблице получилось 994 строки, на 6 книг обзоров не было, поэтому они не попали в таблицу"
   ]
  },
  {
   "cell_type": "markdown",
   "metadata": {},
   "source": [
    "Дополнительный запрос, который выведет общее количество книг "
   ]
  },
  {
   "cell_type": "code",
   "execution_count": 7,
   "metadata": {},
   "outputs": [
    {
     "data": {
      "text/html": [
       "<div>\n",
       "<style scoped>\n",
       "    .dataframe tbody tr th:only-of-type {\n",
       "        vertical-align: middle;\n",
       "    }\n",
       "\n",
       "    .dataframe tbody tr th {\n",
       "        vertical-align: top;\n",
       "    }\n",
       "\n",
       "    .dataframe thead th {\n",
       "        text-align: right;\n",
       "    }\n",
       "</style>\n",
       "<table border=\"1\" class=\"dataframe\">\n",
       "  <thead>\n",
       "    <tr style=\"text-align: right;\">\n",
       "      <th></th>\n",
       "      <th>count</th>\n",
       "    </tr>\n",
       "  </thead>\n",
       "  <tbody>\n",
       "    <tr>\n",
       "      <th>0</th>\n",
       "      <td>1000</td>\n",
       "    </tr>\n",
       "  </tbody>\n",
       "</table>\n",
       "</div>"
      ],
      "text/plain": [
       "   count\n",
       "0   1000"
      ]
     },
     "metadata": {},
     "output_type": "display_data"
    }
   ],
   "source": [
    "query_21 = '''\n",
    "SELECT count(*)\n",
    "FROM books\n",
    "'''\n",
    "select_query(query_21)"
   ]
  },
  {
   "cell_type": "code",
   "execution_count": 8,
   "metadata": {},
   "outputs": [
    {
     "data": {
      "text/html": [
       "<div>\n",
       "<style scoped>\n",
       "    .dataframe tbody tr th:only-of-type {\n",
       "        vertical-align: middle;\n",
       "    }\n",
       "\n",
       "    .dataframe tbody tr th {\n",
       "        vertical-align: top;\n",
       "    }\n",
       "\n",
       "    .dataframe thead th {\n",
       "        text-align: right;\n",
       "    }\n",
       "</style>\n",
       "<table border=\"1\" class=\"dataframe\">\n",
       "  <thead>\n",
       "    <tr style=\"text-align: right;\">\n",
       "      <th></th>\n",
       "      <th>title</th>\n",
       "      <th>count_review</th>\n",
       "      <th>avg_rating</th>\n",
       "    </tr>\n",
       "  </thead>\n",
       "  <tbody>\n",
       "    <tr>\n",
       "      <th>0</th>\n",
       "      <td>Twilight (Twilight  #1)</td>\n",
       "      <td>7</td>\n",
       "      <td>3.66</td>\n",
       "    </tr>\n",
       "    <tr>\n",
       "      <th>1</th>\n",
       "      <td>Harry Potter and the Prisoner of Azkaban (Harr...</td>\n",
       "      <td>6</td>\n",
       "      <td>4.41</td>\n",
       "    </tr>\n",
       "    <tr>\n",
       "      <th>2</th>\n",
       "      <td>Harry Potter and the Chamber of Secrets (Harry...</td>\n",
       "      <td>6</td>\n",
       "      <td>4.29</td>\n",
       "    </tr>\n",
       "    <tr>\n",
       "      <th>3</th>\n",
       "      <td>The Book Thief</td>\n",
       "      <td>6</td>\n",
       "      <td>4.26</td>\n",
       "    </tr>\n",
       "    <tr>\n",
       "      <th>4</th>\n",
       "      <td>The Glass Castle</td>\n",
       "      <td>6</td>\n",
       "      <td>4.21</td>\n",
       "    </tr>\n",
       "    <tr>\n",
       "      <th>...</th>\n",
       "      <td>...</td>\n",
       "      <td>...</td>\n",
       "      <td>...</td>\n",
       "    </tr>\n",
       "    <tr>\n",
       "      <th>995</th>\n",
       "      <td>Disney's Beauty and the Beast (A Little Golden...</td>\n",
       "      <td>0</td>\n",
       "      <td>4.00</td>\n",
       "    </tr>\n",
       "    <tr>\n",
       "      <th>996</th>\n",
       "      <td>Leonardo's Notebooks</td>\n",
       "      <td>0</td>\n",
       "      <td>4.00</td>\n",
       "    </tr>\n",
       "    <tr>\n",
       "      <th>997</th>\n",
       "      <td>Essential Tales and Poems</td>\n",
       "      <td>0</td>\n",
       "      <td>4.00</td>\n",
       "    </tr>\n",
       "    <tr>\n",
       "      <th>998</th>\n",
       "      <td>Anne Rice's The Vampire Lestat: A Graphic Novel</td>\n",
       "      <td>0</td>\n",
       "      <td>3.67</td>\n",
       "    </tr>\n",
       "    <tr>\n",
       "      <th>999</th>\n",
       "      <td>The Natural Way to Draw</td>\n",
       "      <td>0</td>\n",
       "      <td>3.00</td>\n",
       "    </tr>\n",
       "  </tbody>\n",
       "</table>\n",
       "<p>1000 rows × 3 columns</p>\n",
       "</div>"
      ],
      "text/plain": [
       "                                                 title  count_review  \\\n",
       "0                              Twilight (Twilight  #1)             7   \n",
       "1    Harry Potter and the Prisoner of Azkaban (Harr...             6   \n",
       "2    Harry Potter and the Chamber of Secrets (Harry...             6   \n",
       "3                                       The Book Thief             6   \n",
       "4                                     The Glass Castle             6   \n",
       "..                                                 ...           ...   \n",
       "995  Disney's Beauty and the Beast (A Little Golden...             0   \n",
       "996                               Leonardo's Notebooks             0   \n",
       "997                          Essential Tales and Poems             0   \n",
       "998    Anne Rice's The Vampire Lestat: A Graphic Novel             0   \n",
       "999                            The Natural Way to Draw             0   \n",
       "\n",
       "     avg_rating  \n",
       "0          3.66  \n",
       "1          4.41  \n",
       "2          4.29  \n",
       "3          4.26  \n",
       "4          4.21  \n",
       "..          ...  \n",
       "995        4.00  \n",
       "996        4.00  \n",
       "997        4.00  \n",
       "998        3.67  \n",
       "999        3.00  \n",
       "\n",
       "[1000 rows x 3 columns]"
      ]
     },
     "metadata": {},
     "output_type": "display_data"
    }
   ],
   "source": [
    "query_22 = '''\n",
    "WITH book_r_r AS\n",
    "(\n",
    "    SELECT rat.book_id,\n",
    "           COUNT(DISTINCT review_id) as count_review,\n",
    "           round(avg(rat.rating),2) as avg_rating\n",
    "    FROM reviews as rev\n",
    "    RIGHT JOIN books as b ON rev.book_id = b.book_id\n",
    "    RIGHT JOIN ratings as rat ON b.book_id = rat.book_id\n",
    "    GROUP BY rat.book_id\n",
    "    ORDER BY 2 DESC,\n",
    "             3 DESC\n",
    ")\n",
    "\n",
    "SELECT title, \n",
    "       count_review,\n",
    "       avg_rating\n",
    "FROM book_r_r\n",
    "RIGHT JOIN books as b ON book_r_r.book_id = b.book_id\n",
    "'''\n",
    "select_query(query_22)"
   ]
  },
  {
   "cell_type": "markdown",
   "metadata": {},
   "source": [
    "Расчет произведен и выведен на экран. "
   ]
  },
  {
   "cell_type": "markdown",
   "metadata": {},
   "source": [
    "### Третий SQL-запрос"
   ]
  },
  {
   "cell_type": "markdown",
   "metadata": {},
   "source": [
    "Определите издательство, которое выпустило наибольшее число книг толще 50 страниц — так вы исключите из анализа брошюры"
   ]
  },
  {
   "cell_type": "code",
   "execution_count": 9,
   "metadata": {},
   "outputs": [
    {
     "data": {
      "text/html": [
       "<div>\n",
       "<style scoped>\n",
       "    .dataframe tbody tr th:only-of-type {\n",
       "        vertical-align: middle;\n",
       "    }\n",
       "\n",
       "    .dataframe tbody tr th {\n",
       "        vertical-align: top;\n",
       "    }\n",
       "\n",
       "    .dataframe thead th {\n",
       "        text-align: right;\n",
       "    }\n",
       "</style>\n",
       "<table border=\"1\" class=\"dataframe\">\n",
       "  <thead>\n",
       "    <tr style=\"text-align: right;\">\n",
       "      <th></th>\n",
       "      <th>publisher</th>\n",
       "      <th>max_count_books</th>\n",
       "    </tr>\n",
       "  </thead>\n",
       "  <tbody>\n",
       "    <tr>\n",
       "      <th>0</th>\n",
       "      <td>Penguin Books</td>\n",
       "      <td>42</td>\n",
       "    </tr>\n",
       "  </tbody>\n",
       "</table>\n",
       "</div>"
      ],
      "text/plain": [
       "       publisher  max_count_books\n",
       "0  Penguin Books               42"
      ]
     },
     "metadata": {},
     "output_type": "display_data"
    }
   ],
   "source": [
    "query_3 = '''\n",
    "    SELECT pub.publisher, \n",
    "           COUNT(book_id) as max_count_books\n",
    "    FROM publishers as pub\n",
    "    INNER JOIN books as b ON pub.publisher_id = b.publisher_id\n",
    "    WHERE book_id IN\n",
    "    (\n",
    "     SELECT book_id\n",
    "     FROM books\n",
    "     WHERE num_pages > 50\n",
    "    )\n",
    "     GROUP BY pub.publisher_id\n",
    "     ORDER BY COUNT(book_id) DESC\n",
    "     LIMIT 1\n",
    "'''\n",
    "select_query(query_3)"
   ]
  },
  {
   "cell_type": "markdown",
   "metadata": {},
   "source": [
    "Издательство, которое выпустило наибольшее число книг толще 50 страниц, это - Penguin Books"
   ]
  },
  {
   "cell_type": "markdown",
   "metadata": {},
   "source": [
    "### Четвертый SQL-запрос"
   ]
  },
  {
   "cell_type": "markdown",
   "metadata": {},
   "source": [
    "Определите автора с самой высокой средней оценкой книг — учитывайте только книги с 50 и более оценками"
   ]
  },
  {
   "cell_type": "code",
   "execution_count": 10,
   "metadata": {},
   "outputs": [
    {
     "data": {
      "text/html": [
       "<div>\n",
       "<style scoped>\n",
       "    .dataframe tbody tr th:only-of-type {\n",
       "        vertical-align: middle;\n",
       "    }\n",
       "\n",
       "    .dataframe tbody tr th {\n",
       "        vertical-align: top;\n",
       "    }\n",
       "\n",
       "    .dataframe thead th {\n",
       "        text-align: right;\n",
       "    }\n",
       "</style>\n",
       "<table border=\"1\" class=\"dataframe\">\n",
       "  <thead>\n",
       "    <tr style=\"text-align: right;\">\n",
       "      <th></th>\n",
       "      <th>author</th>\n",
       "      <th>high_avg_rating</th>\n",
       "    </tr>\n",
       "  </thead>\n",
       "  <tbody>\n",
       "    <tr>\n",
       "      <th>0</th>\n",
       "      <td>J.K. Rowling/Mary GrandPré</td>\n",
       "      <td>4.41</td>\n",
       "    </tr>\n",
       "  </tbody>\n",
       "</table>\n",
       "</div>"
      ],
      "text/plain": [
       "                       author  high_avg_rating\n",
       "0  J.K. Rowling/Mary GrandPré             4.41"
      ]
     },
     "metadata": {},
     "output_type": "display_data"
    }
   ],
   "source": [
    "query_4 = '''\n",
    "    WITH max_r AS\n",
    "    (\n",
    "    SELECT author_id,\n",
    "            a_r\n",
    "    FROM books as b\n",
    "    JOIN    \n",
    "    (\n",
    "     SELECT book_id,\n",
    "            AVG(rating) as a_r\n",
    "     FROM ratings\n",
    "     GROUP BY book_id\n",
    "     HAVING COUNT(rating_id) >= 50\n",
    "    ) as avg_rat on b.book_id = avg_rat.book_id\n",
    "    ORDER BY a_r DESC\n",
    "    LIMIT 1\n",
    "    )\n",
    "    \n",
    "    SELECT author,\n",
    "           round(a_r,2) as high_avg_rating\n",
    "    FROM max_r\n",
    "    INNER JOIN authors as a ON max_r.author_id = a.author_id\n",
    "'''\n",
    "select_query(query_4)"
   ]
  },
  {
   "cell_type": "markdown",
   "metadata": {},
   "source": [
    "Автор с самой высокой средней оценкой книг - это J.K. Rowling/Mary GrandPré"
   ]
  },
  {
   "cell_type": "code",
   "execution_count": 13,
   "metadata": {},
   "outputs": [
    {
     "data": {
      "text/html": [
       "<div>\n",
       "<style scoped>\n",
       "    .dataframe tbody tr th:only-of-type {\n",
       "        vertical-align: middle;\n",
       "    }\n",
       "\n",
       "    .dataframe tbody tr th {\n",
       "        vertical-align: top;\n",
       "    }\n",
       "\n",
       "    .dataframe thead th {\n",
       "        text-align: right;\n",
       "    }\n",
       "</style>\n",
       "<table border=\"1\" class=\"dataframe\">\n",
       "  <thead>\n",
       "    <tr style=\"text-align: right;\">\n",
       "      <th></th>\n",
       "      <th>author</th>\n",
       "      <th>high_avg_rating</th>\n",
       "    </tr>\n",
       "  </thead>\n",
       "  <tbody>\n",
       "    <tr>\n",
       "      <th>0</th>\n",
       "      <td>J.K. Rowling/Mary GrandPré</td>\n",
       "      <td>4.2871</td>\n",
       "    </tr>\n",
       "  </tbody>\n",
       "</table>\n",
       "</div>"
      ],
      "text/plain": [
       "                       author  high_avg_rating\n",
       "0  J.K. Rowling/Mary GrandPré           4.2871"
      ]
     },
     "metadata": {},
     "output_type": "display_data"
    }
   ],
   "source": [
    "query_4 = '''\n",
    "    WITH max_r AS\n",
    "    (\n",
    "    SELECT b.author_id,\n",
    "           AVG(r.rating) as a_r\n",
    "    FROM books as b\n",
    "    JOIN    \n",
    "    (\n",
    "     SELECT book_id\n",
    "     FROM ratings\n",
    "     GROUP BY book_id\n",
    "     HAVING COUNT(rating_id) >= 50\n",
    "    ) as avg_rat ON b.book_id = avg_rat.book_id\n",
    "    JOIN ratings as r ON b.book_id = r.book_id\n",
    "    GROUP BY b.author_id\n",
    "    ORDER BY a_r DESC\n",
    "    LIMIT 1\n",
    "    )\n",
    "    \n",
    "    SELECT author,\n",
    "           round(a_r,5) as high_avg_rating\n",
    "    FROM max_r\n",
    "    INNER JOIN authors as a ON max_r.author_id = a.author_id\n",
    "'''\n",
    "select_query(query_4)"
   ]
  },
  {
   "cell_type": "markdown",
   "metadata": {},
   "source": [
    "### Пятый SQL-запрос"
   ]
  },
  {
   "cell_type": "markdown",
   "metadata": {},
   "source": [
    "Посчитайте среднее количество обзоров от пользователей, которые поставили больше 50 оценок."
   ]
  },
  {
   "cell_type": "code",
   "execution_count": 12,
   "metadata": {},
   "outputs": [
    {
     "data": {
      "text/html": [
       "<div>\n",
       "<style scoped>\n",
       "    .dataframe tbody tr th:only-of-type {\n",
       "        vertical-align: middle;\n",
       "    }\n",
       "\n",
       "    .dataframe tbody tr th {\n",
       "        vertical-align: top;\n",
       "    }\n",
       "\n",
       "    .dataframe thead th {\n",
       "        text-align: right;\n",
       "    }\n",
       "</style>\n",
       "<table border=\"1\" class=\"dataframe\">\n",
       "  <thead>\n",
       "    <tr style=\"text-align: right;\">\n",
       "      <th></th>\n",
       "      <th>avg_rev</th>\n",
       "    </tr>\n",
       "  </thead>\n",
       "  <tbody>\n",
       "    <tr>\n",
       "      <th>0</th>\n",
       "      <td>24.0</td>\n",
       "    </tr>\n",
       "  </tbody>\n",
       "</table>\n",
       "</div>"
      ],
      "text/plain": [
       "   avg_rev\n",
       "0     24.0"
      ]
     },
     "metadata": {},
     "output_type": "display_data"
    }
   ],
   "source": [
    "query_5 = '''\n",
    "    WITH us AS\n",
    "    (\n",
    "    SELECT username,\n",
    "           COUNT(review_id)\n",
    "    FROM reviews\n",
    "    WHERE username in\n",
    "    (\n",
    "     SELECT username        \n",
    "     FROM ratings\n",
    "     GROUP BY username\n",
    "     HAVING COUNT(rating_id) >= 50\n",
    "    )\n",
    "    GROUP BY username\n",
    "    )\n",
    "    \n",
    "    SELECT round(AVG(count),0) as avg_rev\n",
    "    FROM us\n",
    "'''\n",
    "select_query(query_5)"
   ]
  },
  {
   "cell_type": "markdown",
   "metadata": {},
   "source": [
    "Cреднее количество обзоров от пользователей, которые поставили больше 50 оценок, равно 206."
   ]
  },
  {
   "cell_type": "markdown",
   "metadata": {},
   "source": [
    "## Выводы по проекту"
   ]
  },
  {
   "cell_type": "markdown",
   "metadata": {},
   "source": [
    "Все задания выполнены.\n",
    "<br>\n",
    "<br>**Ответы**:\n",
    "- после 1 января 2000 года вышло 819 книг,\n",
    "- количество обзоров и средняя оценка для каждой книги приведена в пункте 4.2,\n",
    "- издательство, которое выпустило наибольшее число книг толще 50 страниц - Penguin Books,\n",
    "- автор с самой высокой средней оценкой книг - это J.K. Rowling/Mary GrandPré,\n",
    "- среднее количество обзоров от пользователей, которые поставили больше 50 оценок, равно 24."
   ]
  }
 ],
 "metadata": {
  "ExecuteTimeLog": [
   {
    "duration": 91,
    "start_time": "2022-06-28T16:02:54.728Z"
   },
   {
    "duration": 9751,
    "start_time": "2022-06-28T16:04:08.827Z"
   },
   {
    "duration": 156,
    "start_time": "2022-06-28T16:04:26.712Z"
   },
   {
    "duration": 3,
    "start_time": "2022-06-28T16:06:00.766Z"
   },
   {
    "duration": 10,
    "start_time": "2022-06-28T16:06:21.785Z"
   },
   {
    "duration": 126,
    "start_time": "2022-06-28T16:06:48.831Z"
   },
   {
    "duration": 28,
    "start_time": "2022-06-28T16:06:59.386Z"
   },
   {
    "duration": 14,
    "start_time": "2022-06-28T16:07:33.573Z"
   },
   {
    "duration": 12,
    "start_time": "2022-06-28T16:08:02.999Z"
   },
   {
    "duration": 12,
    "start_time": "2022-06-28T16:08:30.993Z"
   },
   {
    "duration": 84,
    "start_time": "2022-06-28T16:08:57.466Z"
   },
   {
    "duration": 10355,
    "start_time": "2022-06-28T16:09:34.485Z"
   },
   {
    "duration": 136,
    "start_time": "2022-06-28T16:09:44.842Z"
   },
   {
    "duration": 3,
    "start_time": "2022-06-28T16:09:44.980Z"
   },
   {
    "duration": 14,
    "start_time": "2022-06-28T16:09:44.984Z"
   },
   {
    "duration": 26,
    "start_time": "2022-06-28T16:09:45.000Z"
   },
   {
    "duration": 12,
    "start_time": "2022-06-28T16:09:45.027Z"
   },
   {
    "duration": 12,
    "start_time": "2022-06-28T16:09:45.040Z"
   },
   {
    "duration": 12,
    "start_time": "2022-06-28T16:09:45.054Z"
   },
   {
    "duration": 9668,
    "start_time": "2022-06-28T16:10:29.391Z"
   },
   {
    "duration": 162,
    "start_time": "2022-06-28T16:10:39.061Z"
   },
   {
    "duration": 3,
    "start_time": "2022-06-28T16:10:39.225Z"
   },
   {
    "duration": 14,
    "start_time": "2022-06-28T16:10:39.229Z"
   },
   {
    "duration": 28,
    "start_time": "2022-06-28T16:10:39.245Z"
   },
   {
    "duration": 12,
    "start_time": "2022-06-28T16:10:39.274Z"
   },
   {
    "duration": 12,
    "start_time": "2022-06-28T16:10:39.288Z"
   },
   {
    "duration": 11,
    "start_time": "2022-06-28T16:10:39.302Z"
   },
   {
    "duration": 87,
    "start_time": "2022-06-28T17:43:28.170Z"
   },
   {
    "duration": 2,
    "start_time": "2022-06-28T17:43:47.239Z"
   },
   {
    "duration": 4,
    "start_time": "2022-06-28T17:43:50.590Z"
   },
   {
    "duration": 76,
    "start_time": "2022-06-28T17:47:49.809Z"
   },
   {
    "duration": 70,
    "start_time": "2022-06-28T17:48:31.845Z"
   },
   {
    "duration": 27,
    "start_time": "2022-06-28T17:48:38.272Z"
   },
   {
    "duration": 33,
    "start_time": "2022-06-28T17:48:46.197Z"
   },
   {
    "duration": 26,
    "start_time": "2022-06-28T17:49:25.364Z"
   },
   {
    "duration": 28,
    "start_time": "2022-06-28T17:49:31.979Z"
   },
   {
    "duration": 26,
    "start_time": "2022-06-28T17:49:40.072Z"
   },
   {
    "duration": 76,
    "start_time": "2022-06-28T17:52:44.193Z"
   },
   {
    "duration": 182,
    "start_time": "2022-06-28T17:54:23.570Z"
   },
   {
    "duration": 109,
    "start_time": "2022-06-28T17:54:38.105Z"
   },
   {
    "duration": 11,
    "start_time": "2022-06-28T17:54:42.484Z"
   },
   {
    "duration": 25,
    "start_time": "2022-06-28T17:54:52.029Z"
   },
   {
    "duration": 28,
    "start_time": "2022-06-28T17:55:34.973Z"
   },
   {
    "duration": 110,
    "start_time": "2022-06-28T17:56:07.580Z"
   },
   {
    "duration": 95,
    "start_time": "2022-06-28T17:57:04.173Z"
   },
   {
    "duration": 148,
    "start_time": "2022-06-28T17:58:04.432Z"
   },
   {
    "duration": 123,
    "start_time": "2022-06-28T17:58:32.691Z"
   },
   {
    "duration": 134,
    "start_time": "2022-06-28T17:59:59.569Z"
   },
   {
    "duration": 14,
    "start_time": "2022-06-28T18:00:03.186Z"
   },
   {
    "duration": 101,
    "start_time": "2022-06-28T18:00:14.369Z"
   },
   {
    "duration": 113,
    "start_time": "2022-06-28T18:00:40.938Z"
   },
   {
    "duration": 100,
    "start_time": "2022-06-28T18:01:33.888Z"
   },
   {
    "duration": 14,
    "start_time": "2022-06-28T18:02:04.897Z"
   },
   {
    "duration": 13,
    "start_time": "2022-06-28T18:03:55.508Z"
   },
   {
    "duration": 104,
    "start_time": "2022-06-28T18:05:58.312Z"
   },
   {
    "duration": 99,
    "start_time": "2022-06-28T18:06:30.386Z"
   },
   {
    "duration": 106,
    "start_time": "2022-06-28T18:07:02.575Z"
   },
   {
    "duration": 100,
    "start_time": "2022-06-28T18:08:35.399Z"
   },
   {
    "duration": 158,
    "start_time": "2022-06-28T18:10:51.689Z"
   },
   {
    "duration": 106,
    "start_time": "2022-06-28T18:11:10.180Z"
   },
   {
    "duration": 15,
    "start_time": "2022-06-28T18:11:15.722Z"
   },
   {
    "duration": 103,
    "start_time": "2022-06-28T18:11:51.012Z"
   },
   {
    "duration": 13,
    "start_time": "2022-06-28T18:12:20.110Z"
   },
   {
    "duration": 115,
    "start_time": "2022-06-28T18:13:08.954Z"
   },
   {
    "duration": 17,
    "start_time": "2022-06-28T18:13:26.045Z"
   },
   {
    "duration": 14,
    "start_time": "2022-06-28T18:13:46.406Z"
   },
   {
    "duration": 13,
    "start_time": "2022-06-28T18:13:59.311Z"
   },
   {
    "duration": 15,
    "start_time": "2022-06-28T18:14:06.886Z"
   },
   {
    "duration": 15,
    "start_time": "2022-06-28T18:14:49.831Z"
   },
   {
    "duration": 13,
    "start_time": "2022-06-28T18:14:56.448Z"
   },
   {
    "duration": 49,
    "start_time": "2022-06-29T17:02:18.795Z"
   },
   {
    "duration": 7,
    "start_time": "2022-06-29T17:04:13.763Z"
   },
   {
    "duration": 522,
    "start_time": "2022-06-29T17:04:22.993Z"
   },
   {
    "duration": 10419,
    "start_time": "2022-06-29T17:04:23.517Z"
   },
   {
    "duration": 590,
    "start_time": "2022-06-29T17:04:33.938Z"
   },
   {
    "duration": 3,
    "start_time": "2022-06-29T17:04:34.530Z"
   },
   {
    "duration": 93,
    "start_time": "2022-06-29T17:04:34.536Z"
   },
   {
    "duration": 80,
    "start_time": "2022-06-29T17:04:34.630Z"
   },
   {
    "duration": 63,
    "start_time": "2022-06-29T17:04:34.712Z"
   },
   {
    "duration": 79,
    "start_time": "2022-06-29T17:04:34.777Z"
   },
   {
    "duration": 66,
    "start_time": "2022-06-29T17:04:34.858Z"
   },
   {
    "duration": 66,
    "start_time": "2022-06-29T17:04:34.926Z"
   },
   {
    "duration": 68,
    "start_time": "2022-06-29T17:04:34.994Z"
   },
   {
    "duration": 67,
    "start_time": "2022-06-29T17:04:35.063Z"
   },
   {
    "duration": 67,
    "start_time": "2022-06-29T17:07:28.215Z"
   }
  ],
  "kernelspec": {
   "display_name": "Python 3 (ipykernel)",
   "language": "python",
   "name": "python3"
  },
  "language_info": {
   "codemirror_mode": {
    "name": "ipython",
    "version": 3
   },
   "file_extension": ".py",
   "mimetype": "text/x-python",
   "name": "python",
   "nbconvert_exporter": "python",
   "pygments_lexer": "ipython3",
   "version": "3.9.5"
  },
  "toc": {
   "base_numbering": 1,
   "nav_menu": {},
   "number_sections": true,
   "sideBar": true,
   "skip_h1_title": true,
   "title_cell": "Table of Contents",
   "title_sidebar": "Contents",
   "toc_cell": false,
   "toc_position": {
    "height": "calc(100% - 180px)",
    "left": "10px",
    "top": "150px",
    "width": "305px"
   },
   "toc_section_display": true,
   "toc_window_display": true
  }
 },
 "nbformat": 4,
 "nbformat_minor": 2
}
