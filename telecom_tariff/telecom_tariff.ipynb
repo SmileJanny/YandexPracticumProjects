{
 "cells": [
  {
   "cell_type": "markdown",
   "metadata": {},
   "source": [
    "<h1>Содержание<span class=\"tocSkip\"></span></h1>\n"
   ]
  },
  {
   "cell_type": "markdown",
   "metadata": {},
   "source": [
    "# Определение перспективного тарифа для телеком-компании"
   ]
  },
  {
   "cell_type": "markdown",
   "metadata": {},
   "source": [
    "Вы аналитик компании «Мегалайн» — федерального оператора сотовой связи. Клиентам предлагают два тарифных плана: «Смарт» и «Ультра». Чтобы скорректировать рекламный бюджет, коммерческий департамент хочет понять, какой тариф приносит больше денег.\n",
    "Вам предстоит сделать предварительный анализ тарифов на небольшой выборке клиентов. В вашем распоряжении данные 500 пользователей «Мегалайна»: кто они, откуда, каким тарифом пользуются, сколько звонков и сообщений каждый отправил за 2018 год. Нужно проанализировать поведение клиентов и сделать вывод — какой тариф лучше.\n",
    "\n",
    "**Цель проекта**: проанализировать поведение клиентов и сделать вывод — какой тариф лучше.\n",
    "\n",
    "Для достижения поставленной цели необходимо выполнить следующие задачи:\n",
    "\n",
    "**Задачи проекта**:\n",
    "\n",
    "1. описание поведения клиентов оператора, исходя из выборки\n",
    "2. проверка гипотезы о том, что средняя выручка пользователей тарифов «Ультра» и «Смарт» различаются\n",
    "3. проверка гипотезы о том, что средняя выручка пользователей из Москвы отличается от выручки пользователей из других регионов"
   ]
  },
  {
   "cell_type": "markdown",
   "metadata": {},
   "source": [
    "## Изучение данных из файлов"
   ]
  },
  {
   "cell_type": "code",
   "execution_count": 1,
   "metadata": {},
   "outputs": [],
   "source": [
    "#Импорт библиотек\n",
    "import pandas as pd\n",
    "import numpy as np\n",
    "import matplotlib.pyplot as plt\n",
    "import seaborn as sns\n",
    "from scipy import stats as stat\n",
    "import calendar"
   ]
  },
  {
   "cell_type": "markdown",
   "metadata": {},
   "source": [
    "### Файл с информацией о звонках"
   ]
  },
  {
   "cell_type": "code",
   "execution_count": 2,
   "metadata": {},
   "outputs": [
    {
     "data": {
      "text/html": [
       "<div>\n",
       "<style scoped>\n",
       "    .dataframe tbody tr th:only-of-type {\n",
       "        vertical-align: middle;\n",
       "    }\n",
       "\n",
       "    .dataframe tbody tr th {\n",
       "        vertical-align: top;\n",
       "    }\n",
       "\n",
       "    .dataframe thead th {\n",
       "        text-align: right;\n",
       "    }\n",
       "</style>\n",
       "<table border=\"1\" class=\"dataframe\">\n",
       "  <thead>\n",
       "    <tr style=\"text-align: right;\">\n",
       "      <th></th>\n",
       "      <th>id</th>\n",
       "      <th>call_date</th>\n",
       "      <th>duration</th>\n",
       "      <th>user_id</th>\n",
       "    </tr>\n",
       "  </thead>\n",
       "  <tbody>\n",
       "    <tr>\n",
       "      <td>0</td>\n",
       "      <td>1000_0</td>\n",
       "      <td>2018-07-25</td>\n",
       "      <td>0.00</td>\n",
       "      <td>1000</td>\n",
       "    </tr>\n",
       "    <tr>\n",
       "      <td>1</td>\n",
       "      <td>1000_1</td>\n",
       "      <td>2018-08-17</td>\n",
       "      <td>0.00</td>\n",
       "      <td>1000</td>\n",
       "    </tr>\n",
       "    <tr>\n",
       "      <td>2</td>\n",
       "      <td>1000_2</td>\n",
       "      <td>2018-06-11</td>\n",
       "      <td>2.85</td>\n",
       "      <td>1000</td>\n",
       "    </tr>\n",
       "    <tr>\n",
       "      <td>3</td>\n",
       "      <td>1000_3</td>\n",
       "      <td>2018-09-21</td>\n",
       "      <td>13.80</td>\n",
       "      <td>1000</td>\n",
       "    </tr>\n",
       "    <tr>\n",
       "      <td>4</td>\n",
       "      <td>1000_4</td>\n",
       "      <td>2018-12-15</td>\n",
       "      <td>5.18</td>\n",
       "      <td>1000</td>\n",
       "    </tr>\n",
       "  </tbody>\n",
       "</table>\n",
       "</div>"
      ],
      "text/plain": [
       "       id   call_date  duration  user_id\n",
       "0  1000_0  2018-07-25      0.00     1000\n",
       "1  1000_1  2018-08-17      0.00     1000\n",
       "2  1000_2  2018-06-11      2.85     1000\n",
       "3  1000_3  2018-09-21     13.80     1000\n",
       "4  1000_4  2018-12-15      5.18     1000"
      ]
     },
     "metadata": {},
     "output_type": "display_data"
    },
    {
     "name": "stdout",
     "output_type": "stream",
     "text": [
      "<class 'pandas.core.frame.DataFrame'>\n",
      "RangeIndex: 202607 entries, 0 to 202606\n",
      "Data columns (total 4 columns):\n",
      "id           202607 non-null object\n",
      "call_date    202607 non-null object\n",
      "duration     202607 non-null float64\n",
      "user_id      202607 non-null int64\n",
      "dtypes: float64(1), int64(1), object(2)\n",
      "memory usage: 6.2+ MB\n"
     ]
    }
   ],
   "source": [
    "#Читаем первый файл\n",
    "data_calls = pd.read_csv('/datasets/calls.csv') \n",
    "#Просмотр первые строки файла\n",
    "display(data_calls.head())\n",
    "#Просмотр общей информации о файле\n",
    "data_calls.info() "
   ]
  },
  {
   "cell_type": "code",
   "execution_count": 3,
   "metadata": {},
   "outputs": [
    {
     "name": "stdout",
     "output_type": "stream",
     "text": [
      "1000_0      1\n",
      "1000_1      1\n",
      "1000_10     1\n",
      "1000_100    1\n",
      "1000_101    1\n",
      "           ..\n",
      "1499_95     1\n",
      "1499_96     1\n",
      "1499_97     1\n",
      "1499_98     1\n",
      "1499_99     1\n",
      "Name: id, Length: 202607, dtype: int64\n",
      "2018-01-01       5\n",
      "2018-01-02       9\n",
      "2018-01-03       7\n",
      "2018-01-04      23\n",
      "2018-01-05      20\n",
      "              ... \n",
      "2018-12-27    1110\n",
      "2018-12-28    1106\n",
      "2018-12-29    1202\n",
      "2018-12-30    1192\n",
      "2018-12-31    1435\n",
      "Name: call_date, Length: 365, dtype: int64\n",
      "0.00     39613\n",
      "0.01       101\n",
      "0.02        84\n",
      "0.03        80\n",
      "0.04        85\n",
      "         ...  \n",
      "35.95        1\n",
      "36.12        1\n",
      "36.47        1\n",
      "37.35        1\n",
      "38.00        1\n",
      "Name: duration, Length: 2871, dtype: int64\n",
      "1000    368\n",
      "1001    122\n",
      "1002    217\n",
      "1003    520\n",
      "1004    176\n",
      "       ... \n",
      "1495    565\n",
      "1496    828\n",
      "1497    201\n",
      "1498    180\n",
      "1499    220\n",
      "Name: user_id, Length: 492, dtype: int64\n"
     ]
    }
   ],
   "source": [
    "for column in data_calls:\n",
    "        print(data_calls[column].value_counts().sort_index(ascending=True))"
   ]
  },
  {
   "cell_type": "code",
   "execution_count": 4,
   "metadata": {},
   "outputs": [
    {
     "data": {
      "text/plain": [
       "0"
      ]
     },
     "execution_count": 4,
     "metadata": {},
     "output_type": "execute_result"
    }
   ],
   "source": [
    "#Проверим таблицу на явные дубликаты\n",
    "data_calls.duplicated().sum()"
   ]
  },
  {
   "cell_type": "markdown",
   "metadata": {},
   "source": [
    "### Файл с информацией об интернет-сессиях"
   ]
  },
  {
   "cell_type": "code",
   "execution_count": 5,
   "metadata": {},
   "outputs": [
    {
     "data": {
      "text/html": [
       "<div>\n",
       "<style scoped>\n",
       "    .dataframe tbody tr th:only-of-type {\n",
       "        vertical-align: middle;\n",
       "    }\n",
       "\n",
       "    .dataframe tbody tr th {\n",
       "        vertical-align: top;\n",
       "    }\n",
       "\n",
       "    .dataframe thead th {\n",
       "        text-align: right;\n",
       "    }\n",
       "</style>\n",
       "<table border=\"1\" class=\"dataframe\">\n",
       "  <thead>\n",
       "    <tr style=\"text-align: right;\">\n",
       "      <th></th>\n",
       "      <th>Unnamed: 0</th>\n",
       "      <th>id</th>\n",
       "      <th>mb_used</th>\n",
       "      <th>session_date</th>\n",
       "      <th>user_id</th>\n",
       "    </tr>\n",
       "  </thead>\n",
       "  <tbody>\n",
       "    <tr>\n",
       "      <td>0</td>\n",
       "      <td>0</td>\n",
       "      <td>1000_0</td>\n",
       "      <td>112.95</td>\n",
       "      <td>2018-11-25</td>\n",
       "      <td>1000</td>\n",
       "    </tr>\n",
       "    <tr>\n",
       "      <td>1</td>\n",
       "      <td>1</td>\n",
       "      <td>1000_1</td>\n",
       "      <td>1052.81</td>\n",
       "      <td>2018-09-07</td>\n",
       "      <td>1000</td>\n",
       "    </tr>\n",
       "    <tr>\n",
       "      <td>2</td>\n",
       "      <td>2</td>\n",
       "      <td>1000_2</td>\n",
       "      <td>1197.26</td>\n",
       "      <td>2018-06-25</td>\n",
       "      <td>1000</td>\n",
       "    </tr>\n",
       "    <tr>\n",
       "      <td>3</td>\n",
       "      <td>3</td>\n",
       "      <td>1000_3</td>\n",
       "      <td>550.27</td>\n",
       "      <td>2018-08-22</td>\n",
       "      <td>1000</td>\n",
       "    </tr>\n",
       "    <tr>\n",
       "      <td>4</td>\n",
       "      <td>4</td>\n",
       "      <td>1000_4</td>\n",
       "      <td>302.56</td>\n",
       "      <td>2018-09-24</td>\n",
       "      <td>1000</td>\n",
       "    </tr>\n",
       "  </tbody>\n",
       "</table>\n",
       "</div>"
      ],
      "text/plain": [
       "   Unnamed: 0      id  mb_used session_date  user_id\n",
       "0           0  1000_0   112.95   2018-11-25     1000\n",
       "1           1  1000_1  1052.81   2018-09-07     1000\n",
       "2           2  1000_2  1197.26   2018-06-25     1000\n",
       "3           3  1000_3   550.27   2018-08-22     1000\n",
       "4           4  1000_4   302.56   2018-09-24     1000"
      ]
     },
     "metadata": {},
     "output_type": "display_data"
    },
    {
     "name": "stdout",
     "output_type": "stream",
     "text": [
      "<class 'pandas.core.frame.DataFrame'>\n",
      "RangeIndex: 149396 entries, 0 to 149395\n",
      "Data columns (total 5 columns):\n",
      "Unnamed: 0      149396 non-null int64\n",
      "id              149396 non-null object\n",
      "mb_used         149396 non-null float64\n",
      "session_date    149396 non-null object\n",
      "user_id         149396 non-null int64\n",
      "dtypes: float64(1), int64(2), object(2)\n",
      "memory usage: 5.7+ MB\n"
     ]
    }
   ],
   "source": [
    "#Читаем второй файл\n",
    "data_internet = pd.read_csv('/datasets/internet.csv') \n",
    "#Просмотр первые строки файла\n",
    "display(data_internet.head())\n",
    "#Просмотр общей информации о файле\n",
    "data_internet.info()"
   ]
  },
  {
   "cell_type": "code",
   "execution_count": 6,
   "metadata": {},
   "outputs": [
    {
     "name": "stdout",
     "output_type": "stream",
     "text": [
      "0         1\n",
      "1         1\n",
      "2         1\n",
      "3         1\n",
      "4         1\n",
      "         ..\n",
      "149391    1\n",
      "149392    1\n",
      "149393    1\n",
      "149394    1\n",
      "149395    1\n",
      "Name: Unnamed: 0, Length: 149396, dtype: int64\n",
      "1000_0      1\n",
      "1000_1      1\n",
      "1000_10     1\n",
      "1000_100    1\n",
      "1000_101    1\n",
      "           ..\n",
      "1499_95     1\n",
      "1499_96     1\n",
      "1499_97     1\n",
      "1499_98     1\n",
      "1499_99     1\n",
      "Name: id, Length: 149396, dtype: int64\n",
      "0.00       19598\n",
      "0.03           1\n",
      "0.04           1\n",
      "0.06           1\n",
      "0.07           2\n",
      "           ...  \n",
      "1623.92        1\n",
      "1651.25        1\n",
      "1651.55        1\n",
      "1702.75        1\n",
      "1724.83        1\n",
      "Name: mb_used, Length: 70003, dtype: int64\n",
      "2018-01-01       3\n",
      "2018-01-02       3\n",
      "2018-01-03       6\n",
      "2018-01-04       9\n",
      "2018-01-05      14\n",
      "              ... \n",
      "2018-12-27     803\n",
      "2018-12-28     802\n",
      "2018-12-29     825\n",
      "2018-12-30     903\n",
      "2018-12-31    1057\n",
      "Name: session_date, Length: 365, dtype: int64\n",
      "1000    211\n",
      "1001     96\n",
      "1002    369\n",
      "1003    104\n",
      "1004    300\n",
      "       ... \n",
      "1495    254\n",
      "1496    834\n",
      "1497    121\n",
      "1498    232\n",
      "1499    157\n",
      "Name: user_id, Length: 497, dtype: int64\n"
     ]
    }
   ],
   "source": [
    "for column in data_internet:\n",
    "        print(data_internet[column].value_counts().sort_index(ascending=True))"
   ]
  },
  {
   "cell_type": "code",
   "execution_count": 7,
   "metadata": {},
   "outputs": [
    {
     "data": {
      "text/plain": [
       "0"
      ]
     },
     "execution_count": 7,
     "metadata": {},
     "output_type": "execute_result"
    }
   ],
   "source": [
    "#Проверим таблицу на явные дубликаты\n",
    "data_internet.duplicated().sum()"
   ]
  },
  {
   "cell_type": "markdown",
   "metadata": {},
   "source": [
    "### Файл с информацией о сообщениях"
   ]
  },
  {
   "cell_type": "code",
   "execution_count": 8,
   "metadata": {},
   "outputs": [
    {
     "data": {
      "text/html": [
       "<div>\n",
       "<style scoped>\n",
       "    .dataframe tbody tr th:only-of-type {\n",
       "        vertical-align: middle;\n",
       "    }\n",
       "\n",
       "    .dataframe tbody tr th {\n",
       "        vertical-align: top;\n",
       "    }\n",
       "\n",
       "    .dataframe thead th {\n",
       "        text-align: right;\n",
       "    }\n",
       "</style>\n",
       "<table border=\"1\" class=\"dataframe\">\n",
       "  <thead>\n",
       "    <tr style=\"text-align: right;\">\n",
       "      <th></th>\n",
       "      <th>id</th>\n",
       "      <th>message_date</th>\n",
       "      <th>user_id</th>\n",
       "    </tr>\n",
       "  </thead>\n",
       "  <tbody>\n",
       "    <tr>\n",
       "      <td>0</td>\n",
       "      <td>1000_0</td>\n",
       "      <td>2018-06-27</td>\n",
       "      <td>1000</td>\n",
       "    </tr>\n",
       "    <tr>\n",
       "      <td>1</td>\n",
       "      <td>1000_1</td>\n",
       "      <td>2018-10-08</td>\n",
       "      <td>1000</td>\n",
       "    </tr>\n",
       "    <tr>\n",
       "      <td>2</td>\n",
       "      <td>1000_2</td>\n",
       "      <td>2018-08-04</td>\n",
       "      <td>1000</td>\n",
       "    </tr>\n",
       "    <tr>\n",
       "      <td>3</td>\n",
       "      <td>1000_3</td>\n",
       "      <td>2018-06-16</td>\n",
       "      <td>1000</td>\n",
       "    </tr>\n",
       "    <tr>\n",
       "      <td>4</td>\n",
       "      <td>1000_4</td>\n",
       "      <td>2018-12-05</td>\n",
       "      <td>1000</td>\n",
       "    </tr>\n",
       "  </tbody>\n",
       "</table>\n",
       "</div>"
      ],
      "text/plain": [
       "       id message_date  user_id\n",
       "0  1000_0   2018-06-27     1000\n",
       "1  1000_1   2018-10-08     1000\n",
       "2  1000_2   2018-08-04     1000\n",
       "3  1000_3   2018-06-16     1000\n",
       "4  1000_4   2018-12-05     1000"
      ]
     },
     "metadata": {},
     "output_type": "display_data"
    },
    {
     "name": "stdout",
     "output_type": "stream",
     "text": [
      "<class 'pandas.core.frame.DataFrame'>\n",
      "RangeIndex: 123036 entries, 0 to 123035\n",
      "Data columns (total 3 columns):\n",
      "id              123036 non-null object\n",
      "message_date    123036 non-null object\n",
      "user_id         123036 non-null int64\n",
      "dtypes: int64(1), object(2)\n",
      "memory usage: 2.8+ MB\n"
     ]
    }
   ],
   "source": [
    "#Читаем третий файл\n",
    "data_messages = pd.read_csv('/datasets/messages.csv') \n",
    "#Просмотр первые строки файла\n",
    "display(data_messages.head())\n",
    "#Просмотр общей информации о файле\n",
    "data_messages.info() "
   ]
  },
  {
   "cell_type": "code",
   "execution_count": 9,
   "metadata": {},
   "outputs": [
    {
     "name": "stdout",
     "output_type": "stream",
     "text": [
      "1000_0      1\n",
      "1000_1      1\n",
      "1000_10     1\n",
      "1000_100    1\n",
      "1000_101    1\n",
      "           ..\n",
      "1499_95     1\n",
      "1499_96     1\n",
      "1499_97     1\n",
      "1499_98     1\n",
      "1499_99     1\n",
      "Name: id, Length: 123036, dtype: int64\n",
      "2018-01-02     10\n",
      "2018-01-03      4\n",
      "2018-01-04     10\n",
      "2018-01-05     10\n",
      "2018-01-06     15\n",
      "             ... \n",
      "2018-12-27    644\n",
      "2018-12-28    699\n",
      "2018-12-29    702\n",
      "2018-12-30    765\n",
      "2018-12-31    859\n",
      "Name: message_date, Length: 364, dtype: int64\n",
      "1000     496\n",
      "1002      70\n",
      "1003     380\n",
      "1004    1192\n",
      "1005     552\n",
      "        ... \n",
      "1495     340\n",
      "1496     468\n",
      "1497      51\n",
      "1498     168\n",
      "1499     184\n",
      "Name: user_id, Length: 426, dtype: int64\n"
     ]
    }
   ],
   "source": [
    "for column in data_messages:\n",
    "        print(data_messages[column].value_counts().sort_index(ascending=True))"
   ]
  },
  {
   "cell_type": "code",
   "execution_count": 10,
   "metadata": {},
   "outputs": [
    {
     "data": {
      "text/plain": [
       "0"
      ]
     },
     "execution_count": 10,
     "metadata": {},
     "output_type": "execute_result"
    }
   ],
   "source": [
    "#Проверим таблицу на явные дубликаты\n",
    "data_messages.duplicated().sum()"
   ]
  },
  {
   "cell_type": "markdown",
   "metadata": {},
   "source": [
    "### Файл с информацией о тарифах"
   ]
  },
  {
   "cell_type": "code",
   "execution_count": 11,
   "metadata": {},
   "outputs": [
    {
     "data": {
      "text/html": [
       "<div>\n",
       "<style scoped>\n",
       "    .dataframe tbody tr th:only-of-type {\n",
       "        vertical-align: middle;\n",
       "    }\n",
       "\n",
       "    .dataframe tbody tr th {\n",
       "        vertical-align: top;\n",
       "    }\n",
       "\n",
       "    .dataframe thead th {\n",
       "        text-align: right;\n",
       "    }\n",
       "</style>\n",
       "<table border=\"1\" class=\"dataframe\">\n",
       "  <thead>\n",
       "    <tr style=\"text-align: right;\">\n",
       "      <th></th>\n",
       "      <th>messages_included</th>\n",
       "      <th>mb_per_month_included</th>\n",
       "      <th>minutes_included</th>\n",
       "      <th>rub_monthly_fee</th>\n",
       "      <th>rub_per_gb</th>\n",
       "      <th>rub_per_message</th>\n",
       "      <th>rub_per_minute</th>\n",
       "      <th>tariff_name</th>\n",
       "    </tr>\n",
       "  </thead>\n",
       "  <tbody>\n",
       "    <tr>\n",
       "      <td>0</td>\n",
       "      <td>50</td>\n",
       "      <td>15360</td>\n",
       "      <td>500</td>\n",
       "      <td>550</td>\n",
       "      <td>200</td>\n",
       "      <td>3</td>\n",
       "      <td>3</td>\n",
       "      <td>smart</td>\n",
       "    </tr>\n",
       "    <tr>\n",
       "      <td>1</td>\n",
       "      <td>1000</td>\n",
       "      <td>30720</td>\n",
       "      <td>3000</td>\n",
       "      <td>1950</td>\n",
       "      <td>150</td>\n",
       "      <td>1</td>\n",
       "      <td>1</td>\n",
       "      <td>ultra</td>\n",
       "    </tr>\n",
       "  </tbody>\n",
       "</table>\n",
       "</div>"
      ],
      "text/plain": [
       "   messages_included  mb_per_month_included  minutes_included  \\\n",
       "0                 50                  15360               500   \n",
       "1               1000                  30720              3000   \n",
       "\n",
       "   rub_monthly_fee  rub_per_gb  rub_per_message  rub_per_minute tariff_name  \n",
       "0              550         200                3               3       smart  \n",
       "1             1950         150                1               1       ultra  "
      ]
     },
     "metadata": {},
     "output_type": "display_data"
    },
    {
     "name": "stdout",
     "output_type": "stream",
     "text": [
      "<class 'pandas.core.frame.DataFrame'>\n",
      "RangeIndex: 2 entries, 0 to 1\n",
      "Data columns (total 8 columns):\n",
      "messages_included        2 non-null int64\n",
      "mb_per_month_included    2 non-null int64\n",
      "minutes_included         2 non-null int64\n",
      "rub_monthly_fee          2 non-null int64\n",
      "rub_per_gb               2 non-null int64\n",
      "rub_per_message          2 non-null int64\n",
      "rub_per_minute           2 non-null int64\n",
      "tariff_name              2 non-null object\n",
      "dtypes: int64(7), object(1)\n",
      "memory usage: 256.0+ bytes\n"
     ]
    }
   ],
   "source": [
    "#Читаем четвертый файл\n",
    "data_tariffs = pd.read_csv('/datasets/tariffs.csv') \n",
    "#Просмотр первые строки файла\n",
    "display(data_tariffs.head())\n",
    "#Просмотр общей информации о файле\n",
    "data_tariffs.info() "
   ]
  },
  {
   "cell_type": "code",
   "execution_count": 12,
   "metadata": {},
   "outputs": [
    {
     "name": "stdout",
     "output_type": "stream",
     "text": [
      "50      1\n",
      "1000    1\n",
      "Name: messages_included, dtype: int64\n",
      "15360    1\n",
      "30720    1\n",
      "Name: mb_per_month_included, dtype: int64\n",
      "500     1\n",
      "3000    1\n",
      "Name: minutes_included, dtype: int64\n",
      "550     1\n",
      "1950    1\n",
      "Name: rub_monthly_fee, dtype: int64\n",
      "150    1\n",
      "200    1\n",
      "Name: rub_per_gb, dtype: int64\n",
      "1    1\n",
      "3    1\n",
      "Name: rub_per_message, dtype: int64\n",
      "1    1\n",
      "3    1\n",
      "Name: rub_per_minute, dtype: int64\n",
      "smart    1\n",
      "ultra    1\n",
      "Name: tariff_name, dtype: int64\n"
     ]
    }
   ],
   "source": [
    "for column in data_tariffs:\n",
    "        print(data_tariffs[column].value_counts().sort_index(ascending=True))"
   ]
  },
  {
   "cell_type": "code",
   "execution_count": 13,
   "metadata": {},
   "outputs": [
    {
     "data": {
      "text/plain": [
       "0"
      ]
     },
     "execution_count": 13,
     "metadata": {},
     "output_type": "execute_result"
    }
   ],
   "source": [
    "#Проверим таблицу на явные дубликаты\n",
    "data_tariffs.duplicated().sum()"
   ]
  },
  {
   "cell_type": "markdown",
   "metadata": {},
   "source": [
    "### Файл с информацей о пользователях"
   ]
  },
  {
   "cell_type": "code",
   "execution_count": 14,
   "metadata": {},
   "outputs": [
    {
     "data": {
      "text/html": [
       "<div>\n",
       "<style scoped>\n",
       "    .dataframe tbody tr th:only-of-type {\n",
       "        vertical-align: middle;\n",
       "    }\n",
       "\n",
       "    .dataframe tbody tr th {\n",
       "        vertical-align: top;\n",
       "    }\n",
       "\n",
       "    .dataframe thead th {\n",
       "        text-align: right;\n",
       "    }\n",
       "</style>\n",
       "<table border=\"1\" class=\"dataframe\">\n",
       "  <thead>\n",
       "    <tr style=\"text-align: right;\">\n",
       "      <th></th>\n",
       "      <th>user_id</th>\n",
       "      <th>age</th>\n",
       "      <th>churn_date</th>\n",
       "      <th>city</th>\n",
       "      <th>first_name</th>\n",
       "      <th>last_name</th>\n",
       "      <th>reg_date</th>\n",
       "      <th>tariff</th>\n",
       "    </tr>\n",
       "  </thead>\n",
       "  <tbody>\n",
       "    <tr>\n",
       "      <td>0</td>\n",
       "      <td>1000</td>\n",
       "      <td>52</td>\n",
       "      <td>NaN</td>\n",
       "      <td>Краснодар</td>\n",
       "      <td>Рафаил</td>\n",
       "      <td>Верещагин</td>\n",
       "      <td>2018-05-25</td>\n",
       "      <td>ultra</td>\n",
       "    </tr>\n",
       "    <tr>\n",
       "      <td>1</td>\n",
       "      <td>1001</td>\n",
       "      <td>41</td>\n",
       "      <td>NaN</td>\n",
       "      <td>Москва</td>\n",
       "      <td>Иван</td>\n",
       "      <td>Ежов</td>\n",
       "      <td>2018-11-01</td>\n",
       "      <td>smart</td>\n",
       "    </tr>\n",
       "    <tr>\n",
       "      <td>2</td>\n",
       "      <td>1002</td>\n",
       "      <td>59</td>\n",
       "      <td>NaN</td>\n",
       "      <td>Стерлитамак</td>\n",
       "      <td>Евгений</td>\n",
       "      <td>Абрамович</td>\n",
       "      <td>2018-06-17</td>\n",
       "      <td>smart</td>\n",
       "    </tr>\n",
       "    <tr>\n",
       "      <td>3</td>\n",
       "      <td>1003</td>\n",
       "      <td>23</td>\n",
       "      <td>NaN</td>\n",
       "      <td>Москва</td>\n",
       "      <td>Белла</td>\n",
       "      <td>Белякова</td>\n",
       "      <td>2018-08-17</td>\n",
       "      <td>ultra</td>\n",
       "    </tr>\n",
       "    <tr>\n",
       "      <td>4</td>\n",
       "      <td>1004</td>\n",
       "      <td>68</td>\n",
       "      <td>NaN</td>\n",
       "      <td>Новокузнецк</td>\n",
       "      <td>Татьяна</td>\n",
       "      <td>Авдеенко</td>\n",
       "      <td>2018-05-14</td>\n",
       "      <td>ultra</td>\n",
       "    </tr>\n",
       "  </tbody>\n",
       "</table>\n",
       "</div>"
      ],
      "text/plain": [
       "   user_id  age churn_date         city first_name  last_name    reg_date  \\\n",
       "0     1000   52        NaN    Краснодар     Рафаил  Верещагин  2018-05-25   \n",
       "1     1001   41        NaN       Москва       Иван       Ежов  2018-11-01   \n",
       "2     1002   59        NaN  Стерлитамак    Евгений  Абрамович  2018-06-17   \n",
       "3     1003   23        NaN       Москва      Белла   Белякова  2018-08-17   \n",
       "4     1004   68        NaN  Новокузнецк    Татьяна   Авдеенко  2018-05-14   \n",
       "\n",
       "  tariff  \n",
       "0  ultra  \n",
       "1  smart  \n",
       "2  smart  \n",
       "3  ultra  \n",
       "4  ultra  "
      ]
     },
     "metadata": {},
     "output_type": "display_data"
    },
    {
     "name": "stdout",
     "output_type": "stream",
     "text": [
      "<class 'pandas.core.frame.DataFrame'>\n",
      "RangeIndex: 500 entries, 0 to 499\n",
      "Data columns (total 8 columns):\n",
      "user_id       500 non-null int64\n",
      "age           500 non-null int64\n",
      "churn_date    38 non-null object\n",
      "city          500 non-null object\n",
      "first_name    500 non-null object\n",
      "last_name     500 non-null object\n",
      "reg_date      500 non-null object\n",
      "tariff        500 non-null object\n",
      "dtypes: int64(2), object(6)\n",
      "memory usage: 31.4+ KB\n"
     ]
    }
   ],
   "source": [
    "#Читаем пятый файл\n",
    "data_users = pd.read_csv('/datasets/users.csv') \n",
    "#Просмотр первые строки файла\n",
    "display(data_users.head())\n",
    "#Просмотр общей информации о файле\n",
    "data_users.info() "
   ]
  },
  {
   "cell_type": "code",
   "execution_count": 15,
   "metadata": {},
   "outputs": [
    {
     "name": "stdout",
     "output_type": "stream",
     "text": [
      "1000    1\n",
      "1001    1\n",
      "1002    1\n",
      "1003    1\n",
      "1004    1\n",
      "       ..\n",
      "1495    1\n",
      "1496    1\n",
      "1497    1\n",
      "1498    1\n",
      "1499    1\n",
      "Name: user_id, Length: 500, dtype: int64\n",
      "18     6\n",
      "19     9\n",
      "20     9\n",
      "21    12\n",
      "22     5\n",
      "23     9\n",
      "24     9\n",
      "25     7\n",
      "26    11\n",
      "27     9\n",
      "28     9\n",
      "29    11\n",
      "30     9\n",
      "31     7\n",
      "32     7\n",
      "33     5\n",
      "34     5\n",
      "35     7\n",
      "36    10\n",
      "37    11\n",
      "38     5\n",
      "39    11\n",
      "40    12\n",
      "41    10\n",
      "42    14\n",
      "43     7\n",
      "44     8\n",
      "45    10\n",
      "46     7\n",
      "47    11\n",
      "48     9\n",
      "49     4\n",
      "50     9\n",
      "51     9\n",
      "52    10\n",
      "53    14\n",
      "54     6\n",
      "55     8\n",
      "56     9\n",
      "57     4\n",
      "58    10\n",
      "59     6\n",
      "60     8\n",
      "61     3\n",
      "62     8\n",
      "63    13\n",
      "64    13\n",
      "65     9\n",
      "66     9\n",
      "67     7\n",
      "68     9\n",
      "69     8\n",
      "70    10\n",
      "71    13\n",
      "72     5\n",
      "73    12\n",
      "74     7\n",
      "75     6\n",
      "Name: age, dtype: int64\n",
      "2018-08-17    1\n",
      "2018-08-31    1\n",
      "2018-09-02    1\n",
      "2018-09-26    1\n",
      "2018-09-27    1\n",
      "2018-10-03    2\n",
      "2018-10-04    1\n",
      "2018-10-05    1\n",
      "2018-10-14    2\n",
      "2018-10-25    1\n",
      "2018-10-27    1\n",
      "2018-10-28    1\n",
      "2018-11-07    1\n",
      "2018-11-13    1\n",
      "2018-11-16    1\n",
      "2018-11-21    1\n",
      "2018-11-22    1\n",
      "2018-11-26    1\n",
      "2018-11-27    1\n",
      "2018-11-30    1\n",
      "2018-12-03    2\n",
      "2018-12-09    2\n",
      "2018-12-11    1\n",
      "2018-12-14    1\n",
      "2018-12-16    1\n",
      "2018-12-18    1\n",
      "2018-12-20    1\n",
      "2018-12-21    2\n",
      "2018-12-23    1\n",
      "2018-12-24    1\n",
      "2018-12-25    1\n",
      "2018-12-26    1\n",
      "2018-12-30    1\n",
      "Name: churn_date, dtype: int64\n",
      "Архангельск    1\n",
      "Астрахань      4\n",
      "Балашиха       5\n",
      "Барнаул        3\n",
      "Белгород       2\n",
      "              ..\n",
      "Челябинск      9\n",
      "Череповец      3\n",
      "Чита           4\n",
      "Якутск         3\n",
      "Ярославль      3\n",
      "Name: city, Length: 76, dtype: int64\n",
      "Авксентий    3\n",
      "Агата        1\n",
      "Агафья       2\n",
      "Агнесса      2\n",
      "Адам         4\n",
      "            ..\n",
      "Юлия         2\n",
      "Юна          3\n",
      "Юрий         1\n",
      "Яков         2\n",
      "Яна          3\n",
      "Name: first_name, Length: 246, dtype: int64\n",
      "Ёлчина       1\n",
      "Ёркин        1\n",
      "Ёркина       1\n",
      "Ёрохов       2\n",
      "Ёрохова      1\n",
      "            ..\n",
      "Швецов       1\n",
      "Шевцов       1\n",
      "Шевцова      1\n",
      "Щербакова    1\n",
      "Яшина        1\n",
      "Name: last_name, Length: 419, dtype: int64\n",
      "2018-01-01    2\n",
      "2018-01-02    2\n",
      "2018-01-04    5\n",
      "2018-01-05    1\n",
      "2018-01-06    1\n",
      "             ..\n",
      "2018-12-23    2\n",
      "2018-12-25    1\n",
      "2018-12-29    2\n",
      "2018-12-30    1\n",
      "2018-12-31    3\n",
      "Name: reg_date, Length: 270, dtype: int64\n",
      "smart    351\n",
      "ultra    149\n",
      "Name: tariff, dtype: int64\n"
     ]
    }
   ],
   "source": [
    "for column in data_users:\n",
    "        print(data_users[column].value_counts().sort_index(ascending=True))"
   ]
  },
  {
   "cell_type": "code",
   "execution_count": 16,
   "metadata": {},
   "outputs": [
    {
     "data": {
      "text/plain": [
       "0"
      ]
     },
     "execution_count": 16,
     "metadata": {},
     "output_type": "execute_result"
    }
   ],
   "source": [
    "#Проверим таблицу на явные дубликаты\n",
    "data_users.duplicated().sum()"
   ]
  },
  {
   "cell_type": "markdown",
   "metadata": {},
   "source": [
    "### Выводы по главе 1"
   ]
  },
  {
   "cell_type": "markdown",
   "metadata": {},
   "source": [
    "Изучая таблицы можно заметить, что:\n",
    "1. таблица с информацией о звонках содержит 202607 записей в четырех колонках:\n",
    "- `id` (уникальный номер звонка),\n",
    "- `call_date` (дата звонка),\n",
    "- `duration` (длительность звонка в минутах),\n",
    "- `user_id` (идентификатор пользователя, сделавшего звонок)\n",
    "<br> Пропусков нет, тип данных столбца с датой необходимо привести к формату даты, идентификатор пользователя приведем к типу str, это поможет нам в дальнейшей работе\n",
    "2. таблица с информацией об интернет-сессиях содержит 149396 записей в пяти колонках:\n",
    "- `Unnamed` (столбец с индексом),\n",
    "- `id` (уникальный номер сессии),\n",
    "- `mb_used` (объём потраченного за сессию интернет-трафика (в мегабайтах)),\n",
    "- `session_date` (дата интернет-сессии),\n",
    "- `user_id` (идентификатор пользователя)\n",
    "<br> Пропусков нет, тип данных столбца с датой необходимо привести к формату даты, идентификатор пользователя приведем к типу str, это поможет нам в дальнейшей работе\n",
    "<br> Столбец Unnamed дублирует столбец id, поэтому в главе 2 Предобработка данных мы его удалим\n",
    "3. таблица с информацией об о сообщениях содержит 123036  записей в трех колонках:\n",
    "- `id` (уникальный номер сообщения),\n",
    "- `message_date` (дата сообщения),\n",
    "- `user_id` (идентификатор пользователя, отправившего сообщение)\n",
    "<br> Пропусков нет, тип данных столбца с датой необходимо привести к формату даты, идентификатор пользователя приведем к типу str, это поможет нам в дальнейшей работе\n",
    "4. таблица с информацией о тарифах содержит 2 записи в 8 колонках:\n",
    "- `messages_included` (количество сообщений в месяц, включённых в абонентскую плату),\n",
    "- `mb_per_month_included` (объём интернет-трафика, включённого в абонентскую плату (в мегабайтах)),\n",
    "- `minutes_included` (количество минут разговора в месяц, включённых в абонентскую плату),\n",
    "- `rub_monthly_fee` (ежемесячная абонентская плата в рублях),\n",
    "- `rub_per_gb` (стоимость дополнительного гигабайта интернет-трафика сверх тарифного пакета),\n",
    "- `rub_per_message` (тоимость отправки сообщения сверх тарифного пакета),\n",
    "- `rub_per_minute` (стоимость минуты разговора сверх тарифного пакета),\n",
    "- `tariff_name` (название тарифа)\n",
    "<br> Пропусков нет, типы данных соответствуют логике. Необходимо перевести объем интернет-трафика в Гб, а затем переименовать столбец\n",
    "5. таблица с информацией о пользователях содержит 500 записей в 8 колонках:\n",
    "- `user_id` (уникальный идентификатор пользователя),\n",
    "- `age` (возраст пользователя (годы)),\n",
    "- `churn_date` (дата прекращения пользования тарифом),\n",
    "- `city` (город пользователя),\n",
    "- `first_name` (имя пользователя),\n",
    "- `last_name` (фамилия пользователя),\n",
    "- `reg_date` (дата подключения тарифа), \n",
    "- `tariff` (название тарифного плана).\n",
    "<br> Пропуски есть в столбце churn_date, но это логично, так как если значение пропущено, то тариф ещё действовал на момент выгрузки данных, тип данных столбца с датой необходимо привести к формату даты, идентификатор пользователя приведем к типу str, это поможет нам в дальнейшей работе. \n",
    "6. Наименование столбца tariff в таблице 4 имеет другое название (tariff_name), приведем их к единому виду. Для этого в главе 2 переименуем столбец tariff_name таблицы data_tariffs. Ннаименования всех остальных столбцов соответствуют правилам и не противоречат друг другу.\n",
    "7. При просмотре уникальных значений столбцов возможные выбросы не бросаются в глаза, длительности звонков, интернет-сессий, сообщений, возраста пользователей лежат в пределах разумных значений.\n",
    "8. Про проверке уникальных значений дат мы видим, что все даты лежат в пределах одного года (2018), поэтому в дальнейшем мы можем сгруппировать данные по месяцам, не принимая во внимание год и числа (поскольку для достижения поставленных задач требуется информация помесячно)\n",
    "9. Данных для проверки достаточно, необходимо провести требуемые расчеты, а затем провести исследовательский анализ данных"
   ]
  },
  {
   "cell_type": "markdown",
   "metadata": {},
   "source": [
    "## Предобработка данных"
   ]
  },
  {
   "cell_type": "markdown",
   "metadata": {},
   "source": [
    "### Преобразования, переименование и удаление столбцов"
   ]
  },
  {
   "cell_type": "code",
   "execution_count": 17,
   "metadata": {},
   "outputs": [],
   "source": [
    "#Пробразуем вышеперечисленные столбцы в необходимые форматы\n",
    "data_calls['call_date'] = pd.to_datetime(data_calls['call_date'])\n",
    "data_internet['session_date'] = pd.to_datetime(data_internet['session_date'])\n",
    "data_messages['message_date'] = pd.to_datetime(data_messages['message_date'])\n",
    "data_users['reg_date'] = pd.to_datetime(data_users['reg_date'])\n",
    "data_users['churn_date']  = pd.to_datetime(data_users['churn_date'])\n",
    "data_calls['user_id'] = data_calls['user_id'].astype('str')\n",
    "data_internet['user_id'] = data_internet ['user_id'].astype('str')\n",
    "data_messages['user_id'] = data_messages['user_id'].astype('str')\n",
    "data_users['user_id'] = data_users['user_id'].astype('str')\n",
    "\n",
    "#Переименуем столбец tariff_name таблицы data_tariffs\n",
    "data_tariffs = data_tariffs.rename(columns={'tariff_name' : 'tariff'}) \n",
    "\n",
    "#Удалим дублирующий столбец Unnamed в таблице data_internet\n",
    "data_internet = data_internet.drop('Unnamed: 0', axis=1)\n",
    "#print(data_internet.head())\n",
    "\n",
    "#Перевод мб в гб, переименование столбца\n",
    "data_tariffs['mb_per_month_included'] = data_tariffs['mb_per_month_included'] / 1024\n",
    "data_tariffs = data_tariffs.rename(columns={'mb_per_month_included' : 'gb_per_month_included'})\n",
    "data_tariffs['gb_per_month_included'] = data_tariffs['gb_per_month_included'].astype('int64')\n",
    "\n",
    "#data_tariffs.info()"
   ]
  },
  {
   "cell_type": "markdown",
   "metadata": {},
   "source": [
    "### Округление длительности звонков в таблице data_calls"
   ]
  },
  {
   "cell_type": "markdown",
   "metadata": {},
   "source": [
    "Согласно входящей информации, предоставленной компанией: каждый звонок округляется отдельно: даже если он длился всего 1 секунду, будет засчитан как 1 минута. Округлим все звонки до минут. Поскольку теперь длительности звонков стали целыми числами, тип float больше не актуален, поменяем тип на int64"
   ]
  },
  {
   "cell_type": "code",
   "execution_count": 18,
   "metadata": {},
   "outputs": [
    {
     "data": {
      "text/html": [
       "<div>\n",
       "<style scoped>\n",
       "    .dataframe tbody tr th:only-of-type {\n",
       "        vertical-align: middle;\n",
       "    }\n",
       "\n",
       "    .dataframe tbody tr th {\n",
       "        vertical-align: top;\n",
       "    }\n",
       "\n",
       "    .dataframe thead th {\n",
       "        text-align: right;\n",
       "    }\n",
       "</style>\n",
       "<table border=\"1\" class=\"dataframe\">\n",
       "  <thead>\n",
       "    <tr style=\"text-align: right;\">\n",
       "      <th></th>\n",
       "      <th>id</th>\n",
       "      <th>call_date</th>\n",
       "      <th>duration</th>\n",
       "      <th>user_id</th>\n",
       "    </tr>\n",
       "  </thead>\n",
       "  <tbody>\n",
       "    <tr>\n",
       "      <td>0</td>\n",
       "      <td>1000_0</td>\n",
       "      <td>2018-07-25</td>\n",
       "      <td>0</td>\n",
       "      <td>1000</td>\n",
       "    </tr>\n",
       "    <tr>\n",
       "      <td>1</td>\n",
       "      <td>1000_1</td>\n",
       "      <td>2018-08-17</td>\n",
       "      <td>0</td>\n",
       "      <td>1000</td>\n",
       "    </tr>\n",
       "    <tr>\n",
       "      <td>2</td>\n",
       "      <td>1000_2</td>\n",
       "      <td>2018-06-11</td>\n",
       "      <td>3</td>\n",
       "      <td>1000</td>\n",
       "    </tr>\n",
       "    <tr>\n",
       "      <td>3</td>\n",
       "      <td>1000_3</td>\n",
       "      <td>2018-09-21</td>\n",
       "      <td>14</td>\n",
       "      <td>1000</td>\n",
       "    </tr>\n",
       "    <tr>\n",
       "      <td>4</td>\n",
       "      <td>1000_4</td>\n",
       "      <td>2018-12-15</td>\n",
       "      <td>6</td>\n",
       "      <td>1000</td>\n",
       "    </tr>\n",
       "  </tbody>\n",
       "</table>\n",
       "</div>"
      ],
      "text/plain": [
       "       id  call_date  duration user_id\n",
       "0  1000_0 2018-07-25         0    1000\n",
       "1  1000_1 2018-08-17         0    1000\n",
       "2  1000_2 2018-06-11         3    1000\n",
       "3  1000_3 2018-09-21        14    1000\n",
       "4  1000_4 2018-12-15         6    1000"
      ]
     },
     "execution_count": 18,
     "metadata": {},
     "output_type": "execute_result"
    }
   ],
   "source": [
    "data_calls['duration'] = data_calls['duration'].apply(np.ceil).astype('Int64')\n",
    "data_calls.head()"
   ]
  },
  {
   "cell_type": "markdown",
   "metadata": {},
   "source": [
    "Согласно входящей информации, предоставленной компанией: для веб-трафика отдельные сессии не считаются. Вместо этого общая сумма за месяц округляется в бо́льшую сторону. Поэтому округлять веб-трафик мы не будем, оставим его как есть, и, соответственно, не будем менять тип данных (оставим float)."
   ]
  },
  {
   "cell_type": "markdown",
   "metadata": {},
   "source": [
    "### Выводы по главе 2"
   ]
  },
  {
   "cell_type": "markdown",
   "metadata": {},
   "source": [
    "Во время предобработки данных, мы привели все столбцы к требуемым типам, заменили несовпадающие названия столбцов с одинаковой информацией, удалили дублирующий столбец, округлили длительности звонков, перевели мб в гб в таблице с тарифами"
   ]
  },
  {
   "cell_type": "markdown",
   "metadata": {},
   "source": [
    "## Расчеты и добавление результатов"
   ]
  },
  {
   "cell_type": "markdown",
   "metadata": {},
   "source": [
    "### Группировка данных по звонкам"
   ]
  },
  {
   "cell_type": "markdown",
   "metadata": {},
   "source": [
    "Произведем расчет количества сделанных звонков и израсходованных минут разговора по месяцам\n",
    "<br>Для этого, помня что в датафрейме приведена информация только за один год, отбросим год и сгрупируем звонки по месяцам"
   ]
  },
  {
   "cell_type": "code",
   "execution_count": 19,
   "metadata": {},
   "outputs": [
    {
     "data": {
      "text/html": [
       "<div>\n",
       "<style scoped>\n",
       "    .dataframe tbody tr th:only-of-type {\n",
       "        vertical-align: middle;\n",
       "    }\n",
       "\n",
       "    .dataframe tbody tr th {\n",
       "        vertical-align: top;\n",
       "    }\n",
       "\n",
       "    .dataframe thead th {\n",
       "        text-align: right;\n",
       "    }\n",
       "</style>\n",
       "<table border=\"1\" class=\"dataframe\">\n",
       "  <thead>\n",
       "    <tr style=\"text-align: right;\">\n",
       "      <th></th>\n",
       "      <th>id</th>\n",
       "      <th>month</th>\n",
       "      <th>duration</th>\n",
       "      <th>user_id</th>\n",
       "    </tr>\n",
       "  </thead>\n",
       "  <tbody>\n",
       "    <tr>\n",
       "      <td>0</td>\n",
       "      <td>1000_0</td>\n",
       "      <td>7</td>\n",
       "      <td>0</td>\n",
       "      <td>1000</td>\n",
       "    </tr>\n",
       "    <tr>\n",
       "      <td>1</td>\n",
       "      <td>1000_1</td>\n",
       "      <td>8</td>\n",
       "      <td>0</td>\n",
       "      <td>1000</td>\n",
       "    </tr>\n",
       "    <tr>\n",
       "      <td>2</td>\n",
       "      <td>1000_2</td>\n",
       "      <td>6</td>\n",
       "      <td>3</td>\n",
       "      <td>1000</td>\n",
       "    </tr>\n",
       "    <tr>\n",
       "      <td>3</td>\n",
       "      <td>1000_3</td>\n",
       "      <td>9</td>\n",
       "      <td>14</td>\n",
       "      <td>1000</td>\n",
       "    </tr>\n",
       "    <tr>\n",
       "      <td>4</td>\n",
       "      <td>1000_4</td>\n",
       "      <td>12</td>\n",
       "      <td>6</td>\n",
       "      <td>1000</td>\n",
       "    </tr>\n",
       "  </tbody>\n",
       "</table>\n",
       "</div>"
      ],
      "text/plain": [
       "       id  month  duration user_id\n",
       "0  1000_0      7         0    1000\n",
       "1  1000_1      8         0    1000\n",
       "2  1000_2      6         3    1000\n",
       "3  1000_3      9        14    1000\n",
       "4  1000_4     12         6    1000"
      ]
     },
     "execution_count": 19,
     "metadata": {},
     "output_type": "execute_result"
    }
   ],
   "source": [
    "#Определим месяц в котором был совершен звонок\n",
    "data_calls['call_date'] = data_calls['call_date'].dt.month\n",
    "        \n",
    "# переименуем столбец\n",
    "data_calls = data_calls.rename(columns={'call_date':'month'})\n",
    "data_calls.head()"
   ]
  },
  {
   "cell_type": "code",
   "execution_count": 20,
   "metadata": {},
   "outputs": [
    {
     "data": {
      "text/html": [
       "<div>\n",
       "<style scoped>\n",
       "    .dataframe tbody tr th:only-of-type {\n",
       "        vertical-align: middle;\n",
       "    }\n",
       "\n",
       "    .dataframe tbody tr th {\n",
       "        vertical-align: top;\n",
       "    }\n",
       "\n",
       "    .dataframe thead th {\n",
       "        text-align: right;\n",
       "    }\n",
       "</style>\n",
       "<table border=\"1\" class=\"dataframe\">\n",
       "  <thead>\n",
       "    <tr style=\"text-align: right;\">\n",
       "      <th></th>\n",
       "      <th>user_id</th>\n",
       "      <th>month</th>\n",
       "      <th>duration_count_month</th>\n",
       "      <th>duration_sum_month</th>\n",
       "    </tr>\n",
       "  </thead>\n",
       "  <tbody>\n",
       "    <tr>\n",
       "      <td>0</td>\n",
       "      <td>1000</td>\n",
       "      <td>5</td>\n",
       "      <td>22</td>\n",
       "      <td>159</td>\n",
       "    </tr>\n",
       "    <tr>\n",
       "      <td>1</td>\n",
       "      <td>1000</td>\n",
       "      <td>6</td>\n",
       "      <td>43</td>\n",
       "      <td>172</td>\n",
       "    </tr>\n",
       "    <tr>\n",
       "      <td>2</td>\n",
       "      <td>1000</td>\n",
       "      <td>7</td>\n",
       "      <td>47</td>\n",
       "      <td>340</td>\n",
       "    </tr>\n",
       "    <tr>\n",
       "      <td>3</td>\n",
       "      <td>1000</td>\n",
       "      <td>8</td>\n",
       "      <td>52</td>\n",
       "      <td>408</td>\n",
       "    </tr>\n",
       "    <tr>\n",
       "      <td>4</td>\n",
       "      <td>1000</td>\n",
       "      <td>9</td>\n",
       "      <td>58</td>\n",
       "      <td>466</td>\n",
       "    </tr>\n",
       "  </tbody>\n",
       "</table>\n",
       "</div>"
      ],
      "text/plain": [
       "  user_id  month  duration_count_month  duration_sum_month\n",
       "0    1000      5                    22                 159\n",
       "1    1000      6                    43                 172\n",
       "2    1000      7                    47                 340\n",
       "3    1000      8                    52                 408\n",
       "4    1000      9                    58                 466"
      ]
     },
     "execution_count": 20,
     "metadata": {},
     "output_type": "execute_result"
    }
   ],
   "source": [
    "data_calls_month = data_calls.pivot_table(      \n",
    "    index=['user_id', 'month'],\n",
    "    values='duration',     \n",
    "    aggfunc=['count', 'sum']               \n",
    ")\n",
    "#переименуем столбцы\n",
    "data_calls_month.columns = ['duration_count_month', 'duration_sum_month']\n",
    "#сделаем переиндексацию\n",
    "data_calls_month.reset_index(inplace=True)\n",
    "data_calls_month.head()"
   ]
  },
  {
   "cell_type": "markdown",
   "metadata": {},
   "source": [
    "### Группировка данных по сообщениям"
   ]
  },
  {
   "cell_type": "code",
   "execution_count": 21,
   "metadata": {},
   "outputs": [
    {
     "data": {
      "text/html": [
       "<div>\n",
       "<style scoped>\n",
       "    .dataframe tbody tr th:only-of-type {\n",
       "        vertical-align: middle;\n",
       "    }\n",
       "\n",
       "    .dataframe tbody tr th {\n",
       "        vertical-align: top;\n",
       "    }\n",
       "\n",
       "    .dataframe thead th {\n",
       "        text-align: right;\n",
       "    }\n",
       "</style>\n",
       "<table border=\"1\" class=\"dataframe\">\n",
       "  <thead>\n",
       "    <tr style=\"text-align: right;\">\n",
       "      <th></th>\n",
       "      <th>user_id</th>\n",
       "      <th>month</th>\n",
       "      <th>messages_count_month</th>\n",
       "    </tr>\n",
       "  </thead>\n",
       "  <tbody>\n",
       "    <tr>\n",
       "      <td>0</td>\n",
       "      <td>1000</td>\n",
       "      <td>5</td>\n",
       "      <td>22</td>\n",
       "    </tr>\n",
       "    <tr>\n",
       "      <td>1</td>\n",
       "      <td>1000</td>\n",
       "      <td>6</td>\n",
       "      <td>60</td>\n",
       "    </tr>\n",
       "    <tr>\n",
       "      <td>2</td>\n",
       "      <td>1000</td>\n",
       "      <td>7</td>\n",
       "      <td>75</td>\n",
       "    </tr>\n",
       "    <tr>\n",
       "      <td>3</td>\n",
       "      <td>1000</td>\n",
       "      <td>8</td>\n",
       "      <td>81</td>\n",
       "    </tr>\n",
       "    <tr>\n",
       "      <td>4</td>\n",
       "      <td>1000</td>\n",
       "      <td>9</td>\n",
       "      <td>57</td>\n",
       "    </tr>\n",
       "  </tbody>\n",
       "</table>\n",
       "</div>"
      ],
      "text/plain": [
       "  user_id  month  messages_count_month\n",
       "0    1000      5                    22\n",
       "1    1000      6                    60\n",
       "2    1000      7                    75\n",
       "3    1000      8                    81\n",
       "4    1000      9                    57"
      ]
     },
     "execution_count": 21,
     "metadata": {},
     "output_type": "execute_result"
    }
   ],
   "source": [
    "#Аналогично звонкам обработаем данные по сообщениям\n",
    "data_messages['message_date'] = data_messages['message_date'].dt.month\n",
    "#переименуем столбец        \n",
    "data_messages = data_messages.rename(columns={'message_date':'month'})\n",
    "#создадим сводную таблицу\n",
    "data_messages_month = data_messages.pivot_table(      \n",
    "    index=['user_id', 'month'],\n",
    "    values='user_id',     \n",
    "    aggfunc=['count']               \n",
    ")\n",
    "#переименуем столбец \n",
    "data_messages_month.columns = ['messages_count_month']\n",
    "#сделаем переиндексацию\n",
    "data_messages_month.reset_index(inplace=True)\n",
    "data_messages_month.head()"
   ]
  },
  {
   "cell_type": "markdown",
   "metadata": {},
   "source": [
    "### Группировка данных по объему израсходованного интернет-трафика"
   ]
  },
  {
   "cell_type": "code",
   "execution_count": 22,
   "metadata": {},
   "outputs": [
    {
     "data": {
      "text/html": [
       "<div>\n",
       "<style scoped>\n",
       "    .dataframe tbody tr th:only-of-type {\n",
       "        vertical-align: middle;\n",
       "    }\n",
       "\n",
       "    .dataframe tbody tr th {\n",
       "        vertical-align: top;\n",
       "    }\n",
       "\n",
       "    .dataframe thead th {\n",
       "        text-align: right;\n",
       "    }\n",
       "</style>\n",
       "<table border=\"1\" class=\"dataframe\">\n",
       "  <thead>\n",
       "    <tr style=\"text-align: right;\">\n",
       "      <th></th>\n",
       "      <th>user_id</th>\n",
       "      <th>month</th>\n",
       "      <th>internet_sum_month</th>\n",
       "    </tr>\n",
       "  </thead>\n",
       "  <tbody>\n",
       "    <tr>\n",
       "      <td>0</td>\n",
       "      <td>1000</td>\n",
       "      <td>5</td>\n",
       "      <td>2253.49</td>\n",
       "    </tr>\n",
       "    <tr>\n",
       "      <td>1</td>\n",
       "      <td>1000</td>\n",
       "      <td>6</td>\n",
       "      <td>23233.77</td>\n",
       "    </tr>\n",
       "    <tr>\n",
       "      <td>2</td>\n",
       "      <td>1000</td>\n",
       "      <td>7</td>\n",
       "      <td>14003.64</td>\n",
       "    </tr>\n",
       "    <tr>\n",
       "      <td>3</td>\n",
       "      <td>1000</td>\n",
       "      <td>8</td>\n",
       "      <td>14055.93</td>\n",
       "    </tr>\n",
       "    <tr>\n",
       "      <td>4</td>\n",
       "      <td>1000</td>\n",
       "      <td>9</td>\n",
       "      <td>14568.91</td>\n",
       "    </tr>\n",
       "    <tr>\n",
       "      <td>5</td>\n",
       "      <td>1000</td>\n",
       "      <td>10</td>\n",
       "      <td>14702.49</td>\n",
       "    </tr>\n",
       "    <tr>\n",
       "      <td>6</td>\n",
       "      <td>1000</td>\n",
       "      <td>11</td>\n",
       "      <td>14756.47</td>\n",
       "    </tr>\n",
       "    <tr>\n",
       "      <td>7</td>\n",
       "      <td>1000</td>\n",
       "      <td>12</td>\n",
       "      <td>9817.61</td>\n",
       "    </tr>\n",
       "    <tr>\n",
       "      <td>8</td>\n",
       "      <td>1001</td>\n",
       "      <td>11</td>\n",
       "      <td>18429.34</td>\n",
       "    </tr>\n",
       "    <tr>\n",
       "      <td>9</td>\n",
       "      <td>1001</td>\n",
       "      <td>12</td>\n",
       "      <td>14036.66</td>\n",
       "    </tr>\n",
       "  </tbody>\n",
       "</table>\n",
       "</div>"
      ],
      "text/plain": [
       "  user_id  month  internet_sum_month\n",
       "0    1000      5             2253.49\n",
       "1    1000      6            23233.77\n",
       "2    1000      7            14003.64\n",
       "3    1000      8            14055.93\n",
       "4    1000      9            14568.91\n",
       "5    1000     10            14702.49\n",
       "6    1000     11            14756.47\n",
       "7    1000     12             9817.61\n",
       "8    1001     11            18429.34\n",
       "9    1001     12            14036.66"
      ]
     },
     "execution_count": 22,
     "metadata": {},
     "output_type": "execute_result"
    }
   ],
   "source": [
    "#Аналогично звонкам обработаем данные по интернет-трафику\n",
    "data_internet['session_date'] = data_internet['session_date'].dt.month\n",
    "#переименуем столбец\n",
    "data_internet = data_internet.rename(columns={'session_date':'month'})\n",
    "#создадим сводную таблицу\n",
    "data_internet_month = data_internet.pivot_table(      \n",
    "    index=['user_id', 'month'],\n",
    "    values='mb_used',     \n",
    "    aggfunc=['sum']               \n",
    ")\n",
    "#переименуем столбец \n",
    "data_internet_month.columns = ['internet_sum_month']\n",
    "#сделаем переиндексацию\n",
    "data_internet_month.reset_index(inplace=True)\n",
    "data_internet_month.head(10)"
   ]
  },
  {
   "cell_type": "markdown",
   "metadata": {},
   "source": [
    "Вернемся к входящим данным от компании: для веб-трафика отдельные сессии не считаются. Вместо этого общая сумма за месяц округляется в бо́льшую сторону. \n",
    "<br> Следовательно, переведем объем веб-трафика за месяц в Гб и округлим до большего целого."
   ]
  },
  {
   "cell_type": "code",
   "execution_count": 23,
   "metadata": {},
   "outputs": [
    {
     "data": {
      "text/html": [
       "<div>\n",
       "<style scoped>\n",
       "    .dataframe tbody tr th:only-of-type {\n",
       "        vertical-align: middle;\n",
       "    }\n",
       "\n",
       "    .dataframe tbody tr th {\n",
       "        vertical-align: top;\n",
       "    }\n",
       "\n",
       "    .dataframe thead th {\n",
       "        text-align: right;\n",
       "    }\n",
       "</style>\n",
       "<table border=\"1\" class=\"dataframe\">\n",
       "  <thead>\n",
       "    <tr style=\"text-align: right;\">\n",
       "      <th></th>\n",
       "      <th>user_id</th>\n",
       "      <th>month</th>\n",
       "      <th>internet_sum_month</th>\n",
       "    </tr>\n",
       "  </thead>\n",
       "  <tbody>\n",
       "    <tr>\n",
       "      <td>0</td>\n",
       "      <td>1000</td>\n",
       "      <td>5</td>\n",
       "      <td>3</td>\n",
       "    </tr>\n",
       "    <tr>\n",
       "      <td>1</td>\n",
       "      <td>1000</td>\n",
       "      <td>6</td>\n",
       "      <td>23</td>\n",
       "    </tr>\n",
       "    <tr>\n",
       "      <td>2</td>\n",
       "      <td>1000</td>\n",
       "      <td>7</td>\n",
       "      <td>14</td>\n",
       "    </tr>\n",
       "    <tr>\n",
       "      <td>3</td>\n",
       "      <td>1000</td>\n",
       "      <td>8</td>\n",
       "      <td>14</td>\n",
       "    </tr>\n",
       "    <tr>\n",
       "      <td>4</td>\n",
       "      <td>1000</td>\n",
       "      <td>9</td>\n",
       "      <td>15</td>\n",
       "    </tr>\n",
       "    <tr>\n",
       "      <td>5</td>\n",
       "      <td>1000</td>\n",
       "      <td>10</td>\n",
       "      <td>15</td>\n",
       "    </tr>\n",
       "    <tr>\n",
       "      <td>6</td>\n",
       "      <td>1000</td>\n",
       "      <td>11</td>\n",
       "      <td>15</td>\n",
       "    </tr>\n",
       "    <tr>\n",
       "      <td>7</td>\n",
       "      <td>1000</td>\n",
       "      <td>12</td>\n",
       "      <td>10</td>\n",
       "    </tr>\n",
       "    <tr>\n",
       "      <td>8</td>\n",
       "      <td>1001</td>\n",
       "      <td>11</td>\n",
       "      <td>18</td>\n",
       "    </tr>\n",
       "    <tr>\n",
       "      <td>9</td>\n",
       "      <td>1001</td>\n",
       "      <td>12</td>\n",
       "      <td>14</td>\n",
       "    </tr>\n",
       "  </tbody>\n",
       "</table>\n",
       "</div>"
      ],
      "text/plain": [
       "  user_id  month  internet_sum_month\n",
       "0    1000      5                   3\n",
       "1    1000      6                  23\n",
       "2    1000      7                  14\n",
       "3    1000      8                  14\n",
       "4    1000      9                  15\n",
       "5    1000     10                  15\n",
       "6    1000     11                  15\n",
       "7    1000     12                  10\n",
       "8    1001     11                  18\n",
       "9    1001     12                  14"
      ]
     },
     "execution_count": 23,
     "metadata": {},
     "output_type": "execute_result"
    }
   ],
   "source": [
    "data_internet_month['internet_sum_month'] = data_internet_month['internet_sum_month']/1024\n",
    "data_internet_month['internet_sum_month'] = data_internet_month['internet_sum_month'].apply(np.ceil).astype('Int64')\n",
    "\n",
    "data_internet_month.head(10)"
   ]
  },
  {
   "cell_type": "markdown",
   "metadata": {},
   "source": [
    "### Создание единой таблицы с данными о звонках, сообщениях и трафике"
   ]
  },
  {
   "cell_type": "markdown",
   "metadata": {},
   "source": [
    "Для начала объединим сгруппированные таблицы звонков и сообщений"
   ]
  },
  {
   "cell_type": "code",
   "execution_count": 24,
   "metadata": {},
   "outputs": [
    {
     "name": "stdout",
     "output_type": "stream",
     "text": [
      "<class 'pandas.core.frame.DataFrame'>\n",
      "RangeIndex: 3213 entries, 0 to 3212\n",
      "Data columns (total 5 columns):\n",
      "user_id                 3213 non-null object\n",
      "month                   3213 non-null int64\n",
      "duration_count_month    3174 non-null Int64\n",
      "duration_sum_month      3174 non-null Int64\n",
      "messages_count_month    2717 non-null Int64\n",
      "dtypes: Int64(3), int64(1), object(1)\n",
      "memory usage: 135.0+ KB\n"
     ]
    }
   ],
   "source": [
    "data_calls_messanges_month = data_calls_month.merge(\n",
    "    data_messages_month, \n",
    "    on=['user_id', 'month'], how='outer'\n",
    ")\n",
    "data_calls_messanges_month['duration_count_month'] = data_calls_messanges_month['duration_count_month'].astype('Int64')\n",
    "data_calls_messanges_month['messages_count_month'] = data_calls_messanges_month['messages_count_month'].astype('Int64')\n",
    "\n",
    "data_calls_messanges_month.reset_index(inplace=True)\n",
    "data_calls_messanges_month = data_calls_messanges_month.drop(columns=['index'], axis=1)\n",
    "data_calls_messanges_month.info()"
   ]
  },
  {
   "cell_type": "markdown",
   "metadata": {},
   "source": [
    "Теперь присоединим к вышеполученной таблице таблицу с сообщениями"
   ]
  },
  {
   "cell_type": "code",
   "execution_count": 25,
   "metadata": {},
   "outputs": [
    {
     "name": "stdout",
     "output_type": "stream",
     "text": [
      "<class 'pandas.core.frame.DataFrame'>\n",
      "Int64Index: 3214 entries, 0 to 3213\n",
      "Data columns (total 6 columns):\n",
      "user_id                 3214 non-null object\n",
      "month                   3214 non-null int64\n",
      "duration_count_month    3174 non-null Int64\n",
      "duration_sum_month      3174 non-null Int64\n",
      "messages_count_month    2717 non-null Int64\n",
      "internet_sum_month      3203 non-null Int64\n",
      "dtypes: Int64(4), int64(1), object(1)\n",
      "memory usage: 188.3+ KB\n"
     ]
    }
   ],
   "source": [
    "data_id = data_calls_messanges_month.merge(\n",
    "    data_internet_month, \n",
    "    on=['user_id', 'month'], how='outer'\n",
    ")\n",
    "data_id.info()"
   ]
  },
  {
   "cell_type": "markdown",
   "metadata": {},
   "source": [
    "### Объединим данные о пользователях с данными о тарифах"
   ]
  },
  {
   "cell_type": "code",
   "execution_count": 26,
   "metadata": {},
   "outputs": [
    {
     "data": {
      "text/html": [
       "<div>\n",
       "<style scoped>\n",
       "    .dataframe tbody tr th:only-of-type {\n",
       "        vertical-align: middle;\n",
       "    }\n",
       "\n",
       "    .dataframe tbody tr th {\n",
       "        vertical-align: top;\n",
       "    }\n",
       "\n",
       "    .dataframe thead th {\n",
       "        text-align: right;\n",
       "    }\n",
       "</style>\n",
       "<table border=\"1\" class=\"dataframe\">\n",
       "  <thead>\n",
       "    <tr style=\"text-align: right;\">\n",
       "      <th></th>\n",
       "      <th>user_id</th>\n",
       "      <th>age</th>\n",
       "      <th>churn_date</th>\n",
       "      <th>city</th>\n",
       "      <th>first_name</th>\n",
       "      <th>last_name</th>\n",
       "      <th>reg_date</th>\n",
       "      <th>tariff</th>\n",
       "      <th>messages_included</th>\n",
       "      <th>gb_per_month_included</th>\n",
       "      <th>minutes_included</th>\n",
       "      <th>rub_monthly_fee</th>\n",
       "      <th>rub_per_gb</th>\n",
       "      <th>rub_per_message</th>\n",
       "      <th>rub_per_minute</th>\n",
       "    </tr>\n",
       "  </thead>\n",
       "  <tbody>\n",
       "    <tr>\n",
       "      <td>0</td>\n",
       "      <td>1000</td>\n",
       "      <td>52</td>\n",
       "      <td>NaT</td>\n",
       "      <td>Краснодар</td>\n",
       "      <td>Рафаил</td>\n",
       "      <td>Верещагин</td>\n",
       "      <td>2018-05-25</td>\n",
       "      <td>ultra</td>\n",
       "      <td>1000</td>\n",
       "      <td>30</td>\n",
       "      <td>3000</td>\n",
       "      <td>1950</td>\n",
       "      <td>150</td>\n",
       "      <td>1</td>\n",
       "      <td>1</td>\n",
       "    </tr>\n",
       "    <tr>\n",
       "      <td>1</td>\n",
       "      <td>1003</td>\n",
       "      <td>23</td>\n",
       "      <td>NaT</td>\n",
       "      <td>Москва</td>\n",
       "      <td>Белла</td>\n",
       "      <td>Белякова</td>\n",
       "      <td>2018-08-17</td>\n",
       "      <td>ultra</td>\n",
       "      <td>1000</td>\n",
       "      <td>30</td>\n",
       "      <td>3000</td>\n",
       "      <td>1950</td>\n",
       "      <td>150</td>\n",
       "      <td>1</td>\n",
       "      <td>1</td>\n",
       "    </tr>\n",
       "    <tr>\n",
       "      <td>2</td>\n",
       "      <td>1004</td>\n",
       "      <td>68</td>\n",
       "      <td>NaT</td>\n",
       "      <td>Новокузнецк</td>\n",
       "      <td>Татьяна</td>\n",
       "      <td>Авдеенко</td>\n",
       "      <td>2018-05-14</td>\n",
       "      <td>ultra</td>\n",
       "      <td>1000</td>\n",
       "      <td>30</td>\n",
       "      <td>3000</td>\n",
       "      <td>1950</td>\n",
       "      <td>150</td>\n",
       "      <td>1</td>\n",
       "      <td>1</td>\n",
       "    </tr>\n",
       "    <tr>\n",
       "      <td>3</td>\n",
       "      <td>1013</td>\n",
       "      <td>36</td>\n",
       "      <td>NaT</td>\n",
       "      <td>Иваново</td>\n",
       "      <td>Борис</td>\n",
       "      <td>Андреенко</td>\n",
       "      <td>2018-11-14</td>\n",
       "      <td>ultra</td>\n",
       "      <td>1000</td>\n",
       "      <td>30</td>\n",
       "      <td>3000</td>\n",
       "      <td>1950</td>\n",
       "      <td>150</td>\n",
       "      <td>1</td>\n",
       "      <td>1</td>\n",
       "    </tr>\n",
       "    <tr>\n",
       "      <td>4</td>\n",
       "      <td>1016</td>\n",
       "      <td>58</td>\n",
       "      <td>NaT</td>\n",
       "      <td>Омск</td>\n",
       "      <td>Марица</td>\n",
       "      <td>Сазонова</td>\n",
       "      <td>2018-11-21</td>\n",
       "      <td>ultra</td>\n",
       "      <td>1000</td>\n",
       "      <td>30</td>\n",
       "      <td>3000</td>\n",
       "      <td>1950</td>\n",
       "      <td>150</td>\n",
       "      <td>1</td>\n",
       "      <td>1</td>\n",
       "    </tr>\n",
       "  </tbody>\n",
       "</table>\n",
       "</div>"
      ],
      "text/plain": [
       "  user_id  age churn_date         city first_name  last_name   reg_date  \\\n",
       "0    1000   52        NaT    Краснодар     Рафаил  Верещагин 2018-05-25   \n",
       "1    1003   23        NaT       Москва      Белла   Белякова 2018-08-17   \n",
       "2    1004   68        NaT  Новокузнецк    Татьяна   Авдеенко 2018-05-14   \n",
       "3    1013   36        NaT      Иваново      Борис  Андреенко 2018-11-14   \n",
       "4    1016   58        NaT         Омск     Марица   Сазонова 2018-11-21   \n",
       "\n",
       "  tariff  messages_included  gb_per_month_included  minutes_included  \\\n",
       "0  ultra               1000                     30              3000   \n",
       "1  ultra               1000                     30              3000   \n",
       "2  ultra               1000                     30              3000   \n",
       "3  ultra               1000                     30              3000   \n",
       "4  ultra               1000                     30              3000   \n",
       "\n",
       "   rub_monthly_fee  rub_per_gb  rub_per_message  rub_per_minute  \n",
       "0             1950         150                1               1  \n",
       "1             1950         150                1               1  \n",
       "2             1950         150                1               1  \n",
       "3             1950         150                1               1  \n",
       "4             1950         150                1               1  "
      ]
     },
     "execution_count": 26,
     "metadata": {},
     "output_type": "execute_result"
    }
   ],
   "source": [
    "data_users_tariffs = data_users.merge(data_tariffs, on='tariff', how='outer')\n",
    "data_users_tariffs.head()"
   ]
  },
  {
   "cell_type": "markdown",
   "metadata": {},
   "source": [
    "В столбце churn_date часто встречаются значения NaN, это означает, что тариф ещё действовал на момент выгрузки данных. Нам необходимо заменить пустые значения на какую-то информацию, заменим на 31/12/2018, что не будет противоречить истине, принимая во внимание то, что исследуется 2018 год по декабрь включительно\n",
    "Также поскольку оплата производится за месяц, то в столбцах churn_date и reg_date можно оставить только месяц, так как мы делали ранее в таблицах со звонками, сообщениями и трафиком"
   ]
  },
  {
   "cell_type": "code",
   "execution_count": 27,
   "metadata": {},
   "outputs": [
    {
     "data": {
      "text/html": [
       "<div>\n",
       "<style scoped>\n",
       "    .dataframe tbody tr th:only-of-type {\n",
       "        vertical-align: middle;\n",
       "    }\n",
       "\n",
       "    .dataframe tbody tr th {\n",
       "        vertical-align: top;\n",
       "    }\n",
       "\n",
       "    .dataframe thead th {\n",
       "        text-align: right;\n",
       "    }\n",
       "</style>\n",
       "<table border=\"1\" class=\"dataframe\">\n",
       "  <thead>\n",
       "    <tr style=\"text-align: right;\">\n",
       "      <th></th>\n",
       "      <th>user_id</th>\n",
       "      <th>age</th>\n",
       "      <th>churn_date</th>\n",
       "      <th>city</th>\n",
       "      <th>first_name</th>\n",
       "      <th>last_name</th>\n",
       "      <th>reg_date</th>\n",
       "      <th>tariff</th>\n",
       "      <th>messages_included</th>\n",
       "      <th>gb_per_month_included</th>\n",
       "      <th>minutes_included</th>\n",
       "      <th>rub_monthly_fee</th>\n",
       "      <th>rub_per_gb</th>\n",
       "      <th>rub_per_message</th>\n",
       "      <th>rub_per_minute</th>\n",
       "    </tr>\n",
       "  </thead>\n",
       "  <tbody>\n",
       "    <tr>\n",
       "      <td>0</td>\n",
       "      <td>1000</td>\n",
       "      <td>52</td>\n",
       "      <td>12</td>\n",
       "      <td>Краснодар</td>\n",
       "      <td>Рафаил</td>\n",
       "      <td>Верещагин</td>\n",
       "      <td>5</td>\n",
       "      <td>ultra</td>\n",
       "      <td>1000</td>\n",
       "      <td>30</td>\n",
       "      <td>3000</td>\n",
       "      <td>1950</td>\n",
       "      <td>150</td>\n",
       "      <td>1</td>\n",
       "      <td>1</td>\n",
       "    </tr>\n",
       "    <tr>\n",
       "      <td>1</td>\n",
       "      <td>1003</td>\n",
       "      <td>23</td>\n",
       "      <td>12</td>\n",
       "      <td>Москва</td>\n",
       "      <td>Белла</td>\n",
       "      <td>Белякова</td>\n",
       "      <td>8</td>\n",
       "      <td>ultra</td>\n",
       "      <td>1000</td>\n",
       "      <td>30</td>\n",
       "      <td>3000</td>\n",
       "      <td>1950</td>\n",
       "      <td>150</td>\n",
       "      <td>1</td>\n",
       "      <td>1</td>\n",
       "    </tr>\n",
       "    <tr>\n",
       "      <td>2</td>\n",
       "      <td>1004</td>\n",
       "      <td>68</td>\n",
       "      <td>12</td>\n",
       "      <td>Новокузнецк</td>\n",
       "      <td>Татьяна</td>\n",
       "      <td>Авдеенко</td>\n",
       "      <td>5</td>\n",
       "      <td>ultra</td>\n",
       "      <td>1000</td>\n",
       "      <td>30</td>\n",
       "      <td>3000</td>\n",
       "      <td>1950</td>\n",
       "      <td>150</td>\n",
       "      <td>1</td>\n",
       "      <td>1</td>\n",
       "    </tr>\n",
       "    <tr>\n",
       "      <td>3</td>\n",
       "      <td>1013</td>\n",
       "      <td>36</td>\n",
       "      <td>12</td>\n",
       "      <td>Иваново</td>\n",
       "      <td>Борис</td>\n",
       "      <td>Андреенко</td>\n",
       "      <td>11</td>\n",
       "      <td>ultra</td>\n",
       "      <td>1000</td>\n",
       "      <td>30</td>\n",
       "      <td>3000</td>\n",
       "      <td>1950</td>\n",
       "      <td>150</td>\n",
       "      <td>1</td>\n",
       "      <td>1</td>\n",
       "    </tr>\n",
       "    <tr>\n",
       "      <td>4</td>\n",
       "      <td>1016</td>\n",
       "      <td>58</td>\n",
       "      <td>12</td>\n",
       "      <td>Омск</td>\n",
       "      <td>Марица</td>\n",
       "      <td>Сазонова</td>\n",
       "      <td>11</td>\n",
       "      <td>ultra</td>\n",
       "      <td>1000</td>\n",
       "      <td>30</td>\n",
       "      <td>3000</td>\n",
       "      <td>1950</td>\n",
       "      <td>150</td>\n",
       "      <td>1</td>\n",
       "      <td>1</td>\n",
       "    </tr>\n",
       "  </tbody>\n",
       "</table>\n",
       "</div>"
      ],
      "text/plain": [
       "  user_id  age  churn_date         city first_name  last_name  reg_date  \\\n",
       "0    1000   52          12    Краснодар     Рафаил  Верещагин         5   \n",
       "1    1003   23          12       Москва      Белла   Белякова         8   \n",
       "2    1004   68          12  Новокузнецк    Татьяна   Авдеенко         5   \n",
       "3    1013   36          12      Иваново      Борис  Андреенко        11   \n",
       "4    1016   58          12         Омск     Марица   Сазонова        11   \n",
       "\n",
       "  tariff  messages_included  gb_per_month_included  minutes_included  \\\n",
       "0  ultra               1000                     30              3000   \n",
       "1  ultra               1000                     30              3000   \n",
       "2  ultra               1000                     30              3000   \n",
       "3  ultra               1000                     30              3000   \n",
       "4  ultra               1000                     30              3000   \n",
       "\n",
       "   rub_monthly_fee  rub_per_gb  rub_per_message  rub_per_minute  \n",
       "0             1950         150                1               1  \n",
       "1             1950         150                1               1  \n",
       "2             1950         150                1               1  \n",
       "3             1950         150                1               1  \n",
       "4             1950         150                1               1  "
      ]
     },
     "execution_count": 27,
     "metadata": {},
     "output_type": "execute_result"
    }
   ],
   "source": [
    "data_users_tariffs['churn_date'].fillna('2018-12-31', inplace=True)\n",
    "data_users_tariffs['churn_date']  = pd.to_datetime(data_users_tariffs['churn_date'])\n",
    "data_users_tariffs.reset_index(inplace=True)\n",
    "data_users_tariffs = data_users_tariffs.drop(columns=['index'], axis=1)\n",
    "\n",
    "#Определим месяц, в котором был аннуливан тариф\n",
    "data_users_tariffs['churn_date'] = data_users_tariffs['churn_date'].dt.month\n",
    "\n",
    "#Определим месяц, в котором был зарегистрирован тариф\n",
    "data_users_tariffs['reg_date'] = data_users_tariffs['reg_date'].dt.month\n",
    "\n",
    "data_users_tariffs.head()"
   ]
  },
  {
   "cell_type": "markdown",
   "metadata": {},
   "source": [
    "### Сбор всей информации в единую таблицу"
   ]
  },
  {
   "cell_type": "code",
   "execution_count": 28,
   "metadata": {},
   "outputs": [
    {
     "name": "stdout",
     "output_type": "stream",
     "text": [
      "<class 'pandas.core.frame.DataFrame'>\n",
      "Int64Index: 3216 entries, 0 to 3215\n",
      "Data columns (total 20 columns):\n",
      "user_id                  3216 non-null object\n",
      "age                      3216 non-null int64\n",
      "churn_date               3216 non-null int64\n",
      "city                     3216 non-null object\n",
      "first_name               3216 non-null object\n",
      "last_name                3216 non-null object\n",
      "reg_date                 3216 non-null int64\n",
      "tariff                   3216 non-null object\n",
      "messages_included        3216 non-null int64\n",
      "gb_per_month_included    3216 non-null int64\n",
      "minutes_included         3216 non-null int64\n",
      "rub_monthly_fee          3216 non-null int64\n",
      "rub_per_gb               3216 non-null int64\n",
      "rub_per_message          3216 non-null int64\n",
      "rub_per_minute           3216 non-null int64\n",
      "month                    3214 non-null float64\n",
      "duration_count_month     3174 non-null Int64\n",
      "duration_sum_month       3174 non-null Int64\n",
      "messages_count_month     2717 non-null Int64\n",
      "internet_sum_month       3203 non-null Int64\n",
      "dtypes: Int64(4), float64(1), int64(10), object(5)\n",
      "memory usage: 540.2+ KB\n",
      "None\n"
     ]
    },
    {
     "data": {
      "text/html": [
       "<div>\n",
       "<style scoped>\n",
       "    .dataframe tbody tr th:only-of-type {\n",
       "        vertical-align: middle;\n",
       "    }\n",
       "\n",
       "    .dataframe tbody tr th {\n",
       "        vertical-align: top;\n",
       "    }\n",
       "\n",
       "    .dataframe thead th {\n",
       "        text-align: right;\n",
       "    }\n",
       "</style>\n",
       "<table border=\"1\" class=\"dataframe\">\n",
       "  <thead>\n",
       "    <tr style=\"text-align: right;\">\n",
       "      <th></th>\n",
       "      <th>user_id</th>\n",
       "      <th>age</th>\n",
       "      <th>churn_date</th>\n",
       "      <th>city</th>\n",
       "      <th>first_name</th>\n",
       "      <th>last_name</th>\n",
       "      <th>reg_date</th>\n",
       "      <th>tariff</th>\n",
       "      <th>messages_included</th>\n",
       "      <th>gb_per_month_included</th>\n",
       "      <th>minutes_included</th>\n",
       "      <th>rub_monthly_fee</th>\n",
       "      <th>rub_per_gb</th>\n",
       "      <th>rub_per_message</th>\n",
       "      <th>rub_per_minute</th>\n",
       "      <th>month</th>\n",
       "      <th>duration_count_month</th>\n",
       "      <th>duration_sum_month</th>\n",
       "      <th>messages_count_month</th>\n",
       "      <th>internet_sum_month</th>\n",
       "    </tr>\n",
       "  </thead>\n",
       "  <tbody>\n",
       "    <tr>\n",
       "      <td>0</td>\n",
       "      <td>1000</td>\n",
       "      <td>52</td>\n",
       "      <td>12</td>\n",
       "      <td>Краснодар</td>\n",
       "      <td>Рафаил</td>\n",
       "      <td>Верещагин</td>\n",
       "      <td>5</td>\n",
       "      <td>ultra</td>\n",
       "      <td>1000</td>\n",
       "      <td>30</td>\n",
       "      <td>3000</td>\n",
       "      <td>1950</td>\n",
       "      <td>150</td>\n",
       "      <td>1</td>\n",
       "      <td>1</td>\n",
       "      <td>5.0</td>\n",
       "      <td>22</td>\n",
       "      <td>159</td>\n",
       "      <td>22</td>\n",
       "      <td>3</td>\n",
       "    </tr>\n",
       "    <tr>\n",
       "      <td>1</td>\n",
       "      <td>1000</td>\n",
       "      <td>52</td>\n",
       "      <td>12</td>\n",
       "      <td>Краснодар</td>\n",
       "      <td>Рафаил</td>\n",
       "      <td>Верещагин</td>\n",
       "      <td>5</td>\n",
       "      <td>ultra</td>\n",
       "      <td>1000</td>\n",
       "      <td>30</td>\n",
       "      <td>3000</td>\n",
       "      <td>1950</td>\n",
       "      <td>150</td>\n",
       "      <td>1</td>\n",
       "      <td>1</td>\n",
       "      <td>6.0</td>\n",
       "      <td>43</td>\n",
       "      <td>172</td>\n",
       "      <td>60</td>\n",
       "      <td>23</td>\n",
       "    </tr>\n",
       "    <tr>\n",
       "      <td>2</td>\n",
       "      <td>1000</td>\n",
       "      <td>52</td>\n",
       "      <td>12</td>\n",
       "      <td>Краснодар</td>\n",
       "      <td>Рафаил</td>\n",
       "      <td>Верещагин</td>\n",
       "      <td>5</td>\n",
       "      <td>ultra</td>\n",
       "      <td>1000</td>\n",
       "      <td>30</td>\n",
       "      <td>3000</td>\n",
       "      <td>1950</td>\n",
       "      <td>150</td>\n",
       "      <td>1</td>\n",
       "      <td>1</td>\n",
       "      <td>7.0</td>\n",
       "      <td>47</td>\n",
       "      <td>340</td>\n",
       "      <td>75</td>\n",
       "      <td>14</td>\n",
       "    </tr>\n",
       "    <tr>\n",
       "      <td>3</td>\n",
       "      <td>1000</td>\n",
       "      <td>52</td>\n",
       "      <td>12</td>\n",
       "      <td>Краснодар</td>\n",
       "      <td>Рафаил</td>\n",
       "      <td>Верещагин</td>\n",
       "      <td>5</td>\n",
       "      <td>ultra</td>\n",
       "      <td>1000</td>\n",
       "      <td>30</td>\n",
       "      <td>3000</td>\n",
       "      <td>1950</td>\n",
       "      <td>150</td>\n",
       "      <td>1</td>\n",
       "      <td>1</td>\n",
       "      <td>8.0</td>\n",
       "      <td>52</td>\n",
       "      <td>408</td>\n",
       "      <td>81</td>\n",
       "      <td>14</td>\n",
       "    </tr>\n",
       "    <tr>\n",
       "      <td>4</td>\n",
       "      <td>1000</td>\n",
       "      <td>52</td>\n",
       "      <td>12</td>\n",
       "      <td>Краснодар</td>\n",
       "      <td>Рафаил</td>\n",
       "      <td>Верещагин</td>\n",
       "      <td>5</td>\n",
       "      <td>ultra</td>\n",
       "      <td>1000</td>\n",
       "      <td>30</td>\n",
       "      <td>3000</td>\n",
       "      <td>1950</td>\n",
       "      <td>150</td>\n",
       "      <td>1</td>\n",
       "      <td>1</td>\n",
       "      <td>9.0</td>\n",
       "      <td>58</td>\n",
       "      <td>466</td>\n",
       "      <td>57</td>\n",
       "      <td>15</td>\n",
       "    </tr>\n",
       "  </tbody>\n",
       "</table>\n",
       "</div>"
      ],
      "text/plain": [
       "  user_id  age  churn_date       city first_name  last_name  reg_date tariff  \\\n",
       "0    1000   52          12  Краснодар     Рафаил  Верещагин         5  ultra   \n",
       "1    1000   52          12  Краснодар     Рафаил  Верещагин         5  ultra   \n",
       "2    1000   52          12  Краснодар     Рафаил  Верещагин         5  ultra   \n",
       "3    1000   52          12  Краснодар     Рафаил  Верещагин         5  ultra   \n",
       "4    1000   52          12  Краснодар     Рафаил  Верещагин         5  ultra   \n",
       "\n",
       "   messages_included  gb_per_month_included  minutes_included  \\\n",
       "0               1000                     30              3000   \n",
       "1               1000                     30              3000   \n",
       "2               1000                     30              3000   \n",
       "3               1000                     30              3000   \n",
       "4               1000                     30              3000   \n",
       "\n",
       "   rub_monthly_fee  rub_per_gb  rub_per_message  rub_per_minute  month  \\\n",
       "0             1950         150                1               1    5.0   \n",
       "1             1950         150                1               1    6.0   \n",
       "2             1950         150                1               1    7.0   \n",
       "3             1950         150                1               1    8.0   \n",
       "4             1950         150                1               1    9.0   \n",
       "\n",
       "   duration_count_month  duration_sum_month  messages_count_month  \\\n",
       "0                    22                 159                    22   \n",
       "1                    43                 172                    60   \n",
       "2                    47                 340                    75   \n",
       "3                    52                 408                    81   \n",
       "4                    58                 466                    57   \n",
       "\n",
       "   internet_sum_month  \n",
       "0                   3  \n",
       "1                  23  \n",
       "2                  14  \n",
       "3                  14  \n",
       "4                  15  "
      ]
     },
     "execution_count": 28,
     "metadata": {},
     "output_type": "execute_result"
    }
   ],
   "source": [
    "common_data = data_users_tariffs.merge(data_id, on='user_id', how='outer')\n",
    "print(common_data.info())\n",
    "common_data.head()"
   ]
  },
  {
   "cell_type": "markdown",
   "metadata": {},
   "source": [
    "В некоторых столбцах есть пропуски, но это не искажает общую картину исследования, поскольку просто некоторые абоненты в некоторые периоды времени не пользовались какими-либо услугами"
   ]
  },
  {
   "cell_type": "markdown",
   "metadata": {},
   "source": [
    "### Расчет помесячной выручки с каждого пользователя\n",
    "Вычтем бесплатный лимит из суммарного количества звонков, сообщений и интернет-трафика; остаток умножим на значение из тарифного плана; прибавим абонентскую плату, соответствующую тарифному плану"
   ]
  },
  {
   "cell_type": "code",
   "execution_count": 29,
   "metadata": {},
   "outputs": [
    {
     "data": {
      "text/html": [
       "<div>\n",
       "<style scoped>\n",
       "    .dataframe tbody tr th:only-of-type {\n",
       "        vertical-align: middle;\n",
       "    }\n",
       "\n",
       "    .dataframe tbody tr th {\n",
       "        vertical-align: top;\n",
       "    }\n",
       "\n",
       "    .dataframe thead th {\n",
       "        text-align: right;\n",
       "    }\n",
       "</style>\n",
       "<table border=\"1\" class=\"dataframe\">\n",
       "  <thead>\n",
       "    <tr style=\"text-align: right;\">\n",
       "      <th></th>\n",
       "      <th>user_id</th>\n",
       "      <th>age</th>\n",
       "      <th>churn_date</th>\n",
       "      <th>city</th>\n",
       "      <th>first_name</th>\n",
       "      <th>last_name</th>\n",
       "      <th>reg_date</th>\n",
       "      <th>tariff</th>\n",
       "      <th>messages_included</th>\n",
       "      <th>gb_per_month_included</th>\n",
       "      <th>...</th>\n",
       "      <th>month</th>\n",
       "      <th>duration_count_month</th>\n",
       "      <th>duration_sum_month</th>\n",
       "      <th>messages_count_month</th>\n",
       "      <th>internet_sum_month</th>\n",
       "      <th>pay_calls</th>\n",
       "      <th>pay_messages</th>\n",
       "      <th>pay_internet</th>\n",
       "      <th>pay_abonent</th>\n",
       "      <th>total_pay</th>\n",
       "    </tr>\n",
       "  </thead>\n",
       "  <tbody>\n",
       "    <tr>\n",
       "      <td>0</td>\n",
       "      <td>1000</td>\n",
       "      <td>52</td>\n",
       "      <td>12</td>\n",
       "      <td>Краснодар</td>\n",
       "      <td>Рафаил</td>\n",
       "      <td>Верещагин</td>\n",
       "      <td>5</td>\n",
       "      <td>ultra</td>\n",
       "      <td>1000</td>\n",
       "      <td>30</td>\n",
       "      <td>...</td>\n",
       "      <td>5.0</td>\n",
       "      <td>22</td>\n",
       "      <td>159</td>\n",
       "      <td>22</td>\n",
       "      <td>3</td>\n",
       "      <td>0</td>\n",
       "      <td>0</td>\n",
       "      <td>0</td>\n",
       "      <td>1</td>\n",
       "      <td>1950</td>\n",
       "    </tr>\n",
       "    <tr>\n",
       "      <td>1</td>\n",
       "      <td>1000</td>\n",
       "      <td>52</td>\n",
       "      <td>12</td>\n",
       "      <td>Краснодар</td>\n",
       "      <td>Рафаил</td>\n",
       "      <td>Верещагин</td>\n",
       "      <td>5</td>\n",
       "      <td>ultra</td>\n",
       "      <td>1000</td>\n",
       "      <td>30</td>\n",
       "      <td>...</td>\n",
       "      <td>6.0</td>\n",
       "      <td>43</td>\n",
       "      <td>172</td>\n",
       "      <td>60</td>\n",
       "      <td>23</td>\n",
       "      <td>0</td>\n",
       "      <td>0</td>\n",
       "      <td>0</td>\n",
       "      <td>1</td>\n",
       "      <td>1950</td>\n",
       "    </tr>\n",
       "    <tr>\n",
       "      <td>2</td>\n",
       "      <td>1000</td>\n",
       "      <td>52</td>\n",
       "      <td>12</td>\n",
       "      <td>Краснодар</td>\n",
       "      <td>Рафаил</td>\n",
       "      <td>Верещагин</td>\n",
       "      <td>5</td>\n",
       "      <td>ultra</td>\n",
       "      <td>1000</td>\n",
       "      <td>30</td>\n",
       "      <td>...</td>\n",
       "      <td>7.0</td>\n",
       "      <td>47</td>\n",
       "      <td>340</td>\n",
       "      <td>75</td>\n",
       "      <td>14</td>\n",
       "      <td>0</td>\n",
       "      <td>0</td>\n",
       "      <td>0</td>\n",
       "      <td>1</td>\n",
       "      <td>1950</td>\n",
       "    </tr>\n",
       "    <tr>\n",
       "      <td>3</td>\n",
       "      <td>1000</td>\n",
       "      <td>52</td>\n",
       "      <td>12</td>\n",
       "      <td>Краснодар</td>\n",
       "      <td>Рафаил</td>\n",
       "      <td>Верещагин</td>\n",
       "      <td>5</td>\n",
       "      <td>ultra</td>\n",
       "      <td>1000</td>\n",
       "      <td>30</td>\n",
       "      <td>...</td>\n",
       "      <td>8.0</td>\n",
       "      <td>52</td>\n",
       "      <td>408</td>\n",
       "      <td>81</td>\n",
       "      <td>14</td>\n",
       "      <td>0</td>\n",
       "      <td>0</td>\n",
       "      <td>0</td>\n",
       "      <td>1</td>\n",
       "      <td>1950</td>\n",
       "    </tr>\n",
       "    <tr>\n",
       "      <td>4</td>\n",
       "      <td>1000</td>\n",
       "      <td>52</td>\n",
       "      <td>12</td>\n",
       "      <td>Краснодар</td>\n",
       "      <td>Рафаил</td>\n",
       "      <td>Верещагин</td>\n",
       "      <td>5</td>\n",
       "      <td>ultra</td>\n",
       "      <td>1000</td>\n",
       "      <td>30</td>\n",
       "      <td>...</td>\n",
       "      <td>9.0</td>\n",
       "      <td>58</td>\n",
       "      <td>466</td>\n",
       "      <td>57</td>\n",
       "      <td>15</td>\n",
       "      <td>0</td>\n",
       "      <td>0</td>\n",
       "      <td>0</td>\n",
       "      <td>1</td>\n",
       "      <td>1950</td>\n",
       "    </tr>\n",
       "  </tbody>\n",
       "</table>\n",
       "<p>5 rows × 25 columns</p>\n",
       "</div>"
      ],
      "text/plain": [
       "  user_id  age  churn_date       city first_name  last_name  reg_date tariff  \\\n",
       "0    1000   52          12  Краснодар     Рафаил  Верещагин         5  ultra   \n",
       "1    1000   52          12  Краснодар     Рафаил  Верещагин         5  ultra   \n",
       "2    1000   52          12  Краснодар     Рафаил  Верещагин         5  ultra   \n",
       "3    1000   52          12  Краснодар     Рафаил  Верещагин         5  ultra   \n",
       "4    1000   52          12  Краснодар     Рафаил  Верещагин         5  ultra   \n",
       "\n",
       "   messages_included  gb_per_month_included  ...  month  duration_count_month  \\\n",
       "0               1000                     30  ...    5.0                    22   \n",
       "1               1000                     30  ...    6.0                    43   \n",
       "2               1000                     30  ...    7.0                    47   \n",
       "3               1000                     30  ...    8.0                    52   \n",
       "4               1000                     30  ...    9.0                    58   \n",
       "\n",
       "   duration_sum_month  messages_count_month  internet_sum_month  pay_calls  \\\n",
       "0                 159                    22                   3          0   \n",
       "1                 172                    60                  23          0   \n",
       "2                 340                    75                  14          0   \n",
       "3                 408                    81                  14          0   \n",
       "4                 466                    57                  15          0   \n",
       "\n",
       "   pay_messages  pay_internet  pay_abonent  total_pay  \n",
       "0             0             0            1       1950  \n",
       "1             0             0            1       1950  \n",
       "2             0             0            1       1950  \n",
       "3             0             0            1       1950  \n",
       "4             0             0            1       1950  \n",
       "\n",
       "[5 rows x 25 columns]"
      ]
     },
     "execution_count": 29,
     "metadata": {},
     "output_type": "execute_result"
    }
   ],
   "source": [
    "common_data['pay_calls'] = (\n",
    "    np.where(common_data['duration_sum_month'] > common_data['minutes_included'],\n",
    "             common_data['duration_sum_month'] - common_data['minutes_included'], \n",
    "             0)\n",
    ")\n",
    "\n",
    "common_data['pay_messages'] = (\n",
    "    np.where(common_data['messages_count_month'] > common_data['messages_included'], \n",
    "             common_data['messages_count_month'] - common_data['messages_included'], \n",
    "             0)\n",
    ")\n",
    "\n",
    "common_data['pay_internet'] = (\n",
    "    np.where(common_data['internet_sum_month'] > common_data['gb_per_month_included'], \n",
    "             common_data['internet_sum_month'] - common_data['gb_per_month_included'],\n",
    "             0)\n",
    ")\n",
    "\n",
    "common_data['pay_abonent'] = (\n",
    "    np.where((common_data['month'] >= common_data['reg_date']) &\n",
    "             (common_data['month'] <= common_data['churn_date']),\n",
    "             1,\n",
    "             0\n",
    "            )\n",
    ")\n",
    "\n",
    "common_data['total_pay'] = (\n",
    "    common_data['pay_abonent'] * common_data['rub_monthly_fee'] +\n",
    "    common_data['pay_internet'] * common_data['rub_per_gb'] +\n",
    "    common_data['pay_messages'] * common_data['rub_per_message'] +\n",
    "    common_data['pay_calls'] * common_data['rub_per_minute']\n",
    ")\n",
    "common_data.head()"
   ]
  },
  {
   "cell_type": "code",
   "execution_count": 30,
   "metadata": {},
   "outputs": [
    {
     "name": "stdout",
     "output_type": "stream",
     "text": [
      "<class 'pandas.core.frame.DataFrame'>\n",
      "Int64Index: 3216 entries, 0 to 3215\n",
      "Data columns (total 25 columns):\n",
      "user_id                  3216 non-null object\n",
      "age                      3216 non-null int64\n",
      "churn_date               3216 non-null int64\n",
      "city                     3216 non-null object\n",
      "first_name               3216 non-null object\n",
      "last_name                3216 non-null object\n",
      "reg_date                 3216 non-null int64\n",
      "tariff                   3216 non-null object\n",
      "messages_included        3216 non-null int64\n",
      "gb_per_month_included    3216 non-null int64\n",
      "minutes_included         3216 non-null int64\n",
      "rub_monthly_fee          3216 non-null int64\n",
      "rub_per_gb               3216 non-null int64\n",
      "rub_per_message          3216 non-null int64\n",
      "rub_per_minute           3216 non-null int64\n",
      "month                    3214 non-null float64\n",
      "duration_count_month     3174 non-null Int64\n",
      "duration_sum_month       3174 non-null Int64\n",
      "messages_count_month     2717 non-null Int64\n",
      "internet_sum_month       3203 non-null Int64\n",
      "pay_calls                3216 non-null object\n",
      "pay_messages             3216 non-null object\n",
      "pay_internet             3216 non-null object\n",
      "pay_abonent              3216 non-null int64\n",
      "total_pay                3216 non-null object\n",
      "dtypes: Int64(4), float64(1), int64(11), object(9)\n",
      "memory usage: 665.8+ KB\n"
     ]
    }
   ],
   "source": [
    "common_data.info()"
   ]
  },
  {
   "cell_type": "code",
   "execution_count": 31,
   "metadata": {},
   "outputs": [
    {
     "name": "stdout",
     "output_type": "stream",
     "text": [
      "<class 'pandas.core.frame.DataFrame'>\n",
      "Int64Index: 3216 entries, 0 to 3215\n",
      "Data columns (total 25 columns):\n",
      "user_id                  3216 non-null object\n",
      "age                      3216 non-null int64\n",
      "churn_date               3216 non-null int64\n",
      "city                     3216 non-null object\n",
      "first_name               3216 non-null object\n",
      "last_name                3216 non-null object\n",
      "reg_date                 3216 non-null int64\n",
      "tariff                   3216 non-null object\n",
      "messages_included        3216 non-null int64\n",
      "gb_per_month_included    3216 non-null int64\n",
      "minutes_included         3216 non-null int64\n",
      "rub_monthly_fee          3216 non-null int64\n",
      "rub_per_gb               3216 non-null int64\n",
      "rub_per_message          3216 non-null int64\n",
      "rub_per_minute           3216 non-null int64\n",
      "month                    3214 non-null float64\n",
      "duration_count_month     3174 non-null Int64\n",
      "duration_sum_month       3174 non-null Int64\n",
      "messages_count_month     2717 non-null Int64\n",
      "internet_sum_month       3203 non-null Int64\n",
      "pay_calls                3216 non-null object\n",
      "pay_messages             3216 non-null object\n",
      "pay_internet             3216 non-null object\n",
      "pay_abonent              3216 non-null int64\n",
      "total_pay                3216 non-null float64\n",
      "dtypes: Int64(4), float64(2), int64(11), object(8)\n",
      "memory usage: 665.8+ KB\n"
     ]
    }
   ],
   "source": [
    "common_data['total_pay'] = common_data['total_pay'].astype('float64')\n",
    "common_data.info()"
   ]
  },
  {
   "cell_type": "markdown",
   "metadata": {},
   "source": [
    "### Выводы по главе 3\n",
    "В ходе выполнения данного пункта мы рассчитали по каждому абоненту количество сделанных звонков и израсходованных минут разговора, количество отправленных сообщений и объем израсходованного интернет-трафика за каждый месяц 2018 года. Также мы определили помесячную выручку полученную с каждого пользователя."
   ]
  },
  {
   "cell_type": "markdown",
   "metadata": {},
   "source": [
    "## Исследовательский анализ данных\n",
    "В данной главе опишем поведение выборочных клиентов оператора. \n",
    "<br> Сколько минут разговора, сколько сообщений и какой объём интернет-трафика требуется пользователям каждого тарифа в месяц? \n",
    "<br> Для этого посчитаем среднее количество, дисперсию и стандартное отклонение. \n"
   ]
  },
  {
   "cell_type": "code",
   "execution_count": 32,
   "metadata": {},
   "outputs": [
    {
     "data": {
      "text/html": [
       "<div>\n",
       "<style scoped>\n",
       "    .dataframe tbody tr th:only-of-type {\n",
       "        vertical-align: middle;\n",
       "    }\n",
       "\n",
       "    .dataframe tbody tr th {\n",
       "        vertical-align: top;\n",
       "    }\n",
       "\n",
       "    .dataframe thead tr th {\n",
       "        text-align: left;\n",
       "    }\n",
       "\n",
       "    .dataframe thead tr:last-of-type th {\n",
       "        text-align: right;\n",
       "    }\n",
       "</style>\n",
       "<table border=\"1\" class=\"dataframe\">\n",
       "  <thead>\n",
       "    <tr>\n",
       "      <th></th>\n",
       "      <th colspan=\"3\" halign=\"left\">mean</th>\n",
       "      <th colspan=\"3\" halign=\"left\">var</th>\n",
       "      <th colspan=\"3\" halign=\"left\">std</th>\n",
       "    </tr>\n",
       "    <tr>\n",
       "      <th></th>\n",
       "      <th>duration_sum_month</th>\n",
       "      <th>internet_sum_month</th>\n",
       "      <th>messages_count_month</th>\n",
       "      <th>duration_sum_month</th>\n",
       "      <th>internet_sum_month</th>\n",
       "      <th>messages_count_month</th>\n",
       "      <th>duration_sum_month</th>\n",
       "      <th>internet_sum_month</th>\n",
       "      <th>messages_count_month</th>\n",
       "    </tr>\n",
       "    <tr>\n",
       "      <th>tariff</th>\n",
       "      <th></th>\n",
       "      <th></th>\n",
       "      <th></th>\n",
       "      <th></th>\n",
       "      <th></th>\n",
       "      <th></th>\n",
       "      <th></th>\n",
       "      <th></th>\n",
       "      <th></th>\n",
       "    </tr>\n",
       "  </thead>\n",
       "  <tbody>\n",
       "    <tr>\n",
       "      <td>smart</td>\n",
       "      <td>419.062978</td>\n",
       "      <td>16.336176</td>\n",
       "      <td>38.716441</td>\n",
       "      <td>35844.189551</td>\n",
       "      <td>32.923756</td>\n",
       "      <td>717.594201</td>\n",
       "      <td>189.325618</td>\n",
       "      <td>5.737923</td>\n",
       "      <td>26.787949</td>\n",
       "    </tr>\n",
       "    <tr>\n",
       "      <td>ultra</td>\n",
       "      <td>545.451104</td>\n",
       "      <td>19.694359</td>\n",
       "      <td>61.161006</td>\n",
       "      <td>94203.418396</td>\n",
       "      <td>94.146734</td>\n",
       "      <td>2109.659183</td>\n",
       "      <td>306.925754</td>\n",
       "      <td>9.702924</td>\n",
       "      <td>45.931026</td>\n",
       "    </tr>\n",
       "  </tbody>\n",
       "</table>\n",
       "</div>"
      ],
      "text/plain": [
       "                     mean                                          \\\n",
       "       duration_sum_month internet_sum_month messages_count_month   \n",
       "tariff                                                              \n",
       "smart          419.062978          16.336176            38.716441   \n",
       "ultra          545.451104          19.694359            61.161006   \n",
       "\n",
       "                      var                                          \\\n",
       "       duration_sum_month internet_sum_month messages_count_month   \n",
       "tariff                                                              \n",
       "smart        35844.189551          32.923756           717.594201   \n",
       "ultra        94203.418396          94.146734          2109.659183   \n",
       "\n",
       "                      std                                          \n",
       "       duration_sum_month internet_sum_month messages_count_month  \n",
       "tariff                                                             \n",
       "smart          189.325618           5.737923            26.787949  \n",
       "ultra          306.925754           9.702924            45.931026  "
      ]
     },
     "execution_count": 32,
     "metadata": {},
     "output_type": "execute_result"
    }
   ],
   "source": [
    "common_data.pivot_table(\n",
    "    index = 'tariff', values = ['duration_sum_month', 'messages_count_month', 'internet_sum_month'],\n",
    "    aggfunc = ['mean', 'var', 'std']\n",
    ")"
   ]
  },
  {
   "cell_type": "markdown",
   "metadata": {},
   "source": [
    "<br>При рассмотрении полученных данных, выявлено, что в среднем пользователи тарифа Смарт тратят на 126 минут меньше на разговоры в месяц, на 3,3 Гб интернета меньше и на 22 СМС меньше, чем пользователи тарифа Ультра.\n",
    "<br>Стандартное отклонение также отличается тем, что по всем трем параметрам пользователей тарифа Старт оно меньше, чем у пользователей тарифа Ультра. То есть у пользователей тарифа Ультра показатели менее «разбросаны» относительно среднего."
   ]
  },
  {
   "cell_type": "markdown",
   "metadata": {},
   "source": [
    "<br>Построим гистограммы. Опишем распределения."
   ]
  },
  {
   "cell_type": "code",
   "execution_count": 33,
   "metadata": {},
   "outputs": [
    {
     "data": {
      "image/png": "[encoded data removed]",
      "text/plain": [
       "<Figure size 432x288 with 1 Axes>"
      ]
     },
     "metadata": {
      "needs_background": "light"
     },
     "output_type": "display_data"
    }
   ],
   "source": [
    "common_data.loc[common_data.loc[:,'tariff'] == 'smart']['duration_sum_month'].plot(\n",
    "    kind = 'hist', bins = 50, label = 'smart'\n",
    ")\n",
    "common_data.loc[common_data.loc[:,'tariff'] == \"ultra\"]['duration_sum_month'].plot(\n",
    "    kind = 'hist', bins = 50, alpha =0.7, label = 'ultra'\n",
    ")\n",
    "plt.title(column)\n",
    "plt.legend()\n",
    "plt.show()"
   ]
  },
  {
   "cell_type": "code",
   "execution_count": 34,
   "metadata": {},
   "outputs": [
    {
     "data": {
      "image/png": "[encoded data removed]",
      "text/plain": [
       "<Figure size 432x288 with 1 Axes>"
      ]
     },
     "metadata": {
      "needs_background": "light"
     },
     "output_type": "display_data"
    }
   ],
   "source": [
    "common_data.loc[common_data.loc[:,'tariff'] == 'smart']['messages_count_month'].plot(\n",
    "    kind = 'hist', bins = 50, label = 'smart'\n",
    ")\n",
    "common_data.loc[common_data.loc[:,'tariff'] == \"ultra\"]['messages_count_month'].plot(\n",
    "    kind = 'hist', bins = 50, alpha =0.7, label = 'ultra'\n",
    ")\n",
    "plt.title(column)\n",
    "plt.legend()\n",
    "plt.show()"
   ]
  },
  {
   "cell_type": "code",
   "execution_count": 35,
   "metadata": {},
   "outputs": [
    {
     "data": {
      "image/png": "[encoded data removed]",
      "text/plain": [
       "<Figure size 432x288 with 1 Axes>"
      ]
     },
     "metadata": {
      "needs_background": "light"
     },
     "output_type": "display_data"
    }
   ],
   "source": [
    "common_data.loc[common_data.loc[:,'tariff'] == 'smart']['internet_sum_month'].plot(\n",
    "    kind = 'hist', bins = 50, label = 'smart'\n",
    ")\n",
    "common_data.loc[common_data.loc[:,'tariff'] == \"ultra\"]['internet_sum_month'].plot(\n",
    "    kind = 'hist', bins = 50, alpha =0.7, label = 'ultra'\n",
    ")\n",
    "plt.title(column)\n",
    "plt.legend()\n",
    "plt.show()"
   ]
  },
  {
   "cell_type": "markdown",
   "metadata": {},
   "source": [
    "При рассмотрении гистограмм, получим что:\n",
    "<br> 1) в случае с потраченными минутами за месяц: распределения обоих тарифов близки к нормальному, но у пользователей тарифа Ульра распределение скошено в положительную сторону, то есть пользователи тратят ощутимо больше медианной величины\n",
    "<br> 2) в случае с использованными сообщениями за месяц: распределения обоих тарифов близки к нормальному, оба распределения скошены в положительную сторону\n",
    "<br> 3) в случае с использованным интернет-трафиком за месяц: распределения обоих тарифов близки к нормальному, оба распределения симметричны\n",
    "<br> Пользователи тарифа Смарт чаще всего тратят весь пакет предоставленных им услуг, пользователи тарифа Ультра тратят меньше предоставленного пакета в случае с минутами разговора и смс. В случае с интернет-стафиком в среднем абоненты тарифа Ультра выговаривают весь пакет и достаточно часто докупают дополнительный трафик"
   ]
  },
  {
   "cell_type": "markdown",
   "metadata": {},
   "source": [
    "Построим гистограмму по суммарной аплате за месяц"
   ]
  },
  {
   "cell_type": "code",
   "execution_count": 36,
   "metadata": {},
   "outputs": [
    {
     "data": {
      "image/png": "[encoded data removed]",
      "text/plain": [
       "<Figure size 432x288 with 1 Axes>"
      ]
     },
     "metadata": {
      "needs_background": "light"
     },
     "output_type": "display_data"
    }
   ],
   "source": [
    "common_data.loc[common_data.loc[:,'tariff'] == 'smart']['total_pay'].plot(\n",
    "    kind = 'hist', bins = 50, label = 'smart'\n",
    ")\n",
    "common_data.loc[common_data.loc[:,'tariff'] == \"ultra\"]['total_pay'].plot(\n",
    "    kind = 'hist', bins = 50, alpha =0.7, label = 'ultra'\n",
    ")\n",
    "plt.title(column)\n",
    "plt.legend()\n",
    "plt.show()"
   ]
  },
  {
   "cell_type": "code",
   "execution_count": 37,
   "metadata": {},
   "outputs": [
    {
     "data": {
      "text/plain": [
       "count     986.000000\n",
       "mean     2068.052738\n",
       "std       381.732175\n",
       "min         0.000000\n",
       "25%      1950.000000\n",
       "50%      1950.000000\n",
       "75%      1950.000000\n",
       "max      4800.000000\n",
       "Name: total_pay, dtype: float64"
      ]
     },
     "execution_count": 37,
     "metadata": {},
     "output_type": "execute_result"
    }
   ],
   "source": [
    "common_data.loc[common_data.loc[:,'tariff'] == \"ultra\"]['total_pay'].describe()"
   ]
  },
  {
   "cell_type": "code",
   "execution_count": 38,
   "metadata": {},
   "outputs": [
    {
     "data": {
      "text/plain": [
       "count    2230.000000\n",
       "mean     1289.395067\n",
       "std       818.676629\n",
       "min         0.000000\n",
       "25%       550.000000\n",
       "50%      1021.000000\n",
       "75%      1750.000000\n",
       "max      6770.000000\n",
       "Name: total_pay, dtype: float64"
      ]
     },
     "execution_count": 38,
     "metadata": {},
     "output_type": "execute_result"
    }
   ],
   "source": [
    "common_data.loc[common_data.loc[:,'tariff'] == \"smart\"]['total_pay'].describe()"
   ]
  },
  {
   "cell_type": "markdown",
   "metadata": {},
   "source": [
    "Можно сделать вывод, что примерно 25% абонентов тарифа Смарт платят только абоненскую плату, для тафира Ультра доля таких абонентов составляет 75%\n",
    "<br> Для абонентов тарифа Ультра пик более выражен, а абоненты тарифа Смарт в половине случаев все-таки выходят за рамки тарифного плана"
   ]
  },
  {
   "cell_type": "markdown",
   "metadata": {},
   "source": [
    "### Выводы по главе 4\n",
    "Пользователи тарифа Смарт чаще всего тратят весь пакет предоставленных им услуг, пользователи тарифа Ультра тратят меньше предоставленного пакета в случае с минутами разговора и смс. В случае с интернет-стафиком в среднем абоненты тарифа Ультра выговаривают весь пакет и достаточно часто докупают дополнительный трафик\n",
    "<br>Примерно 25% абонентов тарифа Смарт платят только абоненскую плату, для тафира Ультра доля таких абонентов составляет 75%"
   ]
  },
  {
   "cell_type": "markdown",
   "metadata": {},
   "source": [
    "## Проверка поставленных гипотез"
   ]
  },
  {
   "cell_type": "markdown",
   "metadata": {},
   "source": [
    "### Первая гипотеза: средняя выручка пользователей тарифов «Ультра» и «Смарт» различается\n",
    "<br> Н0: средняя выручка пользователей тарифов «Ультра» и «Смарт» равна между собой\n",
    "<br> H1: средняя выручка пользователей тарифов «Ультра» и «Смарт» различается\n",
    "<br> Пороговое значение alpha примем равным 0,05"
   ]
  },
  {
   "cell_type": "code",
   "execution_count": 39,
   "metadata": {},
   "outputs": [
    {
     "name": "stdout",
     "output_type": "stream",
     "text": [
      "p-значение: 1.0060103384113545e-159\n",
      "Отвергаем нулевую гипотезу\n"
     ]
    }
   ],
   "source": [
    "alpha = .05\n",
    "\n",
    "results = stat.ttest_ind(\n",
    "    common_data.loc[common_data.loc[:,'tariff'] == 'ultra']['total_pay'],\n",
    "    common_data.loc[common_data.loc[:,'tariff'] == 'smart']['total_pay']\n",
    ")\n",
    "    \n",
    "print('p-значение:', results.pvalue)\n",
    "\n",
    "if results.pvalue < alpha:\n",
    "    print(\"Отвергаем нулевую гипотезу\")\n",
    "else:\n",
    "    print(\"Не получилось отвергнуть нулевую гипотезу\") "
   ]
  },
  {
   "cell_type": "code",
   "execution_count": 40,
   "metadata": {},
   "outputs": [
    {
     "data": {
      "image/png": "[encoded data removed]",
      "text/plain": [
       "<Figure size 432x288 with 1 Axes>"
      ]
     },
     "metadata": {
      "needs_background": "light"
     },
     "output_type": "display_data"
    }
   ],
   "source": [
    "common_data.loc[common_data.loc[:,'tariff'] == 'ultra']['total_pay'].plot(\n",
    "    kind = 'hist', bins = 50, label = 'smart'\n",
    ")\n",
    "common_data.loc[common_data.loc[:,'tariff'] == 'smart']['total_pay'].plot(\n",
    "    kind = 'hist', bins = 50, alpha =0.7, label = 'ultra'\n",
    ")\n",
    "plt.title(column)\n",
    "plt.legend()\n",
    "plt.show()"
   ]
  },
  {
   "cell_type": "markdown",
   "metadata": {},
   "source": [
    "Нулевая гипотеза отвергается, следовательно, в 95% случаев средняя выручка пользователей тарифов «Ультра» и «Смарт» различается"
   ]
  },
  {
   "cell_type": "markdown",
   "metadata": {},
   "source": [
    "### Вторая гипотеза: средняя выручка пользователей из Москвы отличается от выручки пользователей из других регионов\n",
    "<br> Н0: средняя выручка пользователей из Москвы равна средней выручке пользователей из других регионов\n",
    "<br> Н1: средняя выручка пользователей из Москвы не равна средней выручке пользователей из других регионов\n",
    "<br> Пороговое значение alpha примем равным 0,05"
   ]
  },
  {
   "cell_type": "code",
   "execution_count": 41,
   "metadata": {},
   "outputs": [
    {
     "name": "stdout",
     "output_type": "stream",
     "text": [
      "p-значение: 0.5037849720906431\n",
      "Не получилось отвергнуть нулевую гипотезу\n"
     ]
    }
   ],
   "source": [
    "alpha = .05\n",
    "#Так как выборки у нас разного размера \n",
    "#и есть сомнения, что дисперсии у совокупностей одинаковые (Москва сильно отличается от регионов)\n",
    "# то применим значение equal_var = False\n",
    "\n",
    "results = stat.ttest_ind(\n",
    "    common_data.loc[common_data.loc[:,'city'] == 'Москва']['total_pay'],\n",
    "    common_data.loc[common_data.loc[:,'city'] != 'Москва']['total_pay'],\n",
    "    equal_var = False\n",
    ")\n",
    "    \n",
    "print('p-значение:', results.pvalue)\n",
    "\n",
    "if results.pvalue < alpha:\n",
    "    print(\"Отвергаем нулевую гипотезу\")\n",
    "else:\n",
    "    print(\"Не получилось отвергнуть нулевую гипотезу\") "
   ]
  },
  {
   "cell_type": "code",
   "execution_count": 42,
   "metadata": {},
   "outputs": [
    {
     "data": {
      "image/png": "[encoded data removed]",
      "text/plain": [
       "<Figure size 432x288 with 1 Axes>"
      ]
     },
     "metadata": {
      "needs_background": "light"
     },
     "output_type": "display_data"
    }
   ],
   "source": [
    "common_data.loc[common_data.loc[:,'city'] == 'Москва']['total_pay'].plot(\n",
    "    kind = 'hist', bins = 50, label = 'Москва'\n",
    ")\n",
    "common_data.loc[common_data.loc[:,'city'] != 'Москва']['total_pay'].plot(\n",
    "    kind = 'hist', bins = 50, alpha =0.7, label = 'Регионы'\n",
    ")\n",
    "plt.title(column)\n",
    "plt.legend()\n",
    "plt.show()"
   ]
  },
  {
   "cell_type": "markdown",
   "metadata": {},
   "source": [
    "Нет оснований отвергнуть нулевую гипотезу, следовательно, в 95% случаев средняя выручка пользователей из Москвы равна средней выручке пользователей из других регионов"
   ]
  },
  {
   "cell_type": "markdown",
   "metadata": {},
   "source": [
    "### Выводы по главе 5\n",
    "В 95% случаев средняя выручка пользователей тарифов «Ультра» и «Смарт» различается, при этом средняя выручка пользователей из Москвы равна средней выручке пользователей из других регионов"
   ]
  },
  {
   "cell_type": "markdown",
   "metadata": {},
   "source": [
    "## Общий вывод\n",
    "<br>Принимая во внимание то, что среднее и медианное значение выручки, принесенной абонентами тарифа **Ультра**, больше, чем значение выручки, принесенной абонентами тарифа **Смарт**, следует перераспределить основной объем рекламного бюджета на развитие тарифа **Ультра**, несмотря на то, что абоненты тарифа **Ультра** в большинстве случаев не выходят за рамки тарифного пакета\n",
    "<br> Проведенное исследование позволило подтвердить гипотезу о том, что средняя выручка пользователей тарифов **Ультра** и **Смарт** различается.\n",
    "<br> Проведенное исследование позволило опровергнуть гипотезу о том, что средняя выручка пользователей из Москвы равна средней выручке пользователей из других регионов\n",
    "<br> *Итак*, лучше тариф Ультра, коммерческому департаменту следует развивать данный тариф\n",
    "<br> Цель исследования выполнена, задачи решены"
   ]
  }
 ],
 "metadata": {
  "ExecuteTimeLog": [
   {
    "duration": 84,
    "start_time": "2022-02-05T13:02:22.045Z"
   },
   {
    "duration": 1791,
    "start_time": "2022-02-05T13:03:02.054Z"
   },
   {
    "duration": 4,
    "start_time": "2022-02-05T13:14:49.118Z"
   },
   {
    "duration": 232,
    "start_time": "2022-02-05T13:15:25.810Z"
   },
   {
    "duration": 413,
    "start_time": "2022-02-05T13:17:22.035Z"
   },
   {
    "duration": 336,
    "start_time": "2022-02-05T13:17:39.042Z"
   },
   {
    "duration": 266,
    "start_time": "2022-02-05T13:17:49.263Z"
   },
   {
    "duration": 289,
    "start_time": "2022-02-05T13:21:00.562Z"
   },
   {
    "duration": 228,
    "start_time": "2022-02-05T13:21:05.934Z"
   },
   {
    "duration": 272,
    "start_time": "2022-02-05T13:21:22.988Z"
   },
   {
    "duration": 99,
    "start_time": "2022-02-05T13:21:47.011Z"
   },
   {
    "duration": 295,
    "start_time": "2022-02-05T13:21:51.194Z"
   },
   {
    "duration": 9521,
    "start_time": "2022-02-05T13:23:09.926Z"
   },
   {
    "duration": 581,
    "start_time": "2022-02-05T13:23:27.997Z"
   },
   {
    "duration": 4,
    "start_time": "2022-02-05T13:27:57.383Z"
   },
   {
    "duration": 137,
    "start_time": "2022-02-05T13:34:47.257Z"
   },
   {
    "duration": 191,
    "start_time": "2022-02-05T13:35:25.504Z"
   },
   {
    "duration": 140,
    "start_time": "2022-02-05T13:35:37.061Z"
   },
   {
    "duration": 30,
    "start_time": "2022-02-05T13:36:15.464Z"
   },
   {
    "duration": 51,
    "start_time": "2022-02-05T13:37:29.473Z"
   },
   {
    "duration": 462,
    "start_time": "2022-02-05T13:44:04.066Z"
   },
   {
    "duration": 447,
    "start_time": "2022-02-05T13:47:50.659Z"
   },
   {
    "duration": 298,
    "start_time": "2022-02-05T13:48:12.825Z"
   },
   {
    "duration": 25,
    "start_time": "2022-02-05T13:49:37.696Z"
   },
   {
    "duration": 31,
    "start_time": "2022-02-05T13:51:13.049Z"
   },
   {
    "duration": 3,
    "start_time": "2022-02-05T14:11:10.076Z"
   },
   {
    "duration": 130,
    "start_time": "2022-02-05T14:13:12.799Z"
   },
   {
    "duration": 103,
    "start_time": "2022-02-05T14:13:36.450Z"
   },
   {
    "duration": 135,
    "start_time": "2022-02-05T14:13:54.164Z"
   },
   {
    "duration": 100,
    "start_time": "2022-02-05T14:14:05.563Z"
   },
   {
    "duration": 55,
    "start_time": "2022-02-05T14:14:22.912Z"
   },
   {
    "duration": 10,
    "start_time": "2022-02-05T14:14:45.978Z"
   },
   {
    "duration": 9,
    "start_time": "2022-02-05T14:15:02.597Z"
   },
   {
    "duration": 42,
    "start_time": "2022-02-05T15:02:20.987Z"
   },
   {
    "duration": 99,
    "start_time": "2022-02-05T15:03:31.092Z"
   },
   {
    "duration": 18,
    "start_time": "2022-02-05T15:04:00.279Z"
   },
   {
    "duration": 252,
    "start_time": "2022-02-05T15:04:19.720Z"
   },
   {
    "duration": 285,
    "start_time": "2022-02-05T15:04:30.057Z"
   },
   {
    "duration": 289,
    "start_time": "2022-02-05T15:04:34.580Z"
   },
   {
    "duration": 289,
    "start_time": "2022-02-05T15:05:22.430Z"
   },
   {
    "duration": 421,
    "start_time": "2022-02-05T15:08:38.027Z"
   },
   {
    "duration": 315,
    "start_time": "2022-02-05T15:08:45.234Z"
   },
   {
    "duration": 61,
    "start_time": "2022-02-05T15:11:15.185Z"
   },
   {
    "duration": 34,
    "start_time": "2022-02-05T15:11:21.655Z"
   },
   {
    "duration": 37,
    "start_time": "2022-02-05T15:11:37.010Z"
   },
   {
    "duration": 28,
    "start_time": "2022-02-05T15:11:57.554Z"
   },
   {
    "duration": 301,
    "start_time": "2022-02-05T15:12:12.023Z"
   },
   {
    "duration": 346,
    "start_time": "2022-02-05T15:12:37.723Z"
   },
   {
    "duration": 266,
    "start_time": "2022-02-05T15:12:59.552Z"
   },
   {
    "duration": 279,
    "start_time": "2022-02-05T15:13:05.947Z"
   },
   {
    "duration": 304,
    "start_time": "2022-02-05T15:15:01.796Z"
   },
   {
    "duration": 21,
    "start_time": "2022-02-05T15:16:39.566Z"
   },
   {
    "duration": 398,
    "start_time": "2022-02-05T15:19:20.085Z"
   },
   {
    "duration": 1487,
    "start_time": "2022-02-05T15:19:26.855Z"
   },
   {
    "duration": 244,
    "start_time": "2022-02-05T15:19:28.345Z"
   },
   {
    "duration": 599,
    "start_time": "2022-02-05T15:19:28.592Z"
   },
   {
    "duration": 138,
    "start_time": "2022-02-05T15:19:29.194Z"
   },
   {
    "duration": 224,
    "start_time": "2022-02-05T15:19:29.334Z"
   },
   {
    "duration": 524,
    "start_time": "2022-02-05T15:19:29.561Z"
   },
   {
    "duration": 109,
    "start_time": "2022-02-05T15:19:30.088Z"
   },
   {
    "duration": 141,
    "start_time": "2022-02-05T15:19:30.201Z"
   },
   {
    "duration": 324,
    "start_time": "2022-02-05T15:19:30.345Z"
   },
   {
    "duration": 58,
    "start_time": "2022-02-05T15:19:30.672Z"
   },
   {
    "duration": 39,
    "start_time": "2022-02-05T15:19:30.732Z"
   },
   {
    "duration": 41,
    "start_time": "2022-02-05T15:19:30.773Z"
   },
   {
    "duration": 40,
    "start_time": "2022-02-05T15:19:30.816Z"
   },
   {
    "duration": 79,
    "start_time": "2022-02-05T15:19:30.859Z"
   },
   {
    "duration": 42,
    "start_time": "2022-02-05T15:19:30.941Z"
   },
   {
    "duration": 13,
    "start_time": "2022-02-05T15:19:30.986Z"
   },
   {
    "duration": 213,
    "start_time": "2022-02-05T15:19:31.002Z"
   },
   {
    "duration": 429,
    "start_time": "2022-02-05T15:19:37.945Z"
   },
   {
    "duration": 382,
    "start_time": "2022-02-05T15:20:30.860Z"
   },
   {
    "duration": 277,
    "start_time": "2022-02-05T15:20:40.660Z"
   },
   {
    "duration": 272,
    "start_time": "2022-02-05T15:21:54.544Z"
   },
   {
    "duration": 1469,
    "start_time": "2022-02-05T15:22:03.666Z"
   },
   {
    "duration": 242,
    "start_time": "2022-02-05T15:22:05.138Z"
   },
   {
    "duration": 629,
    "start_time": "2022-02-05T15:22:05.384Z"
   },
   {
    "duration": 146,
    "start_time": "2022-02-05T15:22:06.015Z"
   },
   {
    "duration": 190,
    "start_time": "2022-02-05T15:22:06.163Z"
   },
   {
    "duration": 466,
    "start_time": "2022-02-05T15:22:06.355Z"
   },
   {
    "duration": 116,
    "start_time": "2022-02-05T15:22:06.823Z"
   },
   {
    "duration": 135,
    "start_time": "2022-02-05T15:22:06.941Z"
   },
   {
    "duration": 306,
    "start_time": "2022-02-05T15:22:07.081Z"
   },
   {
    "duration": 57,
    "start_time": "2022-02-05T15:22:07.391Z"
   },
   {
    "duration": 32,
    "start_time": "2022-02-05T15:22:07.469Z"
   },
   {
    "duration": 32,
    "start_time": "2022-02-05T15:22:07.504Z"
   },
   {
    "duration": 32,
    "start_time": "2022-02-05T15:22:07.539Z"
   },
   {
    "duration": 49,
    "start_time": "2022-02-05T15:22:07.574Z"
   },
   {
    "duration": 29,
    "start_time": "2022-02-05T15:22:07.625Z"
   },
   {
    "duration": 26,
    "start_time": "2022-02-05T15:22:07.657Z"
   },
   {
    "duration": 110,
    "start_time": "2022-02-05T15:22:07.685Z"
   },
   {
    "duration": 420,
    "start_time": "2022-02-05T15:22:22.036Z"
   },
   {
    "duration": 36,
    "start_time": "2022-02-05T15:36:06.077Z"
   },
   {
    "duration": 326,
    "start_time": "2022-02-05T16:24:03.317Z"
   },
   {
    "duration": 368,
    "start_time": "2022-02-05T16:26:22.483Z"
   },
   {
    "duration": 2048,
    "start_time": "2022-02-05T16:26:33.711Z"
   },
   {
    "duration": 256,
    "start_time": "2022-02-05T16:26:35.762Z"
   },
   {
    "duration": 665,
    "start_time": "2022-02-05T16:26:36.022Z"
   },
   {
    "duration": 147,
    "start_time": "2022-02-05T16:26:36.690Z"
   },
   {
    "duration": 261,
    "start_time": "2022-02-05T16:26:36.839Z"
   },
   {
    "duration": 785,
    "start_time": "2022-02-05T16:26:37.103Z"
   },
   {
    "duration": 114,
    "start_time": "2022-02-05T16:26:37.891Z"
   },
   {
    "duration": 141,
    "start_time": "2022-02-05T16:26:38.009Z"
   },
   {
    "duration": 332,
    "start_time": "2022-02-05T16:26:38.153Z"
   },
   {
    "duration": 59,
    "start_time": "2022-02-05T16:26:38.487Z"
   },
   {
    "duration": 46,
    "start_time": "2022-02-05T16:26:38.549Z"
   },
   {
    "duration": 25,
    "start_time": "2022-02-05T16:26:38.597Z"
   },
   {
    "duration": 44,
    "start_time": "2022-02-05T16:26:38.625Z"
   },
   {
    "duration": 57,
    "start_time": "2022-02-05T16:26:38.672Z"
   },
   {
    "duration": 29,
    "start_time": "2022-02-05T16:26:38.732Z"
   },
   {
    "duration": 12,
    "start_time": "2022-02-05T16:26:38.764Z"
   },
   {
    "duration": 194,
    "start_time": "2022-02-05T16:26:38.779Z"
   },
   {
    "duration": 548,
    "start_time": "2022-02-05T16:26:38.976Z"
   },
   {
    "duration": 292,
    "start_time": "2022-02-05T16:32:49.648Z"
   },
   {
    "duration": 319,
    "start_time": "2022-02-05T16:42:12.657Z"
   },
   {
    "duration": 1450,
    "start_time": "2022-02-05T16:42:24.614Z"
   },
   {
    "duration": 251,
    "start_time": "2022-02-05T16:42:26.067Z"
   },
   {
    "duration": 622,
    "start_time": "2022-02-05T16:42:26.322Z"
   },
   {
    "duration": 149,
    "start_time": "2022-02-05T16:42:26.947Z"
   },
   {
    "duration": 197,
    "start_time": "2022-02-05T16:42:27.099Z"
   },
   {
    "duration": 456,
    "start_time": "2022-02-05T16:42:27.298Z"
   },
   {
    "duration": 113,
    "start_time": "2022-02-05T16:42:27.757Z"
   },
   {
    "duration": 147,
    "start_time": "2022-02-05T16:42:27.876Z"
   },
   {
    "duration": 311,
    "start_time": "2022-02-05T16:42:28.025Z"
   },
   {
    "duration": 70,
    "start_time": "2022-02-05T16:42:28.339Z"
   },
   {
    "duration": 30,
    "start_time": "2022-02-05T16:42:28.411Z"
   },
   {
    "duration": 39,
    "start_time": "2022-02-05T16:42:28.444Z"
   },
   {
    "duration": 9,
    "start_time": "2022-02-05T16:42:28.486Z"
   },
   {
    "duration": 52,
    "start_time": "2022-02-05T16:42:28.498Z"
   },
   {
    "duration": 39,
    "start_time": "2022-02-05T16:42:28.553Z"
   },
   {
    "duration": 12,
    "start_time": "2022-02-05T16:42:28.595Z"
   },
   {
    "duration": 148,
    "start_time": "2022-02-05T16:42:28.609Z"
   },
   {
    "duration": 392,
    "start_time": "2022-02-05T16:42:38.307Z"
   },
   {
    "duration": 1297,
    "start_time": "2022-02-05T17:34:30.685Z"
   },
   {
    "duration": 250,
    "start_time": "2022-02-05T17:35:09.253Z"
   },
   {
    "duration": 255,
    "start_time": "2022-02-05T17:35:45.266Z"
   },
   {
    "duration": 287,
    "start_time": "2022-02-05T17:35:57.186Z"
   },
   {
    "duration": 1497,
    "start_time": "2022-02-05T17:36:03.644Z"
   },
   {
    "duration": 232,
    "start_time": "2022-02-05T17:36:05.143Z"
   },
   {
    "duration": 739,
    "start_time": "2022-02-05T17:36:05.378Z"
   },
   {
    "duration": 144,
    "start_time": "2022-02-05T17:36:06.120Z"
   },
   {
    "duration": 185,
    "start_time": "2022-02-05T17:36:06.269Z"
   },
   {
    "duration": 440,
    "start_time": "2022-02-05T17:36:06.456Z"
   },
   {
    "duration": 118,
    "start_time": "2022-02-05T17:36:06.899Z"
   },
   {
    "duration": 140,
    "start_time": "2022-02-05T17:36:07.021Z"
   },
   {
    "duration": 307,
    "start_time": "2022-02-05T17:36:07.170Z"
   },
   {
    "duration": 58,
    "start_time": "2022-02-05T17:36:07.480Z"
   },
   {
    "duration": 43,
    "start_time": "2022-02-05T17:36:07.541Z"
   },
   {
    "duration": 22,
    "start_time": "2022-02-05T17:36:07.586Z"
   },
   {
    "duration": 8,
    "start_time": "2022-02-05T17:36:07.610Z"
   },
   {
    "duration": 60,
    "start_time": "2022-02-05T17:36:07.621Z"
   },
   {
    "duration": 29,
    "start_time": "2022-02-05T17:36:07.683Z"
   },
   {
    "duration": 14,
    "start_time": "2022-02-05T17:36:07.715Z"
   },
   {
    "duration": 50,
    "start_time": "2022-02-05T17:36:07.731Z"
   },
   {
    "duration": 393,
    "start_time": "2022-02-05T17:36:07.784Z"
   },
   {
    "duration": 20,
    "start_time": "2022-02-05T17:38:14.813Z"
   },
   {
    "duration": 21,
    "start_time": "2022-02-05T17:38:19.801Z"
   },
   {
    "duration": 48,
    "start_time": "2022-02-05T17:39:29.114Z"
   },
   {
    "duration": 476,
    "start_time": "2022-02-05T17:39:40.677Z"
   },
   {
    "duration": 133,
    "start_time": "2022-02-05T17:39:51.337Z"
   },
   {
    "duration": 125,
    "start_time": "2022-02-05T17:40:07.159Z"
   },
   {
    "duration": 193,
    "start_time": "2022-02-05T17:40:29.343Z"
   },
   {
    "duration": 111,
    "start_time": "2022-02-05T17:41:22.138Z"
   },
   {
    "duration": 113,
    "start_time": "2022-02-05T17:41:38.273Z"
   },
   {
    "duration": 118,
    "start_time": "2022-02-05T17:41:41.325Z"
   },
   {
    "duration": 120,
    "start_time": "2022-02-05T17:42:16.491Z"
   },
   {
    "duration": 124,
    "start_time": "2022-02-05T17:42:38.962Z"
   },
   {
    "duration": 1460,
    "start_time": "2022-02-05T17:42:46.086Z"
   },
   {
    "duration": 246,
    "start_time": "2022-02-05T17:42:47.549Z"
   },
   {
    "duration": 633,
    "start_time": "2022-02-05T17:42:47.799Z"
   },
   {
    "duration": 161,
    "start_time": "2022-02-05T17:42:48.436Z"
   },
   {
    "duration": 199,
    "start_time": "2022-02-05T17:42:48.600Z"
   },
   {
    "duration": 457,
    "start_time": "2022-02-05T17:42:48.802Z"
   },
   {
    "duration": 119,
    "start_time": "2022-02-05T17:42:49.271Z"
   },
   {
    "duration": 144,
    "start_time": "2022-02-05T17:42:49.395Z"
   },
   {
    "duration": 332,
    "start_time": "2022-02-05T17:42:49.543Z"
   },
   {
    "duration": 58,
    "start_time": "2022-02-05T17:42:49.879Z"
   },
   {
    "duration": 48,
    "start_time": "2022-02-05T17:42:49.940Z"
   },
   {
    "duration": 25,
    "start_time": "2022-02-05T17:42:49.991Z"
   },
   {
    "duration": 11,
    "start_time": "2022-02-05T17:42:50.019Z"
   },
   {
    "duration": 76,
    "start_time": "2022-02-05T17:42:50.032Z"
   },
   {
    "duration": 32,
    "start_time": "2022-02-05T17:42:50.110Z"
   },
   {
    "duration": 27,
    "start_time": "2022-02-05T17:42:50.144Z"
   },
   {
    "duration": 544,
    "start_time": "2022-02-05T17:42:50.173Z"
   },
   {
    "duration": 391,
    "start_time": "2022-02-05T17:42:50.720Z"
   },
   {
    "duration": 121,
    "start_time": "2022-02-05T17:42:57.682Z"
   },
   {
    "duration": 128,
    "start_time": "2022-02-05T17:43:09.901Z"
   },
   {
    "duration": 338,
    "start_time": "2022-02-05T17:46:03.782Z"
   },
   {
    "duration": 8,
    "start_time": "2022-02-05T17:51:32.870Z"
   },
   {
    "duration": 24,
    "start_time": "2022-02-05T17:51:45.187Z"
   },
   {
    "duration": 3802,
    "start_time": "2022-02-05T18:10:00.042Z"
   },
   {
    "duration": 3727,
    "start_time": "2022-02-05T18:10:08.322Z"
   },
   {
    "duration": 6706,
    "start_time": "2022-02-05T18:10:25.498Z"
   },
   {
    "duration": 3645,
    "start_time": "2022-02-05T18:12:58.565Z"
   },
   {
    "duration": 199,
    "start_time": "2022-02-05T18:13:54.631Z"
   },
   {
    "duration": 221,
    "start_time": "2022-02-05T18:15:01.089Z"
   },
   {
    "duration": 254,
    "start_time": "2022-02-05T18:15:56.068Z"
   },
   {
    "duration": 260,
    "start_time": "2022-02-05T18:16:07.445Z"
   },
   {
    "duration": 210,
    "start_time": "2022-02-05T18:16:27.836Z"
   },
   {
    "duration": 65,
    "start_time": "2022-02-05T18:24:00.069Z"
   },
   {
    "duration": 14887,
    "start_time": "2022-02-05T18:26:40.356Z"
   },
   {
    "duration": 6558,
    "start_time": "2022-02-05T18:27:11.505Z"
   },
   {
    "duration": 1499,
    "start_time": "2022-02-05T18:27:30.334Z"
   },
   {
    "duration": 242,
    "start_time": "2022-02-05T18:27:31.836Z"
   },
   {
    "duration": 621,
    "start_time": "2022-02-05T18:27:32.082Z"
   },
   {
    "duration": 141,
    "start_time": "2022-02-05T18:27:32.706Z"
   },
   {
    "duration": 200,
    "start_time": "2022-02-05T18:27:32.850Z"
   },
   {
    "duration": 454,
    "start_time": "2022-02-05T18:27:33.052Z"
   },
   {
    "duration": 108,
    "start_time": "2022-02-05T18:27:33.508Z"
   },
   {
    "duration": 137,
    "start_time": "2022-02-05T18:27:33.619Z"
   },
   {
    "duration": 310,
    "start_time": "2022-02-05T18:27:33.759Z"
   },
   {
    "duration": 57,
    "start_time": "2022-02-05T18:27:34.072Z"
   },
   {
    "duration": 43,
    "start_time": "2022-02-05T18:27:34.131Z"
   },
   {
    "duration": 24,
    "start_time": "2022-02-05T18:27:34.176Z"
   },
   {
    "duration": 9,
    "start_time": "2022-02-05T18:27:34.203Z"
   },
   {
    "duration": 56,
    "start_time": "2022-02-05T18:27:34.214Z"
   },
   {
    "duration": 30,
    "start_time": "2022-02-05T18:27:34.273Z"
   },
   {
    "duration": 18,
    "start_time": "2022-02-05T18:27:34.306Z"
   },
   {
    "duration": 572,
    "start_time": "2022-02-05T18:27:34.327Z"
   },
   {
    "duration": 15,
    "start_time": "2022-02-05T18:27:34.901Z"
   },
   {
    "duration": 125,
    "start_time": "2022-02-05T18:27:34.918Z"
   },
   {
    "duration": 410,
    "start_time": "2022-02-05T18:27:35.046Z"
   },
   {
    "duration": 5,
    "start_time": "2022-02-05T18:28:17.423Z"
   },
   {
    "duration": 6519,
    "start_time": "2022-02-05T18:28:51.138Z"
   },
   {
    "duration": 1473,
    "start_time": "2022-02-05T18:29:04.371Z"
   },
   {
    "duration": 264,
    "start_time": "2022-02-05T18:29:05.847Z"
   },
   {
    "duration": 664,
    "start_time": "2022-02-05T18:29:06.114Z"
   },
   {
    "duration": 137,
    "start_time": "2022-02-05T18:29:06.780Z"
   },
   {
    "duration": 194,
    "start_time": "2022-02-05T18:29:06.919Z"
   },
   {
    "duration": 447,
    "start_time": "2022-02-05T18:29:07.115Z"
   },
   {
    "duration": 109,
    "start_time": "2022-02-05T18:29:07.570Z"
   },
   {
    "duration": 148,
    "start_time": "2022-02-05T18:29:07.685Z"
   },
   {
    "duration": 324,
    "start_time": "2022-02-05T18:29:07.836Z"
   },
   {
    "duration": 63,
    "start_time": "2022-02-05T18:29:08.163Z"
   },
   {
    "duration": 41,
    "start_time": "2022-02-05T18:29:08.228Z"
   },
   {
    "duration": 24,
    "start_time": "2022-02-05T18:29:08.272Z"
   },
   {
    "duration": 10,
    "start_time": "2022-02-05T18:29:08.298Z"
   },
   {
    "duration": 58,
    "start_time": "2022-02-05T18:29:08.311Z"
   },
   {
    "duration": 29,
    "start_time": "2022-02-05T18:29:08.372Z"
   },
   {
    "duration": 10,
    "start_time": "2022-02-05T18:29:08.403Z"
   },
   {
    "duration": 548,
    "start_time": "2022-02-05T18:29:08.416Z"
   },
   {
    "duration": 15,
    "start_time": "2022-02-05T18:29:08.970Z"
   },
   {
    "duration": 1010,
    "start_time": "2022-02-05T18:29:08.988Z"
   },
   {
    "duration": 487,
    "start_time": "2022-02-05T18:29:10.001Z"
   },
   {
    "duration": 1448,
    "start_time": "2022-02-05T18:29:35.405Z"
   },
   {
    "duration": 255,
    "start_time": "2022-02-05T18:29:36.855Z"
   },
   {
    "duration": 597,
    "start_time": "2022-02-05T18:29:37.113Z"
   },
   {
    "duration": 137,
    "start_time": "2022-02-05T18:29:37.713Z"
   },
   {
    "duration": 191,
    "start_time": "2022-02-05T18:29:37.852Z"
   },
   {
    "duration": 480,
    "start_time": "2022-02-05T18:29:38.045Z"
   },
   {
    "duration": 96,
    "start_time": "2022-02-05T18:29:38.528Z"
   },
   {
    "duration": 136,
    "start_time": "2022-02-05T18:29:38.628Z"
   },
   {
    "duration": 285,
    "start_time": "2022-02-05T18:29:38.770Z"
   },
   {
    "duration": 61,
    "start_time": "2022-02-05T18:29:39.057Z"
   },
   {
    "duration": 29,
    "start_time": "2022-02-05T18:29:39.121Z"
   },
   {
    "duration": 24,
    "start_time": "2022-02-05T18:29:39.153Z"
   },
   {
    "duration": 8,
    "start_time": "2022-02-05T18:29:39.179Z"
   },
   {
    "duration": 42,
    "start_time": "2022-02-05T18:29:39.190Z"
   },
   {
    "duration": 28,
    "start_time": "2022-02-05T18:29:39.235Z"
   },
   {
    "duration": 8,
    "start_time": "2022-02-05T18:29:39.265Z"
   },
   {
    "duration": 615,
    "start_time": "2022-02-05T18:29:39.275Z"
   },
   {
    "duration": 16,
    "start_time": "2022-02-05T18:29:39.892Z"
   },
   {
    "duration": 1103,
    "start_time": "2022-02-05T18:29:39.910Z"
   },
   {
    "duration": 913,
    "start_time": "2022-02-05T18:29:41.016Z"
   },
   {
    "duration": 105,
    "start_time": "2022-02-05T18:30:58.174Z"
   },
   {
    "duration": 82,
    "start_time": "2022-02-05T18:31:38.345Z"
   },
   {
    "duration": 192,
    "start_time": "2022-02-05T18:31:41.464Z"
   },
   {
    "duration": 106,
    "start_time": "2022-02-05T18:31:58.118Z"
   },
   {
    "duration": 453,
    "start_time": "2022-02-06T12:34:45.454Z"
   },
   {
    "duration": 1529,
    "start_time": "2022-02-06T12:34:51.514Z"
   },
   {
    "duration": 211,
    "start_time": "2022-02-06T12:34:53.046Z"
   },
   {
    "duration": 499,
    "start_time": "2022-02-06T12:34:53.260Z"
   },
   {
    "duration": 124,
    "start_time": "2022-02-06T12:34:53.761Z"
   },
   {
    "duration": 173,
    "start_time": "2022-02-06T12:34:53.888Z"
   },
   {
    "duration": 376,
    "start_time": "2022-02-06T12:34:54.064Z"
   },
   {
    "duration": 101,
    "start_time": "2022-02-06T12:34:54.448Z"
   },
   {
    "duration": 124,
    "start_time": "2022-02-06T12:34:54.552Z"
   },
   {
    "duration": 254,
    "start_time": "2022-02-06T12:34:54.678Z"
   },
   {
    "duration": 63,
    "start_time": "2022-02-06T12:34:54.935Z"
   },
   {
    "duration": 47,
    "start_time": "2022-02-06T12:34:55.001Z"
   },
   {
    "duration": 24,
    "start_time": "2022-02-06T12:34:55.051Z"
   },
   {
    "duration": 12,
    "start_time": "2022-02-06T12:34:55.077Z"
   },
   {
    "duration": 47,
    "start_time": "2022-02-06T12:34:55.091Z"
   },
   {
    "duration": 30,
    "start_time": "2022-02-06T12:34:55.148Z"
   },
   {
    "duration": 8,
    "start_time": "2022-02-06T12:34:55.181Z"
   },
   {
    "duration": 534,
    "start_time": "2022-02-06T12:34:55.191Z"
   },
   {
    "duration": 26,
    "start_time": "2022-02-06T12:34:55.728Z"
   },
   {
    "duration": 842,
    "start_time": "2022-02-06T12:34:55.756Z"
   },
   {
    "duration": 131,
    "start_time": "2022-02-06T12:34:56.600Z"
   },
   {
    "duration": 173,
    "start_time": "2022-02-06T12:41:06.356Z"
   },
   {
    "duration": 154,
    "start_time": "2022-02-06T12:41:18.318Z"
   },
   {
    "duration": 1506,
    "start_time": "2022-02-06T12:41:30.767Z"
   },
   {
    "duration": 241,
    "start_time": "2022-02-06T12:41:32.276Z"
   },
   {
    "duration": 586,
    "start_time": "2022-02-06T12:41:32.521Z"
   },
   {
    "duration": 132,
    "start_time": "2022-02-06T12:41:33.111Z"
   },
   {
    "duration": 199,
    "start_time": "2022-02-06T12:41:33.249Z"
   },
   {
    "duration": 428,
    "start_time": "2022-02-06T12:41:33.451Z"
   },
   {
    "duration": 136,
    "start_time": "2022-02-06T12:41:33.882Z"
   },
   {
    "duration": 144,
    "start_time": "2022-02-06T12:41:34.024Z"
   },
   {
    "duration": 300,
    "start_time": "2022-02-06T12:41:34.170Z"
   },
   {
    "duration": 75,
    "start_time": "2022-02-06T12:41:34.473Z"
   },
   {
    "duration": 32,
    "start_time": "2022-02-06T12:41:34.551Z"
   },
   {
    "duration": 21,
    "start_time": "2022-02-06T12:41:34.586Z"
   },
   {
    "duration": 40,
    "start_time": "2022-02-06T12:41:34.609Z"
   },
   {
    "duration": 50,
    "start_time": "2022-02-06T12:41:34.652Z"
   },
   {
    "duration": 32,
    "start_time": "2022-02-06T12:41:34.705Z"
   },
   {
    "duration": 8,
    "start_time": "2022-02-06T12:41:34.748Z"
   },
   {
    "duration": 524,
    "start_time": "2022-02-06T12:41:34.758Z"
   },
   {
    "duration": 17,
    "start_time": "2022-02-06T12:41:35.285Z"
   },
   {
    "duration": 1011,
    "start_time": "2022-02-06T12:41:35.305Z"
   },
   {
    "duration": 612,
    "start_time": "2022-02-06T12:41:36.318Z"
   },
   {
    "duration": 145,
    "start_time": "2022-02-06T12:42:00.564Z"
   },
   {
    "duration": 532,
    "start_time": "2022-02-06T12:43:46.336Z"
   },
   {
    "duration": 138,
    "start_time": "2022-02-06T12:44:27.387Z"
   },
   {
    "duration": 1497,
    "start_time": "2022-02-06T12:55:54.711Z"
   },
   {
    "duration": 238,
    "start_time": "2022-02-06T12:55:56.210Z"
   },
   {
    "duration": 539,
    "start_time": "2022-02-06T12:55:56.451Z"
   },
   {
    "duration": 141,
    "start_time": "2022-02-06T12:55:56.993Z"
   },
   {
    "duration": 203,
    "start_time": "2022-02-06T12:55:57.136Z"
   },
   {
    "duration": 396,
    "start_time": "2022-02-06T12:55:57.342Z"
   },
   {
    "duration": 102,
    "start_time": "2022-02-06T12:55:57.748Z"
   },
   {
    "duration": 131,
    "start_time": "2022-02-06T12:55:57.852Z"
   },
   {
    "duration": 287,
    "start_time": "2022-02-06T12:55:57.987Z"
   },
   {
    "duration": 52,
    "start_time": "2022-02-06T12:55:58.277Z"
   },
   {
    "duration": 48,
    "start_time": "2022-02-06T12:55:58.331Z"
   },
   {
    "duration": 22,
    "start_time": "2022-02-06T12:55:58.381Z"
   },
   {
    "duration": 12,
    "start_time": "2022-02-06T12:55:58.405Z"
   },
   {
    "duration": 51,
    "start_time": "2022-02-06T12:55:58.420Z"
   },
   {
    "duration": 31,
    "start_time": "2022-02-06T12:55:58.474Z"
   },
   {
    "duration": 10,
    "start_time": "2022-02-06T12:55:58.507Z"
   },
   {
    "duration": 486,
    "start_time": "2022-02-06T12:55:58.549Z"
   },
   {
    "duration": 19,
    "start_time": "2022-02-06T12:55:59.038Z"
   },
   {
    "duration": 926,
    "start_time": "2022-02-06T12:55:59.059Z"
   },
   {
    "duration": 191,
    "start_time": "2022-02-06T12:55:59.988Z"
   },
   {
    "duration": 8503,
    "start_time": "2022-02-06T12:56:00.182Z"
   },
   {
    "duration": 320,
    "start_time": "2022-02-06T12:56:52.906Z"
   },
   {
    "duration": 7830,
    "start_time": "2022-02-06T12:57:08.948Z"
   },
   {
    "duration": 15868,
    "start_time": "2022-02-06T12:58:00.181Z"
   },
   {
    "duration": 1504,
    "start_time": "2022-02-06T12:58:21.287Z"
   },
   {
    "duration": 227,
    "start_time": "2022-02-06T12:58:22.794Z"
   },
   {
    "duration": 532,
    "start_time": "2022-02-06T12:58:23.025Z"
   },
   {
    "duration": 132,
    "start_time": "2022-02-06T12:58:23.560Z"
   },
   {
    "duration": 184,
    "start_time": "2022-02-06T12:58:23.695Z"
   },
   {
    "duration": 385,
    "start_time": "2022-02-06T12:58:23.881Z"
   },
   {
    "duration": 97,
    "start_time": "2022-02-06T12:58:24.269Z"
   },
   {
    "duration": 129,
    "start_time": "2022-02-06T12:58:24.370Z"
   },
   {
    "duration": 267,
    "start_time": "2022-02-06T12:58:24.502Z"
   },
   {
    "duration": 49,
    "start_time": "2022-02-06T12:58:24.772Z"
   },
   {
    "duration": 41,
    "start_time": "2022-02-06T12:58:24.824Z"
   },
   {
    "duration": 21,
    "start_time": "2022-02-06T12:58:24.868Z"
   },
   {
    "duration": 9,
    "start_time": "2022-02-06T12:58:24.892Z"
   },
   {
    "duration": 56,
    "start_time": "2022-02-06T12:58:24.903Z"
   },
   {
    "duration": 33,
    "start_time": "2022-02-06T12:58:24.961Z"
   },
   {
    "duration": 30,
    "start_time": "2022-02-06T12:58:24.996Z"
   },
   {
    "duration": 527,
    "start_time": "2022-02-06T12:58:25.029Z"
   },
   {
    "duration": 15,
    "start_time": "2022-02-06T12:58:25.558Z"
   },
   {
    "duration": 894,
    "start_time": "2022-02-06T12:58:25.575Z"
   },
   {
    "duration": 199,
    "start_time": "2022-02-06T12:58:26.471Z"
   },
   {
    "duration": 595,
    "start_time": "2022-02-06T12:58:26.672Z"
   },
   {
    "duration": 472,
    "start_time": "2022-02-06T13:02:15.119Z"
   },
   {
    "duration": 681,
    "start_time": "2022-02-06T13:02:23.484Z"
   },
   {
    "duration": 1110,
    "start_time": "2022-02-06T13:07:30.115Z"
   },
   {
    "duration": 19,
    "start_time": "2022-02-06T13:07:44.968Z"
   },
   {
    "duration": 16,
    "start_time": "2022-02-06T13:08:20.179Z"
   },
   {
    "duration": 15857,
    "start_time": "2022-02-06T13:08:27.010Z"
   },
   {
    "duration": 1451,
    "start_time": "2022-02-06T13:09:27.332Z"
   },
   {
    "duration": 221,
    "start_time": "2022-02-06T13:09:28.786Z"
   },
   {
    "duration": 554,
    "start_time": "2022-02-06T13:09:29.010Z"
   },
   {
    "duration": 139,
    "start_time": "2022-02-06T13:09:29.567Z"
   },
   {
    "duration": 191,
    "start_time": "2022-02-06T13:09:29.709Z"
   },
   {
    "duration": 415,
    "start_time": "2022-02-06T13:09:29.903Z"
   },
   {
    "duration": 116,
    "start_time": "2022-02-06T13:09:30.321Z"
   },
   {
    "duration": 139,
    "start_time": "2022-02-06T13:09:30.440Z"
   },
   {
    "duration": 303,
    "start_time": "2022-02-06T13:09:30.582Z"
   },
   {
    "duration": 70,
    "start_time": "2022-02-06T13:09:30.888Z"
   },
   {
    "duration": 33,
    "start_time": "2022-02-06T13:09:30.960Z"
   },
   {
    "duration": 34,
    "start_time": "2022-02-06T13:09:30.995Z"
   },
   {
    "duration": 19,
    "start_time": "2022-02-06T13:09:31.031Z"
   },
   {
    "duration": 49,
    "start_time": "2022-02-06T13:09:31.053Z"
   },
   {
    "duration": 30,
    "start_time": "2022-02-06T13:09:31.105Z"
   },
   {
    "duration": 16,
    "start_time": "2022-02-06T13:09:31.137Z"
   },
   {
    "duration": 502,
    "start_time": "2022-02-06T13:09:31.155Z"
   },
   {
    "duration": 15,
    "start_time": "2022-02-06T13:09:31.660Z"
   },
   {
    "duration": 902,
    "start_time": "2022-02-06T13:09:31.678Z"
   },
   {
    "duration": 188,
    "start_time": "2022-02-06T13:09:32.582Z"
   },
   {
    "duration": 575,
    "start_time": "2022-02-06T13:09:32.773Z"
   },
   {
    "duration": 761,
    "start_time": "2022-02-06T13:09:33.351Z"
   },
   {
    "duration": 32,
    "start_time": "2022-02-06T13:09:34.118Z"
   },
   {
    "duration": 434,
    "start_time": "2022-02-06T13:30:48.957Z"
   },
   {
    "duration": 7514,
    "start_time": "2022-02-06T13:34:14.170Z"
   },
   {
    "duration": 1408,
    "start_time": "2022-02-06T13:34:40.388Z"
   },
   {
    "duration": 223,
    "start_time": "2022-02-06T13:34:41.799Z"
   },
   {
    "duration": 613,
    "start_time": "2022-02-06T13:34:42.025Z"
   },
   {
    "duration": 156,
    "start_time": "2022-02-06T13:34:42.641Z"
   },
   {
    "duration": 208,
    "start_time": "2022-02-06T13:34:42.801Z"
   },
   {
    "duration": 540,
    "start_time": "2022-02-06T13:34:43.012Z"
   },
   {
    "duration": 132,
    "start_time": "2022-02-06T13:34:43.555Z"
   },
   {
    "duration": 132,
    "start_time": "2022-02-06T13:34:43.692Z"
   },
   {
    "duration": 281,
    "start_time": "2022-02-06T13:34:43.827Z"
   },
   {
    "duration": 68,
    "start_time": "2022-02-06T13:34:44.111Z"
   },
   {
    "duration": 32,
    "start_time": "2022-02-06T13:34:44.181Z"
   },
   {
    "duration": 40,
    "start_time": "2022-02-06T13:34:44.215Z"
   },
   {
    "duration": 8,
    "start_time": "2022-02-06T13:34:44.258Z"
   },
   {
    "duration": 47,
    "start_time": "2022-02-06T13:34:44.269Z"
   },
   {
    "duration": 55,
    "start_time": "2022-02-06T13:34:44.319Z"
   },
   {
    "duration": 10,
    "start_time": "2022-02-06T13:34:44.376Z"
   },
   {
    "duration": 523,
    "start_time": "2022-02-06T13:34:44.388Z"
   },
   {
    "duration": 16,
    "start_time": "2022-02-06T13:34:44.913Z"
   },
   {
    "duration": 1334,
    "start_time": "2022-02-06T13:34:44.947Z"
   },
   {
    "duration": 176,
    "start_time": "2022-02-06T13:34:46.283Z"
   },
   {
    "duration": 594,
    "start_time": "2022-02-06T13:34:46.461Z"
   },
   {
    "duration": 939,
    "start_time": "2022-02-06T13:34:47.057Z"
   },
   {
    "duration": 15,
    "start_time": "2022-02-06T13:34:48.001Z"
   },
   {
    "duration": 786,
    "start_time": "2022-02-06T13:34:48.019Z"
   },
   {
    "duration": 8145,
    "start_time": "2022-02-06T13:35:27.097Z"
   },
   {
    "duration": 1423,
    "start_time": "2022-02-06T13:35:45.904Z"
   },
   {
    "duration": 243,
    "start_time": "2022-02-06T13:35:47.330Z"
   },
   {
    "duration": 648,
    "start_time": "2022-02-06T13:35:47.577Z"
   },
   {
    "duration": 150,
    "start_time": "2022-02-06T13:35:48.228Z"
   },
   {
    "duration": 194,
    "start_time": "2022-02-06T13:35:48.380Z"
   },
   {
    "duration": 432,
    "start_time": "2022-02-06T13:35:48.577Z"
   },
   {
    "duration": 107,
    "start_time": "2022-02-06T13:35:49.011Z"
   },
   {
    "duration": 136,
    "start_time": "2022-02-06T13:35:49.122Z"
   },
   {
    "duration": 278,
    "start_time": "2022-02-06T13:35:49.260Z"
   },
   {
    "duration": 54,
    "start_time": "2022-02-06T13:35:49.540Z"
   },
   {
    "duration": 32,
    "start_time": "2022-02-06T13:35:49.596Z"
   },
   {
    "duration": 24,
    "start_time": "2022-02-06T13:35:49.649Z"
   },
   {
    "duration": 14,
    "start_time": "2022-02-06T13:35:49.676Z"
   },
   {
    "duration": 50,
    "start_time": "2022-02-06T13:35:49.692Z"
   },
   {
    "duration": 33,
    "start_time": "2022-02-06T13:35:49.744Z"
   },
   {
    "duration": 14,
    "start_time": "2022-02-06T13:35:49.779Z"
   },
   {
    "duration": 526,
    "start_time": "2022-02-06T13:35:49.795Z"
   },
   {
    "duration": 28,
    "start_time": "2022-02-06T13:35:50.323Z"
   },
   {
    "duration": 916,
    "start_time": "2022-02-06T13:35:50.354Z"
   },
   {
    "duration": 195,
    "start_time": "2022-02-06T13:35:51.272Z"
   },
   {
    "duration": 589,
    "start_time": "2022-02-06T13:35:51.470Z"
   },
   {
    "duration": 704,
    "start_time": "2022-02-06T13:35:52.062Z"
   },
   {
    "duration": 22,
    "start_time": "2022-02-06T13:35:52.772Z"
   },
   {
    "duration": 25,
    "start_time": "2022-02-06T13:35:52.797Z"
   },
   {
    "duration": 8104,
    "start_time": "2022-02-06T13:36:20.769Z"
   },
   {
    "duration": 2054,
    "start_time": "2022-02-06T13:36:34.931Z"
   },
   {
    "duration": 240,
    "start_time": "2022-02-06T13:36:36.988Z"
   },
   {
    "duration": 564,
    "start_time": "2022-02-06T13:36:37.232Z"
   },
   {
    "duration": 135,
    "start_time": "2022-02-06T13:36:37.799Z"
   },
   {
    "duration": 182,
    "start_time": "2022-02-06T13:36:37.936Z"
   },
   {
    "duration": 384,
    "start_time": "2022-02-06T13:36:38.121Z"
   },
   {
    "duration": 100,
    "start_time": "2022-02-06T13:36:38.508Z"
   },
   {
    "duration": 136,
    "start_time": "2022-02-06T13:36:38.612Z"
   },
   {
    "duration": 276,
    "start_time": "2022-02-06T13:36:38.752Z"
   },
   {
    "duration": 62,
    "start_time": "2022-02-06T13:36:39.032Z"
   },
   {
    "duration": 31,
    "start_time": "2022-02-06T13:36:39.097Z"
   },
   {
    "duration": 49,
    "start_time": "2022-02-06T13:36:39.130Z"
   },
   {
    "duration": 10,
    "start_time": "2022-02-06T13:36:39.182Z"
   },
   {
    "duration": 67,
    "start_time": "2022-02-06T13:36:39.194Z"
   },
   {
    "duration": 31,
    "start_time": "2022-02-06T13:36:39.264Z"
   },
   {
    "duration": 8,
    "start_time": "2022-02-06T13:36:39.297Z"
   },
   {
    "duration": 572,
    "start_time": "2022-02-06T13:36:39.308Z"
   },
   {
    "duration": 17,
    "start_time": "2022-02-06T13:36:39.884Z"
   },
   {
    "duration": 871,
    "start_time": "2022-02-06T13:36:39.904Z"
   },
   {
    "duration": 188,
    "start_time": "2022-02-06T13:36:40.778Z"
   },
   {
    "duration": 603,
    "start_time": "2022-02-06T13:36:40.970Z"
   },
   {
    "duration": 708,
    "start_time": "2022-02-06T13:36:41.576Z"
   },
   {
    "duration": 19,
    "start_time": "2022-02-06T13:36:42.288Z"
   },
   {
    "duration": 47,
    "start_time": "2022-02-06T13:36:42.310Z"
   },
   {
    "duration": 500,
    "start_time": "2022-02-06T13:38:53.139Z"
   },
   {
    "duration": 19,
    "start_time": "2022-02-06T13:39:52.714Z"
   },
   {
    "duration": 285,
    "start_time": "2022-02-06T13:39:55.990Z"
   },
   {
    "duration": 291,
    "start_time": "2022-02-06T13:40:20.012Z"
   },
   {
    "duration": 1429,
    "start_time": "2022-02-06T13:40:25.578Z"
   },
   {
    "duration": 247,
    "start_time": "2022-02-06T13:40:27.010Z"
   },
   {
    "duration": 612,
    "start_time": "2022-02-06T13:40:27.260Z"
   },
   {
    "duration": 142,
    "start_time": "2022-02-06T13:40:27.875Z"
   },
   {
    "duration": 194,
    "start_time": "2022-02-06T13:40:28.019Z"
   },
   {
    "duration": 409,
    "start_time": "2022-02-06T13:40:28.216Z"
   },
   {
    "duration": 109,
    "start_time": "2022-02-06T13:40:28.627Z"
   },
   {
    "duration": 132,
    "start_time": "2022-02-06T13:40:28.741Z"
   },
   {
    "duration": 296,
    "start_time": "2022-02-06T13:40:28.876Z"
   },
   {
    "duration": 57,
    "start_time": "2022-02-06T13:40:29.175Z"
   },
   {
    "duration": 31,
    "start_time": "2022-02-06T13:40:29.249Z"
   },
   {
    "duration": 23,
    "start_time": "2022-02-06T13:40:29.283Z"
   },
   {
    "duration": 8,
    "start_time": "2022-02-06T13:40:29.308Z"
   },
   {
    "duration": 74,
    "start_time": "2022-02-06T13:40:29.319Z"
   },
   {
    "duration": 33,
    "start_time": "2022-02-06T13:40:29.395Z"
   },
   {
    "duration": 19,
    "start_time": "2022-02-06T13:40:29.431Z"
   },
   {
    "duration": 498,
    "start_time": "2022-02-06T13:40:29.453Z"
   },
   {
    "duration": 15,
    "start_time": "2022-02-06T13:40:29.953Z"
   },
   {
    "duration": 875,
    "start_time": "2022-02-06T13:40:29.970Z"
   },
   {
    "duration": 194,
    "start_time": "2022-02-06T13:40:30.849Z"
   },
   {
    "duration": 570,
    "start_time": "2022-02-06T13:40:31.046Z"
   },
   {
    "duration": 952,
    "start_time": "2022-02-06T13:40:31.618Z"
   },
   {
    "duration": 20,
    "start_time": "2022-02-06T13:40:32.575Z"
   },
   {
    "duration": 457,
    "start_time": "2022-02-06T13:40:32.597Z"
   },
   {
    "duration": 15912,
    "start_time": "2022-02-06T13:40:17.144Z"
   },
   {
    "duration": 292,
    "start_time": "2022-02-06T13:41:43.337Z"
   },
   {
    "duration": 1450,
    "start_time": "2022-02-06T13:41:48.960Z"
   },
   {
    "duration": 243,
    "start_time": "2022-02-06T13:41:50.412Z"
   },
   {
    "duration": 539,
    "start_time": "2022-02-06T13:41:50.658Z"
   },
   {
    "duration": 127,
    "start_time": "2022-02-06T13:41:51.200Z"
   },
   {
    "duration": 194,
    "start_time": "2022-02-06T13:41:51.329Z"
   },
   {
    "duration": 396,
    "start_time": "2022-02-06T13:41:51.526Z"
   },
   {
    "duration": 124,
    "start_time": "2022-02-06T13:41:51.926Z"
   },
   {
    "duration": 222,
    "start_time": "2022-02-06T13:41:52.054Z"
   },
   {
    "duration": 569,
    "start_time": "2022-02-06T13:41:52.279Z"
   },
   {
    "duration": 51,
    "start_time": "2022-02-06T13:41:52.851Z"
   },
   {
    "duration": 32,
    "start_time": "2022-02-06T13:41:52.904Z"
   },
   {
    "duration": 22,
    "start_time": "2022-02-06T13:41:52.949Z"
   },
   {
    "duration": 8,
    "start_time": "2022-02-06T13:41:52.974Z"
   },
   {
    "duration": 50,
    "start_time": "2022-02-06T13:41:52.984Z"
   },
   {
    "duration": 37,
    "start_time": "2022-02-06T13:41:53.036Z"
   },
   {
    "duration": 11,
    "start_time": "2022-02-06T13:41:53.076Z"
   },
   {
    "duration": 517,
    "start_time": "2022-02-06T13:41:53.090Z"
   },
   {
    "duration": 15,
    "start_time": "2022-02-06T13:41:53.609Z"
   },
   {
    "duration": 913,
    "start_time": "2022-02-06T13:41:53.627Z"
   },
   {
    "duration": 194,
    "start_time": "2022-02-06T13:41:54.542Z"
   },
   {
    "duration": 603,
    "start_time": "2022-02-06T13:41:54.738Z"
   },
   {
    "duration": 706,
    "start_time": "2022-02-06T13:41:55.344Z"
   },
   {
    "duration": 18,
    "start_time": "2022-02-06T13:41:56.054Z"
   },
   {
    "duration": 427,
    "start_time": "2022-02-06T13:41:56.075Z"
   },
   {
    "duration": 15930,
    "start_time": "2022-02-06T13:41:40.574Z"
   },
   {
    "duration": 29,
    "start_time": "2022-02-06T13:42:09.119Z"
   },
   {
    "duration": 300,
    "start_time": "2022-02-06T13:43:03.884Z"
   },
   {
    "duration": 131,
    "start_time": "2022-02-06T13:43:51.497Z"
   },
   {
    "duration": 130,
    "start_time": "2022-02-06T13:44:04.660Z"
   },
   {
    "duration": 15908,
    "start_time": "2022-02-06T13:44:02.445Z"
   },
   {
    "duration": 1408,
    "start_time": "2022-02-06T13:44:28.602Z"
   },
   {
    "duration": 245,
    "start_time": "2022-02-06T13:44:30.013Z"
   },
   {
    "duration": 591,
    "start_time": "2022-02-06T13:44:30.261Z"
   },
   {
    "duration": 228,
    "start_time": "2022-02-06T13:44:30.856Z"
   },
   {
    "duration": 393,
    "start_time": "2022-02-06T13:44:31.086Z"
   },
   {
    "duration": 483,
    "start_time": "2022-02-06T13:44:31.482Z"
   },
   {
    "duration": 107,
    "start_time": "2022-02-06T13:44:31.968Z"
   },
   {
    "duration": 144,
    "start_time": "2022-02-06T13:44:32.080Z"
   },
   {
    "duration": 311,
    "start_time": "2022-02-06T13:44:32.228Z"
   },
   {
    "duration": 57,
    "start_time": "2022-02-06T13:44:32.542Z"
   },
   {
    "duration": 35,
    "start_time": "2022-02-06T13:44:32.601Z"
   },
   {
    "duration": 24,
    "start_time": "2022-02-06T13:44:32.649Z"
   },
   {
    "duration": 13,
    "start_time": "2022-02-06T13:44:32.676Z"
   },
   {
    "duration": 52,
    "start_time": "2022-02-06T13:44:32.692Z"
   },
   {
    "duration": 33,
    "start_time": "2022-02-06T13:44:32.749Z"
   },
   {
    "duration": 9,
    "start_time": "2022-02-06T13:44:32.784Z"
   },
   {
    "duration": 615,
    "start_time": "2022-02-06T13:44:32.795Z"
   },
   {
    "duration": 16,
    "start_time": "2022-02-06T13:44:33.413Z"
   },
   {
    "duration": 978,
    "start_time": "2022-02-06T13:44:33.432Z"
   },
   {
    "duration": 190,
    "start_time": "2022-02-06T13:44:34.412Z"
   },
   {
    "duration": 564,
    "start_time": "2022-02-06T13:44:34.604Z"
   },
   {
    "duration": 697,
    "start_time": "2022-02-06T13:44:35.170Z"
   },
   {
    "duration": 20,
    "start_time": "2022-02-06T13:44:35.871Z"
   },
   {
    "duration": 27,
    "start_time": "2022-02-06T13:44:35.894Z"
   },
   {
    "duration": 26,
    "start_time": "2022-02-06T13:44:35.923Z"
   },
   {
    "duration": 15923,
    "start_time": "2022-02-06T13:44:35.315Z"
   },
   {
    "duration": 6,
    "start_time": "2022-02-06T13:46:36.356Z"
   },
   {
    "duration": 16,
    "start_time": "2022-02-06T13:46:41.586Z"
   },
   {
    "duration": 20,
    "start_time": "2022-02-06T13:47:11.688Z"
   },
   {
    "duration": 20,
    "start_time": "2022-02-06T13:47:29.528Z"
   },
   {
    "duration": 17,
    "start_time": "2022-02-06T13:47:35.580Z"
   },
   {
    "duration": 1422,
    "start_time": "2022-02-06T13:47:44.180Z"
   },
   {
    "duration": 234,
    "start_time": "2022-02-06T13:47:45.604Z"
   },
   {
    "duration": 558,
    "start_time": "2022-02-06T13:47:45.842Z"
   },
   {
    "duration": 138,
    "start_time": "2022-02-06T13:47:46.404Z"
   },
   {
    "duration": 185,
    "start_time": "2022-02-06T13:47:46.544Z"
   },
   {
    "duration": 407,
    "start_time": "2022-02-06T13:47:46.732Z"
   },
   {
    "duration": 110,
    "start_time": "2022-02-06T13:47:47.149Z"
   },
   {
    "duration": 150,
    "start_time": "2022-02-06T13:47:47.264Z"
   },
   {
    "duration": 555,
    "start_time": "2022-02-06T13:47:47.417Z"
   },
   {
    "duration": 175,
    "start_time": "2022-02-06T13:47:47.975Z"
   },
   {
    "duration": 41,
    "start_time": "2022-02-06T13:47:48.154Z"
   },
   {
    "duration": 35,
    "start_time": "2022-02-06T13:47:48.248Z"
   },
   {
    "duration": 63,
    "start_time": "2022-02-06T13:47:48.287Z"
   },
   {
    "duration": 53,
    "start_time": "2022-02-06T13:47:48.353Z"
   },
   {
    "duration": 70,
    "start_time": "2022-02-06T13:47:48.408Z"
   },
   {
    "duration": 9,
    "start_time": "2022-02-06T13:47:48.481Z"
   },
   {
    "duration": 701,
    "start_time": "2022-02-06T13:47:48.493Z"
   },
   {
    "duration": 19,
    "start_time": "2022-02-06T13:47:49.197Z"
   },
   {
    "duration": 865,
    "start_time": "2022-02-06T13:47:49.218Z"
   },
   {
    "duration": 193,
    "start_time": "2022-02-06T13:47:50.085Z"
   },
   {
    "duration": 592,
    "start_time": "2022-02-06T13:47:50.280Z"
   },
   {
    "duration": 815,
    "start_time": "2022-02-06T13:47:50.875Z"
   },
   {
    "duration": 20,
    "start_time": "2022-02-06T13:47:51.696Z"
   },
   {
    "duration": 42,
    "start_time": "2022-02-06T13:47:51.719Z"
   },
   {
    "duration": 17,
    "start_time": "2022-02-06T13:47:51.763Z"
   },
   {
    "duration": 420,
    "start_time": "2022-02-06T13:48:15.894Z"
   },
   {
    "duration": 23,
    "start_time": "2022-02-06T13:51:10.467Z"
   },
   {
    "duration": 9,
    "start_time": "2022-02-06T13:52:27.252Z"
   },
   {
    "duration": 393,
    "start_time": "2022-02-06T13:56:45.503Z"
   },
   {
    "duration": 27,
    "start_time": "2022-02-06T13:56:48.924Z"
   },
   {
    "duration": 29,
    "start_time": "2022-02-06T13:57:47.393Z"
   },
   {
    "duration": 25,
    "start_time": "2022-02-06T13:58:11.356Z"
   },
   {
    "duration": 290,
    "start_time": "2022-02-06T13:59:43.408Z"
   },
   {
    "duration": 306,
    "start_time": "2022-02-06T14:03:06.206Z"
   },
   {
    "duration": 278,
    "start_time": "2022-02-06T14:03:22.996Z"
   },
   {
    "duration": 275,
    "start_time": "2022-02-06T14:03:46.562Z"
   },
   {
    "duration": 1414,
    "start_time": "2022-02-06T14:03:53.221Z"
   },
   {
    "duration": 245,
    "start_time": "2022-02-06T14:03:54.642Z"
   },
   {
    "duration": 599,
    "start_time": "2022-02-06T14:03:54.890Z"
   },
   {
    "duration": 148,
    "start_time": "2022-02-06T14:03:55.492Z"
   },
   {
    "duration": 193,
    "start_time": "2022-02-06T14:03:55.643Z"
   },
   {
    "duration": 416,
    "start_time": "2022-02-06T14:03:55.839Z"
   },
   {
    "duration": 103,
    "start_time": "2022-02-06T14:03:56.258Z"
   },
   {
    "duration": 129,
    "start_time": "2022-02-06T14:03:56.365Z"
   },
   {
    "duration": 290,
    "start_time": "2022-02-06T14:03:56.498Z"
   },
   {
    "duration": 66,
    "start_time": "2022-02-06T14:03:56.791Z"
   },
   {
    "duration": 31,
    "start_time": "2022-02-06T14:03:56.860Z"
   },
   {
    "duration": 25,
    "start_time": "2022-02-06T14:03:56.894Z"
   },
   {
    "duration": 31,
    "start_time": "2022-02-06T14:03:56.921Z"
   },
   {
    "duration": 60,
    "start_time": "2022-02-06T14:03:56.955Z"
   },
   {
    "duration": 33,
    "start_time": "2022-02-06T14:03:57.018Z"
   },
   {
    "duration": 26,
    "start_time": "2022-02-06T14:03:57.054Z"
   },
   {
    "duration": 548,
    "start_time": "2022-02-06T14:03:57.083Z"
   },
   {
    "duration": 24,
    "start_time": "2022-02-06T14:03:57.634Z"
   },
   {
    "duration": 952,
    "start_time": "2022-02-06T14:03:57.661Z"
   },
   {
    "duration": 187,
    "start_time": "2022-02-06T14:03:58.616Z"
   },
   {
    "duration": 608,
    "start_time": "2022-02-06T14:03:58.806Z"
   },
   {
    "duration": 873,
    "start_time": "2022-02-06T14:03:59.417Z"
   },
   {
    "duration": 39,
    "start_time": "2022-02-06T14:04:00.292Z"
   },
   {
    "duration": 34,
    "start_time": "2022-02-06T14:04:00.334Z"
   },
   {
    "duration": 793,
    "start_time": "2022-02-06T14:04:00.372Z"
   },
   {
    "duration": 415,
    "start_time": "2022-02-06T14:06:15.774Z"
   },
   {
    "duration": 441,
    "start_time": "2022-02-06T14:07:25.916Z"
   },
   {
    "duration": 1442,
    "start_time": "2022-02-06T14:07:37.172Z"
   },
   {
    "duration": 224,
    "start_time": "2022-02-06T14:07:38.617Z"
   },
   {
    "duration": 568,
    "start_time": "2022-02-06T14:07:38.848Z"
   },
   {
    "duration": 135,
    "start_time": "2022-02-06T14:07:39.420Z"
   },
   {
    "duration": 193,
    "start_time": "2022-02-06T14:07:39.557Z"
   },
   {
    "duration": 418,
    "start_time": "2022-02-06T14:07:39.752Z"
   },
   {
    "duration": 102,
    "start_time": "2022-02-06T14:07:40.172Z"
   },
   {
    "duration": 150,
    "start_time": "2022-02-06T14:07:40.279Z"
   },
   {
    "duration": 279,
    "start_time": "2022-02-06T14:07:40.433Z"
   },
   {
    "duration": 65,
    "start_time": "2022-02-06T14:07:40.714Z"
   },
   {
    "duration": 31,
    "start_time": "2022-02-06T14:07:40.782Z"
   },
   {
    "duration": 33,
    "start_time": "2022-02-06T14:07:40.815Z"
   },
   {
    "duration": 8,
    "start_time": "2022-02-06T14:07:40.851Z"
   },
   {
    "duration": 49,
    "start_time": "2022-02-06T14:07:40.862Z"
   },
   {
    "duration": 48,
    "start_time": "2022-02-06T14:07:40.913Z"
   },
   {
    "duration": 10,
    "start_time": "2022-02-06T14:07:40.964Z"
   },
   {
    "duration": 536,
    "start_time": "2022-02-06T14:07:40.976Z"
   },
   {
    "duration": 16,
    "start_time": "2022-02-06T14:07:41.515Z"
   },
   {
    "duration": 901,
    "start_time": "2022-02-06T14:07:41.548Z"
   },
   {
    "duration": 200,
    "start_time": "2022-02-06T14:07:42.452Z"
   },
   {
    "duration": 634,
    "start_time": "2022-02-06T14:07:42.654Z"
   },
   {
    "duration": 706,
    "start_time": "2022-02-06T14:07:43.291Z"
   },
   {
    "duration": 19,
    "start_time": "2022-02-06T14:07:44.002Z"
   },
   {
    "duration": 455,
    "start_time": "2022-02-06T14:07:44.024Z"
   },
   {
    "duration": 15933,
    "start_time": "2022-02-06T14:07:28.549Z"
   },
   {
    "duration": 28,
    "start_time": "2022-02-06T14:07:57.685Z"
   },
   {
    "duration": 32,
    "start_time": "2022-02-06T14:08:30.539Z"
   },
   {
    "duration": 401,
    "start_time": "2022-02-06T14:08:44.850Z"
   },
   {
    "duration": 1439,
    "start_time": "2022-02-06T14:09:33.154Z"
   },
   {
    "duration": 223,
    "start_time": "2022-02-06T14:09:34.596Z"
   },
   {
    "duration": 543,
    "start_time": "2022-02-06T14:09:34.822Z"
   },
   {
    "duration": 132,
    "start_time": "2022-02-06T14:09:35.368Z"
   },
   {
    "duration": 182,
    "start_time": "2022-02-06T14:09:35.503Z"
   },
   {
    "duration": 398,
    "start_time": "2022-02-06T14:09:35.688Z"
   },
   {
    "duration": 103,
    "start_time": "2022-02-06T14:09:36.089Z"
   },
   {
    "duration": 132,
    "start_time": "2022-02-06T14:09:36.196Z"
   },
   {
    "duration": 283,
    "start_time": "2022-02-06T14:09:36.331Z"
   },
   {
    "duration": 69,
    "start_time": "2022-02-06T14:09:36.616Z"
   },
   {
    "duration": 32,
    "start_time": "2022-02-06T14:09:36.687Z"
   },
   {
    "duration": 30,
    "start_time": "2022-02-06T14:09:36.721Z"
   },
   {
    "duration": 10,
    "start_time": "2022-02-06T14:09:36.754Z"
   },
   {
    "duration": 50,
    "start_time": "2022-02-06T14:09:36.767Z"
   },
   {
    "duration": 45,
    "start_time": "2022-02-06T14:09:36.820Z"
   },
   {
    "duration": 9,
    "start_time": "2022-02-06T14:09:36.868Z"
   },
   {
    "duration": 571,
    "start_time": "2022-02-06T14:09:36.880Z"
   },
   {
    "duration": 15,
    "start_time": "2022-02-06T14:09:37.453Z"
   },
   {
    "duration": 945,
    "start_time": "2022-02-06T14:09:37.471Z"
   },
   {
    "duration": 185,
    "start_time": "2022-02-06T14:09:38.419Z"
   },
   {
    "duration": 603,
    "start_time": "2022-02-06T14:09:38.606Z"
   },
   {
    "duration": 1103,
    "start_time": "2022-02-06T14:09:39.211Z"
   },
   {
    "duration": 31,
    "start_time": "2022-02-06T14:09:40.319Z"
   },
   {
    "duration": 32,
    "start_time": "2022-02-06T14:09:40.352Z"
   },
   {
    "duration": 547,
    "start_time": "2022-02-06T14:09:40.388Z"
   },
   {
    "duration": 1404,
    "start_time": "2022-02-06T14:10:19.881Z"
   },
   {
    "duration": 248,
    "start_time": "2022-02-06T14:10:21.288Z"
   },
   {
    "duration": 567,
    "start_time": "2022-02-06T14:10:21.539Z"
   },
   {
    "duration": 155,
    "start_time": "2022-02-06T14:10:22.109Z"
   },
   {
    "duration": 210,
    "start_time": "2022-02-06T14:10:22.267Z"
   },
   {
    "duration": 414,
    "start_time": "2022-02-06T14:10:22.479Z"
   },
   {
    "duration": 94,
    "start_time": "2022-02-06T14:10:22.896Z"
   },
   {
    "duration": 357,
    "start_time": "2022-02-06T14:10:22.993Z"
   },
   {
    "duration": 523,
    "start_time": "2022-02-06T14:10:23.353Z"
   },
   {
    "duration": 72,
    "start_time": "2022-02-06T14:10:23.878Z"
   },
   {
    "duration": 34,
    "start_time": "2022-02-06T14:10:23.953Z"
   },
   {
    "duration": 25,
    "start_time": "2022-02-06T14:10:23.990Z"
   },
   {
    "duration": 34,
    "start_time": "2022-02-06T14:10:24.017Z"
   },
   {
    "duration": 50,
    "start_time": "2022-02-06T14:10:24.053Z"
   },
   {
    "duration": 31,
    "start_time": "2022-02-06T14:10:24.106Z"
   },
   {
    "duration": 12,
    "start_time": "2022-02-06T14:10:24.139Z"
   },
   {
    "duration": 490,
    "start_time": "2022-02-06T14:10:24.154Z"
   },
   {
    "duration": 15,
    "start_time": "2022-02-06T14:10:24.646Z"
   },
   {
    "duration": 880,
    "start_time": "2022-02-06T14:10:24.663Z"
   },
   {
    "duration": 195,
    "start_time": "2022-02-06T14:10:25.548Z"
   },
   {
    "duration": 580,
    "start_time": "2022-02-06T14:10:25.748Z"
   },
   {
    "duration": 704,
    "start_time": "2022-02-06T14:10:26.330Z"
   },
   {
    "duration": 34,
    "start_time": "2022-02-06T14:10:27.038Z"
   },
   {
    "duration": 31,
    "start_time": "2022-02-06T14:10:27.075Z"
   },
   {
    "duration": 463,
    "start_time": "2022-02-06T14:10:27.109Z"
   },
   {
    "duration": 1405,
    "start_time": "2022-02-06T14:10:42.690Z"
   },
   {
    "duration": 260,
    "start_time": "2022-02-06T14:10:44.098Z"
   },
   {
    "duration": 812,
    "start_time": "2022-02-06T14:10:44.361Z"
   },
   {
    "duration": 279,
    "start_time": "2022-02-06T14:10:45.176Z"
   },
   {
    "duration": 259,
    "start_time": "2022-02-06T14:10:45.457Z"
   },
   {
    "duration": 491,
    "start_time": "2022-02-06T14:10:45.718Z"
   },
   {
    "duration": 98,
    "start_time": "2022-02-06T14:10:46.212Z"
   },
   {
    "duration": 171,
    "start_time": "2022-02-06T14:10:46.314Z"
   },
   {
    "duration": 303,
    "start_time": "2022-02-06T14:10:46.488Z"
   },
   {
    "duration": 57,
    "start_time": "2022-02-06T14:10:46.793Z"
   },
   {
    "duration": 33,
    "start_time": "2022-02-06T14:10:46.852Z"
   },
   {
    "duration": 23,
    "start_time": "2022-02-06T14:10:46.888Z"
   },
   {
    "duration": 9,
    "start_time": "2022-02-06T14:10:46.914Z"
   },
   {
    "duration": 56,
    "start_time": "2022-02-06T14:10:46.925Z"
   },
   {
    "duration": 31,
    "start_time": "2022-02-06T14:10:46.984Z"
   },
   {
    "duration": 9,
    "start_time": "2022-02-06T14:10:47.017Z"
   },
   {
    "duration": 654,
    "start_time": "2022-02-06T14:10:47.028Z"
   },
   {
    "duration": 15,
    "start_time": "2022-02-06T14:10:47.684Z"
   },
   {
    "duration": 986,
    "start_time": "2022-02-06T14:10:47.701Z"
   },
   {
    "duration": 229,
    "start_time": "2022-02-06T14:10:48.689Z"
   },
   {
    "duration": 606,
    "start_time": "2022-02-06T14:10:48.921Z"
   },
   {
    "duration": 693,
    "start_time": "2022-02-06T14:10:49.529Z"
   },
   {
    "duration": 28,
    "start_time": "2022-02-06T14:10:50.226Z"
   },
   {
    "duration": 29,
    "start_time": "2022-02-06T14:10:50.257Z"
   },
   {
    "duration": 402,
    "start_time": "2022-02-06T14:10:50.289Z"
   },
   {
    "duration": 266,
    "start_time": "2022-02-06T14:11:28.047Z"
   },
   {
    "duration": 139,
    "start_time": "2022-02-06T14:12:47.010Z"
   },
   {
    "duration": 1413,
    "start_time": "2022-02-06T14:12:50.747Z"
   },
   {
    "duration": 239,
    "start_time": "2022-02-06T14:12:52.163Z"
   },
   {
    "duration": 540,
    "start_time": "2022-02-06T14:12:52.405Z"
   },
   {
    "duration": 130,
    "start_time": "2022-02-06T14:12:52.949Z"
   },
   {
    "duration": 184,
    "start_time": "2022-02-06T14:12:53.081Z"
   },
   {
    "duration": 480,
    "start_time": "2022-02-06T14:12:53.268Z"
   },
   {
    "duration": 203,
    "start_time": "2022-02-06T14:12:53.751Z"
   },
   {
    "duration": 226,
    "start_time": "2022-02-06T14:12:53.957Z"
   },
   {
    "duration": 391,
    "start_time": "2022-02-06T14:12:54.185Z"
   },
   {
    "duration": 53,
    "start_time": "2022-02-06T14:12:54.579Z"
   },
   {
    "duration": 31,
    "start_time": "2022-02-06T14:12:54.649Z"
   },
   {
    "duration": 24,
    "start_time": "2022-02-06T14:12:54.683Z"
   },
   {
    "duration": 8,
    "start_time": "2022-02-06T14:12:54.709Z"
   },
   {
    "duration": 73,
    "start_time": "2022-02-06T14:12:54.719Z"
   },
   {
    "duration": 32,
    "start_time": "2022-02-06T14:12:54.794Z"
   },
   {
    "duration": 24,
    "start_time": "2022-02-06T14:12:54.828Z"
   },
   {
    "duration": 524,
    "start_time": "2022-02-06T14:12:54.855Z"
   },
   {
    "duration": 15,
    "start_time": "2022-02-06T14:12:55.381Z"
   },
   {
    "duration": 937,
    "start_time": "2022-02-06T14:12:55.399Z"
   },
   {
    "duration": 715,
    "start_time": "2022-02-06T14:12:56.338Z"
   },
   {
    "duration": 15979,
    "start_time": "2022-02-06T14:12:41.077Z"
   },
   {
    "duration": 15974,
    "start_time": "2022-02-06T14:12:41.084Z"
   },
   {
    "duration": 15971,
    "start_time": "2022-02-06T14:12:41.089Z"
   },
   {
    "duration": 15960,
    "start_time": "2022-02-06T14:12:41.102Z"
   },
   {
    "duration": 15959,
    "start_time": "2022-02-06T14:12:41.107Z"
   },
   {
    "duration": 151,
    "start_time": "2022-02-06T14:13:22.397Z"
   },
   {
    "duration": 863,
    "start_time": "2022-02-06T14:13:32.181Z"
   },
   {
    "duration": 6747,
    "start_time": "2022-02-06T14:13:41.892Z"
   },
   {
    "duration": 1368,
    "start_time": "2022-02-06T14:14:14.880Z"
   },
   {
    "duration": 247,
    "start_time": "2022-02-06T14:14:16.251Z"
   },
   {
    "duration": 590,
    "start_time": "2022-02-06T14:14:16.501Z"
   },
   {
    "duration": 227,
    "start_time": "2022-02-06T14:14:17.150Z"
   },
   {
    "duration": 376,
    "start_time": "2022-02-06T14:14:17.379Z"
   },
   {
    "duration": 410,
    "start_time": "2022-02-06T14:14:17.758Z"
   },
   {
    "duration": 103,
    "start_time": "2022-02-06T14:14:18.171Z"
   },
   {
    "duration": 131,
    "start_time": "2022-02-06T14:14:18.278Z"
   },
   {
    "duration": 287,
    "start_time": "2022-02-06T14:14:18.412Z"
   },
   {
    "duration": 71,
    "start_time": "2022-02-06T14:14:18.701Z"
   },
   {
    "duration": 38,
    "start_time": "2022-02-06T14:14:18.776Z"
   },
   {
    "duration": 42,
    "start_time": "2022-02-06T14:14:18.817Z"
   },
   {
    "duration": 10,
    "start_time": "2022-02-06T14:14:18.861Z"
   },
   {
    "duration": 49,
    "start_time": "2022-02-06T14:14:18.874Z"
   },
   {
    "duration": 49,
    "start_time": "2022-02-06T14:14:18.926Z"
   },
   {
    "duration": 12,
    "start_time": "2022-02-06T14:14:18.978Z"
   },
   {
    "duration": 559,
    "start_time": "2022-02-06T14:14:18.992Z"
   },
   {
    "duration": 15,
    "start_time": "2022-02-06T14:14:19.553Z"
   },
   {
    "duration": 901,
    "start_time": "2022-02-06T14:14:19.570Z"
   },
   {
    "duration": 205,
    "start_time": "2022-02-06T14:14:20.474Z"
   },
   {
    "duration": 595,
    "start_time": "2022-02-06T14:14:20.681Z"
   },
   {
    "duration": 714,
    "start_time": "2022-02-06T14:14:21.279Z"
   },
   {
    "duration": 19,
    "start_time": "2022-02-06T14:14:21.997Z"
   },
   {
    "duration": 44,
    "start_time": "2022-02-06T14:14:22.019Z"
   },
   {
    "duration": 423,
    "start_time": "2022-02-06T14:14:22.066Z"
   },
   {
    "duration": 28,
    "start_time": "2022-02-06T14:14:59.622Z"
   },
   {
    "duration": 388,
    "start_time": "2022-02-06T14:15:03.101Z"
   },
   {
    "duration": 7123,
    "start_time": "2022-02-06T14:33:43.755Z"
   },
   {
    "duration": 26,
    "start_time": "2022-02-06T14:50:34.731Z"
   },
   {
    "duration": 1430,
    "start_time": "2022-02-06T14:53:01.376Z"
   },
   {
    "duration": 231,
    "start_time": "2022-02-06T14:53:02.808Z"
   },
   {
    "duration": 552,
    "start_time": "2022-02-06T14:53:03.050Z"
   },
   {
    "duration": 140,
    "start_time": "2022-02-06T14:53:03.605Z"
   },
   {
    "duration": 212,
    "start_time": "2022-02-06T14:53:03.748Z"
   },
   {
    "duration": 412,
    "start_time": "2022-02-06T14:53:03.963Z"
   },
   {
    "duration": 103,
    "start_time": "2022-02-06T14:53:04.377Z"
   },
   {
    "duration": 134,
    "start_time": "2022-02-06T14:53:04.484Z"
   },
   {
    "duration": 289,
    "start_time": "2022-02-06T14:53:04.621Z"
   },
   {
    "duration": 67,
    "start_time": "2022-02-06T14:53:04.912Z"
   },
   {
    "duration": 34,
    "start_time": "2022-02-06T14:53:04.982Z"
   },
   {
    "duration": 30,
    "start_time": "2022-02-06T14:53:05.018Z"
   },
   {
    "duration": 8,
    "start_time": "2022-02-06T14:53:05.051Z"
   },
   {
    "duration": 63,
    "start_time": "2022-02-06T14:53:05.062Z"
   },
   {
    "duration": 30,
    "start_time": "2022-02-06T14:53:05.127Z"
   },
   {
    "duration": 9,
    "start_time": "2022-02-06T14:53:05.160Z"
   },
   {
    "duration": 540,
    "start_time": "2022-02-06T14:53:05.171Z"
   },
   {
    "duration": 16,
    "start_time": "2022-02-06T14:53:05.713Z"
   },
   {
    "duration": 894,
    "start_time": "2022-02-06T14:53:05.732Z"
   },
   {
    "duration": 198,
    "start_time": "2022-02-06T14:53:06.628Z"
   },
   {
    "duration": 775,
    "start_time": "2022-02-06T14:53:06.829Z"
   },
   {
    "duration": 731,
    "start_time": "2022-02-06T14:53:07.606Z"
   },
   {
    "duration": 26,
    "start_time": "2022-02-06T14:53:08.350Z"
   },
   {
    "duration": 24,
    "start_time": "2022-02-06T14:53:08.378Z"
   },
   {
    "duration": 610,
    "start_time": "2022-02-06T14:53:08.405Z"
   },
   {
    "duration": 7018,
    "start_time": "2022-02-06T14:55:45.824Z"
   },
   {
    "duration": 1425,
    "start_time": "2022-02-06T14:55:56.478Z"
   },
   {
    "duration": 219,
    "start_time": "2022-02-06T14:55:57.905Z"
   },
   {
    "duration": 539,
    "start_time": "2022-02-06T14:55:58.127Z"
   },
   {
    "duration": 144,
    "start_time": "2022-02-06T14:55:58.669Z"
   },
   {
    "duration": 193,
    "start_time": "2022-02-06T14:55:58.815Z"
   },
   {
    "duration": 453,
    "start_time": "2022-02-06T14:55:59.010Z"
   },
   {
    "duration": 110,
    "start_time": "2022-02-06T14:55:59.465Z"
   },
   {
    "duration": 142,
    "start_time": "2022-02-06T14:55:59.579Z"
   },
   {
    "duration": 311,
    "start_time": "2022-02-06T14:55:59.724Z"
   },
   {
    "duration": 65,
    "start_time": "2022-02-06T14:56:00.038Z"
   },
   {
    "duration": 48,
    "start_time": "2022-02-06T14:56:00.106Z"
   },
   {
    "duration": 25,
    "start_time": "2022-02-06T14:56:00.157Z"
   },
   {
    "duration": 31,
    "start_time": "2022-02-06T14:56:00.185Z"
   },
   {
    "duration": 63,
    "start_time": "2022-02-06T14:56:00.219Z"
   },
   {
    "duration": 33,
    "start_time": "2022-02-06T14:56:00.284Z"
   },
   {
    "duration": 10,
    "start_time": "2022-02-06T14:56:00.320Z"
   },
   {
    "duration": 601,
    "start_time": "2022-02-06T14:56:00.350Z"
   },
   {
    "duration": 17,
    "start_time": "2022-02-06T14:56:00.953Z"
   },
   {
    "duration": 941,
    "start_time": "2022-02-06T14:56:00.972Z"
   },
   {
    "duration": 254,
    "start_time": "2022-02-06T14:56:01.916Z"
   },
   {
    "duration": 851,
    "start_time": "2022-02-06T14:56:02.173Z"
   },
   {
    "duration": 821,
    "start_time": "2022-02-06T14:56:03.027Z"
   },
   {
    "duration": 15,
    "start_time": "2022-02-06T14:56:03.852Z"
   },
   {
    "duration": 39,
    "start_time": "2022-02-06T14:56:03.869Z"
   },
   {
    "duration": 506,
    "start_time": "2022-02-06T14:56:03.910Z"
   },
   {
    "duration": 16032,
    "start_time": "2022-02-06T14:56:04.410Z"
   },
   {
    "duration": 1453,
    "start_time": "2022-02-06T14:56:22.450Z"
   },
   {
    "duration": 220,
    "start_time": "2022-02-06T14:56:23.905Z"
   },
   {
    "duration": 723,
    "start_time": "2022-02-06T14:56:24.128Z"
   },
   {
    "duration": 236,
    "start_time": "2022-02-06T14:56:24.853Z"
   },
   {
    "duration": 272,
    "start_time": "2022-02-06T14:56:25.091Z"
   },
   {
    "duration": 399,
    "start_time": "2022-02-06T14:56:25.365Z"
   },
   {
    "duration": 103,
    "start_time": "2022-02-06T14:56:25.766Z"
   },
   {
    "duration": 137,
    "start_time": "2022-02-06T14:56:25.873Z"
   },
   {
    "duration": 280,
    "start_time": "2022-02-06T14:56:26.013Z"
   },
   {
    "duration": 76,
    "start_time": "2022-02-06T14:56:26.295Z"
   },
   {
    "duration": 32,
    "start_time": "2022-02-06T14:56:26.373Z"
   },
   {
    "duration": 22,
    "start_time": "2022-02-06T14:56:26.408Z"
   },
   {
    "duration": 10,
    "start_time": "2022-02-06T14:56:26.448Z"
   },
   {
    "duration": 48,
    "start_time": "2022-02-06T14:56:26.461Z"
   },
   {
    "duration": 51,
    "start_time": "2022-02-06T14:56:26.512Z"
   },
   {
    "duration": 10,
    "start_time": "2022-02-06T14:56:26.566Z"
   },
   {
    "duration": 552,
    "start_time": "2022-02-06T14:56:26.579Z"
   },
   {
    "duration": 20,
    "start_time": "2022-02-06T14:56:27.133Z"
   },
   {
    "duration": 884,
    "start_time": "2022-02-06T14:56:27.155Z"
   },
   {
    "duration": 195,
    "start_time": "2022-02-06T14:56:28.049Z"
   },
   {
    "duration": 586,
    "start_time": "2022-02-06T14:56:28.249Z"
   },
   {
    "duration": 693,
    "start_time": "2022-02-06T14:56:28.838Z"
   },
   {
    "duration": 14,
    "start_time": "2022-02-06T14:56:29.547Z"
   },
   {
    "duration": 25,
    "start_time": "2022-02-06T14:56:29.563Z"
   },
   {
    "duration": 402,
    "start_time": "2022-02-06T14:56:29.590Z"
   },
   {
    "duration": 1874,
    "start_time": "2022-02-06T14:57:18.376Z"
   },
   {
    "duration": 353,
    "start_time": "2022-02-06T14:57:20.254Z"
   },
   {
    "duration": 953,
    "start_time": "2022-02-06T14:57:20.611Z"
   },
   {
    "duration": 200,
    "start_time": "2022-02-06T14:57:21.568Z"
   },
   {
    "duration": 282,
    "start_time": "2022-02-06T14:57:21.772Z"
   },
   {
    "duration": 1162,
    "start_time": "2022-02-06T14:57:22.058Z"
   },
   {
    "duration": 114,
    "start_time": "2022-02-06T14:57:23.223Z"
   },
   {
    "duration": 139,
    "start_time": "2022-02-06T14:57:23.347Z"
   },
   {
    "duration": 307,
    "start_time": "2022-02-06T14:57:23.490Z"
   },
   {
    "duration": 92,
    "start_time": "2022-02-06T14:57:23.800Z"
   },
   {
    "duration": 32,
    "start_time": "2022-02-06T14:57:23.895Z"
   },
   {
    "duration": 37,
    "start_time": "2022-02-06T14:57:23.930Z"
   },
   {
    "duration": 8,
    "start_time": "2022-02-06T14:57:23.970Z"
   },
   {
    "duration": 58,
    "start_time": "2022-02-06T14:57:23.981Z"
   },
   {
    "duration": 32,
    "start_time": "2022-02-06T14:57:24.042Z"
   },
   {
    "duration": 9,
    "start_time": "2022-02-06T14:57:24.077Z"
   },
   {
    "duration": 564,
    "start_time": "2022-02-06T14:57:24.089Z"
   },
   {
    "duration": 17,
    "start_time": "2022-02-06T14:57:24.655Z"
   },
   {
    "duration": 932,
    "start_time": "2022-02-06T14:57:24.675Z"
   },
   {
    "duration": 213,
    "start_time": "2022-02-06T14:57:25.610Z"
   },
   {
    "duration": 684,
    "start_time": "2022-02-06T14:57:25.826Z"
   },
   {
    "duration": 958,
    "start_time": "2022-02-06T14:57:26.513Z"
   },
   {
    "duration": 16,
    "start_time": "2022-02-06T14:57:27.476Z"
   },
   {
    "duration": 57,
    "start_time": "2022-02-06T14:57:27.496Z"
   },
   {
    "duration": 653,
    "start_time": "2022-02-06T14:57:27.556Z"
   },
   {
    "duration": 16031,
    "start_time": "2022-02-06T14:57:38.694Z"
   },
   {
    "duration": 2042,
    "start_time": "2022-02-06T14:57:59.366Z"
   },
   {
    "duration": 380,
    "start_time": "2022-02-06T14:58:01.412Z"
   },
   {
    "duration": 1097,
    "start_time": "2022-02-06T14:58:01.796Z"
   },
   {
    "duration": 286,
    "start_time": "2022-02-06T14:58:02.896Z"
   },
   {
    "duration": 300,
    "start_time": "2022-02-06T14:58:03.185Z"
   },
   {
    "duration": 449,
    "start_time": "2022-02-06T14:58:03.487Z"
   },
   {
    "duration": 144,
    "start_time": "2022-02-06T14:58:03.948Z"
   },
   {
    "duration": 196,
    "start_time": "2022-02-06T14:58:04.097Z"
   },
   {
    "duration": 414,
    "start_time": "2022-02-06T14:58:04.297Z"
   },
   {
    "duration": 67,
    "start_time": "2022-02-06T14:58:04.714Z"
   },
   {
    "duration": 33,
    "start_time": "2022-02-06T14:58:04.783Z"
   },
   {
    "duration": 38,
    "start_time": "2022-02-06T14:58:04.818Z"
   },
   {
    "duration": 8,
    "start_time": "2022-02-06T14:58:04.859Z"
   },
   {
    "duration": 62,
    "start_time": "2022-02-06T14:58:04.870Z"
   },
   {
    "duration": 59,
    "start_time": "2022-02-06T14:58:04.934Z"
   },
   {
    "duration": 14,
    "start_time": "2022-02-06T14:58:04.997Z"
   },
   {
    "duration": 987,
    "start_time": "2022-02-06T14:58:05.014Z"
   },
   {
    "duration": 22,
    "start_time": "2022-02-06T14:58:06.004Z"
   },
   {
    "duration": 903,
    "start_time": "2022-02-06T14:58:06.029Z"
   },
   {
    "duration": 211,
    "start_time": "2022-02-06T14:58:06.934Z"
   },
   {
    "duration": 619,
    "start_time": "2022-02-06T14:58:07.149Z"
   },
   {
    "duration": 792,
    "start_time": "2022-02-06T14:58:07.771Z"
   },
   {
    "duration": 21,
    "start_time": "2022-02-06T14:58:08.567Z"
   },
   {
    "duration": 63,
    "start_time": "2022-02-06T14:58:08.592Z"
   },
   {
    "duration": 780,
    "start_time": "2022-02-06T14:58:08.659Z"
   },
   {
    "duration": 296,
    "start_time": "2022-02-06T15:00:57.845Z"
   },
   {
    "duration": 1396,
    "start_time": "2022-02-06T15:01:05.177Z"
   },
   {
    "duration": 238,
    "start_time": "2022-02-06T15:01:06.576Z"
   },
   {
    "duration": 641,
    "start_time": "2022-02-06T15:01:06.817Z"
   },
   {
    "duration": 145,
    "start_time": "2022-02-06T15:01:07.462Z"
   },
   {
    "duration": 187,
    "start_time": "2022-02-06T15:01:07.610Z"
   },
   {
    "duration": 449,
    "start_time": "2022-02-06T15:01:07.801Z"
   },
   {
    "duration": 108,
    "start_time": "2022-02-06T15:01:08.253Z"
   },
   {
    "duration": 139,
    "start_time": "2022-02-06T15:01:08.365Z"
   },
   {
    "duration": 305,
    "start_time": "2022-02-06T15:01:08.508Z"
   },
   {
    "duration": 79,
    "start_time": "2022-02-06T15:01:08.817Z"
   },
   {
    "duration": 33,
    "start_time": "2022-02-06T15:01:08.898Z"
   },
   {
    "duration": 34,
    "start_time": "2022-02-06T15:01:08.934Z"
   },
   {
    "duration": 25,
    "start_time": "2022-02-06T15:01:08.971Z"
   },
   {
    "duration": 48,
    "start_time": "2022-02-06T15:01:08.999Z"
   },
   {
    "duration": 30,
    "start_time": "2022-02-06T15:01:09.050Z"
   },
   {
    "duration": 12,
    "start_time": "2022-02-06T15:01:09.083Z"
   },
   {
    "duration": 872,
    "start_time": "2022-02-06T15:01:09.098Z"
   },
   {
    "duration": 15,
    "start_time": "2022-02-06T15:01:09.972Z"
   },
   {
    "duration": 926,
    "start_time": "2022-02-06T15:01:09.990Z"
   },
   {
    "duration": 194,
    "start_time": "2022-02-06T15:01:10.919Z"
   },
   {
    "duration": 598,
    "start_time": "2022-02-06T15:01:11.115Z"
   },
   {
    "duration": 712,
    "start_time": "2022-02-06T15:01:11.715Z"
   },
   {
    "duration": 26,
    "start_time": "2022-02-06T15:01:12.431Z"
   },
   {
    "duration": 48,
    "start_time": "2022-02-06T15:01:12.459Z"
   },
   {
    "duration": 438,
    "start_time": "2022-02-06T15:01:12.509Z"
   },
   {
    "duration": 37,
    "start_time": "2022-02-06T15:03:33.937Z"
   },
   {
    "duration": 1497,
    "start_time": "2022-02-06T15:03:39.713Z"
   },
   {
    "duration": 242,
    "start_time": "2022-02-06T15:03:41.213Z"
   },
   {
    "duration": 584,
    "start_time": "2022-02-06T15:03:41.458Z"
   },
   {
    "duration": 138,
    "start_time": "2022-02-06T15:03:42.044Z"
   },
   {
    "duration": 390,
    "start_time": "2022-02-06T15:03:42.185Z"
   },
   {
    "duration": 723,
    "start_time": "2022-02-06T15:03:42.577Z"
   },
   {
    "duration": 111,
    "start_time": "2022-02-06T15:03:43.304Z"
   },
   {
    "duration": 243,
    "start_time": "2022-02-06T15:03:43.418Z"
   },
   {
    "duration": 531,
    "start_time": "2022-02-06T15:03:43.664Z"
   },
   {
    "duration": 105,
    "start_time": "2022-02-06T15:03:44.249Z"
   },
   {
    "duration": 32,
    "start_time": "2022-02-06T15:03:44.356Z"
   },
   {
    "duration": 73,
    "start_time": "2022-02-06T15:03:44.390Z"
   },
   {
    "duration": 13,
    "start_time": "2022-02-06T15:03:44.465Z"
   },
   {
    "duration": 84,
    "start_time": "2022-02-06T15:03:44.480Z"
   },
   {
    "duration": 86,
    "start_time": "2022-02-06T15:03:44.566Z"
   },
   {
    "duration": 17,
    "start_time": "2022-02-06T15:03:44.655Z"
   },
   {
    "duration": 596,
    "start_time": "2022-02-06T15:03:44.674Z"
   },
   {
    "duration": 16,
    "start_time": "2022-02-06T15:03:45.273Z"
   },
   {
    "duration": 862,
    "start_time": "2022-02-06T15:03:45.291Z"
   },
   {
    "duration": 204,
    "start_time": "2022-02-06T15:03:46.155Z"
   },
   {
    "duration": 602,
    "start_time": "2022-02-06T15:03:46.362Z"
   },
   {
    "duration": 707,
    "start_time": "2022-02-06T15:03:46.967Z"
   },
   {
    "duration": 19,
    "start_time": "2022-02-06T15:03:47.681Z"
   },
   {
    "duration": 46,
    "start_time": "2022-02-06T15:03:47.703Z"
   },
   {
    "duration": 30,
    "start_time": "2022-02-06T15:03:47.752Z"
   },
   {
    "duration": 53,
    "start_time": "2022-02-06T15:04:00.284Z"
   },
   {
    "duration": 27,
    "start_time": "2022-02-06T15:04:08.306Z"
   },
   {
    "duration": 1542,
    "start_time": "2022-02-06T15:04:22.197Z"
   },
   {
    "duration": 241,
    "start_time": "2022-02-06T15:04:23.741Z"
   },
   {
    "duration": 610,
    "start_time": "2022-02-06T15:04:23.985Z"
   },
   {
    "duration": 145,
    "start_time": "2022-02-06T15:04:24.598Z"
   },
   {
    "duration": 216,
    "start_time": "2022-02-06T15:04:24.748Z"
   },
   {
    "duration": 727,
    "start_time": "2022-02-06T15:04:24.968Z"
   },
   {
    "duration": 152,
    "start_time": "2022-02-06T15:04:25.698Z"
   },
   {
    "duration": 205,
    "start_time": "2022-02-06T15:04:25.853Z"
   },
   {
    "duration": 481,
    "start_time": "2022-02-06T15:04:26.064Z"
   },
   {
    "duration": 80,
    "start_time": "2022-02-06T15:04:26.551Z"
   },
   {
    "duration": 44,
    "start_time": "2022-02-06T15:04:26.650Z"
   },
   {
    "duration": 22,
    "start_time": "2022-02-06T15:04:26.696Z"
   },
   {
    "duration": 32,
    "start_time": "2022-02-06T15:04:26.721Z"
   },
   {
    "duration": 53,
    "start_time": "2022-02-06T15:04:26.756Z"
   },
   {
    "duration": 29,
    "start_time": "2022-02-06T15:04:26.811Z"
   },
   {
    "duration": 11,
    "start_time": "2022-02-06T15:04:26.848Z"
   },
   {
    "duration": 582,
    "start_time": "2022-02-06T15:04:26.862Z"
   },
   {
    "duration": 18,
    "start_time": "2022-02-06T15:04:27.447Z"
   },
   {
    "duration": 896,
    "start_time": "2022-02-06T15:04:27.468Z"
   },
   {
    "duration": 186,
    "start_time": "2022-02-06T15:04:28.367Z"
   },
   {
    "duration": 573,
    "start_time": "2022-02-06T15:04:28.555Z"
   },
   {
    "duration": 698,
    "start_time": "2022-02-06T15:04:29.131Z"
   },
   {
    "duration": 22,
    "start_time": "2022-02-06T15:04:29.832Z"
   },
   {
    "duration": 30,
    "start_time": "2022-02-06T15:04:29.857Z"
   },
   {
    "duration": 24,
    "start_time": "2022-02-06T15:04:29.889Z"
   },
   {
    "duration": 20,
    "start_time": "2022-02-06T15:04:40.518Z"
   },
   {
    "duration": 28,
    "start_time": "2022-02-06T15:07:08.352Z"
   },
   {
    "duration": 17,
    "start_time": "2022-02-06T15:11:59.541Z"
   },
   {
    "duration": 413,
    "start_time": "2022-02-06T15:28:25.861Z"
   },
   {
    "duration": 295,
    "start_time": "2022-02-06T15:31:36.510Z"
   },
   {
    "duration": 1344,
    "start_time": "2022-02-06T15:31:42.379Z"
   },
   {
    "duration": 228,
    "start_time": "2022-02-06T15:31:43.725Z"
   },
   {
    "duration": 549,
    "start_time": "2022-02-06T15:31:43.956Z"
   },
   {
    "duration": 130,
    "start_time": "2022-02-06T15:31:44.508Z"
   },
   {
    "duration": 183,
    "start_time": "2022-02-06T15:31:44.640Z"
   },
   {
    "duration": 422,
    "start_time": "2022-02-06T15:31:44.826Z"
   },
   {
    "duration": 100,
    "start_time": "2022-02-06T15:31:45.250Z"
   },
   {
    "duration": 144,
    "start_time": "2022-02-06T15:31:45.356Z"
   },
   {
    "duration": 287,
    "start_time": "2022-02-06T15:31:45.504Z"
   },
   {
    "duration": 66,
    "start_time": "2022-02-06T15:31:45.794Z"
   },
   {
    "duration": 32,
    "start_time": "2022-02-06T15:31:45.862Z"
   },
   {
    "duration": 23,
    "start_time": "2022-02-06T15:31:45.896Z"
   },
   {
    "duration": 29,
    "start_time": "2022-02-06T15:31:45.921Z"
   },
   {
    "duration": 50,
    "start_time": "2022-02-06T15:31:45.952Z"
   },
   {
    "duration": 31,
    "start_time": "2022-02-06T15:31:46.005Z"
   },
   {
    "duration": 16,
    "start_time": "2022-02-06T15:31:46.039Z"
   },
   {
    "duration": 494,
    "start_time": "2022-02-06T15:31:46.057Z"
   },
   {
    "duration": 16,
    "start_time": "2022-02-06T15:31:46.554Z"
   },
   {
    "duration": 1027,
    "start_time": "2022-02-06T15:31:46.572Z"
   },
   {
    "duration": 192,
    "start_time": "2022-02-06T15:31:47.601Z"
   },
   {
    "duration": 579,
    "start_time": "2022-02-06T15:31:47.796Z"
   },
   {
    "duration": 804,
    "start_time": "2022-02-06T15:31:48.377Z"
   },
   {
    "duration": 21,
    "start_time": "2022-02-06T15:31:49.187Z"
   },
   {
    "duration": 55,
    "start_time": "2022-02-06T15:31:49.211Z"
   },
   {
    "duration": 20,
    "start_time": "2022-02-06T15:31:49.268Z"
   },
   {
    "duration": 17,
    "start_time": "2022-02-06T15:31:49.291Z"
   },
   {
    "duration": 427,
    "start_time": "2022-02-06T15:31:49.311Z"
   },
   {
    "duration": 22,
    "start_time": "2022-02-06T15:32:32.736Z"
   },
   {
    "duration": 296,
    "start_time": "2022-02-06T15:33:26.345Z"
   },
   {
    "duration": 284,
    "start_time": "2022-02-06T15:36:12.599Z"
   },
   {
    "duration": 1569,
    "start_time": "2022-02-06T15:36:32.053Z"
   },
   {
    "duration": 243,
    "start_time": "2022-02-06T15:36:33.624Z"
   },
   {
    "duration": 594,
    "start_time": "2022-02-06T15:36:33.871Z"
   },
   {
    "duration": 132,
    "start_time": "2022-02-06T15:36:34.468Z"
   },
   {
    "duration": 185,
    "start_time": "2022-02-06T15:36:34.603Z"
   },
   {
    "duration": 411,
    "start_time": "2022-02-06T15:36:34.790Z"
   },
   {
    "duration": 114,
    "start_time": "2022-02-06T15:36:35.204Z"
   },
   {
    "duration": 134,
    "start_time": "2022-02-06T15:36:35.323Z"
   },
   {
    "duration": 282,
    "start_time": "2022-02-06T15:36:35.461Z"
   },
   {
    "duration": 51,
    "start_time": "2022-02-06T15:36:35.748Z"
   },
   {
    "duration": 31,
    "start_time": "2022-02-06T15:36:35.801Z"
   },
   {
    "duration": 31,
    "start_time": "2022-02-06T15:36:35.835Z"
   },
   {
    "duration": 7,
    "start_time": "2022-02-06T15:36:35.868Z"
   },
   {
    "duration": 50,
    "start_time": "2022-02-06T15:36:35.878Z"
   },
   {
    "duration": 41,
    "start_time": "2022-02-06T15:36:35.930Z"
   },
   {
    "duration": 8,
    "start_time": "2022-02-06T15:36:35.974Z"
   },
   {
    "duration": 528,
    "start_time": "2022-02-06T15:36:35.984Z"
   },
   {
    "duration": 15,
    "start_time": "2022-02-06T15:36:36.514Z"
   },
   {
    "duration": 898,
    "start_time": "2022-02-06T15:36:36.532Z"
   },
   {
    "duration": 198,
    "start_time": "2022-02-06T15:36:37.433Z"
   },
   {
    "duration": 734,
    "start_time": "2022-02-06T15:36:37.634Z"
   },
   {
    "duration": 689,
    "start_time": "2022-02-06T15:36:38.371Z"
   },
   {
    "duration": 14,
    "start_time": "2022-02-06T15:36:39.064Z"
   },
   {
    "duration": 28,
    "start_time": "2022-02-06T15:36:39.082Z"
   },
   {
    "duration": 49,
    "start_time": "2022-02-06T15:36:39.113Z"
   },
   {
    "duration": 16,
    "start_time": "2022-02-06T15:36:39.165Z"
   },
   {
    "duration": 460,
    "start_time": "2022-02-06T15:36:39.184Z"
   },
   {
    "duration": 23,
    "start_time": "2022-02-06T15:37:57.217Z"
   },
   {
    "duration": 294,
    "start_time": "2022-02-06T15:38:05.228Z"
   },
   {
    "duration": 284,
    "start_time": "2022-02-06T15:39:05.998Z"
   },
   {
    "duration": 296,
    "start_time": "2022-02-06T15:39:34.102Z"
   },
   {
    "duration": 356,
    "start_time": "2022-02-06T15:39:44.306Z"
   },
   {
    "duration": 1416,
    "start_time": "2022-02-06T15:39:55.198Z"
   },
   {
    "duration": 244,
    "start_time": "2022-02-06T15:39:56.617Z"
   },
   {
    "duration": 632,
    "start_time": "2022-02-06T15:39:56.864Z"
   },
   {
    "duration": 136,
    "start_time": "2022-02-06T15:39:57.499Z"
   },
   {
    "duration": 194,
    "start_time": "2022-02-06T15:39:57.637Z"
   },
   {
    "duration": 393,
    "start_time": "2022-02-06T15:39:57.833Z"
   },
   {
    "duration": 105,
    "start_time": "2022-02-06T15:39:58.229Z"
   },
   {
    "duration": 137,
    "start_time": "2022-02-06T15:39:58.338Z"
   },
   {
    "duration": 415,
    "start_time": "2022-02-06T15:39:58.478Z"
   },
   {
    "duration": 153,
    "start_time": "2022-02-06T15:39:58.895Z"
   },
   {
    "duration": 32,
    "start_time": "2022-02-06T15:39:59.051Z"
   },
   {
    "duration": 71,
    "start_time": "2022-02-06T15:39:59.085Z"
   },
   {
    "duration": 7,
    "start_time": "2022-02-06T15:39:59.159Z"
   },
   {
    "duration": 88,
    "start_time": "2022-02-06T15:39:59.168Z"
   },
   {
    "duration": 31,
    "start_time": "2022-02-06T15:39:59.258Z"
   },
   {
    "duration": 10,
    "start_time": "2022-02-06T15:39:59.348Z"
   },
   {
    "duration": 578,
    "start_time": "2022-02-06T15:39:59.360Z"
   },
   {
    "duration": 19,
    "start_time": "2022-02-06T15:39:59.941Z"
   },
   {
    "duration": 934,
    "start_time": "2022-02-06T15:39:59.962Z"
   },
   {
    "duration": 201,
    "start_time": "2022-02-06T15:40:00.899Z"
   },
   {
    "duration": 615,
    "start_time": "2022-02-06T15:40:01.103Z"
   },
   {
    "duration": 850,
    "start_time": "2022-02-06T15:40:01.721Z"
   },
   {
    "duration": 21,
    "start_time": "2022-02-06T15:40:02.575Z"
   },
   {
    "duration": 53,
    "start_time": "2022-02-06T15:40:02.600Z"
   },
   {
    "duration": 21,
    "start_time": "2022-02-06T15:40:02.656Z"
   },
   {
    "duration": 35,
    "start_time": "2022-02-06T15:40:02.680Z"
   },
   {
    "duration": 1326,
    "start_time": "2022-02-06T15:40:02.718Z"
   },
   {
    "duration": 363,
    "start_time": "2022-02-06T15:40:17.792Z"
   },
   {
    "duration": 432,
    "start_time": "2022-02-06T15:40:48.377Z"
   },
   {
    "duration": 25,
    "start_time": "2022-02-06T15:41:09.142Z"
   },
   {
    "duration": 28,
    "start_time": "2022-02-06T15:41:23.314Z"
   },
   {
    "duration": 27,
    "start_time": "2022-02-06T15:41:36.912Z"
   },
   {
    "duration": 27,
    "start_time": "2022-02-06T15:42:00.217Z"
   },
   {
    "duration": 321,
    "start_time": "2022-02-06T15:42:08.173Z"
   },
   {
    "duration": 293,
    "start_time": "2022-02-06T15:42:50.506Z"
   },
   {
    "duration": 1430,
    "start_time": "2022-02-06T15:42:56.075Z"
   },
   {
    "duration": 330,
    "start_time": "2022-02-06T15:42:57.509Z"
   },
   {
    "duration": 553,
    "start_time": "2022-02-06T15:42:57.850Z"
   },
   {
    "duration": 137,
    "start_time": "2022-02-06T15:42:58.407Z"
   },
   {
    "duration": 181,
    "start_time": "2022-02-06T15:42:58.549Z"
   },
   {
    "duration": 418,
    "start_time": "2022-02-06T15:42:58.732Z"
   },
   {
    "duration": 104,
    "start_time": "2022-02-06T15:42:59.153Z"
   },
   {
    "duration": 128,
    "start_time": "2022-02-06T15:42:59.261Z"
   },
   {
    "duration": 275,
    "start_time": "2022-02-06T15:42:59.392Z"
   },
   {
    "duration": 51,
    "start_time": "2022-02-06T15:42:59.670Z"
   },
   {
    "duration": 41,
    "start_time": "2022-02-06T15:42:59.723Z"
   },
   {
    "duration": 24,
    "start_time": "2022-02-06T15:42:59.766Z"
   },
   {
    "duration": 10,
    "start_time": "2022-02-06T15:42:59.792Z"
   },
   {
    "duration": 60,
    "start_time": "2022-02-06T15:42:59.805Z"
   },
   {
    "duration": 30,
    "start_time": "2022-02-06T15:42:59.867Z"
   },
   {
    "duration": 9,
    "start_time": "2022-02-06T15:42:59.899Z"
   },
   {
    "duration": 559,
    "start_time": "2022-02-06T15:42:59.911Z"
   },
   {
    "duration": 17,
    "start_time": "2022-02-06T15:43:00.472Z"
   },
   {
    "duration": 1293,
    "start_time": "2022-02-06T15:43:00.491Z"
   },
   {
    "duration": 202,
    "start_time": "2022-02-06T15:43:01.787Z"
   },
   {
    "duration": 619,
    "start_time": "2022-02-06T15:43:01.991Z"
   },
   {
    "duration": 725,
    "start_time": "2022-02-06T15:43:02.612Z"
   },
   {
    "duration": 19,
    "start_time": "2022-02-06T15:43:03.341Z"
   },
   {
    "duration": 25,
    "start_time": "2022-02-06T15:43:03.363Z"
   },
   {
    "duration": 19,
    "start_time": "2022-02-06T15:43:03.390Z"
   },
   {
    "duration": 59,
    "start_time": "2022-02-06T15:43:03.412Z"
   },
   {
    "duration": 432,
    "start_time": "2022-02-06T15:43:03.474Z"
   },
   {
    "duration": 1438,
    "start_time": "2022-02-06T15:43:23.772Z"
   },
   {
    "duration": 240,
    "start_time": "2022-02-06T15:43:25.213Z"
   },
   {
    "duration": 586,
    "start_time": "2022-02-06T15:43:25.456Z"
   },
   {
    "duration": 136,
    "start_time": "2022-02-06T15:43:26.049Z"
   },
   {
    "duration": 200,
    "start_time": "2022-02-06T15:43:26.187Z"
   },
   {
    "duration": 465,
    "start_time": "2022-02-06T15:43:26.390Z"
   },
   {
    "duration": 113,
    "start_time": "2022-02-06T15:43:26.857Z"
   },
   {
    "duration": 142,
    "start_time": "2022-02-06T15:43:26.975Z"
   },
   {
    "duration": 949,
    "start_time": "2022-02-06T15:43:27.120Z"
   },
   {
    "duration": 84,
    "start_time": "2022-02-06T15:43:28.072Z"
   },
   {
    "duration": 34,
    "start_time": "2022-02-06T15:43:28.158Z"
   },
   {
    "duration": 28,
    "start_time": "2022-02-06T15:43:28.195Z"
   },
   {
    "duration": 23,
    "start_time": "2022-02-06T15:43:28.226Z"
   },
   {
    "duration": 48,
    "start_time": "2022-02-06T15:43:28.251Z"
   },
   {
    "duration": 31,
    "start_time": "2022-02-06T15:43:28.302Z"
   },
   {
    "duration": 19,
    "start_time": "2022-02-06T15:43:28.335Z"
   },
   {
    "duration": 516,
    "start_time": "2022-02-06T15:43:28.356Z"
   },
   {
    "duration": 17,
    "start_time": "2022-02-06T15:43:28.874Z"
   },
   {
    "duration": 884,
    "start_time": "2022-02-06T15:43:28.893Z"
   },
   {
    "duration": 197,
    "start_time": "2022-02-06T15:43:29.779Z"
   },
   {
    "duration": 592,
    "start_time": "2022-02-06T15:43:29.978Z"
   },
   {
    "duration": 715,
    "start_time": "2022-02-06T15:43:30.573Z"
   },
   {
    "duration": 15,
    "start_time": "2022-02-06T15:43:31.294Z"
   },
   {
    "duration": 47,
    "start_time": "2022-02-06T15:43:31.312Z"
   },
   {
    "duration": 19,
    "start_time": "2022-02-06T15:43:31.362Z"
   },
   {
    "duration": 26,
    "start_time": "2022-02-06T15:43:31.383Z"
   },
   {
    "duration": 61,
    "start_time": "2022-02-06T15:43:31.412Z"
   },
   {
    "duration": 29,
    "start_time": "2022-02-06T15:43:44.973Z"
   },
   {
    "duration": 1785,
    "start_time": "2022-02-06T15:44:02.074Z"
   },
   {
    "duration": 299,
    "start_time": "2022-02-06T15:44:03.862Z"
   },
   {
    "duration": 803,
    "start_time": "2022-02-06T15:44:04.164Z"
   },
   {
    "duration": 144,
    "start_time": "2022-02-06T15:44:04.971Z"
   },
   {
    "duration": 187,
    "start_time": "2022-02-06T15:44:05.118Z"
   },
   {
    "duration": 414,
    "start_time": "2022-02-06T15:44:05.308Z"
   },
   {
    "duration": 106,
    "start_time": "2022-02-06T15:44:05.725Z"
   },
   {
    "duration": 136,
    "start_time": "2022-02-06T15:44:05.835Z"
   },
   {
    "duration": 282,
    "start_time": "2022-02-06T15:44:05.975Z"
   },
   {
    "duration": 52,
    "start_time": "2022-02-06T15:44:06.260Z"
   },
   {
    "duration": 44,
    "start_time": "2022-02-06T15:44:06.315Z"
   },
   {
    "duration": 24,
    "start_time": "2022-02-06T15:44:06.362Z"
   },
   {
    "duration": 8,
    "start_time": "2022-02-06T15:44:06.388Z"
   },
   {
    "duration": 57,
    "start_time": "2022-02-06T15:44:06.399Z"
   },
   {
    "duration": 30,
    "start_time": "2022-02-06T15:44:06.458Z"
   },
   {
    "duration": 11,
    "start_time": "2022-02-06T15:44:06.491Z"
   },
   {
    "duration": 569,
    "start_time": "2022-02-06T15:44:06.504Z"
   },
   {
    "duration": 16,
    "start_time": "2022-02-06T15:44:07.076Z"
   },
   {
    "duration": 904,
    "start_time": "2022-02-06T15:44:07.095Z"
   },
   {
    "duration": 196,
    "start_time": "2022-02-06T15:44:08.002Z"
   },
   {
    "duration": 596,
    "start_time": "2022-02-06T15:44:08.201Z"
   },
   {
    "duration": 768,
    "start_time": "2022-02-06T15:44:08.800Z"
   },
   {
    "duration": 15,
    "start_time": "2022-02-06T15:44:09.574Z"
   },
   {
    "duration": 56,
    "start_time": "2022-02-06T15:44:09.593Z"
   },
   {
    "duration": 25,
    "start_time": "2022-02-06T15:44:09.653Z"
   },
   {
    "duration": 32,
    "start_time": "2022-02-06T15:44:09.681Z"
   },
   {
    "duration": 60,
    "start_time": "2022-02-06T15:44:09.716Z"
   },
   {
    "duration": 447,
    "start_time": "2022-02-06T15:44:48.335Z"
   },
   {
    "duration": 1568,
    "start_time": "2022-02-06T15:44:53.538Z"
   },
   {
    "duration": 244,
    "start_time": "2022-02-06T15:44:55.109Z"
   },
   {
    "duration": 602,
    "start_time": "2022-02-06T15:44:55.356Z"
   },
   {
    "duration": 148,
    "start_time": "2022-02-06T15:44:55.961Z"
   },
   {
    "duration": 193,
    "start_time": "2022-02-06T15:44:56.112Z"
   },
   {
    "duration": 420,
    "start_time": "2022-02-06T15:44:56.308Z"
   },
   {
    "duration": 102,
    "start_time": "2022-02-06T15:44:56.730Z"
   },
   {
    "duration": 129,
    "start_time": "2022-02-06T15:44:56.836Z"
   },
   {
    "duration": 316,
    "start_time": "2022-02-06T15:44:56.969Z"
   },
   {
    "duration": 68,
    "start_time": "2022-02-06T15:44:57.287Z"
   },
   {
    "duration": 33,
    "start_time": "2022-02-06T15:44:57.357Z"
   },
   {
    "duration": 24,
    "start_time": "2022-02-06T15:44:57.392Z"
   },
   {
    "duration": 34,
    "start_time": "2022-02-06T15:44:57.418Z"
   },
   {
    "duration": 49,
    "start_time": "2022-02-06T15:44:57.455Z"
   },
   {
    "duration": 33,
    "start_time": "2022-02-06T15:44:57.507Z"
   },
   {
    "duration": 9,
    "start_time": "2022-02-06T15:44:57.549Z"
   },
   {
    "duration": 508,
    "start_time": "2022-02-06T15:44:57.560Z"
   },
   {
    "duration": 17,
    "start_time": "2022-02-06T15:44:58.070Z"
   },
   {
    "duration": 903,
    "start_time": "2022-02-06T15:44:58.089Z"
   },
   {
    "duration": 191,
    "start_time": "2022-02-06T15:44:58.994Z"
   },
   {
    "duration": 580,
    "start_time": "2022-02-06T15:44:59.188Z"
   },
   {
    "duration": 708,
    "start_time": "2022-02-06T15:44:59.771Z"
   },
   {
    "duration": 15,
    "start_time": "2022-02-06T15:45:00.484Z"
   },
   {
    "duration": 49,
    "start_time": "2022-02-06T15:45:00.502Z"
   },
   {
    "duration": 20,
    "start_time": "2022-02-06T15:45:00.553Z"
   },
   {
    "duration": 29,
    "start_time": "2022-02-06T15:45:00.575Z"
   },
   {
    "duration": 62,
    "start_time": "2022-02-06T15:45:00.607Z"
   },
   {
    "duration": 462,
    "start_time": "2022-02-06T15:45:06.831Z"
   },
   {
    "duration": 402,
    "start_time": "2022-02-06T15:45:24.000Z"
   },
   {
    "duration": 1437,
    "start_time": "2022-02-06T15:45:28.660Z"
   },
   {
    "duration": 257,
    "start_time": "2022-02-06T15:45:30.100Z"
   },
   {
    "duration": 650,
    "start_time": "2022-02-06T15:45:30.360Z"
   },
   {
    "duration": 148,
    "start_time": "2022-02-06T15:45:31.014Z"
   },
   {
    "duration": 248,
    "start_time": "2022-02-06T15:45:31.165Z"
   },
   {
    "duration": 464,
    "start_time": "2022-02-06T15:45:31.416Z"
   },
   {
    "duration": 113,
    "start_time": "2022-02-06T15:45:31.882Z"
   },
   {
    "duration": 157,
    "start_time": "2022-02-06T15:45:31.999Z"
   },
   {
    "duration": 387,
    "start_time": "2022-02-06T15:45:32.159Z"
   },
   {
    "duration": 82,
    "start_time": "2022-02-06T15:45:32.549Z"
   },
   {
    "duration": 35,
    "start_time": "2022-02-06T15:45:32.650Z"
   },
   {
    "duration": 33,
    "start_time": "2022-02-06T15:45:32.689Z"
   },
   {
    "duration": 61,
    "start_time": "2022-02-06T15:45:32.726Z"
   },
   {
    "duration": 140,
    "start_time": "2022-02-06T15:45:32.796Z"
   },
   {
    "duration": 108,
    "start_time": "2022-02-06T15:45:32.939Z"
   },
   {
    "duration": 136,
    "start_time": "2022-02-06T15:45:33.055Z"
   },
   {
    "duration": 921,
    "start_time": "2022-02-06T15:45:33.195Z"
   },
   {
    "duration": 19,
    "start_time": "2022-02-06T15:45:34.119Z"
   },
   {
    "duration": 983,
    "start_time": "2022-02-06T15:45:34.141Z"
   },
   {
    "duration": 211,
    "start_time": "2022-02-06T15:45:35.127Z"
   },
   {
    "duration": 653,
    "start_time": "2022-02-06T15:45:35.341Z"
   },
   {
    "duration": 763,
    "start_time": "2022-02-06T15:45:35.996Z"
   },
   {
    "duration": 15,
    "start_time": "2022-02-06T15:45:36.764Z"
   },
   {
    "duration": 30,
    "start_time": "2022-02-06T15:45:36.782Z"
   },
   {
    "duration": 49,
    "start_time": "2022-02-06T15:45:36.814Z"
   },
   {
    "duration": 27,
    "start_time": "2022-02-06T15:45:36.866Z"
   },
   {
    "duration": 443,
    "start_time": "2022-02-06T15:45:36.895Z"
   },
   {
    "duration": 310,
    "start_time": "2022-02-06T15:48:37.700Z"
   },
   {
    "duration": 1448,
    "start_time": "2022-02-06T15:48:43.039Z"
   },
   {
    "duration": 227,
    "start_time": "2022-02-06T15:48:44.490Z"
   },
   {
    "duration": 522,
    "start_time": "2022-02-06T15:48:44.720Z"
   },
   {
    "duration": 128,
    "start_time": "2022-02-06T15:48:45.244Z"
   },
   {
    "duration": 191,
    "start_time": "2022-02-06T15:48:45.375Z"
   },
   {
    "duration": 394,
    "start_time": "2022-02-06T15:48:45.569Z"
   },
   {
    "duration": 133,
    "start_time": "2022-02-06T15:48:45.966Z"
   },
   {
    "duration": 151,
    "start_time": "2022-02-06T15:48:46.103Z"
   },
   {
    "duration": 283,
    "start_time": "2022-02-06T15:48:46.257Z"
   },
   {
    "duration": 59,
    "start_time": "2022-02-06T15:48:46.543Z"
   },
   {
    "duration": 33,
    "start_time": "2022-02-06T15:48:46.604Z"
   },
   {
    "duration": 24,
    "start_time": "2022-02-06T15:48:46.640Z"
   },
   {
    "duration": 10,
    "start_time": "2022-02-06T15:48:46.667Z"
   },
   {
    "duration": 55,
    "start_time": "2022-02-06T15:48:46.680Z"
   },
   {
    "duration": 33,
    "start_time": "2022-02-06T15:48:46.738Z"
   },
   {
    "duration": 9,
    "start_time": "2022-02-06T15:48:46.773Z"
   },
   {
    "duration": 683,
    "start_time": "2022-02-06T15:48:46.784Z"
   },
   {
    "duration": 19,
    "start_time": "2022-02-06T15:48:47.470Z"
   },
   {
    "duration": 1004,
    "start_time": "2022-02-06T15:48:47.492Z"
   },
   {
    "duration": 190,
    "start_time": "2022-02-06T15:48:48.499Z"
   },
   {
    "duration": 759,
    "start_time": "2022-02-06T15:48:48.691Z"
   },
   {
    "duration": 705,
    "start_time": "2022-02-06T15:48:49.452Z"
   },
   {
    "duration": 15,
    "start_time": "2022-02-06T15:48:50.161Z"
   },
   {
    "duration": 31,
    "start_time": "2022-02-06T15:48:50.178Z"
   },
   {
    "duration": 44,
    "start_time": "2022-02-06T15:48:50.211Z"
   },
   {
    "duration": 27,
    "start_time": "2022-02-06T15:48:50.258Z"
   },
   {
    "duration": 430,
    "start_time": "2022-02-06T15:48:50.287Z"
   },
   {
    "duration": 1451,
    "start_time": "2022-02-06T15:49:04.243Z"
   },
   {
    "duration": 237,
    "start_time": "2022-02-06T15:49:05.697Z"
   },
   {
    "duration": 604,
    "start_time": "2022-02-06T15:49:05.937Z"
   },
   {
    "duration": 138,
    "start_time": "2022-02-06T15:49:06.549Z"
   },
   {
    "duration": 188,
    "start_time": "2022-02-06T15:49:06.689Z"
   },
   {
    "duration": 446,
    "start_time": "2022-02-06T15:49:06.879Z"
   },
   {
    "duration": 113,
    "start_time": "2022-02-06T15:49:07.328Z"
   },
   {
    "duration": 142,
    "start_time": "2022-02-06T15:49:07.449Z"
   },
   {
    "duration": 308,
    "start_time": "2022-02-06T15:49:07.595Z"
   },
   {
    "duration": 75,
    "start_time": "2022-02-06T15:49:07.907Z"
   },
   {
    "duration": 35,
    "start_time": "2022-02-06T15:49:07.985Z"
   },
   {
    "duration": 42,
    "start_time": "2022-02-06T15:49:08.023Z"
   },
   {
    "duration": 28,
    "start_time": "2022-02-06T15:49:08.069Z"
   },
   {
    "duration": 52,
    "start_time": "2022-02-06T15:49:08.100Z"
   },
   {
    "duration": 35,
    "start_time": "2022-02-06T15:49:08.156Z"
   },
   {
    "duration": 9,
    "start_time": "2022-02-06T15:49:08.195Z"
   },
   {
    "duration": 587,
    "start_time": "2022-02-06T15:49:08.207Z"
   },
   {
    "duration": 16,
    "start_time": "2022-02-06T15:49:08.797Z"
   },
   {
    "duration": 947,
    "start_time": "2022-02-06T15:49:08.816Z"
   },
   {
    "duration": 191,
    "start_time": "2022-02-06T15:49:09.766Z"
   },
   {
    "duration": 633,
    "start_time": "2022-02-06T15:49:09.959Z"
   },
   {
    "duration": 767,
    "start_time": "2022-02-06T15:49:10.595Z"
   },
   {
    "duration": 15,
    "start_time": "2022-02-06T15:49:11.366Z"
   },
   {
    "duration": 37,
    "start_time": "2022-02-06T15:49:11.384Z"
   },
   {
    "duration": 44,
    "start_time": "2022-02-06T15:49:11.424Z"
   },
   {
    "duration": 31,
    "start_time": "2022-02-06T15:49:11.471Z"
   },
   {
    "duration": 68,
    "start_time": "2022-02-06T15:49:11.505Z"
   },
   {
    "duration": 18,
    "start_time": "2022-02-06T15:52:37.247Z"
   },
   {
    "duration": 1478,
    "start_time": "2022-02-06T15:52:43.283Z"
   },
   {
    "duration": 250,
    "start_time": "2022-02-06T15:52:44.764Z"
   },
   {
    "duration": 593,
    "start_time": "2022-02-06T15:52:45.017Z"
   },
   {
    "duration": 147,
    "start_time": "2022-02-06T15:52:45.613Z"
   },
   {
    "duration": 215,
    "start_time": "2022-02-06T15:52:45.763Z"
   },
   {
    "duration": 469,
    "start_time": "2022-02-06T15:52:45.980Z"
   },
   {
    "duration": 111,
    "start_time": "2022-02-06T15:52:46.452Z"
   },
   {
    "duration": 142,
    "start_time": "2022-02-06T15:52:46.566Z"
   },
   {
    "duration": 316,
    "start_time": "2022-02-06T15:52:46.711Z"
   },
   {
    "duration": 79,
    "start_time": "2022-02-06T15:52:47.029Z"
   },
   {
    "duration": 41,
    "start_time": "2022-02-06T15:52:47.111Z"
   },
   {
    "duration": 32,
    "start_time": "2022-02-06T15:52:47.155Z"
   },
   {
    "duration": 15,
    "start_time": "2022-02-06T15:52:47.190Z"
   },
   {
    "duration": 59,
    "start_time": "2022-02-06T15:52:47.208Z"
   },
   {
    "duration": 100,
    "start_time": "2022-02-06T15:52:47.269Z"
   },
   {
    "duration": 14,
    "start_time": "2022-02-06T15:52:47.372Z"
   },
   {
    "duration": 679,
    "start_time": "2022-02-06T15:52:47.389Z"
   },
   {
    "duration": 16,
    "start_time": "2022-02-06T15:52:48.071Z"
   },
   {
    "duration": 960,
    "start_time": "2022-02-06T15:52:48.089Z"
   },
   {
    "duration": 193,
    "start_time": "2022-02-06T15:52:49.051Z"
   },
   {
    "duration": 590,
    "start_time": "2022-02-06T15:52:49.249Z"
   },
   {
    "duration": 716,
    "start_time": "2022-02-06T15:52:49.842Z"
   },
   {
    "duration": 15,
    "start_time": "2022-02-06T15:52:50.562Z"
   },
   {
    "duration": 29,
    "start_time": "2022-02-06T15:52:50.580Z"
   },
   {
    "duration": 49,
    "start_time": "2022-02-06T15:52:50.611Z"
   },
   {
    "duration": 29,
    "start_time": "2022-02-06T15:52:50.663Z"
   },
   {
    "duration": 60,
    "start_time": "2022-02-06T15:52:50.695Z"
   },
   {
    "duration": 16,
    "start_time": "2022-02-06T15:52:50.758Z"
   },
   {
    "duration": 36,
    "start_time": "2022-02-06T15:53:07.107Z"
   },
   {
    "duration": 431,
    "start_time": "2022-02-06T15:54:05.803Z"
   },
   {
    "duration": 1710,
    "start_time": "2022-02-06T15:54:19.179Z"
   },
   {
    "duration": 305,
    "start_time": "2022-02-06T15:54:20.892Z"
   },
   {
    "duration": 616,
    "start_time": "2022-02-06T15:54:21.200Z"
   },
   {
    "duration": 142,
    "start_time": "2022-02-06T15:54:21.819Z"
   },
   {
    "duration": 242,
    "start_time": "2022-02-06T15:54:21.963Z"
   },
   {
    "duration": 511,
    "start_time": "2022-02-06T15:54:22.208Z"
   },
   {
    "duration": 113,
    "start_time": "2022-02-06T15:54:22.722Z"
   },
   {
    "duration": 132,
    "start_time": "2022-02-06T15:54:22.839Z"
   },
   {
    "duration": 279,
    "start_time": "2022-02-06T15:54:22.974Z"
   },
   {
    "duration": 54,
    "start_time": "2022-02-06T15:54:23.256Z"
   },
   {
    "duration": 42,
    "start_time": "2022-02-06T15:54:23.312Z"
   },
   {
    "duration": 23,
    "start_time": "2022-02-06T15:54:23.357Z"
   },
   {
    "duration": 8,
    "start_time": "2022-02-06T15:54:23.383Z"
   },
   {
    "duration": 68,
    "start_time": "2022-02-06T15:54:23.394Z"
   },
   {
    "duration": 30,
    "start_time": "2022-02-06T15:54:23.465Z"
   },
   {
    "duration": 8,
    "start_time": "2022-02-06T15:54:23.497Z"
   },
   {
    "duration": 543,
    "start_time": "2022-02-06T15:54:23.508Z"
   },
   {
    "duration": 16,
    "start_time": "2022-02-06T15:54:24.054Z"
   },
   {
    "duration": 918,
    "start_time": "2022-02-06T15:54:24.072Z"
   },
   {
    "duration": 202,
    "start_time": "2022-02-06T15:54:24.993Z"
   },
   {
    "duration": 603,
    "start_time": "2022-02-06T15:54:25.198Z"
   },
   {
    "duration": 738,
    "start_time": "2022-02-06T15:54:25.803Z"
   },
   {
    "duration": 16,
    "start_time": "2022-02-06T15:54:26.550Z"
   },
   {
    "duration": 29,
    "start_time": "2022-02-06T15:54:26.568Z"
   },
   {
    "duration": 50,
    "start_time": "2022-02-06T15:54:26.600Z"
   },
   {
    "duration": 26,
    "start_time": "2022-02-06T15:54:26.653Z"
   },
   {
    "duration": 42,
    "start_time": "2022-02-06T15:54:26.682Z"
   },
   {
    "duration": 38,
    "start_time": "2022-02-06T15:54:26.748Z"
   },
   {
    "duration": 1591,
    "start_time": "2022-02-06T15:54:48.095Z"
   },
   {
    "duration": 233,
    "start_time": "2022-02-06T15:54:49.689Z"
   },
   {
    "duration": 576,
    "start_time": "2022-02-06T15:54:49.926Z"
   },
   {
    "duration": 142,
    "start_time": "2022-02-06T15:54:50.505Z"
   },
   {
    "duration": 181,
    "start_time": "2022-02-06T15:54:50.650Z"
   },
   {
    "duration": 420,
    "start_time": "2022-02-06T15:54:50.833Z"
   },
   {
    "duration": 105,
    "start_time": "2022-02-06T15:54:51.256Z"
   },
   {
    "duration": 132,
    "start_time": "2022-02-06T15:54:51.365Z"
   },
   {
    "duration": 273,
    "start_time": "2022-02-06T15:54:51.500Z"
   },
   {
    "duration": 55,
    "start_time": "2022-02-06T15:54:51.776Z"
   },
   {
    "duration": 32,
    "start_time": "2022-02-06T15:54:51.850Z"
   },
   {
    "duration": 24,
    "start_time": "2022-02-06T15:54:51.884Z"
   },
   {
    "duration": 10,
    "start_time": "2022-02-06T15:54:51.911Z"
   },
   {
    "duration": 50,
    "start_time": "2022-02-06T15:54:51.948Z"
   },
   {
    "duration": 33,
    "start_time": "2022-02-06T15:54:52.001Z"
   },
   {
    "duration": 20,
    "start_time": "2022-02-06T15:54:52.037Z"
   },
   {
    "duration": 685,
    "start_time": "2022-02-06T15:54:52.061Z"
   },
   {
    "duration": 16,
    "start_time": "2022-02-06T15:54:52.748Z"
   },
   {
    "duration": 869,
    "start_time": "2022-02-06T15:54:52.766Z"
   },
   {
    "duration": 188,
    "start_time": "2022-02-06T15:54:53.637Z"
   },
   {
    "duration": 576,
    "start_time": "2022-02-06T15:54:53.827Z"
   },
   {
    "duration": 690,
    "start_time": "2022-02-06T15:54:54.405Z"
   },
   {
    "duration": 15,
    "start_time": "2022-02-06T15:54:55.101Z"
   },
   {
    "duration": 47,
    "start_time": "2022-02-06T15:54:55.118Z"
   },
   {
    "duration": 20,
    "start_time": "2022-02-06T15:54:55.167Z"
   },
   {
    "duration": 28,
    "start_time": "2022-02-06T15:54:55.189Z"
   },
   {
    "duration": 67,
    "start_time": "2022-02-06T15:54:55.219Z"
   },
   {
    "duration": 61,
    "start_time": "2022-02-06T15:54:55.289Z"
   },
   {
    "duration": 35,
    "start_time": "2022-02-06T15:58:13.111Z"
   },
   {
    "duration": 45,
    "start_time": "2022-02-06T15:58:29.235Z"
   },
   {
    "duration": 6592,
    "start_time": "2022-02-06T17:06:58.897Z"
   },
   {
    "duration": 1388,
    "start_time": "2022-02-06T17:08:17.123Z"
   },
   {
    "duration": 241,
    "start_time": "2022-02-06T17:08:18.513Z"
   },
   {
    "duration": 667,
    "start_time": "2022-02-06T17:08:18.757Z"
   },
   {
    "duration": 128,
    "start_time": "2022-02-06T17:08:19.427Z"
   },
   {
    "duration": 194,
    "start_time": "2022-02-06T17:08:19.557Z"
   },
   {
    "duration": 415,
    "start_time": "2022-02-06T17:08:19.754Z"
   },
   {
    "duration": 100,
    "start_time": "2022-02-06T17:08:20.172Z"
   },
   {
    "duration": 135,
    "start_time": "2022-02-06T17:08:20.276Z"
   },
   {
    "duration": 307,
    "start_time": "2022-02-06T17:08:20.414Z"
   },
   {
    "duration": 68,
    "start_time": "2022-02-06T17:08:20.723Z"
   },
   {
    "duration": 33,
    "start_time": "2022-02-06T17:08:20.794Z"
   },
   {
    "duration": 32,
    "start_time": "2022-02-06T17:08:20.829Z"
   },
   {
    "duration": 7,
    "start_time": "2022-02-06T17:08:20.864Z"
   },
   {
    "duration": 49,
    "start_time": "2022-02-06T17:08:20.873Z"
   },
   {
    "duration": 43,
    "start_time": "2022-02-06T17:08:20.925Z"
   },
   {
    "duration": 18,
    "start_time": "2022-02-06T17:08:20.971Z"
   },
   {
    "duration": 515,
    "start_time": "2022-02-06T17:08:20.992Z"
   },
   {
    "duration": 16,
    "start_time": "2022-02-06T17:08:21.509Z"
   },
   {
    "duration": 917,
    "start_time": "2022-02-06T17:08:21.527Z"
   },
   {
    "duration": 195,
    "start_time": "2022-02-06T17:08:22.449Z"
   },
   {
    "duration": 566,
    "start_time": "2022-02-06T17:08:22.648Z"
   },
   {
    "duration": 695,
    "start_time": "2022-02-06T17:08:23.216Z"
   },
   {
    "duration": 14,
    "start_time": "2022-02-06T17:08:23.916Z"
   },
   {
    "duration": 38,
    "start_time": "2022-02-06T17:08:23.933Z"
   },
   {
    "duration": 18,
    "start_time": "2022-02-06T17:08:23.974Z"
   },
   {
    "duration": 55,
    "start_time": "2022-02-06T17:08:23.995Z"
   },
   {
    "duration": 37,
    "start_time": "2022-02-06T17:08:24.052Z"
   },
   {
    "duration": 71,
    "start_time": "2022-02-06T17:08:24.092Z"
   },
   {
    "duration": 7792,
    "start_time": "2022-02-06T17:08:24.166Z"
   },
   {
    "duration": 100,
    "start_time": "2022-02-06T17:14:42.266Z"
   },
   {
    "duration": 96,
    "start_time": "2022-02-06T17:17:04.132Z"
   },
   {
    "duration": 100,
    "start_time": "2022-02-06T17:17:56.078Z"
   },
   {
    "duration": 96,
    "start_time": "2022-02-06T17:18:17.304Z"
   },
   {
    "duration": 1400,
    "start_time": "2022-02-06T17:18:23.906Z"
   },
   {
    "duration": 239,
    "start_time": "2022-02-06T17:18:25.309Z"
   },
   {
    "duration": 561,
    "start_time": "2022-02-06T17:18:25.551Z"
   },
   {
    "duration": 138,
    "start_time": "2022-02-06T17:18:26.114Z"
   },
   {
    "duration": 189,
    "start_time": "2022-02-06T17:18:26.254Z"
   },
   {
    "duration": 423,
    "start_time": "2022-02-06T17:18:26.449Z"
   },
   {
    "duration": 109,
    "start_time": "2022-02-06T17:18:26.874Z"
   },
   {
    "duration": 138,
    "start_time": "2022-02-06T17:18:26.987Z"
   },
   {
    "duration": 313,
    "start_time": "2022-02-06T17:18:27.128Z"
   },
   {
    "duration": 55,
    "start_time": "2022-02-06T17:18:27.448Z"
   },
   {
    "duration": 33,
    "start_time": "2022-02-06T17:18:27.505Z"
   },
   {
    "duration": 23,
    "start_time": "2022-02-06T17:18:27.549Z"
   },
   {
    "duration": 10,
    "start_time": "2022-02-06T17:18:27.575Z"
   },
   {
    "duration": 61,
    "start_time": "2022-02-06T17:18:27.587Z"
   },
   {
    "duration": 32,
    "start_time": "2022-02-06T17:18:27.651Z"
   },
   {
    "duration": 11,
    "start_time": "2022-02-06T17:18:27.685Z"
   },
   {
    "duration": 530,
    "start_time": "2022-02-06T17:18:27.699Z"
   },
   {
    "duration": 20,
    "start_time": "2022-02-06T17:18:28.231Z"
   },
   {
    "duration": 889,
    "start_time": "2022-02-06T17:18:28.253Z"
   },
   {
    "duration": 195,
    "start_time": "2022-02-06T17:18:29.148Z"
   },
   {
    "duration": 567,
    "start_time": "2022-02-06T17:18:29.348Z"
   },
   {
    "duration": 690,
    "start_time": "2022-02-06T17:18:29.918Z"
   },
   {
    "duration": 15,
    "start_time": "2022-02-06T17:18:30.612Z"
   },
   {
    "duration": 44,
    "start_time": "2022-02-06T17:18:30.630Z"
   },
   {
    "duration": 22,
    "start_time": "2022-02-06T17:18:30.677Z"
   },
   {
    "duration": 60,
    "start_time": "2022-02-06T17:18:30.702Z"
   },
   {
    "duration": 42,
    "start_time": "2022-02-06T17:18:30.765Z"
   },
   {
    "duration": 73,
    "start_time": "2022-02-06T17:18:30.810Z"
   },
   {
    "duration": 203,
    "start_time": "2022-02-06T17:18:30.885Z"
   },
   {
    "duration": 100,
    "start_time": "2022-02-06T17:20:44.246Z"
   },
   {
    "duration": 105,
    "start_time": "2022-02-06T17:20:57.886Z"
   },
   {
    "duration": 94,
    "start_time": "2022-02-06T17:21:38.135Z"
   },
   {
    "duration": 256,
    "start_time": "2022-02-06T17:21:54.682Z"
   },
   {
    "duration": 155,
    "start_time": "2022-02-06T17:22:03.115Z"
   },
   {
    "duration": 111,
    "start_time": "2022-02-06T17:22:23.478Z"
   },
   {
    "duration": 116,
    "start_time": "2022-02-06T17:22:32.265Z"
   },
   {
    "duration": 93,
    "start_time": "2022-02-06T17:23:12.925Z"
   },
   {
    "duration": 8,
    "start_time": "2022-02-06T17:23:42.001Z"
   },
   {
    "duration": 17,
    "start_time": "2022-02-06T17:24:29.801Z"
   },
   {
    "duration": 44,
    "start_time": "2022-02-06T17:24:39.540Z"
   },
   {
    "duration": 25,
    "start_time": "2022-02-06T17:24:54.172Z"
   },
   {
    "duration": 417,
    "start_time": "2022-02-06T17:27:39.404Z"
   },
   {
    "duration": 30,
    "start_time": "2022-02-06T17:27:51.280Z"
   },
   {
    "duration": 48,
    "start_time": "2022-02-06T17:27:58.542Z"
   },
   {
    "duration": 311,
    "start_time": "2022-02-06T17:30:47.478Z"
   },
   {
    "duration": 47,
    "start_time": "2022-02-06T17:32:05.828Z"
   },
   {
    "duration": 49,
    "start_time": "2022-02-06T17:32:48.732Z"
   },
   {
    "duration": 1673,
    "start_time": "2022-02-06T17:37:20.852Z"
   },
   {
    "duration": 242,
    "start_time": "2022-02-06T17:37:22.527Z"
   },
   {
    "duration": 572,
    "start_time": "2022-02-06T17:37:22.772Z"
   },
   {
    "duration": 139,
    "start_time": "2022-02-06T17:37:23.349Z"
   },
   {
    "duration": 203,
    "start_time": "2022-02-06T17:37:23.492Z"
   },
   {
    "duration": 430,
    "start_time": "2022-02-06T17:37:23.698Z"
   },
   {
    "duration": 118,
    "start_time": "2022-02-06T17:37:24.132Z"
   },
   {
    "duration": 145,
    "start_time": "2022-02-06T17:37:24.254Z"
   },
   {
    "duration": 278,
    "start_time": "2022-02-06T17:37:24.402Z"
   },
   {
    "duration": 71,
    "start_time": "2022-02-06T17:37:24.684Z"
   },
   {
    "duration": 33,
    "start_time": "2022-02-06T17:37:24.758Z"
   },
   {
    "duration": 26,
    "start_time": "2022-02-06T17:37:24.793Z"
   },
   {
    "duration": 29,
    "start_time": "2022-02-06T17:37:24.821Z"
   },
   {
    "duration": 51,
    "start_time": "2022-02-06T17:37:24.853Z"
   },
   {
    "duration": 42,
    "start_time": "2022-02-06T17:37:24.907Z"
   },
   {
    "duration": 12,
    "start_time": "2022-02-06T17:37:24.953Z"
   },
   {
    "duration": 532,
    "start_time": "2022-02-06T17:37:24.968Z"
   },
   {
    "duration": 16,
    "start_time": "2022-02-06T17:37:25.502Z"
   },
   {
    "duration": 101,
    "start_time": "2022-02-06T17:37:25.521Z"
   },
   {
    "duration": 130,
    "start_time": "2022-02-06T17:37:25.624Z"
   },
   {
    "duration": 75,
    "start_time": "2022-02-06T17:37:25.756Z"
   },
   {
    "duration": 80,
    "start_time": "2022-02-06T17:37:25.848Z"
   },
   {
    "duration": 26,
    "start_time": "2022-02-06T17:37:25.933Z"
   },
   {
    "duration": 47,
    "start_time": "2022-02-06T17:37:25.961Z"
   },
   {
    "duration": 18,
    "start_time": "2022-02-06T17:37:26.011Z"
   },
   {
    "duration": 28,
    "start_time": "2022-02-06T17:37:26.049Z"
   },
   {
    "duration": 36,
    "start_time": "2022-02-06T17:37:26.080Z"
   },
   {
    "duration": 67,
    "start_time": "2022-02-06T17:37:26.119Z"
   },
   {
    "duration": 87,
    "start_time": "2022-02-06T17:37:26.189Z"
   },
   {
    "duration": 386,
    "start_time": "2022-02-07T08:17:45.935Z"
   },
   {
    "duration": 322,
    "start_time": "2022-02-07T08:17:51.504Z"
   },
   {
    "duration": 1108,
    "start_time": "2022-02-07T08:18:01.603Z"
   },
   {
    "duration": 164,
    "start_time": "2022-02-07T08:18:02.713Z"
   },
   {
    "duration": 367,
    "start_time": "2022-02-07T08:18:02.881Z"
   },
   {
    "duration": 84,
    "start_time": "2022-02-07T08:18:03.250Z"
   },
   {
    "duration": 133,
    "start_time": "2022-02-07T08:18:03.335Z"
   },
   {
    "duration": 267,
    "start_time": "2022-02-07T08:18:03.471Z"
   },
   {
    "duration": 64,
    "start_time": "2022-02-07T08:18:03.740Z"
   },
   {
    "duration": 97,
    "start_time": "2022-02-07T08:18:03.806Z"
   },
   {
    "duration": 199,
    "start_time": "2022-02-07T08:18:03.905Z"
   },
   {
    "duration": 32,
    "start_time": "2022-02-07T08:18:04.106Z"
   },
   {
    "duration": 34,
    "start_time": "2022-02-07T08:18:04.140Z"
   },
   {
    "duration": 13,
    "start_time": "2022-02-07T08:18:04.175Z"
   },
   {
    "duration": 8,
    "start_time": "2022-02-07T08:18:04.189Z"
   },
   {
    "duration": 78,
    "start_time": "2022-02-07T08:18:04.199Z"
   },
   {
    "duration": 17,
    "start_time": "2022-02-07T08:18:04.278Z"
   },
   {
    "duration": 6,
    "start_time": "2022-02-07T08:18:04.297Z"
   },
   {
    "duration": 333,
    "start_time": "2022-02-07T08:18:04.305Z"
   },
   {
    "duration": 12,
    "start_time": "2022-02-07T08:18:04.639Z"
   },
   {
    "duration": 66,
    "start_time": "2022-02-07T08:18:04.653Z"
   },
   {
    "duration": 87,
    "start_time": "2022-02-07T08:18:04.722Z"
   },
   {
    "duration": 51,
    "start_time": "2022-02-07T08:18:04.811Z"
   },
   {
    "duration": 52,
    "start_time": "2022-02-07T08:18:04.873Z"
   },
   {
    "duration": 9,
    "start_time": "2022-02-07T08:18:04.927Z"
   },
   {
    "duration": 34,
    "start_time": "2022-02-07T08:18:04.937Z"
   },
   {
    "duration": 14,
    "start_time": "2022-02-07T08:18:04.973Z"
   },
   {
    "duration": 17,
    "start_time": "2022-02-07T08:18:04.989Z"
   },
   {
    "duration": 19,
    "start_time": "2022-02-07T08:18:05.007Z"
   },
   {
    "duration": 61,
    "start_time": "2022-02-07T08:18:05.028Z"
   },
   {
    "duration": 30,
    "start_time": "2022-02-07T08:18:05.091Z"
   },
   {
    "duration": 9,
    "start_time": "2022-02-07T08:18:05.123Z"
   },
   {
    "duration": 98,
    "start_time": "2022-02-07T08:18:05.133Z"
   },
   {
    "duration": 52,
    "start_time": "2022-02-07T08:20:21.530Z"
   },
   {
    "duration": 125,
    "start_time": "2022-02-07T08:26:01.793Z"
   },
   {
    "duration": 44,
    "start_time": "2022-02-07T08:26:10.606Z"
   },
   {
    "duration": 456,
    "start_time": "2022-02-07T09:27:54.383Z"
   },
   {
    "duration": 2884,
    "start_time": "2022-02-07T09:29:26.522Z"
   },
   {
    "duration": 271,
    "start_time": "2022-02-07T09:31:31.795Z"
   },
   {
    "duration": 559,
    "start_time": "2022-02-07T09:31:42.367Z"
   },
   {
    "duration": 349,
    "start_time": "2022-02-07T09:32:25.608Z"
   },
   {
    "duration": 387,
    "start_time": "2022-02-07T09:55:47.809Z"
   },
   {
    "duration": 115,
    "start_time": "2022-02-07T10:03:39.204Z"
   },
   {
    "duration": 333,
    "start_time": "2022-02-07T10:03:56.640Z"
   },
   {
    "duration": 361,
    "start_time": "2022-02-07T10:04:37.822Z"
   },
   {
    "duration": 1123,
    "start_time": "2022-02-07T10:04:48.992Z"
   },
   {
    "duration": 163,
    "start_time": "2022-02-07T10:04:50.117Z"
   },
   {
    "duration": 405,
    "start_time": "2022-02-07T10:04:50.284Z"
   },
   {
    "duration": 92,
    "start_time": "2022-02-07T10:04:50.691Z"
   },
   {
    "duration": 132,
    "start_time": "2022-02-07T10:04:50.784Z"
   },
   {
    "duration": 307,
    "start_time": "2022-02-07T10:04:50.917Z"
   },
   {
    "duration": 62,
    "start_time": "2022-02-07T10:04:51.227Z"
   },
   {
    "duration": 97,
    "start_time": "2022-02-07T10:04:51.291Z"
   },
   {
    "duration": 200,
    "start_time": "2022-02-07T10:04:51.390Z"
   },
   {
    "duration": 32,
    "start_time": "2022-02-07T10:04:51.592Z"
   },
   {
    "duration": 24,
    "start_time": "2022-02-07T10:04:51.625Z"
   },
   {
    "duration": 22,
    "start_time": "2022-02-07T10:04:51.650Z"
   },
   {
    "duration": 5,
    "start_time": "2022-02-07T10:04:51.673Z"
   },
   {
    "duration": 38,
    "start_time": "2022-02-07T10:04:51.679Z"
   },
   {
    "duration": 16,
    "start_time": "2022-02-07T10:04:51.719Z"
   },
   {
    "duration": 5,
    "start_time": "2022-02-07T10:04:51.737Z"
   },
   {
    "duration": 350,
    "start_time": "2022-02-07T10:04:51.743Z"
   },
   {
    "duration": 10,
    "start_time": "2022-02-07T10:04:52.095Z"
   },
   {
    "duration": 54,
    "start_time": "2022-02-07T10:04:52.106Z"
   },
   {
    "duration": 70,
    "start_time": "2022-02-07T10:04:52.171Z"
   },
   {
    "duration": 61,
    "start_time": "2022-02-07T10:04:52.242Z"
   },
   {
    "duration": 52,
    "start_time": "2022-02-07T10:04:52.306Z"
   },
   {
    "duration": 17,
    "start_time": "2022-02-07T10:04:52.360Z"
   },
   {
    "duration": 15,
    "start_time": "2022-02-07T10:04:52.379Z"
   },
   {
    "duration": 19,
    "start_time": "2022-02-07T10:04:52.395Z"
   },
   {
    "duration": 16,
    "start_time": "2022-02-07T10:04:52.415Z"
   },
   {
    "duration": 41,
    "start_time": "2022-02-07T10:04:52.432Z"
   },
   {
    "duration": 25,
    "start_time": "2022-02-07T10:04:52.474Z"
   },
   {
    "duration": 30,
    "start_time": "2022-02-07T10:04:52.500Z"
   },
   {
    "duration": 8,
    "start_time": "2022-02-07T10:04:52.532Z"
   },
   {
    "duration": 77,
    "start_time": "2022-02-07T10:04:52.542Z"
   },
   {
    "duration": 371,
    "start_time": "2022-02-07T10:04:52.621Z"
   },
   {
    "duration": 336,
    "start_time": "2022-02-07T10:04:52.994Z"
   },
   {
    "duration": 372,
    "start_time": "2022-02-07T10:04:53.332Z"
   },
   {
    "duration": 406,
    "start_time": "2022-02-07T10:04:53.705Z"
   },
   {
    "duration": 715,
    "start_time": "2022-02-07T10:04:53.398Z"
   },
   {
    "duration": 334,
    "start_time": "2022-02-07T10:11:02.957Z"
   },
   {
    "duration": 11,
    "start_time": "2022-02-07T10:12:29.439Z"
   },
   {
    "duration": 10,
    "start_time": "2022-02-07T10:13:16.244Z"
   },
   {
    "duration": 10,
    "start_time": "2022-02-07T10:15:31.916Z"
   },
   {
    "duration": 413,
    "start_time": "2022-02-07T10:16:14.585Z"
   },
   {
    "duration": 343,
    "start_time": "2022-02-07T10:16:57.172Z"
   },
   {
    "duration": 345,
    "start_time": "2022-02-07T11:51:09.770Z"
   },
   {
    "duration": 364,
    "start_time": "2022-02-07T11:51:50.574Z"
   },
   {
    "duration": 467,
    "start_time": "2022-02-07T12:00:21.448Z"
   },
   {
    "duration": 8,
    "start_time": "2022-02-07T12:00:56.666Z"
   },
   {
    "duration": 1080,
    "start_time": "2022-02-07T12:05:38.926Z"
   },
   {
    "duration": 163,
    "start_time": "2022-02-07T12:05:40.008Z"
   },
   {
    "duration": 407,
    "start_time": "2022-02-07T12:05:40.175Z"
   },
   {
    "duration": 96,
    "start_time": "2022-02-07T12:05:40.584Z"
   },
   {
    "duration": 135,
    "start_time": "2022-02-07T12:05:40.681Z"
   },
   {
    "duration": 294,
    "start_time": "2022-02-07T12:05:40.817Z"
   },
   {
    "duration": 59,
    "start_time": "2022-02-07T12:05:41.114Z"
   },
   {
    "duration": 98,
    "start_time": "2022-02-07T12:05:41.175Z"
   },
   {
    "duration": 184,
    "start_time": "2022-02-07T12:05:41.275Z"
   },
   {
    "duration": 41,
    "start_time": "2022-02-07T12:05:41.460Z"
   },
   {
    "duration": 24,
    "start_time": "2022-02-07T12:05:41.503Z"
   },
   {
    "duration": 45,
    "start_time": "2022-02-07T12:05:41.529Z"
   },
   {
    "duration": 14,
    "start_time": "2022-02-07T12:05:41.577Z"
   },
   {
    "duration": 70,
    "start_time": "2022-02-07T12:05:41.592Z"
   },
   {
    "duration": 27,
    "start_time": "2022-02-07T12:05:41.664Z"
   },
   {
    "duration": 6,
    "start_time": "2022-02-07T12:05:41.693Z"
   },
   {
    "duration": 363,
    "start_time": "2022-02-07T12:05:41.701Z"
   },
   {
    "duration": 12,
    "start_time": "2022-02-07T12:05:42.066Z"
   },
   {
    "duration": 55,
    "start_time": "2022-02-07T12:05:42.080Z"
   },
   {
    "duration": 91,
    "start_time": "2022-02-07T12:05:42.136Z"
   },
   {
    "duration": 53,
    "start_time": "2022-02-07T12:05:42.229Z"
   },
   {
    "duration": 55,
    "start_time": "2022-02-07T12:05:42.285Z"
   },
   {
    "duration": 10,
    "start_time": "2022-02-07T12:05:42.342Z"
   },
   {
    "duration": 16,
    "start_time": "2022-02-07T12:05:42.371Z"
   },
   {
    "duration": 12,
    "start_time": "2022-02-07T12:05:42.389Z"
   },
   {
    "duration": 16,
    "start_time": "2022-02-07T12:05:42.402Z"
   },
   {
    "duration": 18,
    "start_time": "2022-02-07T12:05:42.420Z"
   },
   {
    "duration": 55,
    "start_time": "2022-02-07T12:05:42.439Z"
   },
   {
    "duration": 28,
    "start_time": "2022-02-07T12:05:42.496Z"
   },
   {
    "duration": 8,
    "start_time": "2022-02-07T12:05:42.526Z"
   },
   {
    "duration": 10981,
    "start_time": "2022-02-07T12:05:42.535Z"
   },
   {
    "duration": 683,
    "start_time": "2022-02-07T12:05:52.835Z"
   },
   {
    "duration": 680,
    "start_time": "2022-02-07T12:05:52.839Z"
   },
   {
    "duration": 678,
    "start_time": "2022-02-07T12:05:52.842Z"
   },
   {
    "duration": 675,
    "start_time": "2022-02-07T12:05:52.845Z"
   },
   {
    "duration": 658,
    "start_time": "2022-02-07T12:05:52.863Z"
   },
   {
    "duration": 657,
    "start_time": "2022-02-07T12:05:52.865Z"
   },
   {
    "duration": 654,
    "start_time": "2022-02-07T12:05:52.869Z"
   },
   {
    "duration": 653,
    "start_time": "2022-02-07T12:05:52.871Z"
   },
   {
    "duration": 651,
    "start_time": "2022-02-07T12:05:52.874Z"
   },
   {
    "duration": 650,
    "start_time": "2022-02-07T12:05:52.876Z"
   },
   {
    "duration": 649,
    "start_time": "2022-02-07T12:05:52.878Z"
   },
   {
    "duration": 1244,
    "start_time": "2022-02-07T12:06:18.292Z"
   },
   {
    "duration": 162,
    "start_time": "2022-02-07T12:06:19.538Z"
   },
   {
    "duration": 428,
    "start_time": "2022-02-07T12:06:19.705Z"
   },
   {
    "duration": 88,
    "start_time": "2022-02-07T12:06:20.135Z"
   },
   {
    "duration": 133,
    "start_time": "2022-02-07T12:06:20.225Z"
   },
   {
    "duration": 283,
    "start_time": "2022-02-07T12:06:20.359Z"
   },
   {
    "duration": 62,
    "start_time": "2022-02-07T12:06:20.644Z"
   },
   {
    "duration": 101,
    "start_time": "2022-02-07T12:06:20.708Z"
   },
   {
    "duration": 219,
    "start_time": "2022-02-07T12:06:20.810Z"
   },
   {
    "duration": 46,
    "start_time": "2022-02-07T12:06:21.031Z"
   },
   {
    "duration": 24,
    "start_time": "2022-02-07T12:06:21.079Z"
   },
   {
    "duration": 14,
    "start_time": "2022-02-07T12:06:21.105Z"
   },
   {
    "duration": 5,
    "start_time": "2022-02-07T12:06:21.121Z"
   },
   {
    "duration": 48,
    "start_time": "2022-02-07T12:06:21.127Z"
   },
   {
    "duration": 26,
    "start_time": "2022-02-07T12:06:21.177Z"
   },
   {
    "duration": 6,
    "start_time": "2022-02-07T12:06:21.205Z"
   },
   {
    "duration": 462,
    "start_time": "2022-02-07T12:06:21.212Z"
   },
   {
    "duration": 11,
    "start_time": "2022-02-07T12:06:21.676Z"
   },
   {
    "duration": 107,
    "start_time": "2022-02-07T12:06:21.689Z"
   },
   {
    "duration": 119,
    "start_time": "2022-02-07T12:06:21.797Z"
   },
   {
    "duration": 156,
    "start_time": "2022-02-07T12:06:21.917Z"
   },
   {
    "duration": 105,
    "start_time": "2022-02-07T12:06:22.076Z"
   },
   {
    "duration": 9,
    "start_time": "2022-02-07T12:06:22.183Z"
   },
   {
    "duration": 19,
    "start_time": "2022-02-07T12:06:22.194Z"
   },
   {
    "duration": 12,
    "start_time": "2022-02-07T12:06:22.215Z"
   },
   {
    "duration": 53,
    "start_time": "2022-02-07T12:06:22.228Z"
   },
   {
    "duration": 19,
    "start_time": "2022-02-07T12:06:22.282Z"
   },
   {
    "duration": 25,
    "start_time": "2022-02-07T12:06:22.303Z"
   },
   {
    "duration": 57,
    "start_time": "2022-02-07T12:06:22.329Z"
   },
   {
    "duration": 9,
    "start_time": "2022-02-07T12:06:22.387Z"
   },
   {
    "duration": 8471,
    "start_time": "2022-02-07T12:06:22.397Z"
   },
   {
    "duration": 690,
    "start_time": "2022-02-07T12:06:30.180Z"
   },
   {
    "duration": 689,
    "start_time": "2022-02-07T12:06:30.182Z"
   },
   {
    "duration": 686,
    "start_time": "2022-02-07T12:06:30.186Z"
   },
   {
    "duration": 685,
    "start_time": "2022-02-07T12:06:30.188Z"
   },
   {
    "duration": 683,
    "start_time": "2022-02-07T12:06:30.191Z"
   },
   {
    "duration": 682,
    "start_time": "2022-02-07T12:06:30.193Z"
   },
   {
    "duration": 679,
    "start_time": "2022-02-07T12:06:30.197Z"
   },
   {
    "duration": 677,
    "start_time": "2022-02-07T12:06:30.200Z"
   },
   {
    "duration": 676,
    "start_time": "2022-02-07T12:06:30.202Z"
   },
   {
    "duration": 675,
    "start_time": "2022-02-07T12:06:30.204Z"
   },
   {
    "duration": 673,
    "start_time": "2022-02-07T12:06:30.207Z"
   },
   {
    "duration": 11,
    "start_time": "2022-02-07T12:06:53.025Z"
   },
   {
    "duration": 45,
    "start_time": "2022-02-07T12:06:59.336Z"
   },
   {
    "duration": 373,
    "start_time": "2022-02-07T12:07:02.969Z"
   },
   {
    "duration": 586,
    "start_time": "2022-02-07T12:07:05.177Z"
   },
   {
    "duration": 349,
    "start_time": "2022-02-07T12:07:07.177Z"
   },
   {
    "duration": 425,
    "start_time": "2022-02-07T12:07:09.850Z"
   },
   {
    "duration": 8,
    "start_time": "2022-02-07T12:07:12.651Z"
   },
   {
    "duration": 126,
    "start_time": "2022-02-07T12:07:14.986Z"
   },
   {
    "duration": 9,
    "start_time": "2022-02-07T12:42:19.204Z"
   },
   {
    "duration": 10,
    "start_time": "2022-02-07T13:01:30.607Z"
   },
   {
    "duration": 338,
    "start_time": "2022-02-07T13:01:32.271Z"
   },
   {
    "duration": 11,
    "start_time": "2022-02-07T13:03:07.483Z"
   },
   {
    "duration": 336,
    "start_time": "2022-02-07T13:03:09.378Z"
   },
   {
    "duration": 340,
    "start_time": "2022-02-07T13:03:45.441Z"
   },
   {
    "duration": 332,
    "start_time": "2022-02-07T13:04:07.441Z"
   },
   {
    "duration": 1874,
    "start_time": "2022-02-13T11:34:29.792Z"
   },
   {
    "duration": 354,
    "start_time": "2022-02-13T11:34:31.670Z"
   },
   {
    "duration": 788,
    "start_time": "2022-02-13T11:34:32.027Z"
   },
   {
    "duration": 142,
    "start_time": "2022-02-13T11:34:32.818Z"
   },
   {
    "duration": 207,
    "start_time": "2022-02-13T11:34:32.970Z"
   },
   {
    "duration": 453,
    "start_time": "2022-02-13T11:34:33.180Z"
   },
   {
    "duration": 112,
    "start_time": "2022-02-13T11:34:33.635Z"
   },
   {
    "duration": 144,
    "start_time": "2022-02-13T11:34:33.751Z"
   },
   {
    "duration": 329,
    "start_time": "2022-02-13T11:34:33.901Z"
   },
   {
    "duration": 71,
    "start_time": "2022-02-13T11:34:34.234Z"
   },
   {
    "duration": 26,
    "start_time": "2022-02-13T11:34:34.308Z"
   },
   {
    "duration": 43,
    "start_time": "2022-02-13T11:34:34.337Z"
   },
   {
    "duration": 14,
    "start_time": "2022-02-13T11:34:34.383Z"
   },
   {
    "duration": 45,
    "start_time": "2022-02-13T11:34:34.400Z"
   },
   {
    "duration": 49,
    "start_time": "2022-02-13T11:34:34.448Z"
   },
   {
    "duration": 13,
    "start_time": "2022-02-13T11:34:34.499Z"
   },
   {
    "duration": 594,
    "start_time": "2022-02-13T11:34:34.515Z"
   },
   {
    "duration": 17,
    "start_time": "2022-02-13T11:34:35.112Z"
   },
   {
    "duration": 147,
    "start_time": "2022-02-13T11:34:35.131Z"
   },
   {
    "duration": 169,
    "start_time": "2022-02-13T11:34:35.281Z"
   },
   {
    "duration": 85,
    "start_time": "2022-02-13T11:34:35.452Z"
   },
   {
    "duration": 87,
    "start_time": "2022-02-13T11:34:35.539Z"
   },
   {
    "duration": 14,
    "start_time": "2022-02-13T11:34:35.629Z"
   },
   {
    "duration": 36,
    "start_time": "2022-02-13T11:34:35.646Z"
   },
   {
    "duration": 21,
    "start_time": "2022-02-13T11:34:35.685Z"
   },
   {
    "duration": 27,
    "start_time": "2022-02-13T11:34:35.708Z"
   },
   {
    "duration": 42,
    "start_time": "2022-02-13T11:34:35.742Z"
   },
   {
    "duration": 41,
    "start_time": "2022-02-13T11:34:35.787Z"
   },
   {
    "duration": 64,
    "start_time": "2022-02-13T11:34:35.831Z"
   },
   {
    "duration": 14,
    "start_time": "2022-02-13T11:34:35.898Z"
   },
   {
    "duration": 15,
    "start_time": "2022-02-13T11:34:35.914Z"
   },
   {
    "duration": 95,
    "start_time": "2022-02-13T11:34:35.931Z"
   },
   {
    "duration": 957,
    "start_time": "2022-02-13T11:34:36.029Z"
   },
   {
    "duration": 1184,
    "start_time": "2022-02-13T11:34:36.989Z"
   },
   {
    "duration": 660,
    "start_time": "2022-02-13T11:34:38.176Z"
   },
   {
    "duration": 737,
    "start_time": "2022-02-13T11:34:38.839Z"
   },
   {
    "duration": 17,
    "start_time": "2022-02-13T11:34:39.579Z"
   },
   {
    "duration": 14,
    "start_time": "2022-02-13T11:34:39.599Z"
   },
   {
    "duration": 54,
    "start_time": "2022-02-13T11:34:39.616Z"
   },
   {
    "duration": 655,
    "start_time": "2022-02-13T11:34:39.672Z"
   },
   {
    "duration": 16,
    "start_time": "2022-02-13T11:34:40.329Z"
   },
   {
    "duration": 796,
    "start_time": "2022-02-13T11:34:40.348Z"
   },
   {
    "duration": 132,
    "start_time": "2022-02-13T12:08:12.877Z"
   },
   {
    "duration": 142,
    "start_time": "2022-02-13T12:09:53.526Z"
   }
  ],
  "kernelspec": {
   "display_name": "Python 3 (ipykernel)",
   "language": "python",
   "name": "python3"
  },
  "language_info": {
   "codemirror_mode": {
    "name": "ipython",
    "version": 3
   },
   "file_extension": ".py",
   "mimetype": "text/x-python",
   "name": "python",
   "nbconvert_exporter": "python",
   "pygments_lexer": "ipython3",
   "version": "3.9.5"
  },
  "toc": {
   "base_numbering": 1,
   "nav_menu": {},
   "number_sections": true,
   "sideBar": true,
   "skip_h1_title": true,
   "title_cell": "Table of Contents",
   "title_sidebar": "Contents",
   "toc_cell": false,
   "toc_position": {
    "height": "calc(100% - 180px)",
    "left": "10px",
    "top": "150px",
    "width": "370.347px"
   },
   "toc_section_display": true,
   "toc_window_display": true
  }
 },
 "nbformat": 4,
 "nbformat_minor": 2
}
