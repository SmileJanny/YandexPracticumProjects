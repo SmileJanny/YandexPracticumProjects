{
 "cells": [
  {
   "cell_type": "markdown",
   "metadata": {},
   "source": [
    "# Исследование объявлений о продаже квартир\n",
    "\n",
    "В вашем распоряжении данные сервиса Яндекс.Недвижимость — архив объявлений о продаже квартир в Санкт-Петербурге и соседних населённых пунктах за несколько лет. Нужно научиться определять рыночную стоимость объектов недвижимости. Ваша задача — установить параметры. Это позволит построить автоматизированную систему: она отследит аномалии и мошенническую деятельность. \n",
    "\n",
    "По каждой квартире на продажу доступны два вида данных. Первые вписаны пользователем, вторые получены автоматически на основе картографических данных. Например, расстояние до центра, аэропорта, ближайшего парка и водоёма. "
   ]
  },
  {
   "cell_type": "markdown",
   "metadata": {},
   "source": [
    "## Изучение данных из файла"
   ]
  },
  {
   "cell_type": "code",
   "execution_count": 1,
   "metadata": {},
   "outputs": [
    {
     "data": {
      "text/html": [
       "<div>\n",
       "<style scoped>\n",
       "    .dataframe tbody tr th:only-of-type {\n",
       "        vertical-align: middle;\n",
       "    }\n",
       "\n",
       "    .dataframe tbody tr th {\n",
       "        vertical-align: top;\n",
       "    }\n",
       "\n",
       "    .dataframe thead th {\n",
       "        text-align: right;\n",
       "    }\n",
       "</style>\n",
       "<table border=\"1\" class=\"dataframe\">\n",
       "  <thead>\n",
       "    <tr style=\"text-align: right;\">\n",
       "      <th></th>\n",
       "      <th>total_images</th>\n",
       "      <th>last_price</th>\n",
       "      <th>total_area</th>\n",
       "      <th>first_day_exposition</th>\n",
       "      <th>rooms</th>\n",
       "      <th>ceiling_height</th>\n",
       "      <th>floors_total</th>\n",
       "      <th>living_area</th>\n",
       "      <th>floor</th>\n",
       "      <th>is_apartment</th>\n",
       "      <th>...</th>\n",
       "      <th>kitchen_area</th>\n",
       "      <th>balcony</th>\n",
       "      <th>locality_name</th>\n",
       "      <th>airports_nearest</th>\n",
       "      <th>cityCenters_nearest</th>\n",
       "      <th>parks_around3000</th>\n",
       "      <th>parks_nearest</th>\n",
       "      <th>ponds_around3000</th>\n",
       "      <th>ponds_nearest</th>\n",
       "      <th>days_exposition</th>\n",
       "    </tr>\n",
       "  </thead>\n",
       "  <tbody>\n",
       "    <tr>\n",
       "      <td>0</td>\n",
       "      <td>20</td>\n",
       "      <td>13000000.0</td>\n",
       "      <td>108.00</td>\n",
       "      <td>2019-03-07T00:00:00</td>\n",
       "      <td>3</td>\n",
       "      <td>2.70</td>\n",
       "      <td>16.0</td>\n",
       "      <td>51.00</td>\n",
       "      <td>8</td>\n",
       "      <td>NaN</td>\n",
       "      <td>...</td>\n",
       "      <td>25.00</td>\n",
       "      <td>NaN</td>\n",
       "      <td>Санкт-Петербург</td>\n",
       "      <td>18863.0</td>\n",
       "      <td>16028.0</td>\n",
       "      <td>1.0</td>\n",
       "      <td>482.0</td>\n",
       "      <td>2.0</td>\n",
       "      <td>755.0</td>\n",
       "      <td>NaN</td>\n",
       "    </tr>\n",
       "    <tr>\n",
       "      <td>1</td>\n",
       "      <td>7</td>\n",
       "      <td>3350000.0</td>\n",
       "      <td>40.40</td>\n",
       "      <td>2018-12-04T00:00:00</td>\n",
       "      <td>1</td>\n",
       "      <td>NaN</td>\n",
       "      <td>11.0</td>\n",
       "      <td>18.60</td>\n",
       "      <td>1</td>\n",
       "      <td>NaN</td>\n",
       "      <td>...</td>\n",
       "      <td>11.00</td>\n",
       "      <td>2.0</td>\n",
       "      <td>посёлок Шушары</td>\n",
       "      <td>12817.0</td>\n",
       "      <td>18603.0</td>\n",
       "      <td>0.0</td>\n",
       "      <td>NaN</td>\n",
       "      <td>0.0</td>\n",
       "      <td>NaN</td>\n",
       "      <td>81.0</td>\n",
       "    </tr>\n",
       "    <tr>\n",
       "      <td>2</td>\n",
       "      <td>10</td>\n",
       "      <td>5196000.0</td>\n",
       "      <td>56.00</td>\n",
       "      <td>2015-08-20T00:00:00</td>\n",
       "      <td>2</td>\n",
       "      <td>NaN</td>\n",
       "      <td>5.0</td>\n",
       "      <td>34.30</td>\n",
       "      <td>4</td>\n",
       "      <td>NaN</td>\n",
       "      <td>...</td>\n",
       "      <td>8.30</td>\n",
       "      <td>0.0</td>\n",
       "      <td>Санкт-Петербург</td>\n",
       "      <td>21741.0</td>\n",
       "      <td>13933.0</td>\n",
       "      <td>1.0</td>\n",
       "      <td>90.0</td>\n",
       "      <td>2.0</td>\n",
       "      <td>574.0</td>\n",
       "      <td>558.0</td>\n",
       "    </tr>\n",
       "    <tr>\n",
       "      <td>3</td>\n",
       "      <td>0</td>\n",
       "      <td>64900000.0</td>\n",
       "      <td>159.00</td>\n",
       "      <td>2015-07-24T00:00:00</td>\n",
       "      <td>3</td>\n",
       "      <td>NaN</td>\n",
       "      <td>14.0</td>\n",
       "      <td>NaN</td>\n",
       "      <td>9</td>\n",
       "      <td>NaN</td>\n",
       "      <td>...</td>\n",
       "      <td>NaN</td>\n",
       "      <td>0.0</td>\n",
       "      <td>Санкт-Петербург</td>\n",
       "      <td>28098.0</td>\n",
       "      <td>6800.0</td>\n",
       "      <td>2.0</td>\n",
       "      <td>84.0</td>\n",
       "      <td>3.0</td>\n",
       "      <td>234.0</td>\n",
       "      <td>424.0</td>\n",
       "    </tr>\n",
       "    <tr>\n",
       "      <td>4</td>\n",
       "      <td>2</td>\n",
       "      <td>10000000.0</td>\n",
       "      <td>100.00</td>\n",
       "      <td>2018-06-19T00:00:00</td>\n",
       "      <td>2</td>\n",
       "      <td>3.03</td>\n",
       "      <td>14.0</td>\n",
       "      <td>32.00</td>\n",
       "      <td>13</td>\n",
       "      <td>NaN</td>\n",
       "      <td>...</td>\n",
       "      <td>41.00</td>\n",
       "      <td>NaN</td>\n",
       "      <td>Санкт-Петербург</td>\n",
       "      <td>31856.0</td>\n",
       "      <td>8098.0</td>\n",
       "      <td>2.0</td>\n",
       "      <td>112.0</td>\n",
       "      <td>1.0</td>\n",
       "      <td>48.0</td>\n",
       "      <td>121.0</td>\n",
       "    </tr>\n",
       "    <tr>\n",
       "      <td>5</td>\n",
       "      <td>10</td>\n",
       "      <td>2890000.0</td>\n",
       "      <td>30.40</td>\n",
       "      <td>2018-09-10T00:00:00</td>\n",
       "      <td>1</td>\n",
       "      <td>NaN</td>\n",
       "      <td>12.0</td>\n",
       "      <td>14.40</td>\n",
       "      <td>5</td>\n",
       "      <td>NaN</td>\n",
       "      <td>...</td>\n",
       "      <td>9.10</td>\n",
       "      <td>NaN</td>\n",
       "      <td>городской посёлок Янино-1</td>\n",
       "      <td>NaN</td>\n",
       "      <td>NaN</td>\n",
       "      <td>NaN</td>\n",
       "      <td>NaN</td>\n",
       "      <td>NaN</td>\n",
       "      <td>NaN</td>\n",
       "      <td>55.0</td>\n",
       "    </tr>\n",
       "    <tr>\n",
       "      <td>6</td>\n",
       "      <td>6</td>\n",
       "      <td>3700000.0</td>\n",
       "      <td>37.30</td>\n",
       "      <td>2017-11-02T00:00:00</td>\n",
       "      <td>1</td>\n",
       "      <td>NaN</td>\n",
       "      <td>26.0</td>\n",
       "      <td>10.60</td>\n",
       "      <td>6</td>\n",
       "      <td>NaN</td>\n",
       "      <td>...</td>\n",
       "      <td>14.40</td>\n",
       "      <td>1.0</td>\n",
       "      <td>посёлок Парголово</td>\n",
       "      <td>52996.0</td>\n",
       "      <td>19143.0</td>\n",
       "      <td>0.0</td>\n",
       "      <td>NaN</td>\n",
       "      <td>0.0</td>\n",
       "      <td>NaN</td>\n",
       "      <td>155.0</td>\n",
       "    </tr>\n",
       "    <tr>\n",
       "      <td>7</td>\n",
       "      <td>5</td>\n",
       "      <td>7915000.0</td>\n",
       "      <td>71.60</td>\n",
       "      <td>2019-04-18T00:00:00</td>\n",
       "      <td>2</td>\n",
       "      <td>NaN</td>\n",
       "      <td>24.0</td>\n",
       "      <td>NaN</td>\n",
       "      <td>22</td>\n",
       "      <td>NaN</td>\n",
       "      <td>...</td>\n",
       "      <td>18.90</td>\n",
       "      <td>2.0</td>\n",
       "      <td>Санкт-Петербург</td>\n",
       "      <td>23982.0</td>\n",
       "      <td>11634.0</td>\n",
       "      <td>0.0</td>\n",
       "      <td>NaN</td>\n",
       "      <td>0.0</td>\n",
       "      <td>NaN</td>\n",
       "      <td>NaN</td>\n",
       "    </tr>\n",
       "    <tr>\n",
       "      <td>8</td>\n",
       "      <td>20</td>\n",
       "      <td>2900000.0</td>\n",
       "      <td>33.16</td>\n",
       "      <td>2018-05-23T00:00:00</td>\n",
       "      <td>1</td>\n",
       "      <td>NaN</td>\n",
       "      <td>27.0</td>\n",
       "      <td>15.43</td>\n",
       "      <td>26</td>\n",
       "      <td>NaN</td>\n",
       "      <td>...</td>\n",
       "      <td>8.81</td>\n",
       "      <td>NaN</td>\n",
       "      <td>посёлок Мурино</td>\n",
       "      <td>NaN</td>\n",
       "      <td>NaN</td>\n",
       "      <td>NaN</td>\n",
       "      <td>NaN</td>\n",
       "      <td>NaN</td>\n",
       "      <td>NaN</td>\n",
       "      <td>189.0</td>\n",
       "    </tr>\n",
       "    <tr>\n",
       "      <td>9</td>\n",
       "      <td>18</td>\n",
       "      <td>5400000.0</td>\n",
       "      <td>61.00</td>\n",
       "      <td>2017-02-26T00:00:00</td>\n",
       "      <td>3</td>\n",
       "      <td>2.50</td>\n",
       "      <td>9.0</td>\n",
       "      <td>43.60</td>\n",
       "      <td>7</td>\n",
       "      <td>NaN</td>\n",
       "      <td>...</td>\n",
       "      <td>6.50</td>\n",
       "      <td>2.0</td>\n",
       "      <td>Санкт-Петербург</td>\n",
       "      <td>50898.0</td>\n",
       "      <td>15008.0</td>\n",
       "      <td>0.0</td>\n",
       "      <td>NaN</td>\n",
       "      <td>0.0</td>\n",
       "      <td>NaN</td>\n",
       "      <td>289.0</td>\n",
       "    </tr>\n",
       "    <tr>\n",
       "      <td>10</td>\n",
       "      <td>5</td>\n",
       "      <td>5050000.0</td>\n",
       "      <td>39.60</td>\n",
       "      <td>2017-11-16T00:00:00</td>\n",
       "      <td>1</td>\n",
       "      <td>2.67</td>\n",
       "      <td>12.0</td>\n",
       "      <td>20.30</td>\n",
       "      <td>3</td>\n",
       "      <td>NaN</td>\n",
       "      <td>...</td>\n",
       "      <td>8.50</td>\n",
       "      <td>NaN</td>\n",
       "      <td>Санкт-Петербург</td>\n",
       "      <td>38357.0</td>\n",
       "      <td>13878.0</td>\n",
       "      <td>1.0</td>\n",
       "      <td>310.0</td>\n",
       "      <td>2.0</td>\n",
       "      <td>553.0</td>\n",
       "      <td>137.0</td>\n",
       "    </tr>\n",
       "    <tr>\n",
       "      <td>11</td>\n",
       "      <td>9</td>\n",
       "      <td>3300000.0</td>\n",
       "      <td>44.00</td>\n",
       "      <td>2018-08-27T00:00:00</td>\n",
       "      <td>2</td>\n",
       "      <td>NaN</td>\n",
       "      <td>5.0</td>\n",
       "      <td>31.00</td>\n",
       "      <td>4</td>\n",
       "      <td>False</td>\n",
       "      <td>...</td>\n",
       "      <td>6.00</td>\n",
       "      <td>1.0</td>\n",
       "      <td>Ломоносов</td>\n",
       "      <td>48252.0</td>\n",
       "      <td>51677.0</td>\n",
       "      <td>0.0</td>\n",
       "      <td>NaN</td>\n",
       "      <td>0.0</td>\n",
       "      <td>NaN</td>\n",
       "      <td>7.0</td>\n",
       "    </tr>\n",
       "    <tr>\n",
       "      <td>12</td>\n",
       "      <td>10</td>\n",
       "      <td>3890000.0</td>\n",
       "      <td>54.00</td>\n",
       "      <td>2016-06-30T00:00:00</td>\n",
       "      <td>2</td>\n",
       "      <td>NaN</td>\n",
       "      <td>5.0</td>\n",
       "      <td>30.00</td>\n",
       "      <td>5</td>\n",
       "      <td>NaN</td>\n",
       "      <td>...</td>\n",
       "      <td>9.00</td>\n",
       "      <td>0.0</td>\n",
       "      <td>Сертолово</td>\n",
       "      <td>NaN</td>\n",
       "      <td>NaN</td>\n",
       "      <td>NaN</td>\n",
       "      <td>NaN</td>\n",
       "      <td>NaN</td>\n",
       "      <td>NaN</td>\n",
       "      <td>90.0</td>\n",
       "    </tr>\n",
       "    <tr>\n",
       "      <td>13</td>\n",
       "      <td>20</td>\n",
       "      <td>3550000.0</td>\n",
       "      <td>42.80</td>\n",
       "      <td>2017-07-01T00:00:00</td>\n",
       "      <td>2</td>\n",
       "      <td>2.56</td>\n",
       "      <td>5.0</td>\n",
       "      <td>27.00</td>\n",
       "      <td>5</td>\n",
       "      <td>NaN</td>\n",
       "      <td>...</td>\n",
       "      <td>5.20</td>\n",
       "      <td>1.0</td>\n",
       "      <td>Петергоф</td>\n",
       "      <td>37868.0</td>\n",
       "      <td>33058.0</td>\n",
       "      <td>1.0</td>\n",
       "      <td>294.0</td>\n",
       "      <td>3.0</td>\n",
       "      <td>298.0</td>\n",
       "      <td>366.0</td>\n",
       "    </tr>\n",
       "    <tr>\n",
       "      <td>14</td>\n",
       "      <td>1</td>\n",
       "      <td>4400000.0</td>\n",
       "      <td>36.00</td>\n",
       "      <td>2016-06-23T00:00:00</td>\n",
       "      <td>1</td>\n",
       "      <td>NaN</td>\n",
       "      <td>6.0</td>\n",
       "      <td>17.00</td>\n",
       "      <td>1</td>\n",
       "      <td>NaN</td>\n",
       "      <td>...</td>\n",
       "      <td>8.00</td>\n",
       "      <td>0.0</td>\n",
       "      <td>Пушкин</td>\n",
       "      <td>20782.0</td>\n",
       "      <td>30759.0</td>\n",
       "      <td>0.0</td>\n",
       "      <td>NaN</td>\n",
       "      <td>1.0</td>\n",
       "      <td>96.0</td>\n",
       "      <td>203.0</td>\n",
       "    </tr>\n",
       "    <tr>\n",
       "      <td>15</td>\n",
       "      <td>16</td>\n",
       "      <td>4650000.0</td>\n",
       "      <td>39.00</td>\n",
       "      <td>2017-11-18T00:00:00</td>\n",
       "      <td>1</td>\n",
       "      <td>NaN</td>\n",
       "      <td>14.0</td>\n",
       "      <td>20.50</td>\n",
       "      <td>5</td>\n",
       "      <td>NaN</td>\n",
       "      <td>...</td>\n",
       "      <td>7.60</td>\n",
       "      <td>1.0</td>\n",
       "      <td>Санкт-Петербург</td>\n",
       "      <td>12900.0</td>\n",
       "      <td>14259.0</td>\n",
       "      <td>1.0</td>\n",
       "      <td>590.0</td>\n",
       "      <td>1.0</td>\n",
       "      <td>296.0</td>\n",
       "      <td>19.0</td>\n",
       "    </tr>\n",
       "    <tr>\n",
       "      <td>16</td>\n",
       "      <td>11</td>\n",
       "      <td>6700000.0</td>\n",
       "      <td>82.00</td>\n",
       "      <td>2017-11-23T00:00:00</td>\n",
       "      <td>3</td>\n",
       "      <td>3.05</td>\n",
       "      <td>5.0</td>\n",
       "      <td>55.60</td>\n",
       "      <td>1</td>\n",
       "      <td>NaN</td>\n",
       "      <td>...</td>\n",
       "      <td>9.00</td>\n",
       "      <td>NaN</td>\n",
       "      <td>Санкт-Петербург</td>\n",
       "      <td>22108.0</td>\n",
       "      <td>10698.0</td>\n",
       "      <td>3.0</td>\n",
       "      <td>420.0</td>\n",
       "      <td>0.0</td>\n",
       "      <td>NaN</td>\n",
       "      <td>397.0</td>\n",
       "    </tr>\n",
       "    <tr>\n",
       "      <td>17</td>\n",
       "      <td>6</td>\n",
       "      <td>4180000.0</td>\n",
       "      <td>36.00</td>\n",
       "      <td>2016-09-09T00:00:00</td>\n",
       "      <td>1</td>\n",
       "      <td>NaN</td>\n",
       "      <td>17.0</td>\n",
       "      <td>16.50</td>\n",
       "      <td>7</td>\n",
       "      <td>NaN</td>\n",
       "      <td>...</td>\n",
       "      <td>11.00</td>\n",
       "      <td>1.0</td>\n",
       "      <td>Санкт-Петербург</td>\n",
       "      <td>33564.0</td>\n",
       "      <td>14616.0</td>\n",
       "      <td>0.0</td>\n",
       "      <td>NaN</td>\n",
       "      <td>1.0</td>\n",
       "      <td>859.0</td>\n",
       "      <td>571.0</td>\n",
       "    </tr>\n",
       "    <tr>\n",
       "      <td>18</td>\n",
       "      <td>8</td>\n",
       "      <td>3250000.0</td>\n",
       "      <td>31.00</td>\n",
       "      <td>2017-01-27T00:00:00</td>\n",
       "      <td>1</td>\n",
       "      <td>2.50</td>\n",
       "      <td>5.0</td>\n",
       "      <td>19.40</td>\n",
       "      <td>2</td>\n",
       "      <td>NaN</td>\n",
       "      <td>...</td>\n",
       "      <td>5.60</td>\n",
       "      <td>1.0</td>\n",
       "      <td>Санкт-Петербург</td>\n",
       "      <td>44060.0</td>\n",
       "      <td>10842.0</td>\n",
       "      <td>1.0</td>\n",
       "      <td>759.0</td>\n",
       "      <td>0.0</td>\n",
       "      <td>NaN</td>\n",
       "      <td>168.0</td>\n",
       "    </tr>\n",
       "    <tr>\n",
       "      <td>19</td>\n",
       "      <td>16</td>\n",
       "      <td>14200000.0</td>\n",
       "      <td>121.00</td>\n",
       "      <td>2019-01-09T00:00:00</td>\n",
       "      <td>3</td>\n",
       "      <td>2.75</td>\n",
       "      <td>16.0</td>\n",
       "      <td>76.00</td>\n",
       "      <td>8</td>\n",
       "      <td>NaN</td>\n",
       "      <td>...</td>\n",
       "      <td>12.00</td>\n",
       "      <td>NaN</td>\n",
       "      <td>Санкт-Петербург</td>\n",
       "      <td>38900.0</td>\n",
       "      <td>12843.0</td>\n",
       "      <td>0.0</td>\n",
       "      <td>NaN</td>\n",
       "      <td>0.0</td>\n",
       "      <td>NaN</td>\n",
       "      <td>97.0</td>\n",
       "    </tr>\n",
       "  </tbody>\n",
       "</table>\n",
       "<p>20 rows × 22 columns</p>\n",
       "</div>"
      ],
      "text/plain": [
       "    total_images  last_price  total_area first_day_exposition  rooms  \\\n",
       "0             20  13000000.0      108.00  2019-03-07T00:00:00      3   \n",
       "1              7   3350000.0       40.40  2018-12-04T00:00:00      1   \n",
       "2             10   5196000.0       56.00  2015-08-20T00:00:00      2   \n",
       "3              0  64900000.0      159.00  2015-07-24T00:00:00      3   \n",
       "4              2  10000000.0      100.00  2018-06-19T00:00:00      2   \n",
       "5             10   2890000.0       30.40  2018-09-10T00:00:00      1   \n",
       "6              6   3700000.0       37.30  2017-11-02T00:00:00      1   \n",
       "7              5   7915000.0       71.60  2019-04-18T00:00:00      2   \n",
       "8             20   2900000.0       33.16  2018-05-23T00:00:00      1   \n",
       "9             18   5400000.0       61.00  2017-02-26T00:00:00      3   \n",
       "10             5   5050000.0       39.60  2017-11-16T00:00:00      1   \n",
       "11             9   3300000.0       44.00  2018-08-27T00:00:00      2   \n",
       "12            10   3890000.0       54.00  2016-06-30T00:00:00      2   \n",
       "13            20   3550000.0       42.80  2017-07-01T00:00:00      2   \n",
       "14             1   4400000.0       36.00  2016-06-23T00:00:00      1   \n",
       "15            16   4650000.0       39.00  2017-11-18T00:00:00      1   \n",
       "16            11   6700000.0       82.00  2017-11-23T00:00:00      3   \n",
       "17             6   4180000.0       36.00  2016-09-09T00:00:00      1   \n",
       "18             8   3250000.0       31.00  2017-01-27T00:00:00      1   \n",
       "19            16  14200000.0      121.00  2019-01-09T00:00:00      3   \n",
       "\n",
       "    ceiling_height  floors_total  living_area  floor is_apartment  ...  \\\n",
       "0             2.70          16.0        51.00      8          NaN  ...   \n",
       "1              NaN          11.0        18.60      1          NaN  ...   \n",
       "2              NaN           5.0        34.30      4          NaN  ...   \n",
       "3              NaN          14.0          NaN      9          NaN  ...   \n",
       "4             3.03          14.0        32.00     13          NaN  ...   \n",
       "5              NaN          12.0        14.40      5          NaN  ...   \n",
       "6              NaN          26.0        10.60      6          NaN  ...   \n",
       "7              NaN          24.0          NaN     22          NaN  ...   \n",
       "8              NaN          27.0        15.43     26          NaN  ...   \n",
       "9             2.50           9.0        43.60      7          NaN  ...   \n",
       "10            2.67          12.0        20.30      3          NaN  ...   \n",
       "11             NaN           5.0        31.00      4        False  ...   \n",
       "12             NaN           5.0        30.00      5          NaN  ...   \n",
       "13            2.56           5.0        27.00      5          NaN  ...   \n",
       "14             NaN           6.0        17.00      1          NaN  ...   \n",
       "15             NaN          14.0        20.50      5          NaN  ...   \n",
       "16            3.05           5.0        55.60      1          NaN  ...   \n",
       "17             NaN          17.0        16.50      7          NaN  ...   \n",
       "18            2.50           5.0        19.40      2          NaN  ...   \n",
       "19            2.75          16.0        76.00      8          NaN  ...   \n",
       "\n",
       "    kitchen_area  balcony              locality_name  airports_nearest  \\\n",
       "0          25.00      NaN            Санкт-Петербург           18863.0   \n",
       "1          11.00      2.0             посёлок Шушары           12817.0   \n",
       "2           8.30      0.0            Санкт-Петербург           21741.0   \n",
       "3            NaN      0.0            Санкт-Петербург           28098.0   \n",
       "4          41.00      NaN            Санкт-Петербург           31856.0   \n",
       "5           9.10      NaN  городской посёлок Янино-1               NaN   \n",
       "6          14.40      1.0          посёлок Парголово           52996.0   \n",
       "7          18.90      2.0            Санкт-Петербург           23982.0   \n",
       "8           8.81      NaN             посёлок Мурино               NaN   \n",
       "9           6.50      2.0            Санкт-Петербург           50898.0   \n",
       "10          8.50      NaN            Санкт-Петербург           38357.0   \n",
       "11          6.00      1.0                  Ломоносов           48252.0   \n",
       "12          9.00      0.0                  Сертолово               NaN   \n",
       "13          5.20      1.0                   Петергоф           37868.0   \n",
       "14          8.00      0.0                     Пушкин           20782.0   \n",
       "15          7.60      1.0            Санкт-Петербург           12900.0   \n",
       "16          9.00      NaN            Санкт-Петербург           22108.0   \n",
       "17         11.00      1.0            Санкт-Петербург           33564.0   \n",
       "18          5.60      1.0            Санкт-Петербург           44060.0   \n",
       "19         12.00      NaN            Санкт-Петербург           38900.0   \n",
       "\n",
       "   cityCenters_nearest  parks_around3000  parks_nearest  ponds_around3000  \\\n",
       "0              16028.0               1.0          482.0               2.0   \n",
       "1              18603.0               0.0            NaN               0.0   \n",
       "2              13933.0               1.0           90.0               2.0   \n",
       "3               6800.0               2.0           84.0               3.0   \n",
       "4               8098.0               2.0          112.0               1.0   \n",
       "5                  NaN               NaN            NaN               NaN   \n",
       "6              19143.0               0.0            NaN               0.0   \n",
       "7              11634.0               0.0            NaN               0.0   \n",
       "8                  NaN               NaN            NaN               NaN   \n",
       "9              15008.0               0.0            NaN               0.0   \n",
       "10             13878.0               1.0          310.0               2.0   \n",
       "11             51677.0               0.0            NaN               0.0   \n",
       "12                 NaN               NaN            NaN               NaN   \n",
       "13             33058.0               1.0          294.0               3.0   \n",
       "14             30759.0               0.0            NaN               1.0   \n",
       "15             14259.0               1.0          590.0               1.0   \n",
       "16             10698.0               3.0          420.0               0.0   \n",
       "17             14616.0               0.0            NaN               1.0   \n",
       "18             10842.0               1.0          759.0               0.0   \n",
       "19             12843.0               0.0            NaN               0.0   \n",
       "\n",
       "    ponds_nearest  days_exposition  \n",
       "0           755.0              NaN  \n",
       "1             NaN             81.0  \n",
       "2           574.0            558.0  \n",
       "3           234.0            424.0  \n",
       "4            48.0            121.0  \n",
       "5             NaN             55.0  \n",
       "6             NaN            155.0  \n",
       "7             NaN              NaN  \n",
       "8             NaN            189.0  \n",
       "9             NaN            289.0  \n",
       "10          553.0            137.0  \n",
       "11            NaN              7.0  \n",
       "12            NaN             90.0  \n",
       "13          298.0            366.0  \n",
       "14           96.0            203.0  \n",
       "15          296.0             19.0  \n",
       "16            NaN            397.0  \n",
       "17          859.0            571.0  \n",
       "18            NaN            168.0  \n",
       "19            NaN             97.0  \n",
       "\n",
       "[20 rows x 22 columns]"
      ]
     },
     "metadata": {},
     "output_type": "display_data"
    },
    {
     "name": "stdout",
     "output_type": "stream",
     "text": [
      "<class 'pandas.core.frame.DataFrame'>\n",
      "RangeIndex: 23699 entries, 0 to 23698\n",
      "Data columns (total 22 columns):\n",
      "total_images            23699 non-null int64\n",
      "last_price              23699 non-null float64\n",
      "total_area              23699 non-null float64\n",
      "first_day_exposition    23699 non-null object\n",
      "rooms                   23699 non-null int64\n",
      "ceiling_height          14504 non-null float64\n",
      "floors_total            23613 non-null float64\n",
      "living_area             21796 non-null float64\n",
      "floor                   23699 non-null int64\n",
      "is_apartment            2775 non-null object\n",
      "studio                  23699 non-null bool\n",
      "open_plan               23699 non-null bool\n",
      "kitchen_area            21421 non-null float64\n",
      "balcony                 12180 non-null float64\n",
      "locality_name           23650 non-null object\n",
      "airports_nearest        18157 non-null float64\n",
      "cityCenters_nearest     18180 non-null float64\n",
      "parks_around3000        18181 non-null float64\n",
      "parks_nearest           8079 non-null float64\n",
      "ponds_around3000        18181 non-null float64\n",
      "ponds_nearest           9110 non-null float64\n",
      "days_exposition         20518 non-null float64\n",
      "dtypes: bool(2), float64(14), int64(3), object(3)\n",
      "memory usage: 3.7+ MB\n"
     ]
    }
   ],
   "source": [
    "#Импорт библиотек\n",
    "import pandas as pd\n",
    "import numpy as np\n",
    "import matplotlib.pyplot as plt\n",
    "import seaborn as sns\n",
    "#Чтение файла (при первом чтении файла данные показывались как один столбец, добавили разделитель)\n",
    "data = pd.read_csv('/datasets/real_estate_data.csv', sep='\\t')\n",
    "#Просмотр первых 20 строк файла\n",
    "display(data.head(20))\n",
    "#Просмотр общей информации о файле\n",
    "data.info()                                 "
   ]
  },
  {
   "cell_type": "code",
   "execution_count": 2,
   "metadata": {},
   "outputs": [
    {
     "data": {
      "text/html": [
       "<div>\n",
       "<style scoped>\n",
       "    .dataframe tbody tr th:only-of-type {\n",
       "        vertical-align: middle;\n",
       "    }\n",
       "\n",
       "    .dataframe tbody tr th {\n",
       "        vertical-align: top;\n",
       "    }\n",
       "\n",
       "    .dataframe thead th {\n",
       "        text-align: right;\n",
       "    }\n",
       "</style>\n",
       "<table border=\"1\" class=\"dataframe\">\n",
       "  <thead>\n",
       "    <tr style=\"text-align: right;\">\n",
       "      <th></th>\n",
       "      <th>total_images</th>\n",
       "      <th>last_price</th>\n",
       "      <th>total_area</th>\n",
       "      <th>first_day_exposition</th>\n",
       "      <th>rooms</th>\n",
       "      <th>ceiling_height</th>\n",
       "      <th>floors_total</th>\n",
       "      <th>living_area</th>\n",
       "      <th>floor</th>\n",
       "      <th>is_apartment</th>\n",
       "      <th>studio</th>\n",
       "      <th>open_plan</th>\n",
       "      <th>kitchen_area</th>\n",
       "      <th>balcony</th>\n",
       "      <th>locality_name</th>\n",
       "      <th>airports_nearest</th>\n",
       "      <th>cityCenters_nearest</th>\n",
       "      <th>parks_around3000</th>\n",
       "      <th>parks_nearest</th>\n",
       "      <th>ponds_around3000</th>\n",
       "      <th>ponds_nearest</th>\n",
       "      <th>days_exposition</th>\n",
       "    </tr>\n",
       "  </thead>\n",
       "  <tbody>\n",
       "    <tr>\n",
       "      <td>0</td>\n",
       "      <td>20</td>\n",
       "      <td>13000000.0</td>\n",
       "      <td>108.00</td>\n",
       "      <td>2019-03-07T00:00:00</td>\n",
       "      <td>3</td>\n",
       "      <td>2.70</td>\n",
       "      <td>16.0</td>\n",
       "      <td>51.00</td>\n",
       "      <td>8</td>\n",
       "      <td>NaN</td>\n",
       "      <td>False</td>\n",
       "      <td>False</td>\n",
       "      <td>25.00</td>\n",
       "      <td>NaN</td>\n",
       "      <td>Санкт-Петербург</td>\n",
       "      <td>18863.0</td>\n",
       "      <td>16028.0</td>\n",
       "      <td>1.0</td>\n",
       "      <td>482.0</td>\n",
       "      <td>2.0</td>\n",
       "      <td>755.0</td>\n",
       "      <td>NaN</td>\n",
       "    </tr>\n",
       "    <tr>\n",
       "      <td>1</td>\n",
       "      <td>7</td>\n",
       "      <td>3350000.0</td>\n",
       "      <td>40.40</td>\n",
       "      <td>2018-12-04T00:00:00</td>\n",
       "      <td>1</td>\n",
       "      <td>NaN</td>\n",
       "      <td>11.0</td>\n",
       "      <td>18.60</td>\n",
       "      <td>1</td>\n",
       "      <td>NaN</td>\n",
       "      <td>False</td>\n",
       "      <td>False</td>\n",
       "      <td>11.00</td>\n",
       "      <td>2.0</td>\n",
       "      <td>посёлок Шушары</td>\n",
       "      <td>12817.0</td>\n",
       "      <td>18603.0</td>\n",
       "      <td>0.0</td>\n",
       "      <td>NaN</td>\n",
       "      <td>0.0</td>\n",
       "      <td>NaN</td>\n",
       "      <td>81.0</td>\n",
       "    </tr>\n",
       "    <tr>\n",
       "      <td>2</td>\n",
       "      <td>10</td>\n",
       "      <td>5196000.0</td>\n",
       "      <td>56.00</td>\n",
       "      <td>2015-08-20T00:00:00</td>\n",
       "      <td>2</td>\n",
       "      <td>NaN</td>\n",
       "      <td>5.0</td>\n",
       "      <td>34.30</td>\n",
       "      <td>4</td>\n",
       "      <td>NaN</td>\n",
       "      <td>False</td>\n",
       "      <td>False</td>\n",
       "      <td>8.30</td>\n",
       "      <td>0.0</td>\n",
       "      <td>Санкт-Петербург</td>\n",
       "      <td>21741.0</td>\n",
       "      <td>13933.0</td>\n",
       "      <td>1.0</td>\n",
       "      <td>90.0</td>\n",
       "      <td>2.0</td>\n",
       "      <td>574.0</td>\n",
       "      <td>558.0</td>\n",
       "    </tr>\n",
       "    <tr>\n",
       "      <td>3</td>\n",
       "      <td>0</td>\n",
       "      <td>64900000.0</td>\n",
       "      <td>159.00</td>\n",
       "      <td>2015-07-24T00:00:00</td>\n",
       "      <td>3</td>\n",
       "      <td>NaN</td>\n",
       "      <td>14.0</td>\n",
       "      <td>NaN</td>\n",
       "      <td>9</td>\n",
       "      <td>NaN</td>\n",
       "      <td>False</td>\n",
       "      <td>False</td>\n",
       "      <td>NaN</td>\n",
       "      <td>0.0</td>\n",
       "      <td>Санкт-Петербург</td>\n",
       "      <td>28098.0</td>\n",
       "      <td>6800.0</td>\n",
       "      <td>2.0</td>\n",
       "      <td>84.0</td>\n",
       "      <td>3.0</td>\n",
       "      <td>234.0</td>\n",
       "      <td>424.0</td>\n",
       "    </tr>\n",
       "    <tr>\n",
       "      <td>4</td>\n",
       "      <td>2</td>\n",
       "      <td>10000000.0</td>\n",
       "      <td>100.00</td>\n",
       "      <td>2018-06-19T00:00:00</td>\n",
       "      <td>2</td>\n",
       "      <td>3.03</td>\n",
       "      <td>14.0</td>\n",
       "      <td>32.00</td>\n",
       "      <td>13</td>\n",
       "      <td>NaN</td>\n",
       "      <td>False</td>\n",
       "      <td>False</td>\n",
       "      <td>41.00</td>\n",
       "      <td>NaN</td>\n",
       "      <td>Санкт-Петербург</td>\n",
       "      <td>31856.0</td>\n",
       "      <td>8098.0</td>\n",
       "      <td>2.0</td>\n",
       "      <td>112.0</td>\n",
       "      <td>1.0</td>\n",
       "      <td>48.0</td>\n",
       "      <td>121.0</td>\n",
       "    </tr>\n",
       "    <tr>\n",
       "      <td>5</td>\n",
       "      <td>10</td>\n",
       "      <td>2890000.0</td>\n",
       "      <td>30.40</td>\n",
       "      <td>2018-09-10T00:00:00</td>\n",
       "      <td>1</td>\n",
       "      <td>NaN</td>\n",
       "      <td>12.0</td>\n",
       "      <td>14.40</td>\n",
       "      <td>5</td>\n",
       "      <td>NaN</td>\n",
       "      <td>False</td>\n",
       "      <td>False</td>\n",
       "      <td>9.10</td>\n",
       "      <td>NaN</td>\n",
       "      <td>городской посёлок Янино-1</td>\n",
       "      <td>NaN</td>\n",
       "      <td>NaN</td>\n",
       "      <td>NaN</td>\n",
       "      <td>NaN</td>\n",
       "      <td>NaN</td>\n",
       "      <td>NaN</td>\n",
       "      <td>55.0</td>\n",
       "    </tr>\n",
       "    <tr>\n",
       "      <td>6</td>\n",
       "      <td>6</td>\n",
       "      <td>3700000.0</td>\n",
       "      <td>37.30</td>\n",
       "      <td>2017-11-02T00:00:00</td>\n",
       "      <td>1</td>\n",
       "      <td>NaN</td>\n",
       "      <td>26.0</td>\n",
       "      <td>10.60</td>\n",
       "      <td>6</td>\n",
       "      <td>NaN</td>\n",
       "      <td>False</td>\n",
       "      <td>False</td>\n",
       "      <td>14.40</td>\n",
       "      <td>1.0</td>\n",
       "      <td>посёлок Парголово</td>\n",
       "      <td>52996.0</td>\n",
       "      <td>19143.0</td>\n",
       "      <td>0.0</td>\n",
       "      <td>NaN</td>\n",
       "      <td>0.0</td>\n",
       "      <td>NaN</td>\n",
       "      <td>155.0</td>\n",
       "    </tr>\n",
       "    <tr>\n",
       "      <td>7</td>\n",
       "      <td>5</td>\n",
       "      <td>7915000.0</td>\n",
       "      <td>71.60</td>\n",
       "      <td>2019-04-18T00:00:00</td>\n",
       "      <td>2</td>\n",
       "      <td>NaN</td>\n",
       "      <td>24.0</td>\n",
       "      <td>NaN</td>\n",
       "      <td>22</td>\n",
       "      <td>NaN</td>\n",
       "      <td>False</td>\n",
       "      <td>False</td>\n",
       "      <td>18.90</td>\n",
       "      <td>2.0</td>\n",
       "      <td>Санкт-Петербург</td>\n",
       "      <td>23982.0</td>\n",
       "      <td>11634.0</td>\n",
       "      <td>0.0</td>\n",
       "      <td>NaN</td>\n",
       "      <td>0.0</td>\n",
       "      <td>NaN</td>\n",
       "      <td>NaN</td>\n",
       "    </tr>\n",
       "    <tr>\n",
       "      <td>8</td>\n",
       "      <td>20</td>\n",
       "      <td>2900000.0</td>\n",
       "      <td>33.16</td>\n",
       "      <td>2018-05-23T00:00:00</td>\n",
       "      <td>1</td>\n",
       "      <td>NaN</td>\n",
       "      <td>27.0</td>\n",
       "      <td>15.43</td>\n",
       "      <td>26</td>\n",
       "      <td>NaN</td>\n",
       "      <td>False</td>\n",
       "      <td>False</td>\n",
       "      <td>8.81</td>\n",
       "      <td>NaN</td>\n",
       "      <td>посёлок Мурино</td>\n",
       "      <td>NaN</td>\n",
       "      <td>NaN</td>\n",
       "      <td>NaN</td>\n",
       "      <td>NaN</td>\n",
       "      <td>NaN</td>\n",
       "      <td>NaN</td>\n",
       "      <td>189.0</td>\n",
       "    </tr>\n",
       "    <tr>\n",
       "      <td>9</td>\n",
       "      <td>18</td>\n",
       "      <td>5400000.0</td>\n",
       "      <td>61.00</td>\n",
       "      <td>2017-02-26T00:00:00</td>\n",
       "      <td>3</td>\n",
       "      <td>2.50</td>\n",
       "      <td>9.0</td>\n",
       "      <td>43.60</td>\n",
       "      <td>7</td>\n",
       "      <td>NaN</td>\n",
       "      <td>False</td>\n",
       "      <td>False</td>\n",
       "      <td>6.50</td>\n",
       "      <td>2.0</td>\n",
       "      <td>Санкт-Петербург</td>\n",
       "      <td>50898.0</td>\n",
       "      <td>15008.0</td>\n",
       "      <td>0.0</td>\n",
       "      <td>NaN</td>\n",
       "      <td>0.0</td>\n",
       "      <td>NaN</td>\n",
       "      <td>289.0</td>\n",
       "    </tr>\n",
       "    <tr>\n",
       "      <td>10</td>\n",
       "      <td>5</td>\n",
       "      <td>5050000.0</td>\n",
       "      <td>39.60</td>\n",
       "      <td>2017-11-16T00:00:00</td>\n",
       "      <td>1</td>\n",
       "      <td>2.67</td>\n",
       "      <td>12.0</td>\n",
       "      <td>20.30</td>\n",
       "      <td>3</td>\n",
       "      <td>NaN</td>\n",
       "      <td>False</td>\n",
       "      <td>False</td>\n",
       "      <td>8.50</td>\n",
       "      <td>NaN</td>\n",
       "      <td>Санкт-Петербург</td>\n",
       "      <td>38357.0</td>\n",
       "      <td>13878.0</td>\n",
       "      <td>1.0</td>\n",
       "      <td>310.0</td>\n",
       "      <td>2.0</td>\n",
       "      <td>553.0</td>\n",
       "      <td>137.0</td>\n",
       "    </tr>\n",
       "    <tr>\n",
       "      <td>11</td>\n",
       "      <td>9</td>\n",
       "      <td>3300000.0</td>\n",
       "      <td>44.00</td>\n",
       "      <td>2018-08-27T00:00:00</td>\n",
       "      <td>2</td>\n",
       "      <td>NaN</td>\n",
       "      <td>5.0</td>\n",
       "      <td>31.00</td>\n",
       "      <td>4</td>\n",
       "      <td>False</td>\n",
       "      <td>False</td>\n",
       "      <td>False</td>\n",
       "      <td>6.00</td>\n",
       "      <td>1.0</td>\n",
       "      <td>Ломоносов</td>\n",
       "      <td>48252.0</td>\n",
       "      <td>51677.0</td>\n",
       "      <td>0.0</td>\n",
       "      <td>NaN</td>\n",
       "      <td>0.0</td>\n",
       "      <td>NaN</td>\n",
       "      <td>7.0</td>\n",
       "    </tr>\n",
       "    <tr>\n",
       "      <td>12</td>\n",
       "      <td>10</td>\n",
       "      <td>3890000.0</td>\n",
       "      <td>54.00</td>\n",
       "      <td>2016-06-30T00:00:00</td>\n",
       "      <td>2</td>\n",
       "      <td>NaN</td>\n",
       "      <td>5.0</td>\n",
       "      <td>30.00</td>\n",
       "      <td>5</td>\n",
       "      <td>NaN</td>\n",
       "      <td>False</td>\n",
       "      <td>False</td>\n",
       "      <td>9.00</td>\n",
       "      <td>0.0</td>\n",
       "      <td>Сертолово</td>\n",
       "      <td>NaN</td>\n",
       "      <td>NaN</td>\n",
       "      <td>NaN</td>\n",
       "      <td>NaN</td>\n",
       "      <td>NaN</td>\n",
       "      <td>NaN</td>\n",
       "      <td>90.0</td>\n",
       "    </tr>\n",
       "    <tr>\n",
       "      <td>13</td>\n",
       "      <td>20</td>\n",
       "      <td>3550000.0</td>\n",
       "      <td>42.80</td>\n",
       "      <td>2017-07-01T00:00:00</td>\n",
       "      <td>2</td>\n",
       "      <td>2.56</td>\n",
       "      <td>5.0</td>\n",
       "      <td>27.00</td>\n",
       "      <td>5</td>\n",
       "      <td>NaN</td>\n",
       "      <td>False</td>\n",
       "      <td>False</td>\n",
       "      <td>5.20</td>\n",
       "      <td>1.0</td>\n",
       "      <td>Петергоф</td>\n",
       "      <td>37868.0</td>\n",
       "      <td>33058.0</td>\n",
       "      <td>1.0</td>\n",
       "      <td>294.0</td>\n",
       "      <td>3.0</td>\n",
       "      <td>298.0</td>\n",
       "      <td>366.0</td>\n",
       "    </tr>\n",
       "    <tr>\n",
       "      <td>14</td>\n",
       "      <td>1</td>\n",
       "      <td>4400000.0</td>\n",
       "      <td>36.00</td>\n",
       "      <td>2016-06-23T00:00:00</td>\n",
       "      <td>1</td>\n",
       "      <td>NaN</td>\n",
       "      <td>6.0</td>\n",
       "      <td>17.00</td>\n",
       "      <td>1</td>\n",
       "      <td>NaN</td>\n",
       "      <td>False</td>\n",
       "      <td>False</td>\n",
       "      <td>8.00</td>\n",
       "      <td>0.0</td>\n",
       "      <td>Пушкин</td>\n",
       "      <td>20782.0</td>\n",
       "      <td>30759.0</td>\n",
       "      <td>0.0</td>\n",
       "      <td>NaN</td>\n",
       "      <td>1.0</td>\n",
       "      <td>96.0</td>\n",
       "      <td>203.0</td>\n",
       "    </tr>\n",
       "    <tr>\n",
       "      <td>15</td>\n",
       "      <td>16</td>\n",
       "      <td>4650000.0</td>\n",
       "      <td>39.00</td>\n",
       "      <td>2017-11-18T00:00:00</td>\n",
       "      <td>1</td>\n",
       "      <td>NaN</td>\n",
       "      <td>14.0</td>\n",
       "      <td>20.50</td>\n",
       "      <td>5</td>\n",
       "      <td>NaN</td>\n",
       "      <td>False</td>\n",
       "      <td>False</td>\n",
       "      <td>7.60</td>\n",
       "      <td>1.0</td>\n",
       "      <td>Санкт-Петербург</td>\n",
       "      <td>12900.0</td>\n",
       "      <td>14259.0</td>\n",
       "      <td>1.0</td>\n",
       "      <td>590.0</td>\n",
       "      <td>1.0</td>\n",
       "      <td>296.0</td>\n",
       "      <td>19.0</td>\n",
       "    </tr>\n",
       "    <tr>\n",
       "      <td>16</td>\n",
       "      <td>11</td>\n",
       "      <td>6700000.0</td>\n",
       "      <td>82.00</td>\n",
       "      <td>2017-11-23T00:00:00</td>\n",
       "      <td>3</td>\n",
       "      <td>3.05</td>\n",
       "      <td>5.0</td>\n",
       "      <td>55.60</td>\n",
       "      <td>1</td>\n",
       "      <td>NaN</td>\n",
       "      <td>False</td>\n",
       "      <td>False</td>\n",
       "      <td>9.00</td>\n",
       "      <td>NaN</td>\n",
       "      <td>Санкт-Петербург</td>\n",
       "      <td>22108.0</td>\n",
       "      <td>10698.0</td>\n",
       "      <td>3.0</td>\n",
       "      <td>420.0</td>\n",
       "      <td>0.0</td>\n",
       "      <td>NaN</td>\n",
       "      <td>397.0</td>\n",
       "    </tr>\n",
       "    <tr>\n",
       "      <td>17</td>\n",
       "      <td>6</td>\n",
       "      <td>4180000.0</td>\n",
       "      <td>36.00</td>\n",
       "      <td>2016-09-09T00:00:00</td>\n",
       "      <td>1</td>\n",
       "      <td>NaN</td>\n",
       "      <td>17.0</td>\n",
       "      <td>16.50</td>\n",
       "      <td>7</td>\n",
       "      <td>NaN</td>\n",
       "      <td>False</td>\n",
       "      <td>False</td>\n",
       "      <td>11.00</td>\n",
       "      <td>1.0</td>\n",
       "      <td>Санкт-Петербург</td>\n",
       "      <td>33564.0</td>\n",
       "      <td>14616.0</td>\n",
       "      <td>0.0</td>\n",
       "      <td>NaN</td>\n",
       "      <td>1.0</td>\n",
       "      <td>859.0</td>\n",
       "      <td>571.0</td>\n",
       "    </tr>\n",
       "    <tr>\n",
       "      <td>18</td>\n",
       "      <td>8</td>\n",
       "      <td>3250000.0</td>\n",
       "      <td>31.00</td>\n",
       "      <td>2017-01-27T00:00:00</td>\n",
       "      <td>1</td>\n",
       "      <td>2.50</td>\n",
       "      <td>5.0</td>\n",
       "      <td>19.40</td>\n",
       "      <td>2</td>\n",
       "      <td>NaN</td>\n",
       "      <td>False</td>\n",
       "      <td>False</td>\n",
       "      <td>5.60</td>\n",
       "      <td>1.0</td>\n",
       "      <td>Санкт-Петербург</td>\n",
       "      <td>44060.0</td>\n",
       "      <td>10842.0</td>\n",
       "      <td>1.0</td>\n",
       "      <td>759.0</td>\n",
       "      <td>0.0</td>\n",
       "      <td>NaN</td>\n",
       "      <td>168.0</td>\n",
       "    </tr>\n",
       "    <tr>\n",
       "      <td>19</td>\n",
       "      <td>16</td>\n",
       "      <td>14200000.0</td>\n",
       "      <td>121.00</td>\n",
       "      <td>2019-01-09T00:00:00</td>\n",
       "      <td>3</td>\n",
       "      <td>2.75</td>\n",
       "      <td>16.0</td>\n",
       "      <td>76.00</td>\n",
       "      <td>8</td>\n",
       "      <td>NaN</td>\n",
       "      <td>False</td>\n",
       "      <td>False</td>\n",
       "      <td>12.00</td>\n",
       "      <td>NaN</td>\n",
       "      <td>Санкт-Петербург</td>\n",
       "      <td>38900.0</td>\n",
       "      <td>12843.0</td>\n",
       "      <td>0.0</td>\n",
       "      <td>NaN</td>\n",
       "      <td>0.0</td>\n",
       "      <td>NaN</td>\n",
       "      <td>97.0</td>\n",
       "    </tr>\n",
       "  </tbody>\n",
       "</table>\n",
       "</div>"
      ],
      "text/plain": [
       "    total_images  last_price  total_area first_day_exposition  rooms  \\\n",
       "0             20  13000000.0      108.00  2019-03-07T00:00:00      3   \n",
       "1              7   3350000.0       40.40  2018-12-04T00:00:00      1   \n",
       "2             10   5196000.0       56.00  2015-08-20T00:00:00      2   \n",
       "3              0  64900000.0      159.00  2015-07-24T00:00:00      3   \n",
       "4              2  10000000.0      100.00  2018-06-19T00:00:00      2   \n",
       "5             10   2890000.0       30.40  2018-09-10T00:00:00      1   \n",
       "6              6   3700000.0       37.30  2017-11-02T00:00:00      1   \n",
       "7              5   7915000.0       71.60  2019-04-18T00:00:00      2   \n",
       "8             20   2900000.0       33.16  2018-05-23T00:00:00      1   \n",
       "9             18   5400000.0       61.00  2017-02-26T00:00:00      3   \n",
       "10             5   5050000.0       39.60  2017-11-16T00:00:00      1   \n",
       "11             9   3300000.0       44.00  2018-08-27T00:00:00      2   \n",
       "12            10   3890000.0       54.00  2016-06-30T00:00:00      2   \n",
       "13            20   3550000.0       42.80  2017-07-01T00:00:00      2   \n",
       "14             1   4400000.0       36.00  2016-06-23T00:00:00      1   \n",
       "15            16   4650000.0       39.00  2017-11-18T00:00:00      1   \n",
       "16            11   6700000.0       82.00  2017-11-23T00:00:00      3   \n",
       "17             6   4180000.0       36.00  2016-09-09T00:00:00      1   \n",
       "18             8   3250000.0       31.00  2017-01-27T00:00:00      1   \n",
       "19            16  14200000.0      121.00  2019-01-09T00:00:00      3   \n",
       "\n",
       "    ceiling_height  floors_total  living_area  floor is_apartment  studio  \\\n",
       "0             2.70          16.0        51.00      8          NaN   False   \n",
       "1              NaN          11.0        18.60      1          NaN   False   \n",
       "2              NaN           5.0        34.30      4          NaN   False   \n",
       "3              NaN          14.0          NaN      9          NaN   False   \n",
       "4             3.03          14.0        32.00     13          NaN   False   \n",
       "5              NaN          12.0        14.40      5          NaN   False   \n",
       "6              NaN          26.0        10.60      6          NaN   False   \n",
       "7              NaN          24.0          NaN     22          NaN   False   \n",
       "8              NaN          27.0        15.43     26          NaN   False   \n",
       "9             2.50           9.0        43.60      7          NaN   False   \n",
       "10            2.67          12.0        20.30      3          NaN   False   \n",
       "11             NaN           5.0        31.00      4        False   False   \n",
       "12             NaN           5.0        30.00      5          NaN   False   \n",
       "13            2.56           5.0        27.00      5          NaN   False   \n",
       "14             NaN           6.0        17.00      1          NaN   False   \n",
       "15             NaN          14.0        20.50      5          NaN   False   \n",
       "16            3.05           5.0        55.60      1          NaN   False   \n",
       "17             NaN          17.0        16.50      7          NaN   False   \n",
       "18            2.50           5.0        19.40      2          NaN   False   \n",
       "19            2.75          16.0        76.00      8          NaN   False   \n",
       "\n",
       "    open_plan  kitchen_area  balcony              locality_name  \\\n",
       "0       False         25.00      NaN            Санкт-Петербург   \n",
       "1       False         11.00      2.0             посёлок Шушары   \n",
       "2       False          8.30      0.0            Санкт-Петербург   \n",
       "3       False           NaN      0.0            Санкт-Петербург   \n",
       "4       False         41.00      NaN            Санкт-Петербург   \n",
       "5       False          9.10      NaN  городской посёлок Янино-1   \n",
       "6       False         14.40      1.0          посёлок Парголово   \n",
       "7       False         18.90      2.0            Санкт-Петербург   \n",
       "8       False          8.81      NaN             посёлок Мурино   \n",
       "9       False          6.50      2.0            Санкт-Петербург   \n",
       "10      False          8.50      NaN            Санкт-Петербург   \n",
       "11      False          6.00      1.0                  Ломоносов   \n",
       "12      False          9.00      0.0                  Сертолово   \n",
       "13      False          5.20      1.0                   Петергоф   \n",
       "14      False          8.00      0.0                     Пушкин   \n",
       "15      False          7.60      1.0            Санкт-Петербург   \n",
       "16      False          9.00      NaN            Санкт-Петербург   \n",
       "17      False         11.00      1.0            Санкт-Петербург   \n",
       "18      False          5.60      1.0            Санкт-Петербург   \n",
       "19      False         12.00      NaN            Санкт-Петербург   \n",
       "\n",
       "    airports_nearest  cityCenters_nearest  parks_around3000  parks_nearest  \\\n",
       "0            18863.0              16028.0               1.0          482.0   \n",
       "1            12817.0              18603.0               0.0            NaN   \n",
       "2            21741.0              13933.0               1.0           90.0   \n",
       "3            28098.0               6800.0               2.0           84.0   \n",
       "4            31856.0               8098.0               2.0          112.0   \n",
       "5                NaN                  NaN               NaN            NaN   \n",
       "6            52996.0              19143.0               0.0            NaN   \n",
       "7            23982.0              11634.0               0.0            NaN   \n",
       "8                NaN                  NaN               NaN            NaN   \n",
       "9            50898.0              15008.0               0.0            NaN   \n",
       "10           38357.0              13878.0               1.0          310.0   \n",
       "11           48252.0              51677.0               0.0            NaN   \n",
       "12               NaN                  NaN               NaN            NaN   \n",
       "13           37868.0              33058.0               1.0          294.0   \n",
       "14           20782.0              30759.0               0.0            NaN   \n",
       "15           12900.0              14259.0               1.0          590.0   \n",
       "16           22108.0              10698.0               3.0          420.0   \n",
       "17           33564.0              14616.0               0.0            NaN   \n",
       "18           44060.0              10842.0               1.0          759.0   \n",
       "19           38900.0              12843.0               0.0            NaN   \n",
       "\n",
       "    ponds_around3000  ponds_nearest  days_exposition  \n",
       "0                2.0          755.0              NaN  \n",
       "1                0.0            NaN             81.0  \n",
       "2                2.0          574.0            558.0  \n",
       "3                3.0          234.0            424.0  \n",
       "4                1.0           48.0            121.0  \n",
       "5                NaN            NaN             55.0  \n",
       "6                0.0            NaN            155.0  \n",
       "7                0.0            NaN              NaN  \n",
       "8                NaN            NaN            189.0  \n",
       "9                0.0            NaN            289.0  \n",
       "10               2.0          553.0            137.0  \n",
       "11               0.0            NaN              7.0  \n",
       "12               NaN            NaN             90.0  \n",
       "13               3.0          298.0            366.0  \n",
       "14               1.0           96.0            203.0  \n",
       "15               1.0          296.0             19.0  \n",
       "16               0.0            NaN            397.0  \n",
       "17               1.0          859.0            571.0  \n",
       "18               0.0            NaN            168.0  \n",
       "19               0.0            NaN             97.0  "
      ]
     },
     "metadata": {},
     "output_type": "display_data"
    }
   ],
   "source": [
    "#Поскольку видно не все колонки, применим метод set_option - pandas.set_option(pat, value)\n",
    "#pat - display.max_columns, \n",
    "#value=22. Так как максимально по умолчанию показывается 20 колонок,а у нас их 22 \n",
    "pd.set_option('display.max_columns', 22)\n",
    "display(data.head(20))"
   ]
  },
  {
   "cell_type": "code",
   "execution_count": 3,
   "metadata": {},
   "outputs": [],
   "source": [
    "pd.set_option('float_format', '{:f}'.format)"
   ]
  },
  {
   "cell_type": "markdown",
   "metadata": {},
   "source": [
    "Посмотрим на уникальные значения каждого столбца"
   ]
  },
  {
   "cell_type": "code",
   "execution_count": 4,
   "metadata": {},
   "outputs": [
    {
     "data": {
      "text/plain": [
       "0     1059\n",
       "1      872\n",
       "2      640\n",
       "3      769\n",
       "4      986\n",
       "5     1301\n",
       "6     1482\n",
       "7     1521\n",
       "8     1585\n",
       "9     1725\n",
       "10    1798\n",
       "11    1362\n",
       "12    1225\n",
       "13    1015\n",
       "14     986\n",
       "15     948\n",
       "16     761\n",
       "17     650\n",
       "18     642\n",
       "19     603\n",
       "20    1694\n",
       "21      12\n",
       "22       8\n",
       "23      16\n",
       "24       8\n",
       "25       1\n",
       "26       5\n",
       "27       2\n",
       "28       4\n",
       "29       3\n",
       "30       2\n",
       "31       2\n",
       "32       4\n",
       "35       2\n",
       "37       1\n",
       "39       1\n",
       "42       1\n",
       "50       3\n",
       "Name: total_images, dtype: int64"
      ]
     },
     "execution_count": 4,
     "metadata": {},
     "output_type": "execute_result"
    }
   ],
   "source": [
    "data['total_images'].value_counts().sort_index(ascending=True)"
   ]
  },
  {
   "cell_type": "code",
   "execution_count": 5,
   "metadata": {},
   "outputs": [
    {
     "data": {
      "text/plain": [
       "12190.000000        1\n",
       "430000.000000       2\n",
       "440000.000000       1\n",
       "450000.000000       4\n",
       "470000.000000       3\n",
       "                   ..\n",
       "300000000.000000    1\n",
       "330000000.000000    1\n",
       "401300000.000000    1\n",
       "420000000.000000    1\n",
       "763000000.000000    1\n",
       "Name: last_price, Length: 2978, dtype: int64"
      ]
     },
     "execution_count": 5,
     "metadata": {},
     "output_type": "execute_result"
    }
   ],
   "source": [
    "data['last_price'].value_counts().sort_index(ascending=True)"
   ]
  },
  {
   "cell_type": "code",
   "execution_count": 6,
   "metadata": {},
   "outputs": [
    {
     "data": {
      "text/plain": [
       "12.000000     1\n",
       "13.000000     3\n",
       "13.200000     1\n",
       "14.000000     1\n",
       "15.000000     2\n",
       "             ..\n",
       "590.000000    1\n",
       "618.000000    1\n",
       "631.000000    1\n",
       "631.200000    1\n",
       "900.000000    1\n",
       "Name: total_area, Length: 2182, dtype: int64"
      ]
     },
     "execution_count": 6,
     "metadata": {},
     "output_type": "execute_result"
    }
   ],
   "source": [
    "data['total_area'].value_counts().sort_index(ascending=True)"
   ]
  },
  {
   "cell_type": "code",
   "execution_count": 7,
   "metadata": {},
   "outputs": [
    {
     "data": {
      "text/plain": [
       "2014-11-27T00:00:00    19\n",
       "2014-11-29T00:00:00     1\n",
       "2014-12-04T00:00:00     2\n",
       "2014-12-05T00:00:00     1\n",
       "2014-12-08T00:00:00     8\n",
       "                       ..\n",
       "2019-04-29T00:00:00    37\n",
       "2019-04-30T00:00:00    27\n",
       "2019-05-01T00:00:00    30\n",
       "2019-05-02T00:00:00    11\n",
       "2019-05-03T00:00:00    20\n",
       "Name: first_day_exposition, Length: 1491, dtype: int64"
      ]
     },
     "execution_count": 7,
     "metadata": {},
     "output_type": "execute_result"
    }
   ],
   "source": [
    "data['first_day_exposition'].value_counts().sort_index(ascending=True)"
   ]
  },
  {
   "cell_type": "code",
   "execution_count": 8,
   "metadata": {},
   "outputs": [
    {
     "data": {
      "text/plain": [
       "0      197\n",
       "1     8047\n",
       "2     7940\n",
       "3     5814\n",
       "4     1180\n",
       "5      326\n",
       "6      105\n",
       "7       59\n",
       "8       12\n",
       "9        8\n",
       "10       3\n",
       "11       2\n",
       "12       1\n",
       "14       2\n",
       "15       1\n",
       "16       1\n",
       "19       1\n",
       "Name: rooms, dtype: int64"
      ]
     },
     "execution_count": 8,
     "metadata": {},
     "output_type": "execute_result"
    }
   ],
   "source": [
    "data['rooms'].value_counts().sort_index(ascending=True)"
   ]
  },
  {
   "cell_type": "code",
   "execution_count": 9,
   "metadata": {},
   "outputs": [
    {
     "data": {
      "text/plain": [
       "1.000000       1\n",
       "1.200000       1\n",
       "1.750000       1\n",
       "2.000000      11\n",
       "2.200000       1\n",
       "              ..\n",
       "26.000000      1\n",
       "27.000000      8\n",
       "27.500000      1\n",
       "32.000000      2\n",
       "100.000000     1\n",
       "Name: ceiling_height, Length: 183, dtype: int64"
      ]
     },
     "execution_count": 9,
     "metadata": {},
     "output_type": "execute_result"
    }
   ],
   "source": [
    "data['ceiling_height'].value_counts().sort_index(ascending=True)"
   ]
  },
  {
   "cell_type": "code",
   "execution_count": 10,
   "metadata": {},
   "outputs": [
    {
     "data": {
      "text/plain": [
       "1.000000       25\n",
       "2.000000      383\n",
       "3.000000      668\n",
       "4.000000     1200\n",
       "5.000000     5788\n",
       "6.000000      914\n",
       "7.000000      592\n",
       "8.000000      390\n",
       "9.000000     3761\n",
       "10.000000    1174\n",
       "11.000000     203\n",
       "12.000000    1362\n",
       "13.000000     229\n",
       "14.000000     553\n",
       "15.000000     365\n",
       "16.000000    1376\n",
       "17.000000     833\n",
       "18.000000     505\n",
       "19.000000     339\n",
       "20.000000     271\n",
       "21.000000     158\n",
       "22.000000     286\n",
       "23.000000     352\n",
       "24.000000     469\n",
       "25.000000    1075\n",
       "26.000000     124\n",
       "27.000000     164\n",
       "28.000000      21\n",
       "29.000000       1\n",
       "33.000000       1\n",
       "34.000000       1\n",
       "35.000000      24\n",
       "36.000000       3\n",
       "37.000000       1\n",
       "52.000000       1\n",
       "60.000000       1\n",
       "Name: floors_total, dtype: int64"
      ]
     },
     "execution_count": 10,
     "metadata": {},
     "output_type": "execute_result"
    }
   ],
   "source": [
    "data['floors_total'].value_counts().sort_index(ascending=True)"
   ]
  },
  {
   "cell_type": "code",
   "execution_count": 11,
   "metadata": {},
   "outputs": [
    {
     "data": {
      "text/plain": [
       "2.000000      2\n",
       "3.000000      2\n",
       "5.000000      1\n",
       "5.400000      1\n",
       "6.000000      1\n",
       "             ..\n",
       "322.300000    1\n",
       "332.000000    1\n",
       "347.500000    1\n",
       "409.000000    1\n",
       "409.700000    1\n",
       "Name: living_area, Length: 1782, dtype: int64"
      ]
     },
     "execution_count": 11,
     "metadata": {},
     "output_type": "execute_result"
    }
   ],
   "source": [
    "data['living_area'].value_counts().sort_index(ascending=True)"
   ]
  },
  {
   "cell_type": "code",
   "execution_count": 12,
   "metadata": {},
   "outputs": [
    {
     "data": {
      "text/plain": [
       "1     2917\n",
       "2     3368\n",
       "3     3073\n",
       "4     2804\n",
       "5     2621\n",
       "6     1305\n",
       "7     1218\n",
       "8     1083\n",
       "9     1051\n",
       "10     687\n",
       "11     523\n",
       "12     526\n",
       "13     379\n",
       "14     337\n",
       "15     343\n",
       "16     315\n",
       "17     227\n",
       "18     178\n",
       "19     147\n",
       "20     110\n",
       "21     125\n",
       "22     113\n",
       "23     100\n",
       "24      63\n",
       "25      46\n",
       "26      24\n",
       "27      10\n",
       "28       1\n",
       "29       1\n",
       "30       1\n",
       "31       1\n",
       "32       1\n",
       "33       1\n",
       "Name: floor, dtype: int64"
      ]
     },
     "execution_count": 12,
     "metadata": {},
     "output_type": "execute_result"
    }
   ],
   "source": [
    "data['floor'].value_counts().sort_index(ascending=True)"
   ]
  },
  {
   "cell_type": "code",
   "execution_count": 13,
   "metadata": {},
   "outputs": [
    {
     "data": {
      "text/plain": [
       "False    2725\n",
       "True       50\n",
       "Name: is_apartment, dtype: int64"
      ]
     },
     "execution_count": 13,
     "metadata": {},
     "output_type": "execute_result"
    }
   ],
   "source": [
    "data['is_apartment'].value_counts().sort_index(ascending=True)"
   ]
  },
  {
   "cell_type": "code",
   "execution_count": 14,
   "metadata": {},
   "outputs": [
    {
     "data": {
      "text/plain": [
       "False    23550\n",
       "True       149\n",
       "Name: studio, dtype: int64"
      ]
     },
     "execution_count": 14,
     "metadata": {},
     "output_type": "execute_result"
    }
   ],
   "source": [
    "data['studio'].value_counts().sort_index(ascending=True)"
   ]
  },
  {
   "cell_type": "code",
   "execution_count": 15,
   "metadata": {},
   "outputs": [
    {
     "data": {
      "text/plain": [
       "False    23632\n",
       "True        67\n",
       "Name: open_plan, dtype: int64"
      ]
     },
     "execution_count": 15,
     "metadata": {},
     "output_type": "execute_result"
    }
   ],
   "source": [
    "data['open_plan'].value_counts().sort_index(ascending=True)"
   ]
  },
  {
   "cell_type": "code",
   "execution_count": 16,
   "metadata": {},
   "outputs": [
    {
     "data": {
      "text/plain": [
       "1.300000      1\n",
       "2.000000      7\n",
       "2.300000      1\n",
       "2.400000      1\n",
       "2.890000      1\n",
       "             ..\n",
       "93.200000     1\n",
       "100.000000    1\n",
       "100.700000    1\n",
       "107.000000    1\n",
       "112.000000    1\n",
       "Name: kitchen_area, Length: 971, dtype: int64"
      ]
     },
     "execution_count": 16,
     "metadata": {},
     "output_type": "execute_result"
    }
   ],
   "source": [
    "data['kitchen_area'].value_counts().sort_index(ascending=True)"
   ]
  },
  {
   "cell_type": "code",
   "execution_count": 17,
   "metadata": {},
   "outputs": [
    {
     "data": {
      "text/plain": [
       "0.000000    3758\n",
       "1.000000    4195\n",
       "2.000000    3659\n",
       "3.000000      81\n",
       "4.000000     183\n",
       "5.000000     304\n",
       "Name: balcony, dtype: int64"
      ]
     },
     "execution_count": 17,
     "metadata": {},
     "output_type": "execute_result"
    }
   ],
   "source": [
    "data['balcony'].value_counts().sort_index(ascending=True)"
   ]
  },
  {
   "cell_type": "code",
   "execution_count": 18,
   "metadata": {},
   "outputs": [
    {
     "data": {
      "text/plain": [
       "Бокситогорск             16\n",
       "Волосово                 36\n",
       "Волхов                  111\n",
       "Всеволожск              398\n",
       "Выборг                  237\n",
       "                       ... \n",
       "село Путилово             2\n",
       "село Рождествено          3\n",
       "село Русско-Высоцкое      9\n",
       "село Старая Ладога        2\n",
       "село Шум                  1\n",
       "Name: locality_name, Length: 364, dtype: int64"
      ]
     },
     "execution_count": 18,
     "metadata": {},
     "output_type": "execute_result"
    }
   ],
   "source": [
    "data['locality_name'].value_counts().sort_index(ascending=True)"
   ]
  },
  {
   "cell_type": "code",
   "execution_count": 19,
   "metadata": {},
   "outputs": [
    {
     "data": {
      "text/plain": [
       "0.000000        1\n",
       "6450.000000     2\n",
       "6914.000000     1\n",
       "6949.000000     1\n",
       "6989.000000     6\n",
       "               ..\n",
       "83758.000000    1\n",
       "84006.000000    1\n",
       "84665.000000    1\n",
       "84853.000000    1\n",
       "84869.000000    1\n",
       "Name: airports_nearest, Length: 8275, dtype: int64"
      ]
     },
     "execution_count": 19,
     "metadata": {},
     "output_type": "execute_result"
    }
   ],
   "source": [
    "data['airports_nearest'].value_counts().sort_index(ascending=True)"
   ]
  },
  {
   "cell_type": "code",
   "execution_count": 20,
   "metadata": {},
   "outputs": [
    {
     "data": {
      "text/plain": [
       "181.000000      1\n",
       "208.000000      1\n",
       "215.000000      1\n",
       "287.000000      1\n",
       "291.000000      1\n",
       "               ..\n",
       "64857.000000    1\n",
       "65105.000000    1\n",
       "65764.000000    1\n",
       "65952.000000    1\n",
       "65968.000000    1\n",
       "Name: cityCenters_nearest, Length: 7642, dtype: int64"
      ]
     },
     "execution_count": 20,
     "metadata": {},
     "output_type": "execute_result"
    }
   ],
   "source": [
    "data['cityCenters_nearest'].value_counts().sort_index(ascending=True)"
   ]
  },
  {
   "cell_type": "code",
   "execution_count": 21,
   "metadata": {},
   "outputs": [
    {
     "data": {
      "text/plain": [
       "0.000000    10106\n",
       "1.000000     5681\n",
       "2.000000     1747\n",
       "3.000000      647\n",
       "Name: parks_around3000, dtype: int64"
      ]
     },
     "execution_count": 21,
     "metadata": {},
     "output_type": "execute_result"
    }
   ],
   "source": [
    "data['parks_around3000'].value_counts().sort_index(ascending=True)"
   ]
  },
  {
   "cell_type": "code",
   "execution_count": 22,
   "metadata": {},
   "outputs": [
    {
     "data": {
      "text/plain": [
       "1.000000       1\n",
       "3.000000       1\n",
       "4.000000       1\n",
       "7.000000       1\n",
       "9.000000       2\n",
       "              ..\n",
       "2905.000000    1\n",
       "2984.000000    1\n",
       "3013.000000    1\n",
       "3064.000000    1\n",
       "3190.000000    2\n",
       "Name: parks_nearest, Length: 995, dtype: int64"
      ]
     },
     "execution_count": 22,
     "metadata": {},
     "output_type": "execute_result"
    }
   ],
   "source": [
    "data['parks_nearest'].value_counts().sort_index(ascending=True)"
   ]
  },
  {
   "cell_type": "code",
   "execution_count": 23,
   "metadata": {},
   "outputs": [
    {
     "data": {
      "text/plain": [
       "0.000000    9071\n",
       "1.000000    5717\n",
       "2.000000    1892\n",
       "3.000000    1501\n",
       "Name: ponds_around3000, dtype: int64"
      ]
     },
     "execution_count": 23,
     "metadata": {},
     "output_type": "execute_result"
    }
   ],
   "source": [
    "data['ponds_around3000'].value_counts().sort_index(ascending=True)"
   ]
  },
  {
   "cell_type": "code",
   "execution_count": 24,
   "metadata": {},
   "outputs": [
    {
     "data": {
      "text/plain": [
       "13.000000      2\n",
       "16.000000      8\n",
       "19.000000      4\n",
       "20.000000      5\n",
       "22.000000      7\n",
       "              ..\n",
       "1299.000000    1\n",
       "1313.000000    1\n",
       "1337.000000    1\n",
       "1341.000000    2\n",
       "1344.000000    1\n",
       "Name: ponds_nearest, Length: 1096, dtype: int64"
      ]
     },
     "execution_count": 24,
     "metadata": {},
     "output_type": "execute_result"
    }
   ],
   "source": [
    "data['ponds_nearest'].value_counts().sort_index(ascending=True)"
   ]
  },
  {
   "cell_type": "code",
   "execution_count": 25,
   "metadata": {},
   "outputs": [
    {
     "data": {
      "text/plain": [
       "1.000000         1\n",
       "2.000000         3\n",
       "3.000000       158\n",
       "4.000000       176\n",
       "5.000000       152\n",
       "              ... \n",
       "1512.000000      2\n",
       "1513.000000      1\n",
       "1553.000000      1\n",
       "1572.000000      1\n",
       "1580.000000      1\n",
       "Name: days_exposition, Length: 1141, dtype: int64"
      ]
     },
     "execution_count": 25,
     "metadata": {},
     "output_type": "execute_result"
    }
   ],
   "source": [
    "data['days_exposition'].value_counts().sort_index(ascending=True)"
   ]
  },
  {
   "cell_type": "markdown",
   "metadata": {},
   "source": [
    "Приведем наименование столбца 'cityCenters_nearest' к принятому стандарту"
   ]
  },
  {
   "cell_type": "code",
   "execution_count": 26,
   "metadata": {},
   "outputs": [
    {
     "data": {
      "text/html": [
       "<div>\n",
       "<style scoped>\n",
       "    .dataframe tbody tr th:only-of-type {\n",
       "        vertical-align: middle;\n",
       "    }\n",
       "\n",
       "    .dataframe tbody tr th {\n",
       "        vertical-align: top;\n",
       "    }\n",
       "\n",
       "    .dataframe thead th {\n",
       "        text-align: right;\n",
       "    }\n",
       "</style>\n",
       "<table border=\"1\" class=\"dataframe\">\n",
       "  <thead>\n",
       "    <tr style=\"text-align: right;\">\n",
       "      <th></th>\n",
       "      <th>total_images</th>\n",
       "      <th>last_price</th>\n",
       "      <th>total_area</th>\n",
       "      <th>first_day_exposition</th>\n",
       "      <th>rooms</th>\n",
       "      <th>ceiling_height</th>\n",
       "      <th>floors_total</th>\n",
       "      <th>living_area</th>\n",
       "      <th>floor</th>\n",
       "      <th>is_apartment</th>\n",
       "      <th>studio</th>\n",
       "      <th>open_plan</th>\n",
       "      <th>kitchen_area</th>\n",
       "      <th>balcony</th>\n",
       "      <th>locality_name</th>\n",
       "      <th>airports_nearest</th>\n",
       "      <th>city_centers_nearest</th>\n",
       "      <th>parks_around3000</th>\n",
       "      <th>parks_nearest</th>\n",
       "      <th>ponds_around3000</th>\n",
       "      <th>ponds_nearest</th>\n",
       "      <th>days_exposition</th>\n",
       "    </tr>\n",
       "  </thead>\n",
       "  <tbody>\n",
       "    <tr>\n",
       "      <td>0</td>\n",
       "      <td>20</td>\n",
       "      <td>13000000.000000</td>\n",
       "      <td>108.000000</td>\n",
       "      <td>2019-03-07T00:00:00</td>\n",
       "      <td>3</td>\n",
       "      <td>2.700000</td>\n",
       "      <td>16.000000</td>\n",
       "      <td>51.000000</td>\n",
       "      <td>8</td>\n",
       "      <td>NaN</td>\n",
       "      <td>False</td>\n",
       "      <td>False</td>\n",
       "      <td>25.000000</td>\n",
       "      <td>nan</td>\n",
       "      <td>Санкт-Петербург</td>\n",
       "      <td>18863.000000</td>\n",
       "      <td>16028.000000</td>\n",
       "      <td>1.000000</td>\n",
       "      <td>482.000000</td>\n",
       "      <td>2.000000</td>\n",
       "      <td>755.000000</td>\n",
       "      <td>nan</td>\n",
       "    </tr>\n",
       "    <tr>\n",
       "      <td>1</td>\n",
       "      <td>7</td>\n",
       "      <td>3350000.000000</td>\n",
       "      <td>40.400000</td>\n",
       "      <td>2018-12-04T00:00:00</td>\n",
       "      <td>1</td>\n",
       "      <td>nan</td>\n",
       "      <td>11.000000</td>\n",
       "      <td>18.600000</td>\n",
       "      <td>1</td>\n",
       "      <td>NaN</td>\n",
       "      <td>False</td>\n",
       "      <td>False</td>\n",
       "      <td>11.000000</td>\n",
       "      <td>2.000000</td>\n",
       "      <td>посёлок Шушары</td>\n",
       "      <td>12817.000000</td>\n",
       "      <td>18603.000000</td>\n",
       "      <td>0.000000</td>\n",
       "      <td>nan</td>\n",
       "      <td>0.000000</td>\n",
       "      <td>nan</td>\n",
       "      <td>81.000000</td>\n",
       "    </tr>\n",
       "    <tr>\n",
       "      <td>2</td>\n",
       "      <td>10</td>\n",
       "      <td>5196000.000000</td>\n",
       "      <td>56.000000</td>\n",
       "      <td>2015-08-20T00:00:00</td>\n",
       "      <td>2</td>\n",
       "      <td>nan</td>\n",
       "      <td>5.000000</td>\n",
       "      <td>34.300000</td>\n",
       "      <td>4</td>\n",
       "      <td>NaN</td>\n",
       "      <td>False</td>\n",
       "      <td>False</td>\n",
       "      <td>8.300000</td>\n",
       "      <td>0.000000</td>\n",
       "      <td>Санкт-Петербург</td>\n",
       "      <td>21741.000000</td>\n",
       "      <td>13933.000000</td>\n",
       "      <td>1.000000</td>\n",
       "      <td>90.000000</td>\n",
       "      <td>2.000000</td>\n",
       "      <td>574.000000</td>\n",
       "      <td>558.000000</td>\n",
       "    </tr>\n",
       "    <tr>\n",
       "      <td>3</td>\n",
       "      <td>0</td>\n",
       "      <td>64900000.000000</td>\n",
       "      <td>159.000000</td>\n",
       "      <td>2015-07-24T00:00:00</td>\n",
       "      <td>3</td>\n",
       "      <td>nan</td>\n",
       "      <td>14.000000</td>\n",
       "      <td>nan</td>\n",
       "      <td>9</td>\n",
       "      <td>NaN</td>\n",
       "      <td>False</td>\n",
       "      <td>False</td>\n",
       "      <td>nan</td>\n",
       "      <td>0.000000</td>\n",
       "      <td>Санкт-Петербург</td>\n",
       "      <td>28098.000000</td>\n",
       "      <td>6800.000000</td>\n",
       "      <td>2.000000</td>\n",
       "      <td>84.000000</td>\n",
       "      <td>3.000000</td>\n",
       "      <td>234.000000</td>\n",
       "      <td>424.000000</td>\n",
       "    </tr>\n",
       "    <tr>\n",
       "      <td>4</td>\n",
       "      <td>2</td>\n",
       "      <td>10000000.000000</td>\n",
       "      <td>100.000000</td>\n",
       "      <td>2018-06-19T00:00:00</td>\n",
       "      <td>2</td>\n",
       "      <td>3.030000</td>\n",
       "      <td>14.000000</td>\n",
       "      <td>32.000000</td>\n",
       "      <td>13</td>\n",
       "      <td>NaN</td>\n",
       "      <td>False</td>\n",
       "      <td>False</td>\n",
       "      <td>41.000000</td>\n",
       "      <td>nan</td>\n",
       "      <td>Санкт-Петербург</td>\n",
       "      <td>31856.000000</td>\n",
       "      <td>8098.000000</td>\n",
       "      <td>2.000000</td>\n",
       "      <td>112.000000</td>\n",
       "      <td>1.000000</td>\n",
       "      <td>48.000000</td>\n",
       "      <td>121.000000</td>\n",
       "    </tr>\n",
       "  </tbody>\n",
       "</table>\n",
       "</div>"
      ],
      "text/plain": [
       "   total_images      last_price  total_area first_day_exposition  rooms  \\\n",
       "0            20 13000000.000000  108.000000  2019-03-07T00:00:00      3   \n",
       "1             7  3350000.000000   40.400000  2018-12-04T00:00:00      1   \n",
       "2            10  5196000.000000   56.000000  2015-08-20T00:00:00      2   \n",
       "3             0 64900000.000000  159.000000  2015-07-24T00:00:00      3   \n",
       "4             2 10000000.000000  100.000000  2018-06-19T00:00:00      2   \n",
       "\n",
       "   ceiling_height  floors_total  living_area  floor is_apartment  studio  \\\n",
       "0        2.700000     16.000000    51.000000      8          NaN   False   \n",
       "1             nan     11.000000    18.600000      1          NaN   False   \n",
       "2             nan      5.000000    34.300000      4          NaN   False   \n",
       "3             nan     14.000000          nan      9          NaN   False   \n",
       "4        3.030000     14.000000    32.000000     13          NaN   False   \n",
       "\n",
       "   open_plan  kitchen_area  balcony    locality_name  airports_nearest  \\\n",
       "0      False     25.000000      nan  Санкт-Петербург      18863.000000   \n",
       "1      False     11.000000 2.000000   посёлок Шушары      12817.000000   \n",
       "2      False      8.300000 0.000000  Санкт-Петербург      21741.000000   \n",
       "3      False           nan 0.000000  Санкт-Петербург      28098.000000   \n",
       "4      False     41.000000      nan  Санкт-Петербург      31856.000000   \n",
       "\n",
       "   city_centers_nearest  parks_around3000  parks_nearest  ponds_around3000  \\\n",
       "0          16028.000000          1.000000     482.000000          2.000000   \n",
       "1          18603.000000          0.000000            nan          0.000000   \n",
       "2          13933.000000          1.000000      90.000000          2.000000   \n",
       "3           6800.000000          2.000000      84.000000          3.000000   \n",
       "4           8098.000000          2.000000     112.000000          1.000000   \n",
       "\n",
       "   ponds_nearest  days_exposition  \n",
       "0     755.000000              nan  \n",
       "1            nan        81.000000  \n",
       "2     574.000000       558.000000  \n",
       "3     234.000000       424.000000  \n",
       "4      48.000000       121.000000  "
      ]
     },
     "execution_count": 26,
     "metadata": {},
     "output_type": "execute_result"
    }
   ],
   "source": [
    "data.rename(columns={'cityCenters_nearest': 'city_centers_nearest'}, inplace=True)\n",
    "data.head(5)"
   ]
  },
  {
   "cell_type": "markdown",
   "metadata": {},
   "source": [
    "### Вывод"
   ]
  },
  {
   "cell_type": "markdown",
   "metadata": {},
   "source": [
    "Изучая таблицу можно заметить, что:\n",
    "1. таблица содержит 22 колонки, из них 2 - bool (логического типа 0/1), 14 - float64 (числа с плавающей точкой), 3 - int64 (целочисленные значения), 3 - object ( текствые или смешанные значения)\n",
    "    Исходя из здравого смысла, мы считаем. что необходимо преобразовать некоторые столбцу к другому типу:\n",
    "- floors_total - к типу int64, так как количество этажей не может быть дробным числом\n",
    "- is_apartment - к типу bool, так как информация дается в виде True/False (Да/Нет)\n",
    "- balcony - к типу int64, так как число балконов не может быть дробным числом\n",
    "- parks_around3000 - к типу int64, так как количество парков не может быть дробным числом\n",
    "- ponds_around3000 - к типу int64, так как количество водоемов не может быть дробным числом\n",
    "- days_exposition - к типу int64, так как количество дней не может быть дробным числом\n",
    "2. Таблица состоит из 23699 строк (различных квартир). Во многих столбцах (14 из 22) существуют пропущенные значения. \n",
    "    В частности это столбцы:\n",
    "- ceiling_height (высота потолков в м.), \n",
    "- floors_total (количество этажей в доме), \n",
    "- living_area (жилая площадь квартиры в кв.м.), \n",
    "- is_apartment (является квартира апартаментами или нет), \n",
    "- kitchen_area (площадь кухни в кв.м.), \n",
    "- balcony (количество балконов), \n",
    "- locality_name (наименование населенного пункта, в котором находится квартира), \n",
    "- airports_nearest (расстояние до ближайшего аэропорта в м.), \n",
    "- cityCenters_nearest (расстояние до центра города в м.), \n",
    "- parks_around3000 (количество парков в радиусе 3 км), \n",
    "- parks_nearest (расстояние до ближайшего парка в м), \n",
    "- ponds_around3000 (количество водоемов в радиусе 3 км), \n",
    "- ponds_nearest (расстояние до ближайшего водоема в м), \n",
    "- days_exposition (количество дней размещения объявления). \n",
    "    Остальные столбцы заполнены полностью\n",
    "3. После переименования столбца cityCenters_nearest все наименования столбцов соответствуют правилам\n",
    "4. При просмотре уникальных значений столбцов бросаются в глаза возможные выбросы, мы проверим данную гипотезу позже в пункте 4.3\n",
    "<br>Данных для проверки достаточно, необходимо провести предобратку данных, то есть избавиться от дубликатов, пропусков, выбрать верный тип данных, категоризировать данные, и затем провести исследовательский анализ данных"
   ]
  },
  {
   "cell_type": "markdown",
   "metadata": {},
   "source": [
    "## Предобработка данных"
   ]
  },
  {
   "cell_type": "code",
   "execution_count": 27,
   "metadata": {},
   "outputs": [
    {
     "data": {
      "text/plain": [
       "total_images                0\n",
       "last_price                  0\n",
       "total_area                  0\n",
       "first_day_exposition        0\n",
       "rooms                       0\n",
       "ceiling_height           9195\n",
       "floors_total               86\n",
       "living_area              1903\n",
       "floor                       0\n",
       "is_apartment            20924\n",
       "studio                      0\n",
       "open_plan                   0\n",
       "kitchen_area             2278\n",
       "balcony                 11519\n",
       "locality_name              49\n",
       "airports_nearest         5542\n",
       "city_centers_nearest     5519\n",
       "parks_around3000         5518\n",
       "parks_nearest           15620\n",
       "ponds_around3000         5518\n",
       "ponds_nearest           14589\n",
       "days_exposition          3181\n",
       "dtype: int64"
      ]
     },
     "execution_count": 27,
     "metadata": {},
     "output_type": "execute_result"
    }
   ],
   "source": [
    "#посмотрим на количество пропусков в каждом столбце таблицы\n",
    "data.isna().sum()"
   ]
  },
  {
   "cell_type": "markdown",
   "metadata": {},
   "source": [
    "* Как было указано выше в выводе пункта 1.1 в 14 из 22 столбцов содержат пропуски.\n",
    "* Некоторые пропуски вероятнее всего появляются от того, что пользователи не обладают данной информацией, например, высота потолков (ceiling_height). Для заполнения данных видов пропусков необходимо дополнительное исследование\n",
    "* Некоторые потому что пользователи считают, что если что-то в их квартире отсутствует, то и заполнять данный пункт не требуется, например, апартаменты (is_apartment) - это очень редко встречающийся тип квартир и вероятнее всего пользователи, зная, что их квартира не является апартаментами, просто пропускают данную колонку и оставляют ее пустой. Далее количество балконов (balcony), если значение пропущено, то вероятнее всего балкона в квартире нет. Заполним данные пропуски соответственно вышенаписанному, на нули.\n",
    "* Есть очень важные пропуски, например, living_area (жилая площадь квартиры) и kitchen_area (площадь кухни), количество этажей в доме (floors_total), название населенного пункта (locality_name). Данные значения пропущены от невнимательности или лени пользователя, который не помнит данные и не желает искать данную информацию. Для заполнения данных видов пропусков необходимо дополнительное исследование\n",
    "* Пропуски в пунктах airports_nearest, cityCenters_nearest, parks_around3000, parks_nearest, ponds_around3000, ponds_nearest, days_exposition вероятнее всего произошли из-за какого-либо сбоя в выгрузке данных. Заполним пропуски только в столбце days_exposition, поскольку это важно для дальнейшего исследования. Остальные пропусти оставим как есть, заполнять их не будем.\n",
    "* При условии если квартира студия, площадь кухни должна быть 0"
   ]
  },
  {
   "cell_type": "markdown",
   "metadata": {},
   "source": [
    "Приступим к предобработке данных, во-первых, заполним пропуски в столбцах balcony и is_apartment, а после этого изменим тип данных, на int64 и bool, соответственно"
   ]
  },
  {
   "cell_type": "code",
   "execution_count": 28,
   "metadata": {},
   "outputs": [
    {
     "name": "stdout",
     "output_type": "stream",
     "text": [
      "<class 'pandas.core.frame.DataFrame'>\n",
      "RangeIndex: 23699 entries, 0 to 23698\n",
      "Data columns (total 22 columns):\n",
      "total_images            23699 non-null int64\n",
      "last_price              23699 non-null float64\n",
      "total_area              23699 non-null float64\n",
      "first_day_exposition    23699 non-null object\n",
      "rooms                   23699 non-null int64\n",
      "ceiling_height          14504 non-null float64\n",
      "floors_total            23613 non-null float64\n",
      "living_area             21796 non-null float64\n",
      "floor                   23699 non-null int64\n",
      "is_apartment            23699 non-null bool\n",
      "studio                  23699 non-null bool\n",
      "open_plan               23699 non-null bool\n",
      "kitchen_area            21421 non-null float64\n",
      "balcony                 23699 non-null int64\n",
      "locality_name           23650 non-null object\n",
      "airports_nearest        18157 non-null float64\n",
      "city_centers_nearest    18180 non-null float64\n",
      "parks_around3000        18181 non-null float64\n",
      "parks_nearest           8079 non-null float64\n",
      "ponds_around3000        18181 non-null float64\n",
      "ponds_nearest           9110 non-null float64\n",
      "days_exposition         20518 non-null float64\n",
      "dtypes: bool(3), float64(13), int64(4), object(2)\n",
      "memory usage: 3.5+ MB\n"
     ]
    }
   ],
   "source": [
    "#заполняем пропуски в столбце balcony на ноль\n",
    "data['balcony'] = data['balcony'].fillna(0)\n",
    "#заполняем пропуски в столбце is_apartment на ноль\n",
    "data['is_apartment'] = data['is_apartment'].fillna(0)\n",
    "#меняем тип данных в столбце balcony\n",
    "data['balcony']=data['balcony'].astype('int64')\n",
    "#меняем тип данных в столбце is_apartment\n",
    "data['is_apartment']=data['is_apartment'].astype('bool')\n",
    "#проверяем внесенные изменения\n",
    "data.info()"
   ]
  },
  {
   "cell_type": "markdown",
   "metadata": {},
   "source": [
    "Строки с пропусками названий населенных пунктов (locality_name), поскольку их очень мало (всего 49 из 23699) и при этом их невозможно восстановить, можно удалить"
   ]
  },
  {
   "cell_type": "code",
   "execution_count": 29,
   "metadata": {},
   "outputs": [
    {
     "data": {
      "text/plain": [
       "total_images                0\n",
       "last_price                  0\n",
       "total_area                  0\n",
       "first_day_exposition        0\n",
       "rooms                       0\n",
       "ceiling_height           9160\n",
       "floors_total               85\n",
       "living_area              1898\n",
       "floor                       0\n",
       "is_apartment                0\n",
       "studio                      0\n",
       "open_plan                   0\n",
       "kitchen_area             2269\n",
       "balcony                     0\n",
       "locality_name               0\n",
       "airports_nearest         5534\n",
       "city_centers_nearest     5511\n",
       "parks_around3000         5510\n",
       "parks_nearest           15586\n",
       "ponds_around3000         5510\n",
       "ponds_nearest           14565\n",
       "days_exposition          3180\n",
       "dtype: int64"
      ]
     },
     "execution_count": 29,
     "metadata": {},
     "output_type": "execute_result"
    }
   ],
   "source": [
    "data.dropna(subset = ['locality_name'], inplace = True)\n",
    "data.isna().sum()"
   ]
  },
  {
   "cell_type": "markdown",
   "metadata": {},
   "source": [
    "В пункте 1. мы выяслили, что 197 квартир имеют количество комнат раное нулю. Проверим предположение, что эти квартиры относятся к студиям или квартирам со свободной планировкой"
   ]
  },
  {
   "cell_type": "code",
   "execution_count": 30,
   "metadata": {},
   "outputs": [
    {
     "data": {
      "text/plain": [
       "144       True\n",
       "349      False\n",
       "440       True\n",
       "508      False\n",
       "608       True\n",
       "         ...  \n",
       "23210     True\n",
       "23442    False\n",
       "23554     True\n",
       "23592    False\n",
       "23637     True\n",
       "Name: studio, Length: 197, dtype: bool"
      ]
     },
     "metadata": {},
     "output_type": "display_data"
    },
    {
     "data": {
      "text/plain": [
       "144      False\n",
       "349       True\n",
       "440      False\n",
       "508       True\n",
       "608      False\n",
       "         ...  \n",
       "23210    False\n",
       "23442     True\n",
       "23554    False\n",
       "23592     True\n",
       "23637    False\n",
       "Name: open_plan, Length: 197, dtype: bool"
      ]
     },
     "metadata": {},
     "output_type": "display_data"
    },
    {
     "data": {
      "text/html": [
       "<div>\n",
       "<style scoped>\n",
       "    .dataframe tbody tr th:only-of-type {\n",
       "        vertical-align: middle;\n",
       "    }\n",
       "\n",
       "    .dataframe tbody tr th {\n",
       "        vertical-align: top;\n",
       "    }\n",
       "\n",
       "    .dataframe thead tr th {\n",
       "        text-align: left;\n",
       "    }\n",
       "\n",
       "    .dataframe thead tr:last-of-type th {\n",
       "        text-align: right;\n",
       "    }\n",
       "</style>\n",
       "<table border=\"1\" class=\"dataframe\">\n",
       "  <thead>\n",
       "    <tr>\n",
       "      <th>studio</th>\n",
       "      <th colspan=\"2\" halign=\"left\">False</th>\n",
       "      <th>True</th>\n",
       "    </tr>\n",
       "    <tr>\n",
       "      <th>open_plan</th>\n",
       "      <th>False</th>\n",
       "      <th>True</th>\n",
       "      <th>False</th>\n",
       "    </tr>\n",
       "    <tr>\n",
       "      <th>rooms</th>\n",
       "      <th></th>\n",
       "      <th></th>\n",
       "      <th></th>\n",
       "    </tr>\n",
       "  </thead>\n",
       "  <tbody>\n",
       "    <tr>\n",
       "      <td>0</td>\n",
       "      <td>nan</td>\n",
       "      <td>59.000000</td>\n",
       "      <td>124.000000</td>\n",
       "    </tr>\n",
       "    <tr>\n",
       "      <td>1</td>\n",
       "      <td>7248.000000</td>\n",
       "      <td>3.000000</td>\n",
       "      <td>11.000000</td>\n",
       "    </tr>\n",
       "    <tr>\n",
       "      <td>2</td>\n",
       "      <td>6896.000000</td>\n",
       "      <td>1.000000</td>\n",
       "      <td>nan</td>\n",
       "    </tr>\n",
       "    <tr>\n",
       "      <td>3</td>\n",
       "      <td>4801.000000</td>\n",
       "      <td>2.000000</td>\n",
       "      <td>nan</td>\n",
       "    </tr>\n",
       "    <tr>\n",
       "      <td>4</td>\n",
       "      <td>935.000000</td>\n",
       "      <td>1.000000</td>\n",
       "      <td>nan</td>\n",
       "    </tr>\n",
       "    <tr>\n",
       "      <td>5</td>\n",
       "      <td>251.000000</td>\n",
       "      <td>1.000000</td>\n",
       "      <td>nan</td>\n",
       "    </tr>\n",
       "    <tr>\n",
       "      <td>6</td>\n",
       "      <td>76.000000</td>\n",
       "      <td>nan</td>\n",
       "      <td>nan</td>\n",
       "    </tr>\n",
       "    <tr>\n",
       "      <td>7</td>\n",
       "      <td>37.000000</td>\n",
       "      <td>nan</td>\n",
       "      <td>nan</td>\n",
       "    </tr>\n",
       "    <tr>\n",
       "      <td>8</td>\n",
       "      <td>11.000000</td>\n",
       "      <td>nan</td>\n",
       "      <td>nan</td>\n",
       "    </tr>\n",
       "    <tr>\n",
       "      <td>9</td>\n",
       "      <td>4.000000</td>\n",
       "      <td>nan</td>\n",
       "      <td>nan</td>\n",
       "    </tr>\n",
       "    <tr>\n",
       "      <td>10</td>\n",
       "      <td>2.000000</td>\n",
       "      <td>nan</td>\n",
       "      <td>nan</td>\n",
       "    </tr>\n",
       "    <tr>\n",
       "      <td>11</td>\n",
       "      <td>1.000000</td>\n",
       "      <td>nan</td>\n",
       "      <td>nan</td>\n",
       "    </tr>\n",
       "    <tr>\n",
       "      <td>12</td>\n",
       "      <td>1.000000</td>\n",
       "      <td>nan</td>\n",
       "      <td>nan</td>\n",
       "    </tr>\n",
       "    <tr>\n",
       "      <td>14</td>\n",
       "      <td>2.000000</td>\n",
       "      <td>nan</td>\n",
       "      <td>nan</td>\n",
       "    </tr>\n",
       "    <tr>\n",
       "      <td>15</td>\n",
       "      <td>1.000000</td>\n",
       "      <td>nan</td>\n",
       "      <td>nan</td>\n",
       "    </tr>\n",
       "    <tr>\n",
       "      <td>16</td>\n",
       "      <td>1.000000</td>\n",
       "      <td>nan</td>\n",
       "      <td>nan</td>\n",
       "    </tr>\n",
       "    <tr>\n",
       "      <td>19</td>\n",
       "      <td>1.000000</td>\n",
       "      <td>nan</td>\n",
       "      <td>nan</td>\n",
       "    </tr>\n",
       "  </tbody>\n",
       "</table>\n",
       "</div>"
      ],
      "text/plain": [
       "studio          False                True \n",
       "open_plan       False     True       False\n",
       "rooms                                     \n",
       "0                 nan 59.000000 124.000000\n",
       "1         7248.000000  3.000000  11.000000\n",
       "2         6896.000000  1.000000        nan\n",
       "3         4801.000000  2.000000        nan\n",
       "4          935.000000  1.000000        nan\n",
       "5          251.000000  1.000000        nan\n",
       "6           76.000000       nan        nan\n",
       "7           37.000000       nan        nan\n",
       "8           11.000000       nan        nan\n",
       "9            4.000000       nan        nan\n",
       "10           2.000000       nan        nan\n",
       "11           1.000000       nan        nan\n",
       "12           1.000000       nan        nan\n",
       "14           2.000000       nan        nan\n",
       "15           1.000000       nan        nan\n",
       "16           1.000000       nan        nan\n",
       "19           1.000000       nan        nan"
      ]
     },
     "metadata": {},
     "output_type": "display_data"
    }
   ],
   "source": [
    "display(data.loc[data['rooms'] == 0, 'studio'])\n",
    "display(data.loc[data['rooms'] == 0, 'open_plan'])\n",
    "#Создадим сводную таблицу квартир с нулевым количеством комнат в соответствии с их типом (студия или свободная планировка)\n",
    "data_pivot_rooms_zero = data.pivot_table(index=['rooms'], columns=['studio', 'open_plan'], values = 'days_exposition', aggfunc='count')\n",
    "display(data_pivot_rooms_zero)"
   ]
  },
  {
   "cell_type": "markdown",
   "metadata": {},
   "source": [
    "Так как предположение подтвердилось, такие квартиры относятся либо к студиям, либо к свободной планировке, то оставим данные значения такими как есть. "
   ]
  },
  {
   "cell_type": "code",
   "execution_count": 31,
   "metadata": {},
   "outputs": [
    {
     "data": {
      "text/plain": [
       "False    20295\n",
       "True      3355\n",
       "Name: flat_on_the_last_floor, dtype: int64"
      ]
     },
     "execution_count": 31,
     "metadata": {},
     "output_type": "execute_result"
    }
   ],
   "source": [
    "#Создадим столбец для определения находится ли квартира на последнем этаже\n",
    "data['flat_on_the_last_floor'] = data['floors_total'] == data['floor']\n",
    "data['flat_on_the_last_floor'].value_counts()"
   ]
  },
  {
   "cell_type": "markdown",
   "metadata": {},
   "source": [
    "Строки с пропусками в этажности здания (floors_total) можно также удалить, их немного (85 шт). Но все же мы считаем, что в данном случае следует не удалять строки с пропущенными значениями, а заменить их на значение фактического этажа квартиры + 1, на котором находится квартира. Это вытекает из того, что далее для исследования нам понадобиться информация о том, на каком этаже находится квартира (категоризация идет на три категории: первый, последний этаж и другие), а вероятность того, что квартира находится на последнем этаже существенно меньше, чем на всех остальных."
   ]
  },
  {
   "cell_type": "code",
   "execution_count": 32,
   "metadata": {},
   "outputs": [
    {
     "name": "stdout",
     "output_type": "stream",
     "text": [
      "<class 'pandas.core.frame.DataFrame'>\n",
      "Int64Index: 23650 entries, 0 to 23698\n",
      "Data columns (total 23 columns):\n",
      "total_images              23650 non-null int64\n",
      "last_price                23650 non-null float64\n",
      "total_area                23650 non-null float64\n",
      "first_day_exposition      23650 non-null object\n",
      "rooms                     23650 non-null int64\n",
      "ceiling_height            14490 non-null float64\n",
      "floors_total              23650 non-null int64\n",
      "living_area               21752 non-null float64\n",
      "floor                     23650 non-null int64\n",
      "is_apartment              23650 non-null bool\n",
      "studio                    23650 non-null bool\n",
      "open_plan                 23650 non-null bool\n",
      "kitchen_area              21381 non-null float64\n",
      "balcony                   23650 non-null int64\n",
      "locality_name             23650 non-null object\n",
      "airports_nearest          18116 non-null float64\n",
      "city_centers_nearest      18139 non-null float64\n",
      "parks_around3000          18140 non-null float64\n",
      "parks_nearest             8064 non-null float64\n",
      "ponds_around3000          18140 non-null float64\n",
      "ponds_nearest             9085 non-null float64\n",
      "days_exposition           20470 non-null float64\n",
      "flat_on_the_last_floor    23650 non-null bool\n",
      "dtypes: bool(4), float64(12), int64(5), object(2)\n",
      "memory usage: 3.7+ MB\n"
     ]
    }
   ],
   "source": [
    "#Заменим пропущенные значения в столбце floors_total на ноль\n",
    "data['floors_total'] = data['floors_total'].fillna(0)\n",
    "#Заменим значения на значения столбца floor + 1, при условии, что в столбце floors_total ноль\n",
    "data['floors_total'] = np.where(data['floors_total'] == 0, data['floor'] + 1, data['floors_total'])\n",
    "#меняем тип данных в столбце balcony\n",
    "data['floors_total']=data['floors_total'].astype('int64')\n",
    "#Проверим информацию\n",
    "data.info()"
   ]
  },
  {
   "cell_type": "markdown",
   "metadata": {},
   "source": [
    "* Далее будем заменять пропущенные значения в столбцах living_area и kitchen_area\n",
    "* Для начала для всех строк, в которых значится, что квартира-студия (значение True), заменим площадь кухни на ноль\n",
    "* Остальные пропуски в двух данных столбцах заменим на медианные значения по выборке"
   ]
  },
  {
   "cell_type": "code",
   "execution_count": 33,
   "metadata": {},
   "outputs": [
    {
     "name": "stdout",
     "output_type": "stream",
     "text": [
      "<class 'pandas.core.frame.DataFrame'>\n",
      "Int64Index: 23650 entries, 0 to 23698\n",
      "Data columns (total 23 columns):\n",
      "total_images              23650 non-null int64\n",
      "last_price                23650 non-null float64\n",
      "total_area                23650 non-null float64\n",
      "first_day_exposition      23650 non-null object\n",
      "rooms                     23650 non-null int64\n",
      "ceiling_height            14490 non-null float64\n",
      "floors_total              23650 non-null int64\n",
      "living_area               23650 non-null float64\n",
      "floor                     23650 non-null int64\n",
      "is_apartment              23650 non-null bool\n",
      "studio                    23650 non-null bool\n",
      "open_plan                 23650 non-null bool\n",
      "kitchen_area              23650 non-null float64\n",
      "balcony                   23650 non-null int64\n",
      "locality_name             23650 non-null object\n",
      "airports_nearest          18116 non-null float64\n",
      "city_centers_nearest      18139 non-null float64\n",
      "parks_around3000          18140 non-null float64\n",
      "parks_nearest             8064 non-null float64\n",
      "ponds_around3000          18140 non-null float64\n",
      "ponds_nearest             9085 non-null float64\n",
      "days_exposition           20470 non-null float64\n",
      "flat_on_the_last_floor    23650 non-null bool\n",
      "dtypes: bool(4), float64(12), int64(5), object(2)\n",
      "memory usage: 3.7+ MB\n"
     ]
    }
   ],
   "source": [
    "#Заменим значения площади кухни студии на ноль\n",
    "data['kitchen_area'] = np.where(data['studio'] == True, 0, data['kitchen_area'])\n",
    "#Остальные пропущенные значения заменим на медианное значение\n",
    "data['living_area'] = data['living_area'].fillna(data['living_area'].median())\n",
    "data['kitchen_area'] = data['kitchen_area'].fillna(data['kitchen_area'].median())\n",
    "data.info()"
   ]
  },
  {
   "cell_type": "markdown",
   "metadata": {},
   "source": [
    "Посмотрим на медианное и среднее начение высоты потолка"
   ]
  },
  {
   "cell_type": "code",
   "execution_count": 34,
   "metadata": {},
   "outputs": [
    {
     "name": "stdout",
     "output_type": "stream",
     "text": [
      "2.65 ; 2.7712870945479646\n"
     ]
    }
   ],
   "source": [
    "print(data['ceiling_height'].median(), ';', data['ceiling_height'].mean())"
   ]
  },
  {
   "cell_type": "markdown",
   "metadata": {},
   "source": [
    "Так как данные значения близки к друг другу и к реальных цифрам, то заменим пропуски в столбце ceiling_height на медианное значение"
   ]
  },
  {
   "cell_type": "code",
   "execution_count": 35,
   "metadata": {},
   "outputs": [
    {
     "name": "stdout",
     "output_type": "stream",
     "text": [
      "<class 'pandas.core.frame.DataFrame'>\n",
      "Int64Index: 23650 entries, 0 to 23698\n",
      "Data columns (total 23 columns):\n",
      "total_images              23650 non-null int64\n",
      "last_price                23650 non-null float64\n",
      "total_area                23650 non-null float64\n",
      "first_day_exposition      23650 non-null object\n",
      "rooms                     23650 non-null int64\n",
      "ceiling_height            23650 non-null float64\n",
      "floors_total              23650 non-null int64\n",
      "living_area               23650 non-null float64\n",
      "floor                     23650 non-null int64\n",
      "is_apartment              23650 non-null bool\n",
      "studio                    23650 non-null bool\n",
      "open_plan                 23650 non-null bool\n",
      "kitchen_area              23650 non-null float64\n",
      "balcony                   23650 non-null int64\n",
      "locality_name             23650 non-null object\n",
      "airports_nearest          18116 non-null float64\n",
      "city_centers_nearest      18139 non-null float64\n",
      "parks_around3000          18140 non-null float64\n",
      "parks_nearest             8064 non-null float64\n",
      "ponds_around3000          18140 non-null float64\n",
      "ponds_nearest             9085 non-null float64\n",
      "days_exposition           20470 non-null float64\n",
      "flat_on_the_last_floor    23650 non-null bool\n",
      "dtypes: bool(4), float64(12), int64(5), object(2)\n",
      "memory usage: 3.7+ MB\n"
     ]
    }
   ],
   "source": [
    "data['ceiling_height'] = data['ceiling_height'].fillna(data['ceiling_height'].median())\n",
    "data.info()"
   ]
  },
  {
   "cell_type": "markdown",
   "metadata": {},
   "source": [
    "Начнем разбираться с пропусками с столбце с днями экспозиции объявления (days_exposition)"
   ]
  },
  {
   "cell_type": "code",
   "execution_count": 36,
   "metadata": {
    "scrolled": true
   },
   "outputs": [
    {
     "data": {
      "text/html": [
       "<div>\n",
       "<style scoped>\n",
       "    .dataframe tbody tr th:only-of-type {\n",
       "        vertical-align: middle;\n",
       "    }\n",
       "\n",
       "    .dataframe tbody tr th {\n",
       "        vertical-align: top;\n",
       "    }\n",
       "\n",
       "    .dataframe thead th {\n",
       "        text-align: right;\n",
       "    }\n",
       "</style>\n",
       "<table border=\"1\" class=\"dataframe\">\n",
       "  <thead>\n",
       "    <tr style=\"text-align: right;\">\n",
       "      <th>first_day_exposition</th>\n",
       "      <th>2014-11-27T00:00:00</th>\n",
       "      <th>2014-12-08T00:00:00</th>\n",
       "      <th>2014-12-09T00:00:00</th>\n",
       "      <th>2014-12-10T00:00:00</th>\n",
       "      <th>2014-12-11T00:00:00</th>\n",
       "      <th>2014-12-12T00:00:00</th>\n",
       "      <th>2014-12-27T00:00:00</th>\n",
       "      <th>2015-01-03T00:00:00</th>\n",
       "      <th>2015-01-15T00:00:00</th>\n",
       "      <th>2015-01-20T00:00:00</th>\n",
       "      <th>2015-01-21T00:00:00</th>\n",
       "      <th>...</th>\n",
       "      <th>2019-04-23T00:00:00</th>\n",
       "      <th>2019-04-24T00:00:00</th>\n",
       "      <th>2019-04-25T00:00:00</th>\n",
       "      <th>2019-04-26T00:00:00</th>\n",
       "      <th>2019-04-27T00:00:00</th>\n",
       "      <th>2019-04-28T00:00:00</th>\n",
       "      <th>2019-04-29T00:00:00</th>\n",
       "      <th>2019-04-30T00:00:00</th>\n",
       "      <th>2019-05-01T00:00:00</th>\n",
       "      <th>2019-05-02T00:00:00</th>\n",
       "      <th>2019-05-03T00:00:00</th>\n",
       "    </tr>\n",
       "  </thead>\n",
       "  <tbody>\n",
       "    <tr>\n",
       "      <td>total_area</td>\n",
       "      <td>3</td>\n",
       "      <td>1</td>\n",
       "      <td>7</td>\n",
       "      <td>3</td>\n",
       "      <td>2</td>\n",
       "      <td>1</td>\n",
       "      <td>1</td>\n",
       "      <td>1</td>\n",
       "      <td>1</td>\n",
       "      <td>1</td>\n",
       "      <td>6</td>\n",
       "      <td>...</td>\n",
       "      <td>30</td>\n",
       "      <td>32</td>\n",
       "      <td>26</td>\n",
       "      <td>35</td>\n",
       "      <td>14</td>\n",
       "      <td>18</td>\n",
       "      <td>36</td>\n",
       "      <td>25</td>\n",
       "      <td>29</td>\n",
       "      <td>11</td>\n",
       "      <td>20</td>\n",
       "    </tr>\n",
       "  </tbody>\n",
       "</table>\n",
       "<p>1 rows × 708 columns</p>\n",
       "</div>"
      ],
      "text/plain": [
       "first_day_exposition  2014-11-27T00:00:00  2014-12-08T00:00:00  \\\n",
       "total_area                              3                    1   \n",
       "\n",
       "first_day_exposition  2014-12-09T00:00:00  2014-12-10T00:00:00  \\\n",
       "total_area                              7                    3   \n",
       "\n",
       "first_day_exposition  2014-12-11T00:00:00  2014-12-12T00:00:00  \\\n",
       "total_area                              2                    1   \n",
       "\n",
       "first_day_exposition  2014-12-27T00:00:00  2015-01-03T00:00:00  \\\n",
       "total_area                              1                    1   \n",
       "\n",
       "first_day_exposition  2015-01-15T00:00:00  2015-01-20T00:00:00  \\\n",
       "total_area                              1                    1   \n",
       "\n",
       "first_day_exposition  2015-01-21T00:00:00  ...  2019-04-23T00:00:00  \\\n",
       "total_area                              6  ...                   30   \n",
       "\n",
       "first_day_exposition  2019-04-24T00:00:00  2019-04-25T00:00:00  \\\n",
       "total_area                             32                   26   \n",
       "\n",
       "first_day_exposition  2019-04-26T00:00:00  2019-04-27T00:00:00  \\\n",
       "total_area                             35                   14   \n",
       "\n",
       "first_day_exposition  2019-04-28T00:00:00  2019-04-29T00:00:00  \\\n",
       "total_area                             18                   36   \n",
       "\n",
       "first_day_exposition  2019-04-30T00:00:00  2019-05-01T00:00:00  \\\n",
       "total_area                             25                   29   \n",
       "\n",
       "first_day_exposition  2019-05-02T00:00:00  2019-05-03T00:00:00  \n",
       "total_area                             11                   20  \n",
       "\n",
       "[1 rows x 708 columns]"
      ]
     },
     "execution_count": 36,
     "metadata": {},
     "output_type": "execute_result"
    }
   ],
   "source": [
    "data[data['days_exposition'].isnull()].pivot_table(columns = 'first_day_exposition', values = 'total_area', aggfunc = 'count')"
   ]
  },
  {
   "cell_type": "code",
   "execution_count": 38,
   "metadata": {},
   "outputs": [
    {
     "name": "stdout",
     "output_type": "stream",
     "text": [
      "95.0 ; 180.7531998045921\n"
     ]
    }
   ],
   "source": [
    "#Посмотрим на медианное и среднее начение дней экспозиции\n",
    "print(data['days_exposition'].median(), ';', data['days_exposition'].mean())"
   ]
  },
  {
   "cell_type": "markdown",
   "metadata": {},
   "source": [
    "Поскольку разница между значением медианы и среднего очень велика, практически в два раза, и при этом гипотеза об прямой зависимости роста числа объявлений с пустым признаком days_exposition от срока, в течение которого размещено объявление, подтверждается, мы принимаем решение не заполнять пропуски в данном столбце"
   ]
  },
  {
   "cell_type": "markdown",
   "metadata": {},
   "source": [
    "Тип значений в столбцах days_exposition, parks_around3000, ponds_around3000 менять не будем, так как мы там оставили пропущенные значения, которые не стали заменять информацией, которую не возможно найти"
   ]
  },
  {
   "cell_type": "markdown",
   "metadata": {},
   "source": [
    "Проверим уникальные значения в столбце locality_name"
   ]
  },
  {
   "cell_type": "code",
   "execution_count": 39,
   "metadata": {},
   "outputs": [
    {
     "data": {
      "text/plain": [
       "Санкт-Петербург                            15721\n",
       "посёлок Мурино                               522\n",
       "посёлок Шушары                               440\n",
       "Всеволожск                                   398\n",
       "Пушкин                                       369\n",
       "Колпино                                      338\n",
       "посёлок Парголово                            327\n",
       "Гатчина                                      307\n",
       "деревня Кудрово                              299\n",
       "Выборг                                       237\n",
       "Петергоф                                     201\n",
       "Сестрорецк                                   183\n",
       "Красное Село                                 178\n",
       "Кудрово                                      173\n",
       "деревня Новое Девяткино                      144\n",
       "Сертолово                                    142\n",
       "Ломоносов                                    133\n",
       "Кириши                                       125\n",
       "Сланцы                                       112\n",
       "Волхов                                       111\n",
       "Тосно                                        104\n",
       "Кингисепп                                    104\n",
       "Кронштадт                                     96\n",
       "Никольское                                    93\n",
       "Коммунар                                      89\n",
       "Сосновый Бор                                  87\n",
       "Кировск                                       84\n",
       "Отрадное                                      80\n",
       "посёлок Бугры                                 69\n",
       "Приозерск                                     66\n",
       "посёлок Металлострой                          66\n",
       "деревня Старая                                64\n",
       "городской посёлок Янино-1                     61\n",
       "Шлиссельбург                                  57\n",
       "Луга                                          56\n",
       "Тихвин                                        49\n",
       "поселок Бугры                                 45\n",
       "посёлок Стрельна                              44\n",
       "посёлок Тельмана                              39\n",
       "Павловск                                      38\n",
       "поселок Романовка                             36\n",
       "Волосово                                      36\n",
       "поселок Мурино                                34\n",
       "Мурино                                        34\n",
       "посёлок городского типа Сиверский             29\n",
       "Ивангород                                     28\n",
       "городской посёлок Новоселье                   28\n",
       "городской посёлок Мга                         27\n",
       "поселок городского типа имени Свердлова       25\n",
       "Зеленогорск                                   24\n",
       "Name: locality_name, dtype: int64"
      ]
     },
     "execution_count": 39,
     "metadata": {},
     "output_type": "execute_result"
    }
   ],
   "source": [
    "data['locality_name'].value_counts().head(50)"
   ]
  },
  {
   "cell_type": "markdown",
   "metadata": {},
   "source": [
    "Проверим таблицу на явные дубликаты"
   ]
  },
  {
   "cell_type": "code",
   "execution_count": 40,
   "metadata": {},
   "outputs": [
    {
     "data": {
      "text/plain": [
       "0"
      ]
     },
     "execution_count": 40,
     "metadata": {},
     "output_type": "execute_result"
    }
   ],
   "source": [
    "data.duplicated().sum()"
   ]
  },
  {
   "cell_type": "markdown",
   "metadata": {},
   "source": [
    "В названиях населенных пунктов бросается в глаза разное написание пунктов Мурино и Кудрово, приведем к единому виду"
   ]
  },
  {
   "cell_type": "code",
   "execution_count": 41,
   "metadata": {},
   "outputs": [],
   "source": [
    "def rename(row):\n",
    "    if row == 'Мурино' or row == 'посёлок Мурино':\n",
    "        return 'поселок Мурино'\n",
    "    if row == 'Кудрово':\n",
    "        return 'деревня Кудрово'\n",
    "    return row"
   ]
  },
  {
   "cell_type": "code",
   "execution_count": 42,
   "metadata": {},
   "outputs": [
    {
     "data": {
      "text/plain": [
       "Санкт-Петербург    15721\n",
       "поселок Мурино       590\n",
       "деревня Кудрово      472\n",
       "посёлок Шушары       440\n",
       "Всеволожск           398\n",
       "Name: locality_name, dtype: int64"
      ]
     },
     "execution_count": 42,
     "metadata": {},
     "output_type": "execute_result"
    }
   ],
   "source": [
    "data['locality_name'] = data['locality_name'].apply(rename)\n",
    "data['locality_name'].value_counts().head(5)"
   ]
  },
  {
   "cell_type": "markdown",
   "metadata": {},
   "source": [
    "Также заменим все буквы 'ё' на 'е'"
   ]
  },
  {
   "cell_type": "code",
   "execution_count": 43,
   "metadata": {},
   "outputs": [
    {
     "data": {
      "text/plain": [
       "Санкт-Петербург    15721\n",
       "поселок Мурино       590\n",
       "деревня Кудрово      472\n",
       "поселок Шушары       440\n",
       "Всеволожск           398\n",
       "Name: locality_name, dtype: int64"
      ]
     },
     "execution_count": 43,
     "metadata": {},
     "output_type": "execute_result"
    }
   ],
   "source": [
    "data['locality_name'] = data['locality_name'].str.replace('ё','е')\n",
    "data['locality_name'].value_counts().head(5)"
   ]
  },
  {
   "cell_type": "markdown",
   "metadata": {},
   "source": [
    "Переведем стоимость квартиры в тыс. руб."
   ]
  },
  {
   "cell_type": "code",
   "execution_count": 121,
   "metadata": {},
   "outputs": [],
   "source": [
    "data['last_price'] = data['last_price'] / 1000"
   ]
  },
  {
   "cell_type": "markdown",
   "metadata": {},
   "source": [
    "### Вывод"
   ]
  },
  {
   "cell_type": "markdown",
   "metadata": {},
   "source": [
    "Проверили предобработку данных, заполнили важные пропуски, удалили данные, которые невозможно установить, но они играют роль для дальнейшего исследования. Заменили некоторые типы данных на более подходящие. Проверили названия населенных пунктов на дубликаты. Датасет готов для дальнейшей работы"
   ]
  },
  {
   "cell_type": "markdown",
   "metadata": {},
   "source": [
    "## Расчёты и добавление результатов в таблицу"
   ]
  },
  {
   "cell_type": "markdown",
   "metadata": {},
   "source": [
    "### Cтолбец c ценой квадратного метра\n",
    "Рассчитаем новый столбец price_sq_m, в который занесем цену квадратного метра \n",
    "Рассчитанное значение округлим до двух знаков после запятой."
   ]
  },
  {
   "cell_type": "code",
   "execution_count": 45,
   "metadata": {},
   "outputs": [
    {
     "data": {
      "text/html": [
       "<div>\n",
       "<style scoped>\n",
       "    .dataframe tbody tr th:only-of-type {\n",
       "        vertical-align: middle;\n",
       "    }\n",
       "\n",
       "    .dataframe tbody tr th {\n",
       "        vertical-align: top;\n",
       "    }\n",
       "\n",
       "    .dataframe thead th {\n",
       "        text-align: right;\n",
       "    }\n",
       "</style>\n",
       "<table border=\"1\" class=\"dataframe\">\n",
       "  <thead>\n",
       "    <tr style=\"text-align: right;\">\n",
       "      <th></th>\n",
       "      <th>total_images</th>\n",
       "      <th>last_price</th>\n",
       "      <th>total_area</th>\n",
       "      <th>first_day_exposition</th>\n",
       "      <th>rooms</th>\n",
       "      <th>ceiling_height</th>\n",
       "      <th>floors_total</th>\n",
       "      <th>living_area</th>\n",
       "      <th>floor</th>\n",
       "      <th>is_apartment</th>\n",
       "      <th>studio</th>\n",
       "      <th>...</th>\n",
       "      <th>balcony</th>\n",
       "      <th>locality_name</th>\n",
       "      <th>airports_nearest</th>\n",
       "      <th>city_centers_nearest</th>\n",
       "      <th>parks_around3000</th>\n",
       "      <th>parks_nearest</th>\n",
       "      <th>ponds_around3000</th>\n",
       "      <th>ponds_nearest</th>\n",
       "      <th>days_exposition</th>\n",
       "      <th>flat_on_the_last_floor</th>\n",
       "      <th>price_sq_m</th>\n",
       "    </tr>\n",
       "  </thead>\n",
       "  <tbody>\n",
       "    <tr>\n",
       "      <td>0</td>\n",
       "      <td>20</td>\n",
       "      <td>13000.000000</td>\n",
       "      <td>108.000000</td>\n",
       "      <td>2019-03-07T00:00:00</td>\n",
       "      <td>3</td>\n",
       "      <td>2.700000</td>\n",
       "      <td>16</td>\n",
       "      <td>51.000000</td>\n",
       "      <td>8</td>\n",
       "      <td>False</td>\n",
       "      <td>False</td>\n",
       "      <td>...</td>\n",
       "      <td>0</td>\n",
       "      <td>Санкт-Петербург</td>\n",
       "      <td>18863.000000</td>\n",
       "      <td>16028.000000</td>\n",
       "      <td>1.000000</td>\n",
       "      <td>482.000000</td>\n",
       "      <td>2.000000</td>\n",
       "      <td>755.000000</td>\n",
       "      <td>nan</td>\n",
       "      <td>False</td>\n",
       "      <td>120.370000</td>\n",
       "    </tr>\n",
       "    <tr>\n",
       "      <td>1</td>\n",
       "      <td>7</td>\n",
       "      <td>3350.000000</td>\n",
       "      <td>40.400000</td>\n",
       "      <td>2018-12-04T00:00:00</td>\n",
       "      <td>1</td>\n",
       "      <td>2.650000</td>\n",
       "      <td>11</td>\n",
       "      <td>18.600000</td>\n",
       "      <td>1</td>\n",
       "      <td>False</td>\n",
       "      <td>False</td>\n",
       "      <td>...</td>\n",
       "      <td>2</td>\n",
       "      <td>поселок Шушары</td>\n",
       "      <td>12817.000000</td>\n",
       "      <td>18603.000000</td>\n",
       "      <td>0.000000</td>\n",
       "      <td>nan</td>\n",
       "      <td>0.000000</td>\n",
       "      <td>nan</td>\n",
       "      <td>81.000000</td>\n",
       "      <td>False</td>\n",
       "      <td>82.920000</td>\n",
       "    </tr>\n",
       "    <tr>\n",
       "      <td>2</td>\n",
       "      <td>10</td>\n",
       "      <td>5196.000000</td>\n",
       "      <td>56.000000</td>\n",
       "      <td>2015-08-20T00:00:00</td>\n",
       "      <td>2</td>\n",
       "      <td>2.650000</td>\n",
       "      <td>5</td>\n",
       "      <td>34.300000</td>\n",
       "      <td>4</td>\n",
       "      <td>False</td>\n",
       "      <td>False</td>\n",
       "      <td>...</td>\n",
       "      <td>0</td>\n",
       "      <td>Санкт-Петербург</td>\n",
       "      <td>21741.000000</td>\n",
       "      <td>13933.000000</td>\n",
       "      <td>1.000000</td>\n",
       "      <td>90.000000</td>\n",
       "      <td>2.000000</td>\n",
       "      <td>574.000000</td>\n",
       "      <td>558.000000</td>\n",
       "      <td>False</td>\n",
       "      <td>92.790000</td>\n",
       "    </tr>\n",
       "    <tr>\n",
       "      <td>3</td>\n",
       "      <td>0</td>\n",
       "      <td>64900.000000</td>\n",
       "      <td>159.000000</td>\n",
       "      <td>2015-07-24T00:00:00</td>\n",
       "      <td>3</td>\n",
       "      <td>2.650000</td>\n",
       "      <td>14</td>\n",
       "      <td>30.000000</td>\n",
       "      <td>9</td>\n",
       "      <td>False</td>\n",
       "      <td>False</td>\n",
       "      <td>...</td>\n",
       "      <td>0</td>\n",
       "      <td>Санкт-Петербург</td>\n",
       "      <td>28098.000000</td>\n",
       "      <td>6800.000000</td>\n",
       "      <td>2.000000</td>\n",
       "      <td>84.000000</td>\n",
       "      <td>3.000000</td>\n",
       "      <td>234.000000</td>\n",
       "      <td>424.000000</td>\n",
       "      <td>False</td>\n",
       "      <td>408.180000</td>\n",
       "    </tr>\n",
       "    <tr>\n",
       "      <td>4</td>\n",
       "      <td>2</td>\n",
       "      <td>10000.000000</td>\n",
       "      <td>100.000000</td>\n",
       "      <td>2018-06-19T00:00:00</td>\n",
       "      <td>2</td>\n",
       "      <td>3.030000</td>\n",
       "      <td>14</td>\n",
       "      <td>32.000000</td>\n",
       "      <td>13</td>\n",
       "      <td>False</td>\n",
       "      <td>False</td>\n",
       "      <td>...</td>\n",
       "      <td>0</td>\n",
       "      <td>Санкт-Петербург</td>\n",
       "      <td>31856.000000</td>\n",
       "      <td>8098.000000</td>\n",
       "      <td>2.000000</td>\n",
       "      <td>112.000000</td>\n",
       "      <td>1.000000</td>\n",
       "      <td>48.000000</td>\n",
       "      <td>121.000000</td>\n",
       "      <td>False</td>\n",
       "      <td>100.000000</td>\n",
       "    </tr>\n",
       "  </tbody>\n",
       "</table>\n",
       "<p>5 rows × 24 columns</p>\n",
       "</div>"
      ],
      "text/plain": [
       "   total_images   last_price  total_area first_day_exposition  rooms  \\\n",
       "0            20 13000.000000  108.000000  2019-03-07T00:00:00      3   \n",
       "1             7  3350.000000   40.400000  2018-12-04T00:00:00      1   \n",
       "2            10  5196.000000   56.000000  2015-08-20T00:00:00      2   \n",
       "3             0 64900.000000  159.000000  2015-07-24T00:00:00      3   \n",
       "4             2 10000.000000  100.000000  2018-06-19T00:00:00      2   \n",
       "\n",
       "   ceiling_height  floors_total  living_area  floor  is_apartment  studio  \\\n",
       "0        2.700000            16    51.000000      8         False   False   \n",
       "1        2.650000            11    18.600000      1         False   False   \n",
       "2        2.650000             5    34.300000      4         False   False   \n",
       "3        2.650000            14    30.000000      9         False   False   \n",
       "4        3.030000            14    32.000000     13         False   False   \n",
       "\n",
       "   ...  balcony    locality_name  airports_nearest city_centers_nearest  \\\n",
       "0  ...        0  Санкт-Петербург      18863.000000         16028.000000   \n",
       "1  ...        2   поселок Шушары      12817.000000         18603.000000   \n",
       "2  ...        0  Санкт-Петербург      21741.000000         13933.000000   \n",
       "3  ...        0  Санкт-Петербург      28098.000000          6800.000000   \n",
       "4  ...        0  Санкт-Петербург      31856.000000          8098.000000   \n",
       "\n",
       "   parks_around3000  parks_nearest  ponds_around3000  ponds_nearest  \\\n",
       "0          1.000000     482.000000          2.000000     755.000000   \n",
       "1          0.000000            nan          0.000000            nan   \n",
       "2          1.000000      90.000000          2.000000     574.000000   \n",
       "3          2.000000      84.000000          3.000000     234.000000   \n",
       "4          2.000000     112.000000          1.000000      48.000000   \n",
       "\n",
       "   days_exposition  flat_on_the_last_floor  price_sq_m  \n",
       "0              nan                   False  120.370000  \n",
       "1        81.000000                   False   82.920000  \n",
       "2       558.000000                   False   92.790000  \n",
       "3       424.000000                   False  408.180000  \n",
       "4       121.000000                   False  100.000000  \n",
       "\n",
       "[5 rows x 24 columns]"
      ]
     },
     "execution_count": 45,
     "metadata": {},
     "output_type": "execute_result"
    }
   ],
   "source": [
    "data['price_sq_m'] = data['last_price'] / data['total_area']\n",
    "data['price_sq_m'] = data['price_sq_m'].astype('float64').round(2)\n",
    "data.head(5)"
   ]
  },
  {
   "cell_type": "markdown",
   "metadata": {},
   "source": [
    "### Столбцы день недели, месяц и год публикации объявления\n",
    "Поскольку нам не важно время добавления объявления, оно во всех вариантах встает как 00:00,то можно округлить данный столбец до даты\n",
    "Затем добавим в таблицу день недели, месяц и год публикации объявления"
   ]
  },
  {
   "cell_type": "code",
   "execution_count": 46,
   "metadata": {
    "scrolled": true
   },
   "outputs": [
    {
     "data": {
      "text/html": [
       "<div>\n",
       "<style scoped>\n",
       "    .dataframe tbody tr th:only-of-type {\n",
       "        vertical-align: middle;\n",
       "    }\n",
       "\n",
       "    .dataframe tbody tr th {\n",
       "        vertical-align: top;\n",
       "    }\n",
       "\n",
       "    .dataframe thead th {\n",
       "        text-align: right;\n",
       "    }\n",
       "</style>\n",
       "<table border=\"1\" class=\"dataframe\">\n",
       "  <thead>\n",
       "    <tr style=\"text-align: right;\">\n",
       "      <th></th>\n",
       "      <th>total_images</th>\n",
       "      <th>last_price</th>\n",
       "      <th>total_area</th>\n",
       "      <th>first_day_exposition</th>\n",
       "      <th>rooms</th>\n",
       "      <th>ceiling_height</th>\n",
       "      <th>floors_total</th>\n",
       "      <th>living_area</th>\n",
       "      <th>floor</th>\n",
       "      <th>is_apartment</th>\n",
       "      <th>studio</th>\n",
       "      <th>...</th>\n",
       "      <th>city_centers_nearest</th>\n",
       "      <th>parks_around3000</th>\n",
       "      <th>parks_nearest</th>\n",
       "      <th>ponds_around3000</th>\n",
       "      <th>ponds_nearest</th>\n",
       "      <th>days_exposition</th>\n",
       "      <th>flat_on_the_last_floor</th>\n",
       "      <th>price_sq_m</th>\n",
       "      <th>week_day</th>\n",
       "      <th>month</th>\n",
       "      <th>year</th>\n",
       "    </tr>\n",
       "  </thead>\n",
       "  <tbody>\n",
       "    <tr>\n",
       "      <td>0</td>\n",
       "      <td>20</td>\n",
       "      <td>13000.000000</td>\n",
       "      <td>108.000000</td>\n",
       "      <td>2019-03-07</td>\n",
       "      <td>3</td>\n",
       "      <td>2.700000</td>\n",
       "      <td>16</td>\n",
       "      <td>51.000000</td>\n",
       "      <td>8</td>\n",
       "      <td>False</td>\n",
       "      <td>False</td>\n",
       "      <td>...</td>\n",
       "      <td>16028.000000</td>\n",
       "      <td>1.000000</td>\n",
       "      <td>482.000000</td>\n",
       "      <td>2.000000</td>\n",
       "      <td>755.000000</td>\n",
       "      <td>nan</td>\n",
       "      <td>False</td>\n",
       "      <td>120.370000</td>\n",
       "      <td>3</td>\n",
       "      <td>3</td>\n",
       "      <td>2019</td>\n",
       "    </tr>\n",
       "    <tr>\n",
       "      <td>1</td>\n",
       "      <td>7</td>\n",
       "      <td>3350.000000</td>\n",
       "      <td>40.400000</td>\n",
       "      <td>2018-12-04</td>\n",
       "      <td>1</td>\n",
       "      <td>2.650000</td>\n",
       "      <td>11</td>\n",
       "      <td>18.600000</td>\n",
       "      <td>1</td>\n",
       "      <td>False</td>\n",
       "      <td>False</td>\n",
       "      <td>...</td>\n",
       "      <td>18603.000000</td>\n",
       "      <td>0.000000</td>\n",
       "      <td>nan</td>\n",
       "      <td>0.000000</td>\n",
       "      <td>nan</td>\n",
       "      <td>81.000000</td>\n",
       "      <td>False</td>\n",
       "      <td>82.920000</td>\n",
       "      <td>1</td>\n",
       "      <td>12</td>\n",
       "      <td>2018</td>\n",
       "    </tr>\n",
       "    <tr>\n",
       "      <td>2</td>\n",
       "      <td>10</td>\n",
       "      <td>5196.000000</td>\n",
       "      <td>56.000000</td>\n",
       "      <td>2015-08-20</td>\n",
       "      <td>2</td>\n",
       "      <td>2.650000</td>\n",
       "      <td>5</td>\n",
       "      <td>34.300000</td>\n",
       "      <td>4</td>\n",
       "      <td>False</td>\n",
       "      <td>False</td>\n",
       "      <td>...</td>\n",
       "      <td>13933.000000</td>\n",
       "      <td>1.000000</td>\n",
       "      <td>90.000000</td>\n",
       "      <td>2.000000</td>\n",
       "      <td>574.000000</td>\n",
       "      <td>558.000000</td>\n",
       "      <td>False</td>\n",
       "      <td>92.790000</td>\n",
       "      <td>3</td>\n",
       "      <td>8</td>\n",
       "      <td>2015</td>\n",
       "    </tr>\n",
       "    <tr>\n",
       "      <td>3</td>\n",
       "      <td>0</td>\n",
       "      <td>64900.000000</td>\n",
       "      <td>159.000000</td>\n",
       "      <td>2015-07-24</td>\n",
       "      <td>3</td>\n",
       "      <td>2.650000</td>\n",
       "      <td>14</td>\n",
       "      <td>30.000000</td>\n",
       "      <td>9</td>\n",
       "      <td>False</td>\n",
       "      <td>False</td>\n",
       "      <td>...</td>\n",
       "      <td>6800.000000</td>\n",
       "      <td>2.000000</td>\n",
       "      <td>84.000000</td>\n",
       "      <td>3.000000</td>\n",
       "      <td>234.000000</td>\n",
       "      <td>424.000000</td>\n",
       "      <td>False</td>\n",
       "      <td>408.180000</td>\n",
       "      <td>4</td>\n",
       "      <td>7</td>\n",
       "      <td>2015</td>\n",
       "    </tr>\n",
       "    <tr>\n",
       "      <td>4</td>\n",
       "      <td>2</td>\n",
       "      <td>10000.000000</td>\n",
       "      <td>100.000000</td>\n",
       "      <td>2018-06-19</td>\n",
       "      <td>2</td>\n",
       "      <td>3.030000</td>\n",
       "      <td>14</td>\n",
       "      <td>32.000000</td>\n",
       "      <td>13</td>\n",
       "      <td>False</td>\n",
       "      <td>False</td>\n",
       "      <td>...</td>\n",
       "      <td>8098.000000</td>\n",
       "      <td>2.000000</td>\n",
       "      <td>112.000000</td>\n",
       "      <td>1.000000</td>\n",
       "      <td>48.000000</td>\n",
       "      <td>121.000000</td>\n",
       "      <td>False</td>\n",
       "      <td>100.000000</td>\n",
       "      <td>1</td>\n",
       "      <td>6</td>\n",
       "      <td>2018</td>\n",
       "    </tr>\n",
       "  </tbody>\n",
       "</table>\n",
       "<p>5 rows × 27 columns</p>\n",
       "</div>"
      ],
      "text/plain": [
       "   total_images   last_price  total_area first_day_exposition  rooms  \\\n",
       "0            20 13000.000000  108.000000           2019-03-07      3   \n",
       "1             7  3350.000000   40.400000           2018-12-04      1   \n",
       "2            10  5196.000000   56.000000           2015-08-20      2   \n",
       "3             0 64900.000000  159.000000           2015-07-24      3   \n",
       "4             2 10000.000000  100.000000           2018-06-19      2   \n",
       "\n",
       "   ceiling_height  floors_total  living_area  floor  is_apartment  studio  \\\n",
       "0        2.700000            16    51.000000      8         False   False   \n",
       "1        2.650000            11    18.600000      1         False   False   \n",
       "2        2.650000             5    34.300000      4         False   False   \n",
       "3        2.650000            14    30.000000      9         False   False   \n",
       "4        3.030000            14    32.000000     13         False   False   \n",
       "\n",
       "   ...  city_centers_nearest  parks_around3000  parks_nearest  \\\n",
       "0  ...          16028.000000          1.000000     482.000000   \n",
       "1  ...          18603.000000          0.000000            nan   \n",
       "2  ...          13933.000000          1.000000      90.000000   \n",
       "3  ...           6800.000000          2.000000      84.000000   \n",
       "4  ...           8098.000000          2.000000     112.000000   \n",
       "\n",
       "  ponds_around3000  ponds_nearest  days_exposition  flat_on_the_last_floor  \\\n",
       "0         2.000000     755.000000              nan                   False   \n",
       "1         0.000000            nan        81.000000                   False   \n",
       "2         2.000000     574.000000       558.000000                   False   \n",
       "3         3.000000     234.000000       424.000000                   False   \n",
       "4         1.000000      48.000000       121.000000                   False   \n",
       "\n",
       "   price_sq_m  week_day  month  year  \n",
       "0  120.370000         3      3  2019  \n",
       "1   82.920000         1     12  2018  \n",
       "2   92.790000         3      8  2015  \n",
       "3  408.180000         4      7  2015  \n",
       "4  100.000000         1      6  2018  \n",
       "\n",
       "[5 rows x 27 columns]"
      ]
     },
     "execution_count": 46,
     "metadata": {},
     "output_type": "execute_result"
    }
   ],
   "source": [
    "#Переведем столбец в формат даты и округлим\n",
    "data['first_day_exposition'] = pd.to_datetime(data['first_day_exposition'],format='%Y.%m.%dT%H:%M:%S')\n",
    "data['first_day_exposition'] = data['first_day_exposition'].dt.round('1D')\n",
    "#День недели\n",
    "data['week_day'] = data['first_day_exposition'].dt.weekday\n",
    "#Месяц\n",
    "data['month'] = data['first_day_exposition'].dt.month\n",
    "#Год\n",
    "data['year'] = data['first_day_exposition'].dt.year\n",
    "data.head()"
   ]
  },
  {
   "cell_type": "markdown",
   "metadata": {},
   "source": [
    "### Столбец этаж квартиры\n",
    "Все многообразие различных этажей на которых находятся продаваемые квартиры сгруппируем в три группы: первый этаж, последний этаж и другой. Поскольку чаще всего первые и последние этажи удешевляют стоимость квартиры"
   ]
  },
  {
   "cell_type": "code",
   "execution_count": 47,
   "metadata": {},
   "outputs": [],
   "source": [
    "def whats_the_floor(row):\n",
    "    floor_flat = row['floor']\n",
    "    total_floor = row['floors_total']\n",
    "    if floor_flat == 1:\n",
    "        return 'Первый этаж'\n",
    "    if floor_flat == total_floor:\n",
    "        return 'Последний этаж'\n",
    "    return 'Другой этаж'"
   ]
  },
  {
   "cell_type": "code",
   "execution_count": 48,
   "metadata": {},
   "outputs": [
    {
     "data": {
      "text/html": [
       "<div>\n",
       "<style scoped>\n",
       "    .dataframe tbody tr th:only-of-type {\n",
       "        vertical-align: middle;\n",
       "    }\n",
       "\n",
       "    .dataframe tbody tr th {\n",
       "        vertical-align: top;\n",
       "    }\n",
       "\n",
       "    .dataframe thead th {\n",
       "        text-align: right;\n",
       "    }\n",
       "</style>\n",
       "<table border=\"1\" class=\"dataframe\">\n",
       "  <thead>\n",
       "    <tr style=\"text-align: right;\">\n",
       "      <th></th>\n",
       "      <th>total_images</th>\n",
       "      <th>last_price</th>\n",
       "      <th>total_area</th>\n",
       "      <th>first_day_exposition</th>\n",
       "      <th>rooms</th>\n",
       "      <th>ceiling_height</th>\n",
       "      <th>floors_total</th>\n",
       "      <th>living_area</th>\n",
       "      <th>floor</th>\n",
       "      <th>is_apartment</th>\n",
       "      <th>studio</th>\n",
       "      <th>...</th>\n",
       "      <th>parks_around3000</th>\n",
       "      <th>parks_nearest</th>\n",
       "      <th>ponds_around3000</th>\n",
       "      <th>ponds_nearest</th>\n",
       "      <th>days_exposition</th>\n",
       "      <th>flat_on_the_last_floor</th>\n",
       "      <th>price_sq_m</th>\n",
       "      <th>week_day</th>\n",
       "      <th>month</th>\n",
       "      <th>year</th>\n",
       "      <th>floor_group</th>\n",
       "    </tr>\n",
       "  </thead>\n",
       "  <tbody>\n",
       "    <tr>\n",
       "      <td>0</td>\n",
       "      <td>20</td>\n",
       "      <td>13000.000000</td>\n",
       "      <td>108.000000</td>\n",
       "      <td>2019-03-07</td>\n",
       "      <td>3</td>\n",
       "      <td>2.700000</td>\n",
       "      <td>16</td>\n",
       "      <td>51.000000</td>\n",
       "      <td>8</td>\n",
       "      <td>False</td>\n",
       "      <td>False</td>\n",
       "      <td>...</td>\n",
       "      <td>1.000000</td>\n",
       "      <td>482.000000</td>\n",
       "      <td>2.000000</td>\n",
       "      <td>755.000000</td>\n",
       "      <td>nan</td>\n",
       "      <td>False</td>\n",
       "      <td>120.370000</td>\n",
       "      <td>3</td>\n",
       "      <td>3</td>\n",
       "      <td>2019</td>\n",
       "      <td>Другой этаж</td>\n",
       "    </tr>\n",
       "    <tr>\n",
       "      <td>1</td>\n",
       "      <td>7</td>\n",
       "      <td>3350.000000</td>\n",
       "      <td>40.400000</td>\n",
       "      <td>2018-12-04</td>\n",
       "      <td>1</td>\n",
       "      <td>2.650000</td>\n",
       "      <td>11</td>\n",
       "      <td>18.600000</td>\n",
       "      <td>1</td>\n",
       "      <td>False</td>\n",
       "      <td>False</td>\n",
       "      <td>...</td>\n",
       "      <td>0.000000</td>\n",
       "      <td>nan</td>\n",
       "      <td>0.000000</td>\n",
       "      <td>nan</td>\n",
       "      <td>81.000000</td>\n",
       "      <td>False</td>\n",
       "      <td>82.920000</td>\n",
       "      <td>1</td>\n",
       "      <td>12</td>\n",
       "      <td>2018</td>\n",
       "      <td>Первый этаж</td>\n",
       "    </tr>\n",
       "    <tr>\n",
       "      <td>2</td>\n",
       "      <td>10</td>\n",
       "      <td>5196.000000</td>\n",
       "      <td>56.000000</td>\n",
       "      <td>2015-08-20</td>\n",
       "      <td>2</td>\n",
       "      <td>2.650000</td>\n",
       "      <td>5</td>\n",
       "      <td>34.300000</td>\n",
       "      <td>4</td>\n",
       "      <td>False</td>\n",
       "      <td>False</td>\n",
       "      <td>...</td>\n",
       "      <td>1.000000</td>\n",
       "      <td>90.000000</td>\n",
       "      <td>2.000000</td>\n",
       "      <td>574.000000</td>\n",
       "      <td>558.000000</td>\n",
       "      <td>False</td>\n",
       "      <td>92.790000</td>\n",
       "      <td>3</td>\n",
       "      <td>8</td>\n",
       "      <td>2015</td>\n",
       "      <td>Другой этаж</td>\n",
       "    </tr>\n",
       "    <tr>\n",
       "      <td>3</td>\n",
       "      <td>0</td>\n",
       "      <td>64900.000000</td>\n",
       "      <td>159.000000</td>\n",
       "      <td>2015-07-24</td>\n",
       "      <td>3</td>\n",
       "      <td>2.650000</td>\n",
       "      <td>14</td>\n",
       "      <td>30.000000</td>\n",
       "      <td>9</td>\n",
       "      <td>False</td>\n",
       "      <td>False</td>\n",
       "      <td>...</td>\n",
       "      <td>2.000000</td>\n",
       "      <td>84.000000</td>\n",
       "      <td>3.000000</td>\n",
       "      <td>234.000000</td>\n",
       "      <td>424.000000</td>\n",
       "      <td>False</td>\n",
       "      <td>408.180000</td>\n",
       "      <td>4</td>\n",
       "      <td>7</td>\n",
       "      <td>2015</td>\n",
       "      <td>Другой этаж</td>\n",
       "    </tr>\n",
       "    <tr>\n",
       "      <td>4</td>\n",
       "      <td>2</td>\n",
       "      <td>10000.000000</td>\n",
       "      <td>100.000000</td>\n",
       "      <td>2018-06-19</td>\n",
       "      <td>2</td>\n",
       "      <td>3.030000</td>\n",
       "      <td>14</td>\n",
       "      <td>32.000000</td>\n",
       "      <td>13</td>\n",
       "      <td>False</td>\n",
       "      <td>False</td>\n",
       "      <td>...</td>\n",
       "      <td>2.000000</td>\n",
       "      <td>112.000000</td>\n",
       "      <td>1.000000</td>\n",
       "      <td>48.000000</td>\n",
       "      <td>121.000000</td>\n",
       "      <td>False</td>\n",
       "      <td>100.000000</td>\n",
       "      <td>1</td>\n",
       "      <td>6</td>\n",
       "      <td>2018</td>\n",
       "      <td>Другой этаж</td>\n",
       "    </tr>\n",
       "  </tbody>\n",
       "</table>\n",
       "<p>5 rows × 28 columns</p>\n",
       "</div>"
      ],
      "text/plain": [
       "   total_images   last_price  total_area first_day_exposition  rooms  \\\n",
       "0            20 13000.000000  108.000000           2019-03-07      3   \n",
       "1             7  3350.000000   40.400000           2018-12-04      1   \n",
       "2            10  5196.000000   56.000000           2015-08-20      2   \n",
       "3             0 64900.000000  159.000000           2015-07-24      3   \n",
       "4             2 10000.000000  100.000000           2018-06-19      2   \n",
       "\n",
       "   ceiling_height  floors_total  living_area  floor  is_apartment  studio  \\\n",
       "0        2.700000            16    51.000000      8         False   False   \n",
       "1        2.650000            11    18.600000      1         False   False   \n",
       "2        2.650000             5    34.300000      4         False   False   \n",
       "3        2.650000            14    30.000000      9         False   False   \n",
       "4        3.030000            14    32.000000     13         False   False   \n",
       "\n",
       "   ...  parks_around3000  parks_nearest  ponds_around3000 ponds_nearest  \\\n",
       "0  ...          1.000000     482.000000          2.000000    755.000000   \n",
       "1  ...          0.000000            nan          0.000000           nan   \n",
       "2  ...          1.000000      90.000000          2.000000    574.000000   \n",
       "3  ...          2.000000      84.000000          3.000000    234.000000   \n",
       "4  ...          2.000000     112.000000          1.000000     48.000000   \n",
       "\n",
       "   days_exposition  flat_on_the_last_floor  price_sq_m  week_day  month  year  \\\n",
       "0              nan                   False  120.370000         3      3  2019   \n",
       "1        81.000000                   False   82.920000         1     12  2018   \n",
       "2       558.000000                   False   92.790000         3      8  2015   \n",
       "3       424.000000                   False  408.180000         4      7  2015   \n",
       "4       121.000000                   False  100.000000         1      6  2018   \n",
       "\n",
       "   floor_group  \n",
       "0  Другой этаж  \n",
       "1  Первый этаж  \n",
       "2  Другой этаж  \n",
       "3  Другой этаж  \n",
       "4  Другой этаж  \n",
       "\n",
       "[5 rows x 28 columns]"
      ]
     },
     "execution_count": 48,
     "metadata": {},
     "output_type": "execute_result"
    }
   ],
   "source": [
    "data['floor_group'] = data.apply(whats_the_floor, axis=1)\n",
    "data.head()"
   ]
  },
  {
   "cell_type": "markdown",
   "metadata": {},
   "source": [
    "### Столбцы с соотношением жилой и общей площади, а также отношением площади кухни к общей\n",
    "Добавим столбец с соотношением жилой и общей площади, а также отношением площади кухни к общей. Оставим три цифры после запятой, поскольку мы считаем доли от целого"
   ]
  },
  {
   "cell_type": "code",
   "execution_count": 49,
   "metadata": {},
   "outputs": [
    {
     "data": {
      "text/html": [
       "<div>\n",
       "<style scoped>\n",
       "    .dataframe tbody tr th:only-of-type {\n",
       "        vertical-align: middle;\n",
       "    }\n",
       "\n",
       "    .dataframe tbody tr th {\n",
       "        vertical-align: top;\n",
       "    }\n",
       "\n",
       "    .dataframe thead th {\n",
       "        text-align: right;\n",
       "    }\n",
       "</style>\n",
       "<table border=\"1\" class=\"dataframe\">\n",
       "  <thead>\n",
       "    <tr style=\"text-align: right;\">\n",
       "      <th></th>\n",
       "      <th>total_images</th>\n",
       "      <th>last_price</th>\n",
       "      <th>total_area</th>\n",
       "      <th>first_day_exposition</th>\n",
       "      <th>rooms</th>\n",
       "      <th>ceiling_height</th>\n",
       "      <th>floors_total</th>\n",
       "      <th>living_area</th>\n",
       "      <th>floor</th>\n",
       "      <th>is_apartment</th>\n",
       "      <th>studio</th>\n",
       "      <th>...</th>\n",
       "      <th>ponds_around3000</th>\n",
       "      <th>ponds_nearest</th>\n",
       "      <th>days_exposition</th>\n",
       "      <th>flat_on_the_last_floor</th>\n",
       "      <th>price_sq_m</th>\n",
       "      <th>week_day</th>\n",
       "      <th>month</th>\n",
       "      <th>year</th>\n",
       "      <th>floor_group</th>\n",
       "      <th>living_to_total</th>\n",
       "      <th>kitchen_to_total</th>\n",
       "    </tr>\n",
       "  </thead>\n",
       "  <tbody>\n",
       "    <tr>\n",
       "      <td>0</td>\n",
       "      <td>20</td>\n",
       "      <td>13000.000000</td>\n",
       "      <td>108.000000</td>\n",
       "      <td>2019-03-07</td>\n",
       "      <td>3</td>\n",
       "      <td>2.700000</td>\n",
       "      <td>16</td>\n",
       "      <td>51.000000</td>\n",
       "      <td>8</td>\n",
       "      <td>False</td>\n",
       "      <td>False</td>\n",
       "      <td>...</td>\n",
       "      <td>2.000000</td>\n",
       "      <td>755.000000</td>\n",
       "      <td>nan</td>\n",
       "      <td>False</td>\n",
       "      <td>120.370000</td>\n",
       "      <td>3</td>\n",
       "      <td>3</td>\n",
       "      <td>2019</td>\n",
       "      <td>Другой этаж</td>\n",
       "      <td>0.472000</td>\n",
       "      <td>0.231000</td>\n",
       "    </tr>\n",
       "    <tr>\n",
       "      <td>1</td>\n",
       "      <td>7</td>\n",
       "      <td>3350.000000</td>\n",
       "      <td>40.400000</td>\n",
       "      <td>2018-12-04</td>\n",
       "      <td>1</td>\n",
       "      <td>2.650000</td>\n",
       "      <td>11</td>\n",
       "      <td>18.600000</td>\n",
       "      <td>1</td>\n",
       "      <td>False</td>\n",
       "      <td>False</td>\n",
       "      <td>...</td>\n",
       "      <td>0.000000</td>\n",
       "      <td>nan</td>\n",
       "      <td>81.000000</td>\n",
       "      <td>False</td>\n",
       "      <td>82.920000</td>\n",
       "      <td>1</td>\n",
       "      <td>12</td>\n",
       "      <td>2018</td>\n",
       "      <td>Первый этаж</td>\n",
       "      <td>0.460000</td>\n",
       "      <td>0.272000</td>\n",
       "    </tr>\n",
       "    <tr>\n",
       "      <td>2</td>\n",
       "      <td>10</td>\n",
       "      <td>5196.000000</td>\n",
       "      <td>56.000000</td>\n",
       "      <td>2015-08-20</td>\n",
       "      <td>2</td>\n",
       "      <td>2.650000</td>\n",
       "      <td>5</td>\n",
       "      <td>34.300000</td>\n",
       "      <td>4</td>\n",
       "      <td>False</td>\n",
       "      <td>False</td>\n",
       "      <td>...</td>\n",
       "      <td>2.000000</td>\n",
       "      <td>574.000000</td>\n",
       "      <td>558.000000</td>\n",
       "      <td>False</td>\n",
       "      <td>92.790000</td>\n",
       "      <td>3</td>\n",
       "      <td>8</td>\n",
       "      <td>2015</td>\n",
       "      <td>Другой этаж</td>\n",
       "      <td>0.612000</td>\n",
       "      <td>0.148000</td>\n",
       "    </tr>\n",
       "    <tr>\n",
       "      <td>3</td>\n",
       "      <td>0</td>\n",
       "      <td>64900.000000</td>\n",
       "      <td>159.000000</td>\n",
       "      <td>2015-07-24</td>\n",
       "      <td>3</td>\n",
       "      <td>2.650000</td>\n",
       "      <td>14</td>\n",
       "      <td>30.000000</td>\n",
       "      <td>9</td>\n",
       "      <td>False</td>\n",
       "      <td>False</td>\n",
       "      <td>...</td>\n",
       "      <td>3.000000</td>\n",
       "      <td>234.000000</td>\n",
       "      <td>424.000000</td>\n",
       "      <td>False</td>\n",
       "      <td>408.180000</td>\n",
       "      <td>4</td>\n",
       "      <td>7</td>\n",
       "      <td>2015</td>\n",
       "      <td>Другой этаж</td>\n",
       "      <td>0.189000</td>\n",
       "      <td>0.057000</td>\n",
       "    </tr>\n",
       "    <tr>\n",
       "      <td>4</td>\n",
       "      <td>2</td>\n",
       "      <td>10000.000000</td>\n",
       "      <td>100.000000</td>\n",
       "      <td>2018-06-19</td>\n",
       "      <td>2</td>\n",
       "      <td>3.030000</td>\n",
       "      <td>14</td>\n",
       "      <td>32.000000</td>\n",
       "      <td>13</td>\n",
       "      <td>False</td>\n",
       "      <td>False</td>\n",
       "      <td>...</td>\n",
       "      <td>1.000000</td>\n",
       "      <td>48.000000</td>\n",
       "      <td>121.000000</td>\n",
       "      <td>False</td>\n",
       "      <td>100.000000</td>\n",
       "      <td>1</td>\n",
       "      <td>6</td>\n",
       "      <td>2018</td>\n",
       "      <td>Другой этаж</td>\n",
       "      <td>0.320000</td>\n",
       "      <td>0.410000</td>\n",
       "    </tr>\n",
       "    <tr>\n",
       "      <td>5</td>\n",
       "      <td>10</td>\n",
       "      <td>2890.000000</td>\n",
       "      <td>30.400000</td>\n",
       "      <td>2018-09-10</td>\n",
       "      <td>1</td>\n",
       "      <td>2.650000</td>\n",
       "      <td>12</td>\n",
       "      <td>14.400000</td>\n",
       "      <td>5</td>\n",
       "      <td>False</td>\n",
       "      <td>False</td>\n",
       "      <td>...</td>\n",
       "      <td>nan</td>\n",
       "      <td>nan</td>\n",
       "      <td>55.000000</td>\n",
       "      <td>False</td>\n",
       "      <td>95.070000</td>\n",
       "      <td>0</td>\n",
       "      <td>9</td>\n",
       "      <td>2018</td>\n",
       "      <td>Другой этаж</td>\n",
       "      <td>0.474000</td>\n",
       "      <td>0.299000</td>\n",
       "    </tr>\n",
       "    <tr>\n",
       "      <td>6</td>\n",
       "      <td>6</td>\n",
       "      <td>3700.000000</td>\n",
       "      <td>37.300000</td>\n",
       "      <td>2017-11-02</td>\n",
       "      <td>1</td>\n",
       "      <td>2.650000</td>\n",
       "      <td>26</td>\n",
       "      <td>10.600000</td>\n",
       "      <td>6</td>\n",
       "      <td>False</td>\n",
       "      <td>False</td>\n",
       "      <td>...</td>\n",
       "      <td>0.000000</td>\n",
       "      <td>nan</td>\n",
       "      <td>155.000000</td>\n",
       "      <td>False</td>\n",
       "      <td>99.200000</td>\n",
       "      <td>3</td>\n",
       "      <td>11</td>\n",
       "      <td>2017</td>\n",
       "      <td>Другой этаж</td>\n",
       "      <td>0.284000</td>\n",
       "      <td>0.386000</td>\n",
       "    </tr>\n",
       "    <tr>\n",
       "      <td>7</td>\n",
       "      <td>5</td>\n",
       "      <td>7915.000000</td>\n",
       "      <td>71.600000</td>\n",
       "      <td>2019-04-18</td>\n",
       "      <td>2</td>\n",
       "      <td>2.650000</td>\n",
       "      <td>24</td>\n",
       "      <td>30.000000</td>\n",
       "      <td>22</td>\n",
       "      <td>False</td>\n",
       "      <td>False</td>\n",
       "      <td>...</td>\n",
       "      <td>0.000000</td>\n",
       "      <td>nan</td>\n",
       "      <td>nan</td>\n",
       "      <td>False</td>\n",
       "      <td>110.540000</td>\n",
       "      <td>3</td>\n",
       "      <td>4</td>\n",
       "      <td>2019</td>\n",
       "      <td>Другой этаж</td>\n",
       "      <td>0.419000</td>\n",
       "      <td>0.264000</td>\n",
       "    </tr>\n",
       "    <tr>\n",
       "      <td>8</td>\n",
       "      <td>20</td>\n",
       "      <td>2900.000000</td>\n",
       "      <td>33.160000</td>\n",
       "      <td>2018-05-23</td>\n",
       "      <td>1</td>\n",
       "      <td>2.650000</td>\n",
       "      <td>27</td>\n",
       "      <td>15.430000</td>\n",
       "      <td>26</td>\n",
       "      <td>False</td>\n",
       "      <td>False</td>\n",
       "      <td>...</td>\n",
       "      <td>nan</td>\n",
       "      <td>nan</td>\n",
       "      <td>189.000000</td>\n",
       "      <td>False</td>\n",
       "      <td>87.450000</td>\n",
       "      <td>2</td>\n",
       "      <td>5</td>\n",
       "      <td>2018</td>\n",
       "      <td>Другой этаж</td>\n",
       "      <td>0.465000</td>\n",
       "      <td>0.266000</td>\n",
       "    </tr>\n",
       "    <tr>\n",
       "      <td>9</td>\n",
       "      <td>18</td>\n",
       "      <td>5400.000000</td>\n",
       "      <td>61.000000</td>\n",
       "      <td>2017-02-26</td>\n",
       "      <td>3</td>\n",
       "      <td>2.500000</td>\n",
       "      <td>9</td>\n",
       "      <td>43.600000</td>\n",
       "      <td>7</td>\n",
       "      <td>False</td>\n",
       "      <td>False</td>\n",
       "      <td>...</td>\n",
       "      <td>0.000000</td>\n",
       "      <td>nan</td>\n",
       "      <td>289.000000</td>\n",
       "      <td>False</td>\n",
       "      <td>88.520000</td>\n",
       "      <td>6</td>\n",
       "      <td>2</td>\n",
       "      <td>2017</td>\n",
       "      <td>Другой этаж</td>\n",
       "      <td>0.715000</td>\n",
       "      <td>0.107000</td>\n",
       "    </tr>\n",
       "    <tr>\n",
       "      <td>10</td>\n",
       "      <td>5</td>\n",
       "      <td>5050.000000</td>\n",
       "      <td>39.600000</td>\n",
       "      <td>2017-11-16</td>\n",
       "      <td>1</td>\n",
       "      <td>2.670000</td>\n",
       "      <td>12</td>\n",
       "      <td>20.300000</td>\n",
       "      <td>3</td>\n",
       "      <td>False</td>\n",
       "      <td>False</td>\n",
       "      <td>...</td>\n",
       "      <td>2.000000</td>\n",
       "      <td>553.000000</td>\n",
       "      <td>137.000000</td>\n",
       "      <td>False</td>\n",
       "      <td>127.530000</td>\n",
       "      <td>3</td>\n",
       "      <td>11</td>\n",
       "      <td>2017</td>\n",
       "      <td>Другой этаж</td>\n",
       "      <td>0.513000</td>\n",
       "      <td>0.215000</td>\n",
       "    </tr>\n",
       "    <tr>\n",
       "      <td>11</td>\n",
       "      <td>9</td>\n",
       "      <td>3300.000000</td>\n",
       "      <td>44.000000</td>\n",
       "      <td>2018-08-27</td>\n",
       "      <td>2</td>\n",
       "      <td>2.650000</td>\n",
       "      <td>5</td>\n",
       "      <td>31.000000</td>\n",
       "      <td>4</td>\n",
       "      <td>False</td>\n",
       "      <td>False</td>\n",
       "      <td>...</td>\n",
       "      <td>0.000000</td>\n",
       "      <td>nan</td>\n",
       "      <td>7.000000</td>\n",
       "      <td>False</td>\n",
       "      <td>75.000000</td>\n",
       "      <td>0</td>\n",
       "      <td>8</td>\n",
       "      <td>2018</td>\n",
       "      <td>Другой этаж</td>\n",
       "      <td>0.705000</td>\n",
       "      <td>0.136000</td>\n",
       "    </tr>\n",
       "    <tr>\n",
       "      <td>12</td>\n",
       "      <td>10</td>\n",
       "      <td>3890.000000</td>\n",
       "      <td>54.000000</td>\n",
       "      <td>2016-06-30</td>\n",
       "      <td>2</td>\n",
       "      <td>2.650000</td>\n",
       "      <td>5</td>\n",
       "      <td>30.000000</td>\n",
       "      <td>5</td>\n",
       "      <td>False</td>\n",
       "      <td>False</td>\n",
       "      <td>...</td>\n",
       "      <td>nan</td>\n",
       "      <td>nan</td>\n",
       "      <td>90.000000</td>\n",
       "      <td>True</td>\n",
       "      <td>72.040000</td>\n",
       "      <td>3</td>\n",
       "      <td>6</td>\n",
       "      <td>2016</td>\n",
       "      <td>Последний этаж</td>\n",
       "      <td>0.556000</td>\n",
       "      <td>0.167000</td>\n",
       "    </tr>\n",
       "    <tr>\n",
       "      <td>13</td>\n",
       "      <td>20</td>\n",
       "      <td>3550.000000</td>\n",
       "      <td>42.800000</td>\n",
       "      <td>2017-07-01</td>\n",
       "      <td>2</td>\n",
       "      <td>2.560000</td>\n",
       "      <td>5</td>\n",
       "      <td>27.000000</td>\n",
       "      <td>5</td>\n",
       "      <td>False</td>\n",
       "      <td>False</td>\n",
       "      <td>...</td>\n",
       "      <td>3.000000</td>\n",
       "      <td>298.000000</td>\n",
       "      <td>366.000000</td>\n",
       "      <td>True</td>\n",
       "      <td>82.940000</td>\n",
       "      <td>5</td>\n",
       "      <td>7</td>\n",
       "      <td>2017</td>\n",
       "      <td>Последний этаж</td>\n",
       "      <td>0.631000</td>\n",
       "      <td>0.121000</td>\n",
       "    </tr>\n",
       "    <tr>\n",
       "      <td>14</td>\n",
       "      <td>1</td>\n",
       "      <td>4400.000000</td>\n",
       "      <td>36.000000</td>\n",
       "      <td>2016-06-23</td>\n",
       "      <td>1</td>\n",
       "      <td>2.650000</td>\n",
       "      <td>6</td>\n",
       "      <td>17.000000</td>\n",
       "      <td>1</td>\n",
       "      <td>False</td>\n",
       "      <td>False</td>\n",
       "      <td>...</td>\n",
       "      <td>1.000000</td>\n",
       "      <td>96.000000</td>\n",
       "      <td>203.000000</td>\n",
       "      <td>False</td>\n",
       "      <td>122.220000</td>\n",
       "      <td>3</td>\n",
       "      <td>6</td>\n",
       "      <td>2016</td>\n",
       "      <td>Первый этаж</td>\n",
       "      <td>0.472000</td>\n",
       "      <td>0.222000</td>\n",
       "    </tr>\n",
       "  </tbody>\n",
       "</table>\n",
       "<p>15 rows × 30 columns</p>\n",
       "</div>"
      ],
      "text/plain": [
       "    total_images   last_price  total_area first_day_exposition  rooms  \\\n",
       "0             20 13000.000000  108.000000           2019-03-07      3   \n",
       "1              7  3350.000000   40.400000           2018-12-04      1   \n",
       "2             10  5196.000000   56.000000           2015-08-20      2   \n",
       "3              0 64900.000000  159.000000           2015-07-24      3   \n",
       "4              2 10000.000000  100.000000           2018-06-19      2   \n",
       "5             10  2890.000000   30.400000           2018-09-10      1   \n",
       "6              6  3700.000000   37.300000           2017-11-02      1   \n",
       "7              5  7915.000000   71.600000           2019-04-18      2   \n",
       "8             20  2900.000000   33.160000           2018-05-23      1   \n",
       "9             18  5400.000000   61.000000           2017-02-26      3   \n",
       "10             5  5050.000000   39.600000           2017-11-16      1   \n",
       "11             9  3300.000000   44.000000           2018-08-27      2   \n",
       "12            10  3890.000000   54.000000           2016-06-30      2   \n",
       "13            20  3550.000000   42.800000           2017-07-01      2   \n",
       "14             1  4400.000000   36.000000           2016-06-23      1   \n",
       "\n",
       "    ceiling_height  floors_total  living_area  floor  is_apartment  studio  \\\n",
       "0         2.700000            16    51.000000      8         False   False   \n",
       "1         2.650000            11    18.600000      1         False   False   \n",
       "2         2.650000             5    34.300000      4         False   False   \n",
       "3         2.650000            14    30.000000      9         False   False   \n",
       "4         3.030000            14    32.000000     13         False   False   \n",
       "5         2.650000            12    14.400000      5         False   False   \n",
       "6         2.650000            26    10.600000      6         False   False   \n",
       "7         2.650000            24    30.000000     22         False   False   \n",
       "8         2.650000            27    15.430000     26         False   False   \n",
       "9         2.500000             9    43.600000      7         False   False   \n",
       "10        2.670000            12    20.300000      3         False   False   \n",
       "11        2.650000             5    31.000000      4         False   False   \n",
       "12        2.650000             5    30.000000      5         False   False   \n",
       "13        2.560000             5    27.000000      5         False   False   \n",
       "14        2.650000             6    17.000000      1         False   False   \n",
       "\n",
       "    ...  ponds_around3000  ponds_nearest  days_exposition  \\\n",
       "0   ...          2.000000     755.000000              nan   \n",
       "1   ...          0.000000            nan        81.000000   \n",
       "2   ...          2.000000     574.000000       558.000000   \n",
       "3   ...          3.000000     234.000000       424.000000   \n",
       "4   ...          1.000000      48.000000       121.000000   \n",
       "5   ...               nan            nan        55.000000   \n",
       "6   ...          0.000000            nan       155.000000   \n",
       "7   ...          0.000000            nan              nan   \n",
       "8   ...               nan            nan       189.000000   \n",
       "9   ...          0.000000            nan       289.000000   \n",
       "10  ...          2.000000     553.000000       137.000000   \n",
       "11  ...          0.000000            nan         7.000000   \n",
       "12  ...               nan            nan        90.000000   \n",
       "13  ...          3.000000     298.000000       366.000000   \n",
       "14  ...          1.000000      96.000000       203.000000   \n",
       "\n",
       "   flat_on_the_last_floor  price_sq_m  week_day  month  year     floor_group  \\\n",
       "0                   False  120.370000         3      3  2019     Другой этаж   \n",
       "1                   False   82.920000         1     12  2018     Первый этаж   \n",
       "2                   False   92.790000         3      8  2015     Другой этаж   \n",
       "3                   False  408.180000         4      7  2015     Другой этаж   \n",
       "4                   False  100.000000         1      6  2018     Другой этаж   \n",
       "5                   False   95.070000         0      9  2018     Другой этаж   \n",
       "6                   False   99.200000         3     11  2017     Другой этаж   \n",
       "7                   False  110.540000         3      4  2019     Другой этаж   \n",
       "8                   False   87.450000         2      5  2018     Другой этаж   \n",
       "9                   False   88.520000         6      2  2017     Другой этаж   \n",
       "10                  False  127.530000         3     11  2017     Другой этаж   \n",
       "11                  False   75.000000         0      8  2018     Другой этаж   \n",
       "12                   True   72.040000         3      6  2016  Последний этаж   \n",
       "13                   True   82.940000         5      7  2017  Последний этаж   \n",
       "14                  False  122.220000         3      6  2016     Первый этаж   \n",
       "\n",
       "    living_to_total  kitchen_to_total  \n",
       "0          0.472000          0.231000  \n",
       "1          0.460000          0.272000  \n",
       "2          0.612000          0.148000  \n",
       "3          0.189000          0.057000  \n",
       "4          0.320000          0.410000  \n",
       "5          0.474000          0.299000  \n",
       "6          0.284000          0.386000  \n",
       "7          0.419000          0.264000  \n",
       "8          0.465000          0.266000  \n",
       "9          0.715000          0.107000  \n",
       "10         0.513000          0.215000  \n",
       "11         0.705000          0.136000  \n",
       "12         0.556000          0.167000  \n",
       "13         0.631000          0.121000  \n",
       "14         0.472000          0.222000  \n",
       "\n",
       "[15 rows x 30 columns]"
      ]
     },
     "execution_count": 49,
     "metadata": {},
     "output_type": "execute_result"
    }
   ],
   "source": [
    "data['living_to_total'] = data['living_area'] / data['total_area']\n",
    "data['kitchen_to_total'] = data['kitchen_area'] / data['total_area']\n",
    "data['living_to_total'] = data['living_to_total'].round(3)\n",
    "data['kitchen_to_total'] = data['kitchen_to_total'].round(3)\n",
    "data.head(15)"
   ]
  },
  {
   "cell_type": "markdown",
   "metadata": {},
   "source": [
    "### Вывод "
   ]
  },
  {
   "cell_type": "markdown",
   "metadata": {},
   "source": [
    "В данной главе мы рассчитали требуемые для анализа дополнительные данные"
   ]
  },
  {
   "cell_type": "markdown",
   "metadata": {},
   "source": [
    "## Исследовательский анализ данных"
   ]
  },
  {
   "cell_type": "markdown",
   "metadata": {},
   "source": [
    "### Изучение параметров: площадь, цена, число комнат, высота потолков"
   ]
  },
  {
   "cell_type": "markdown",
   "metadata": {},
   "source": [
    "#### Изучим параметр: общая площадь квартиры"
   ]
  },
  {
   "cell_type": "code",
   "execution_count": 50,
   "metadata": {},
   "outputs": [
    {
     "data": {
      "text/plain": [
       "count   23650.000000\n",
       "mean       60.329069\n",
       "std        35.661808\n",
       "min        12.000000\n",
       "25%        40.000000\n",
       "50%        52.000000\n",
       "75%        69.700000\n",
       "max       900.000000\n",
       "Name: total_area, dtype: float64"
      ]
     },
     "execution_count": 50,
     "metadata": {},
     "output_type": "execute_result"
    }
   ],
   "source": [
    "data['total_area'].describe()"
   ]
  },
  {
   "cell_type": "markdown",
   "metadata": {},
   "source": [
    "Всего изучено 23650 вариантов квартир с площадью от 12 кв.м. до 900 кв.м. В среднем площадь квартиры составляет 60,33 кв. м. Медиана - 52 кв.м. Медиана меньше среднего значения в связи с тем, что есть очень редкие варианты квартир с очень большой площадью. "
   ]
  },
  {
   "cell_type": "markdown",
   "metadata": {},
   "source": [
    "Построим гистограмму показателя общая площадь квартиры, для начала возьмем весь размах вариации"
   ]
  },
  {
   "cell_type": "code",
   "execution_count": 51,
   "metadata": {},
   "outputs": [
    {
     "data": {
      "text/plain": [
       "<matplotlib.axes._subplots.AxesSubplot at 0x7f674941e850>"
      ]
     },
     "execution_count": 51,
     "metadata": {},
     "output_type": "execute_result"
    },
    {
     "data": {
      "image/png": "[encoded data removed]",
      "text/plain": [
       "<Figure size 432x288 with 1 Axes>"
      ]
     },
     "metadata": {
      "needs_background": "light"
     },
     "output_type": "display_data"
    }
   ],
   "source": [
    "data['total_area'].hist(bins=100,range=(12,900))"
   ]
  },
  {
   "cell_type": "markdown",
   "metadata": {},
   "source": [
    "Данная гистограмма плохо воспринимается визуально, примем размах вариации до 75%, то есть от 12 до 70 кв.м."
   ]
  },
  {
   "cell_type": "code",
   "execution_count": 52,
   "metadata": {},
   "outputs": [
    {
     "data": {
      "text/plain": [
       "<matplotlib.axes._subplots.AxesSubplot at 0x7f671af40dd0>"
      ]
     },
     "execution_count": 52,
     "metadata": {},
     "output_type": "execute_result"
    },
    {
     "data": {
      "image/png": "[encoded data removed]",
      "text/plain": [
       "<Figure size 432x288 with 1 Axes>"
      ]
     },
     "metadata": {
      "needs_background": "light"
     },
     "output_type": "display_data"
    }
   ],
   "source": [
    "data['total_area'].hist(bins=100,range=(12,70))"
   ]
  },
  {
   "cell_type": "markdown",
   "metadata": {},
   "source": [
    "Большинство квартир имеют площадь от 20 до 70 кв.м."
   ]
  },
  {
   "cell_type": "markdown",
   "metadata": {},
   "source": [
    "#### Изучим параметр: цена квартиры"
   ]
  },
  {
   "cell_type": "code",
   "execution_count": 53,
   "metadata": {},
   "outputs": [
    {
     "data": {
      "text/plain": [
       "count    23650.000000\n",
       "mean      6541.126898\n",
       "std      10896.399175\n",
       "min         12.190000\n",
       "25%       3400.000000\n",
       "50%       4650.000000\n",
       "75%       6799.000000\n",
       "max     763000.000000\n",
       "Name: last_price, dtype: float64"
      ]
     },
     "execution_count": 53,
     "metadata": {},
     "output_type": "execute_result"
    }
   ],
   "source": [
    "data['last_price'].describe()"
   ]
  },
  {
   "cell_type": "code",
   "execution_count": 54,
   "metadata": {},
   "outputs": [
    {
     "data": {
      "text/plain": [
       "<matplotlib.axes._subplots.AxesSubplot at 0x7f671a3bb290>"
      ]
     },
     "execution_count": 54,
     "metadata": {},
     "output_type": "execute_result"
    },
    {
     "data": {
      "image/png": "[encoded data removed]",
      "text/plain": [
       "<Figure size 432x288 with 1 Axes>"
      ]
     },
     "metadata": {
      "needs_background": "light"
     },
     "output_type": "display_data"
    }
   ],
   "source": [
    "data['last_price'].hist(bins=100,range=(10,7000))"
   ]
  },
  {
   "cell_type": "markdown",
   "metadata": {},
   "source": [
    "Всего изучено 23650 вариантов квартир с ценой от 12,19 до 763000 тыс. руб. В среднем цена квартиры составляет 6541,13 тыс. р. Медиана - 4650 тыс.р. Медиана меньше среднего значения в связи с тем, что есть очень редкие варианты квартир с очень высокой ценой."
   ]
  },
  {
   "cell_type": "markdown",
   "metadata": {},
   "source": [
    "#### Изучим параметр: число комнат"
   ]
  },
  {
   "cell_type": "code",
   "execution_count": 55,
   "metadata": {},
   "outputs": [
    {
     "data": {
      "text/plain": [
       "count   23650.000000\n",
       "mean        2.070106\n",
       "std         1.078620\n",
       "min         0.000000\n",
       "25%         1.000000\n",
       "50%         2.000000\n",
       "75%         3.000000\n",
       "max        19.000000\n",
       "Name: rooms, dtype: float64"
      ]
     },
     "execution_count": 55,
     "metadata": {},
     "output_type": "execute_result"
    }
   ],
   "source": [
    "data['rooms'].describe()"
   ]
  },
  {
   "cell_type": "markdown",
   "metadata": {},
   "source": [
    "Построим гистограмму с малым числом корзин, так как число комнат обладает небольшим разбросом, от 0 до 19 комнат"
   ]
  },
  {
   "cell_type": "code",
   "execution_count": 56,
   "metadata": {},
   "outputs": [
    {
     "data": {
      "text/plain": [
       "<matplotlib.axes._subplots.AxesSubplot at 0x7f6719da5350>"
      ]
     },
     "execution_count": 56,
     "metadata": {},
     "output_type": "execute_result"
    },
    {
     "data": {
      "image/png": "[encoded data removed]",
      "text/plain": [
       "<Figure size 432x288 with 1 Axes>"
      ]
     },
     "metadata": {
      "needs_background": "light"
     },
     "output_type": "display_data"
    }
   ],
   "source": [
    "data['rooms'].hist(bins=20,range=(0,19))"
   ]
  },
  {
   "cell_type": "markdown",
   "metadata": {},
   "source": [
    "Всего изучено 23650 вариантов квартир с количеством комнат от 0 до 19. В среднем количество комнат составляет 2,07 комнаты. Медиана - 2 комнаты."
   ]
  },
  {
   "cell_type": "markdown",
   "metadata": {},
   "source": [
    "#### Изучим параметр: высота потолков"
   ]
  },
  {
   "cell_type": "code",
   "execution_count": 57,
   "metadata": {},
   "outputs": [
    {
     "data": {
      "text/plain": [
       "count   23650.000000\n",
       "mean        2.724311\n",
       "std         0.989255\n",
       "min         1.000000\n",
       "25%         2.600000\n",
       "50%         2.650000\n",
       "75%         2.700000\n",
       "max       100.000000\n",
       "Name: ceiling_height, dtype: float64"
      ]
     },
     "execution_count": 57,
     "metadata": {},
     "output_type": "execute_result"
    }
   ],
   "source": [
    "data['ceiling_height'].describe()"
   ]
  },
  {
   "cell_type": "code",
   "execution_count": 58,
   "metadata": {},
   "outputs": [
    {
     "data": {
      "text/plain": [
       "<matplotlib.axes._subplots.AxesSubplot at 0x7f6719940a90>"
      ]
     },
     "execution_count": 58,
     "metadata": {},
     "output_type": "execute_result"
    },
    {
     "data": {
      "image/png": "[encoded data removed]",
      "text/plain": [
       "<Figure size 432x288 with 1 Axes>"
      ]
     },
     "metadata": {
      "needs_background": "light"
     },
     "output_type": "display_data"
    }
   ],
   "source": [
    "data['ceiling_height'].hist(bins=18,range=(1,3))"
   ]
  },
  {
   "cell_type": "markdown",
   "metadata": {},
   "source": [
    "Всего изучено 23650 вариантов квартир с высотой потолков от 1 до 100 м. В среднем высота потолков составляет 2,72 м. Медиана - 2,65 м."
   ]
  },
  {
   "cell_type": "markdown",
   "metadata": {},
   "source": [
    "### Изучите время продажи квартиры"
   ]
  },
  {
   "cell_type": "code",
   "execution_count": 59,
   "metadata": {},
   "outputs": [
    {
     "data": {
      "text/plain": [
       "count   20470.000000\n",
       "mean      180.753200\n",
       "std       219.777916\n",
       "min         1.000000\n",
       "25%        45.000000\n",
       "50%        95.000000\n",
       "75%       231.000000\n",
       "max      1580.000000\n",
       "Name: days_exposition, dtype: float64"
      ]
     },
     "execution_count": 59,
     "metadata": {},
     "output_type": "execute_result"
    }
   ],
   "source": [
    "#Посмотрим общую инфоомацию о столбце\n",
    "data['days_exposition'].describe()"
   ]
  },
  {
   "cell_type": "code",
   "execution_count": 60,
   "metadata": {},
   "outputs": [
    {
     "data": {
      "image/png": "[encoded data removed]",
      "text/plain": [
       "<Figure size 432x288 with 1 Axes>"
      ]
     },
     "metadata": {
      "needs_background": "light"
     },
     "output_type": "display_data"
    }
   ],
   "source": [
    "#Построим ящик с усами для оценки выбивающихся значений\n",
    "plt.ylim(0,1500)\n",
    "data.boxplot(column='days_exposition') \n",
    "plt.show()"
   ]
  },
  {
   "cell_type": "markdown",
   "metadata": {},
   "source": [
    "* «Усы» простираются влево и вправо от границ ящика на расстояние, равное\n",
    "1,5 межквартильным размахам. В размах «усов» попадают нормальные\n",
    "значения, а за пределами находятся выбросы, изображённые точками.\n",
    "* Уберем значения более 430 дней: 198+(198-45)*1,5 = 427,5"
   ]
  },
  {
   "cell_type": "code",
   "execution_count": 61,
   "metadata": {},
   "outputs": [
    {
     "data": {
      "text/plain": [
       "count   18144.000000\n",
       "mean      116.251929\n",
       "std       104.557477\n",
       "min         1.000000\n",
       "25%        39.000000\n",
       "50%        80.000000\n",
       "75%       168.000000\n",
       "max       429.000000\n",
       "Name: days_exposition, dtype: float64"
      ]
     },
     "execution_count": 61,
     "metadata": {},
     "output_type": "execute_result"
    }
   ],
   "source": [
    "data_current_days_exposition = data.query('days_exposition < 430')\n",
    "data_current_days_exposition['days_exposition'].describe()"
   ]
  },
  {
   "cell_type": "code",
   "execution_count": 62,
   "metadata": {},
   "outputs": [
    {
     "data": {
      "text/plain": [
       "<matplotlib.axes._subplots.AxesSubplot at 0x7f6719503650>"
      ]
     },
     "execution_count": 62,
     "metadata": {},
     "output_type": "execute_result"
    },
    {
     "data": {
      "image/png": "[encoded data removed]",
      "text/plain": [
       "<Figure size 432x288 with 1 Axes>"
      ]
     },
     "metadata": {
      "needs_background": "light"
     },
     "output_type": "display_data"
    }
   ],
   "source": [
    "#Построим гистограмму\n",
    "data_current_days_exposition['days_exposition'].hist(bins=100)"
   ]
  },
  {
   "cell_type": "code",
   "execution_count": 63,
   "metadata": {},
   "outputs": [
    {
     "data": {
      "text/plain": [
       "<matplotlib.axes._subplots.AxesSubplot at 0x7f6718fe0d90>"
      ]
     },
     "execution_count": 63,
     "metadata": {},
     "output_type": "execute_result"
    },
    {
     "data": {
      "image/png": "[encoded data removed]",
      "text/plain": [
       "<Figure size 432x288 with 1 Axes>"
      ]
     },
     "metadata": {
      "needs_background": "light"
     },
     "output_type": "display_data"
    }
   ],
   "source": [
    "#Построим уточненную гистограмму\n",
    "data_current_days_exposition['days_exposition'].hist(bins=100, range=(45,95))"
   ]
  },
  {
   "cell_type": "markdown",
   "metadata": {},
   "source": [
    "* Самая быстрая продажа заняла 1 день.\n",
    "* Самая долгая продажа после удаления выбросов - 429 дней \n",
    "* Продажи, проведенные быстрее чем 45 дней можно считать быстрыми, а более 146 дней - необычно долгими. \n",
    "* В среднем продажа квартиры занимает 113 дней. Более 50% значений от всех продаж происходят до истечения 95 дней.\n",
    "* Модальное значение (наиболее часто встречающееся значение) составляет 95 дней, также часто встречаются значения 45, 60 и 90 дней, то есть 1,5, 2 и 3 месяца. Возможно это связано с бесплатной рекламой, либо какими-либо промоакциями, который провоцируют увеличение количества просмотром и, соответственно, улучшают продажи."
   ]
  },
  {
   "cell_type": "markdown",
   "metadata": {},
   "source": [
    "### Уберем редкие и выбивающиеся значения"
   ]
  },
  {
   "cell_type": "markdown",
   "metadata": {},
   "source": [
    "1. В пункте 1 мы просмотрели все уникальные значения столбцов, три из них вызывают сомнения в реальности данных.\n",
    "- столбец цена квартиры last_price\n",
    "- столбец с общей площадью квартиры total_area\n",
    "- столбец с высотой потолков ceiling_height\n",
    "2. Столбец с временем продажи квартиры days_exposition обработан и очишен от выбросов в пункте 4.2.\n",
    "3. При помощи построения ящика с усами определим выбросы и удалим их"
   ]
  },
  {
   "cell_type": "markdown",
   "metadata": {},
   "source": [
    "#### Цена квартиры"
   ]
  },
  {
   "cell_type": "code",
   "execution_count": 64,
   "metadata": {},
   "outputs": [
    {
     "data": {
      "text/plain": [
       "count    23650.000000\n",
       "mean      6541.126898\n",
       "std      10896.399175\n",
       "min         12.190000\n",
       "25%       3400.000000\n",
       "50%       4650.000000\n",
       "75%       6799.000000\n",
       "max     763000.000000\n",
       "Name: last_price, dtype: float64"
      ]
     },
     "execution_count": 64,
     "metadata": {},
     "output_type": "execute_result"
    }
   ],
   "source": [
    "data['last_price'].describe()"
   ]
  },
  {
   "cell_type": "code",
   "execution_count": 65,
   "metadata": {},
   "outputs": [
    {
     "data": {
      "image/png": "[encoded data removed]",
      "text/plain": [
       "<Figure size 432x288 with 1 Axes>"
      ]
     },
     "metadata": {
      "needs_background": "light"
     },
     "output_type": "display_data"
    }
   ],
   "source": [
    "#Построим ящик с усами для оценки выбивающихся значений\n",
    "data.boxplot(column='last_price') \n",
    "plt.show()"
   ]
  },
  {
   "cell_type": "code",
   "execution_count": 66,
   "metadata": {},
   "outputs": [
    {
     "name": "stdout",
     "output_type": "stream",
     "text": [
      "11897.5\n"
     ]
    }
   ],
   "source": [
    "Q1_last_price = data['last_price'].quantile(0.25)\n",
    "Q3_last_price = data['last_price'].quantile(0.75)\n",
    "IQR_last_price = Q3_last_price + (Q3_last_price - Q1_last_price)*1.5\n",
    "print(IQR_last_price)"
   ]
  },
  {
   "cell_type": "markdown",
   "metadata": {},
   "source": [
    "Уберем значения более 11897.5 тыс. руб.: 6799+(6799-3400)*1,5"
   ]
  },
  {
   "cell_type": "code",
   "execution_count": 67,
   "metadata": {},
   "outputs": [
    {
     "data": {
      "text/plain": [
       "count   21595.000000\n",
       "mean     4838.942091\n",
       "std      2217.282225\n",
       "min        12.190000\n",
       "25%      3300.000000\n",
       "50%      4400.000000\n",
       "75%      6000.000000\n",
       "max     11894.400000\n",
       "Name: last_price, dtype: float64"
      ]
     },
     "execution_count": 67,
     "metadata": {},
     "output_type": "execute_result"
    }
   ],
   "source": [
    "data_current_last_price = data.query('last_price < 11897.5')\n",
    "data_current_last_price['last_price'].describe()"
   ]
  },
  {
   "cell_type": "code",
   "execution_count": 68,
   "metadata": {},
   "outputs": [
    {
     "data": {
      "text/plain": [
       "<matplotlib.axes._subplots.AxesSubplot at 0x7f6719cb3990>"
      ]
     },
     "execution_count": 68,
     "metadata": {},
     "output_type": "execute_result"
    },
    {
     "data": {
      "image/png": "[encoded data removed]",
      "text/plain": [
       "<Figure size 432x288 with 1 Axes>"
      ]
     },
     "metadata": {
      "needs_background": "light"
     },
     "output_type": "display_data"
    }
   ],
   "source": [
    "data_current_last_price['last_price'].hist(bins=100, range=(0,12000))"
   ]
  },
  {
   "cell_type": "markdown",
   "metadata": {},
   "source": [
    "Исходя из гистограммы видно, что цены на квартиры подчиняются нормальному закону. Что в целом подтверждает, верность исследования"
   ]
  },
  {
   "cell_type": "markdown",
   "metadata": {},
   "source": [
    "#### Площадь квартиры"
   ]
  },
  {
   "cell_type": "code",
   "execution_count": 69,
   "metadata": {},
   "outputs": [
    {
     "data": {
      "text/plain": [
       "count   23650.000000\n",
       "mean       60.329069\n",
       "std        35.661808\n",
       "min        12.000000\n",
       "25%        40.000000\n",
       "50%        52.000000\n",
       "75%        69.700000\n",
       "max       900.000000\n",
       "Name: total_area, dtype: float64"
      ]
     },
     "execution_count": 69,
     "metadata": {},
     "output_type": "execute_result"
    }
   ],
   "source": [
    "data['total_area'].describe()"
   ]
  },
  {
   "cell_type": "code",
   "execution_count": 70,
   "metadata": {
    "scrolled": true
   },
   "outputs": [
    {
     "data": {
      "image/png": "[encoded data removed]",
      "text/plain": [
       "<Figure size 432x288 with 1 Axes>"
      ]
     },
     "metadata": {
      "needs_background": "light"
     },
     "output_type": "display_data"
    }
   ],
   "source": [
    "data.boxplot(column='total_area') \n",
    "plt.show()"
   ]
  },
  {
   "cell_type": "code",
   "execution_count": 122,
   "metadata": {},
   "outputs": [
    {
     "name": "stdout",
     "output_type": "stream",
     "text": [
      "114.25\n"
     ]
    }
   ],
   "source": [
    "Q1_total_area = data['total_area'].quantile(0.25)\n",
    "Q3_total_area = data['total_area'].quantile(0.75)\n",
    "IQR_total_area = Q3_total_area + (Q3_total_area - Q1_total_area)*1.5\n",
    "print(IQR_total_area)"
   ]
  },
  {
   "cell_type": "code",
   "execution_count": 72,
   "metadata": {},
   "outputs": [
    {
     "data": {
      "text/plain": [
       "count   22406.000000\n",
       "mean       54.325685\n",
       "std        19.349559\n",
       "min        12.000000\n",
       "25%        39.400000\n",
       "50%        50.100000\n",
       "75%        65.500000\n",
       "max       114.200000\n",
       "Name: total_area, dtype: float64"
      ]
     },
     "execution_count": 72,
     "metadata": {},
     "output_type": "execute_result"
    }
   ],
   "source": [
    "data_current_total_area = data.query('total_area < 114.25')\n",
    "data_current_total_area['total_area'].describe()"
   ]
  },
  {
   "cell_type": "code",
   "execution_count": 73,
   "metadata": {},
   "outputs": [
    {
     "data": {
      "text/plain": [
       "<matplotlib.axes._subplots.AxesSubplot at 0x7f67181e8ed0>"
      ]
     },
     "execution_count": 73,
     "metadata": {},
     "output_type": "execute_result"
    },
    {
     "data": {
      "image/png": "[encoded data removed]",
      "text/plain": [
       "<Figure size 432x288 with 1 Axes>"
      ]
     },
     "metadata": {
      "needs_background": "light"
     },
     "output_type": "display_data"
    }
   ],
   "source": [
    "data_current_total_area['total_area'].hist(bins=100, range=(0,114))"
   ]
  },
  {
   "cell_type": "markdown",
   "metadata": {},
   "source": [
    "Исходя из гистограммы видно, что общая площадь квартир подчиняется нормальному закону. Что в целом подтверждает, верность исследования"
   ]
  },
  {
   "cell_type": "markdown",
   "metadata": {},
   "source": [
    "#### Высота потолков"
   ]
  },
  {
   "cell_type": "code",
   "execution_count": 74,
   "metadata": {},
   "outputs": [
    {
     "data": {
      "text/plain": [
       "count   23650.000000\n",
       "mean        2.724311\n",
       "std         0.989255\n",
       "min         1.000000\n",
       "25%         2.600000\n",
       "50%         2.650000\n",
       "75%         2.700000\n",
       "max       100.000000\n",
       "Name: ceiling_height, dtype: float64"
      ]
     },
     "execution_count": 74,
     "metadata": {},
     "output_type": "execute_result"
    }
   ],
   "source": [
    "data['ceiling_height'].describe()"
   ]
  },
  {
   "cell_type": "code",
   "execution_count": 75,
   "metadata": {},
   "outputs": [
    {
     "data": {
      "image/png": "[encoded data removed]",
      "text/plain": [
       "<Figure size 432x288 with 1 Axes>"
      ]
     },
     "metadata": {
      "needs_background": "light"
     },
     "output_type": "display_data"
    }
   ],
   "source": [
    "data.boxplot(column='ceiling_height') \n",
    "plt.show()"
   ]
  },
  {
   "cell_type": "code",
   "execution_count": 126,
   "metadata": {},
   "outputs": [
    {
     "name": "stdout",
     "output_type": "stream",
     "text": [
      "2.8500000000000005 2.45\n"
     ]
    }
   ],
   "source": [
    "Q1_ceiling_height = data['ceiling_height'].quantile(0.25)\n",
    "Q3_ceiling_height = data['ceiling_height'].quantile(0.75)\n",
    "IQR_ceiling_height_plus = Q3_ceiling_height + (Q3_ceiling_height - Q1_ceiling_height)*1.5\n",
    "IQR_ceiling_height_minus = Q1_ceiling_height - (Q3_ceiling_height - Q1_ceiling_height)*1.5\n",
    "print(IQR_ceiling_height_plus, IQR_ceiling_height_minus)"
   ]
  },
  {
   "cell_type": "code",
   "execution_count": 127,
   "metadata": {},
   "outputs": [
    {
     "data": {
      "text/plain": [
       "count   23535.000000\n",
       "mean        2.695332\n",
       "std         0.208023\n",
       "min         2.460000\n",
       "25%         2.600000\n",
       "50%         2.650000\n",
       "75%         2.700000\n",
       "max         4.250000\n",
       "Name: ceiling_height, dtype: float64"
      ]
     },
     "execution_count": 127,
     "metadata": {},
     "output_type": "execute_result"
    }
   ],
   "source": [
    "data_current_ceiling_height = data.query('2.45 < ceiling_height < 4.3')\n",
    "data_current_ceiling_height['ceiling_height'].describe()"
   ]
  },
  {
   "cell_type": "code",
   "execution_count": 131,
   "metadata": {},
   "outputs": [
    {
     "data": {
      "text/plain": [
       "<matplotlib.axes._subplots.AxesSubplot at 0x7f6719728c90>"
      ]
     },
     "execution_count": 131,
     "metadata": {},
     "output_type": "execute_result"
    },
    {
     "data": {
      "image/png": "[encoded data removed]",
      "text/plain": [
       "<Figure size 432x288 with 1 Axes>"
      ]
     },
     "metadata": {
      "needs_background": "light"
     },
     "output_type": "display_data"
    }
   ],
   "source": [
    "data_current_ceiling_height['ceiling_height'].hist(bins=40, range=(2.46,4.3))"
   ]
  },
  {
   "cell_type": "markdown",
   "metadata": {},
   "source": [
    "Посмотрим более подробно на кусок гистограммы в диапазоне от 2,65 до 2,75 м."
   ]
  },
  {
   "cell_type": "code",
   "execution_count": 132,
   "metadata": {},
   "outputs": [
    {
     "data": {
      "text/plain": [
       "<matplotlib.axes._subplots.AxesSubplot at 0x7f670efc83d0>"
      ]
     },
     "execution_count": 132,
     "metadata": {},
     "output_type": "execute_result"
    },
    {
     "data": {
      "image/png": "[encoded data removed]",
      "text/plain": [
       "<Figure size 432x288 with 1 Axes>"
      ]
     },
     "metadata": {
      "needs_background": "light"
     },
     "output_type": "display_data"
    }
   ],
   "source": [
    "data_current_ceiling_height['ceiling_height'].hist(bins=40, range=(2.46,2.75))"
   ]
  },
  {
   "cell_type": "markdown",
   "metadata": {},
   "source": [
    "Типовая высота потолков приблизительно 2,5 или 2,65 м."
   ]
  },
  {
   "cell_type": "markdown",
   "metadata": {},
   "source": [
    "Создадим новый датафрейм, в который включим данные, удовлетворяющие нашим условиям"
   ]
  },
  {
   "cell_type": "code",
   "execution_count": 134,
   "metadata": {},
   "outputs": [
    {
     "name": "stdout",
     "output_type": "stream",
     "text": [
      "<class 'pandas.core.frame.DataFrame'>\n",
      "Int64Index: 17386 entries, 1 to 23695\n",
      "Data columns (total 30 columns):\n",
      "total_images              17386 non-null int64\n",
      "last_price                17386 non-null float64\n",
      "total_area                17386 non-null float64\n",
      "first_day_exposition      17386 non-null datetime64[ns]\n",
      "rooms                     17386 non-null int64\n",
      "ceiling_height            17386 non-null float64\n",
      "floors_total              17386 non-null int64\n",
      "living_area               17386 non-null float64\n",
      "floor                     17386 non-null int64\n",
      "is_apartment              17386 non-null bool\n",
      "studio                    17386 non-null bool\n",
      "open_plan                 17386 non-null bool\n",
      "kitchen_area              17386 non-null float64\n",
      "balcony                   17386 non-null int64\n",
      "locality_name             17386 non-null object\n",
      "airports_nearest          13267 non-null float64\n",
      "city_centers_nearest      13284 non-null float64\n",
      "parks_around3000          13284 non-null float64\n",
      "parks_nearest             5545 non-null float64\n",
      "ponds_around3000          13284 non-null float64\n",
      "ponds_nearest             6382 non-null float64\n",
      "days_exposition           17386 non-null float64\n",
      "flat_on_the_last_floor    17386 non-null bool\n",
      "price_sq_m                17386 non-null float64\n",
      "week_day                  17386 non-null int64\n",
      "month                     17386 non-null int64\n",
      "year                      17386 non-null int64\n",
      "floor_group               17386 non-null object\n",
      "living_to_total           17386 non-null float64\n",
      "kitchen_to_total          17386 non-null float64\n",
      "dtypes: bool(4), datetime64[ns](1), float64(15), int64(8), object(2)\n",
      "memory usage: 3.6+ MB\n"
     ]
    }
   ],
   "source": [
    "data_good = data[\n",
    "    (data['days_exposition'] <= 430) &\n",
    "    (data['last_price'] <= 11897.5) & \n",
    "    (data['total_area'] <= 114.25) & \n",
    "    (data['ceiling_height'] >= 2.45) &\n",
    "    (data['ceiling_height'] <= 4.3)\n",
    "]\n",
    "data_good.info()"
   ]
  },
  {
   "cell_type": "markdown",
   "metadata": {},
   "source": [
    "После удаления редких и выбивающихся значений осталось 17386 варианта квартир.\n",
    "В столбцах airports_nearest, city_centers_nearest, parks_around3000, parks_nearest, ponds_around3000, ponds_nearest остались пропуски, которые невозможно заполнить. Оставим их без изменений"
   ]
  },
  {
   "cell_type": "markdown",
   "metadata": {},
   "source": [
    "### Какие факторы больше всего влияют на стоимость квартиры"
   ]
  },
  {
   "cell_type": "markdown",
   "metadata": {},
   "source": [
    "Изучим зависимость цены от площади, числа комнат и удалённости от центра."
   ]
  },
  {
   "cell_type": "markdown",
   "metadata": {},
   "source": [
    "#### Зависимость цены от площади"
   ]
  },
  {
   "cell_type": "code",
   "execution_count": 80,
   "metadata": {},
   "outputs": [
    {
     "data": {
      "text/plain": [
       "0.6865833578451734"
      ]
     },
     "execution_count": 80,
     "metadata": {},
     "output_type": "execute_result"
    }
   ],
   "source": [
    "#Рачет коэффициента корреляции\n",
    "data_good['last_price'].corr(data_good['total_area'])"
   ]
  },
  {
   "cell_type": "code",
   "execution_count": 81,
   "metadata": {},
   "outputs": [
    {
     "data": {
      "text/plain": [
       "<matplotlib.axes._subplots.AxesSubplot at 0x7f672ace8950>"
      ]
     },
     "execution_count": 81,
     "metadata": {},
     "output_type": "execute_result"
    },
    {
     "data": {
      "image/png": "[encoded data removed]",
      "text/plain": [
       "<Figure size 432x288 with 1 Axes>"
      ]
     },
     "metadata": {
      "needs_background": "light"
     },
     "output_type": "display_data"
    }
   ],
   "source": [
    "#Построение графика зависимости\n",
    "(data_good\n",
    "    .sort_values(by='total_area',ascending=True)\n",
    "    .plot(x='total_area',y='last_price',grid=True, style='o')\n",
    ")"
   ]
  },
  {
   "cell_type": "markdown",
   "metadata": {},
   "source": [
    "Исходя из значения коэффициента корреляции, можно сделать вывод о том, что так как он лежит в интервале от 0.5 до 0.7 и он больше нуля, то зависимость цены квартиры от общей площади средняя и положительная. То есть при увеличении общей площади квартиры в среднем цена за квартиру также растет.\n",
    "График доказывает наше утверждение. Существуют исключения, но их немного"
   ]
  },
  {
   "cell_type": "markdown",
   "metadata": {},
   "source": [
    "#### Зависимость цены от количества комнат"
   ]
  },
  {
   "cell_type": "code",
   "execution_count": 82,
   "metadata": {},
   "outputs": [
    {
     "data": {
      "text/plain": [
       "0.42155241867699333"
      ]
     },
     "execution_count": 82,
     "metadata": {},
     "output_type": "execute_result"
    }
   ],
   "source": [
    "data_good['last_price'].corr(data_good['rooms'])"
   ]
  },
  {
   "cell_type": "code",
   "execution_count": 83,
   "metadata": {},
   "outputs": [
    {
     "data": {
      "text/plain": [
       "<matplotlib.axes._subplots.AxesSubplot at 0x7f672e5e03d0>"
      ]
     },
     "execution_count": 83,
     "metadata": {},
     "output_type": "execute_result"
    },
    {
     "data": {
      "image/png": "[encoded data removed]",
      "text/plain": [
       "<Figure size 432x288 with 1 Axes>"
      ]
     },
     "metadata": {
      "needs_background": "light"
     },
     "output_type": "display_data"
    }
   ],
   "source": [
    "#Построение графика зависимости\n",
    "(data_good\n",
    "    .groupby('rooms')['last_price'].median()\n",
    "    .plot(x='rooms',y='last_price',kind='bar')\n",
    ")"
   ]
  },
  {
   "cell_type": "markdown",
   "metadata": {},
   "source": [
    "* Исходя из значения коэффициента корреляции, можно сделать вывод о том, что так как он лежит в интервале от 0.3 до 0.5 и он больше нуля, то зависимость цены квартиры и количеством комнат ниже средней и положительная. То есть при увеличении количества комнат в среднем цена за квартиру также растет.\n",
    "* То есть количество комнат конечно влияет на цену, но не так сильно как площадь квартиры"
   ]
  },
  {
   "cell_type": "markdown",
   "metadata": {},
   "source": [
    "#### Зависимость цены от удаленности от центра города "
   ]
  },
  {
   "cell_type": "code",
   "execution_count": 84,
   "metadata": {},
   "outputs": [
    {
     "data": {
      "text/plain": [
       "-0.30513777968711925"
      ]
     },
     "execution_count": 84,
     "metadata": {},
     "output_type": "execute_result"
    }
   ],
   "source": [
    "data_good['last_price'].corr(data_good['city_centers_nearest'])"
   ]
  },
  {
   "cell_type": "code",
   "execution_count": 85,
   "metadata": {},
   "outputs": [
    {
     "data": {
      "text/plain": [
       "<matplotlib.axes._subplots.AxesSubplot at 0x7f672c78d1d0>"
      ]
     },
     "execution_count": 85,
     "metadata": {},
     "output_type": "execute_result"
    },
    {
     "data": {
      "image/png": "[encoded data removed]",
      "text/plain": [
       "<Figure size 432x288 with 1 Axes>"
      ]
     },
     "metadata": {
      "needs_background": "light"
     },
     "output_type": "display_data"
    }
   ],
   "source": [
    "#Построение графика зависимости\n",
    "(data_good\n",
    "    .sort_values(by='city_centers_nearest',ascending=True)\n",
    "    .plot(x='city_centers_nearest',y='last_price',grid=True, style='o')\n",
    ")"
   ]
  },
  {
   "cell_type": "markdown",
   "metadata": {},
   "source": [
    "* Исходя из значения коэффициента корреляции, можно сделать вывод о том, что так как\n",
    "он лежит в интервале от 0 до 0.3 и он ниже нуля, то зависимость цены квартиры \n",
    "и расстояние до центра города ниже средней и отрицательная. \n",
    "То есть при увеличении расстояния до центра города в среднем цена за квартиру падает.\n",
    "* Расстояние до центра влияет на цену, но не так сильно как площадь квартиры\n",
    "* Судя по диаграмме рассеяния очень дорогие квартиры близко к центру и примерно на 30 км от центра города \n",
    "(видимо в дорогих коттеджных поселках, вдали от народа и смога)"
   ]
  },
  {
   "cell_type": "markdown",
   "metadata": {},
   "source": [
    "#### Зависимость цены от этажа, на котором расположена квартира"
   ]
  },
  {
   "cell_type": "code",
   "execution_count": 86,
   "metadata": {},
   "outputs": [
    {
     "name": "stderr",
     "output_type": "stream",
     "text": [
      "/opt/conda/lib/python3.7/site-packages/ipykernel_launcher.py:3: SettingWithCopyWarning: \n",
      "A value is trying to be set on a copy of a slice from a DataFrame.\n",
      "Try using .loc[row_indexer,col_indexer] = value instead\n",
      "\n",
      "See the caveats in the documentation: http://pandas.pydata.org/pandas-docs/stable/user_guide/indexing.html#returning-a-view-versus-a-copy\n",
      "  This is separate from the ipykernel package so we can avoid doing imports until\n"
     ]
    },
    {
     "data": {
      "text/plain": [
       "0.17869226571566027"
      ]
     },
     "execution_count": 86,
     "metadata": {},
     "output_type": "execute_result"
    }
   ],
   "source": [
    "#Присвоим категории Первый этаж значение 0, последний - 1, другие - 2\n",
    "data_good['floor_group_id'] = data_good['floor_group'].map(\n",
    "    {'Первый этаж': 0, 'Последний этаж': 1, 'Другой этаж': 2})\n",
    "data_good['last_price'].corr(data_good['floor_group_id'])"
   ]
  },
  {
   "cell_type": "markdown",
   "metadata": {},
   "source": [
    "Исходя из значения коэффициента корреляции, можно сделать вывод о том, что так как он лежит в интервале от 0 до 0.3 и он больше нуля, то зависимость цены квартиры и этажа, на котором она находится ниже средней и положительная. То есть группа другие этажи (не первый и не последний) имеет большую цену за квартиру."
   ]
  },
  {
   "cell_type": "markdown",
   "metadata": {},
   "source": [
    "Построим гистограмму, которая покажет отношение цены объекта и этажной группы (первый, последний, другой)"
   ]
  },
  {
   "cell_type": "code",
   "execution_count": 87,
   "metadata": {},
   "outputs": [
    {
     "data": {
      "text/plain": [
       "<matplotlib.axes._subplots.AxesSubplot at 0x7f671a1c7490>"
      ]
     },
     "execution_count": 87,
     "metadata": {},
     "output_type": "execute_result"
    },
    {
     "data": {
      "image/png": "[encoded data removed]",
      "text/plain": [
       "<Figure size 432x288 with 1 Axes>"
      ]
     },
     "metadata": {
      "needs_background": "light"
     },
     "output_type": "display_data"
    }
   ],
   "source": [
    "(data_good\n",
    "    .groupby('floor_group_id')['last_price'].median()\n",
    "    .plot(x='floor_group_id',y='last_price',kind='bar')\n",
    ")"
   ]
  },
  {
   "cell_type": "markdown",
   "metadata": {},
   "source": [
    "Гистограмма подтверждает надо предположение о том, что первый этаж удешевляет цену на квартиру практически также как и последний, в отличии от других этажей"
   ]
  },
  {
   "cell_type": "markdown",
   "metadata": {},
   "source": [
    "#### Зависимость цены на квартиру от дня недели, месяца и года"
   ]
  },
  {
   "cell_type": "code",
   "execution_count": 88,
   "metadata": {},
   "outputs": [
    {
     "data": {
      "text/plain": [
       "-0.0016857289495957677"
      ]
     },
     "execution_count": 88,
     "metadata": {},
     "output_type": "execute_result"
    }
   ],
   "source": [
    "data_good['last_price'].corr(data_good['week_day'])"
   ]
  },
  {
   "cell_type": "code",
   "execution_count": 89,
   "metadata": {},
   "outputs": [
    {
     "data": {
      "text/plain": [
       "<matplotlib.axes._subplots.AxesSubplot at 0x7f6716217dd0>"
      ]
     },
     "execution_count": 89,
     "metadata": {},
     "output_type": "execute_result"
    },
    {
     "data": {
      "image/png": "[encoded data removed]",
      "text/plain": [
       "<Figure size 432x288 with 1 Axes>"
      ]
     },
     "metadata": {
      "needs_background": "light"
     },
     "output_type": "display_data"
    }
   ],
   "source": [
    "(data_good\n",
    "    .groupby('week_day')['last_price'].median()\n",
    "    .plot(x='week_day',y='last_price',kind='bar')\n",
    ")"
   ]
  },
  {
   "cell_type": "markdown",
   "metadata": {},
   "source": [
    "Зависимость цены от дня недели отсутствует"
   ]
  },
  {
   "cell_type": "code",
   "execution_count": 90,
   "metadata": {},
   "outputs": [
    {
     "data": {
      "text/plain": [
       "0.010132697850381338"
      ]
     },
     "execution_count": 90,
     "metadata": {},
     "output_type": "execute_result"
    }
   ],
   "source": [
    "data_good['last_price'].corr(data_good['month'])"
   ]
  },
  {
   "cell_type": "code",
   "execution_count": 91,
   "metadata": {},
   "outputs": [
    {
     "data": {
      "text/plain": [
       "<matplotlib.axes._subplots.AxesSubplot at 0x7f6715f92ad0>"
      ]
     },
     "execution_count": 91,
     "metadata": {},
     "output_type": "execute_result"
    },
    {
     "data": {
      "image/png": "[encoded data removed]",
      "text/plain": [
       "<Figure size 432x288 with 1 Axes>"
      ]
     },
     "metadata": {
      "needs_background": "light"
     },
     "output_type": "display_data"
    }
   ],
   "source": [
    "(data_good\n",
    "    .groupby('month')['last_price'].median()\n",
    "    .plot(x='month',y='last_price',kind='bar')\n",
    ")"
   ]
  },
  {
   "cell_type": "markdown",
   "metadata": {},
   "source": [
    "Небольшой пик увеличения цены происходит в апреле, небольшой спад в июне. Вероятно это связано с летним сезоном, когда все разьезжаются по отпускам и продаже перед летом возрастают, что провоцирует подьем цены, а летом приостанавливаются, что в свою очередь снижает цену"
   ]
  },
  {
   "cell_type": "code",
   "execution_count": 92,
   "metadata": {},
   "outputs": [
    {
     "data": {
      "text/plain": [
       "0.007928552104076003"
      ]
     },
     "execution_count": 92,
     "metadata": {},
     "output_type": "execute_result"
    }
   ],
   "source": [
    "data_good['last_price'].corr(data_good['year'])"
   ]
  },
  {
   "cell_type": "code",
   "execution_count": 93,
   "metadata": {},
   "outputs": [
    {
     "data": {
      "text/plain": [
       "<matplotlib.axes._subplots.AxesSubplot at 0x7f671582e810>"
      ]
     },
     "execution_count": 93,
     "metadata": {},
     "output_type": "execute_result"
    },
    {
     "data": {
      "image/png": "[encoded data removed]",
      "text/plain": [
       "<Figure size 432x288 with 1 Axes>"
      ]
     },
     "metadata": {
      "needs_background": "light"
     },
     "output_type": "display_data"
    }
   ],
   "source": [
    "(data_good\n",
    "    .groupby('year')['last_price'].median()\n",
    "    .plot(x='year',y='last_price',kind='bar')\n",
    ")"
   ]
  },
  {
   "cell_type": "markdown",
   "metadata": {},
   "source": [
    "в 2014 году стоимость квартир была значительно выше, потом произошел обвал цен."
   ]
  },
  {
   "cell_type": "markdown",
   "metadata": {},
   "source": [
    "Построим корреляционную таблицу для всех рассмотренных показателей"
   ]
  },
  {
   "cell_type": "code",
   "execution_count": 94,
   "metadata": {},
   "outputs": [
    {
     "data": {
      "text/html": [
       "<div>\n",
       "<style scoped>\n",
       "    .dataframe tbody tr th:only-of-type {\n",
       "        vertical-align: middle;\n",
       "    }\n",
       "\n",
       "    .dataframe tbody tr th {\n",
       "        vertical-align: top;\n",
       "    }\n",
       "\n",
       "    .dataframe thead th {\n",
       "        text-align: right;\n",
       "    }\n",
       "</style>\n",
       "<table border=\"1\" class=\"dataframe\">\n",
       "  <thead>\n",
       "    <tr style=\"text-align: right;\">\n",
       "      <th></th>\n",
       "      <th>last_price</th>\n",
       "      <th>total_area</th>\n",
       "      <th>rooms</th>\n",
       "      <th>city_centers_nearest</th>\n",
       "      <th>floor_group_id</th>\n",
       "      <th>week_day</th>\n",
       "      <th>month</th>\n",
       "      <th>year</th>\n",
       "    </tr>\n",
       "  </thead>\n",
       "  <tbody>\n",
       "    <tr>\n",
       "      <td>last_price</td>\n",
       "      <td>1.000000</td>\n",
       "      <td>0.686583</td>\n",
       "      <td>0.421552</td>\n",
       "      <td>-0.305138</td>\n",
       "      <td>0.178692</td>\n",
       "      <td>-0.001686</td>\n",
       "      <td>0.010133</td>\n",
       "      <td>0.007929</td>\n",
       "    </tr>\n",
       "    <tr>\n",
       "      <td>total_area</td>\n",
       "      <td>0.686583</td>\n",
       "      <td>1.000000</td>\n",
       "      <td>0.801823</td>\n",
       "      <td>-0.071602</td>\n",
       "      <td>0.016483</td>\n",
       "      <td>-0.000440</td>\n",
       "      <td>0.005190</td>\n",
       "      <td>-0.063777</td>\n",
       "    </tr>\n",
       "    <tr>\n",
       "      <td>rooms</td>\n",
       "      <td>0.421552</td>\n",
       "      <td>0.801823</td>\n",
       "      <td>1.000000</td>\n",
       "      <td>-0.032123</td>\n",
       "      <td>-0.082596</td>\n",
       "      <td>0.000317</td>\n",
       "      <td>-0.002633</td>\n",
       "      <td>-0.049342</td>\n",
       "    </tr>\n",
       "    <tr>\n",
       "      <td>city_centers_nearest</td>\n",
       "      <td>-0.305138</td>\n",
       "      <td>-0.071602</td>\n",
       "      <td>-0.032123</td>\n",
       "      <td>1.000000</td>\n",
       "      <td>-0.071204</td>\n",
       "      <td>-0.001156</td>\n",
       "      <td>-0.014317</td>\n",
       "      <td>0.007502</td>\n",
       "    </tr>\n",
       "    <tr>\n",
       "      <td>floor_group_id</td>\n",
       "      <td>0.178692</td>\n",
       "      <td>0.016483</td>\n",
       "      <td>-0.082596</td>\n",
       "      <td>-0.071204</td>\n",
       "      <td>1.000000</td>\n",
       "      <td>-0.005921</td>\n",
       "      <td>0.014609</td>\n",
       "      <td>0.022413</td>\n",
       "    </tr>\n",
       "    <tr>\n",
       "      <td>week_day</td>\n",
       "      <td>-0.001686</td>\n",
       "      <td>-0.000440</td>\n",
       "      <td>0.000317</td>\n",
       "      <td>-0.001156</td>\n",
       "      <td>-0.005921</td>\n",
       "      <td>1.000000</td>\n",
       "      <td>0.011435</td>\n",
       "      <td>-0.003835</td>\n",
       "    </tr>\n",
       "    <tr>\n",
       "      <td>month</td>\n",
       "      <td>0.010133</td>\n",
       "      <td>0.005190</td>\n",
       "      <td>-0.002633</td>\n",
       "      <td>-0.014317</td>\n",
       "      <td>0.014609</td>\n",
       "      <td>0.011435</td>\n",
       "      <td>1.000000</td>\n",
       "      <td>-0.234823</td>\n",
       "    </tr>\n",
       "    <tr>\n",
       "      <td>year</td>\n",
       "      <td>0.007929</td>\n",
       "      <td>-0.063777</td>\n",
       "      <td>-0.049342</td>\n",
       "      <td>0.007502</td>\n",
       "      <td>0.022413</td>\n",
       "      <td>-0.003835</td>\n",
       "      <td>-0.234823</td>\n",
       "      <td>1.000000</td>\n",
       "    </tr>\n",
       "  </tbody>\n",
       "</table>\n",
       "</div>"
      ],
      "text/plain": [
       "                      last_price  total_area     rooms  city_centers_nearest  \\\n",
       "last_price              1.000000    0.686583  0.421552             -0.305138   \n",
       "total_area              0.686583    1.000000  0.801823             -0.071602   \n",
       "rooms                   0.421552    0.801823  1.000000             -0.032123   \n",
       "city_centers_nearest   -0.305138   -0.071602 -0.032123              1.000000   \n",
       "floor_group_id          0.178692    0.016483 -0.082596             -0.071204   \n",
       "week_day               -0.001686   -0.000440  0.000317             -0.001156   \n",
       "month                   0.010133    0.005190 -0.002633             -0.014317   \n",
       "year                    0.007929   -0.063777 -0.049342              0.007502   \n",
       "\n",
       "                      floor_group_id  week_day     month      year  \n",
       "last_price                  0.178692 -0.001686  0.010133  0.007929  \n",
       "total_area                  0.016483 -0.000440  0.005190 -0.063777  \n",
       "rooms                      -0.082596  0.000317 -0.002633 -0.049342  \n",
       "city_centers_nearest       -0.071204 -0.001156 -0.014317  0.007502  \n",
       "floor_group_id              1.000000 -0.005921  0.014609  0.022413  \n",
       "week_day                   -0.005921  1.000000  0.011435 -0.003835  \n",
       "month                       0.014609  0.011435  1.000000 -0.234823  \n",
       "year                        0.022413 -0.003835 -0.234823  1.000000  "
      ]
     },
     "execution_count": 94,
     "metadata": {},
     "output_type": "execute_result"
    }
   ],
   "source": [
    "data_good[[\n",
    "    'last_price', 'total_area', 'rooms', \n",
    "    'city_centers_nearest', 'floor_group_id',\n",
    "    'week_day', 'month', 'year'\n",
    "]].corr()"
   ]
  },
  {
   "cell_type": "markdown",
   "metadata": {},
   "source": [
    "Между показателями rooms (количество комнат) и total_area (общая площадь квартиры) существует мультиколлинеарность, так как показатель корреляции больше 0,8. Это означает, что надо рассматривать взаимосвязь между показателем цены на квртиру и количеством комнат и общей площадью по отдельности. Что мы и сделали"
   ]
  },
  {
   "cell_type": "markdown",
   "metadata": {},
   "source": [
    "### 10 населённых пунктов с наибольшим числом объявлений"
   ]
  },
  {
   "cell_type": "code",
   "execution_count": 95,
   "metadata": {},
   "outputs": [
    {
     "data": {
      "text/html": [
       "<div>\n",
       "<style scoped>\n",
       "    .dataframe tbody tr th:only-of-type {\n",
       "        vertical-align: middle;\n",
       "    }\n",
       "\n",
       "    .dataframe tbody tr th {\n",
       "        vertical-align: top;\n",
       "    }\n",
       "\n",
       "    .dataframe thead th {\n",
       "        text-align: right;\n",
       "    }\n",
       "</style>\n",
       "<table border=\"1\" class=\"dataframe\">\n",
       "  <thead>\n",
       "    <tr style=\"text-align: right;\">\n",
       "      <th></th>\n",
       "      <th>count</th>\n",
       "      <th>mean</th>\n",
       "    </tr>\n",
       "    <tr>\n",
       "      <th>locality_name</th>\n",
       "      <th></th>\n",
       "      <th></th>\n",
       "    </tr>\n",
       "  </thead>\n",
       "  <tbody>\n",
       "    <tr>\n",
       "      <td>Санкт-Петербург</td>\n",
       "      <td>9737</td>\n",
       "      <td>103.676535</td>\n",
       "    </tr>\n",
       "    <tr>\n",
       "      <td>поселок Мурино</td>\n",
       "      <td>500</td>\n",
       "      <td>86.010440</td>\n",
       "    </tr>\n",
       "    <tr>\n",
       "      <td>деревня Кудрово</td>\n",
       "      <td>394</td>\n",
       "      <td>94.629975</td>\n",
       "    </tr>\n",
       "    <tr>\n",
       "      <td>поселок Шушары</td>\n",
       "      <td>369</td>\n",
       "      <td>78.032195</td>\n",
       "    </tr>\n",
       "    <tr>\n",
       "      <td>Всеволожск</td>\n",
       "      <td>283</td>\n",
       "      <td>66.972862</td>\n",
       "    </tr>\n",
       "    <tr>\n",
       "      <td>поселок Парголово</td>\n",
       "      <td>278</td>\n",
       "      <td>89.215036</td>\n",
       "    </tr>\n",
       "    <tr>\n",
       "      <td>Колпино</td>\n",
       "      <td>269</td>\n",
       "      <td>74.655093</td>\n",
       "    </tr>\n",
       "    <tr>\n",
       "      <td>Пушкин</td>\n",
       "      <td>228</td>\n",
       "      <td>98.728333</td>\n",
       "    </tr>\n",
       "    <tr>\n",
       "      <td>Гатчина</td>\n",
       "      <td>221</td>\n",
       "      <td>67.861086</td>\n",
       "    </tr>\n",
       "    <tr>\n",
       "      <td>Выборг</td>\n",
       "      <td>170</td>\n",
       "      <td>57.079353</td>\n",
       "    </tr>\n",
       "  </tbody>\n",
       "</table>\n",
       "</div>"
      ],
      "text/plain": [
       "                   count       mean\n",
       "locality_name                      \n",
       "Санкт-Петербург     9737 103.676535\n",
       "поселок Мурино       500  86.010440\n",
       "деревня Кудрово      394  94.629975\n",
       "поселок Шушары       369  78.032195\n",
       "Всеволожск           283  66.972862\n",
       "поселок Парголово    278  89.215036\n",
       "Колпино              269  74.655093\n",
       "Пушкин               228  98.728333\n",
       "Гатчина              221  67.861086\n",
       "Выборг               170  57.079353"
      ]
     },
     "metadata": {},
     "output_type": "display_data"
    },
    {
     "data": {
      "text/html": [
       "<div>\n",
       "<style scoped>\n",
       "    .dataframe tbody tr th:only-of-type {\n",
       "        vertical-align: middle;\n",
       "    }\n",
       "\n",
       "    .dataframe tbody tr th {\n",
       "        vertical-align: top;\n",
       "    }\n",
       "\n",
       "    .dataframe thead th {\n",
       "        text-align: right;\n",
       "    }\n",
       "</style>\n",
       "<table border=\"1\" class=\"dataframe\">\n",
       "  <thead>\n",
       "    <tr style=\"text-align: right;\">\n",
       "      <th></th>\n",
       "      <th>count</th>\n",
       "      <th>mean</th>\n",
       "    </tr>\n",
       "    <tr>\n",
       "      <th>locality_name</th>\n",
       "      <th></th>\n",
       "      <th></th>\n",
       "    </tr>\n",
       "  </thead>\n",
       "  <tbody>\n",
       "    <tr>\n",
       "      <td>поселок Сумино</td>\n",
       "      <td>1</td>\n",
       "      <td>30.390000</td>\n",
       "    </tr>\n",
       "    <tr>\n",
       "      <td>поселок Суйда</td>\n",
       "      <td>1</td>\n",
       "      <td>24.640000</td>\n",
       "    </tr>\n",
       "    <tr>\n",
       "      <td>поселок Александровская</td>\n",
       "      <td>1</td>\n",
       "      <td>63.560000</td>\n",
       "    </tr>\n",
       "    <tr>\n",
       "      <td>поселок Алексеевка</td>\n",
       "      <td>1</td>\n",
       "      <td>22.220000</td>\n",
       "    </tr>\n",
       "    <tr>\n",
       "      <td>поселок Барышево</td>\n",
       "      <td>1</td>\n",
       "      <td>32.430000</td>\n",
       "    </tr>\n",
       "    <tr>\n",
       "      <td>поселок Белоостров</td>\n",
       "      <td>1</td>\n",
       "      <td>66.670000</td>\n",
       "    </tr>\n",
       "    <tr>\n",
       "      <td>поселок Серебрянский</td>\n",
       "      <td>1</td>\n",
       "      <td>20.450000</td>\n",
       "    </tr>\n",
       "    <tr>\n",
       "      <td>поселок Володарское</td>\n",
       "      <td>1</td>\n",
       "      <td>16.930000</td>\n",
       "    </tr>\n",
       "    <tr>\n",
       "      <td>поселок Семиозерье</td>\n",
       "      <td>1</td>\n",
       "      <td>35.710000</td>\n",
       "    </tr>\n",
       "    <tr>\n",
       "      <td>село Шум</td>\n",
       "      <td>1</td>\n",
       "      <td>33.900000</td>\n",
       "    </tr>\n",
       "  </tbody>\n",
       "</table>\n",
       "</div>"
      ],
      "text/plain": [
       "                         count      mean\n",
       "locality_name                           \n",
       "поселок Сумино               1 30.390000\n",
       "поселок Суйда                1 24.640000\n",
       "поселок Александровская      1 63.560000\n",
       "поселок Алексеевка           1 22.220000\n",
       "поселок Барышево             1 32.430000\n",
       "поселок Белоостров           1 66.670000\n",
       "поселок Серебрянский         1 20.450000\n",
       "поселок Володарское          1 16.930000\n",
       "поселок Семиозерье           1 35.710000\n",
       "село Шум                     1 33.900000"
      ]
     },
     "metadata": {},
     "output_type": "display_data"
    }
   ],
   "source": [
    "data_good_pivot_max_ads = data_good.pivot_table(\n",
    "    index=['locality_name'], \n",
    "    values = 'price_sq_m', \n",
    "    aggfunc=('count', 'mean')\n",
    ").sort_values(by='count', ascending=False)\n",
    "display(data_good_pivot_max_ads.head(10))\n",
    "display(data_good_pivot_max_ads.tail(10))"
   ]
  },
  {
   "cell_type": "markdown",
   "metadata": {},
   "source": [
    "* В топ-10, помимо Санкт-Петербурга, входят такие населенные пункты как: поселки Мурино, Кудрово, Шушары, город Всеволжск, поселок Парголово, города Колпино, Пушкин, Гатчина, Выборг\n",
    "* Стоимость 1 кв. м. в топ-10 варьируется от 57,8 до 104,8 тыс. руб. за 1 кв.м.\n",
    "* Самые дорогие квартиры в городе Санкт-Петербург, стоимость квадратного метра 104,8 тыс. руб. за 1 кв.м.\n",
    "* Самые дешевые квартиры в селе Шум, стоимость квадратного метра 33,90 тыс. руб. за 1 кв.м."
   ]
  },
  {
   "cell_type": "markdown",
   "metadata": {},
   "source": [
    "### Изучим предложения квартир по городу Санкт-Петербургу"
   ]
  },
  {
   "cell_type": "code",
   "execution_count": 96,
   "metadata": {},
   "outputs": [],
   "source": [
    "data_good_SPB = data_good.query('locality_name == \"Санкт-Петербург\"')"
   ]
  },
  {
   "cell_type": "code",
   "execution_count": 97,
   "metadata": {},
   "outputs": [
    {
     "name": "stderr",
     "output_type": "stream",
     "text": [
      "/opt/conda/lib/python3.7/site-packages/ipykernel_launcher.py:3: SettingWithCopyWarning: \n",
      "A value is trying to be set on a copy of a slice from a DataFrame.\n",
      "Try using .loc[row_indexer,col_indexer] = value instead\n",
      "\n",
      "See the caveats in the documentation: http://pandas.pydata.org/pandas-docs/stable/user_guide/indexing.html#returning-a-view-versus-a-copy\n",
      "  This is separate from the ipykernel package so we can avoid doing imports until\n"
     ]
    },
    {
     "data": {
      "text/html": [
       "<div>\n",
       "<style scoped>\n",
       "    .dataframe tbody tr th:only-of-type {\n",
       "        vertical-align: middle;\n",
       "    }\n",
       "\n",
       "    .dataframe tbody tr th {\n",
       "        vertical-align: top;\n",
       "    }\n",
       "\n",
       "    .dataframe thead th {\n",
       "        text-align: right;\n",
       "    }\n",
       "</style>\n",
       "<table border=\"1\" class=\"dataframe\">\n",
       "  <thead>\n",
       "    <tr style=\"text-align: right;\">\n",
       "      <th></th>\n",
       "      <th>total_images</th>\n",
       "      <th>last_price</th>\n",
       "      <th>total_area</th>\n",
       "      <th>first_day_exposition</th>\n",
       "      <th>rooms</th>\n",
       "      <th>ceiling_height</th>\n",
       "      <th>floors_total</th>\n",
       "      <th>living_area</th>\n",
       "      <th>floor</th>\n",
       "      <th>is_apartment</th>\n",
       "      <th>studio</th>\n",
       "      <th>...</th>\n",
       "      <th>days_exposition</th>\n",
       "      <th>flat_on_the_last_floor</th>\n",
       "      <th>price_sq_m</th>\n",
       "      <th>week_day</th>\n",
       "      <th>month</th>\n",
       "      <th>year</th>\n",
       "      <th>floor_group</th>\n",
       "      <th>living_to_total</th>\n",
       "      <th>kitchen_to_total</th>\n",
       "      <th>floor_group_id</th>\n",
       "      <th>centers_nearest_km</th>\n",
       "    </tr>\n",
       "  </thead>\n",
       "  <tbody>\n",
       "    <tr>\n",
       "      <td>9</td>\n",
       "      <td>18</td>\n",
       "      <td>5400.000000</td>\n",
       "      <td>61.000000</td>\n",
       "      <td>2017-02-26</td>\n",
       "      <td>3</td>\n",
       "      <td>2.500000</td>\n",
       "      <td>9</td>\n",
       "      <td>43.600000</td>\n",
       "      <td>7</td>\n",
       "      <td>False</td>\n",
       "      <td>False</td>\n",
       "      <td>...</td>\n",
       "      <td>289.000000</td>\n",
       "      <td>False</td>\n",
       "      <td>88.520000</td>\n",
       "      <td>6</td>\n",
       "      <td>2</td>\n",
       "      <td>2017</td>\n",
       "      <td>Другой этаж</td>\n",
       "      <td>0.715000</td>\n",
       "      <td>0.107000</td>\n",
       "      <td>2</td>\n",
       "      <td>15</td>\n",
       "    </tr>\n",
       "    <tr>\n",
       "      <td>10</td>\n",
       "      <td>5</td>\n",
       "      <td>5050.000000</td>\n",
       "      <td>39.600000</td>\n",
       "      <td>2017-11-16</td>\n",
       "      <td>1</td>\n",
       "      <td>2.670000</td>\n",
       "      <td>12</td>\n",
       "      <td>20.300000</td>\n",
       "      <td>3</td>\n",
       "      <td>False</td>\n",
       "      <td>False</td>\n",
       "      <td>...</td>\n",
       "      <td>137.000000</td>\n",
       "      <td>False</td>\n",
       "      <td>127.530000</td>\n",
       "      <td>3</td>\n",
       "      <td>11</td>\n",
       "      <td>2017</td>\n",
       "      <td>Другой этаж</td>\n",
       "      <td>0.513000</td>\n",
       "      <td>0.215000</td>\n",
       "      <td>2</td>\n",
       "      <td>14</td>\n",
       "    </tr>\n",
       "    <tr>\n",
       "      <td>15</td>\n",
       "      <td>16</td>\n",
       "      <td>4650.000000</td>\n",
       "      <td>39.000000</td>\n",
       "      <td>2017-11-18</td>\n",
       "      <td>1</td>\n",
       "      <td>2.650000</td>\n",
       "      <td>14</td>\n",
       "      <td>20.500000</td>\n",
       "      <td>5</td>\n",
       "      <td>False</td>\n",
       "      <td>False</td>\n",
       "      <td>...</td>\n",
       "      <td>19.000000</td>\n",
       "      <td>False</td>\n",
       "      <td>119.230000</td>\n",
       "      <td>5</td>\n",
       "      <td>11</td>\n",
       "      <td>2017</td>\n",
       "      <td>Другой этаж</td>\n",
       "      <td>0.526000</td>\n",
       "      <td>0.195000</td>\n",
       "      <td>2</td>\n",
       "      <td>14</td>\n",
       "    </tr>\n",
       "    <tr>\n",
       "      <td>18</td>\n",
       "      <td>8</td>\n",
       "      <td>3250.000000</td>\n",
       "      <td>31.000000</td>\n",
       "      <td>2017-01-27</td>\n",
       "      <td>1</td>\n",
       "      <td>2.500000</td>\n",
       "      <td>5</td>\n",
       "      <td>19.400000</td>\n",
       "      <td>2</td>\n",
       "      <td>False</td>\n",
       "      <td>False</td>\n",
       "      <td>...</td>\n",
       "      <td>168.000000</td>\n",
       "      <td>False</td>\n",
       "      <td>104.840000</td>\n",
       "      <td>4</td>\n",
       "      <td>1</td>\n",
       "      <td>2017</td>\n",
       "      <td>Другой этаж</td>\n",
       "      <td>0.626000</td>\n",
       "      <td>0.181000</td>\n",
       "      <td>2</td>\n",
       "      <td>11</td>\n",
       "    </tr>\n",
       "    <tr>\n",
       "      <td>21</td>\n",
       "      <td>13</td>\n",
       "      <td>3200.000000</td>\n",
       "      <td>31.600000</td>\n",
       "      <td>2018-03-14</td>\n",
       "      <td>1</td>\n",
       "      <td>2.650000</td>\n",
       "      <td>5</td>\n",
       "      <td>16.900000</td>\n",
       "      <td>2</td>\n",
       "      <td>False</td>\n",
       "      <td>False</td>\n",
       "      <td>...</td>\n",
       "      <td>310.000000</td>\n",
       "      <td>False</td>\n",
       "      <td>101.270000</td>\n",
       "      <td>2</td>\n",
       "      <td>3</td>\n",
       "      <td>2018</td>\n",
       "      <td>Другой этаж</td>\n",
       "      <td>0.535000</td>\n",
       "      <td>0.180000</td>\n",
       "      <td>2</td>\n",
       "      <td>10</td>\n",
       "    </tr>\n",
       "  </tbody>\n",
       "</table>\n",
       "<p>5 rows × 32 columns</p>\n",
       "</div>"
      ],
      "text/plain": [
       "    total_images  last_price  total_area first_day_exposition  rooms  \\\n",
       "9             18 5400.000000   61.000000           2017-02-26      3   \n",
       "10             5 5050.000000   39.600000           2017-11-16      1   \n",
       "15            16 4650.000000   39.000000           2017-11-18      1   \n",
       "18             8 3250.000000   31.000000           2017-01-27      1   \n",
       "21            13 3200.000000   31.600000           2018-03-14      1   \n",
       "\n",
       "    ceiling_height  floors_total  living_area  floor  is_apartment  studio  \\\n",
       "9         2.500000             9    43.600000      7         False   False   \n",
       "10        2.670000            12    20.300000      3         False   False   \n",
       "15        2.650000            14    20.500000      5         False   False   \n",
       "18        2.500000             5    19.400000      2         False   False   \n",
       "21        2.650000             5    16.900000      2         False   False   \n",
       "\n",
       "    ...  days_exposition  flat_on_the_last_floor  price_sq_m week_day  month  \\\n",
       "9   ...       289.000000                   False   88.520000        6      2   \n",
       "10  ...       137.000000                   False  127.530000        3     11   \n",
       "15  ...        19.000000                   False  119.230000        5     11   \n",
       "18  ...       168.000000                   False  104.840000        4      1   \n",
       "21  ...       310.000000                   False  101.270000        2      3   \n",
       "\n",
       "    year  floor_group  living_to_total  kitchen_to_total  floor_group_id  \\\n",
       "9   2017  Другой этаж         0.715000          0.107000               2   \n",
       "10  2017  Другой этаж         0.513000          0.215000               2   \n",
       "15  2017  Другой этаж         0.526000          0.195000               2   \n",
       "18  2017  Другой этаж         0.626000          0.181000               2   \n",
       "21  2018  Другой этаж         0.535000          0.180000               2   \n",
       "\n",
       "    centers_nearest_km  \n",
       "9                   15  \n",
       "10                  14  \n",
       "15                  14  \n",
       "18                  11  \n",
       "21                  10  \n",
       "\n",
       "[5 rows x 32 columns]"
      ]
     },
     "execution_count": 97,
     "metadata": {},
     "output_type": "execute_result"
    }
   ],
   "source": [
    "data_good_SPB['centers_nearest_km'] = (\n",
    "    data_good_SPB['city_centers_nearest'] / 1000\n",
    ").round(0).astype('Int64')\n",
    "data_good_SPB.head()"
   ]
  },
  {
   "cell_type": "code",
   "execution_count": 98,
   "metadata": {},
   "outputs": [
    {
     "name": "stderr",
     "output_type": "stream",
     "text": [
      "/opt/conda/lib/python3.7/site-packages/ipykernel_launcher.py:4: SettingWithCopyWarning: \n",
      "A value is trying to be set on a copy of a slice from a DataFrame.\n",
      "Try using .loc[row_indexer,col_indexer] = value instead\n",
      "\n",
      "See the caveats in the documentation: http://pandas.pydata.org/pandas-docs/stable/user_guide/indexing.html#returning-a-view-versus-a-copy\n",
      "  after removing the cwd from sys.path.\n"
     ]
    },
    {
     "data": {
      "text/html": [
       "<div>\n",
       "<style scoped>\n",
       "    .dataframe tbody tr th:only-of-type {\n",
       "        vertical-align: middle;\n",
       "    }\n",
       "\n",
       "    .dataframe tbody tr th {\n",
       "        vertical-align: top;\n",
       "    }\n",
       "\n",
       "    .dataframe thead th {\n",
       "        text-align: right;\n",
       "    }\n",
       "</style>\n",
       "<table border=\"1\" class=\"dataframe\">\n",
       "  <thead>\n",
       "    <tr style=\"text-align: right;\">\n",
       "      <th></th>\n",
       "      <th>total_images</th>\n",
       "      <th>last_price</th>\n",
       "      <th>total_area</th>\n",
       "      <th>first_day_exposition</th>\n",
       "      <th>rooms</th>\n",
       "      <th>ceiling_height</th>\n",
       "      <th>floors_total</th>\n",
       "      <th>living_area</th>\n",
       "      <th>floor</th>\n",
       "      <th>is_apartment</th>\n",
       "      <th>studio</th>\n",
       "      <th>...</th>\n",
       "      <th>flat_on_the_last_floor</th>\n",
       "      <th>price_sq_m</th>\n",
       "      <th>week_day</th>\n",
       "      <th>month</th>\n",
       "      <th>year</th>\n",
       "      <th>floor_group</th>\n",
       "      <th>living_to_total</th>\n",
       "      <th>kitchen_to_total</th>\n",
       "      <th>floor_group_id</th>\n",
       "      <th>centers_nearest_km</th>\n",
       "      <th>price_km</th>\n",
       "    </tr>\n",
       "  </thead>\n",
       "  <tbody>\n",
       "    <tr>\n",
       "      <td>9</td>\n",
       "      <td>18</td>\n",
       "      <td>5400.000000</td>\n",
       "      <td>61.000000</td>\n",
       "      <td>2017-02-26</td>\n",
       "      <td>3</td>\n",
       "      <td>2.500000</td>\n",
       "      <td>9</td>\n",
       "      <td>43.600000</td>\n",
       "      <td>7</td>\n",
       "      <td>False</td>\n",
       "      <td>False</td>\n",
       "      <td>...</td>\n",
       "      <td>False</td>\n",
       "      <td>88.520000</td>\n",
       "      <td>6</td>\n",
       "      <td>2</td>\n",
       "      <td>2017</td>\n",
       "      <td>Другой этаж</td>\n",
       "      <td>0.715000</td>\n",
       "      <td>0.107000</td>\n",
       "      <td>2</td>\n",
       "      <td>15</td>\n",
       "      <td>360.000000</td>\n",
       "    </tr>\n",
       "    <tr>\n",
       "      <td>10</td>\n",
       "      <td>5</td>\n",
       "      <td>5050.000000</td>\n",
       "      <td>39.600000</td>\n",
       "      <td>2017-11-16</td>\n",
       "      <td>1</td>\n",
       "      <td>2.670000</td>\n",
       "      <td>12</td>\n",
       "      <td>20.300000</td>\n",
       "      <td>3</td>\n",
       "      <td>False</td>\n",
       "      <td>False</td>\n",
       "      <td>...</td>\n",
       "      <td>False</td>\n",
       "      <td>127.530000</td>\n",
       "      <td>3</td>\n",
       "      <td>11</td>\n",
       "      <td>2017</td>\n",
       "      <td>Другой этаж</td>\n",
       "      <td>0.513000</td>\n",
       "      <td>0.215000</td>\n",
       "      <td>2</td>\n",
       "      <td>14</td>\n",
       "      <td>360.710000</td>\n",
       "    </tr>\n",
       "    <tr>\n",
       "      <td>15</td>\n",
       "      <td>16</td>\n",
       "      <td>4650.000000</td>\n",
       "      <td>39.000000</td>\n",
       "      <td>2017-11-18</td>\n",
       "      <td>1</td>\n",
       "      <td>2.650000</td>\n",
       "      <td>14</td>\n",
       "      <td>20.500000</td>\n",
       "      <td>5</td>\n",
       "      <td>False</td>\n",
       "      <td>False</td>\n",
       "      <td>...</td>\n",
       "      <td>False</td>\n",
       "      <td>119.230000</td>\n",
       "      <td>5</td>\n",
       "      <td>11</td>\n",
       "      <td>2017</td>\n",
       "      <td>Другой этаж</td>\n",
       "      <td>0.526000</td>\n",
       "      <td>0.195000</td>\n",
       "      <td>2</td>\n",
       "      <td>14</td>\n",
       "      <td>332.140000</td>\n",
       "    </tr>\n",
       "    <tr>\n",
       "      <td>18</td>\n",
       "      <td>8</td>\n",
       "      <td>3250.000000</td>\n",
       "      <td>31.000000</td>\n",
       "      <td>2017-01-27</td>\n",
       "      <td>1</td>\n",
       "      <td>2.500000</td>\n",
       "      <td>5</td>\n",
       "      <td>19.400000</td>\n",
       "      <td>2</td>\n",
       "      <td>False</td>\n",
       "      <td>False</td>\n",
       "      <td>...</td>\n",
       "      <td>False</td>\n",
       "      <td>104.840000</td>\n",
       "      <td>4</td>\n",
       "      <td>1</td>\n",
       "      <td>2017</td>\n",
       "      <td>Другой этаж</td>\n",
       "      <td>0.626000</td>\n",
       "      <td>0.181000</td>\n",
       "      <td>2</td>\n",
       "      <td>11</td>\n",
       "      <td>295.450000</td>\n",
       "    </tr>\n",
       "    <tr>\n",
       "      <td>21</td>\n",
       "      <td>13</td>\n",
       "      <td>3200.000000</td>\n",
       "      <td>31.600000</td>\n",
       "      <td>2018-03-14</td>\n",
       "      <td>1</td>\n",
       "      <td>2.650000</td>\n",
       "      <td>5</td>\n",
       "      <td>16.900000</td>\n",
       "      <td>2</td>\n",
       "      <td>False</td>\n",
       "      <td>False</td>\n",
       "      <td>...</td>\n",
       "      <td>False</td>\n",
       "      <td>101.270000</td>\n",
       "      <td>2</td>\n",
       "      <td>3</td>\n",
       "      <td>2018</td>\n",
       "      <td>Другой этаж</td>\n",
       "      <td>0.535000</td>\n",
       "      <td>0.180000</td>\n",
       "      <td>2</td>\n",
       "      <td>10</td>\n",
       "      <td>320.000000</td>\n",
       "    </tr>\n",
       "  </tbody>\n",
       "</table>\n",
       "<p>5 rows × 33 columns</p>\n",
       "</div>"
      ],
      "text/plain": [
       "    total_images  last_price  total_area first_day_exposition  rooms  \\\n",
       "9             18 5400.000000   61.000000           2017-02-26      3   \n",
       "10             5 5050.000000   39.600000           2017-11-16      1   \n",
       "15            16 4650.000000   39.000000           2017-11-18      1   \n",
       "18             8 3250.000000   31.000000           2017-01-27      1   \n",
       "21            13 3200.000000   31.600000           2018-03-14      1   \n",
       "\n",
       "    ceiling_height  floors_total  living_area  floor  is_apartment  studio  \\\n",
       "9         2.500000             9    43.600000      7         False   False   \n",
       "10        2.670000            12    20.300000      3         False   False   \n",
       "15        2.650000            14    20.500000      5         False   False   \n",
       "18        2.500000             5    19.400000      2         False   False   \n",
       "21        2.650000             5    16.900000      2         False   False   \n",
       "\n",
       "    ...  flat_on_the_last_floor  price_sq_m  week_day month  year  \\\n",
       "9   ...                   False   88.520000         6     2  2017   \n",
       "10  ...                   False  127.530000         3    11  2017   \n",
       "15  ...                   False  119.230000         5    11  2017   \n",
       "18  ...                   False  104.840000         4     1  2017   \n",
       "21  ...                   False  101.270000         2     3  2018   \n",
       "\n",
       "    floor_group  living_to_total  kitchen_to_total  floor_group_id  \\\n",
       "9   Другой этаж         0.715000          0.107000               2   \n",
       "10  Другой этаж         0.513000          0.215000               2   \n",
       "15  Другой этаж         0.526000          0.195000               2   \n",
       "18  Другой этаж         0.626000          0.181000               2   \n",
       "21  Другой этаж         0.535000          0.180000               2   \n",
       "\n",
       "    centers_nearest_km   price_km  \n",
       "9                   15 360.000000  \n",
       "10                  14 360.710000  \n",
       "15                  14 332.140000  \n",
       "18                  11 295.450000  \n",
       "21                  10 320.000000  \n",
       "\n",
       "[5 rows x 33 columns]"
      ]
     },
     "execution_count": 98,
     "metadata": {},
     "output_type": "execute_result"
    }
   ],
   "source": [
    "#посчитаем среднюю цену 1 кв.м. в зависимости от удаленности от центра СПб\n",
    "data_good_SPB['price_km'] = (\n",
    "    data_good_SPB['last_price'] / data_good_SPB['centers_nearest_km']\n",
    ").round(2)\n",
    "data_good_SPB.head()"
   ]
  },
  {
   "cell_type": "code",
   "execution_count": 99,
   "metadata": {},
   "outputs": [
    {
     "data": {
      "text/plain": [
       "<matplotlib.axes._subplots.AxesSubplot at 0x7f6714f42e90>"
      ]
     },
     "execution_count": 99,
     "metadata": {},
     "output_type": "execute_result"
    },
    {
     "data": {
      "image/png": "[encoded data removed]",
      "text/plain": [
       "<Figure size 432x288 with 1 Axes>"
      ]
     },
     "metadata": {
      "needs_background": "light"
     },
     "output_type": "display_data"
    }
   ],
   "source": [
    "#Построим график зависимости цена от удалённости от центра (по срезу СПб)\n",
    "(data_good_SPB\n",
    "     .sort_values(by='centers_nearest_km',ascending=True)\n",
    "     .plot(x='centers_nearest_km',y='price_km', style='o-')\n",
    ")"
   ]
  },
  {
   "cell_type": "code",
   "execution_count": 100,
   "metadata": {},
   "outputs": [
    {
     "data": {
      "text/plain": [
       "<matplotlib.axes._subplots.AxesSubplot at 0x7f6714a1d990>"
      ]
     },
     "execution_count": 100,
     "metadata": {},
     "output_type": "execute_result"
    },
    {
     "data": {
      "image/png": "[encoded data removed]",
      "text/plain": [
       "<Figure size 432x288 with 1 Axes>"
      ]
     },
     "metadata": {
      "needs_background": "light"
     },
     "output_type": "display_data"
    }
   ],
   "source": [
    "#Построим график зависимости цена от удалённости от центра (по срезу СПб)\n",
    "(data_good_SPB\n",
    "     .sort_values(by='centers_nearest_km',ascending=True)\n",
    "     .plot(x='centers_nearest_km',y='price_km', style='o-', grid=True, xlim=[0,10])\n",
    ")"
   ]
  },
  {
   "cell_type": "markdown",
   "metadata": {},
   "source": [
    "При изучении более детального графика можно заметить, что при достижения отметки 8 км цена резко падает.\n",
    "Примем, что центральная часть города лежит в радиусе 8 км."
   ]
  },
  {
   "cell_type": "markdown",
   "metadata": {},
   "source": [
    "### Cегмент квартир в центре"
   ]
  },
  {
   "cell_type": "code",
   "execution_count": 101,
   "metadata": {},
   "outputs": [
    {
     "data": {
      "text/html": [
       "<div>\n",
       "<style scoped>\n",
       "    .dataframe tbody tr th:only-of-type {\n",
       "        vertical-align: middle;\n",
       "    }\n",
       "\n",
       "    .dataframe tbody tr th {\n",
       "        vertical-align: top;\n",
       "    }\n",
       "\n",
       "    .dataframe thead th {\n",
       "        text-align: right;\n",
       "    }\n",
       "</style>\n",
       "<table border=\"1\" class=\"dataframe\">\n",
       "  <thead>\n",
       "    <tr style=\"text-align: right;\">\n",
       "      <th></th>\n",
       "      <th>total_images</th>\n",
       "      <th>last_price</th>\n",
       "      <th>total_area</th>\n",
       "      <th>first_day_exposition</th>\n",
       "      <th>rooms</th>\n",
       "      <th>ceiling_height</th>\n",
       "      <th>floors_total</th>\n",
       "      <th>living_area</th>\n",
       "      <th>floor</th>\n",
       "      <th>is_apartment</th>\n",
       "      <th>studio</th>\n",
       "      <th>...</th>\n",
       "      <th>flat_on_the_last_floor</th>\n",
       "      <th>price_sq_m</th>\n",
       "      <th>week_day</th>\n",
       "      <th>month</th>\n",
       "      <th>year</th>\n",
       "      <th>floor_group</th>\n",
       "      <th>living_to_total</th>\n",
       "      <th>kitchen_to_total</th>\n",
       "      <th>floor_group_id</th>\n",
       "      <th>centers_nearest_km</th>\n",
       "      <th>price_km</th>\n",
       "    </tr>\n",
       "  </thead>\n",
       "  <tbody>\n",
       "    <tr>\n",
       "      <td>24</td>\n",
       "      <td>8</td>\n",
       "      <td>6500.000000</td>\n",
       "      <td>97.200000</td>\n",
       "      <td>2015-10-31</td>\n",
       "      <td>2</td>\n",
       "      <td>2.650000</td>\n",
       "      <td>3</td>\n",
       "      <td>46.500000</td>\n",
       "      <td>1</td>\n",
       "      <td>False</td>\n",
       "      <td>False</td>\n",
       "      <td>...</td>\n",
       "      <td>False</td>\n",
       "      <td>66.870000</td>\n",
       "      <td>5</td>\n",
       "      <td>10</td>\n",
       "      <td>2015</td>\n",
       "      <td>Первый этаж</td>\n",
       "      <td>0.478000</td>\n",
       "      <td>0.202000</td>\n",
       "      <td>0</td>\n",
       "      <td>2</td>\n",
       "      <td>3250.000000</td>\n",
       "    </tr>\n",
       "    <tr>\n",
       "      <td>70</td>\n",
       "      <td>9</td>\n",
       "      <td>3400.000000</td>\n",
       "      <td>30.000000</td>\n",
       "      <td>2018-09-05</td>\n",
       "      <td>1</td>\n",
       "      <td>2.650000</td>\n",
       "      <td>5</td>\n",
       "      <td>16.000000</td>\n",
       "      <td>1</td>\n",
       "      <td>False</td>\n",
       "      <td>False</td>\n",
       "      <td>...</td>\n",
       "      <td>False</td>\n",
       "      <td>113.330000</td>\n",
       "      <td>2</td>\n",
       "      <td>9</td>\n",
       "      <td>2018</td>\n",
       "      <td>Первый этаж</td>\n",
       "      <td>0.533000</td>\n",
       "      <td>0.233000</td>\n",
       "      <td>0</td>\n",
       "      <td>8</td>\n",
       "      <td>425.000000</td>\n",
       "    </tr>\n",
       "    <tr>\n",
       "      <td>94</td>\n",
       "      <td>3</td>\n",
       "      <td>3500.000000</td>\n",
       "      <td>29.500000</td>\n",
       "      <td>2019-04-26</td>\n",
       "      <td>1</td>\n",
       "      <td>2.500000</td>\n",
       "      <td>5</td>\n",
       "      <td>15.600000</td>\n",
       "      <td>2</td>\n",
       "      <td>False</td>\n",
       "      <td>False</td>\n",
       "      <td>...</td>\n",
       "      <td>False</td>\n",
       "      <td>118.640000</td>\n",
       "      <td>4</td>\n",
       "      <td>4</td>\n",
       "      <td>2019</td>\n",
       "      <td>Другой этаж</td>\n",
       "      <td>0.529000</td>\n",
       "      <td>0.186000</td>\n",
       "      <td>2</td>\n",
       "      <td>7</td>\n",
       "      <td>500.000000</td>\n",
       "    </tr>\n",
       "    <tr>\n",
       "      <td>99</td>\n",
       "      <td>32</td>\n",
       "      <td>9600.000000</td>\n",
       "      <td>90.000000</td>\n",
       "      <td>2017-09-26</td>\n",
       "      <td>4</td>\n",
       "      <td>2.650000</td>\n",
       "      <td>5</td>\n",
       "      <td>67.000000</td>\n",
       "      <td>2</td>\n",
       "      <td>False</td>\n",
       "      <td>False</td>\n",
       "      <td>...</td>\n",
       "      <td>False</td>\n",
       "      <td>106.670000</td>\n",
       "      <td>1</td>\n",
       "      <td>9</td>\n",
       "      <td>2017</td>\n",
       "      <td>Другой этаж</td>\n",
       "      <td>0.744000</td>\n",
       "      <td>0.089000</td>\n",
       "      <td>2</td>\n",
       "      <td>3</td>\n",
       "      <td>3200.000000</td>\n",
       "    </tr>\n",
       "    <tr>\n",
       "      <td>111</td>\n",
       "      <td>4</td>\n",
       "      <td>4590.000000</td>\n",
       "      <td>40.000000</td>\n",
       "      <td>2017-05-29</td>\n",
       "      <td>1</td>\n",
       "      <td>2.650000</td>\n",
       "      <td>6</td>\n",
       "      <td>18.000000</td>\n",
       "      <td>1</td>\n",
       "      <td>False</td>\n",
       "      <td>False</td>\n",
       "      <td>...</td>\n",
       "      <td>False</td>\n",
       "      <td>114.750000</td>\n",
       "      <td>0</td>\n",
       "      <td>5</td>\n",
       "      <td>2017</td>\n",
       "      <td>Первый этаж</td>\n",
       "      <td>0.450000</td>\n",
       "      <td>0.250000</td>\n",
       "      <td>0</td>\n",
       "      <td>6</td>\n",
       "      <td>765.000000</td>\n",
       "    </tr>\n",
       "    <tr>\n",
       "      <td>138</td>\n",
       "      <td>8</td>\n",
       "      <td>4800.000000</td>\n",
       "      <td>40.000000</td>\n",
       "      <td>2017-11-18</td>\n",
       "      <td>2</td>\n",
       "      <td>2.650000</td>\n",
       "      <td>3</td>\n",
       "      <td>29.000000</td>\n",
       "      <td>2</td>\n",
       "      <td>False</td>\n",
       "      <td>False</td>\n",
       "      <td>...</td>\n",
       "      <td>False</td>\n",
       "      <td>120.000000</td>\n",
       "      <td>5</td>\n",
       "      <td>11</td>\n",
       "      <td>2017</td>\n",
       "      <td>Другой этаж</td>\n",
       "      <td>0.725000</td>\n",
       "      <td>0.150000</td>\n",
       "      <td>2</td>\n",
       "      <td>3</td>\n",
       "      <td>1600.000000</td>\n",
       "    </tr>\n",
       "    <tr>\n",
       "      <td>143</td>\n",
       "      <td>9</td>\n",
       "      <td>2990.000000</td>\n",
       "      <td>30.000000</td>\n",
       "      <td>2016-06-08</td>\n",
       "      <td>1</td>\n",
       "      <td>2.500000</td>\n",
       "      <td>9</td>\n",
       "      <td>20.000000</td>\n",
       "      <td>9</td>\n",
       "      <td>False</td>\n",
       "      <td>False</td>\n",
       "      <td>...</td>\n",
       "      <td>True</td>\n",
       "      <td>99.670000</td>\n",
       "      <td>2</td>\n",
       "      <td>6</td>\n",
       "      <td>2016</td>\n",
       "      <td>Последний этаж</td>\n",
       "      <td>0.667000</td>\n",
       "      <td>0.187000</td>\n",
       "      <td>1</td>\n",
       "      <td>6</td>\n",
       "      <td>498.330000</td>\n",
       "    </tr>\n",
       "    <tr>\n",
       "      <td>193</td>\n",
       "      <td>6</td>\n",
       "      <td>7920.000000</td>\n",
       "      <td>83.800000</td>\n",
       "      <td>2017-08-17</td>\n",
       "      <td>4</td>\n",
       "      <td>2.470000</td>\n",
       "      <td>9</td>\n",
       "      <td>55.900000</td>\n",
       "      <td>9</td>\n",
       "      <td>False</td>\n",
       "      <td>False</td>\n",
       "      <td>...</td>\n",
       "      <td>True</td>\n",
       "      <td>94.510000</td>\n",
       "      <td>3</td>\n",
       "      <td>8</td>\n",
       "      <td>2017</td>\n",
       "      <td>Последний этаж</td>\n",
       "      <td>0.667000</td>\n",
       "      <td>0.117000</td>\n",
       "      <td>1</td>\n",
       "      <td>8</td>\n",
       "      <td>990.000000</td>\n",
       "    </tr>\n",
       "    <tr>\n",
       "      <td>219</td>\n",
       "      <td>12</td>\n",
       "      <td>7700.000000</td>\n",
       "      <td>58.700000</td>\n",
       "      <td>2017-12-12</td>\n",
       "      <td>1</td>\n",
       "      <td>2.650000</td>\n",
       "      <td>7</td>\n",
       "      <td>17.000000</td>\n",
       "      <td>3</td>\n",
       "      <td>False</td>\n",
       "      <td>False</td>\n",
       "      <td>...</td>\n",
       "      <td>False</td>\n",
       "      <td>131.180000</td>\n",
       "      <td>1</td>\n",
       "      <td>12</td>\n",
       "      <td>2017</td>\n",
       "      <td>Другой этаж</td>\n",
       "      <td>0.290000</td>\n",
       "      <td>0.267000</td>\n",
       "      <td>2</td>\n",
       "      <td>5</td>\n",
       "      <td>1540.000000</td>\n",
       "    </tr>\n",
       "    <tr>\n",
       "      <td>305</td>\n",
       "      <td>12</td>\n",
       "      <td>6283.000000</td>\n",
       "      <td>70.800000</td>\n",
       "      <td>2017-10-05</td>\n",
       "      <td>3</td>\n",
       "      <td>2.650000</td>\n",
       "      <td>5</td>\n",
       "      <td>50.900000</td>\n",
       "      <td>5</td>\n",
       "      <td>False</td>\n",
       "      <td>False</td>\n",
       "      <td>...</td>\n",
       "      <td>True</td>\n",
       "      <td>88.740000</td>\n",
       "      <td>3</td>\n",
       "      <td>10</td>\n",
       "      <td>2017</td>\n",
       "      <td>Последний этаж</td>\n",
       "      <td>0.719000</td>\n",
       "      <td>0.116000</td>\n",
       "      <td>1</td>\n",
       "      <td>4</td>\n",
       "      <td>1570.750000</td>\n",
       "    </tr>\n",
       "  </tbody>\n",
       "</table>\n",
       "<p>10 rows × 33 columns</p>\n",
       "</div>"
      ],
      "text/plain": [
       "     total_images  last_price  total_area first_day_exposition  rooms  \\\n",
       "24              8 6500.000000   97.200000           2015-10-31      2   \n",
       "70              9 3400.000000   30.000000           2018-09-05      1   \n",
       "94              3 3500.000000   29.500000           2019-04-26      1   \n",
       "99             32 9600.000000   90.000000           2017-09-26      4   \n",
       "111             4 4590.000000   40.000000           2017-05-29      1   \n",
       "138             8 4800.000000   40.000000           2017-11-18      2   \n",
       "143             9 2990.000000   30.000000           2016-06-08      1   \n",
       "193             6 7920.000000   83.800000           2017-08-17      4   \n",
       "219            12 7700.000000   58.700000           2017-12-12      1   \n",
       "305            12 6283.000000   70.800000           2017-10-05      3   \n",
       "\n",
       "     ceiling_height  floors_total  living_area  floor  is_apartment  studio  \\\n",
       "24         2.650000             3    46.500000      1         False   False   \n",
       "70         2.650000             5    16.000000      1         False   False   \n",
       "94         2.500000             5    15.600000      2         False   False   \n",
       "99         2.650000             5    67.000000      2         False   False   \n",
       "111        2.650000             6    18.000000      1         False   False   \n",
       "138        2.650000             3    29.000000      2         False   False   \n",
       "143        2.500000             9    20.000000      9         False   False   \n",
       "193        2.470000             9    55.900000      9         False   False   \n",
       "219        2.650000             7    17.000000      3         False   False   \n",
       "305        2.650000             5    50.900000      5         False   False   \n",
       "\n",
       "     ...  flat_on_the_last_floor  price_sq_m  week_day month  year  \\\n",
       "24   ...                   False   66.870000         5    10  2015   \n",
       "70   ...                   False  113.330000         2     9  2018   \n",
       "94   ...                   False  118.640000         4     4  2019   \n",
       "99   ...                   False  106.670000         1     9  2017   \n",
       "111  ...                   False  114.750000         0     5  2017   \n",
       "138  ...                   False  120.000000         5    11  2017   \n",
       "143  ...                    True   99.670000         2     6  2016   \n",
       "193  ...                    True   94.510000         3     8  2017   \n",
       "219  ...                   False  131.180000         1    12  2017   \n",
       "305  ...                    True   88.740000         3    10  2017   \n",
       "\n",
       "        floor_group  living_to_total  kitchen_to_total  floor_group_id  \\\n",
       "24      Первый этаж         0.478000          0.202000               0   \n",
       "70      Первый этаж         0.533000          0.233000               0   \n",
       "94      Другой этаж         0.529000          0.186000               2   \n",
       "99      Другой этаж         0.744000          0.089000               2   \n",
       "111     Первый этаж         0.450000          0.250000               0   \n",
       "138     Другой этаж         0.725000          0.150000               2   \n",
       "143  Последний этаж         0.667000          0.187000               1   \n",
       "193  Последний этаж         0.667000          0.117000               1   \n",
       "219     Другой этаж         0.290000          0.267000               2   \n",
       "305  Последний этаж         0.719000          0.116000               1   \n",
       "\n",
       "     centers_nearest_km    price_km  \n",
       "24                    2 3250.000000  \n",
       "70                    8  425.000000  \n",
       "94                    7  500.000000  \n",
       "99                    3 3200.000000  \n",
       "111                   6  765.000000  \n",
       "138                   3 1600.000000  \n",
       "143                   6  498.330000  \n",
       "193                   8  990.000000  \n",
       "219                   5 1540.000000  \n",
       "305                   4 1570.750000  \n",
       "\n",
       "[10 rows x 33 columns]"
      ]
     },
     "execution_count": 101,
     "metadata": {},
     "output_type": "execute_result"
    }
   ],
   "source": [
    "#Выделим квартиры, расположенные не далее 8 км от центра города\n",
    "data_good_SPB = data_good_SPB.query('centers_nearest_km <= 8')\n",
    "data_good_SPB.head(10)"
   ]
  },
  {
   "cell_type": "markdown",
   "metadata": {},
   "source": [
    "Проанализируем эту территорию и изучите следующие параметры: площадь, цена, число комнат, высота потолков."
   ]
  },
  {
   "cell_type": "markdown",
   "metadata": {},
   "source": [
    "#### Площадь квартир, расположенных в центре Санкт-Петербурга"
   ]
  },
  {
   "cell_type": "code",
   "execution_count": 102,
   "metadata": {},
   "outputs": [
    {
     "data": {
      "text/plain": [
       "count   1286.000000\n",
       "mean      58.649456\n",
       "std       19.862200\n",
       "min       12.000000\n",
       "25%       43.400000\n",
       "50%       56.950000\n",
       "75%       72.000000\n",
       "max      114.200000\n",
       "Name: total_area, dtype: float64"
      ]
     },
     "execution_count": 102,
     "metadata": {},
     "output_type": "execute_result"
    }
   ],
   "source": [
    "data_good_SPB['total_area'].describe()"
   ]
  },
  {
   "cell_type": "code",
   "execution_count": 103,
   "metadata": {},
   "outputs": [
    {
     "data": {
      "text/plain": [
       "<matplotlib.axes._subplots.AxesSubplot at 0x7f6714287d50>"
      ]
     },
     "execution_count": 103,
     "metadata": {},
     "output_type": "execute_result"
    },
    {
     "data": {
      "image/png": "[encoded data removed]",
      "text/plain": [
       "<Figure size 432x288 with 1 Axes>"
      ]
     },
     "metadata": {
      "needs_background": "light"
     },
     "output_type": "display_data"
    }
   ],
   "source": [
    "data_good_SPB['total_area'].hist(bins=50)"
   ]
  },
  {
   "cell_type": "markdown",
   "metadata": {},
   "source": [
    "* В центральном районе города Санкт-Петербурга в среднем продаются квартиры площадью около 60 км.в.\n",
    "* Минимальная площадь 12 кв.м.\n",
    "* Максимальная площадь 114,2 кв.м.\n",
    "* Гистограмма отражает нормальный вид распределения\n",
    "* Большое количество квартир с площадью около 35 кв.м., 45 кв.м. и 80 кв.м. позволяют предположить, что это квартиры типовой застройки (студии, однокомнатные и трехкомнатные типовые квартиры) "
   ]
  },
  {
   "cell_type": "markdown",
   "metadata": {},
   "source": [
    "#### Стоимость квартир, расположенных в центре Санкт-Петербурга"
   ]
  },
  {
   "cell_type": "code",
   "execution_count": 104,
   "metadata": {},
   "outputs": [
    {
     "data": {
      "text/plain": [
       "count    1286.000000\n",
       "mean     6756.801012\n",
       "std      2221.797841\n",
       "min      1686.000000\n",
       "25%      5000.000000\n",
       "50%      6570.000000\n",
       "75%      8437.500000\n",
       "max     11879.250000\n",
       "Name: last_price, dtype: float64"
      ]
     },
     "execution_count": 104,
     "metadata": {},
     "output_type": "execute_result"
    }
   ],
   "source": [
    "data_good_SPB['last_price'].describe()"
   ]
  },
  {
   "cell_type": "code",
   "execution_count": 105,
   "metadata": {},
   "outputs": [
    {
     "data": {
      "text/plain": [
       "<matplotlib.axes._subplots.AxesSubplot at 0x7f6713f67fd0>"
      ]
     },
     "execution_count": 105,
     "metadata": {},
     "output_type": "execute_result"
    },
    {
     "data": {
      "image/png": "[encoded data removed]",
      "text/plain": [
       "<Figure size 432x288 with 1 Axes>"
      ]
     },
     "metadata": {
      "needs_background": "light"
     },
     "output_type": "display_data"
    }
   ],
   "source": [
    "data_good_SPB['last_price'].hist(bins=50)"
   ]
  },
  {
   "cell_type": "markdown",
   "metadata": {},
   "source": [
    "* В центральном районе города Санкт-Петербурга в среднем продаются квартиры стоимостью 7039 тыс. руб.\n",
    "* Минимальная стоимость1686 тыс. руб.\n",
    "* Максимальная стоимость 11879 тыс. руб.\n",
    "* Гистограмма отражает нормальный вид распределения"
   ]
  },
  {
   "cell_type": "markdown",
   "metadata": {},
   "source": [
    "#### Число комнат в квартирах, расположенных в центре Санкт-Петербурга"
   ]
  },
  {
   "cell_type": "code",
   "execution_count": 106,
   "metadata": {},
   "outputs": [
    {
     "data": {
      "text/plain": [
       "count   1286.000000\n",
       "mean       2.039658\n",
       "std        0.886991\n",
       "min        0.000000\n",
       "25%        1.000000\n",
       "50%        2.000000\n",
       "75%        3.000000\n",
       "max        6.000000\n",
       "Name: rooms, dtype: float64"
      ]
     },
     "execution_count": 106,
     "metadata": {},
     "output_type": "execute_result"
    }
   ],
   "source": [
    "data_good_SPB['rooms'].describe()"
   ]
  },
  {
   "cell_type": "code",
   "execution_count": 107,
   "metadata": {},
   "outputs": [
    {
     "data": {
      "text/plain": [
       "<matplotlib.axes._subplots.AxesSubplot at 0x7f67146a4110>"
      ]
     },
     "execution_count": 107,
     "metadata": {},
     "output_type": "execute_result"
    },
    {
     "data": {
      "image/png": "[encoded data removed]",
      "text/plain": [
       "<Figure size 432x288 with 1 Axes>"
      ]
     },
     "metadata": {
      "needs_background": "light"
     },
     "output_type": "display_data"
    }
   ],
   "source": [
    "data_good_SPB['rooms'].hist(bins=6)"
   ]
  },
  {
   "cell_type": "markdown",
   "metadata": {},
   "source": [
    "* В центральном районе города Санкт-Петербурга в среднем продаются двухкомнатные квартиры\n",
    "* Минимальное количество комнат 0 (студии)\n",
    "* Максимальное количество комнат 6.\n",
    "* Гистограмма отражает нормальный вид распределения"
   ]
  },
  {
   "cell_type": "markdown",
   "metadata": {},
   "source": [
    "#### Высота потолков в квартирах, расположенных в центре Санкт-Петербурга"
   ]
  },
  {
   "cell_type": "code",
   "execution_count": 108,
   "metadata": {},
   "outputs": [
    {
     "data": {
      "text/plain": [
       "count   1286.000000\n",
       "mean       2.654238\n",
       "std        0.075000\n",
       "min        2.460000\n",
       "25%        2.650000\n",
       "50%        2.650000\n",
       "75%        2.650000\n",
       "max        2.850000\n",
       "Name: ceiling_height, dtype: float64"
      ]
     },
     "execution_count": 108,
     "metadata": {},
     "output_type": "execute_result"
    }
   ],
   "source": [
    "data_good_SPB['ceiling_height'].describe()"
   ]
  },
  {
   "cell_type": "code",
   "execution_count": 109,
   "metadata": {},
   "outputs": [
    {
     "data": {
      "text/plain": [
       "<matplotlib.axes._subplots.AxesSubplot at 0x7f6715603ad0>"
      ]
     },
     "execution_count": 109,
     "metadata": {},
     "output_type": "execute_result"
    },
    {
     "data": {
      "image/png": "[encoded data removed]",
      "text/plain": [
       "<Figure size 432x288 with 1 Axes>"
      ]
     },
     "metadata": {
      "needs_background": "light"
     },
     "output_type": "display_data"
    }
   ],
   "source": [
    "data_good_SPB['ceiling_height'].hist(bins=20)"
   ]
  },
  {
   "cell_type": "markdown",
   "metadata": {},
   "source": [
    "* В центральном районе города Санкт-Петербурга в среднем продаются квартиры с высотой потолков равной 2,65м.\n",
    "* Минимальная высота потолков составляет 2,46 м.\n",
    "* Максимальная высота - 2,85 м\n",
    "* Гистограмма отражает нормальный вид распределения"
   ]
  },
  {
   "cell_type": "code",
   "execution_count": 110,
   "metadata": {},
   "outputs": [
    {
     "data": {
      "text/html": [
       "<div>\n",
       "<style scoped>\n",
       "    .dataframe tbody tr th:only-of-type {\n",
       "        vertical-align: middle;\n",
       "    }\n",
       "\n",
       "    .dataframe tbody tr th {\n",
       "        vertical-align: top;\n",
       "    }\n",
       "\n",
       "    .dataframe thead th {\n",
       "        text-align: right;\n",
       "    }\n",
       "</style>\n",
       "<table border=\"1\" class=\"dataframe\">\n",
       "  <thead>\n",
       "    <tr style=\"text-align: right;\">\n",
       "      <th></th>\n",
       "      <th>last_price</th>\n",
       "      <th>total_area</th>\n",
       "      <th>rooms</th>\n",
       "      <th>ceiling_height</th>\n",
       "    </tr>\n",
       "  </thead>\n",
       "  <tbody>\n",
       "    <tr>\n",
       "      <td>last_price</td>\n",
       "      <td>1.000000</td>\n",
       "      <td>0.728793</td>\n",
       "      <td>0.437216</td>\n",
       "      <td>0.233422</td>\n",
       "    </tr>\n",
       "    <tr>\n",
       "      <td>total_area</td>\n",
       "      <td>0.728793</td>\n",
       "      <td>1.000000</td>\n",
       "      <td>0.788182</td>\n",
       "      <td>0.152225</td>\n",
       "    </tr>\n",
       "    <tr>\n",
       "      <td>rooms</td>\n",
       "      <td>0.437216</td>\n",
       "      <td>0.788182</td>\n",
       "      <td>1.000000</td>\n",
       "      <td>0.010456</td>\n",
       "    </tr>\n",
       "    <tr>\n",
       "      <td>ceiling_height</td>\n",
       "      <td>0.233422</td>\n",
       "      <td>0.152225</td>\n",
       "      <td>0.010456</td>\n",
       "      <td>1.000000</td>\n",
       "    </tr>\n",
       "  </tbody>\n",
       "</table>\n",
       "</div>"
      ],
      "text/plain": [
       "                last_price  total_area    rooms  ceiling_height\n",
       "last_price        1.000000    0.728793 0.437216        0.233422\n",
       "total_area        0.728793    1.000000 0.788182        0.152225\n",
       "rooms             0.437216    0.788182 1.000000        0.010456\n",
       "ceiling_height    0.233422    0.152225 0.010456        1.000000"
      ]
     },
     "execution_count": 110,
     "metadata": {},
     "output_type": "execute_result"
    }
   ],
   "source": [
    "data_good_SPB[[\n",
    "    'last_price', 'total_area', 'rooms', 'ceiling_height'\n",
    "]].corr()"
   ]
  },
  {
   "cell_type": "markdown",
   "metadata": {},
   "source": [
    "На стоимость квартиры в центре Санкт-Петербурга большое влияние оказывает общая площадь (коэффициент корреляции 0,71), затем количество комнат (коэффициент корреляции 0,45, средняя теснота связи) и менее всего на стоимость влияет высота потолков (коэффициент корреляции 0,17, слабая теснота связи)"
   ]
  },
  {
   "cell_type": "markdown",
   "metadata": {},
   "source": [
    "Рассмотрим факторы, которые влияют на стоимость квартиры (число комнат, этаж, удалённость от центра, дата размещения объявления)"
   ]
  },
  {
   "cell_type": "code",
   "execution_count": 111,
   "metadata": {},
   "outputs": [
    {
     "data": {
      "text/html": [
       "<div>\n",
       "<style scoped>\n",
       "    .dataframe tbody tr th:only-of-type {\n",
       "        vertical-align: middle;\n",
       "    }\n",
       "\n",
       "    .dataframe tbody tr th {\n",
       "        vertical-align: top;\n",
       "    }\n",
       "\n",
       "    .dataframe thead th {\n",
       "        text-align: right;\n",
       "    }\n",
       "</style>\n",
       "<table border=\"1\" class=\"dataframe\">\n",
       "  <thead>\n",
       "    <tr style=\"text-align: right;\">\n",
       "      <th></th>\n",
       "      <th>last_price</th>\n",
       "      <th>rooms</th>\n",
       "      <th>floor_group_id</th>\n",
       "      <th>city_centers_nearest</th>\n",
       "      <th>days_exposition</th>\n",
       "    </tr>\n",
       "  </thead>\n",
       "  <tbody>\n",
       "    <tr>\n",
       "      <td>last_price</td>\n",
       "      <td>1.000000</td>\n",
       "      <td>0.437216</td>\n",
       "      <td>0.228982</td>\n",
       "      <td>-0.178704</td>\n",
       "      <td>0.103897</td>\n",
       "    </tr>\n",
       "    <tr>\n",
       "      <td>rooms</td>\n",
       "      <td>0.437216</td>\n",
       "      <td>1.000000</td>\n",
       "      <td>0.006072</td>\n",
       "      <td>-0.176469</td>\n",
       "      <td>0.057510</td>\n",
       "    </tr>\n",
       "    <tr>\n",
       "      <td>floor_group_id</td>\n",
       "      <td>0.228982</td>\n",
       "      <td>0.006072</td>\n",
       "      <td>1.000000</td>\n",
       "      <td>0.155927</td>\n",
       "      <td>0.000966</td>\n",
       "    </tr>\n",
       "    <tr>\n",
       "      <td>city_centers_nearest</td>\n",
       "      <td>-0.178704</td>\n",
       "      <td>-0.176469</td>\n",
       "      <td>0.155927</td>\n",
       "      <td>1.000000</td>\n",
       "      <td>-0.044984</td>\n",
       "    </tr>\n",
       "    <tr>\n",
       "      <td>days_exposition</td>\n",
       "      <td>0.103897</td>\n",
       "      <td>0.057510</td>\n",
       "      <td>0.000966</td>\n",
       "      <td>-0.044984</td>\n",
       "      <td>1.000000</td>\n",
       "    </tr>\n",
       "  </tbody>\n",
       "</table>\n",
       "</div>"
      ],
      "text/plain": [
       "                      last_price     rooms  floor_group_id  \\\n",
       "last_price              1.000000  0.437216        0.228982   \n",
       "rooms                   0.437216  1.000000        0.006072   \n",
       "floor_group_id          0.228982  0.006072        1.000000   \n",
       "city_centers_nearest   -0.178704 -0.176469        0.155927   \n",
       "days_exposition         0.103897  0.057510        0.000966   \n",
       "\n",
       "                      city_centers_nearest  days_exposition  \n",
       "last_price                       -0.178704         0.103897  \n",
       "rooms                            -0.176469         0.057510  \n",
       "floor_group_id                    0.155927         0.000966  \n",
       "city_centers_nearest              1.000000        -0.044984  \n",
       "days_exposition                  -0.044984         1.000000  "
      ]
     },
     "execution_count": 111,
     "metadata": {},
     "output_type": "execute_result"
    }
   ],
   "source": [
    "data_good_SPB[[\n",
    "    'last_price', 'rooms', 'floor_group_id', 'city_centers_nearest', 'days_exposition'\n",
    "]].corr()"
   ]
  },
  {
   "cell_type": "code",
   "execution_count": 112,
   "metadata": {},
   "outputs": [
    {
     "data": {
      "text/plain": [
       "Text(0.5, 1, 'Корреляция стоимости квартиры с различными параметрами')"
      ]
     },
     "execution_count": 112,
     "metadata": {},
     "output_type": "execute_result"
    },
    {
     "data": {
      "image/png": "[encoded data removed]",
      "text/plain": [
       "<Figure size 432x288 with 2 Axes>"
      ]
     },
     "metadata": {
      "needs_background": "light"
     },
     "output_type": "display_data"
    }
   ],
   "source": [
    "heatmap = sns.heatmap(data_good_SPB.corr()\n",
    "                      [['last_price']].\n",
    "                      sort_values\n",
    "                      (\n",
    "                          by='last_price', ascending=False), vmin=-1, vmax=1, annot=True, cmap='BrBG'\n",
    "                     )\n",
    "(heatmap.set_title\n",
    " ('Корреляция стоимости квартиры с различными параметрами', fontdict={'fontsize':18}, pad=16\n",
    " ))"
   ]
  },
  {
   "cell_type": "markdown",
   "metadata": {},
   "source": [
    "На стоимость квартиры в центре Санкт-Петербурга плактически не влияет этаж квартиры, удаленность от центра (что логично, все выделенные квартиры находятся близко к центру) и дата размещения объявления\n",
    "Сильное и среднее влияние на показатель цены квартиры в центре СПб оказывают 5 показателей:\n",
    "- жилая площадь,\n",
    "- количество комнат,\n",
    "- цена 1 кв.м.,\n",
    "- высота потолков"
   ]
  },
  {
   "cell_type": "markdown",
   "metadata": {},
   "source": [
    "Для лучшей визуализации построим графики по Санкт-Петребургу (синяя линия) и в целом по всей выборке (оранжевая линия) на одном поле. Рассмотри показатели число комнат, этаж, удалённость от центра, дата размещения объявления"
   ]
  },
  {
   "cell_type": "code",
   "execution_count": 113,
   "metadata": {},
   "outputs": [
    {
     "data": {
      "image/png": "[encoded data removed]",
      "text/plain": [
       "<Figure size 432x288 with 1 Axes>"
      ]
     },
     "metadata": {
      "needs_background": "light"
     },
     "output_type": "display_data"
    }
   ],
   "source": [
    "(data_good_SPB\n",
    "     .sort_values(by='last_price',ascending=True)\n",
    "     .groupby('rooms')['last_price'].median()\n",
    "     .plot(x='rooms', y='last_price', style='-', grid=True, \n",
    "           title='Зависимость стоимости от числа комнат')\n",
    ")\n",
    "\n",
    "(data_good\n",
    "     .groupby('rooms')['last_price'].median()\n",
    "     .plot(x='rooms', y='last_price', style='-', grid=True)\n",
    ")\n",
    "plt.show()"
   ]
  },
  {
   "cell_type": "markdown",
   "metadata": {},
   "source": [
    "* Стоимость квартир с одинаковым числом комнат в центре СПб, либо за пределами центра СПб, подчиняется практически одному закону.\n",
    "* Только в центре СПб падение цены начинается с 5 комнат, а в целом по выборке с 4-х комнат, а затем опять начинает расти\n",
    "* Разница в стоимости квартир в центре СПб и за его пределами около 2 млн. руб."
   ]
  },
  {
   "cell_type": "code",
   "execution_count": 114,
   "metadata": {},
   "outputs": [
    {
     "data": {
      "image/png": "[encoded data removed]",
      "text/plain": [
       "<Figure size 432x288 with 1 Axes>"
      ]
     },
     "metadata": {
      "needs_background": "light"
     },
     "output_type": "display_data"
    }
   ],
   "source": [
    "(data_good_SPB\n",
    "     .sort_values(by='last_price',ascending=True)\n",
    "     .groupby('floor_group_id')['last_price'].median()\n",
    "     .plot(x='floor_group_id', y='last_price', style='-', grid=True, \n",
    "           title='Зависимость стоимости от этажа')\n",
    ")\n",
    "\n",
    "(data_good\n",
    "     .groupby('floor_group_id')['last_price'].median()\n",
    "     .plot(x='floor_group_id', y='last_price', style='-', grid=True)\n",
    ")\n",
    "plt.show()"
   ]
  },
  {
   "cell_type": "markdown",
   "metadata": {},
   "source": [
    "* Дешевле всего квартиры на первом этаже, дороже всего, на любом этаже кроме первого и последнего.\n",
    "* Разница в стоимости квартир в центре СПб и за его пределами опять же около 2 млн. руб. Квартиры в центре СПБ стоят дороже"
   ]
  },
  {
   "cell_type": "code",
   "execution_count": 115,
   "metadata": {},
   "outputs": [
    {
     "data": {
      "image/png": "[encoded data removed]",
      "text/plain": [
       "<Figure size 432x288 with 1 Axes>"
      ]
     },
     "metadata": {
      "needs_background": "light"
     },
     "output_type": "display_data"
    }
   ],
   "source": [
    "(data_good_SPB\n",
    "     .sort_values(by='last_price',ascending=True)\n",
    "     .groupby('city_centers_nearest')['last_price'].median()\n",
    "     .plot(x='city_centers_nearest', y='last_price', style='o', grid=True, alpha=0.3, \n",
    "           title='Зависимость стоимости от удаленности от центра')\n",
    ")\n",
    "\n",
    "(data_good\n",
    "     .groupby('city_centers_nearest')['last_price'].median()\n",
    "     .plot(x='city_centers_nearest', y='last_price', style='o', grid=True, alpha=0.2)\n",
    ")\n",
    "plt.show()"
   ]
  },
  {
   "cell_type": "markdown",
   "metadata": {},
   "source": [
    "* Как и следовало предположить, на гистограмме видно, что в случае расположения квартиры в центре Петербурга, она не может быть далее чем 8 км от центра города\n",
    "* При этом в центре СПб стоимость квартиры может варьироваться от 2000 до 12000 тыс. руб."
   ]
  },
  {
   "cell_type": "code",
   "execution_count": 116,
   "metadata": {},
   "outputs": [
    {
     "data": {
      "image/png": "[encoded data removed]",
      "text/plain": [
       "<Figure size 432x288 with 1 Axes>"
      ]
     },
     "metadata": {
      "needs_background": "light"
     },
     "output_type": "display_data"
    }
   ],
   "source": [
    "(data_good_SPB\n",
    "     .sort_values(by='last_price',ascending=True)\n",
    "     .groupby('days_exposition')['last_price'].median()\n",
    "     .plot(x='days_exposition', y='last_price', style='o', grid=True, \n",
    "           title='Зависимость стоимости от даты размещения объявления')\n",
    ")\n",
    "\n",
    "(data_good\n",
    "     .groupby('days_exposition')['last_price'].median()\n",
    "     .plot(x='days_exposition', y='last_price', style='o', grid=True)\n",
    ")\n",
    "plt.show()"
   ]
  },
  {
   "cell_type": "markdown",
   "metadata": {},
   "source": [
    "Строгой зависимости стоимости квартиры от даты размещения объявления не выявлено"
   ]
  },
  {
   "cell_type": "markdown",
   "metadata": {},
   "source": [
    "Для квартир в центре Санкт-Петербурга в целом наблюдается такая же картина как и для всей выборки квартир\n",
    "Помимо средней разности в цене около 2 млн. руб. (квартиры в центре стоят дороже), значимых изменений не выявлено"
   ]
  },
  {
   "cell_type": "markdown",
   "metadata": {},
   "source": [
    "## Общий вывод"
   ]
  },
  {
   "cell_type": "markdown",
   "metadata": {},
   "source": [
    "Посчитаем процент удаленных данных"
   ]
  },
  {
   "cell_type": "code",
   "execution_count": 142,
   "metadata": {},
   "outputs": [
    {
     "data": {
      "text/plain": [
       "26.5"
      ]
     },
     "execution_count": 142,
     "metadata": {},
     "output_type": "execute_result"
    }
   ],
   "source": [
    "(100 - data_good['rooms'].count()/data['rooms'].count() * 100).round(1)"
   ]
  },
  {
   "cell_type": "markdown",
   "metadata": {},
   "source": [
    "* В проекте была исследовавана рыночная стоимость объектов недвижимости в городе Санкт-Петербурге и соседних населённых пунктах за несколько лет.\n",
    "* После проведенного анализа представленных данных, были сформированы требования, которым должны соответствовать реальные объявления. Было удалено 26,5% данных. Некоторые пропуски данных были заменены на типовые значения, некоторые невозможно восстановить. Поэтому возникло два варианта, мы удалили данные о квартирах, с существенными пропусками ,которые влияют на наше исследование. И оставили информацию о  тех квартирах, пропуски в информации которых не задевают сферу нашего исследования.   \n",
    "* Была выявлена зависимость стоимости квартиры от обшей площади квартиры, числа комнат и удаленности от центра.\n",
    "* При этом если квартира в центре Санкт-Петербурга, то аналогичные зависимости соблюдаются только для общей площади и количества комнат. Удаленность от центра перестает играть роль, так как все квартиры и так находятся в центре.\n",
    "* Увеличение стоимости квартир в центре Санкт-Петербурга и за его пределами в среднем составляет 2 млн. руб. в пользу центра\n",
    "* Остались вопросы к product менеджеру, в частности, получение более подробной информации по элитному жилью (дорогому и поэтому выбивающемуся из общей картины по характеристикам)"
   ]
  }
 ],
 "metadata": {
  "ExecuteTimeLog": [
   {
    "duration": 824,
    "start_time": "2022-01-23T13:18:22.888Z"
   },
   {
    "duration": 86,
    "start_time": "2022-01-23T13:19:20.623Z"
   },
   {
    "duration": 139,
    "start_time": "2022-01-23T13:28:53.847Z"
   },
   {
    "duration": 134,
    "start_time": "2022-01-23T13:29:09.961Z"
   },
   {
    "duration": 12,
    "start_time": "2022-01-23T13:51:27.081Z"
   },
   {
    "duration": 70,
    "start_time": "2022-01-23T13:57:28.098Z"
   },
   {
    "duration": 124,
    "start_time": "2022-01-23T13:58:05.104Z"
   },
   {
    "duration": 54,
    "start_time": "2022-01-23T14:00:48.266Z"
   },
   {
    "duration": 137,
    "start_time": "2022-01-23T14:06:54.963Z"
   },
   {
    "duration": 13,
    "start_time": "2022-01-23T14:19:45.781Z"
   },
   {
    "duration": 135,
    "start_time": "2022-01-23T14:20:16.943Z"
   },
   {
    "duration": 133,
    "start_time": "2022-01-23T14:47:11.452Z"
   },
   {
    "duration": 130,
    "start_time": "2022-01-23T14:49:31.260Z"
   },
   {
    "duration": 41,
    "start_time": "2022-01-23T14:50:07.511Z"
   },
   {
    "duration": 20,
    "start_time": "2022-01-23T15:24:52.040Z"
   },
   {
    "duration": 36,
    "start_time": "2022-01-23T15:25:03.179Z"
   },
   {
    "duration": 37,
    "start_time": "2022-01-23T15:25:34.052Z"
   },
   {
    "duration": 19,
    "start_time": "2022-01-23T15:26:40.199Z"
   },
   {
    "duration": 21,
    "start_time": "2022-01-23T16:22:43.758Z"
   },
   {
    "duration": 11,
    "start_time": "2022-01-23T16:55:01.333Z"
   },
   {
    "duration": 353,
    "start_time": "2022-01-23T16:56:41.365Z"
   },
   {
    "duration": 263,
    "start_time": "2022-01-23T16:56:47.998Z"
   },
   {
    "duration": 290,
    "start_time": "2022-01-23T16:56:56.071Z"
   },
   {
    "duration": 262,
    "start_time": "2022-01-23T16:57:09.280Z"
   },
   {
    "duration": 10,
    "start_time": "2022-01-23T16:57:15.938Z"
   },
   {
    "duration": 12,
    "start_time": "2022-01-23T16:57:41.470Z"
   },
   {
    "duration": 10,
    "start_time": "2022-01-23T16:58:16.197Z"
   },
   {
    "duration": 299,
    "start_time": "2022-01-23T16:58:39.448Z"
   },
   {
    "duration": 14,
    "start_time": "2022-01-23T16:59:41.424Z"
   },
   {
    "duration": 294,
    "start_time": "2022-01-23T16:59:49.287Z"
   },
   {
    "duration": 16,
    "start_time": "2022-01-23T17:00:39.654Z"
   },
   {
    "duration": 9,
    "start_time": "2022-01-23T17:00:42.981Z"
   },
   {
    "duration": 16,
    "start_time": "2022-01-23T17:01:09.835Z"
   },
   {
    "duration": 12,
    "start_time": "2022-01-23T17:01:35.268Z"
   },
   {
    "duration": 17,
    "start_time": "2022-01-23T17:02:33.104Z"
   },
   {
    "duration": 87,
    "start_time": "2022-01-23T17:04:15.627Z"
   },
   {
    "duration": 106,
    "start_time": "2022-01-23T17:05:22.615Z"
   },
   {
    "duration": 191,
    "start_time": "2022-01-23T17:05:30.301Z"
   },
   {
    "duration": 295,
    "start_time": "2022-01-23T17:05:37.743Z"
   },
   {
    "duration": 404,
    "start_time": "2022-01-23T17:06:26.716Z"
   },
   {
    "duration": 774,
    "start_time": "2022-01-23T17:06:44.897Z"
   },
   {
    "duration": 327,
    "start_time": "2022-01-23T17:07:00.368Z"
   },
   {
    "duration": 300,
    "start_time": "2022-01-23T17:07:32.012Z"
   },
   {
    "duration": 271,
    "start_time": "2022-01-23T17:07:40.110Z"
   },
   {
    "duration": 8511,
    "start_time": "2022-01-23T17:10:26.209Z"
   },
   {
    "duration": 8338,
    "start_time": "2022-01-23T17:10:49.636Z"
   },
   {
    "duration": 6414,
    "start_time": "2022-01-23T17:12:49.520Z"
   },
   {
    "duration": 7,
    "start_time": "2022-01-23T17:13:24.588Z"
   },
   {
    "duration": 6,
    "start_time": "2022-01-23T17:13:43.077Z"
   },
   {
    "duration": 42,
    "start_time": "2022-01-23T17:13:55.810Z"
   },
   {
    "duration": 9,
    "start_time": "2022-01-23T17:15:23.943Z"
   },
   {
    "duration": 257,
    "start_time": "2022-01-23T17:19:51.083Z"
   },
   {
    "duration": 292,
    "start_time": "2022-01-23T17:20:00.420Z"
   },
   {
    "duration": 273,
    "start_time": "2022-01-23T17:20:16.036Z"
   },
   {
    "duration": 148,
    "start_time": "2022-01-23T17:21:57.260Z"
   },
   {
    "duration": 9,
    "start_time": "2022-01-23T17:22:04.189Z"
   },
   {
    "duration": 48,
    "start_time": "2022-01-23T17:22:23.569Z"
   },
   {
    "duration": 14,
    "start_time": "2022-01-23T17:22:57.337Z"
   },
   {
    "duration": 449,
    "start_time": "2022-01-23T17:23:17.373Z"
   },
   {
    "duration": 17,
    "start_time": "2022-01-23T17:23:23.833Z"
   },
   {
    "duration": 21,
    "start_time": "2022-01-23T17:25:20.020Z"
   },
   {
    "duration": 6,
    "start_time": "2022-01-23T17:33:34.781Z"
   },
   {
    "duration": 26,
    "start_time": "2022-01-23T17:33:48.221Z"
   },
   {
    "duration": 21,
    "start_time": "2022-01-23T17:41:13.831Z"
   },
   {
    "duration": 8117,
    "start_time": "2022-01-23T17:42:10.454Z"
   },
   {
    "duration": 10,
    "start_time": "2022-01-23T17:42:34.699Z"
   },
   {
    "duration": 272,
    "start_time": "2022-01-23T17:43:59.662Z"
   },
   {
    "duration": 251,
    "start_time": "2022-01-23T17:44:09.738Z"
   },
   {
    "duration": 284,
    "start_time": "2022-01-23T17:45:00.567Z"
   },
   {
    "duration": 9,
    "start_time": "2022-01-23T17:45:22.079Z"
   },
   {
    "duration": 250,
    "start_time": "2022-01-23T17:46:54.720Z"
   },
   {
    "duration": 339,
    "start_time": "2022-01-23T17:47:06.669Z"
   },
   {
    "duration": 285,
    "start_time": "2022-01-23T17:47:40.042Z"
   },
   {
    "duration": 33,
    "start_time": "2022-01-23T17:49:22.203Z"
   },
   {
    "duration": 29,
    "start_time": "2022-01-23T17:51:36.925Z"
   },
   {
    "duration": 9,
    "start_time": "2022-01-23T17:54:25.032Z"
   },
   {
    "duration": 12,
    "start_time": "2022-01-23T17:56:12.146Z"
   },
   {
    "duration": 21,
    "start_time": "2022-01-23T17:56:50.688Z"
   },
   {
    "duration": 220,
    "start_time": "2022-01-23T17:57:44.884Z"
   },
   {
    "duration": 6,
    "start_time": "2022-01-23T17:58:44.666Z"
   },
   {
    "duration": 7,
    "start_time": "2022-01-23T17:59:07.560Z"
   },
   {
    "duration": 18,
    "start_time": "2022-01-23T18:00:14.463Z"
   },
   {
    "duration": 1029,
    "start_time": "2022-01-23T18:00:36.549Z"
   },
   {
    "duration": 43,
    "start_time": "2022-01-23T18:00:37.581Z"
   },
   {
    "duration": 18,
    "start_time": "2022-01-23T18:00:37.627Z"
   },
   {
    "duration": 34,
    "start_time": "2022-01-23T18:00:37.670Z"
   },
   {
    "duration": 20,
    "start_time": "2022-01-23T18:00:37.707Z"
   },
   {
    "duration": 9,
    "start_time": "2022-01-23T18:00:37.730Z"
   },
   {
    "duration": 47,
    "start_time": "2022-01-23T18:00:37.741Z"
   },
   {
    "duration": 21,
    "start_time": "2022-01-23T18:00:37.791Z"
   },
   {
    "duration": 9,
    "start_time": "2022-01-23T18:00:37.815Z"
   },
   {
    "duration": 46,
    "start_time": "2022-01-23T18:00:37.827Z"
   },
   {
    "duration": 17,
    "start_time": "2022-01-23T18:00:37.876Z"
   },
   {
    "duration": 7,
    "start_time": "2022-01-23T18:04:57.905Z"
   },
   {
    "duration": 17,
    "start_time": "2022-01-23T18:05:24.874Z"
   },
   {
    "duration": 12,
    "start_time": "2022-01-23T18:09:23.466Z"
   },
   {
    "duration": 13,
    "start_time": "2022-01-23T18:09:42.619Z"
   },
   {
    "duration": 385,
    "start_time": "2022-01-23T18:10:52.180Z"
   },
   {
    "duration": 19,
    "start_time": "2022-01-23T18:11:17.792Z"
   },
   {
    "duration": 35,
    "start_time": "2022-01-23T18:18:24.670Z"
   },
   {
    "duration": 91,
    "start_time": "2022-01-23T18:18:39.618Z"
   },
   {
    "duration": 13,
    "start_time": "2022-01-23T18:19:13.617Z"
   },
   {
    "duration": 12,
    "start_time": "2022-01-23T18:19:26.393Z"
   },
   {
    "duration": 12,
    "start_time": "2022-01-23T18:19:44.803Z"
   },
   {
    "duration": 119,
    "start_time": "2022-01-25T18:25:48.818Z"
   },
   {
    "duration": 5,
    "start_time": "2022-01-25T18:26:44.403Z"
   },
   {
    "duration": 1427,
    "start_time": "2022-01-25T18:26:47.577Z"
   },
   {
    "duration": 5,
    "start_time": "2022-01-25T18:27:15.329Z"
   },
   {
    "duration": 1312,
    "start_time": "2022-01-25T18:27:20.643Z"
   },
   {
    "duration": 5,
    "start_time": "2022-01-25T18:31:54.556Z"
   },
   {
    "duration": 1936,
    "start_time": "2022-01-25T18:32:00.218Z"
   },
   {
    "duration": 6,
    "start_time": "2022-01-25T18:32:22.079Z"
   },
   {
    "duration": 337,
    "start_time": "2022-01-25T18:33:13.757Z"
   },
   {
    "duration": 1122,
    "start_time": "2022-01-25T18:33:29.366Z"
   },
   {
    "duration": 41,
    "start_time": "2022-01-25T18:33:30.490Z"
   },
   {
    "duration": 34,
    "start_time": "2022-01-25T18:33:30.535Z"
   },
   {
    "duration": 35,
    "start_time": "2022-01-25T18:33:30.572Z"
   },
   {
    "duration": 21,
    "start_time": "2022-01-25T18:33:30.609Z"
   },
   {
    "duration": 39,
    "start_time": "2022-01-25T18:33:30.633Z"
   },
   {
    "duration": 23,
    "start_time": "2022-01-25T18:33:30.675Z"
   },
   {
    "duration": 21,
    "start_time": "2022-01-25T18:33:30.701Z"
   },
   {
    "duration": 49,
    "start_time": "2022-01-25T18:33:30.725Z"
   },
   {
    "duration": 7,
    "start_time": "2022-01-25T18:33:30.776Z"
   },
   {
    "duration": 27,
    "start_time": "2022-01-25T18:33:30.786Z"
   },
   {
    "duration": 7,
    "start_time": "2022-01-25T18:33:30.816Z"
   },
   {
    "duration": 53,
    "start_time": "2022-01-25T18:33:30.825Z"
   },
   {
    "duration": 17,
    "start_time": "2022-01-25T18:33:30.881Z"
   },
   {
    "duration": 12,
    "start_time": "2022-01-25T18:33:30.901Z"
   },
   {
    "duration": 68,
    "start_time": "2022-01-25T18:33:30.916Z"
   },
   {
    "duration": 6,
    "start_time": "2022-01-25T18:33:30.986Z"
   },
   {
    "duration": 346,
    "start_time": "2022-01-25T18:33:58.046Z"
   },
   {
    "duration": 280,
    "start_time": "2022-01-25T18:34:11.028Z"
   },
   {
    "duration": 1389,
    "start_time": "2022-01-25T18:34:19.782Z"
   },
   {
    "duration": 42,
    "start_time": "2022-01-25T18:34:21.173Z"
   },
   {
    "duration": 19,
    "start_time": "2022-01-25T18:34:21.217Z"
   },
   {
    "duration": 59,
    "start_time": "2022-01-25T18:34:21.239Z"
   },
   {
    "duration": 19,
    "start_time": "2022-01-25T18:34:21.300Z"
   },
   {
    "duration": 9,
    "start_time": "2022-01-25T18:34:21.321Z"
   },
   {
    "duration": 57,
    "start_time": "2022-01-25T18:34:21.333Z"
   },
   {
    "duration": 19,
    "start_time": "2022-01-25T18:34:21.394Z"
   },
   {
    "duration": 54,
    "start_time": "2022-01-25T18:34:21.416Z"
   },
   {
    "duration": 8,
    "start_time": "2022-01-25T18:34:21.473Z"
   },
   {
    "duration": 20,
    "start_time": "2022-01-25T18:34:21.483Z"
   },
   {
    "duration": 9,
    "start_time": "2022-01-25T18:34:21.506Z"
   },
   {
    "duration": 63,
    "start_time": "2022-01-25T18:34:21.518Z"
   },
   {
    "duration": 19,
    "start_time": "2022-01-25T18:34:21.584Z"
   },
   {
    "duration": 12,
    "start_time": "2022-01-25T18:34:21.606Z"
   },
   {
    "duration": 73,
    "start_time": "2022-01-25T18:34:21.620Z"
   },
   {
    "duration": 6,
    "start_time": "2022-01-25T18:34:21.695Z"
   },
   {
    "duration": 1082,
    "start_time": "2022-01-25T18:35:41.247Z"
   },
   {
    "duration": 63,
    "start_time": "2022-01-25T18:35:42.331Z"
   },
   {
    "duration": 16,
    "start_time": "2022-01-25T18:35:42.398Z"
   },
   {
    "duration": 67,
    "start_time": "2022-01-25T18:35:42.417Z"
   },
   {
    "duration": 29,
    "start_time": "2022-01-25T18:35:42.486Z"
   },
   {
    "duration": 17,
    "start_time": "2022-01-25T18:35:42.518Z"
   },
   {
    "duration": 51,
    "start_time": "2022-01-25T18:35:42.538Z"
   },
   {
    "duration": 27,
    "start_time": "2022-01-25T18:35:42.594Z"
   },
   {
    "duration": 46,
    "start_time": "2022-01-25T18:35:42.624Z"
   },
   {
    "duration": 28,
    "start_time": "2022-01-25T18:35:42.672Z"
   },
   {
    "duration": 28,
    "start_time": "2022-01-25T18:35:42.703Z"
   },
   {
    "duration": 6,
    "start_time": "2022-01-25T18:35:42.734Z"
   },
   {
    "duration": 42,
    "start_time": "2022-01-25T18:35:42.742Z"
   },
   {
    "duration": 26,
    "start_time": "2022-01-25T18:35:42.788Z"
   },
   {
    "duration": 12,
    "start_time": "2022-01-25T18:35:42.817Z"
   },
   {
    "duration": 66,
    "start_time": "2022-01-25T18:35:42.832Z"
   },
   {
    "duration": 6,
    "start_time": "2022-01-25T18:35:42.901Z"
   },
   {
    "duration": 6,
    "start_time": "2022-01-25T18:36:28.499Z"
   },
   {
    "duration": 331,
    "start_time": "2022-01-25T18:36:30.363Z"
   },
   {
    "duration": 289,
    "start_time": "2022-01-25T18:36:39.483Z"
   },
   {
    "duration": 997,
    "start_time": "2022-01-25T18:37:08.625Z"
   },
   {
    "duration": 49,
    "start_time": "2022-01-25T18:37:09.625Z"
   },
   {
    "duration": 12,
    "start_time": "2022-01-25T18:37:09.677Z"
   },
   {
    "duration": 39,
    "start_time": "2022-01-25T18:37:09.691Z"
   },
   {
    "duration": 46,
    "start_time": "2022-01-25T18:37:09.732Z"
   },
   {
    "duration": 11,
    "start_time": "2022-01-25T18:37:09.780Z"
   },
   {
    "duration": 27,
    "start_time": "2022-01-25T18:37:09.793Z"
   },
   {
    "duration": 56,
    "start_time": "2022-01-25T18:37:09.824Z"
   },
   {
    "duration": 10,
    "start_time": "2022-01-25T18:37:09.883Z"
   },
   {
    "duration": 7,
    "start_time": "2022-01-25T18:37:09.896Z"
   },
   {
    "duration": 17,
    "start_time": "2022-01-25T18:37:09.905Z"
   },
   {
    "duration": 50,
    "start_time": "2022-01-25T18:37:09.924Z"
   },
   {
    "duration": 17,
    "start_time": "2022-01-25T18:37:09.976Z"
   },
   {
    "duration": 17,
    "start_time": "2022-01-25T18:37:09.995Z"
   },
   {
    "duration": 11,
    "start_time": "2022-01-25T18:37:10.014Z"
   },
   {
    "duration": 76,
    "start_time": "2022-01-25T18:37:10.028Z"
   },
   {
    "duration": 5,
    "start_time": "2022-01-25T18:37:10.106Z"
   },
   {
    "duration": 279,
    "start_time": "2022-01-25T18:40:12.889Z"
   },
   {
    "duration": 1251,
    "start_time": "2022-01-25T18:40:21.064Z"
   },
   {
    "duration": 1234,
    "start_time": "2022-01-25T18:40:34.211Z"
   },
   {
    "duration": 73,
    "start_time": "2022-01-25T18:40:35.448Z"
   },
   {
    "duration": 19,
    "start_time": "2022-01-25T18:40:35.525Z"
   },
   {
    "duration": 78,
    "start_time": "2022-01-25T18:40:35.548Z"
   },
   {
    "duration": 59,
    "start_time": "2022-01-25T18:40:35.630Z"
   },
   {
    "duration": 11,
    "start_time": "2022-01-25T18:40:35.692Z"
   },
   {
    "duration": 24,
    "start_time": "2022-01-25T18:40:35.706Z"
   },
   {
    "duration": 61,
    "start_time": "2022-01-25T18:40:35.733Z"
   },
   {
    "duration": 12,
    "start_time": "2022-01-25T18:40:35.798Z"
   },
   {
    "duration": 7,
    "start_time": "2022-01-25T18:40:35.813Z"
   },
   {
    "duration": 58,
    "start_time": "2022-01-25T18:40:35.823Z"
   },
   {
    "duration": 7,
    "start_time": "2022-01-25T18:40:35.885Z"
   },
   {
    "duration": 16,
    "start_time": "2022-01-25T18:40:35.894Z"
   },
   {
    "duration": 18,
    "start_time": "2022-01-25T18:40:35.912Z"
   },
   {
    "duration": 21,
    "start_time": "2022-01-25T18:40:35.978Z"
   },
   {
    "duration": 38,
    "start_time": "2022-01-25T18:40:36.002Z"
   },
   {
    "duration": 33,
    "start_time": "2022-01-25T18:40:36.043Z"
   },
   {
    "duration": 316,
    "start_time": "2022-01-25T18:42:04.180Z"
   },
   {
    "duration": 269,
    "start_time": "2022-01-25T18:43:57.462Z"
   },
   {
    "duration": 1111,
    "start_time": "2022-01-25T18:44:10.239Z"
   },
   {
    "duration": 45,
    "start_time": "2022-01-25T18:44:11.354Z"
   },
   {
    "duration": 13,
    "start_time": "2022-01-25T18:44:11.402Z"
   },
   {
    "duration": 59,
    "start_time": "2022-01-25T18:44:11.418Z"
   },
   {
    "duration": 20,
    "start_time": "2022-01-25T18:44:11.480Z"
   },
   {
    "duration": 10,
    "start_time": "2022-01-25T18:44:11.503Z"
   },
   {
    "duration": 53,
    "start_time": "2022-01-25T18:44:11.516Z"
   },
   {
    "duration": 20,
    "start_time": "2022-01-25T18:44:11.573Z"
   },
   {
    "duration": 9,
    "start_time": "2022-01-25T18:44:11.595Z"
   },
   {
    "duration": 6,
    "start_time": "2022-01-25T18:44:11.606Z"
   },
   {
    "duration": 55,
    "start_time": "2022-01-25T18:44:11.614Z"
   },
   {
    "duration": 6,
    "start_time": "2022-01-25T18:44:11.672Z"
   },
   {
    "duration": 18,
    "start_time": "2022-01-25T18:44:11.681Z"
   },
   {
    "duration": 17,
    "start_time": "2022-01-25T18:44:11.702Z"
   },
   {
    "duration": 49,
    "start_time": "2022-01-25T18:44:11.722Z"
   },
   {
    "duration": 43,
    "start_time": "2022-01-25T18:44:11.774Z"
   },
   {
    "duration": 6,
    "start_time": "2022-01-25T18:44:11.820Z"
   },
   {
    "duration": 346,
    "start_time": "2022-01-25T18:46:55.878Z"
   },
   {
    "duration": 6,
    "start_time": "2022-01-25T18:46:58.136Z"
   },
   {
    "duration": 1018,
    "start_time": "2022-01-25T18:47:03.070Z"
   },
   {
    "duration": 83,
    "start_time": "2022-01-25T18:47:04.092Z"
   },
   {
    "duration": 22,
    "start_time": "2022-01-25T18:47:04.179Z"
   },
   {
    "duration": 85,
    "start_time": "2022-01-25T18:47:04.209Z"
   },
   {
    "duration": 20,
    "start_time": "2022-01-25T18:47:04.297Z"
   },
   {
    "duration": 11,
    "start_time": "2022-01-25T18:47:04.319Z"
   },
   {
    "duration": 59,
    "start_time": "2022-01-25T18:47:04.332Z"
   },
   {
    "duration": 20,
    "start_time": "2022-01-25T18:47:04.394Z"
   },
   {
    "duration": 9,
    "start_time": "2022-01-25T18:47:04.417Z"
   },
   {
    "duration": 46,
    "start_time": "2022-01-25T18:47:04.428Z"
   },
   {
    "duration": 19,
    "start_time": "2022-01-25T18:47:04.477Z"
   },
   {
    "duration": 7,
    "start_time": "2022-01-25T18:47:04.499Z"
   },
   {
    "duration": 62,
    "start_time": "2022-01-25T18:47:04.509Z"
   },
   {
    "duration": 18,
    "start_time": "2022-01-25T18:47:04.573Z"
   },
   {
    "duration": 11,
    "start_time": "2022-01-25T18:47:04.594Z"
   },
   {
    "duration": 68,
    "start_time": "2022-01-25T18:47:04.608Z"
   },
   {
    "duration": 5,
    "start_time": "2022-01-25T18:47:04.679Z"
   },
   {
    "duration": 13,
    "start_time": "2022-01-25T18:47:04.687Z"
   },
   {
    "duration": 33,
    "start_time": "2022-01-25T18:47:15.370Z"
   },
   {
    "duration": 5,
    "start_time": "2022-01-25T18:47:17.766Z"
   },
   {
    "duration": 310,
    "start_time": "2022-01-25T18:47:57.726Z"
   },
   {
    "duration": 1588,
    "start_time": "2022-01-25T18:48:02.698Z"
   },
   {
    "duration": 84,
    "start_time": "2022-01-25T18:48:04.289Z"
   },
   {
    "duration": 18,
    "start_time": "2022-01-25T18:48:04.377Z"
   },
   {
    "duration": 83,
    "start_time": "2022-01-25T18:48:04.399Z"
   },
   {
    "duration": 29,
    "start_time": "2022-01-25T18:48:04.485Z"
   },
   {
    "duration": 15,
    "start_time": "2022-01-25T18:48:04.517Z"
   },
   {
    "duration": 62,
    "start_time": "2022-01-25T18:48:04.535Z"
   },
   {
    "duration": 24,
    "start_time": "2022-01-25T18:48:04.600Z"
   },
   {
    "duration": 10,
    "start_time": "2022-01-25T18:48:04.628Z"
   },
   {
    "duration": 9,
    "start_time": "2022-01-25T18:48:04.669Z"
   },
   {
    "duration": 17,
    "start_time": "2022-01-25T18:48:04.681Z"
   },
   {
    "duration": 6,
    "start_time": "2022-01-25T18:48:04.701Z"
   },
   {
    "duration": 62,
    "start_time": "2022-01-25T18:48:04.709Z"
   },
   {
    "duration": 18,
    "start_time": "2022-01-25T18:48:04.773Z"
   },
   {
    "duration": 12,
    "start_time": "2022-01-25T18:48:04.794Z"
   },
   {
    "duration": 73,
    "start_time": "2022-01-25T18:48:04.808Z"
   },
   {
    "duration": 5,
    "start_time": "2022-01-25T18:48:04.884Z"
   },
   {
    "duration": 9,
    "start_time": "2022-01-25T18:48:04.891Z"
   },
   {
    "duration": 36,
    "start_time": "2022-01-25T18:48:12.203Z"
   },
   {
    "duration": 5,
    "start_time": "2022-01-25T18:50:01.298Z"
   },
   {
    "duration": 350,
    "start_time": "2022-01-25T18:55:43.163Z"
   },
   {
    "duration": 254,
    "start_time": "2022-01-25T18:55:56.376Z"
   },
   {
    "duration": 1239,
    "start_time": "2022-01-25T18:56:04.665Z"
   },
   {
    "duration": 85,
    "start_time": "2022-01-25T18:56:05.908Z"
   },
   {
    "duration": 12,
    "start_time": "2022-01-25T18:56:05.997Z"
   },
   {
    "duration": 77,
    "start_time": "2022-01-25T18:56:06.013Z"
   },
   {
    "duration": 30,
    "start_time": "2022-01-25T18:56:06.093Z"
   },
   {
    "duration": 15,
    "start_time": "2022-01-25T18:56:06.126Z"
   },
   {
    "duration": 48,
    "start_time": "2022-01-25T18:56:06.144Z"
   },
   {
    "duration": 22,
    "start_time": "2022-01-25T18:56:06.197Z"
   },
   {
    "duration": 53,
    "start_time": "2022-01-25T18:56:06.222Z"
   },
   {
    "duration": 8,
    "start_time": "2022-01-25T18:56:06.278Z"
   },
   {
    "duration": 31,
    "start_time": "2022-01-25T18:56:06.288Z"
   },
   {
    "duration": 6,
    "start_time": "2022-01-25T18:56:06.322Z"
   },
   {
    "duration": 55,
    "start_time": "2022-01-25T18:56:06.330Z"
   },
   {
    "duration": 23,
    "start_time": "2022-01-25T18:56:06.388Z"
   },
   {
    "duration": 13,
    "start_time": "2022-01-25T18:56:06.414Z"
   },
   {
    "duration": 92,
    "start_time": "2022-01-25T18:56:06.429Z"
   },
   {
    "duration": 3,
    "start_time": "2022-01-25T18:56:06.524Z"
   },
   {
    "duration": 11,
    "start_time": "2022-01-25T18:56:06.531Z"
   },
   {
    "duration": 49,
    "start_time": "2022-01-25T18:56:06.545Z"
   },
   {
    "duration": 38,
    "start_time": "2022-01-25T18:56:27.826Z"
   },
   {
    "duration": 24,
    "start_time": "2022-01-25T18:56:38.388Z"
   },
   {
    "duration": 755,
    "start_time": "2022-01-25T18:57:08.315Z"
   },
   {
    "duration": 24,
    "start_time": "2022-01-25T18:57:39.204Z"
   },
   {
    "duration": 25,
    "start_time": "2022-01-25T18:58:08.066Z"
   },
   {
    "duration": 154,
    "start_time": "2022-01-25T18:58:20.845Z"
   },
   {
    "duration": 24,
    "start_time": "2022-01-25T18:58:28.963Z"
   },
   {
    "duration": 60,
    "start_time": "2022-01-25T18:59:37.097Z"
   },
   {
    "duration": 469,
    "start_time": "2022-01-25T19:00:17.634Z"
   },
   {
    "duration": 40,
    "start_time": "2022-01-25T19:00:36.743Z"
   },
   {
    "duration": 5,
    "start_time": "2022-01-25T19:01:16.289Z"
   },
   {
    "duration": 300,
    "start_time": "2022-01-25T19:01:22.799Z"
   },
   {
    "duration": 71,
    "start_time": "2022-01-25T19:01:52.054Z"
   },
   {
    "duration": 21,
    "start_time": "2022-01-25T19:02:06.985Z"
   },
   {
    "duration": 19,
    "start_time": "2022-01-25T19:02:43.870Z"
   },
   {
    "duration": 11,
    "start_time": "2022-01-25T19:03:20.835Z"
   },
   {
    "duration": 4,
    "start_time": "2022-01-25T19:04:26.442Z"
   },
   {
    "duration": 4,
    "start_time": "2022-01-25T19:04:53.756Z"
   },
   {
    "duration": 1389,
    "start_time": "2022-01-25T19:05:59.427Z"
   },
   {
    "duration": 6,
    "start_time": "2022-01-25T19:06:13.762Z"
   },
   {
    "duration": 20,
    "start_time": "2022-01-25T19:06:20.066Z"
   },
   {
    "duration": 20,
    "start_time": "2022-01-25T19:06:27.911Z"
   },
   {
    "duration": 5,
    "start_time": "2022-01-25T19:07:36.345Z"
   },
   {
    "duration": 21,
    "start_time": "2022-01-25T19:07:52.427Z"
   },
   {
    "duration": 1543,
    "start_time": "2022-01-25T19:08:05.484Z"
   },
   {
    "duration": 21,
    "start_time": "2022-01-25T19:09:48.147Z"
   },
   {
    "duration": 260,
    "start_time": "2022-01-25T19:10:25.750Z"
   },
   {
    "duration": 20,
    "start_time": "2022-01-25T19:13:57.519Z"
   },
   {
    "duration": 26,
    "start_time": "2022-01-25T19:14:12.159Z"
   },
   {
    "duration": 20,
    "start_time": "2022-01-25T19:15:04.316Z"
   },
   {
    "duration": 20,
    "start_time": "2022-01-25T19:15:27.177Z"
   },
   {
    "duration": 27,
    "start_time": "2022-01-25T19:16:53.694Z"
   },
   {
    "duration": 32,
    "start_time": "2022-01-25T19:20:31.751Z"
   },
   {
    "duration": 26,
    "start_time": "2022-01-25T19:20:36.644Z"
   },
   {
    "duration": 4,
    "start_time": "2022-01-25T19:22:53.524Z"
   },
   {
    "duration": 19,
    "start_time": "2022-01-25T19:22:59.289Z"
   },
   {
    "duration": 30,
    "start_time": "2022-01-25T19:23:13.578Z"
   },
   {
    "duration": 20,
    "start_time": "2022-01-25T19:23:58.295Z"
   },
   {
    "duration": 20,
    "start_time": "2022-01-25T19:24:05.909Z"
   },
   {
    "duration": 26,
    "start_time": "2022-01-25T19:24:12.311Z"
   },
   {
    "duration": 7,
    "start_time": "2022-01-25T19:36:12.476Z"
   },
   {
    "duration": 1653,
    "start_time": "2022-01-25T19:36:33.223Z"
   },
   {
    "duration": 10,
    "start_time": "2022-01-25T19:38:04.372Z"
   },
   {
    "duration": 1749,
    "start_time": "2022-01-25T19:38:23.736Z"
   },
   {
    "duration": 7,
    "start_time": "2022-01-25T19:39:28.206Z"
   },
   {
    "duration": 328,
    "start_time": "2022-01-25T19:41:08.538Z"
   },
   {
    "duration": 977,
    "start_time": "2022-01-25T19:41:45.412Z"
   },
   {
    "duration": 42,
    "start_time": "2022-01-25T19:41:46.392Z"
   },
   {
    "duration": 39,
    "start_time": "2022-01-25T19:41:46.437Z"
   },
   {
    "duration": 33,
    "start_time": "2022-01-25T19:41:46.479Z"
   },
   {
    "duration": 21,
    "start_time": "2022-01-25T19:41:46.514Z"
   },
   {
    "duration": 39,
    "start_time": "2022-01-25T19:41:46.537Z"
   },
   {
    "duration": 25,
    "start_time": "2022-01-25T19:41:46.579Z"
   },
   {
    "duration": 25,
    "start_time": "2022-01-25T19:41:46.609Z"
   },
   {
    "duration": 39,
    "start_time": "2022-01-25T19:41:46.636Z"
   },
   {
    "duration": 6,
    "start_time": "2022-01-25T19:41:46.677Z"
   },
   {
    "duration": 16,
    "start_time": "2022-01-25T19:41:46.686Z"
   },
   {
    "duration": 6,
    "start_time": "2022-01-25T19:41:46.704Z"
   },
   {
    "duration": 60,
    "start_time": "2022-01-25T19:41:46.712Z"
   },
   {
    "duration": 16,
    "start_time": "2022-01-25T19:41:46.774Z"
   },
   {
    "duration": 11,
    "start_time": "2022-01-25T19:41:46.793Z"
   },
   {
    "duration": 68,
    "start_time": "2022-01-25T19:41:46.806Z"
   },
   {
    "duration": 4,
    "start_time": "2022-01-25T19:41:46.877Z"
   },
   {
    "duration": 20,
    "start_time": "2022-01-25T19:41:46.883Z"
   },
   {
    "duration": 24,
    "start_time": "2022-01-25T19:41:46.906Z"
   },
   {
    "duration": 38,
    "start_time": "2022-01-25T19:41:46.932Z"
   },
   {
    "duration": 45,
    "start_time": "2022-01-25T19:41:46.973Z"
   },
   {
    "duration": 19,
    "start_time": "2022-01-25T19:43:19.870Z"
   },
   {
    "duration": 1112,
    "start_time": "2022-01-25T19:47:08.163Z"
   },
   {
    "duration": 1027,
    "start_time": "2022-01-25T19:49:13.082Z"
   },
   {
    "duration": 1282,
    "start_time": "2022-01-25T19:56:51.019Z"
   },
   {
    "duration": 1264,
    "start_time": "2022-01-25T19:57:05.607Z"
   },
   {
    "duration": 1218,
    "start_time": "2022-01-25T19:57:41.196Z"
   },
   {
    "duration": 4,
    "start_time": "2022-01-25T20:00:19.601Z"
   },
   {
    "duration": 48,
    "start_time": "2022-01-25T20:02:51.919Z"
   },
   {
    "duration": 68,
    "start_time": "2022-01-25T20:04:32.859Z"
   },
   {
    "duration": 308,
    "start_time": "2022-01-25T20:11:03.986Z"
   },
   {
    "duration": 4,
    "start_time": "2022-01-25T20:11:13.413Z"
   },
   {
    "duration": 734,
    "start_time": "2022-01-25T20:11:16.894Z"
   },
   {
    "duration": 731,
    "start_time": "2022-01-25T20:12:16.601Z"
   },
   {
    "duration": 5,
    "start_time": "2022-01-25T20:13:26.932Z"
   },
   {
    "duration": 4,
    "start_time": "2022-01-25T20:14:07.196Z"
   },
   {
    "duration": 803,
    "start_time": "2022-01-25T20:14:10.809Z"
   },
   {
    "duration": 7124,
    "start_time": "2022-01-25T20:20:24.204Z"
   },
   {
    "duration": 7158,
    "start_time": "2022-01-25T20:20:32.178Z"
   },
   {
    "duration": 5,
    "start_time": "2022-01-25T20:20:45.487Z"
   },
   {
    "duration": 7067,
    "start_time": "2022-01-25T20:20:54.407Z"
   },
   {
    "duration": 1245,
    "start_time": "2022-01-25T20:22:30.792Z"
   },
   {
    "duration": 1053,
    "start_time": "2022-01-25T20:22:53.450Z"
   },
   {
    "duration": 1819,
    "start_time": "2022-01-25T20:23:18.339Z"
   },
   {
    "duration": 95,
    "start_time": "2022-01-25T20:24:24.850Z"
   },
   {
    "duration": 3,
    "start_time": "2022-01-25T20:24:35.739Z"
   },
   {
    "duration": 6189,
    "start_time": "2022-01-25T20:27:41.800Z"
   },
   {
    "duration": 7469,
    "start_time": "2022-01-25T20:28:01.755Z"
   },
   {
    "duration": 47,
    "start_time": "2022-01-25T20:28:13.300Z"
   },
   {
    "duration": 683,
    "start_time": "2022-01-25T20:28:46.835Z"
   },
   {
    "duration": 69,
    "start_time": "2022-01-25T20:29:05.986Z"
   },
   {
    "duration": 542,
    "start_time": "2022-01-25T20:41:20.260Z"
   },
   {
    "duration": 676,
    "start_time": "2022-01-25T20:41:52.888Z"
   },
   {
    "duration": 13,
    "start_time": "2022-01-25T20:42:00.976Z"
   },
   {
    "duration": 626,
    "start_time": "2022-01-25T20:44:56.538Z"
   },
   {
    "duration": 661,
    "start_time": "2022-01-25T20:47:56.111Z"
   },
   {
    "duration": 13,
    "start_time": "2022-01-25T20:54:30.688Z"
   },
   {
    "duration": 42,
    "start_time": "2022-01-25T20:56:35.420Z"
   },
   {
    "duration": 11,
    "start_time": "2022-01-25T20:56:48.961Z"
   },
   {
    "duration": 4,
    "start_time": "2022-01-25T20:57:00.476Z"
   },
   {
    "duration": 12,
    "start_time": "2022-01-25T20:57:07.865Z"
   },
   {
    "duration": 1019,
    "start_time": "2022-01-25T20:57:23.676Z"
   },
   {
    "duration": 40,
    "start_time": "2022-01-25T20:57:24.697Z"
   },
   {
    "duration": 36,
    "start_time": "2022-01-25T20:57:24.741Z"
   },
   {
    "duration": 33,
    "start_time": "2022-01-25T20:57:24.779Z"
   },
   {
    "duration": 21,
    "start_time": "2022-01-25T20:57:24.814Z"
   },
   {
    "duration": 39,
    "start_time": "2022-01-25T20:57:24.837Z"
   },
   {
    "duration": 24,
    "start_time": "2022-01-25T20:57:24.879Z"
   },
   {
    "duration": 21,
    "start_time": "2022-01-25T20:57:24.907Z"
   },
   {
    "duration": 40,
    "start_time": "2022-01-25T20:57:24.931Z"
   },
   {
    "duration": 9,
    "start_time": "2022-01-25T20:57:24.973Z"
   },
   {
    "duration": 22,
    "start_time": "2022-01-25T20:57:24.985Z"
   },
   {
    "duration": 6,
    "start_time": "2022-01-25T20:57:25.009Z"
   },
   {
    "duration": 53,
    "start_time": "2022-01-25T20:57:25.017Z"
   },
   {
    "duration": 17,
    "start_time": "2022-01-25T20:57:25.073Z"
   },
   {
    "duration": 11,
    "start_time": "2022-01-25T20:57:25.093Z"
   },
   {
    "duration": 66,
    "start_time": "2022-01-25T20:57:25.106Z"
   },
   {
    "duration": 4,
    "start_time": "2022-01-25T20:57:25.175Z"
   },
   {
    "duration": 22,
    "start_time": "2022-01-25T20:57:25.181Z"
   },
   {
    "duration": 24,
    "start_time": "2022-01-25T20:57:25.205Z"
   },
   {
    "duration": 53,
    "start_time": "2022-01-25T20:57:25.232Z"
   },
   {
    "duration": 4,
    "start_time": "2022-01-25T20:57:25.289Z"
   },
   {
    "duration": 42,
    "start_time": "2022-01-25T20:57:25.296Z"
   },
   {
    "duration": 68,
    "start_time": "2022-01-25T20:57:25.342Z"
   },
   {
    "duration": 5,
    "start_time": "2022-01-25T20:57:25.413Z"
   },
   {
    "duration": 844,
    "start_time": "2022-01-25T20:57:25.421Z"
   },
   {
    "duration": 52,
    "start_time": "2022-01-25T20:57:26.270Z"
   },
   {
    "duration": 12,
    "start_time": "2022-01-25T20:57:26.325Z"
   },
   {
    "duration": 613,
    "start_time": "2022-01-25T20:57:26.339Z"
   },
   {
    "duration": 560,
    "start_time": "2022-01-25T20:57:26.955Z"
   },
   {
    "duration": 14,
    "start_time": "2022-01-25T20:57:27.518Z"
   },
   {
    "duration": 576,
    "start_time": "2022-01-25T20:58:09.615Z"
   },
   {
    "duration": 12,
    "start_time": "2022-01-25T20:59:01.009Z"
   },
   {
    "duration": 540,
    "start_time": "2022-01-25T20:59:17.189Z"
   },
   {
    "duration": 530,
    "start_time": "2022-01-25T20:59:30.389Z"
   },
   {
    "duration": 290,
    "start_time": "2022-01-25T20:59:40.430Z"
   },
   {
    "duration": 15,
    "start_time": "2022-01-25T21:00:24.576Z"
   },
   {
    "duration": 289,
    "start_time": "2022-01-25T21:00:55.994Z"
   },
   {
    "duration": 401,
    "start_time": "2022-01-25T21:01:06.524Z"
   },
   {
    "duration": 13,
    "start_time": "2022-01-25T21:03:00.619Z"
   },
   {
    "duration": 402,
    "start_time": "2022-01-25T21:03:21.234Z"
   },
   {
    "duration": 224,
    "start_time": "2022-01-25T21:03:56.097Z"
   },
   {
    "duration": 558,
    "start_time": "2022-01-26T13:10:44.044Z"
   },
   {
    "duration": 312,
    "start_time": "2022-01-26T13:11:19.804Z"
   },
   {
    "duration": 1027,
    "start_time": "2022-01-26T13:11:25.393Z"
   },
   {
    "duration": 59,
    "start_time": "2022-01-26T13:11:26.423Z"
   },
   {
    "duration": 16,
    "start_time": "2022-01-26T13:11:26.485Z"
   },
   {
    "duration": 68,
    "start_time": "2022-01-26T13:11:26.504Z"
   },
   {
    "duration": 21,
    "start_time": "2022-01-26T13:11:26.575Z"
   },
   {
    "duration": 10,
    "start_time": "2022-01-26T13:11:26.598Z"
   },
   {
    "duration": 68,
    "start_time": "2022-01-26T13:11:26.610Z"
   },
   {
    "duration": 21,
    "start_time": "2022-01-26T13:11:26.682Z"
   },
   {
    "duration": 10,
    "start_time": "2022-01-26T13:11:26.706Z"
   },
   {
    "duration": 53,
    "start_time": "2022-01-26T13:11:26.719Z"
   },
   {
    "duration": 18,
    "start_time": "2022-01-26T13:11:26.774Z"
   },
   {
    "duration": 6,
    "start_time": "2022-01-26T13:11:26.794Z"
   },
   {
    "duration": 21,
    "start_time": "2022-01-26T13:11:26.802Z"
   },
   {
    "duration": 59,
    "start_time": "2022-01-26T13:11:26.826Z"
   },
   {
    "duration": 11,
    "start_time": "2022-01-26T13:11:26.887Z"
   },
   {
    "duration": 71,
    "start_time": "2022-01-26T13:11:26.901Z"
   },
   {
    "duration": 4,
    "start_time": "2022-01-26T13:11:26.974Z"
   },
   {
    "duration": 38,
    "start_time": "2022-01-26T13:11:26.981Z"
   },
   {
    "duration": 51,
    "start_time": "2022-01-26T13:11:27.022Z"
   },
   {
    "duration": 6,
    "start_time": "2022-01-26T13:11:27.076Z"
   },
   {
    "duration": 47,
    "start_time": "2022-01-26T13:11:27.085Z"
   },
   {
    "duration": 91,
    "start_time": "2022-01-26T13:11:27.134Z"
   },
   {
    "duration": 4,
    "start_time": "2022-01-26T13:11:27.230Z"
   },
   {
    "duration": 982,
    "start_time": "2022-01-26T13:11:27.237Z"
   },
   {
    "duration": 66,
    "start_time": "2022-01-26T13:11:28.222Z"
   },
   {
    "duration": 11,
    "start_time": "2022-01-26T13:11:28.290Z"
   },
   {
    "duration": 634,
    "start_time": "2022-01-26T13:11:28.304Z"
   },
   {
    "duration": 702,
    "start_time": "2022-01-26T13:11:28.940Z"
   },
   {
    "duration": 29,
    "start_time": "2022-01-26T13:11:29.645Z"
   },
   {
    "duration": 854,
    "start_time": "2022-01-26T13:11:29.677Z"
   },
   {
    "duration": 35,
    "start_time": "2022-01-26T13:11:30.534Z"
   },
   {
    "duration": 11,
    "start_time": "2022-01-26T13:11:30.572Z"
   },
   {
    "duration": 338,
    "start_time": "2022-01-26T13:11:30.586Z"
   },
   {
    "duration": 12,
    "start_time": "2022-01-26T13:11:30.927Z"
   },
   {
    "duration": 362,
    "start_time": "2022-01-26T13:11:30.942Z"
   },
   {
    "duration": 12,
    "start_time": "2022-01-26T13:11:31.306Z"
   },
   {
    "duration": 345,
    "start_time": "2022-01-26T13:11:31.320Z"
   },
   {
    "duration": 247,
    "start_time": "2022-01-26T13:11:31.669Z"
   },
   {
    "duration": 480,
    "start_time": "2022-01-26T13:24:42.143Z"
   },
   {
    "duration": 357,
    "start_time": "2022-01-26T13:24:58.892Z"
   },
   {
    "duration": 294,
    "start_time": "2022-01-26T13:27:26.007Z"
   },
   {
    "duration": 273,
    "start_time": "2022-01-26T13:28:37.046Z"
   },
   {
    "duration": 339,
    "start_time": "2022-01-26T13:28:42.770Z"
   },
   {
    "duration": 111,
    "start_time": "2022-01-26T13:31:07.061Z"
   },
   {
    "duration": 281,
    "start_time": "2022-01-26T13:31:13.798Z"
   },
   {
    "duration": 8,
    "start_time": "2022-01-26T13:32:18.251Z"
   },
   {
    "duration": 8,
    "start_time": "2022-01-26T13:41:21.222Z"
   },
   {
    "duration": 9,
    "start_time": "2022-01-26T13:42:08.314Z"
   },
   {
    "duration": 311,
    "start_time": "2022-01-26T13:45:39.165Z"
   },
   {
    "duration": 14,
    "start_time": "2022-01-26T13:45:44.402Z"
   },
   {
    "duration": 9,
    "start_time": "2022-01-26T13:45:51.425Z"
   },
   {
    "duration": 14,
    "start_time": "2022-01-26T13:46:28.657Z"
   },
   {
    "duration": 100,
    "start_time": "2022-01-26T13:51:39.365Z"
   },
   {
    "duration": 389,
    "start_time": "2022-01-26T13:51:59.337Z"
   },
   {
    "duration": 294,
    "start_time": "2022-01-26T13:55:18.176Z"
   },
   {
    "duration": 41,
    "start_time": "2022-01-26T14:06:47.654Z"
   },
   {
    "duration": 306,
    "start_time": "2022-01-26T14:11:52.008Z"
   },
   {
    "duration": 320,
    "start_time": "2022-01-26T14:12:06.733Z"
   },
   {
    "duration": 458,
    "start_time": "2022-01-26T14:12:14.240Z"
   },
   {
    "duration": 458,
    "start_time": "2022-01-26T14:12:41.219Z"
   },
   {
    "duration": 355,
    "start_time": "2022-01-26T17:37:51.265Z"
   },
   {
    "duration": 817,
    "start_time": "2022-01-26T17:38:01.155Z"
   },
   {
    "duration": 29,
    "start_time": "2022-01-26T17:38:01.974Z"
   },
   {
    "duration": 53,
    "start_time": "2022-01-26T17:38:02.008Z"
   },
   {
    "duration": 42,
    "start_time": "2022-01-26T17:38:02.063Z"
   },
   {
    "duration": 51,
    "start_time": "2022-01-26T17:38:02.107Z"
   },
   {
    "duration": 39,
    "start_time": "2022-01-26T17:38:02.160Z"
   },
   {
    "duration": 20,
    "start_time": "2022-01-26T17:38:02.201Z"
   },
   {
    "duration": 62,
    "start_time": "2022-01-26T17:38:02.225Z"
   },
   {
    "duration": 7,
    "start_time": "2022-01-26T17:38:02.290Z"
   },
   {
    "duration": 39,
    "start_time": "2022-01-26T17:38:02.299Z"
   },
   {
    "duration": 21,
    "start_time": "2022-01-26T17:38:02.340Z"
   },
   {
    "duration": 13,
    "start_time": "2022-01-26T17:38:02.363Z"
   },
   {
    "duration": 25,
    "start_time": "2022-01-26T17:38:02.378Z"
   },
   {
    "duration": 40,
    "start_time": "2022-01-26T17:38:02.406Z"
   },
   {
    "duration": 23,
    "start_time": "2022-01-26T17:38:02.448Z"
   },
   {
    "duration": 25,
    "start_time": "2022-01-26T17:38:02.474Z"
   },
   {
    "duration": 17,
    "start_time": "2022-01-26T17:38:02.502Z"
   },
   {
    "duration": 13,
    "start_time": "2022-01-26T17:38:02.521Z"
   },
   {
    "duration": 49,
    "start_time": "2022-01-26T17:38:02.536Z"
   },
   {
    "duration": 3,
    "start_time": "2022-01-26T17:38:02.588Z"
   },
   {
    "duration": 25,
    "start_time": "2022-01-26T17:38:02.593Z"
   },
   {
    "duration": 40,
    "start_time": "2022-01-26T17:38:02.620Z"
   },
   {
    "duration": 13,
    "start_time": "2022-01-26T17:38:02.664Z"
   },
   {
    "duration": 44,
    "start_time": "2022-01-26T17:38:02.679Z"
   },
   {
    "duration": 47,
    "start_time": "2022-01-26T17:38:02.725Z"
   },
   {
    "duration": 6,
    "start_time": "2022-01-26T17:38:02.774Z"
   },
   {
    "duration": 596,
    "start_time": "2022-01-26T17:38:02.782Z"
   },
   {
    "duration": 41,
    "start_time": "2022-01-26T17:38:03.380Z"
   },
   {
    "duration": 53,
    "start_time": "2022-01-26T17:38:03.423Z"
   },
   {
    "duration": 372,
    "start_time": "2022-01-26T17:38:03.478Z"
   },
   {
    "duration": 356,
    "start_time": "2022-01-26T17:38:03.852Z"
   },
   {
    "duration": 8,
    "start_time": "2022-01-26T17:38:04.210Z"
   },
   {
    "duration": 353,
    "start_time": "2022-01-26T17:38:04.220Z"
   },
   {
    "duration": 11,
    "start_time": "2022-01-26T17:38:04.575Z"
   },
   {
    "duration": 248,
    "start_time": "2022-01-26T17:38:04.588Z"
   },
   {
    "duration": 9,
    "start_time": "2022-01-26T17:38:04.839Z"
   },
   {
    "duration": 225,
    "start_time": "2022-01-26T17:38:04.850Z"
   },
   {
    "duration": 10,
    "start_time": "2022-01-26T17:38:05.077Z"
   },
   {
    "duration": 207,
    "start_time": "2022-01-26T17:38:05.089Z"
   },
   {
    "duration": 161,
    "start_time": "2022-01-26T17:38:05.298Z"
   },
   {
    "duration": 8,
    "start_time": "2022-01-26T17:38:45.636Z"
   },
   {
    "duration": 10,
    "start_time": "2022-01-26T17:39:11.023Z"
   },
   {
    "duration": 10,
    "start_time": "2022-01-26T17:44:39.082Z"
   },
   {
    "duration": 8,
    "start_time": "2022-01-26T17:44:47.193Z"
   },
   {
    "duration": 9,
    "start_time": "2022-01-26T17:44:51.260Z"
   },
   {
    "duration": 9,
    "start_time": "2022-01-26T17:44:54.082Z"
   },
   {
    "duration": 9,
    "start_time": "2022-01-26T17:45:02.003Z"
   },
   {
    "duration": 8,
    "start_time": "2022-01-26T17:45:12.201Z"
   },
   {
    "duration": 8,
    "start_time": "2022-01-26T17:45:19.293Z"
   },
   {
    "duration": 8,
    "start_time": "2022-01-26T17:45:21.564Z"
   },
   {
    "duration": 7,
    "start_time": "2022-01-26T17:45:23.858Z"
   },
   {
    "duration": 8,
    "start_time": "2022-01-26T17:45:26.813Z"
   },
   {
    "duration": 7,
    "start_time": "2022-01-26T17:45:29.666Z"
   },
   {
    "duration": 10,
    "start_time": "2022-01-26T17:45:33.094Z"
   },
   {
    "duration": 9,
    "start_time": "2022-01-26T17:45:41.431Z"
   },
   {
    "duration": 11,
    "start_time": "2022-01-26T17:45:52.841Z"
   },
   {
    "duration": 7,
    "start_time": "2022-01-26T17:45:58.391Z"
   },
   {
    "duration": 9,
    "start_time": "2022-01-26T17:46:06.651Z"
   },
   {
    "duration": 7,
    "start_time": "2022-01-26T17:46:12.424Z"
   },
   {
    "duration": 7,
    "start_time": "2022-01-26T17:46:15.216Z"
   },
   {
    "duration": 8,
    "start_time": "2022-01-26T17:46:28.569Z"
   },
   {
    "duration": 851,
    "start_time": "2022-01-26T17:46:36.491Z"
   },
   {
    "duration": 28,
    "start_time": "2022-01-26T17:46:37.345Z"
   },
   {
    "duration": 13,
    "start_time": "2022-01-26T17:46:37.375Z"
   },
   {
    "duration": 25,
    "start_time": "2022-01-26T17:46:37.390Z"
   },
   {
    "duration": 9,
    "start_time": "2022-01-26T17:46:37.417Z"
   },
   {
    "duration": 11,
    "start_time": "2022-01-26T17:46:37.428Z"
   },
   {
    "duration": 10,
    "start_time": "2022-01-26T17:46:37.441Z"
   },
   {
    "duration": 9,
    "start_time": "2022-01-26T17:46:37.454Z"
   },
   {
    "duration": 46,
    "start_time": "2022-01-26T17:46:37.465Z"
   },
   {
    "duration": 11,
    "start_time": "2022-01-26T17:46:37.513Z"
   },
   {
    "duration": 13,
    "start_time": "2022-01-26T17:46:37.526Z"
   },
   {
    "duration": 12,
    "start_time": "2022-01-26T17:46:37.541Z"
   },
   {
    "duration": 11,
    "start_time": "2022-01-26T17:46:37.555Z"
   },
   {
    "duration": 8,
    "start_time": "2022-01-26T17:46:37.567Z"
   },
   {
    "duration": 32,
    "start_time": "2022-01-26T17:46:37.576Z"
   },
   {
    "duration": 8,
    "start_time": "2022-01-26T17:46:37.611Z"
   },
   {
    "duration": 12,
    "start_time": "2022-01-26T17:46:37.621Z"
   },
   {
    "duration": 10,
    "start_time": "2022-01-26T17:46:37.635Z"
   },
   {
    "duration": 9,
    "start_time": "2022-01-26T17:46:37.647Z"
   },
   {
    "duration": 9,
    "start_time": "2022-01-26T17:46:37.658Z"
   },
   {
    "duration": 44,
    "start_time": "2022-01-26T17:46:37.669Z"
   },
   {
    "duration": 7,
    "start_time": "2022-01-26T17:46:37.715Z"
   },
   {
    "duration": 8,
    "start_time": "2022-01-26T17:46:37.726Z"
   },
   {
    "duration": 11,
    "start_time": "2022-01-26T17:46:37.736Z"
   },
   {
    "duration": 9,
    "start_time": "2022-01-26T17:46:37.749Z"
   },
   {
    "duration": 62,
    "start_time": "2022-01-26T17:46:37.760Z"
   },
   {
    "duration": 16,
    "start_time": "2022-01-26T17:46:37.824Z"
   },
   {
    "duration": 7,
    "start_time": "2022-01-26T17:46:37.842Z"
   },
   {
    "duration": 62,
    "start_time": "2022-01-26T17:46:37.851Z"
   },
   {
    "duration": 8,
    "start_time": "2022-01-26T17:46:37.915Z"
   },
   {
    "duration": 21,
    "start_time": "2022-01-26T17:46:37.925Z"
   },
   {
    "duration": 17,
    "start_time": "2022-01-26T17:46:37.948Z"
   },
   {
    "duration": 9,
    "start_time": "2022-01-26T17:46:37.967Z"
   },
   {
    "duration": 34,
    "start_time": "2022-01-26T17:46:37.978Z"
   },
   {
    "duration": 27,
    "start_time": "2022-01-26T17:46:38.014Z"
   },
   {
    "duration": 5,
    "start_time": "2022-01-26T17:46:38.043Z"
   },
   {
    "duration": 15,
    "start_time": "2022-01-26T17:46:38.050Z"
   },
   {
    "duration": 16,
    "start_time": "2022-01-26T17:46:38.068Z"
   },
   {
    "duration": 29,
    "start_time": "2022-01-26T17:46:38.086Z"
   },
   {
    "duration": 27,
    "start_time": "2022-01-26T17:46:38.117Z"
   },
   {
    "duration": 3,
    "start_time": "2022-01-26T17:46:38.146Z"
   },
   {
    "duration": 17,
    "start_time": "2022-01-26T17:46:38.151Z"
   },
   {
    "duration": 45,
    "start_time": "2022-01-26T17:46:38.170Z"
   },
   {
    "duration": 4,
    "start_time": "2022-01-26T17:46:38.216Z"
   },
   {
    "duration": 32,
    "start_time": "2022-01-26T17:46:38.222Z"
   },
   {
    "duration": 62,
    "start_time": "2022-01-26T17:46:38.256Z"
   },
   {
    "duration": 3,
    "start_time": "2022-01-26T17:46:38.320Z"
   },
   {
    "duration": 519,
    "start_time": "2022-01-26T17:46:38.325Z"
   },
   {
    "duration": 33,
    "start_time": "2022-01-26T17:46:38.846Z"
   },
   {
    "duration": 27,
    "start_time": "2022-01-26T17:46:38.881Z"
   },
   {
    "duration": 367,
    "start_time": "2022-01-26T17:46:38.910Z"
   },
   {
    "duration": 362,
    "start_time": "2022-01-26T17:46:39.279Z"
   },
   {
    "duration": 9,
    "start_time": "2022-01-26T17:46:39.643Z"
   },
   {
    "duration": 379,
    "start_time": "2022-01-26T17:46:39.654Z"
   },
   {
    "duration": 11,
    "start_time": "2022-01-26T17:46:40.035Z"
   },
   {
    "duration": 252,
    "start_time": "2022-01-26T17:46:40.048Z"
   },
   {
    "duration": 10,
    "start_time": "2022-01-26T17:46:40.307Z"
   },
   {
    "duration": 230,
    "start_time": "2022-01-26T17:46:40.319Z"
   },
   {
    "duration": 9,
    "start_time": "2022-01-26T17:46:40.551Z"
   },
   {
    "duration": 204,
    "start_time": "2022-01-26T17:46:40.561Z"
   },
   {
    "duration": 154,
    "start_time": "2022-01-26T17:46:40.767Z"
   },
   {
    "duration": 7,
    "start_time": "2022-01-26T17:51:31.041Z"
   },
   {
    "duration": 29,
    "start_time": "2022-01-26T17:51:40.235Z"
   },
   {
    "duration": 876,
    "start_time": "2022-01-26T17:52:02.686Z"
   },
   {
    "duration": 45,
    "start_time": "2022-01-26T17:52:03.564Z"
   },
   {
    "duration": 14,
    "start_time": "2022-01-26T17:52:03.612Z"
   },
   {
    "duration": 14,
    "start_time": "2022-01-26T17:52:03.628Z"
   },
   {
    "duration": 20,
    "start_time": "2022-01-26T17:52:03.645Z"
   },
   {
    "duration": 21,
    "start_time": "2022-01-26T17:52:03.667Z"
   },
   {
    "duration": 17,
    "start_time": "2022-01-26T17:52:03.690Z"
   },
   {
    "duration": 9,
    "start_time": "2022-01-26T17:52:03.711Z"
   },
   {
    "duration": 20,
    "start_time": "2022-01-26T17:52:03.722Z"
   },
   {
    "duration": 18,
    "start_time": "2022-01-26T17:52:03.744Z"
   },
   {
    "duration": 20,
    "start_time": "2022-01-26T17:52:03.764Z"
   },
   {
    "duration": 20,
    "start_time": "2022-01-26T17:52:03.786Z"
   },
   {
    "duration": 21,
    "start_time": "2022-01-26T17:52:03.807Z"
   },
   {
    "duration": 27,
    "start_time": "2022-01-26T17:52:03.830Z"
   },
   {
    "duration": 21,
    "start_time": "2022-01-26T17:52:03.859Z"
   },
   {
    "duration": 16,
    "start_time": "2022-01-26T17:52:03.882Z"
   },
   {
    "duration": 25,
    "start_time": "2022-01-26T17:52:03.900Z"
   },
   {
    "duration": 24,
    "start_time": "2022-01-26T17:52:03.927Z"
   },
   {
    "duration": 28,
    "start_time": "2022-01-26T17:52:03.953Z"
   },
   {
    "duration": 16,
    "start_time": "2022-01-26T17:52:03.982Z"
   },
   {
    "duration": 23,
    "start_time": "2022-01-26T17:52:04.000Z"
   },
   {
    "duration": 27,
    "start_time": "2022-01-26T17:52:04.025Z"
   },
   {
    "duration": 10,
    "start_time": "2022-01-26T17:52:04.056Z"
   },
   {
    "duration": 18,
    "start_time": "2022-01-26T17:52:04.068Z"
   },
   {
    "duration": 31,
    "start_time": "2022-01-26T17:52:04.088Z"
   },
   {
    "duration": 10,
    "start_time": "2022-01-26T17:52:04.121Z"
   },
   {
    "duration": 61,
    "start_time": "2022-01-26T17:52:04.133Z"
   },
   {
    "duration": 18,
    "start_time": "2022-01-26T17:52:04.196Z"
   },
   {
    "duration": 16,
    "start_time": "2022-01-26T17:52:04.216Z"
   },
   {
    "duration": 58,
    "start_time": "2022-01-26T17:52:04.234Z"
   },
   {
    "duration": 9,
    "start_time": "2022-01-26T17:52:04.293Z"
   },
   {
    "duration": 33,
    "start_time": "2022-01-26T17:52:04.304Z"
   },
   {
    "duration": 58,
    "start_time": "2022-01-26T17:52:04.339Z"
   },
   {
    "duration": 29,
    "start_time": "2022-01-26T17:52:04.399Z"
   },
   {
    "duration": 25,
    "start_time": "2022-01-26T17:52:04.430Z"
   },
   {
    "duration": 47,
    "start_time": "2022-01-26T17:52:04.457Z"
   },
   {
    "duration": 14,
    "start_time": "2022-01-26T17:52:04.506Z"
   },
   {
    "duration": 29,
    "start_time": "2022-01-26T17:52:04.522Z"
   },
   {
    "duration": 25,
    "start_time": "2022-01-26T17:52:04.553Z"
   },
   {
    "duration": 21,
    "start_time": "2022-01-26T17:52:04.580Z"
   },
   {
    "duration": 44,
    "start_time": "2022-01-26T17:52:04.603Z"
   },
   {
    "duration": 3,
    "start_time": "2022-01-26T17:52:04.649Z"
   },
   {
    "duration": 34,
    "start_time": "2022-01-26T17:52:04.654Z"
   },
   {
    "duration": 46,
    "start_time": "2022-01-26T17:52:04.689Z"
   },
   {
    "duration": 16,
    "start_time": "2022-01-26T17:52:04.736Z"
   },
   {
    "duration": 51,
    "start_time": "2022-01-26T17:52:04.754Z"
   },
   {
    "duration": 44,
    "start_time": "2022-01-26T17:52:04.807Z"
   },
   {
    "duration": 3,
    "start_time": "2022-01-26T17:52:04.854Z"
   },
   {
    "duration": 531,
    "start_time": "2022-01-26T17:52:04.860Z"
   },
   {
    "duration": 43,
    "start_time": "2022-01-26T17:52:05.393Z"
   },
   {
    "duration": 10,
    "start_time": "2022-01-26T17:52:05.437Z"
   },
   {
    "duration": 400,
    "start_time": "2022-01-26T17:52:05.449Z"
   },
   {
    "duration": 369,
    "start_time": "2022-01-26T17:52:05.851Z"
   },
   {
    "duration": 10,
    "start_time": "2022-01-26T17:52:06.222Z"
   },
   {
    "duration": 379,
    "start_time": "2022-01-26T17:52:06.233Z"
   },
   {
    "duration": 9,
    "start_time": "2022-01-26T17:52:06.615Z"
   },
   {
    "duration": 254,
    "start_time": "2022-01-26T17:52:06.625Z"
   },
   {
    "duration": 10,
    "start_time": "2022-01-26T17:52:06.881Z"
   },
   {
    "duration": 223,
    "start_time": "2022-01-26T17:52:06.893Z"
   },
   {
    "duration": 10,
    "start_time": "2022-01-26T17:52:07.118Z"
   },
   {
    "duration": 218,
    "start_time": "2022-01-26T17:52:07.129Z"
   },
   {
    "duration": 160,
    "start_time": "2022-01-26T17:52:07.349Z"
   },
   {
    "duration": 6,
    "start_time": "2022-01-26T17:57:34.985Z"
   },
   {
    "duration": 5,
    "start_time": "2022-01-26T17:57:48.935Z"
   },
   {
    "duration": 6,
    "start_time": "2022-01-26T17:58:07.543Z"
   },
   {
    "duration": 9,
    "start_time": "2022-01-26T18:00:58.611Z"
   },
   {
    "duration": 190,
    "start_time": "2022-01-26T18:01:11.557Z"
   },
   {
    "duration": 144,
    "start_time": "2022-01-26T18:02:13.968Z"
   },
   {
    "duration": 211,
    "start_time": "2022-01-26T18:16:46.636Z"
   },
   {
    "duration": 144,
    "start_time": "2022-01-26T18:16:54.997Z"
   },
   {
    "duration": 157,
    "start_time": "2022-01-26T18:17:21.186Z"
   },
   {
    "duration": 10,
    "start_time": "2022-01-26T18:17:27.899Z"
   },
   {
    "duration": 144,
    "start_time": "2022-01-26T18:17:48.782Z"
   },
   {
    "duration": 10,
    "start_time": "2022-01-26T18:19:47.457Z"
   },
   {
    "duration": 141,
    "start_time": "2022-01-26T18:20:47.463Z"
   },
   {
    "duration": 132,
    "start_time": "2022-01-26T18:20:59.119Z"
   },
   {
    "duration": 140,
    "start_time": "2022-01-26T18:21:49.195Z"
   },
   {
    "duration": 8,
    "start_time": "2022-01-26T18:24:02.544Z"
   },
   {
    "duration": 29,
    "start_time": "2022-01-26T18:24:16.692Z"
   },
   {
    "duration": 13,
    "start_time": "2022-01-26T18:24:36.101Z"
   },
   {
    "duration": 143,
    "start_time": "2022-01-26T18:25:12.389Z"
   },
   {
    "duration": 141,
    "start_time": "2022-01-26T18:25:24.433Z"
   },
   {
    "duration": 16,
    "start_time": "2022-01-26T18:28:19.688Z"
   },
   {
    "duration": 12,
    "start_time": "2022-01-26T18:28:25.252Z"
   },
   {
    "duration": 14,
    "start_time": "2022-01-26T18:28:47.837Z"
   },
   {
    "duration": 19,
    "start_time": "2022-01-26T18:29:01.049Z"
   },
   {
    "duration": 1824,
    "start_time": "2022-01-26T18:29:25.070Z"
   },
   {
    "duration": 18,
    "start_time": "2022-01-26T18:29:29.586Z"
   },
   {
    "duration": 149,
    "start_time": "2022-01-26T18:29:33.886Z"
   },
   {
    "duration": 154,
    "start_time": "2022-01-26T18:29:42.289Z"
   },
   {
    "duration": 19,
    "start_time": "2022-01-26T18:30:53.810Z"
   },
   {
    "duration": 143,
    "start_time": "2022-01-26T18:31:15.254Z"
   },
   {
    "duration": 157,
    "start_time": "2022-01-26T18:32:38.180Z"
   },
   {
    "duration": 843,
    "start_time": "2022-01-26T18:35:05.358Z"
   },
   {
    "duration": 31,
    "start_time": "2022-01-26T18:35:06.204Z"
   },
   {
    "duration": 27,
    "start_time": "2022-01-26T18:35:06.238Z"
   },
   {
    "duration": 29,
    "start_time": "2022-01-26T18:35:06.268Z"
   },
   {
    "duration": 40,
    "start_time": "2022-01-26T18:35:06.299Z"
   },
   {
    "duration": 18,
    "start_time": "2022-01-26T18:35:06.341Z"
   },
   {
    "duration": 26,
    "start_time": "2022-01-26T18:35:06.361Z"
   },
   {
    "duration": 17,
    "start_time": "2022-01-26T18:35:06.389Z"
   },
   {
    "duration": 9,
    "start_time": "2022-01-26T18:35:06.409Z"
   },
   {
    "duration": 17,
    "start_time": "2022-01-26T18:35:06.421Z"
   },
   {
    "duration": 13,
    "start_time": "2022-01-26T18:35:06.440Z"
   },
   {
    "duration": 17,
    "start_time": "2022-01-26T18:35:06.455Z"
   },
   {
    "duration": 14,
    "start_time": "2022-01-26T18:35:06.474Z"
   },
   {
    "duration": 19,
    "start_time": "2022-01-26T18:35:06.491Z"
   },
   {
    "duration": 16,
    "start_time": "2022-01-26T18:35:06.512Z"
   },
   {
    "duration": 16,
    "start_time": "2022-01-26T18:35:06.530Z"
   },
   {
    "duration": 17,
    "start_time": "2022-01-26T18:35:06.548Z"
   },
   {
    "duration": 14,
    "start_time": "2022-01-26T18:35:06.567Z"
   },
   {
    "duration": 12,
    "start_time": "2022-01-26T18:35:06.583Z"
   },
   {
    "duration": 18,
    "start_time": "2022-01-26T18:35:06.597Z"
   },
   {
    "duration": 15,
    "start_time": "2022-01-26T18:35:06.617Z"
   },
   {
    "duration": 18,
    "start_time": "2022-01-26T18:35:06.634Z"
   },
   {
    "duration": 16,
    "start_time": "2022-01-26T18:35:06.658Z"
   },
   {
    "duration": 32,
    "start_time": "2022-01-26T18:35:06.677Z"
   },
   {
    "duration": 24,
    "start_time": "2022-01-26T18:35:06.711Z"
   },
   {
    "duration": 12,
    "start_time": "2022-01-26T18:35:06.737Z"
   },
   {
    "duration": 58,
    "start_time": "2022-01-26T18:35:06.751Z"
   },
   {
    "duration": 18,
    "start_time": "2022-01-26T18:35:06.811Z"
   },
   {
    "duration": 32,
    "start_time": "2022-01-26T18:35:06.830Z"
   },
   {
    "duration": 9,
    "start_time": "2022-01-26T18:35:06.864Z"
   },
   {
    "duration": 22,
    "start_time": "2022-01-26T18:35:06.907Z"
   },
   {
    "duration": 16,
    "start_time": "2022-01-26T18:35:06.931Z"
   },
   {
    "duration": 6,
    "start_time": "2022-01-26T18:35:06.949Z"
   },
   {
    "duration": 18,
    "start_time": "2022-01-26T18:35:06.957Z"
   },
   {
    "duration": 34,
    "start_time": "2022-01-26T18:35:06.977Z"
   },
   {
    "duration": 18,
    "start_time": "2022-01-26T18:35:07.013Z"
   },
   {
    "duration": 37,
    "start_time": "2022-01-26T18:35:07.033Z"
   },
   {
    "duration": 9,
    "start_time": "2022-01-26T18:35:07.072Z"
   },
   {
    "duration": 33,
    "start_time": "2022-01-26T18:35:07.082Z"
   },
   {
    "duration": 4,
    "start_time": "2022-01-26T18:35:07.117Z"
   },
   {
    "duration": 18,
    "start_time": "2022-01-26T18:35:07.123Z"
   },
   {
    "duration": 20,
    "start_time": "2022-01-26T18:35:07.144Z"
   },
   {
    "duration": 15,
    "start_time": "2022-01-26T18:35:07.167Z"
   },
   {
    "duration": 51,
    "start_time": "2022-01-26T18:35:07.184Z"
   },
   {
    "duration": 47,
    "start_time": "2022-01-26T18:35:07.237Z"
   },
   {
    "duration": 4,
    "start_time": "2022-01-26T18:35:07.308Z"
   },
   {
    "duration": 562,
    "start_time": "2022-01-26T18:35:07.315Z"
   },
   {
    "duration": 44,
    "start_time": "2022-01-26T18:35:07.880Z"
   },
   {
    "duration": 9,
    "start_time": "2022-01-26T18:35:07.927Z"
   },
   {
    "duration": 412,
    "start_time": "2022-01-26T18:35:07.938Z"
   },
   {
    "duration": 696,
    "start_time": "2022-01-26T18:35:08.352Z"
   },
   {
    "duration": 60,
    "start_time": "2022-01-26T18:35:09.051Z"
   },
   {
    "duration": 555,
    "start_time": "2022-01-26T18:35:09.113Z"
   },
   {
    "duration": 10,
    "start_time": "2022-01-26T18:35:09.671Z"
   },
   {
    "duration": 247,
    "start_time": "2022-01-26T18:35:09.684Z"
   },
   {
    "duration": 10,
    "start_time": "2022-01-26T18:35:09.933Z"
   },
   {
    "duration": 239,
    "start_time": "2022-01-26T18:35:09.945Z"
   },
   {
    "duration": 22,
    "start_time": "2022-01-26T18:35:10.186Z"
   },
   {
    "duration": 203,
    "start_time": "2022-01-26T18:35:10.210Z"
   },
   {
    "duration": 161,
    "start_time": "2022-01-26T18:35:10.416Z"
   },
   {
    "duration": 9,
    "start_time": "2022-01-26T18:35:10.579Z"
   },
   {
    "duration": 30,
    "start_time": "2022-01-26T18:35:10.590Z"
   },
   {
    "duration": 168,
    "start_time": "2022-01-26T18:35:10.623Z"
   },
   {
    "duration": 10,
    "start_time": "2022-01-26T18:36:43.721Z"
   },
   {
    "duration": 151,
    "start_time": "2022-01-26T18:37:05.609Z"
   },
   {
    "duration": 230,
    "start_time": "2022-01-26T18:38:02.672Z"
   },
   {
    "duration": 23,
    "start_time": "2022-01-26T18:40:47.554Z"
   },
   {
    "duration": 131,
    "start_time": "2022-01-26T18:42:11.589Z"
   },
   {
    "duration": 11,
    "start_time": "2022-01-26T18:46:43.816Z"
   },
   {
    "duration": 8359,
    "start_time": "2022-01-26T18:47:03.372Z"
   },
   {
    "duration": 9,
    "start_time": "2022-01-26T18:47:14.251Z"
   },
   {
    "duration": 145,
    "start_time": "2022-01-26T19:03:13.821Z"
   },
   {
    "duration": 152,
    "start_time": "2022-01-26T19:04:14.432Z"
   },
   {
    "duration": 34,
    "start_time": "2022-01-26T19:06:45.312Z"
   },
   {
    "duration": 22,
    "start_time": "2022-01-26T19:07:34.503Z"
   },
   {
    "duration": 338,
    "start_time": "2022-01-26T19:13:19.281Z"
   },
   {
    "duration": 326,
    "start_time": "2022-01-26T19:13:22.548Z"
   },
   {
    "duration": 240,
    "start_time": "2022-01-26T19:13:48.167Z"
   },
   {
    "duration": 239,
    "start_time": "2022-01-26T19:14:36.960Z"
   },
   {
    "duration": 305,
    "start_time": "2022-01-26T19:14:43.768Z"
   },
   {
    "duration": 628,
    "start_time": "2022-01-26T19:15:41.780Z"
   },
   {
    "duration": 238,
    "start_time": "2022-01-26T19:16:13.255Z"
   },
   {
    "duration": 817,
    "start_time": "2022-01-26T19:16:19.984Z"
   },
   {
    "duration": 775,
    "start_time": "2022-01-26T19:16:55.814Z"
   },
   {
    "duration": 222,
    "start_time": "2022-01-26T19:17:28.695Z"
   },
   {
    "duration": 253,
    "start_time": "2022-01-26T19:17:36.309Z"
   },
   {
    "duration": 237,
    "start_time": "2022-01-26T19:17:54.208Z"
   },
   {
    "duration": 239,
    "start_time": "2022-01-26T19:18:02.715Z"
   },
   {
    "duration": 258,
    "start_time": "2022-01-26T19:18:33.030Z"
   },
   {
    "duration": 240,
    "start_time": "2022-01-26T19:19:32.324Z"
   },
   {
    "duration": 354,
    "start_time": "2022-01-26T19:19:54.682Z"
   },
   {
    "duration": 239,
    "start_time": "2022-01-26T19:20:07.685Z"
   },
   {
    "duration": 79,
    "start_time": "2022-01-26T19:20:24.838Z"
   },
   {
    "duration": 244,
    "start_time": "2022-01-26T19:21:04.648Z"
   },
   {
    "duration": 306,
    "start_time": "2022-01-26T19:22:05.627Z"
   },
   {
    "duration": 295,
    "start_time": "2022-01-26T19:22:58.312Z"
   },
   {
    "duration": 838,
    "start_time": "2022-01-26T19:23:09.604Z"
   },
   {
    "duration": 27,
    "start_time": "2022-01-26T19:23:10.447Z"
   },
   {
    "duration": 33,
    "start_time": "2022-01-26T19:23:10.476Z"
   },
   {
    "duration": 15,
    "start_time": "2022-01-26T19:23:10.511Z"
   },
   {
    "duration": 8,
    "start_time": "2022-01-26T19:23:10.528Z"
   },
   {
    "duration": 10,
    "start_time": "2022-01-26T19:23:10.538Z"
   },
   {
    "duration": 7,
    "start_time": "2022-01-26T19:23:10.551Z"
   },
   {
    "duration": 7,
    "start_time": "2022-01-26T19:23:10.560Z"
   },
   {
    "duration": 40,
    "start_time": "2022-01-26T19:23:10.569Z"
   },
   {
    "duration": 8,
    "start_time": "2022-01-26T19:23:10.610Z"
   },
   {
    "duration": 6,
    "start_time": "2022-01-26T19:23:10.620Z"
   },
   {
    "duration": 9,
    "start_time": "2022-01-26T19:23:10.628Z"
   },
   {
    "duration": 10,
    "start_time": "2022-01-26T19:23:10.639Z"
   },
   {
    "duration": 9,
    "start_time": "2022-01-26T19:23:10.651Z"
   },
   {
    "duration": 50,
    "start_time": "2022-01-26T19:23:10.662Z"
   },
   {
    "duration": 6,
    "start_time": "2022-01-26T19:23:10.714Z"
   },
   {
    "duration": 10,
    "start_time": "2022-01-26T19:23:10.722Z"
   },
   {
    "duration": 14,
    "start_time": "2022-01-26T19:23:10.734Z"
   },
   {
    "duration": 9,
    "start_time": "2022-01-26T19:23:10.750Z"
   },
   {
    "duration": 6,
    "start_time": "2022-01-26T19:23:10.761Z"
   },
   {
    "duration": 8,
    "start_time": "2022-01-26T19:23:10.808Z"
   },
   {
    "duration": 6,
    "start_time": "2022-01-26T19:23:10.821Z"
   },
   {
    "duration": 13,
    "start_time": "2022-01-26T19:23:10.831Z"
   },
   {
    "duration": 9,
    "start_time": "2022-01-26T19:23:10.846Z"
   },
   {
    "duration": 54,
    "start_time": "2022-01-26T19:23:10.857Z"
   },
   {
    "duration": 11,
    "start_time": "2022-01-26T19:23:10.913Z"
   },
   {
    "duration": 30,
    "start_time": "2022-01-26T19:23:10.926Z"
   },
   {
    "duration": 16,
    "start_time": "2022-01-26T19:23:10.958Z"
   },
   {
    "duration": 30,
    "start_time": "2022-01-26T19:23:11.008Z"
   },
   {
    "duration": 9,
    "start_time": "2022-01-26T19:23:11.040Z"
   },
   {
    "duration": 23,
    "start_time": "2022-01-26T19:23:11.051Z"
   },
   {
    "duration": 45,
    "start_time": "2022-01-26T19:23:11.076Z"
   },
   {
    "duration": 5,
    "start_time": "2022-01-26T19:23:11.123Z"
   },
   {
    "duration": 13,
    "start_time": "2022-01-26T19:23:11.130Z"
   },
   {
    "duration": 5,
    "start_time": "2022-01-26T19:23:11.145Z"
   },
   {
    "duration": 14,
    "start_time": "2022-01-26T19:23:11.152Z"
   },
   {
    "duration": 47,
    "start_time": "2022-01-26T19:23:11.167Z"
   },
   {
    "duration": 9,
    "start_time": "2022-01-26T19:23:11.216Z"
   },
   {
    "duration": 27,
    "start_time": "2022-01-26T19:23:11.227Z"
   },
   {
    "duration": 3,
    "start_time": "2022-01-26T19:23:11.256Z"
   },
   {
    "duration": 49,
    "start_time": "2022-01-26T19:23:11.261Z"
   },
   {
    "duration": 17,
    "start_time": "2022-01-26T19:23:11.312Z"
   },
   {
    "duration": 4,
    "start_time": "2022-01-26T19:23:11.331Z"
   },
   {
    "duration": 28,
    "start_time": "2022-01-26T19:23:11.337Z"
   },
   {
    "duration": 71,
    "start_time": "2022-01-26T19:23:11.366Z"
   },
   {
    "duration": 3,
    "start_time": "2022-01-26T19:23:11.439Z"
   },
   {
    "duration": 518,
    "start_time": "2022-01-26T19:23:11.444Z"
   },
   {
    "duration": 45,
    "start_time": "2022-01-26T19:23:11.964Z"
   },
   {
    "duration": 10,
    "start_time": "2022-01-26T19:23:12.012Z"
   },
   {
    "duration": 415,
    "start_time": "2022-01-26T19:23:12.024Z"
   },
   {
    "duration": 373,
    "start_time": "2022-01-26T19:23:12.442Z"
   },
   {
    "duration": 10,
    "start_time": "2022-01-26T19:23:12.817Z"
   },
   {
    "duration": 380,
    "start_time": "2022-01-26T19:23:12.829Z"
   },
   {
    "duration": 9,
    "start_time": "2022-01-26T19:23:13.211Z"
   },
   {
    "duration": 236,
    "start_time": "2022-01-26T19:23:13.221Z"
   },
   {
    "duration": 8,
    "start_time": "2022-01-26T19:23:13.459Z"
   },
   {
    "duration": 220,
    "start_time": "2022-01-26T19:23:13.469Z"
   },
   {
    "duration": 8,
    "start_time": "2022-01-26T19:23:13.691Z"
   },
   {
    "duration": 202,
    "start_time": "2022-01-26T19:23:13.708Z"
   },
   {
    "duration": 299,
    "start_time": "2022-01-26T19:23:13.911Z"
   },
   {
    "duration": 12,
    "start_time": "2022-01-26T19:23:14.212Z"
   },
   {
    "duration": 428,
    "start_time": "2022-01-26T19:23:14.226Z"
   },
   {
    "duration": 23,
    "start_time": "2022-01-26T19:23:14.707Z"
   },
   {
    "duration": 216,
    "start_time": "2022-01-26T19:23:14.732Z"
   },
   {
    "duration": 17,
    "start_time": "2022-01-26T19:23:14.951Z"
   },
   {
    "duration": 8,
    "start_time": "2022-01-26T19:23:14.970Z"
   },
   {
    "duration": 230,
    "start_time": "2022-01-26T19:23:14.984Z"
   },
   {
    "duration": 9,
    "start_time": "2022-01-26T19:23:15.216Z"
   },
   {
    "duration": 163,
    "start_time": "2022-01-26T19:23:15.227Z"
   },
   {
    "duration": 28,
    "start_time": "2022-01-26T19:23:15.392Z"
   },
   {
    "duration": 7,
    "start_time": "2022-01-26T19:23:15.421Z"
   },
   {
    "duration": 312,
    "start_time": "2022-01-26T19:23:34.003Z"
   },
   {
    "duration": 276,
    "start_time": "2022-01-26T19:23:50.695Z"
   },
   {
    "duration": 939,
    "start_time": "2022-01-26T19:24:14.896Z"
   },
   {
    "duration": 243,
    "start_time": "2022-01-26T19:25:29.584Z"
   },
   {
    "duration": 253,
    "start_time": "2022-01-26T19:25:46.573Z"
   },
   {
    "duration": 263,
    "start_time": "2022-01-26T19:26:02.784Z"
   },
   {
    "duration": 912,
    "start_time": "2022-01-26T19:26:08.134Z"
   },
   {
    "duration": 30,
    "start_time": "2022-01-26T19:26:09.048Z"
   },
   {
    "duration": 33,
    "start_time": "2022-01-26T19:26:09.080Z"
   },
   {
    "duration": 28,
    "start_time": "2022-01-26T19:26:09.115Z"
   },
   {
    "duration": 9,
    "start_time": "2022-01-26T19:26:09.145Z"
   },
   {
    "duration": 13,
    "start_time": "2022-01-26T19:26:09.156Z"
   },
   {
    "duration": 11,
    "start_time": "2022-01-26T19:26:09.172Z"
   },
   {
    "duration": 29,
    "start_time": "2022-01-26T19:26:09.187Z"
   },
   {
    "duration": 9,
    "start_time": "2022-01-26T19:26:09.218Z"
   },
   {
    "duration": 14,
    "start_time": "2022-01-26T19:26:09.229Z"
   },
   {
    "duration": 6,
    "start_time": "2022-01-26T19:26:09.245Z"
   },
   {
    "duration": 10,
    "start_time": "2022-01-26T19:26:09.253Z"
   },
   {
    "duration": 44,
    "start_time": "2022-01-26T19:26:09.265Z"
   },
   {
    "duration": 22,
    "start_time": "2022-01-26T19:26:09.311Z"
   },
   {
    "duration": 10,
    "start_time": "2022-01-26T19:26:09.335Z"
   },
   {
    "duration": 8,
    "start_time": "2022-01-26T19:26:09.347Z"
   },
   {
    "duration": 12,
    "start_time": "2022-01-26T19:26:09.357Z"
   },
   {
    "duration": 14,
    "start_time": "2022-01-26T19:26:09.371Z"
   },
   {
    "duration": 27,
    "start_time": "2022-01-26T19:26:09.387Z"
   },
   {
    "duration": 9,
    "start_time": "2022-01-26T19:26:09.416Z"
   },
   {
    "duration": 13,
    "start_time": "2022-01-26T19:26:09.427Z"
   },
   {
    "duration": 10,
    "start_time": "2022-01-26T19:26:09.442Z"
   },
   {
    "duration": 11,
    "start_time": "2022-01-26T19:26:09.458Z"
   },
   {
    "duration": 37,
    "start_time": "2022-01-26T19:26:09.473Z"
   },
   {
    "duration": 24,
    "start_time": "2022-01-26T19:26:09.512Z"
   },
   {
    "duration": 10,
    "start_time": "2022-01-26T19:26:09.537Z"
   },
   {
    "duration": 32,
    "start_time": "2022-01-26T19:26:09.549Z"
   },
   {
    "duration": 40,
    "start_time": "2022-01-26T19:26:09.583Z"
   },
   {
    "duration": 34,
    "start_time": "2022-01-26T19:26:09.625Z"
   },
   {
    "duration": 8,
    "start_time": "2022-01-26T19:26:09.661Z"
   },
   {
    "duration": 55,
    "start_time": "2022-01-26T19:26:09.671Z"
   },
   {
    "duration": 17,
    "start_time": "2022-01-26T19:26:09.728Z"
   },
   {
    "duration": 14,
    "start_time": "2022-01-26T19:26:09.747Z"
   },
   {
    "duration": 28,
    "start_time": "2022-01-26T19:26:09.763Z"
   },
   {
    "duration": 17,
    "start_time": "2022-01-26T19:26:09.793Z"
   },
   {
    "duration": 20,
    "start_time": "2022-01-26T19:26:09.812Z"
   },
   {
    "duration": 17,
    "start_time": "2022-01-26T19:26:09.834Z"
   },
   {
    "duration": 9,
    "start_time": "2022-01-26T19:26:09.854Z"
   },
   {
    "duration": 55,
    "start_time": "2022-01-26T19:26:09.865Z"
   },
   {
    "duration": 4,
    "start_time": "2022-01-26T19:26:09.923Z"
   },
   {
    "duration": 27,
    "start_time": "2022-01-26T19:26:09.929Z"
   },
   {
    "duration": 27,
    "start_time": "2022-01-26T19:26:09.958Z"
   },
   {
    "duration": 5,
    "start_time": "2022-01-26T19:26:09.988Z"
   },
   {
    "duration": 54,
    "start_time": "2022-01-26T19:26:09.995Z"
   },
   {
    "duration": 82,
    "start_time": "2022-01-26T19:26:10.052Z"
   },
   {
    "duration": 4,
    "start_time": "2022-01-26T19:26:10.137Z"
   },
   {
    "duration": 838,
    "start_time": "2022-01-26T19:26:10.143Z"
   },
   {
    "duration": 62,
    "start_time": "2022-01-26T19:26:10.984Z"
   },
   {
    "duration": 12,
    "start_time": "2022-01-26T19:26:11.049Z"
   },
   {
    "duration": 411,
    "start_time": "2022-01-26T19:26:11.063Z"
   },
   {
    "duration": 499,
    "start_time": "2022-01-26T19:26:11.476Z"
   },
   {
    "duration": 10,
    "start_time": "2022-01-26T19:26:11.977Z"
   },
   {
    "duration": 508,
    "start_time": "2022-01-26T19:26:11.989Z"
   },
   {
    "duration": 15,
    "start_time": "2022-01-26T19:26:12.499Z"
   },
   {
    "duration": 245,
    "start_time": "2022-01-26T19:26:12.517Z"
   },
   {
    "duration": 9,
    "start_time": "2022-01-26T19:26:12.764Z"
   },
   {
    "duration": 234,
    "start_time": "2022-01-26T19:26:12.775Z"
   },
   {
    "duration": 10,
    "start_time": "2022-01-26T19:26:13.012Z"
   },
   {
    "duration": 211,
    "start_time": "2022-01-26T19:26:13.024Z"
   },
   {
    "duration": 151,
    "start_time": "2022-01-26T19:26:13.237Z"
   },
   {
    "duration": 19,
    "start_time": "2022-01-26T19:26:13.391Z"
   },
   {
    "duration": 170,
    "start_time": "2022-01-26T19:26:13.412Z"
   },
   {
    "duration": 30,
    "start_time": "2022-01-26T19:26:13.585Z"
   },
   {
    "duration": 162,
    "start_time": "2022-01-26T19:26:13.617Z"
   },
   {
    "duration": 27,
    "start_time": "2022-01-26T19:26:13.781Z"
   },
   {
    "duration": 10,
    "start_time": "2022-01-26T19:26:13.810Z"
   },
   {
    "duration": 204,
    "start_time": "2022-01-26T19:26:13.822Z"
   },
   {
    "duration": 9,
    "start_time": "2022-01-26T19:26:14.031Z"
   },
   {
    "duration": 161,
    "start_time": "2022-01-26T19:26:14.042Z"
   },
   {
    "duration": 21,
    "start_time": "2022-01-26T19:26:14.204Z"
   },
   {
    "duration": 370,
    "start_time": "2022-01-26T19:26:14.228Z"
   },
   {
    "duration": 260,
    "start_time": "2022-01-26T19:27:45.671Z"
   },
   {
    "duration": 866,
    "start_time": "2022-01-26T19:28:01.159Z"
   },
   {
    "duration": 33,
    "start_time": "2022-01-26T19:28:02.027Z"
   },
   {
    "duration": 25,
    "start_time": "2022-01-26T19:28:02.062Z"
   },
   {
    "duration": 25,
    "start_time": "2022-01-26T19:28:02.089Z"
   },
   {
    "duration": 27,
    "start_time": "2022-01-26T19:28:02.116Z"
   },
   {
    "duration": 30,
    "start_time": "2022-01-26T19:28:02.145Z"
   },
   {
    "duration": 13,
    "start_time": "2022-01-26T19:28:02.178Z"
   },
   {
    "duration": 14,
    "start_time": "2022-01-26T19:28:02.194Z"
   },
   {
    "duration": 10,
    "start_time": "2022-01-26T19:28:02.211Z"
   },
   {
    "duration": 9,
    "start_time": "2022-01-26T19:28:02.223Z"
   },
   {
    "duration": 33,
    "start_time": "2022-01-26T19:28:02.234Z"
   },
   {
    "duration": 17,
    "start_time": "2022-01-26T19:28:02.269Z"
   },
   {
    "duration": 12,
    "start_time": "2022-01-26T19:28:02.288Z"
   },
   {
    "duration": 12,
    "start_time": "2022-01-26T19:28:02.302Z"
   },
   {
    "duration": 15,
    "start_time": "2022-01-26T19:28:02.316Z"
   },
   {
    "duration": 17,
    "start_time": "2022-01-26T19:28:02.333Z"
   },
   {
    "duration": 37,
    "start_time": "2022-01-26T19:28:02.352Z"
   },
   {
    "duration": 23,
    "start_time": "2022-01-26T19:28:02.391Z"
   },
   {
    "duration": 11,
    "start_time": "2022-01-26T19:28:02.417Z"
   },
   {
    "duration": 16,
    "start_time": "2022-01-26T19:28:02.430Z"
   },
   {
    "duration": 15,
    "start_time": "2022-01-26T19:28:02.448Z"
   },
   {
    "duration": 14,
    "start_time": "2022-01-26T19:28:02.466Z"
   },
   {
    "duration": 27,
    "start_time": "2022-01-26T19:28:02.485Z"
   },
   {
    "duration": 10,
    "start_time": "2022-01-26T19:28:02.516Z"
   },
   {
    "duration": 29,
    "start_time": "2022-01-26T19:28:02.529Z"
   },
   {
    "duration": 13,
    "start_time": "2022-01-26T19:28:02.560Z"
   },
   {
    "duration": 60,
    "start_time": "2022-01-26T19:28:02.575Z"
   },
   {
    "duration": 19,
    "start_time": "2022-01-26T19:28:02.638Z"
   },
   {
    "duration": 61,
    "start_time": "2022-01-26T19:28:02.659Z"
   },
   {
    "duration": 8,
    "start_time": "2022-01-26T19:28:02.722Z"
   },
   {
    "duration": 39,
    "start_time": "2022-01-26T19:28:02.732Z"
   },
   {
    "duration": 17,
    "start_time": "2022-01-26T19:28:02.773Z"
   },
   {
    "duration": 19,
    "start_time": "2022-01-26T19:28:02.792Z"
   },
   {
    "duration": 23,
    "start_time": "2022-01-26T19:28:02.813Z"
   },
   {
    "duration": 6,
    "start_time": "2022-01-26T19:28:02.837Z"
   },
   {
    "duration": 16,
    "start_time": "2022-01-26T19:28:02.845Z"
   },
   {
    "duration": 16,
    "start_time": "2022-01-26T19:28:02.864Z"
   },
   {
    "duration": 12,
    "start_time": "2022-01-26T19:28:02.907Z"
   },
   {
    "duration": 28,
    "start_time": "2022-01-26T19:28:02.921Z"
   },
   {
    "duration": 3,
    "start_time": "2022-01-26T19:28:02.951Z"
   },
   {
    "duration": 29,
    "start_time": "2022-01-26T19:28:02.956Z"
   },
   {
    "duration": 21,
    "start_time": "2022-01-26T19:28:03.008Z"
   },
   {
    "duration": 5,
    "start_time": "2022-01-26T19:28:03.031Z"
   },
   {
    "duration": 34,
    "start_time": "2022-01-26T19:28:03.037Z"
   },
   {
    "duration": 67,
    "start_time": "2022-01-26T19:28:03.073Z"
   },
   {
    "duration": 3,
    "start_time": "2022-01-26T19:28:03.142Z"
   },
   {
    "duration": 571,
    "start_time": "2022-01-26T19:28:03.147Z"
   },
   {
    "duration": 38,
    "start_time": "2022-01-26T19:28:03.720Z"
   },
   {
    "duration": 9,
    "start_time": "2022-01-26T19:28:03.760Z"
   },
   {
    "duration": 436,
    "start_time": "2022-01-26T19:28:03.771Z"
   },
   {
    "duration": 387,
    "start_time": "2022-01-26T19:28:04.209Z"
   },
   {
    "duration": 17,
    "start_time": "2022-01-26T19:28:04.598Z"
   },
   {
    "duration": 387,
    "start_time": "2022-01-26T19:28:04.617Z"
   },
   {
    "duration": 9,
    "start_time": "2022-01-26T19:28:05.008Z"
   },
   {
    "duration": 256,
    "start_time": "2022-01-26T19:28:05.019Z"
   },
   {
    "duration": 10,
    "start_time": "2022-01-26T19:28:05.278Z"
   },
   {
    "duration": 233,
    "start_time": "2022-01-26T19:28:05.290Z"
   },
   {
    "duration": 10,
    "start_time": "2022-01-26T19:28:05.526Z"
   },
   {
    "duration": 312,
    "start_time": "2022-01-26T19:28:05.538Z"
   },
   {
    "duration": 387,
    "start_time": "2022-01-26T19:28:05.852Z"
   },
   {
    "duration": 10,
    "start_time": "2022-01-26T19:28:06.241Z"
   },
   {
    "duration": 183,
    "start_time": "2022-01-26T19:28:06.253Z"
   },
   {
    "duration": 18,
    "start_time": "2022-01-26T19:28:06.439Z"
   },
   {
    "duration": 191,
    "start_time": "2022-01-26T19:28:06.459Z"
   },
   {
    "duration": 18,
    "start_time": "2022-01-26T19:28:06.653Z"
   },
   {
    "duration": 10,
    "start_time": "2022-01-26T19:28:06.673Z"
   },
   {
    "duration": 220,
    "start_time": "2022-01-26T19:28:06.708Z"
   },
   {
    "duration": 10,
    "start_time": "2022-01-26T19:28:06.934Z"
   },
   {
    "duration": 189,
    "start_time": "2022-01-26T19:28:06.946Z"
   },
   {
    "duration": 24,
    "start_time": "2022-01-26T19:28:07.137Z"
   },
   {
    "duration": 6,
    "start_time": "2022-01-26T19:28:07.163Z"
   },
   {
    "duration": 7,
    "start_time": "2022-01-26T19:28:36.604Z"
   },
   {
    "duration": 6,
    "start_time": "2022-01-26T19:29:33.498Z"
   },
   {
    "duration": 1018,
    "start_time": "2022-01-26T19:30:33.462Z"
   },
   {
    "duration": 12,
    "start_time": "2022-01-26T19:34:02.239Z"
   },
   {
    "duration": 7,
    "start_time": "2022-01-26T19:35:14.885Z"
   },
   {
    "duration": 8,
    "start_time": "2022-01-26T19:37:14.376Z"
   },
   {
    "duration": 7,
    "start_time": "2022-01-26T19:37:25.638Z"
   },
   {
    "duration": 10,
    "start_time": "2022-01-26T19:38:38.187Z"
   },
   {
    "duration": 875,
    "start_time": "2022-01-26T19:39:15.932Z"
   },
   {
    "duration": 27,
    "start_time": "2022-01-26T19:39:16.810Z"
   },
   {
    "duration": 11,
    "start_time": "2022-01-26T19:39:16.840Z"
   },
   {
    "duration": 9,
    "start_time": "2022-01-26T19:39:16.854Z"
   },
   {
    "duration": 42,
    "start_time": "2022-01-26T19:39:16.865Z"
   },
   {
    "duration": 11,
    "start_time": "2022-01-26T19:39:16.909Z"
   },
   {
    "duration": 10,
    "start_time": "2022-01-26T19:39:16.921Z"
   },
   {
    "duration": 12,
    "start_time": "2022-01-26T19:39:16.934Z"
   },
   {
    "duration": 9,
    "start_time": "2022-01-26T19:39:16.949Z"
   },
   {
    "duration": 51,
    "start_time": "2022-01-26T19:39:16.960Z"
   },
   {
    "duration": 11,
    "start_time": "2022-01-26T19:39:17.013Z"
   },
   {
    "duration": 14,
    "start_time": "2022-01-26T19:39:17.026Z"
   },
   {
    "duration": 15,
    "start_time": "2022-01-26T19:39:17.043Z"
   },
   {
    "duration": 10,
    "start_time": "2022-01-26T19:39:17.060Z"
   },
   {
    "duration": 39,
    "start_time": "2022-01-26T19:39:17.072Z"
   },
   {
    "duration": 9,
    "start_time": "2022-01-26T19:39:17.113Z"
   },
   {
    "duration": 31,
    "start_time": "2022-01-26T19:39:17.124Z"
   },
   {
    "duration": 39,
    "start_time": "2022-01-26T19:39:17.157Z"
   },
   {
    "duration": 13,
    "start_time": "2022-01-26T19:39:17.198Z"
   },
   {
    "duration": 15,
    "start_time": "2022-01-26T19:39:17.212Z"
   },
   {
    "duration": 26,
    "start_time": "2022-01-26T19:39:17.229Z"
   },
   {
    "duration": 17,
    "start_time": "2022-01-26T19:39:17.257Z"
   },
   {
    "duration": 14,
    "start_time": "2022-01-26T19:39:17.279Z"
   },
   {
    "duration": 28,
    "start_time": "2022-01-26T19:39:17.296Z"
   },
   {
    "duration": 44,
    "start_time": "2022-01-26T19:39:17.327Z"
   },
   {
    "duration": 14,
    "start_time": "2022-01-26T19:39:17.373Z"
   },
   {
    "duration": 46,
    "start_time": "2022-01-26T19:39:17.389Z"
   },
   {
    "duration": 20,
    "start_time": "2022-01-26T19:39:17.437Z"
   },
   {
    "duration": 58,
    "start_time": "2022-01-26T19:39:17.459Z"
   },
   {
    "duration": 9,
    "start_time": "2022-01-26T19:39:17.519Z"
   },
   {
    "duration": 41,
    "start_time": "2022-01-26T19:39:17.530Z"
   },
   {
    "duration": 19,
    "start_time": "2022-01-26T19:39:17.573Z"
   },
   {
    "duration": 13,
    "start_time": "2022-01-26T19:39:17.594Z"
   },
   {
    "duration": 21,
    "start_time": "2022-01-26T19:39:17.610Z"
   },
   {
    "duration": 8,
    "start_time": "2022-01-26T19:39:17.633Z"
   },
   {
    "duration": 28,
    "start_time": "2022-01-26T19:39:17.643Z"
   },
   {
    "duration": 35,
    "start_time": "2022-01-26T19:39:17.673Z"
   },
   {
    "duration": 9,
    "start_time": "2022-01-26T19:39:17.710Z"
   },
   {
    "duration": 32,
    "start_time": "2022-01-26T19:39:17.721Z"
   },
   {
    "duration": 3,
    "start_time": "2022-01-26T19:39:17.755Z"
   },
   {
    "duration": 46,
    "start_time": "2022-01-26T19:39:17.760Z"
   },
   {
    "duration": 19,
    "start_time": "2022-01-26T19:39:17.809Z"
   },
   {
    "duration": 5,
    "start_time": "2022-01-26T19:39:17.830Z"
   },
   {
    "duration": 41,
    "start_time": "2022-01-26T19:39:17.837Z"
   },
   {
    "duration": 61,
    "start_time": "2022-01-26T19:39:17.880Z"
   },
   {
    "duration": 4,
    "start_time": "2022-01-26T19:39:17.943Z"
   },
   {
    "duration": 567,
    "start_time": "2022-01-26T19:39:17.948Z"
   },
   {
    "duration": 35,
    "start_time": "2022-01-26T19:39:18.518Z"
   },
   {
    "duration": 11,
    "start_time": "2022-01-26T19:39:18.556Z"
   },
   {
    "duration": 660,
    "start_time": "2022-01-26T19:39:18.569Z"
   },
   {
    "duration": 576,
    "start_time": "2022-01-26T19:39:19.231Z"
   },
   {
    "duration": 11,
    "start_time": "2022-01-26T19:39:19.809Z"
   },
   {
    "duration": 391,
    "start_time": "2022-01-26T19:39:19.822Z"
   },
   {
    "duration": 8,
    "start_time": "2022-01-26T19:39:20.215Z"
   },
   {
    "duration": 255,
    "start_time": "2022-01-26T19:39:20.225Z"
   },
   {
    "duration": 10,
    "start_time": "2022-01-26T19:39:20.482Z"
   },
   {
    "duration": 216,
    "start_time": "2022-01-26T19:39:20.508Z"
   },
   {
    "duration": 8,
    "start_time": "2022-01-26T19:39:20.726Z"
   },
   {
    "duration": 223,
    "start_time": "2022-01-26T19:39:20.736Z"
   },
   {
    "duration": 203,
    "start_time": "2022-01-26T19:39:20.962Z"
   },
   {
    "duration": 9,
    "start_time": "2022-01-26T19:39:21.167Z"
   },
   {
    "duration": 183,
    "start_time": "2022-01-26T19:39:21.178Z"
   },
   {
    "duration": 17,
    "start_time": "2022-01-26T19:39:21.362Z"
   },
   {
    "duration": 191,
    "start_time": "2022-01-26T19:39:21.381Z"
   },
   {
    "duration": 18,
    "start_time": "2022-01-26T19:39:21.575Z"
   },
   {
    "duration": 31,
    "start_time": "2022-01-26T19:39:21.595Z"
   },
   {
    "duration": 229,
    "start_time": "2022-01-26T19:39:21.628Z"
   },
   {
    "duration": 10,
    "start_time": "2022-01-26T19:39:21.862Z"
   },
   {
    "duration": 171,
    "start_time": "2022-01-26T19:39:21.874Z"
   },
   {
    "duration": 20,
    "start_time": "2022-01-26T19:39:22.047Z"
   },
   {
    "duration": 5,
    "start_time": "2022-01-26T19:39:22.069Z"
   },
   {
    "duration": 18,
    "start_time": "2022-01-26T19:39:22.076Z"
   },
   {
    "duration": 15,
    "start_time": "2022-01-26T19:39:22.096Z"
   },
   {
    "duration": 15,
    "start_time": "2022-01-26T19:39:22.113Z"
   },
   {
    "duration": 7,
    "start_time": "2022-01-26T19:40:36.942Z"
   },
   {
    "duration": 7,
    "start_time": "2022-01-26T19:40:58.461Z"
   },
   {
    "duration": 7,
    "start_time": "2022-01-26T19:41:01.233Z"
   },
   {
    "duration": 22,
    "start_time": "2022-01-26T19:44:47.920Z"
   },
   {
    "duration": 294,
    "start_time": "2022-01-27T06:56:39.580Z"
   },
   {
    "duration": 885,
    "start_time": "2022-01-27T06:56:46.912Z"
   },
   {
    "duration": 35,
    "start_time": "2022-01-27T06:56:47.799Z"
   },
   {
    "duration": 9,
    "start_time": "2022-01-27T06:56:47.837Z"
   },
   {
    "duration": 12,
    "start_time": "2022-01-27T06:56:47.848Z"
   },
   {
    "duration": 9,
    "start_time": "2022-01-27T06:56:47.862Z"
   },
   {
    "duration": 45,
    "start_time": "2022-01-27T06:56:47.872Z"
   },
   {
    "duration": 11,
    "start_time": "2022-01-27T06:56:47.919Z"
   },
   {
    "duration": 9,
    "start_time": "2022-01-27T06:56:47.933Z"
   },
   {
    "duration": 25,
    "start_time": "2022-01-27T06:56:47.944Z"
   },
   {
    "duration": 21,
    "start_time": "2022-01-27T06:56:47.971Z"
   },
   {
    "duration": 21,
    "start_time": "2022-01-27T06:56:47.994Z"
   },
   {
    "duration": 9,
    "start_time": "2022-01-27T06:56:48.017Z"
   },
   {
    "duration": 10,
    "start_time": "2022-01-27T06:56:48.028Z"
   },
   {
    "duration": 7,
    "start_time": "2022-01-27T06:56:48.040Z"
   },
   {
    "duration": 11,
    "start_time": "2022-01-27T06:56:48.048Z"
   },
   {
    "duration": 7,
    "start_time": "2022-01-27T06:56:48.062Z"
   },
   {
    "duration": 44,
    "start_time": "2022-01-27T06:56:48.071Z"
   },
   {
    "duration": 14,
    "start_time": "2022-01-27T06:56:48.117Z"
   },
   {
    "duration": 12,
    "start_time": "2022-01-27T06:56:48.133Z"
   },
   {
    "duration": 7,
    "start_time": "2022-01-27T06:56:48.147Z"
   },
   {
    "duration": 11,
    "start_time": "2022-01-27T06:56:48.156Z"
   },
   {
    "duration": 44,
    "start_time": "2022-01-27T06:56:48.169Z"
   },
   {
    "duration": 9,
    "start_time": "2022-01-27T06:56:48.219Z"
   },
   {
    "duration": 9,
    "start_time": "2022-01-27T06:56:48.232Z"
   },
   {
    "duration": 25,
    "start_time": "2022-01-27T06:56:48.243Z"
   },
   {
    "duration": 12,
    "start_time": "2022-01-27T06:56:48.308Z"
   },
   {
    "duration": 30,
    "start_time": "2022-01-27T06:56:48.323Z"
   },
   {
    "duration": 19,
    "start_time": "2022-01-27T06:56:48.356Z"
   },
   {
    "duration": 34,
    "start_time": "2022-01-27T06:56:48.408Z"
   },
   {
    "duration": 9,
    "start_time": "2022-01-27T06:56:48.444Z"
   },
   {
    "duration": 24,
    "start_time": "2022-01-27T06:56:48.454Z"
   },
   {
    "duration": 42,
    "start_time": "2022-01-27T06:56:48.481Z"
   },
   {
    "duration": 6,
    "start_time": "2022-01-27T06:56:48.526Z"
   },
   {
    "duration": 29,
    "start_time": "2022-01-27T06:56:48.534Z"
   },
   {
    "duration": 6,
    "start_time": "2022-01-27T06:56:48.565Z"
   },
   {
    "duration": 38,
    "start_time": "2022-01-27T06:56:48.573Z"
   },
   {
    "duration": 14,
    "start_time": "2022-01-27T06:56:48.614Z"
   },
   {
    "duration": 21,
    "start_time": "2022-01-27T06:56:48.629Z"
   },
   {
    "duration": 34,
    "start_time": "2022-01-27T06:56:48.652Z"
   },
   {
    "duration": 20,
    "start_time": "2022-01-27T06:56:48.688Z"
   },
   {
    "duration": 26,
    "start_time": "2022-01-27T06:56:48.711Z"
   },
   {
    "duration": 20,
    "start_time": "2022-01-27T06:56:48.738Z"
   },
   {
    "duration": 4,
    "start_time": "2022-01-27T06:56:48.760Z"
   },
   {
    "duration": 49,
    "start_time": "2022-01-27T06:56:48.766Z"
   },
   {
    "duration": 45,
    "start_time": "2022-01-27T06:56:48.817Z"
   },
   {
    "duration": 3,
    "start_time": "2022-01-27T06:56:48.864Z"
   },
   {
    "duration": 554,
    "start_time": "2022-01-27T06:56:48.869Z"
   },
   {
    "duration": 36,
    "start_time": "2022-01-27T06:56:49.425Z"
   },
   {
    "duration": 10,
    "start_time": "2022-01-27T06:56:49.463Z"
   },
   {
    "duration": 419,
    "start_time": "2022-01-27T06:56:49.475Z"
   },
   {
    "duration": 385,
    "start_time": "2022-01-27T06:56:49.896Z"
   },
   {
    "duration": 10,
    "start_time": "2022-01-27T06:56:50.283Z"
   },
   {
    "duration": 366,
    "start_time": "2022-01-27T06:56:50.295Z"
   },
   {
    "duration": 8,
    "start_time": "2022-01-27T06:56:50.663Z"
   },
   {
    "duration": 251,
    "start_time": "2022-01-27T06:56:50.673Z"
   },
   {
    "duration": 11,
    "start_time": "2022-01-27T06:56:50.926Z"
   },
   {
    "duration": 232,
    "start_time": "2022-01-27T06:56:50.939Z"
   },
   {
    "duration": 9,
    "start_time": "2022-01-27T06:56:51.173Z"
   },
   {
    "duration": 223,
    "start_time": "2022-01-27T06:56:51.184Z"
   },
   {
    "duration": 167,
    "start_time": "2022-01-27T06:56:51.409Z"
   },
   {
    "duration": 9,
    "start_time": "2022-01-27T06:56:51.578Z"
   },
   {
    "duration": 159,
    "start_time": "2022-01-27T06:56:51.588Z"
   },
   {
    "duration": 17,
    "start_time": "2022-01-27T06:56:51.749Z"
   },
   {
    "duration": 168,
    "start_time": "2022-01-27T06:56:51.768Z"
   },
   {
    "duration": 17,
    "start_time": "2022-01-27T06:56:51.938Z"
   },
   {
    "duration": 9,
    "start_time": "2022-01-27T06:56:51.957Z"
   },
   {
    "duration": 217,
    "start_time": "2022-01-27T06:56:51.968Z"
   },
   {
    "duration": 23,
    "start_time": "2022-01-27T06:56:52.190Z"
   },
   {
    "duration": 192,
    "start_time": "2022-01-27T06:56:52.215Z"
   },
   {
    "duration": 29,
    "start_time": "2022-01-27T06:56:52.410Z"
   },
   {
    "duration": 7,
    "start_time": "2022-01-27T06:56:52.441Z"
   },
   {
    "duration": 5,
    "start_time": "2022-01-27T06:56:52.451Z"
   },
   {
    "duration": 7,
    "start_time": "2022-01-27T06:56:52.509Z"
   },
   {
    "duration": 13,
    "start_time": "2022-01-27T06:56:52.519Z"
   },
   {
    "duration": 309,
    "start_time": "2022-01-27T06:56:52.534Z"
   },
   {
    "duration": 5,
    "start_time": "2022-01-27T06:56:52.845Z"
   },
   {
    "duration": 7,
    "start_time": "2022-01-27T06:56:52.908Z"
   },
   {
    "duration": 12,
    "start_time": "2022-01-27T06:56:52.916Z"
   },
   {
    "duration": 25,
    "start_time": "2022-01-27T06:56:52.930Z"
   },
   {
    "duration": 17089,
    "start_time": "2022-01-27T06:58:21.839Z"
   },
   {
    "duration": 415,
    "start_time": "2022-01-27T06:59:22.997Z"
   },
   {
    "duration": 270,
    "start_time": "2022-01-27T06:59:29.884Z"
   },
   {
    "duration": 7,
    "start_time": "2022-01-27T07:12:14.432Z"
   },
   {
    "duration": 293,
    "start_time": "2022-01-27T07:12:31.819Z"
   },
   {
    "duration": 322,
    "start_time": "2022-01-27T07:15:30.592Z"
   },
   {
    "duration": 6319,
    "start_time": "2022-01-27T07:19:41.753Z"
   },
   {
    "duration": 204,
    "start_time": "2022-01-27T07:20:12.043Z"
   },
   {
    "duration": 366,
    "start_time": "2022-01-27T07:20:21.393Z"
   },
   {
    "duration": 335,
    "start_time": "2022-01-27T07:21:18.623Z"
   },
   {
    "duration": 388,
    "start_time": "2022-01-27T07:25:16.202Z"
   },
   {
    "duration": 209,
    "start_time": "2022-01-27T07:25:23.003Z"
   },
   {
    "duration": 384,
    "start_time": "2022-01-27T07:55:49.059Z"
   },
   {
    "duration": 230,
    "start_time": "2022-01-27T07:56:30.660Z"
   },
   {
    "duration": 335,
    "start_time": "2022-01-27T08:05:57.897Z"
   },
   {
    "duration": 365,
    "start_time": "2022-01-27T08:08:35.414Z"
   },
   {
    "duration": 15,
    "start_time": "2022-01-27T08:10:38.155Z"
   },
   {
    "duration": 554,
    "start_time": "2022-01-27T08:10:54.668Z"
   },
   {
    "duration": 669,
    "start_time": "2022-01-27T08:13:58.203Z"
   },
   {
    "duration": 368,
    "start_time": "2022-01-27T08:14:02.098Z"
   },
   {
    "duration": 339,
    "start_time": "2022-01-27T08:14:29.090Z"
   },
   {
    "duration": 360,
    "start_time": "2022-01-27T08:14:47.043Z"
   },
   {
    "duration": 333,
    "start_time": "2022-01-27T08:14:57.530Z"
   },
   {
    "duration": 340,
    "start_time": "2022-01-27T08:15:08.573Z"
   },
   {
    "duration": 166,
    "start_time": "2022-01-27T08:18:34.074Z"
   },
   {
    "duration": 5,
    "start_time": "2022-01-27T08:20:10.361Z"
   },
   {
    "duration": 4,
    "start_time": "2022-01-27T08:20:58.409Z"
   },
   {
    "duration": 4,
    "start_time": "2022-01-27T08:21:03.853Z"
   },
   {
    "duration": 12,
    "start_time": "2022-01-27T08:21:18.460Z"
   },
   {
    "duration": 11,
    "start_time": "2022-01-27T08:21:29.905Z"
   },
   {
    "duration": 861,
    "start_time": "2022-01-27T08:21:53.391Z"
   },
   {
    "duration": 30,
    "start_time": "2022-01-27T08:21:54.254Z"
   },
   {
    "duration": 28,
    "start_time": "2022-01-27T08:21:54.286Z"
   },
   {
    "duration": 12,
    "start_time": "2022-01-27T08:21:54.316Z"
   },
   {
    "duration": 13,
    "start_time": "2022-01-27T08:21:54.330Z"
   },
   {
    "duration": 12,
    "start_time": "2022-01-27T08:21:54.345Z"
   },
   {
    "duration": 10,
    "start_time": "2022-01-27T08:21:54.359Z"
   },
   {
    "duration": 40,
    "start_time": "2022-01-27T08:21:54.372Z"
   },
   {
    "duration": 8,
    "start_time": "2022-01-27T08:21:54.414Z"
   },
   {
    "duration": 10,
    "start_time": "2022-01-27T08:21:54.424Z"
   },
   {
    "duration": 7,
    "start_time": "2022-01-27T08:21:54.436Z"
   },
   {
    "duration": 11,
    "start_time": "2022-01-27T08:21:54.445Z"
   },
   {
    "duration": 12,
    "start_time": "2022-01-27T08:21:54.458Z"
   },
   {
    "duration": 39,
    "start_time": "2022-01-27T08:21:54.472Z"
   },
   {
    "duration": 8,
    "start_time": "2022-01-27T08:21:54.513Z"
   },
   {
    "duration": 8,
    "start_time": "2022-01-27T08:21:54.522Z"
   },
   {
    "duration": 14,
    "start_time": "2022-01-27T08:21:54.532Z"
   },
   {
    "duration": 15,
    "start_time": "2022-01-27T08:21:54.548Z"
   },
   {
    "duration": 11,
    "start_time": "2022-01-27T08:21:54.565Z"
   },
   {
    "duration": 33,
    "start_time": "2022-01-27T08:21:54.577Z"
   },
   {
    "duration": 7,
    "start_time": "2022-01-27T08:21:54.612Z"
   },
   {
    "duration": 6,
    "start_time": "2022-01-27T08:21:54.621Z"
   },
   {
    "duration": 7,
    "start_time": "2022-01-27T08:21:54.632Z"
   },
   {
    "duration": 8,
    "start_time": "2022-01-27T08:21:54.642Z"
   },
   {
    "duration": 62,
    "start_time": "2022-01-27T08:21:54.652Z"
   },
   {
    "duration": 10,
    "start_time": "2022-01-27T08:21:54.716Z"
   },
   {
    "duration": 28,
    "start_time": "2022-01-27T08:21:54.728Z"
   },
   {
    "duration": 17,
    "start_time": "2022-01-27T08:21:54.758Z"
   },
   {
    "duration": 57,
    "start_time": "2022-01-27T08:21:54.777Z"
   },
   {
    "duration": 7,
    "start_time": "2022-01-27T08:21:54.836Z"
   },
   {
    "duration": 26,
    "start_time": "2022-01-27T08:21:54.845Z"
   },
   {
    "duration": 40,
    "start_time": "2022-01-27T08:21:54.873Z"
   },
   {
    "duration": 5,
    "start_time": "2022-01-27T08:21:54.915Z"
   },
   {
    "duration": 14,
    "start_time": "2022-01-27T08:21:54.922Z"
   },
   {
    "duration": 5,
    "start_time": "2022-01-27T08:21:54.938Z"
   },
   {
    "duration": 17,
    "start_time": "2022-01-27T08:21:54.944Z"
   },
   {
    "duration": 45,
    "start_time": "2022-01-27T08:21:54.963Z"
   },
   {
    "duration": 9,
    "start_time": "2022-01-27T08:21:55.010Z"
   },
   {
    "duration": 31,
    "start_time": "2022-01-27T08:21:55.021Z"
   },
   {
    "duration": 3,
    "start_time": "2022-01-27T08:21:55.054Z"
   },
   {
    "duration": 23,
    "start_time": "2022-01-27T08:21:55.058Z"
   },
   {
    "duration": 38,
    "start_time": "2022-01-27T08:21:55.083Z"
   },
   {
    "duration": 8,
    "start_time": "2022-01-27T08:21:55.123Z"
   },
   {
    "duration": 32,
    "start_time": "2022-01-27T08:21:55.133Z"
   },
   {
    "duration": 59,
    "start_time": "2022-01-27T08:21:55.167Z"
   },
   {
    "duration": 3,
    "start_time": "2022-01-27T08:21:55.228Z"
   },
   {
    "duration": 531,
    "start_time": "2022-01-27T08:21:55.233Z"
   },
   {
    "duration": 46,
    "start_time": "2022-01-27T08:21:55.766Z"
   },
   {
    "duration": 10,
    "start_time": "2022-01-27T08:21:55.814Z"
   },
   {
    "duration": 395,
    "start_time": "2022-01-27T08:21:55.825Z"
   },
   {
    "duration": 363,
    "start_time": "2022-01-27T08:21:56.222Z"
   },
   {
    "duration": 21,
    "start_time": "2022-01-27T08:21:56.587Z"
   },
   {
    "duration": 361,
    "start_time": "2022-01-27T08:21:56.609Z"
   },
   {
    "duration": 9,
    "start_time": "2022-01-27T08:21:56.973Z"
   },
   {
    "duration": 240,
    "start_time": "2022-01-27T08:21:56.984Z"
   },
   {
    "duration": 9,
    "start_time": "2022-01-27T08:21:57.226Z"
   },
   {
    "duration": 227,
    "start_time": "2022-01-27T08:21:57.237Z"
   },
   {
    "duration": 9,
    "start_time": "2022-01-27T08:21:57.465Z"
   },
   {
    "duration": 163,
    "start_time": "2022-01-27T08:21:57.476Z"
   },
   {
    "duration": 17,
    "start_time": "2022-01-27T08:21:57.640Z"
   },
   {
    "duration": 356,
    "start_time": "2022-01-27T08:21:57.659Z"
   },
   {
    "duration": 410,
    "start_time": "2022-01-27T08:21:58.017Z"
   },
   {
    "duration": 11,
    "start_time": "2022-01-27T08:21:58.429Z"
   },
   {
    "duration": 178,
    "start_time": "2022-01-27T08:21:58.442Z"
   },
   {
    "duration": 5,
    "start_time": "2022-01-27T08:21:58.622Z"
   },
   {
    "duration": 17,
    "start_time": "2022-01-27T08:21:58.628Z"
   },
   {
    "duration": 177,
    "start_time": "2022-01-27T08:21:58.647Z"
   },
   {
    "duration": 353,
    "start_time": "2022-01-27T08:21:58.829Z"
   },
   {
    "duration": 28,
    "start_time": "2022-01-27T08:21:59.184Z"
   },
   {
    "duration": 11,
    "start_time": "2022-01-27T08:21:59.214Z"
   },
   {
    "duration": 157,
    "start_time": "2022-01-27T08:21:59.227Z"
   },
   {
    "duration": 9,
    "start_time": "2022-01-27T08:21:59.386Z"
   },
   {
    "duration": 149,
    "start_time": "2022-01-27T08:21:59.408Z"
   },
   {
    "duration": 22,
    "start_time": "2022-01-27T08:21:59.560Z"
   },
   {
    "duration": 5,
    "start_time": "2022-01-27T08:21:59.584Z"
   },
   {
    "duration": 319,
    "start_time": "2022-01-27T08:21:59.608Z"
   },
   {
    "duration": 5,
    "start_time": "2022-01-27T08:21:59.929Z"
   },
   {
    "duration": 7,
    "start_time": "2022-01-27T08:21:59.936Z"
   },
   {
    "duration": 12,
    "start_time": "2022-01-27T08:21:59.945Z"
   },
   {
    "duration": 167,
    "start_time": "2022-01-27T08:21:59.958Z"
   },
   {
    "duration": 6,
    "start_time": "2022-01-27T08:22:00.127Z"
   },
   {
    "duration": 30,
    "start_time": "2022-01-27T08:22:00.134Z"
   },
   {
    "duration": 10,
    "start_time": "2022-01-27T08:22:00.165Z"
   },
   {
    "duration": 25,
    "start_time": "2022-01-27T08:22:00.176Z"
   },
   {
    "duration": 14,
    "start_time": "2022-01-27T08:23:05.853Z"
   },
   {
    "duration": 145,
    "start_time": "2022-01-27T08:23:19.543Z"
   },
   {
    "duration": 439,
    "start_time": "2022-01-27T08:24:48.688Z"
   },
   {
    "duration": 4,
    "start_time": "2022-01-27T08:27:14.744Z"
   },
   {
    "duration": 16,
    "start_time": "2022-01-27T08:27:44.545Z"
   },
   {
    "duration": 374,
    "start_time": "2022-01-27T08:28:08.501Z"
   },
   {
    "duration": 5,
    "start_time": "2022-01-27T08:29:45.628Z"
   },
   {
    "duration": 5,
    "start_time": "2022-01-27T08:30:04.262Z"
   },
   {
    "duration": 5,
    "start_time": "2022-01-27T08:30:31.103Z"
   },
   {
    "duration": 17,
    "start_time": "2022-01-27T08:31:13.760Z"
   },
   {
    "duration": 367,
    "start_time": "2022-01-27T08:31:45.384Z"
   },
   {
    "duration": 210,
    "start_time": "2022-01-27T08:31:55.199Z"
   },
   {
    "duration": 264,
    "start_time": "2022-01-27T08:32:54.993Z"
   },
   {
    "duration": 21,
    "start_time": "2022-01-27T08:35:21.392Z"
   },
   {
    "duration": 5,
    "start_time": "2022-01-27T08:39:26.013Z"
   },
   {
    "duration": 268,
    "start_time": "2022-01-27T08:39:29.084Z"
   },
   {
    "duration": 340,
    "start_time": "2022-01-27T08:39:56.901Z"
   },
   {
    "duration": 6,
    "start_time": "2022-01-27T08:40:08.781Z"
   },
   {
    "duration": 6,
    "start_time": "2022-01-27T08:40:11.261Z"
   },
   {
    "duration": 11,
    "start_time": "2022-01-27T08:40:18.357Z"
   },
   {
    "duration": 270,
    "start_time": "2022-01-27T08:43:18.839Z"
   },
   {
    "duration": 162,
    "start_time": "2022-01-27T08:44:00.736Z"
   },
   {
    "duration": 264,
    "start_time": "2022-01-27T08:49:41.946Z"
   },
   {
    "duration": 89,
    "start_time": "2022-01-27T08:54:01.248Z"
   },
   {
    "duration": 234,
    "start_time": "2022-01-27T08:56:50.289Z"
   },
   {
    "duration": 156,
    "start_time": "2022-01-27T09:12:46.821Z"
   },
   {
    "duration": 184,
    "start_time": "2022-01-27T09:13:23.227Z"
   },
   {
    "duration": 173,
    "start_time": "2022-01-27T09:13:41.304Z"
   },
   {
    "duration": 19,
    "start_time": "2022-01-27T09:17:22.207Z"
   },
   {
    "duration": 34,
    "start_time": "2022-01-27T09:26:43.350Z"
   },
   {
    "duration": 270,
    "start_time": "2022-01-27T09:29:44.244Z"
   },
   {
    "duration": 260,
    "start_time": "2022-01-27T09:29:50.228Z"
   },
   {
    "duration": 19,
    "start_time": "2022-01-27T09:30:17.390Z"
   },
   {
    "duration": 19,
    "start_time": "2022-01-27T09:30:37.851Z"
   },
   {
    "duration": 263,
    "start_time": "2022-01-27T09:30:55.560Z"
   },
   {
    "duration": 18,
    "start_time": "2022-01-27T09:31:14.206Z"
   },
   {
    "duration": 23,
    "start_time": "2022-01-27T09:34:34.970Z"
   },
   {
    "duration": 25,
    "start_time": "2022-01-27T09:34:54.938Z"
   },
   {
    "duration": 28,
    "start_time": "2022-01-27T09:35:22.232Z"
   },
   {
    "duration": 29,
    "start_time": "2022-01-27T09:35:46.577Z"
   },
   {
    "duration": 29,
    "start_time": "2022-01-27T09:35:57.851Z"
   },
   {
    "duration": 37,
    "start_time": "2022-01-27T09:39:33.000Z"
   },
   {
    "duration": 22,
    "start_time": "2022-01-27T09:45:21.625Z"
   },
   {
    "duration": 39,
    "start_time": "2022-01-27T09:54:16.732Z"
   },
   {
    "duration": 379,
    "start_time": "2022-01-27T10:00:46.283Z"
   },
   {
    "duration": 8,
    "start_time": "2022-01-27T10:00:55.285Z"
   },
   {
    "duration": 36,
    "start_time": "2022-01-27T10:01:07.141Z"
   },
   {
    "duration": 7,
    "start_time": "2022-01-27T10:02:10.646Z"
   },
   {
    "duration": 7267,
    "start_time": "2022-01-27T10:03:40.143Z"
   },
   {
    "duration": 30,
    "start_time": "2022-01-27T10:04:08.640Z"
   },
   {
    "duration": 268,
    "start_time": "2022-01-27T10:05:11.556Z"
   },
   {
    "duration": 372,
    "start_time": "2022-01-27T10:05:27.545Z"
   },
   {
    "duration": 29,
    "start_time": "2022-01-27T10:05:33.096Z"
   },
   {
    "duration": 335,
    "start_time": "2022-01-27T10:09:20.801Z"
   },
   {
    "duration": 31,
    "start_time": "2022-01-27T10:10:08.231Z"
   },
   {
    "duration": 240,
    "start_time": "2022-01-27T10:12:17.829Z"
   },
   {
    "duration": 436,
    "start_time": "2022-01-27T10:17:39.667Z"
   },
   {
    "duration": 96,
    "start_time": "2022-01-27T10:18:46.086Z"
   },
   {
    "duration": 179,
    "start_time": "2022-01-27T10:19:31.646Z"
   },
   {
    "duration": 2,
    "start_time": "2022-01-27T10:37:15.390Z"
   },
   {
    "duration": 291,
    "start_time": "2022-01-27T10:38:41.690Z"
   },
   {
    "duration": 266,
    "start_time": "2022-01-27T10:38:47.844Z"
   },
   {
    "duration": 360,
    "start_time": "2022-01-27T10:39:31.209Z"
   },
   {
    "duration": 32,
    "start_time": "2022-01-27T10:39:41.615Z"
   },
   {
    "duration": 43,
    "start_time": "2022-01-27T10:40:28.278Z"
   },
   {
    "duration": 216,
    "start_time": "2022-01-27T10:45:18.415Z"
   },
   {
    "duration": 205,
    "start_time": "2022-01-27T10:45:25.839Z"
   },
   {
    "duration": 193,
    "start_time": "2022-01-27T10:45:50.993Z"
   },
   {
    "duration": 194,
    "start_time": "2022-01-27T10:46:05.950Z"
   },
   {
    "duration": 210,
    "start_time": "2022-01-27T10:46:29.547Z"
   },
   {
    "duration": 15,
    "start_time": "2022-01-27T10:47:48.608Z"
   },
   {
    "duration": 33,
    "start_time": "2022-01-27T10:48:22.261Z"
   },
   {
    "duration": 285,
    "start_time": "2022-01-27T10:51:41.990Z"
   },
   {
    "duration": 277,
    "start_time": "2022-01-27T10:52:35.195Z"
   },
   {
    "duration": 280,
    "start_time": "2022-01-27T10:52:53.288Z"
   },
   {
    "duration": 11,
    "start_time": "2022-01-27T10:54:01.361Z"
   },
   {
    "duration": 11,
    "start_time": "2022-01-27T11:18:44.950Z"
   },
   {
    "duration": 393,
    "start_time": "2022-01-27T11:22:58.297Z"
   },
   {
    "duration": 10,
    "start_time": "2022-01-27T11:26:07.595Z"
   },
   {
    "duration": 190,
    "start_time": "2022-01-27T11:27:12.463Z"
   },
   {
    "duration": 204,
    "start_time": "2022-01-27T11:27:19.256Z"
   },
   {
    "duration": 198,
    "start_time": "2022-01-27T11:27:24.277Z"
   },
   {
    "duration": 9,
    "start_time": "2022-01-27T11:27:53.723Z"
   },
   {
    "duration": 287,
    "start_time": "2022-01-27T11:28:02.748Z"
   },
   {
    "duration": 307,
    "start_time": "2022-01-27T11:28:12.878Z"
   },
   {
    "duration": 12,
    "start_time": "2022-01-27T11:32:08.539Z"
   },
   {
    "duration": 11,
    "start_time": "2022-01-27T11:33:07.592Z"
   },
   {
    "duration": 11,
    "start_time": "2022-01-27T11:33:30.894Z"
   },
   {
    "duration": 12,
    "start_time": "2022-01-27T11:36:06.407Z"
   },
   {
    "duration": 11,
    "start_time": "2022-01-27T11:36:56.893Z"
   },
   {
    "duration": 212,
    "start_time": "2022-01-27T11:41:06.181Z"
   },
   {
    "duration": 447,
    "start_time": "2022-01-27T11:42:51.418Z"
   },
   {
    "duration": 217,
    "start_time": "2022-01-27T11:44:25.549Z"
   },
   {
    "duration": 202,
    "start_time": "2022-01-27T11:44:51.680Z"
   },
   {
    "duration": 453,
    "start_time": "2022-01-27T11:46:36.868Z"
   },
   {
    "duration": 538,
    "start_time": "2022-01-27T11:47:26.144Z"
   },
   {
    "duration": 211,
    "start_time": "2022-01-27T11:47:34.356Z"
   },
   {
    "duration": 246,
    "start_time": "2022-01-27T11:49:24.732Z"
   },
   {
    "duration": 243,
    "start_time": "2022-01-27T11:49:40.493Z"
   },
   {
    "duration": 747,
    "start_time": "2022-01-27T11:49:59.546Z"
   },
   {
    "duration": 450,
    "start_time": "2022-01-27T11:50:08.949Z"
   },
   {
    "duration": 494,
    "start_time": "2022-01-27T11:50:11.452Z"
   },
   {
    "duration": 80,
    "start_time": "2022-01-27T11:50:28.066Z"
   },
   {
    "duration": 86,
    "start_time": "2022-01-27T11:50:34.442Z"
   },
   {
    "duration": 82,
    "start_time": "2022-01-27T11:50:45.910Z"
   },
   {
    "duration": 279,
    "start_time": "2022-01-27T11:53:05.549Z"
   },
   {
    "duration": 259,
    "start_time": "2022-01-27T11:53:39.214Z"
   },
   {
    "duration": 489,
    "start_time": "2022-01-27T11:53:51.030Z"
   },
   {
    "duration": 489,
    "start_time": "2022-01-27T11:54:21.612Z"
   },
   {
    "duration": 605,
    "start_time": "2022-01-27T11:55:21.113Z"
   },
   {
    "duration": 95,
    "start_time": "2022-01-27T11:55:38.525Z"
   },
   {
    "duration": 536,
    "start_time": "2022-01-27T11:55:47.071Z"
   },
   {
    "duration": 482,
    "start_time": "2022-01-27T11:56:04.005Z"
   },
   {
    "duration": 516,
    "start_time": "2022-01-27T11:56:14.675Z"
   },
   {
    "duration": 480,
    "start_time": "2022-01-27T11:56:39.647Z"
   },
   {
    "duration": 259,
    "start_time": "2022-01-27T11:57:02.524Z"
   },
   {
    "duration": 476,
    "start_time": "2022-01-27T11:57:08.715Z"
   },
   {
    "duration": 206,
    "start_time": "2022-01-27T12:02:30.297Z"
   },
   {
    "duration": 203,
    "start_time": "2022-01-27T12:02:46.227Z"
   },
   {
    "duration": 205,
    "start_time": "2022-01-27T12:02:53.773Z"
   },
   {
    "duration": 444,
    "start_time": "2022-01-27T12:06:13.050Z"
   },
   {
    "duration": 261,
    "start_time": "2022-01-27T12:09:44.624Z"
   },
   {
    "duration": 230,
    "start_time": "2022-01-27T12:10:21.837Z"
   },
   {
    "duration": 92,
    "start_time": "2022-01-27T12:10:43.040Z"
   },
   {
    "duration": 263,
    "start_time": "2022-01-27T12:10:52.853Z"
   },
   {
    "duration": 269,
    "start_time": "2022-01-27T12:10:59.930Z"
   },
   {
    "duration": 253,
    "start_time": "2022-01-27T12:13:40.434Z"
   },
   {
    "duration": 243,
    "start_time": "2022-01-27T12:13:49.564Z"
   },
   {
    "duration": 221,
    "start_time": "2022-01-27T12:14:09.020Z"
   },
   {
    "duration": 1571,
    "start_time": "2022-02-04T19:48:17.550Z"
   },
   {
    "duration": 41,
    "start_time": "2022-02-04T19:48:31.770Z"
   },
   {
    "duration": 33,
    "start_time": "2022-02-04T19:58:32.922Z"
   },
   {
    "duration": 94,
    "start_time": "2022-02-04T19:59:14.761Z"
   },
   {
    "duration": 33,
    "start_time": "2022-02-04T20:02:50.340Z"
   },
   {
    "duration": 28,
    "start_time": "2022-02-04T20:02:53.050Z"
   },
   {
    "duration": 45,
    "start_time": "2022-02-04T20:03:17.310Z"
   },
   {
    "duration": 97,
    "start_time": "2022-02-04T20:04:23.257Z"
   },
   {
    "duration": 92,
    "start_time": "2022-02-04T20:07:35.514Z"
   },
   {
    "duration": 93,
    "start_time": "2022-02-04T20:13:11.100Z"
   },
   {
    "duration": 440,
    "start_time": "2022-02-04T20:13:38.850Z"
   },
   {
    "duration": 18,
    "start_time": "2022-02-04T20:14:26.180Z"
   },
   {
    "duration": 25,
    "start_time": "2022-02-04T20:16:16.221Z"
   },
   {
    "duration": 5,
    "start_time": "2022-02-04T20:16:33.647Z"
   },
   {
    "duration": 20,
    "start_time": "2022-02-04T20:16:39.850Z"
   },
   {
    "duration": 25,
    "start_time": "2022-02-04T20:16:48.920Z"
   },
   {
    "duration": 91,
    "start_time": "2022-02-04T20:24:26.877Z"
   },
   {
    "duration": 10,
    "start_time": "2022-02-04T20:24:43.043Z"
   },
   {
    "duration": 45,
    "start_time": "2022-02-04T20:25:56.995Z"
   },
   {
    "duration": 62,
    "start_time": "2022-02-04T20:26:22.293Z"
   },
   {
    "duration": 4,
    "start_time": "2022-02-04T20:26:43.323Z"
   },
   {
    "duration": 851,
    "start_time": "2022-02-04T20:26:48.782Z"
   },
   {
    "duration": 55,
    "start_time": "2022-02-04T20:26:54.533Z"
   },
   {
    "duration": 23,
    "start_time": "2022-02-04T20:35:49.805Z"
   },
   {
    "duration": 559,
    "start_time": "2022-02-04T20:35:51.954Z"
   },
   {
    "duration": 13,
    "start_time": "2022-02-04T20:35:58.362Z"
   },
   {
    "duration": 197,
    "start_time": "2022-02-04T20:36:01.592Z"
   },
   {
    "duration": 6,
    "start_time": "2022-02-04T20:36:11.395Z"
   },
   {
    "duration": 23,
    "start_time": "2022-02-04T20:36:12.054Z"
   },
   {
    "duration": 978,
    "start_time": "2022-02-04T20:36:14.762Z"
   },
   {
    "duration": 12,
    "start_time": "2022-02-04T20:36:22.173Z"
   },
   {
    "duration": 233,
    "start_time": "2022-02-04T20:36:23.044Z"
   },
   {
    "duration": 6,
    "start_time": "2022-02-04T20:36:35.266Z"
   },
   {
    "duration": 18,
    "start_time": "2022-02-04T20:36:36.978Z"
   },
   {
    "duration": 405,
    "start_time": "2022-02-04T20:37:13.083Z"
   },
   {
    "duration": 19,
    "start_time": "2022-02-04T20:37:22.442Z"
   },
   {
    "duration": 408,
    "start_time": "2022-02-04T20:37:26.045Z"
   },
   {
    "duration": 23,
    "start_time": "2022-02-04T20:38:38.805Z"
   },
   {
    "duration": 8,
    "start_time": "2022-02-04T20:39:51.664Z"
   },
   {
    "duration": 343,
    "start_time": "2022-02-04T20:39:53.643Z"
   },
   {
    "duration": 7,
    "start_time": "2022-02-04T20:40:18.423Z"
   },
   {
    "duration": 267,
    "start_time": "2022-02-04T20:40:39.104Z"
   },
   {
    "duration": 7,
    "start_time": "2022-02-04T20:40:44.563Z"
   },
   {
    "duration": 338,
    "start_time": "2022-02-04T20:40:45.263Z"
   },
   {
    "duration": 95,
    "start_time": "2022-02-04T20:46:53.205Z"
   },
   {
    "duration": 37,
    "start_time": "2022-02-04T20:47:03.334Z"
   },
   {
    "duration": 1637,
    "start_time": "2022-02-04T20:47:35.688Z"
   },
   {
    "duration": 42,
    "start_time": "2022-02-04T20:47:37.333Z"
   },
   {
    "duration": 10,
    "start_time": "2022-02-04T20:47:37.378Z"
   },
   {
    "duration": 41,
    "start_time": "2022-02-04T20:47:37.391Z"
   },
   {
    "duration": 10,
    "start_time": "2022-02-04T20:47:37.434Z"
   },
   {
    "duration": 12,
    "start_time": "2022-02-04T20:47:37.447Z"
   },
   {
    "duration": 8,
    "start_time": "2022-02-04T20:47:37.462Z"
   },
   {
    "duration": 8,
    "start_time": "2022-02-04T20:47:37.474Z"
   },
   {
    "duration": 50,
    "start_time": "2022-02-04T20:47:37.485Z"
   },
   {
    "duration": 10,
    "start_time": "2022-02-04T20:47:37.537Z"
   },
   {
    "duration": 9,
    "start_time": "2022-02-04T20:47:37.549Z"
   },
   {
    "duration": 11,
    "start_time": "2022-02-04T20:47:37.561Z"
   },
   {
    "duration": 57,
    "start_time": "2022-02-04T20:47:37.574Z"
   },
   {
    "duration": 8,
    "start_time": "2022-02-04T20:47:37.634Z"
   },
   {
    "duration": 11,
    "start_time": "2022-02-04T20:47:37.645Z"
   },
   {
    "duration": 9,
    "start_time": "2022-02-04T20:47:37.658Z"
   },
   {
    "duration": 11,
    "start_time": "2022-02-04T20:47:37.669Z"
   },
   {
    "duration": 56,
    "start_time": "2022-02-04T20:47:37.683Z"
   },
   {
    "duration": 10,
    "start_time": "2022-02-04T20:47:37.742Z"
   },
   {
    "duration": 8,
    "start_time": "2022-02-04T20:47:37.754Z"
   },
   {
    "duration": 9,
    "start_time": "2022-02-04T20:47:37.764Z"
   },
   {
    "duration": 8,
    "start_time": "2022-02-04T20:47:37.775Z"
   },
   {
    "duration": 9,
    "start_time": "2022-02-04T20:47:37.834Z"
   },
   {
    "duration": 10,
    "start_time": "2022-02-04T20:47:37.847Z"
   },
   {
    "duration": 92,
    "start_time": "2022-02-04T20:47:37.860Z"
   },
   {
    "duration": -598,
    "start_time": "2022-02-04T20:47:38.555Z"
   },
   {
    "duration": -611,
    "start_time": "2022-02-04T20:47:38.569Z"
   },
   {
    "duration": -616,
    "start_time": "2022-02-04T20:47:38.575Z"
   },
   {
    "duration": -620,
    "start_time": "2022-02-04T20:47:38.581Z"
   },
   {
    "duration": -626,
    "start_time": "2022-02-04T20:47:38.588Z"
   },
   {
    "duration": -648,
    "start_time": "2022-02-04T20:47:38.612Z"
   },
   {
    "duration": -665,
    "start_time": "2022-02-04T20:47:38.630Z"
   },
   {
    "duration": -679,
    "start_time": "2022-02-04T20:47:38.645Z"
   },
   {
    "duration": -694,
    "start_time": "2022-02-04T20:47:38.662Z"
   },
   {
    "duration": -708,
    "start_time": "2022-02-04T20:47:38.677Z"
   },
   {
    "duration": -724,
    "start_time": "2022-02-04T20:47:38.694Z"
   },
   {
    "duration": -739,
    "start_time": "2022-02-04T20:47:38.710Z"
   },
   {
    "duration": -754,
    "start_time": "2022-02-04T20:47:38.727Z"
   },
   {
    "duration": -768,
    "start_time": "2022-02-04T20:47:38.742Z"
   },
   {
    "duration": -775,
    "start_time": "2022-02-04T20:47:38.750Z"
   },
   {
    "duration": -788,
    "start_time": "2022-02-04T20:47:38.765Z"
   },
   {
    "duration": -803,
    "start_time": "2022-02-04T20:47:38.781Z"
   },
   {
    "duration": -818,
    "start_time": "2022-02-04T20:47:38.797Z"
   },
   {
    "duration": -824,
    "start_time": "2022-02-04T20:47:38.805Z"
   },
   {
    "duration": -828,
    "start_time": "2022-02-04T20:47:38.811Z"
   },
   {
    "duration": -833,
    "start_time": "2022-02-04T20:47:38.818Z"
   },
   {
    "duration": -837,
    "start_time": "2022-02-04T20:47:38.823Z"
   },
   {
    "duration": -843,
    "start_time": "2022-02-04T20:47:38.831Z"
   },
   {
    "duration": -847,
    "start_time": "2022-02-04T20:47:38.836Z"
   },
   {
    "duration": -853,
    "start_time": "2022-02-04T20:47:38.843Z"
   },
   {
    "duration": -858,
    "start_time": "2022-02-04T20:47:38.849Z"
   },
   {
    "duration": -824,
    "start_time": "2022-02-04T20:47:38.856Z"
   },
   {
    "duration": -828,
    "start_time": "2022-02-04T20:47:38.862Z"
   },
   {
    "duration": -833,
    "start_time": "2022-02-04T20:47:38.868Z"
   },
   {
    "duration": -837,
    "start_time": "2022-02-04T20:47:38.874Z"
   },
   {
    "duration": -842,
    "start_time": "2022-02-04T20:47:38.881Z"
   },
   {
    "duration": -846,
    "start_time": "2022-02-04T20:47:38.886Z"
   },
   {
    "duration": -851,
    "start_time": "2022-02-04T20:47:38.893Z"
   },
   {
    "duration": -867,
    "start_time": "2022-02-04T20:47:38.910Z"
   },
   {
    "duration": -874,
    "start_time": "2022-02-04T20:47:38.919Z"
   },
   {
    "duration": -879,
    "start_time": "2022-02-04T20:47:38.925Z"
   },
   {
    "duration": -884,
    "start_time": "2022-02-04T20:47:38.932Z"
   },
   {
    "duration": -888,
    "start_time": "2022-02-04T20:47:38.937Z"
   },
   {
    "duration": -894,
    "start_time": "2022-02-04T20:47:38.945Z"
   },
   {
    "duration": -899,
    "start_time": "2022-02-04T20:47:38.951Z"
   },
   {
    "duration": -904,
    "start_time": "2022-02-04T20:47:38.957Z"
   },
   {
    "duration": -907,
    "start_time": "2022-02-04T20:47:38.962Z"
   },
   {
    "duration": -913,
    "start_time": "2022-02-04T20:47:38.969Z"
   },
   {
    "duration": -917,
    "start_time": "2022-02-04T20:47:38.975Z"
   },
   {
    "duration": -922,
    "start_time": "2022-02-04T20:47:38.981Z"
   },
   {
    "duration": -925,
    "start_time": "2022-02-04T20:47:38.986Z"
   },
   {
    "duration": -931,
    "start_time": "2022-02-04T20:47:38.993Z"
   },
   {
    "duration": -934,
    "start_time": "2022-02-04T20:47:38.998Z"
   },
   {
    "duration": -939,
    "start_time": "2022-02-04T20:47:39.005Z"
   },
   {
    "duration": -953,
    "start_time": "2022-02-04T20:47:39.020Z"
   },
   {
    "duration": -958,
    "start_time": "2022-02-04T20:47:39.027Z"
   },
   {
    "duration": -963,
    "start_time": "2022-02-04T20:47:39.033Z"
   },
   {
    "duration": -967,
    "start_time": "2022-02-04T20:47:39.039Z"
   },
   {
    "duration": -972,
    "start_time": "2022-02-04T20:47:39.045Z"
   },
   {
    "duration": -978,
    "start_time": "2022-02-04T20:47:39.052Z"
   },
   {
    "duration": -926,
    "start_time": "2022-02-04T20:47:39.058Z"
   },
   {
    "duration": -932,
    "start_time": "2022-02-04T20:47:39.065Z"
   },
   {
    "duration": -936,
    "start_time": "2022-02-04T20:47:39.071Z"
   },
   {
    "duration": -944,
    "start_time": "2022-02-04T20:47:39.081Z"
   },
   {
    "duration": -967,
    "start_time": "2022-02-04T20:47:39.105Z"
   },
   {
    "duration": -993,
    "start_time": "2022-02-04T20:47:39.133Z"
   },
   {
    "duration": -1010,
    "start_time": "2022-02-04T20:47:39.151Z"
   },
   {
    "duration": -1036,
    "start_time": "2022-02-04T20:47:39.179Z"
   },
   {
    "duration": -1052,
    "start_time": "2022-02-04T20:47:39.197Z"
   },
   {
    "duration": -1069,
    "start_time": "2022-02-04T20:47:39.215Z"
   },
   {
    "duration": -1085,
    "start_time": "2022-02-04T20:47:39.233Z"
   },
   {
    "duration": -1092,
    "start_time": "2022-02-04T20:47:39.241Z"
   },
   {
    "duration": -1097,
    "start_time": "2022-02-04T20:47:39.248Z"
   },
   {
    "duration": -1104,
    "start_time": "2022-02-04T20:47:39.256Z"
   },
   {
    "duration": -1109,
    "start_time": "2022-02-04T20:47:39.263Z"
   },
   {
    "duration": -1115,
    "start_time": "2022-02-04T20:47:39.270Z"
   },
   {
    "duration": -1119,
    "start_time": "2022-02-04T20:47:39.276Z"
   },
   {
    "duration": -1125,
    "start_time": "2022-02-04T20:47:39.283Z"
   },
   {
    "duration": -1129,
    "start_time": "2022-02-04T20:47:39.289Z"
   },
   {
    "duration": -1135,
    "start_time": "2022-02-04T20:47:39.296Z"
   },
   {
    "duration": -1139,
    "start_time": "2022-02-04T20:47:39.302Z"
   },
   {
    "duration": -1144,
    "start_time": "2022-02-04T20:47:39.309Z"
   },
   {
    "duration": -1149,
    "start_time": "2022-02-04T20:47:39.315Z"
   },
   {
    "duration": -1154,
    "start_time": "2022-02-04T20:47:39.322Z"
   },
   {
    "duration": -1159,
    "start_time": "2022-02-04T20:47:39.328Z"
   },
   {
    "duration": -1120,
    "start_time": "2022-02-04T20:47:39.351Z"
   },
   {
    "duration": -1124,
    "start_time": "2022-02-04T20:47:39.357Z"
   },
   {
    "duration": -1140,
    "start_time": "2022-02-04T20:47:39.375Z"
   },
   {
    "duration": -1162,
    "start_time": "2022-02-04T20:47:39.399Z"
   },
   {
    "duration": -1178,
    "start_time": "2022-02-04T20:47:39.416Z"
   },
   {
    "duration": -1192,
    "start_time": "2022-02-04T20:47:39.432Z"
   },
   {
    "duration": -1207,
    "start_time": "2022-02-04T20:47:39.448Z"
   },
   {
    "duration": -1221,
    "start_time": "2022-02-04T20:47:39.464Z"
   },
   {
    "duration": -1226,
    "start_time": "2022-02-04T20:47:39.471Z"
   },
   {
    "duration": -1231,
    "start_time": "2022-02-04T20:47:39.477Z"
   },
   {
    "duration": -1236,
    "start_time": "2022-02-04T20:47:39.484Z"
   },
   {
    "duration": 1589,
    "start_time": "2022-02-04T20:48:42.852Z"
   },
   {
    "duration": 42,
    "start_time": "2022-02-04T20:48:44.444Z"
   },
   {
    "duration": 14,
    "start_time": "2022-02-04T20:48:44.490Z"
   },
   {
    "duration": 27,
    "start_time": "2022-02-04T20:48:44.507Z"
   },
   {
    "duration": 10,
    "start_time": "2022-02-04T20:48:44.536Z"
   },
   {
    "duration": 12,
    "start_time": "2022-02-04T20:48:44.549Z"
   },
   {
    "duration": 8,
    "start_time": "2022-02-04T20:48:44.564Z"
   },
   {
    "duration": 9,
    "start_time": "2022-02-04T20:48:44.575Z"
   },
   {
    "duration": 10,
    "start_time": "2022-02-04T20:48:44.634Z"
   },
   {
    "duration": 10,
    "start_time": "2022-02-04T20:48:44.647Z"
   },
   {
    "duration": 12,
    "start_time": "2022-02-04T20:48:44.660Z"
   },
   {
    "duration": 14,
    "start_time": "2022-02-04T20:48:44.674Z"
   },
   {
    "duration": 43,
    "start_time": "2022-02-04T20:48:44.690Z"
   },
   {
    "duration": 9,
    "start_time": "2022-02-04T20:48:44.736Z"
   },
   {
    "duration": 20,
    "start_time": "2022-02-04T20:48:44.747Z"
   },
   {
    "duration": 8,
    "start_time": "2022-02-04T20:48:44.770Z"
   },
   {
    "duration": 11,
    "start_time": "2022-02-04T20:48:44.780Z"
   },
   {
    "duration": 50,
    "start_time": "2022-02-04T20:48:44.793Z"
   },
   {
    "duration": 9,
    "start_time": "2022-02-04T20:48:44.846Z"
   },
   {
    "duration": 14,
    "start_time": "2022-02-04T20:48:44.858Z"
   },
   {
    "duration": 13,
    "start_time": "2022-02-04T20:48:44.874Z"
   },
   {
    "duration": 8,
    "start_time": "2022-02-04T20:48:44.890Z"
   },
   {
    "duration": 40,
    "start_time": "2022-02-04T20:48:44.900Z"
   },
   {
    "duration": 10,
    "start_time": "2022-02-04T20:48:44.942Z"
   },
   {
    "duration": 35,
    "start_time": "2022-02-04T20:48:44.954Z"
   },
   {
    "duration": 48,
    "start_time": "2022-02-04T20:48:44.991Z"
   },
   {
    "duration": 38,
    "start_time": "2022-02-04T20:48:45.047Z"
   },
   {
    "duration": 20,
    "start_time": "2022-02-04T20:48:45.089Z"
   },
   {
    "duration": 59,
    "start_time": "2022-02-04T20:48:45.111Z"
   },
   {
    "duration": 9,
    "start_time": "2022-02-04T20:48:45.173Z"
   },
   {
    "duration": 56,
    "start_time": "2022-02-04T20:48:45.185Z"
   },
   {
    "duration": 21,
    "start_time": "2022-02-04T20:48:45.243Z"
   },
   {
    "duration": 6,
    "start_time": "2022-02-04T20:48:45.266Z"
   },
   {
    "duration": 18,
    "start_time": "2022-02-04T20:48:45.275Z"
   },
   {
    "duration": 41,
    "start_time": "2022-02-04T20:48:45.295Z"
   },
   {
    "duration": 20,
    "start_time": "2022-02-04T20:48:45.338Z"
   },
   {
    "duration": 18,
    "start_time": "2022-02-04T20:48:45.361Z"
   },
   {
    "duration": 11,
    "start_time": "2022-02-04T20:48:45.381Z"
   },
   {
    "duration": 72,
    "start_time": "2022-02-04T20:48:45.395Z"
   },
   {
    "duration": 3,
    "start_time": "2022-02-04T20:48:45.469Z"
   },
   {
    "duration": 22,
    "start_time": "2022-02-04T20:48:45.475Z"
   },
   {
    "duration": 56,
    "start_time": "2022-02-04T20:48:45.500Z"
   },
   {
    "duration": 8,
    "start_time": "2022-02-04T20:48:45.558Z"
   },
   {
    "duration": 41,
    "start_time": "2022-02-04T20:48:45.568Z"
   },
   {
    "duration": 76,
    "start_time": "2022-02-04T20:48:45.612Z"
   },
   {
    "duration": 5,
    "start_time": "2022-02-04T20:48:45.691Z"
   },
   {
    "duration": 838,
    "start_time": "2022-02-04T20:48:45.700Z"
   },
   {
    "duration": 47,
    "start_time": "2022-02-04T20:48:46.541Z"
   },
   {
    "duration": 45,
    "start_time": "2022-02-04T20:48:46.592Z"
   },
   {
    "duration": 543,
    "start_time": "2022-02-04T20:48:46.640Z"
   },
   {
    "duration": 554,
    "start_time": "2022-02-04T20:48:47.186Z"
   },
   {
    "duration": 12,
    "start_time": "2022-02-04T20:48:47.742Z"
   },
   {
    "duration": 636,
    "start_time": "2022-02-04T20:48:47.756Z"
   },
   {
    "duration": 12,
    "start_time": "2022-02-04T20:48:48.395Z"
   },
   {
    "duration": 371,
    "start_time": "2022-02-04T20:48:48.409Z"
   },
   {
    "duration": 12,
    "start_time": "2022-02-04T20:48:48.783Z"
   },
   {
    "duration": 350,
    "start_time": "2022-02-04T20:48:48.797Z"
   },
   {
    "duration": 11,
    "start_time": "2022-02-04T20:48:49.150Z"
   },
   {
    "duration": 258,
    "start_time": "2022-02-04T20:48:49.164Z"
   },
   {
    "duration": 26,
    "start_time": "2022-02-04T20:48:49.424Z"
   },
   {
    "duration": 571,
    "start_time": "2022-02-04T20:48:49.452Z"
   },
   {
    "duration": 541,
    "start_time": "2022-02-04T20:48:50.025Z"
   },
   {
    "duration": 11,
    "start_time": "2022-02-04T20:48:50.568Z"
   },
   {
    "duration": 256,
    "start_time": "2022-02-04T20:48:50.581Z"
   },
   {
    "duration": 5,
    "start_time": "2022-02-04T20:48:50.839Z"
   },
   {
    "duration": 24,
    "start_time": "2022-02-04T20:48:50.846Z"
   },
   {
    "duration": 661,
    "start_time": "2022-02-04T20:48:50.873Z"
   },
   {
    "duration": 12,
    "start_time": "2022-02-04T20:48:51.537Z"
   },
   {
    "duration": 217,
    "start_time": "2022-02-04T20:48:51.552Z"
   },
   {
    "duration": 5,
    "start_time": "2022-02-04T20:48:51.772Z"
   },
   {
    "duration": 21,
    "start_time": "2022-02-04T20:48:51.779Z"
   },
   {
    "duration": 579,
    "start_time": "2022-02-04T20:48:51.803Z"
   },
   {
    "duration": 12,
    "start_time": "2022-02-04T20:48:52.384Z"
   },
   {
    "duration": 227,
    "start_time": "2022-02-04T20:48:52.398Z"
   },
   {
    "duration": 6,
    "start_time": "2022-02-04T20:48:52.633Z"
   },
   {
    "duration": 24,
    "start_time": "2022-02-04T20:48:52.642Z"
   },
   {
    "duration": 444,
    "start_time": "2022-02-04T20:48:52.668Z"
   },
   {
    "duration": 39,
    "start_time": "2022-02-04T20:48:53.115Z"
   },
   {
    "duration": 7,
    "start_time": "2022-02-04T20:48:53.157Z"
   },
   {
    "duration": 429,
    "start_time": "2022-02-04T20:48:53.167Z"
   },
   {
    "duration": 7,
    "start_time": "2022-02-04T20:48:53.604Z"
   },
   {
    "duration": 259,
    "start_time": "2022-02-04T20:48:53.634Z"
   },
   {
    "duration": 6,
    "start_time": "2022-02-04T20:48:53.896Z"
   },
   {
    "duration": 389,
    "start_time": "2022-02-04T20:48:53.904Z"
   },
   {
    "duration": 12,
    "start_time": "2022-02-04T20:48:54.296Z"
   },
   {
    "duration": 228,
    "start_time": "2022-02-04T20:48:54.311Z"
   },
   {
    "duration": 6,
    "start_time": "2022-02-04T20:48:54.542Z"
   },
   {
    "duration": 253,
    "start_time": "2022-02-04T20:48:54.551Z"
   },
   {
    "duration": 9,
    "start_time": "2022-02-04T20:48:54.806Z"
   },
   {
    "duration": 297,
    "start_time": "2022-02-04T20:48:54.817Z"
   },
   {
    "duration": 16,
    "start_time": "2022-02-04T20:48:55.117Z"
   },
   {
    "duration": 270,
    "start_time": "2022-02-04T20:48:55.136Z"
   },
   {
    "duration": 32,
    "start_time": "2022-02-04T20:48:55.409Z"
   },
   {
    "duration": 39,
    "start_time": "2022-02-04T20:48:55.444Z"
   },
   {
    "duration": 10,
    "start_time": "2022-02-04T20:48:55.485Z"
   },
   {
    "duration": 189,
    "start_time": "2022-02-04T20:48:55.498Z"
   },
   {
    "duration": 52,
    "start_time": "2022-02-04T20:48:55.689Z"
   },
   {
    "duration": 339,
    "start_time": "2022-02-04T20:48:55.744Z"
   },
   {
    "duration": 372,
    "start_time": "2022-02-04T20:48:56.086Z"
   },
   {
    "duration": 48,
    "start_time": "2022-02-04T20:48:56.461Z"
   },
   {
    "duration": 28,
    "start_time": "2022-02-04T20:48:56.511Z"
   },
   {
    "duration": 405,
    "start_time": "2022-02-04T20:48:56.542Z"
   },
   {
    "duration": 11,
    "start_time": "2022-02-04T20:48:56.949Z"
   },
   {
    "duration": 458,
    "start_time": "2022-02-04T20:48:56.963Z"
   },
   {
    "duration": 19,
    "start_time": "2022-02-04T20:48:57.424Z"
   },
   {
    "duration": 287,
    "start_time": "2022-02-04T20:48:57.445Z"
   },
   {
    "duration": 11,
    "start_time": "2022-02-04T20:48:57.735Z"
   },
   {
    "duration": 339,
    "start_time": "2022-02-04T20:48:57.749Z"
   },
   {
    "duration": 14,
    "start_time": "2022-02-04T20:48:58.091Z"
   },
   {
    "duration": 37,
    "start_time": "2022-02-04T20:48:58.107Z"
   },
   {
    "duration": 628,
    "start_time": "2022-02-04T20:48:58.147Z"
   },
   {
    "duration": 317,
    "start_time": "2022-02-04T20:48:58.777Z"
   },
   {
    "duration": 328,
    "start_time": "2022-02-04T20:48:59.096Z"
   },
   {
    "duration": 367,
    "start_time": "2022-02-04T20:48:59.427Z"
   },
   {
    "duration": 329,
    "start_time": "2022-02-04T20:48:59.797Z"
   },
   {
    "duration": 1713,
    "start_time": "2022-02-05T07:22:43.007Z"
   },
   {
    "duration": 49,
    "start_time": "2022-02-05T07:22:44.722Z"
   },
   {
    "duration": 13,
    "start_time": "2022-02-05T07:22:44.774Z"
   },
   {
    "duration": 13,
    "start_time": "2022-02-05T07:22:44.789Z"
   },
   {
    "duration": 36,
    "start_time": "2022-02-05T07:22:44.804Z"
   },
   {
    "duration": 13,
    "start_time": "2022-02-05T07:22:44.843Z"
   },
   {
    "duration": 8,
    "start_time": "2022-02-05T07:22:44.858Z"
   },
   {
    "duration": 9,
    "start_time": "2022-02-05T07:22:44.869Z"
   },
   {
    "duration": 54,
    "start_time": "2022-02-05T07:22:44.880Z"
   },
   {
    "duration": 9,
    "start_time": "2022-02-05T07:22:44.936Z"
   },
   {
    "duration": 7,
    "start_time": "2022-02-05T07:22:44.948Z"
   },
   {
    "duration": 9,
    "start_time": "2022-02-05T07:22:44.957Z"
   },
   {
    "duration": 8,
    "start_time": "2022-02-05T07:22:44.969Z"
   },
   {
    "duration": 9,
    "start_time": "2022-02-05T07:22:44.979Z"
   },
   {
    "duration": 11,
    "start_time": "2022-02-05T07:22:45.033Z"
   },
   {
    "duration": 14,
    "start_time": "2022-02-05T07:22:45.046Z"
   },
   {
    "duration": 11,
    "start_time": "2022-02-05T07:22:45.062Z"
   },
   {
    "duration": 15,
    "start_time": "2022-02-05T07:22:45.075Z"
   },
   {
    "duration": 47,
    "start_time": "2022-02-05T07:22:45.092Z"
   },
   {
    "duration": 8,
    "start_time": "2022-02-05T07:22:45.141Z"
   },
   {
    "duration": 12,
    "start_time": "2022-02-05T07:22:45.151Z"
   },
   {
    "duration": 9,
    "start_time": "2022-02-05T07:22:45.166Z"
   },
   {
    "duration": 9,
    "start_time": "2022-02-05T07:22:45.181Z"
   },
   {
    "duration": 46,
    "start_time": "2022-02-05T07:22:45.194Z"
   },
   {
    "duration": 322,
    "start_time": "2022-02-05T07:22:45.242Z"
   },
   {
    "duration": 825,
    "start_time": "2022-02-05T07:22:44.745Z"
   },
   {
    "duration": 819,
    "start_time": "2022-02-05T07:22:44.753Z"
   },
   {
    "duration": 816,
    "start_time": "2022-02-05T07:22:44.759Z"
   },
   {
    "duration": 811,
    "start_time": "2022-02-05T07:22:44.766Z"
   },
   {
    "duration": 806,
    "start_time": "2022-02-05T07:22:44.773Z"
   },
   {
    "duration": 803,
    "start_time": "2022-02-05T07:22:44.779Z"
   },
   {
    "duration": 798,
    "start_time": "2022-02-05T07:22:44.786Z"
   },
   {
    "duration": 792,
    "start_time": "2022-02-05T07:22:44.794Z"
   },
   {
    "duration": 789,
    "start_time": "2022-02-05T07:22:44.800Z"
   },
   {
    "duration": 785,
    "start_time": "2022-02-05T07:22:44.806Z"
   },
   {
    "duration": 782,
    "start_time": "2022-02-05T07:22:44.811Z"
   },
   {
    "duration": 775,
    "start_time": "2022-02-05T07:22:44.820Z"
   },
   {
    "duration": 771,
    "start_time": "2022-02-05T07:22:44.826Z"
   },
   {
    "duration": 765,
    "start_time": "2022-02-05T07:22:44.834Z"
   },
   {
    "duration": 743,
    "start_time": "2022-02-05T07:22:44.859Z"
   },
   {
    "duration": 738,
    "start_time": "2022-02-05T07:22:44.866Z"
   },
   {
    "duration": 734,
    "start_time": "2022-02-05T07:22:44.872Z"
   },
   {
    "duration": 730,
    "start_time": "2022-02-05T07:22:44.878Z"
   },
   {
    "duration": 724,
    "start_time": "2022-02-05T07:22:44.885Z"
   },
   {
    "duration": 719,
    "start_time": "2022-02-05T07:22:44.891Z"
   },
   {
    "duration": 736,
    "start_time": "2022-02-05T07:22:44.896Z"
   },
   {
    "duration": 731,
    "start_time": "2022-02-05T07:22:44.904Z"
   },
   {
    "duration": 727,
    "start_time": "2022-02-05T07:22:44.910Z"
   },
   {
    "duration": 723,
    "start_time": "2022-02-05T07:22:44.916Z"
   },
   {
    "duration": 720,
    "start_time": "2022-02-05T07:22:44.921Z"
   },
   {
    "duration": 717,
    "start_time": "2022-02-05T07:22:44.927Z"
   },
   {
    "duration": 713,
    "start_time": "2022-02-05T07:22:44.933Z"
   },
   {
    "duration": 710,
    "start_time": "2022-02-05T07:22:44.938Z"
   },
   {
    "duration": 707,
    "start_time": "2022-02-05T07:22:44.944Z"
   },
   {
    "duration": 703,
    "start_time": "2022-02-05T07:22:44.950Z"
   },
   {
    "duration": 700,
    "start_time": "2022-02-05T07:22:44.955Z"
   },
   {
    "duration": 687,
    "start_time": "2022-02-05T07:22:44.970Z"
   },
   {
    "duration": 683,
    "start_time": "2022-02-05T07:22:44.976Z"
   },
   {
    "duration": 678,
    "start_time": "2022-02-05T07:22:44.984Z"
   },
   {
    "duration": 675,
    "start_time": "2022-02-05T07:22:44.989Z"
   },
   {
    "duration": 671,
    "start_time": "2022-02-05T07:22:44.995Z"
   },
   {
    "duration": 666,
    "start_time": "2022-02-05T07:22:45.002Z"
   },
   {
    "duration": 661,
    "start_time": "2022-02-05T07:22:45.009Z"
   },
   {
    "duration": 719,
    "start_time": "2022-02-05T07:22:45.015Z"
   },
   {
    "duration": 714,
    "start_time": "2022-02-05T07:22:45.022Z"
   },
   {
    "duration": 711,
    "start_time": "2022-02-05T07:22:45.027Z"
   },
   {
    "duration": 706,
    "start_time": "2022-02-05T07:22:45.034Z"
   },
   {
    "duration": 704,
    "start_time": "2022-02-05T07:22:45.039Z"
   },
   {
    "duration": 700,
    "start_time": "2022-02-05T07:22:45.045Z"
   },
   {
    "duration": 697,
    "start_time": "2022-02-05T07:22:45.051Z"
   },
   {
    "duration": 693,
    "start_time": "2022-02-05T07:22:45.057Z"
   },
   {
    "duration": 688,
    "start_time": "2022-02-05T07:22:45.064Z"
   },
   {
    "duration": 676,
    "start_time": "2022-02-05T07:22:45.078Z"
   },
   {
    "duration": 672,
    "start_time": "2022-02-05T07:22:45.085Z"
   },
   {
    "duration": 668,
    "start_time": "2022-02-05T07:22:45.091Z"
   },
   {
    "duration": 665,
    "start_time": "2022-02-05T07:22:45.096Z"
   },
   {
    "duration": 657,
    "start_time": "2022-02-05T07:22:45.107Z"
   },
   {
    "duration": 260,
    "start_time": "2022-02-05T07:22:45.506Z"
   },
   {
    "duration": 256,
    "start_time": "2022-02-05T07:22:45.512Z"
   },
   {
    "duration": 252,
    "start_time": "2022-02-05T07:22:45.518Z"
   },
   {
    "duration": 248,
    "start_time": "2022-02-05T07:22:45.524Z"
   },
   {
    "duration": 245,
    "start_time": "2022-02-05T07:22:45.529Z"
   },
   {
    "duration": 297,
    "start_time": "2022-02-05T07:22:45.535Z"
   },
   {
    "duration": 295,
    "start_time": "2022-02-05T07:22:45.540Z"
   },
   {
    "duration": 291,
    "start_time": "2022-02-05T07:22:45.546Z"
   },
   {
    "duration": 288,
    "start_time": "2022-02-05T07:22:45.551Z"
   },
   {
    "duration": 284,
    "start_time": "2022-02-05T07:22:45.557Z"
   },
   {
    "duration": 281,
    "start_time": "2022-02-05T07:22:45.563Z"
   },
   {
    "duration": 277,
    "start_time": "2022-02-05T07:22:45.569Z"
   },
   {
    "duration": 274,
    "start_time": "2022-02-05T07:22:45.574Z"
   },
   {
    "duration": 271,
    "start_time": "2022-02-05T07:22:45.580Z"
   },
   {
    "duration": 267,
    "start_time": "2022-02-05T07:22:45.586Z"
   },
   {
    "duration": 262,
    "start_time": "2022-02-05T07:22:45.593Z"
   },
   {
    "duration": 259,
    "start_time": "2022-02-05T07:22:45.598Z"
   },
   {
    "duration": 255,
    "start_time": "2022-02-05T07:22:45.605Z"
   },
   {
    "duration": 243,
    "start_time": "2022-02-05T07:22:45.619Z"
   },
   {
    "duration": 238,
    "start_time": "2022-02-05T07:22:45.626Z"
   },
   {
    "duration": 233,
    "start_time": "2022-02-05T07:22:45.633Z"
   },
   {
    "duration": 294,
    "start_time": "2022-02-05T07:22:45.638Z"
   },
   {
    "duration": 291,
    "start_time": "2022-02-05T07:22:45.644Z"
   },
   {
    "duration": 287,
    "start_time": "2022-02-05T07:22:45.650Z"
   },
   {
    "duration": 283,
    "start_time": "2022-02-05T07:22:45.656Z"
   },
   {
    "duration": 279,
    "start_time": "2022-02-05T07:22:45.662Z"
   },
   {
    "duration": 276,
    "start_time": "2022-02-05T07:22:45.668Z"
   },
   {
    "duration": 272,
    "start_time": "2022-02-05T07:22:45.674Z"
   },
   {
    "duration": 268,
    "start_time": "2022-02-05T07:22:45.680Z"
   },
   {
    "duration": 265,
    "start_time": "2022-02-05T07:22:45.686Z"
   },
   {
    "duration": 262,
    "start_time": "2022-02-05T07:22:45.691Z"
   },
   {
    "duration": 257,
    "start_time": "2022-02-05T07:22:45.698Z"
   },
   {
    "duration": 254,
    "start_time": "2022-02-05T07:22:45.704Z"
   },
   {
    "duration": 250,
    "start_time": "2022-02-05T07:22:45.710Z"
   },
   {
    "duration": 247,
    "start_time": "2022-02-05T07:22:45.715Z"
   },
   {
    "duration": 236,
    "start_time": "2022-02-05T07:22:45.729Z"
   },
   {
    "duration": 231,
    "start_time": "2022-02-05T07:22:45.736Z"
   },
   {
    "duration": 224,
    "start_time": "2022-02-05T07:22:45.745Z"
   },
   {
    "duration": 222,
    "start_time": "2022-02-05T07:22:45.750Z"
   },
   {
    "duration": 275,
    "start_time": "2022-02-05T07:22:45.756Z"
   },
   {
    "duration": 368,
    "start_time": "2022-02-05T07:22:56.463Z"
   },
   {
    "duration": 30,
    "start_time": "2022-02-05T07:23:48.664Z"
   },
   {
    "duration": 137,
    "start_time": "2022-02-05T07:27:29.321Z"
   },
   {
    "duration": 8,
    "start_time": "2022-02-05T07:54:33.386Z"
   },
   {
    "duration": 11,
    "start_time": "2022-02-05T07:55:00.302Z"
   },
   {
    "duration": 13,
    "start_time": "2022-02-05T08:09:53.404Z"
   },
   {
    "duration": 230,
    "start_time": "2022-02-05T08:09:55.956Z"
   },
   {
    "duration": 243,
    "start_time": "2022-02-05T08:13:45.311Z"
   },
   {
    "duration": 9,
    "start_time": "2022-02-05T08:16:58.701Z"
   },
   {
    "duration": 10,
    "start_time": "2022-02-05T08:17:12.752Z"
   },
   {
    "duration": 10,
    "start_time": "2022-02-05T08:17:33.573Z"
   },
   {
    "duration": 239,
    "start_time": "2022-02-05T08:20:23.789Z"
   },
   {
    "duration": 4,
    "start_time": "2022-02-05T08:21:00.592Z"
   },
   {
    "duration": 29,
    "start_time": "2022-02-05T08:21:20.735Z"
   },
   {
    "duration": 12,
    "start_time": "2022-02-05T08:21:47.520Z"
   },
   {
    "duration": 41,
    "start_time": "2022-02-05T08:21:52.480Z"
   },
   {
    "duration": 20,
    "start_time": "2022-02-05T08:21:54.593Z"
   },
   {
    "duration": 57,
    "start_time": "2022-02-05T08:21:56.447Z"
   },
   {
    "duration": 11,
    "start_time": "2022-02-05T08:22:02.040Z"
   },
   {
    "duration": 25,
    "start_time": "2022-02-05T08:22:03.520Z"
   },
   {
    "duration": 21,
    "start_time": "2022-02-05T08:22:06.671Z"
   },
   {
    "duration": 9,
    "start_time": "2022-02-05T08:22:10.161Z"
   },
   {
    "duration": 27,
    "start_time": "2022-02-05T08:22:12.225Z"
   },
   {
    "duration": 42,
    "start_time": "2022-02-05T08:22:25.826Z"
   },
   {
    "duration": 4,
    "start_time": "2022-02-05T08:22:27.912Z"
   },
   {
    "duration": 19,
    "start_time": "2022-02-05T08:22:30.772Z"
   },
   {
    "duration": 24,
    "start_time": "2022-02-05T08:22:58.767Z"
   },
   {
    "duration": 5,
    "start_time": "2022-02-05T08:23:01.703Z"
   },
   {
    "duration": 35,
    "start_time": "2022-02-05T08:23:06.518Z"
   },
   {
    "duration": 36,
    "start_time": "2022-02-05T08:24:20.193Z"
   },
   {
    "duration": 36,
    "start_time": "2022-02-05T08:24:38.666Z"
   },
   {
    "duration": 37,
    "start_time": "2022-02-05T08:25:12.838Z"
   },
   {
    "duration": 31,
    "start_time": "2022-02-05T08:25:35.601Z"
   },
   {
    "duration": 54,
    "start_time": "2022-02-05T08:25:42.600Z"
   },
   {
    "duration": 4,
    "start_time": "2022-02-05T08:25:44.706Z"
   },
   {
    "duration": 1429,
    "start_time": "2022-02-05T08:25:47.154Z"
   },
   {
    "duration": 42,
    "start_time": "2022-02-05T08:25:52.418Z"
   },
   {
    "duration": 11,
    "start_time": "2022-02-05T08:26:00.332Z"
   },
   {
    "duration": 506,
    "start_time": "2022-02-05T08:26:02.988Z"
   },
   {
    "duration": 610,
    "start_time": "2022-02-05T08:26:08.178Z"
   },
   {
    "duration": 13,
    "start_time": "2022-02-05T08:26:10.802Z"
   },
   {
    "duration": 548,
    "start_time": "2022-02-05T08:26:12.532Z"
   },
   {
    "duration": 14,
    "start_time": "2022-02-05T08:26:18.925Z"
   },
   {
    "duration": 563,
    "start_time": "2022-02-05T08:26:20.827Z"
   },
   {
    "duration": 16,
    "start_time": "2022-02-05T08:26:25.294Z"
   },
   {
    "duration": 324,
    "start_time": "2022-02-05T08:26:27.262Z"
   },
   {
    "duration": 12,
    "start_time": "2022-02-05T08:26:30.415Z"
   },
   {
    "duration": 219,
    "start_time": "2022-02-05T08:26:32.254Z"
   },
   {
    "duration": 19,
    "start_time": "2022-02-05T08:26:41.311Z"
   },
   {
    "duration": 532,
    "start_time": "2022-02-05T08:26:43.408Z"
   },
   {
    "duration": 625,
    "start_time": "2022-02-05T08:26:46.224Z"
   },
   {
    "duration": 21211,
    "start_time": "2022-02-05T08:29:00.360Z"
   },
   {
    "duration": 3,
    "start_time": "2022-02-05T08:30:22.034Z"
   },
   {
    "duration": 259,
    "start_time": "2022-02-05T08:31:44.178Z"
   },
   {
    "duration": 250,
    "start_time": "2022-02-05T08:32:21.431Z"
   },
   {
    "duration": 41,
    "start_time": "2022-02-05T08:32:36.377Z"
   },
   {
    "duration": 1576,
    "start_time": "2022-02-05T08:33:57.471Z"
   },
   {
    "duration": 41,
    "start_time": "2022-02-05T08:33:59.050Z"
   },
   {
    "duration": 3,
    "start_time": "2022-02-05T08:33:59.094Z"
   },
   {
    "duration": 10,
    "start_time": "2022-02-05T08:33:59.100Z"
   },
   {
    "duration": 20,
    "start_time": "2022-02-05T08:33:59.112Z"
   },
   {
    "duration": 9,
    "start_time": "2022-02-05T08:33:59.134Z"
   },
   {
    "duration": 13,
    "start_time": "2022-02-05T08:33:59.145Z"
   },
   {
    "duration": 8,
    "start_time": "2022-02-05T08:33:59.162Z"
   },
   {
    "duration": 8,
    "start_time": "2022-02-05T08:33:59.173Z"
   },
   {
    "duration": 20,
    "start_time": "2022-02-05T08:33:59.183Z"
   },
   {
    "duration": 9,
    "start_time": "2022-02-05T08:33:59.206Z"
   },
   {
    "duration": 8,
    "start_time": "2022-02-05T08:33:59.217Z"
   },
   {
    "duration": 9,
    "start_time": "2022-02-05T08:33:59.233Z"
   },
   {
    "duration": 19,
    "start_time": "2022-02-05T08:33:59.245Z"
   },
   {
    "duration": 8,
    "start_time": "2022-02-05T08:33:59.266Z"
   },
   {
    "duration": 10,
    "start_time": "2022-02-05T08:33:59.276Z"
   },
   {
    "duration": 8,
    "start_time": "2022-02-05T08:33:59.288Z"
   },
   {
    "duration": 12,
    "start_time": "2022-02-05T08:33:59.298Z"
   },
   {
    "duration": 13,
    "start_time": "2022-02-05T08:33:59.312Z"
   },
   {
    "duration": 13,
    "start_time": "2022-02-05T08:33:59.328Z"
   },
   {
    "duration": 7,
    "start_time": "2022-02-05T08:33:59.343Z"
   },
   {
    "duration": 9,
    "start_time": "2022-02-05T08:33:59.352Z"
   },
   {
    "duration": 7,
    "start_time": "2022-02-05T08:33:59.367Z"
   },
   {
    "duration": 9,
    "start_time": "2022-02-05T08:33:59.377Z"
   },
   {
    "duration": 8,
    "start_time": "2022-02-05T08:33:59.389Z"
   },
   {
    "duration": 35,
    "start_time": "2022-02-05T08:33:59.400Z"
   },
   {
    "duration": 13,
    "start_time": "2022-02-05T08:33:59.438Z"
   },
   {
    "duration": 31,
    "start_time": "2022-02-05T08:33:59.453Z"
   },
   {
    "duration": 18,
    "start_time": "2022-02-05T08:33:59.487Z"
   },
   {
    "duration": 130,
    "start_time": "2022-02-05T08:33:59.508Z"
   },
   {
    "duration": 14,
    "start_time": "2022-02-05T08:33:59.641Z"
   },
   {
    "duration": 86,
    "start_time": "2022-02-05T08:33:59.658Z"
   },
   {
    "duration": 30,
    "start_time": "2022-02-05T08:33:59.747Z"
   },
   {
    "duration": 57,
    "start_time": "2022-02-05T08:33:59.780Z"
   },
   {
    "duration": 25,
    "start_time": "2022-02-05T08:33:59.840Z"
   },
   {
    "duration": 103,
    "start_time": "2022-02-05T08:33:59.868Z"
   },
   {
    "duration": 1626,
    "start_time": "2022-02-05T08:34:54.592Z"
   },
   {
    "duration": 42,
    "start_time": "2022-02-05T08:34:56.221Z"
   },
   {
    "duration": 5,
    "start_time": "2022-02-05T08:34:56.266Z"
   },
   {
    "duration": 11,
    "start_time": "2022-02-05T08:34:56.275Z"
   },
   {
    "duration": 44,
    "start_time": "2022-02-05T08:34:56.289Z"
   },
   {
    "duration": 10,
    "start_time": "2022-02-05T08:34:56.336Z"
   },
   {
    "duration": 13,
    "start_time": "2022-02-05T08:34:56.348Z"
   },
   {
    "duration": 9,
    "start_time": "2022-02-05T08:34:56.365Z"
   },
   {
    "duration": 9,
    "start_time": "2022-02-05T08:34:56.376Z"
   },
   {
    "duration": 46,
    "start_time": "2022-02-05T08:34:56.387Z"
   },
   {
    "duration": 10,
    "start_time": "2022-02-05T08:34:56.436Z"
   },
   {
    "duration": 8,
    "start_time": "2022-02-05T08:34:56.449Z"
   },
   {
    "duration": 13,
    "start_time": "2022-02-05T08:34:56.460Z"
   },
   {
    "duration": 15,
    "start_time": "2022-02-05T08:34:56.475Z"
   },
   {
    "duration": 47,
    "start_time": "2022-02-05T08:34:56.492Z"
   },
   {
    "duration": 20,
    "start_time": "2022-02-05T08:34:56.541Z"
   },
   {
    "duration": 8,
    "start_time": "2022-02-05T08:34:56.564Z"
   },
   {
    "duration": 12,
    "start_time": "2022-02-05T08:34:56.574Z"
   },
   {
    "duration": 51,
    "start_time": "2022-02-05T08:34:56.589Z"
   },
   {
    "duration": 11,
    "start_time": "2022-02-05T08:34:56.643Z"
   },
   {
    "duration": 7,
    "start_time": "2022-02-05T08:34:56.656Z"
   },
   {
    "duration": 11,
    "start_time": "2022-02-05T08:34:56.666Z"
   },
   {
    "duration": 48,
    "start_time": "2022-02-05T08:34:56.685Z"
   },
   {
    "duration": 9,
    "start_time": "2022-02-05T08:34:56.737Z"
   },
   {
    "duration": 9,
    "start_time": "2022-02-05T08:34:56.748Z"
   },
   {
    "duration": 26,
    "start_time": "2022-02-05T08:34:56.759Z"
   },
   {
    "duration": 52,
    "start_time": "2022-02-05T08:34:56.787Z"
   },
   {
    "duration": 35,
    "start_time": "2022-02-05T08:34:56.841Z"
   },
   {
    "duration": 20,
    "start_time": "2022-02-05T08:34:56.878Z"
   },
   {
    "duration": 65,
    "start_time": "2022-02-05T08:34:56.901Z"
   },
   {
    "duration": 9,
    "start_time": "2022-02-05T08:34:56.969Z"
   },
   {
    "duration": 64,
    "start_time": "2022-02-05T08:34:56.981Z"
   },
   {
    "duration": 20,
    "start_time": "2022-02-05T08:34:57.047Z"
   },
   {
    "duration": 64,
    "start_time": "2022-02-05T08:34:57.069Z"
   },
   {
    "duration": 21,
    "start_time": "2022-02-05T08:34:57.135Z"
   },
   {
    "duration": 86,
    "start_time": "2022-02-05T08:34:57.158Z"
   },
   {
    "duration": 1535,
    "start_time": "2022-02-05T08:36:12.281Z"
   },
   {
    "duration": 49,
    "start_time": "2022-02-05T08:36:13.818Z"
   },
   {
    "duration": 4,
    "start_time": "2022-02-05T08:36:13.869Z"
   },
   {
    "duration": 12,
    "start_time": "2022-02-05T08:36:13.876Z"
   },
   {
    "duration": 9,
    "start_time": "2022-02-05T08:36:13.891Z"
   },
   {
    "duration": 10,
    "start_time": "2022-02-05T08:36:13.933Z"
   },
   {
    "duration": 12,
    "start_time": "2022-02-05T08:36:13.945Z"
   },
   {
    "duration": 8,
    "start_time": "2022-02-05T08:36:13.961Z"
   },
   {
    "duration": 9,
    "start_time": "2022-02-05T08:36:13.971Z"
   },
   {
    "duration": 53,
    "start_time": "2022-02-05T08:36:13.983Z"
   },
   {
    "duration": 9,
    "start_time": "2022-02-05T08:36:14.038Z"
   },
   {
    "duration": 8,
    "start_time": "2022-02-05T08:36:14.049Z"
   },
   {
    "duration": 17,
    "start_time": "2022-02-05T08:36:14.059Z"
   },
   {
    "duration": 14,
    "start_time": "2022-02-05T08:36:14.078Z"
   },
   {
    "duration": 41,
    "start_time": "2022-02-05T08:36:14.094Z"
   },
   {
    "duration": 10,
    "start_time": "2022-02-05T08:36:14.138Z"
   },
   {
    "duration": 8,
    "start_time": "2022-02-05T08:36:14.151Z"
   },
   {
    "duration": 11,
    "start_time": "2022-02-05T08:36:14.160Z"
   },
   {
    "duration": 12,
    "start_time": "2022-02-05T08:36:14.173Z"
   },
   {
    "duration": 10,
    "start_time": "2022-02-05T08:36:14.232Z"
   },
   {
    "duration": 8,
    "start_time": "2022-02-05T08:36:14.244Z"
   },
   {
    "duration": 11,
    "start_time": "2022-02-05T08:36:14.254Z"
   },
   {
    "duration": 8,
    "start_time": "2022-02-05T08:36:14.271Z"
   },
   {
    "duration": 53,
    "start_time": "2022-02-05T08:36:14.282Z"
   },
   {
    "duration": 9,
    "start_time": "2022-02-05T08:36:14.338Z"
   },
   {
    "duration": 26,
    "start_time": "2022-02-05T08:36:14.349Z"
   },
   {
    "duration": 15,
    "start_time": "2022-02-05T08:36:14.377Z"
   },
   {
    "duration": 70,
    "start_time": "2022-02-05T08:36:14.394Z"
   },
   {
    "duration": 20,
    "start_time": "2022-02-05T08:36:14.466Z"
   },
   {
    "duration": 70,
    "start_time": "2022-02-05T08:36:14.489Z"
   },
   {
    "duration": 12,
    "start_time": "2022-02-05T08:36:14.562Z"
   },
   {
    "duration": 60,
    "start_time": "2022-02-05T08:36:14.577Z"
   },
   {
    "duration": 20,
    "start_time": "2022-02-05T08:36:14.640Z"
   },
   {
    "duration": 7,
    "start_time": "2022-02-05T08:36:14.662Z"
   },
   {
    "duration": 25,
    "start_time": "2022-02-05T08:36:14.671Z"
   },
   {
    "duration": 57,
    "start_time": "2022-02-05T08:36:14.698Z"
   },
   {
    "duration": 359658,
    "start_time": "2022-02-05T08:36:14.757Z"
   },
   {
    "duration": 16,
    "start_time": "2022-02-05T08:42:14.417Z"
   },
   {
    "duration": 11,
    "start_time": "2022-02-05T08:42:14.436Z"
   },
   {
    "duration": 44,
    "start_time": "2022-02-05T08:42:14.449Z"
   },
   {
    "duration": 4,
    "start_time": "2022-02-05T08:42:14.495Z"
   },
   {
    "duration": 19,
    "start_time": "2022-02-05T08:42:14.532Z"
   },
   {
    "duration": 23,
    "start_time": "2022-02-05T08:42:14.553Z"
   },
   {
    "duration": 12,
    "start_time": "2022-02-05T08:42:14.578Z"
   },
   {
    "duration": 55,
    "start_time": "2022-02-05T08:42:14.593Z"
   },
   {
    "duration": 53,
    "start_time": "2022-02-05T08:42:14.650Z"
   },
   {
    "duration": 4,
    "start_time": "2022-02-05T08:42:14.706Z"
   },
   {
    "duration": 806,
    "start_time": "2022-02-05T08:42:14.732Z"
   },
   {
    "duration": 40,
    "start_time": "2022-02-05T08:42:15.541Z"
   },
   {
    "duration": 11,
    "start_time": "2022-02-05T08:42:15.584Z"
   },
   {
    "duration": 564,
    "start_time": "2022-02-05T08:42:15.597Z"
   },
   {
    "duration": 568,
    "start_time": "2022-02-05T08:42:16.163Z"
   },
   {
    "duration": 11,
    "start_time": "2022-02-05T08:42:16.733Z"
   },
   {
    "duration": 545,
    "start_time": "2022-02-05T08:42:16.747Z"
   },
   {
    "duration": 10,
    "start_time": "2022-02-05T08:42:17.294Z"
   },
   {
    "duration": 393,
    "start_time": "2022-02-05T08:42:17.307Z"
   },
   {
    "duration": 11,
    "start_time": "2022-02-05T08:42:17.703Z"
   },
   {
    "duration": 363,
    "start_time": "2022-02-05T08:42:17.717Z"
   },
   {
    "duration": 11,
    "start_time": "2022-02-05T08:42:18.082Z"
   },
   {
    "duration": 237,
    "start_time": "2022-02-05T08:42:18.095Z"
   },
   {
    "duration": 18,
    "start_time": "2022-02-05T08:42:18.334Z"
   },
   {
    "duration": 543,
    "start_time": "2022-02-05T08:42:18.354Z"
   },
   {
    "duration": 519,
    "start_time": "2022-02-05T08:42:18.900Z"
   },
   {
    "duration": 18,
    "start_time": "2022-02-05T08:42:19.421Z"
   },
   {
    "duration": 242,
    "start_time": "2022-02-05T08:42:19.441Z"
   },
   {
    "duration": 12,
    "start_time": "2022-02-05T08:42:19.686Z"
   },
   {
    "duration": 47,
    "start_time": "2022-02-05T08:42:19.700Z"
   },
   {
    "duration": 569,
    "start_time": "2022-02-05T08:42:19.758Z"
   },
   {
    "duration": 14,
    "start_time": "2022-02-05T08:42:20.335Z"
   },
   {
    "duration": 327,
    "start_time": "2022-02-05T08:42:20.351Z"
   },
   {
    "duration": 5,
    "start_time": "2022-02-05T08:42:20.680Z"
   },
   {
    "duration": 27,
    "start_time": "2022-02-05T08:42:20.687Z"
   },
   {
    "duration": 573,
    "start_time": "2022-02-05T08:42:20.716Z"
   },
   {
    "duration": 10,
    "start_time": "2022-02-05T08:42:21.292Z"
   },
   {
    "duration": 227,
    "start_time": "2022-02-05T08:42:21.305Z"
   },
   {
    "duration": 5,
    "start_time": "2022-02-05T08:42:21.534Z"
   },
   {
    "duration": 29,
    "start_time": "2022-02-05T08:42:21.541Z"
   },
   {
    "duration": 412,
    "start_time": "2022-02-05T08:42:21.572Z"
   },
   {
    "duration": 25,
    "start_time": "2022-02-05T08:42:21.987Z"
   },
   {
    "duration": 8,
    "start_time": "2022-02-05T08:42:22.033Z"
   },
   {
    "duration": 404,
    "start_time": "2022-02-05T08:42:22.044Z"
   },
   {
    "duration": 8,
    "start_time": "2022-02-05T08:42:22.451Z"
   },
   {
    "duration": 284,
    "start_time": "2022-02-05T08:42:22.462Z"
   },
   {
    "duration": 9,
    "start_time": "2022-02-05T08:42:22.749Z"
   },
   {
    "duration": 393,
    "start_time": "2022-02-05T08:42:22.761Z"
   },
   {
    "duration": 15,
    "start_time": "2022-02-05T08:42:23.157Z"
   },
   {
    "duration": 243,
    "start_time": "2022-02-05T08:42:23.176Z"
   },
   {
    "duration": 11,
    "start_time": "2022-02-05T08:42:23.421Z"
   },
   {
    "duration": 263,
    "start_time": "2022-02-05T08:42:23.434Z"
   },
   {
    "duration": 6,
    "start_time": "2022-02-05T08:42:23.699Z"
   },
   {
    "duration": 392,
    "start_time": "2022-02-05T08:42:23.708Z"
   },
   {
    "duration": 9,
    "start_time": "2022-02-05T08:42:24.103Z"
   },
   {
    "duration": 279,
    "start_time": "2022-02-05T08:42:24.131Z"
   },
   {
    "duration": 29,
    "start_time": "2022-02-05T08:42:24.412Z"
   },
   {
    "duration": 36,
    "start_time": "2022-02-05T08:42:24.443Z"
   },
   {
    "duration": 10,
    "start_time": "2022-02-05T08:42:24.482Z"
   },
   {
    "duration": 76,
    "start_time": "2022-02-05T08:42:24.494Z"
   },
   {
    "duration": 36,
    "start_time": "2022-02-05T08:42:24.573Z"
   },
   {
    "duration": 332,
    "start_time": "2022-02-05T08:42:24.611Z"
   },
   {
    "duration": 274,
    "start_time": "2022-02-05T08:42:24.945Z"
   },
   {
    "duration": 47,
    "start_time": "2022-02-05T08:42:25.222Z"
   },
   {
    "duration": 12,
    "start_time": "2022-02-05T08:42:25.272Z"
   },
   {
    "duration": 409,
    "start_time": "2022-02-05T08:42:25.287Z"
   },
   {
    "duration": 12,
    "start_time": "2022-02-05T08:42:25.700Z"
   },
   {
    "duration": 424,
    "start_time": "2022-02-05T08:42:25.715Z"
   },
   {
    "duration": 13,
    "start_time": "2022-02-05T08:42:26.142Z"
   },
   {
    "duration": 359,
    "start_time": "2022-02-05T08:42:26.158Z"
   },
   {
    "duration": 19,
    "start_time": "2022-02-05T08:42:26.520Z"
   },
   {
    "duration": 385,
    "start_time": "2022-02-05T08:42:26.542Z"
   },
   {
    "duration": 13,
    "start_time": "2022-02-05T08:42:26.933Z"
   },
   {
    "duration": 15,
    "start_time": "2022-02-05T08:42:26.948Z"
   },
   {
    "duration": 878,
    "start_time": "2022-02-05T08:42:26.966Z"
   },
   {
    "duration": 306,
    "start_time": "2022-02-05T08:42:27.847Z"
   },
   {
    "duration": 334,
    "start_time": "2022-02-05T08:42:28.155Z"
   },
   {
    "duration": 359,
    "start_time": "2022-02-05T08:42:28.492Z"
   },
   {
    "duration": 325,
    "start_time": "2022-02-05T08:42:28.853Z"
   },
   {
    "duration": 555,
    "start_time": "2022-02-05T08:46:54.136Z"
   },
   {
    "duration": 888,
    "start_time": "2022-02-05T08:48:49.116Z"
   },
   {
    "duration": 4082,
    "start_time": "2022-02-05T08:48:58.894Z"
   },
   {
    "duration": 6179,
    "start_time": "2022-02-05T08:49:58.121Z"
   },
   {
    "duration": 5,
    "start_time": "2022-02-05T08:51:47.464Z"
   },
   {
    "duration": 9,
    "start_time": "2022-02-05T08:53:56.071Z"
   },
   {
    "duration": 12,
    "start_time": "2022-02-05T08:55:27.522Z"
   },
   {
    "duration": 10,
    "start_time": "2022-02-05T08:55:33.289Z"
   },
   {
    "duration": 11,
    "start_time": "2022-02-05T08:55:50.045Z"
   },
   {
    "duration": 10,
    "start_time": "2022-02-05T08:55:54.468Z"
   },
   {
    "duration": 21,
    "start_time": "2022-02-05T09:00:12.098Z"
   },
   {
    "duration": 385,
    "start_time": "2022-02-05T09:00:21.090Z"
   },
   {
    "duration": 410,
    "start_time": "2022-02-05T09:00:28.876Z"
   },
   {
    "duration": 380,
    "start_time": "2022-02-05T09:01:27.516Z"
   },
   {
    "duration": 402,
    "start_time": "2022-02-05T09:01:34.004Z"
   },
   {
    "duration": 366,
    "start_time": "2022-02-05T09:02:20.042Z"
   },
   {
    "duration": 23,
    "start_time": "2022-02-05T09:02:25.450Z"
   },
   {
    "duration": 26,
    "start_time": "2022-02-05T09:02:29.746Z"
   },
   {
    "duration": 237,
    "start_time": "2022-02-05T09:09:05.042Z"
   },
   {
    "duration": 13,
    "start_time": "2022-02-05T09:09:10.232Z"
   },
   {
    "duration": 248,
    "start_time": "2022-02-05T09:09:48.725Z"
   },
   {
    "duration": 8,
    "start_time": "2022-02-05T09:10:02.584Z"
   },
   {
    "duration": 7,
    "start_time": "2022-02-05T09:11:08.688Z"
   },
   {
    "duration": 7,
    "start_time": "2022-02-05T09:11:18.176Z"
   },
   {
    "duration": 7,
    "start_time": "2022-02-05T09:11:30.568Z"
   },
   {
    "duration": 7,
    "start_time": "2022-02-05T09:12:41.313Z"
   }
  ],
  "kernelspec": {
   "display_name": "Python 3 (ipykernel)",
   "language": "python",
   "name": "python3"
  },
  "language_info": {
   "codemirror_mode": {
    "name": "ipython",
    "version": 3
   },
   "file_extension": ".py",
   "mimetype": "text/x-python",
   "name": "python",
   "nbconvert_exporter": "python",
   "pygments_lexer": "ipython3",
   "version": "3.9.5"
  },
  "toc": {
   "base_numbering": 1,
   "nav_menu": {},
   "number_sections": true,
   "sideBar": true,
   "skip_h1_title": true,
   "title_cell": "Содержание",
   "title_sidebar": "Contents",
   "toc_cell": true,
   "toc_position": {
    "height": "calc(100% - 180px)",
    "left": "10px",
    "top": "150px",
    "width": "255.594px"
   },
   "toc_section_display": true,
   "toc_window_display": true
  }
 },
 "nbformat": 4,
 "nbformat_minor": 2
}
